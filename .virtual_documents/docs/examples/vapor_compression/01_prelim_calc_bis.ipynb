from hvac import Quantity
from hvac.fluids import HumidAir, Fluid, CP_HUMID_AIR
from hvac.logging import ModuleLogger


logger = ModuleLogger.get_logger('hvac.fluids.fluid')
logger.setLevel(ModuleLogger.ERROR)


Q_ = Quantity


R134a = Fluid('R134a')


evp_air_in = HumidAir(Tdb=Q_(24, 'degC'), RH=Q_(50, 'pct'))
evp_air_out = HumidAir(Tdb=Q_(13, 'degC'), RH=Q_(90, 'pct'))


evp_m_dot_air = Q_(1500, 'kg/hr')


Q_evp = evp_m_dot_air * (evp_air_in.h - evp_air_out.h)
print(f"{Q_evp.to('kW'):~P.3f}")


T_evp = Q_(5, 'degC')


evp_rfg_sat_vap = R134a(T=T_evp, x=Q_(1.0, 'frac'))
P_evp = evp_rfg_sat_vap.P
print(f"evaporation pressure = {P_evp.to('bar'):~P.3f}")


T_cnd = Q_(50, 'degC')


cnd_rfg_sat_liq = R134a(T=T_cnd, x=Q_(0.0, 'frac'))
P_cnd = cnd_rfg_sat_liq.P
print(f"condensing pressure = {P_cnd.to('bar'):~P.3f}")


dT_sh = Q_(10, 'K')


dT_sc = Q_(10, 'K')


evp_rfg_out = R134a(T=T_evp.to('K') + dT_sh, P=P_evp)


cnd_rfg_out = R134a(T=T_cnd.to('K') - dT_sc, P=P_cnd)


evp_rfg_in = R134a(h=cnd_rfg_out.h, P=P_evp)
print(f"vapor quality of entering refrigerant to evaporator = {evp_rfg_in.x.to('frac'):~P.2f}")


m_dot_rfg = Q_evp / (evp_rfg_out.h - evp_rfg_in.h)
print(f"mass flow rate of refrigerant = {m_dot_rfg.to('kg/hr'):~P.3f}")


T_dis = Q_(84.5, 'degC')
cnd_rfg_in = R134a(T=T_dis, P=P_cnd)
Q_cnd = m_dot_rfg * (cnd_rfg_in.h - cnd_rfg_out.h)
print(f"heat rejection rate (based on discharge temperature) = {Q_cnd.to('kW'):~P.3f}")


_Q_cnd = Q_evp + Q_(2.119, 'kW')
print(f"heat rejection rate (based on compressor power) = {_Q_cnd.to('kW'):~P.3f}")


cnd_dT_air = Q_(10, 'K')
cnd_T_air_in = Q_(35, 'degC')
cnd_air_in = HumidAir(Tdb=cnd_T_air_in, RH=Q_(30, 'pct'))

cnd_T_air_out = cnd_T_air_in.to('K') + cnd_dT_air
cnd_air_out = HumidAir(Tdb=cnd_T_air_out, W=cnd_air_in.W)

cnd_m_dot_air = Q_cnd / (CP_HUMID_AIR * (cnd_T_air_out - cnd_T_air_in))
print(f"mass flow rate of air through condenser = {cnd_m_dot_air.to('kg / hr'):~P.3f}")


print(
    f"refrigerant in: {evp_rfg_in.T.to('degC'):~P.2f}, {evp_rfg_in.x.to('frac'):~P.2f}\n"
    f"air in: {evp_air_in.Tdb.to('degC'):~P.2f}, {evp_air_in.RH.to('pct'):~P.2f}\n"
    f"mass flow rate of air: {evp_m_dot_air.to('kg / hr'):~P.3f}\n"
    f"mass flow rate of refrigerant: {m_dot_rfg.to('kg / hr'):~P.3f}"
)


print(
    f"refrigerant in: {cnd_rfg_in.T.to('degC'):~P.2f}, {cnd_rfg_in.P.to('bar'):~P.3f}\n"
    f"air in: {cnd_air_in.Tdb.to('degC'):~P.2f}, {cnd_air_in.RH.to('pct'):~P.2f}\n"
    f"mass flow rate of air: {cnd_m_dot_air.to('kg / hr'):~P.3f}"
)



