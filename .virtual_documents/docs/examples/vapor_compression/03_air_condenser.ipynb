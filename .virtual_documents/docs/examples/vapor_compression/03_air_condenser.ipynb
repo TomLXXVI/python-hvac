from hvac import Quantity
from hvac.fluids import HumidAir, Fluid
from hvac.logging import ModuleLogger


logger = ModuleLogger.get_logger('hvac.fluids.fluid')
logger.setLevel(ModuleLogger.ERROR)


Q_ = Quantity


import hvac.heat_transfer.heat_exchanger.fin_tube.air_condenser.rating as rating


R134a = Fluid('R134a')


Condenser = rating.PFT_CO_CND


condenser = Condenser(
    L1=Q_(0.778, 'm'),
    L3=Q_(0.389, 'm'),
    N_r=7,
    S_t=Q_(25.4, 'mm'),         # vertical distance between tubes
    S_l=Q_(22.0, 'mm'),         # horizontal distance between tubes
    D_i=Q_(8.422, 'mm'),        # inner tube diameter
    D_o=Q_(10.2, 'mm'),         # outer tube diameter
    t_f=Q_(0.3302, 'mm'),       # fin thickness
    N_f=1 / Q_(3.175, 'mm'),    # fin density
    k_f=Q_(237, 'W / (m * K)')  # conductivity of fin material
)


r = condenser(
    m_dot_air=Q_(2670.426, 'kg / hr'),
    m_dot_rfg=Q_(166.456, 'kg / hr'),
    air_in=HumidAir(Tdb=Q_(35.0, 'degC'), RH=Q_(30, 'pct')),
    rfg_in=R134a(T=Q_(84.50, 'degC'), P=Q_(13.179, 'bar'))
)


print(
    f"air out = {r.air_out.Tdb.to('degC'):~P.1f} DB, "
    f"{r.air_out.RH.to('pct'):~P.0f} RH\n"
    f"refrigerant out = {r.rfg_out.T.to('degC'):~P.1f}\n"
    f"degree of subcooling = {r.dT_sc.to('K'):~P.2f}\n"
    f"heat rejection rate = {r.Q.to('kW'):~P.3f}\n"
    f"L2 desuperheating = {r.L2_desuperheating.to('mm'):~P.0f}\n"
    f"L2 condensing = {r.L2_condensing.to('mm'):~P.0f}\n"
    f"L2 subcooling = {r.L2_subcooling.to('mm'):~P.0f}\n"
    f"air-side pressure drop = {r.dP_air.to('Pa'):~P.3f}"
)



