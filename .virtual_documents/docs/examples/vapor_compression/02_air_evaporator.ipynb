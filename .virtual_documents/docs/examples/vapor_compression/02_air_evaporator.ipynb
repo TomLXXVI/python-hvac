from hvac import Quantity
from hvac.fluids import HumidAir, Fluid
from hvac.logging import ModuleLogger


logger = ModuleLogger.get_logger('hvac.fluids.fluid')
logger.setLevel(ModuleLogger.ERROR)


Q_ = Quantity


import hvac.heat_transfer.heat_exchanger.fin_tube.air_evaporator.rating as rating


R134a = Fluid('R134a')


Evaporator = rating.PFT_CO_EVP


evp = Evaporator(
    L1=Q_(0.844, 'm'),          # width of frontal area
    L3=Q_(0.211, 'm'),          # height of frontal area
    N_r=3,                      # number of rows
    S_t=Q_(25.4, 'mm'),         # vertical distance between tubes
    S_l=Q_(22.0, 'mm'),         # horizontal distance between tubes
    D_i=Q_(8.422, 'mm'),        # inner tube diameter
    D_o=Q_(10.2, 'mm'),         # outer tube diameter
    t_f=Q_(0.3302, 'mm'),       # fin thickness
    N_f=1 / Q_(3.175, 'mm'),    # fin density
    k_f=Q_(237, 'W / (m * K)')  # conductivity of fin material
)


r = evp(
    air_in=HumidAir(Tdb=Q_(24, 'degC'), RH=Q_(50, 'pct')),
    m_dot_air=Q_(1500, 'kg / hr'),
    rfg_in=R134a(T=Q_(5.00, 'degC'), x=Q_(0.25, 'frac')),
    dT_rfg_sh=Q_(10, 'K'),
    m_dot_rfg_ini=Q_(132.023, 'kg / hr'),
    tol_m_dot_rfg=Q_(0.01, 'kg / s')
)


print(
    f"m_dot_rfg = {r.m_dot_rfg.to('kg / hr'):~P.3f}\n"
    f"air_out: {r.air_out.Tdb.to('degC'):~P.1f} DB, "
    f"{r.air_out.RH.to('pct'):~P.0f} RH\n"
    f"Q = {r.Q.to('kW'):~P.3f}\n"
    f"dP_air = {r.dP_air.to('Pa'):~P.0f}\n"
    f"superheating flow length = {r.L2_superheat.to('mm'):~P.0f}"
)



