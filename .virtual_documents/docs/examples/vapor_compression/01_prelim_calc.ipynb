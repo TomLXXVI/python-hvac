from hvac import Quantity
from hvac.fluids import HumidAir, Fluid, CP_HUMID_AIR
from hvac.logging import ModuleLogger


logger = ModuleLogger.get_logger('hvac.fluids.fluid')
logger.setLevel(ModuleLogger.ERROR)


Q_ = Quantity


R134a = Fluid('R134a')


evp_air_in = HumidAir(Tdb=Q_(24, 'degC'), RH=Q_(50, 'pct'))
evp_air_out = HumidAir(Tdb=Q_(13, 'degC'), RH=Q_(90, 'pct'))


evp_m_dot_air = Q_(1500, 'kg/hr')


evp_Q = evp_m_dot_air * (evp_air_in.h - evp_air_out.h)
print(f"{evp_Q.to('kW'):~P.3f}")


evp_eps = 0.8


evp_Q_max = evp_Q / evp_eps
print(f"{evp_Q_max.to('kW'):~P.3f}")


evp_h_air_sat_out = evp_air_in.h - evp_Q_max / evp_m_dot_air


evp_air_sat_out = HumidAir(h=evp_h_air_sat_out, RH=Q_(100, 'pct'))


evp_T_rfg_in = evp_air_sat_out.Tdb
print(f"{evp_T_rfg_in.to('degC'):~P.2f}")


evp_rfg_sat_liq = R134a(T=evp_T_rfg_in, x=Q_(0.0, 'pct'))


print(f"{evp_rfg_sat_liq.P.to('bar'):~P.1f}")


T_outdoor = Q_(35, 'degC')


dT_cnd = Q_(20, 'K')


cnd_T_rfg_sat = T_outdoor.to('K') + dT_cnd
print(f"{cnd_T_rfg_sat.to('degC'):~P.2f}")


cnd_rfg_sat_liq = R134a(T=cnd_T_rfg_sat, x=Q_(0.0, 'frac'))


print(f"{cnd_rfg_sat_liq.P.to('bar'):~P.1f}")


dT_sc, dT_sh = Q_(10, 'K'), Q_(10, 'K')


cnd_rfg_out = R134a(T=cnd_rfg_sat_liq.T - dT_sc, P=cnd_rfg_sat_liq.P)
evp_rfg_in = R134a(h=cnd_rfg_out.h, P=evp_rfg_sat_liq.P)
evp_rfg_out = R134a(T=evp_rfg_sat_liq.T + dT_sh, P=evp_rfg_sat_liq.P)


m_dot_rfg = evp_Q / (evp_rfg_out.h - evp_rfg_in.h)
print(f"{m_dot_rfg.to('kg / hr'):~P.3f}")


cnd_rfg_in = R134a(P=cnd_rfg_sat_liq.P, s=evp_rfg_out.s)


print(f"{cnd_rfg_in.T.to('degC'):~P.2f}")


eta_cmp = 0.70


W_cmp_is = m_dot_rfg * (cnd_rfg_in.h - evp_rfg_out.h)
print(f"{W_cmp_is.to('kW'):~P.3f}")


W_cmp_act = W_cmp_is / eta_cmp
print(f"{W_cmp_act.to('kW'):~P.3f}")


cnd_h_rfg_in = evp_rfg_out.h + W_cmp_act / m_dot_rfg


cnd_rfg_in = R134a(P=cnd_rfg_sat_liq.P, h=cnd_h_rfg_in)


print(f"{cnd_rfg_in.T.to('degC'):~P.2f}")


cnd_Q = evp_Q + W_cmp_act
print(f"{cnd_Q.to('kW'):~P.3f}")


cnd_dT_air = Q_(10, 'K')


cnd_T_air_out = T_outdoor.to('K') + cnd_dT_air


cnd_m_dot_air = cnd_Q / (CP_HUMID_AIR * cnd_dT_air)
print(cnd_m_dot_air.to('kg / hr'))


evp_v_fa = Q_(2, 'm / s')


evp_V_dot_air = evp_m_dot_air / evp_air_in.rho
print(f"{evp_V_dot_air.to('m ** 3 / hr'):~P.3f}")


evp_A_fr = evp_V_dot_air / evp_v_fa
print(f"{evp_A_fr.to('m ** 2'):~P.3f}")


evp_AR_A_fr = 1 / 4


evp_L1 = (evp_A_fr / evp_AR_A_fr) ** 0.5
print(f"{evp_L1.to('mm'):~P.0f}")


evp_L3 = evp_AR_A_fr * evp_L1
print(f"{evp_L3.to('mm'):~P.0f}")


cnd_v_fa = Q_(2, 'm / s')


cnd_air_in = HumidAir(Tdb=T_outdoor, RH=Q_(30, 'pct'))


cnd_V_dot_air = cnd_m_dot_air / cnd_air_in.rho
print(f"{cnd_V_dot_air.to('m ** 3 / hr'):~P.3f}")


cnd_A_fr = cnd_V_dot_air / cnd_v_fa
print(f"{cnd_A_fr.to('m ** 2'):~P.3f}")


cnd_AR_A_fr = 1 / 2


cnd_L1 = (cnd_A_fr / cnd_AR_A_fr) ** 0.5
print(f"{cnd_L1.to('mm'):~P.0f}")


cnd_L3 = cnd_AR_A_fr * cnd_L1
print(f"{cnd_L3.to('mm'):~P.0f}")


print(
    f"mass flow rate of air = {evp_m_dot_air.to('kg / hr'):~P.3f}\n"
    f"mass flow rate of refrigerant = {m_dot_rfg.to('kg / hr'):~P.3f}\n"
    f"inlet air = {evp_air_in.Tdb.to('degC'):~P.2f} DB, "
    f"{evp_air_in.W.to('g / kg'):~P.3f}\n"
    f"outlet air = {evp_air_out.Tdb.to('degC'):~P.2f} DB, "
    f"{evp_air_out.W.to('g / kg'):~P.3f}\n"
    f"inlet refrigerant = {evp_rfg_in.T.to('degC'):~P.2f}, "
    f"vapor quality {evp_rfg_in.x.to('frac'):~P.2f}\n"
    f"outlet refrigerant = {evp_rfg_out.T.to('degC'):~P.2f}\n"
    f"evaporation pressure = {evp_rfg_sat_liq.P.to('bar'):~P.2f}\n"
    f"frontal area width L1 = {evp_L1.to('mm'):~P.0f}\n"
    f"frontal area height L3 = {evp_L3.to('mm'):~P.0f}"
)


print(
    f"mass flow rate of air = {cnd_m_dot_air.to('kg / hr'):~P.3f}\n"
    f"mass flow rate of refrigerant = {m_dot_rfg.to('kg / hr'):~P.3f}\n"
    f"inlet air = {T_outdoor.to('degC'):~P.2f} DB\n"
    f"outlet air = {cnd_T_air_out.to('degC'):~P.2f}\n"
    f"inlet refrigerant = {cnd_rfg_in.T.to('degC'):~P.2f}\n"
    f"outlet refrigerant = {cnd_rfg_out.T.to('degC'):~P.2f}\n"
    f"condensation pressure = {cnd_rfg_sat_liq.P.to('bar'):~P.2f}\n"
    f"frontal area width L1 = {cnd_L1.to('mm'):~P.0f}\n"
    f"frontal area height L3 = {cnd_L3.to('mm'):~P.0f}"
)



