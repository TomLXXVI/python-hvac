{
 "cells": [
  {
   "cell_type": "markdown",
   "id": "53d0fd88-ac72-4a2c-83b8-6b6d7f4cbd00",
   "metadata": {},
   "source": [
    "# Sizing the Air-to-Water Cooling Coil of a Multi-Zone VAV System"
   ]
  },
  {
   "cell_type": "markdown",
   "id": "62b659083ac34d4a",
   "metadata": {},
   "source": [
    "Let's consider a building having two separately controlled temperature zones. Let's assume that we already did the cooling and heating load calculations of the building. Now, we need to design the VAV system. We do this here only for peak summer design conditions. After the required cooling coil capacity has been determined, we can size the air-to-water cooling coil.\n",
    "\n",
    "We use the class `VAVSystem` in `hvac.air_conditioning.multi_zone.design` for doing the design calculations of the VAV system. To organize our programming code, we configure the VAV system and run the design calculations in a separate class. Through a method of this class, we then retrieve the cooling coil requirements.\n",
    "\n",
    "Once we have the cooling coil requirements at our disposal, we choose the entering and the leaving water temperature to determine the required mass flow rate of water through the cooling coil.\n",
    " \n",
    "We know, or we already have selected the heat exchanger core geometry for the cooling coil, but we still need to determine the face area dimensions and the number of rows of the cooling coil. To determine the cooling coil's face width and height, we select the face velocity of the air entering the cooling coil. We also choose a number of rows. Now, the air-to-water cooling coil is completely configured. Let's assume that we can model the air-cooling coil with the class `PlainFinTubeAirToWaterCounterFlowHeatExchanger` in `hvac.heat_exchanger.fintube.continuous_fin` as a plain fin-tube heat exchanger in a counterflow arrangement. Once we have the model of our air-cooling coil, we can set its operating conditions and then retrieve its calculated performance. Finally, we must check if the calculated available cooling capacity of the configured cooling coil matches with the required cooling capacity. If not, we can alter the parameters we selected ourselves, or maybe we will need to select another heat exchanger core geometry. "
   ]
  },
  {
   "cell_type": "markdown",
   "id": "99c6c7adc22c7a29",
   "metadata": {},
   "source": [
    "First, we import all the things we'll need:"
   ]
  },
  {
   "cell_type": "code",
   "execution_count": 1,
   "id": "e9cfda4104a964b7",
   "metadata": {
    "collapsed": false,
    "ExecuteTime": {
     "end_time": "2023-12-07T11:30:52.995411600Z",
     "start_time": "2023-12-07T11:30:51.385163700Z"
    }
   },
   "outputs": [
    {
     "name": "stderr",
     "output_type": "stream",
     "text": [
      "C:\\Users\\Tom\\PycharmProjects\\python-hvac\\hvac\\fluids\\fluid.py:244: CoolPropWarning: CoolProp could not solve for quantity 'sigma: surface tension is only defined within the two-phase region; Try PQ or QT inputs'\n",
      "  warnings.warn(\n"
     ]
    }
   ],
   "source": [
    "from hvac import Quantity\n",
    "from hvac.fluids import HumidAir, Fluid\n",
    "from hvac.air_conditioning.multi_zone import Zone, Season\n",
    "from hvac.air_conditioning.multi_zone.design import VAVSystem\n",
    "from hvac.heat_exchanger.recuperator.fintube.continuous_fin import (\n",
    "    PlainFinTubeAirToWaterCounterFlowHeatExchanger as AirCoil\n",
    ")\n",
    "\n",
    "Q_ = Quantity\n",
    "Water = Fluid('Water')"
   ]
  },
  {
   "cell_type": "markdown",
   "id": "75ce6084c9f7e288",
   "metadata": {},
   "source": [
    "## VAV System Design and Cooling Coil Requirements"
   ]
  },
  {
   "cell_type": "markdown",
   "id": "7d8d33d9484bd1d7",
   "metadata": {},
   "source": [
    "We define an encapsulating class `AirConditioningSystem` for doing the design calculations of the VAV system inside this class. We configure the building zones as attributes of this class. On instantiation of the class, we create a `VAVSystem` instance and directly call its method `design_summer()`. Through the method `get_cooling_coil_requirements()` of the encapsulating class `AirConditioningSystem` we return a dictionary with all the information that is needed to size the cooling coil."
   ]
  },
  {
   "cell_type": "code",
   "execution_count": 2,
   "id": "b698975aa7da7dae",
   "metadata": {
    "collapsed": false,
    "ExecuteTime": {
     "end_time": "2023-12-07T11:30:53.055466400Z",
     "start_time": "2023-12-07T11:30:53.045430700Z"
    }
   },
   "outputs": [],
   "source": [
    "class AirConditioningSystem:\n",
    "    zone_A = Zone(\n",
    "        name='zone A',\n",
    "        summer=Season(\n",
    "            Q_sen=Q_(24, 'kW'),\n",
    "            Q_lat=Q_(6, 'kW'),\n",
    "            zone_air=HumidAir(Tdb=Q_(26, 'degC'), RH=Q_(50, 'pct'))\n",
    "        ),\n",
    "        winter=Season(\n",
    "            Q_sen=Q_(-11.25, 'kW'),\n",
    "            Q_lat=Q_(0, 'kW'),\n",
    "            zone_air=HumidAir(Tdb=Q_(22, 'degC'), RH=Q_(50, 'pct'))\n",
    "        )\n",
    "    )\n",
    "    zone_B = Zone(\n",
    "        name='zone B',\n",
    "        summer=Season(\n",
    "            Q_sen=Q_(15, 'kW'),\n",
    "            Q_lat=Q_(5, 'kW'),\n",
    "            zone_air=HumidAir(Tdb=Q_(26, 'degC'), RH=Q_(50, 'pct'))\n",
    "        ),\n",
    "        winter=Season(\n",
    "            Q_sen=Q_(-5, 'kW'),\n",
    "            Q_lat=Q_(0, 'kW'),\n",
    "            zone_air=HumidAir(Tdb=Q_(22, 'degC'), RH=Q_(50, 'pct'))\n",
    "        )\n",
    "    )\n",
    "\n",
    "    def __init__(self):\n",
    "        self.vav_system = VAVSystem(\n",
    "            zones=[self.zone_A, self.zone_B],\n",
    "            outdoor_air_summer=HumidAir(Tdb=Q_(28.9, 'degC'), Twb=Q_(20.1, 'degC')),\n",
    "            outdoor_air_winter=HumidAir(Tdb=Q_(-5.7, 'degC'), Twb=Q_(-6.7, 'degC')),\n",
    "            V_vent=Q_(1225, 'm**3 / hr'),\n",
    "        )\n",
    "        self.vav_system.design_summer()\n",
    "\n",
    "    def get_cooling_coil_requirements(self):\n",
    "        return {\n",
    "            'Q_dot_cc': self.vav_system.summer.cooling_coil.Q,\n",
    "            'Q_dot_cc_sen': self.vav_system.summer.cooling_coil.Q_sen,\n",
    "            'air_in': self.vav_system.summer.mixed_air,\n",
    "            'air_out': self.vav_system.summer.cooled_air,\n",
    "            'air_m_dot': self.vav_system.summer.m_supply\n",
    "        }"
   ]
  },
  {
   "cell_type": "code",
   "execution_count": 3,
   "id": "fe4e6cd5c2dce858",
   "metadata": {
    "collapsed": false,
    "ExecuteTime": {
     "end_time": "2023-12-07T11:30:53.803600Z",
     "start_time": "2023-12-07T11:30:53.056467200Z"
    }
   },
   "outputs": [
    {
     "name": "stdout",
     "output_type": "stream",
     "text": [
      "required total cooling capacity: -51.884 kW\n",
      "required sensible cooling capacity: -40.156 kW\n",
      "entering air = 26.36 °C DB, 10.6 g/kg AH, 49 % RH\n",
      "leaving air = 14.00 °C DB, 9.2 g/kg AH, 92 % RH\n",
      "mass flow rate of air = 11470.588 kg/h\n"
     ]
    }
   ],
   "source": [
    "air_system = AirConditioningSystem()\n",
    "d = air_system.get_cooling_coil_requirements()\n",
    "Q_dot_cc = d['Q_dot_cc']\n",
    "Q_dot_cc_sen = d['Q_dot_cc_sen']\n",
    "air_in = d['air_in']\n",
    "air_out = d['air_out']\n",
    "air_m_dot = d['air_m_dot']\n",
    "print(\n",
    "    f\"required total cooling capacity: {Q_dot_cc.to('kW'):~P.3f}\",\n",
    "    f\"required sensible cooling capacity: {Q_dot_cc_sen.to('kW'):~P.3f}\",\n",
    "    f\"entering air = {air_in.Tdb.to('degC'):~P.2f} DB, \"\n",
    "    f\"{air_in.W.to('g / kg'):~P.1f} AH, \"\n",
    "    f\"{air_in.RH.to('pct'):~P.0f} RH\",\n",
    "    f\"leaving air = {air_out.Tdb.to('degC'):~P.2f} DB, \"\n",
    "    f\"{air_out.W.to('g / kg'):~P.1f} AH, \"\n",
    "    f\"{air_out.RH.to('pct'):~P.0f} RH\",\n",
    "    f\"mass flow rate of air = {air_m_dot.to('kg / hr'):~P.3f}\",\n",
    "    sep='\\n'\n",
    ")"
   ]
  },
  {
   "cell_type": "markdown",
   "id": "d2003da22bdb167f",
   "metadata": {},
   "source": [
    "## Determine the Water Mass Flow Rate through the Cooling Coil"
   ]
  },
  {
   "cell_type": "markdown",
   "id": "bff0bd77387d939b",
   "metadata": {},
   "source": [
    "Select the entering and leaving water temperature to determine the required mass flow rate of water from the required cooling coil capacity."
   ]
  },
  {
   "cell_type": "code",
   "execution_count": 4,
   "id": "ea1a764b3f1f6856",
   "metadata": {
    "collapsed": false,
    "ExecuteTime": {
     "end_time": "2023-12-07T11:30:53.804582400Z",
     "start_time": "2023-12-07T11:30:53.800577500Z"
    }
   },
   "outputs": [
    {
     "name": "stdout",
     "output_type": "stream",
     "text": [
      "mass flow rate of water = 8906.359 kg/h\n"
     ]
    }
   ],
   "source": [
    "water_T_in = Q_(8, 'degC')\n",
    "water_T_out = Q_(13, 'degC')\n",
    "\n",
    "water_P = Q_(2, 'bar')\n",
    "water_in = Water(T=water_T_in, P=water_P)\n",
    "water_out = Water(T=water_T_out, P=water_P)\n",
    "water_cp_avg = (water_in.cp + water_out.cp) / 2\n",
    "\n",
    "water_m_dot = -Q_dot_cc / (water_cp_avg * (water_T_out - water_T_in))\n",
    "\n",
    "print(\n",
    "    \"mass flow rate of water = \"\n",
    "    f\"{water_m_dot.to('kg / hr'):~P.3f}\"\n",
    ")"
   ]
  },
  {
   "cell_type": "markdown",
   "id": "3480895567e60f5f",
   "metadata": {},
   "source": [
    "## Configure the Air-Cooling Coil Model"
   ]
  },
  {
   "cell_type": "markdown",
   "id": "51be8508d274b9fd",
   "metadata": {},
   "source": [
    "We configure the model of the air-cooling coil inside a function. The sizing attributes of the cooling coil are parameters to this function, but the core heat exchanger geometry is embedded inside the function."
   ]
  },
  {
   "cell_type": "code",
   "execution_count": 5,
   "id": "2798eb6f72883785",
   "metadata": {
    "collapsed": false,
    "ExecuteTime": {
     "end_time": "2023-12-07T11:30:53.841243800Z",
     "start_time": "2023-12-07T11:30:53.804582400Z"
    }
   },
   "outputs": [],
   "source": [
    "def design_air_coil(width: Quantity, height: Quantity, num_rows: int) -> AirCoil:\n",
    "    air_coil = AirCoil(\n",
    "        width=width,\n",
    "        height=height,\n",
    "        num_rows=num_rows,\n",
    "        pitch_trv=Q_(25.4, 'mm'),\n",
    "        pitch_lon=Q_(22.0, 'mm'),\n",
    "        d_i=Q_(8.422, 'mm'),\n",
    "        d_o=Q_(10.2, 'mm'),\n",
    "        t_fin=Q_(0.3302, 'mm'),\n",
    "        fin_density=1 / Q_(3.175, 'mm'),\n",
    "        num_circuits=None\n",
    "    )\n",
    "    return air_coil"
   ]
  },
  {
   "cell_type": "markdown",
   "id": "748cde1b2b803eb2",
   "metadata": {},
   "source": [
    "To determine the width and height of the cooling coil's face area, we select a face velocity for the air."
   ]
  },
  {
   "cell_type": "code",
   "execution_count": 6,
   "id": "8cd8ddeb01ec633c",
   "metadata": {
    "collapsed": false,
    "ExecuteTime": {
     "end_time": "2023-12-07T11:30:53.842244400Z",
     "start_time": "2023-12-07T11:30:53.818934800Z"
    }
   },
   "outputs": [
    {
     "name": "stdout",
     "output_type": "stream",
     "text": [
      "air-cooling coil face area = 1.374 m²\n"
     ]
    }
   ],
   "source": [
    "face_velocity = Q_(2, 'm / s')\n",
    "\n",
    "air_V_dot = air_m_dot / air_in.rho\n",
    "A_face = air_V_dot / face_velocity\n",
    "print(\n",
    "    f\"air-cooling coil face area = {A_face.to('m ** 2'):~P.3f}\"\n",
    ")\n",
    "\n",
    "air_coil_width = Q_(A_face.to('m ** 2').magnitude, 'm')\n",
    "air_coil_height = Q_(1, 'm')"
   ]
  },
  {
   "cell_type": "markdown",
   "id": "2404fd5df75c8836",
   "metadata": {},
   "source": [
    "To complete the configuration, we select the number of rows of the cooling coil, and then we call our function `design_air_coil()`."
   ]
  },
  {
   "cell_type": "code",
   "execution_count": 7,
   "id": "f0d0d1fad72b53dc",
   "metadata": {
    "collapsed": false,
    "ExecuteTime": {
     "end_time": "2023-12-07T11:30:53.842244400Z",
     "start_time": "2023-12-07T11:30:53.825475100Z"
    }
   },
   "outputs": [],
   "source": [
    "num_rows = 5\n",
    "\n",
    "air_coil = design_air_coil(air_coil_width, air_coil_height, num_rows)"
   ]
  },
  {
   "cell_type": "markdown",
   "id": "42e86877b0487c42",
   "metadata": {},
   "source": [
    "## Determine the Cooling Coil Performance"
   ]
  },
  {
   "cell_type": "markdown",
   "id": "6cbdd88cb40a0a68",
   "metadata": {},
   "source": [
    "From the cooling coil requirements, we have the state of air entering the cooling coil and the air mass flow rate at peak summer design conditions. We have selected the state of the water entering the cooling coil, and we have determined the water mass flow rate based on the required cooling capacity of the coil. After setting these operating conditions, we can rate the cooling coil and check the results. Ideally, the available cooling capacity and the resulting state of the air leaving the cooling coil should agree with the requirements. "
   ]
  },
  {
   "cell_type": "code",
   "execution_count": 8,
   "id": "6c15b32161b9922",
   "metadata": {
    "collapsed": false,
    "ExecuteTime": {
     "end_time": "2023-12-07T11:30:54.082105300Z",
     "start_time": "2023-12-07T11:30:53.831214200Z"
    }
   },
   "outputs": [
    {
     "name": "stdout",
     "output_type": "stream",
     "text": [
      "cooling coil capacity = 53.756 kW\n",
      "leaving air = 14.23 °C DB, 8.87 g/kg AH, 87 % RH\n"
     ]
    }
   ],
   "source": [
    "air_coil.set_operating_conditions(\n",
    "    air_in=air_in,\n",
    "    water_in=water_in,\n",
    "    air_m_dot=air_m_dot,\n",
    "    water_m_dot=water_m_dot\n",
    ")\n",
    "\n",
    "d = air_coil.rate()\n",
    "\n",
    "Q_dot_cc = d['Q_dot']\n",
    "air_out = d['air_out']\n",
    "\n",
    "print(\n",
    "    f\"cooling coil capacity = {Q_dot_cc.to('kW'):~P.3f}\",\n",
    "    \"leaving air = \"\n",
    "    f\"{air_out.Tdb.to('degC'):~P.2f} DB, \"\n",
    "    f\"{air_out.W.to('g / kg'):~P.2f} AH, \"\n",
    "    f\"{air_out.RH.to('pct'):~P.0f} RH\",\n",
    "    sep='\\n'\n",
    ")"
   ]
  },
  {
   "cell_type": "markdown",
   "id": "461bc7bd-83ed-4f86-8cea-3f688f0b6378",
   "metadata": {
    "ExecuteTime": {
     "end_time": "2023-12-06T12:48:02.205588200Z",
     "start_time": "2023-12-06T12:48:02.197697400Z"
    }
   },
   "source": [
    "By changing parameters (the entering and/or leaving water temperature, the air face velocity, the number of cooling coil rows), we can investigate the effect on the available cooling coil capacity and the state of air leaving the cooling coil."
   ]
  }
 ],
 "metadata": {
  "kernelspec": {
   "display_name": "Python 3 (ipykernel)",
   "language": "python",
   "name": "python3"
  },
  "language_info": {
   "codemirror_mode": {
    "name": "ipython",
    "version": 3
   },
   "file_extension": ".py",
   "mimetype": "text/x-python",
   "name": "python",
   "nbconvert_exporter": "python",
   "pygments_lexer": "ipython3",
   "version": "3.11.0"
  }
 },
 "nbformat": 4,
 "nbformat_minor": 5
}
