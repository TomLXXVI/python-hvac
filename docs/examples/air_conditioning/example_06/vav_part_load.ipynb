{
 "cells": [
  {
   "cell_type": "markdown",
   "id": "4ca80702-32b9-428b-b99d-ae7bbc9b68ae",
   "metadata": {},
   "source": [
    "# Performance of Multi-zone VAV System under Summer Part-Load Conditions"
   ]
  },
  {
   "cell_type": "markdown",
   "id": "6418d960-5a15-411b-ac4b-6c06d1f1616a",
   "metadata": {},
   "source": [
    "We look at the VAV system from example_05 under the following summer part-load conditions:  "
   ]
  },
  {
   "cell_type": "markdown",
   "id": "eac9ed76-2016-4086-9e6d-9567f028fc5f",
   "metadata": {
    "tags": []
   },
   "source": [
    "<div class=\"my_table\">\n",
    "    <table>\n",
    "        <tr>\n",
    "            <th></th>\n",
    "            <th>Zone A (Exterior)</th>\n",
    "            <th>Zone B (Interior)</th>\n",
    "        </tr>\n",
    "        <tr>\n",
    "            <td>Sensible cooling load</td>\n",
    "            <td>143,100 Btu/hr</td>\n",
    "            <td>91,260 Btu/hr</td>\n",
    "        </tr>\n",
    "        <tr>\n",
    "            <td>Latent cooling load</td>\n",
    "            <td>36,000 Btu/hr</td>\n",
    "            <td>20,000 Btu/hr</td>\n",
    "        </tr>\n",
    "        <tr>\n",
    "            <td>Zone temperature</td>\n",
    "            <td>75°F</td>\n",
    "            <td>75°F</td>\n",
    "        </tr>\n",
    "    </table>\n",
    "</div>"
   ]
  },
  {
   "cell_type": "code",
   "execution_count": 1,
   "id": "243c16c3-b1db-455e-9963-98fd09667608",
   "metadata": {},
   "outputs": [],
   "source": [
    "from hvac import Quantity\n",
    "from hvac.fluids import HumidAir\n",
    "from hvac.air_conditioning.multi_zone import Zone, Season\n",
    "from hvac.air_conditioning.multi_zone import part_load"
   ]
  },
  {
   "cell_type": "code",
   "execution_count": 2,
   "id": "2e48cfca-f3f0-4658-a65f-a7a1679857a4",
   "metadata": {
    "tags": []
   },
   "outputs": [],
   "source": [
    "Q_ = Quantity"
   ]
  },
  {
   "cell_type": "markdown",
   "id": "7d484a39-59f1-4380-924b-19e2fc0687ab",
   "metadata": {},
   "source": [
    "## Zone A"
   ]
  },
  {
   "cell_type": "markdown",
   "id": "fb590c77-0e41-4647-8012-b47434a9f4ed",
   "metadata": {},
   "source": [
    "- Specify the sensible and latent part load of the zone.\n",
    "- Specify the desired state of zone air.\n",
    "- Specify the full-load mass flow rate of supply air to the zone determined when designing the system."
   ]
  },
  {
   "cell_type": "code",
   "execution_count": 3,
   "id": "fd58106e-a2b5-40a4-8589-af91dba3d7d6",
   "metadata": {
    "tags": []
   },
   "outputs": [],
   "source": [
    "zone_A = Zone(\n",
    "    name='zone A',\n",
    "    summer=Season(\n",
    "        Q_sen=Q_(143_100, 'Btu / hr'),\n",
    "        Q_lat=Q_(36_000, 'Btu / hr'),\n",
    "        zone_air=HumidAir(\n",
    "            Tdb=Q_(75, 'degF'),\n",
    "            RH=Q_(50, 'pct')\n",
    "        ),\n",
    "        m_supply=Q_(769.1, 'lb / min')\n",
    "    )\n",
    ")"
   ]
  },
  {
   "cell_type": "markdown",
   "id": "4bf6efcc-36bb-4a80-9d2b-5a9d2dde0483",
   "metadata": {},
   "source": [
    "## Zone B"
   ]
  },
  {
   "cell_type": "code",
   "execution_count": 4,
   "id": "8cefb552-8f00-48c1-bd5e-d8bf59e8d8a0",
   "metadata": {
    "tags": []
   },
   "outputs": [],
   "source": [
    "zone_B = Zone(\n",
    "    name='zone B',\n",
    "    summer=Season(\n",
    "        Q_sen=Q_(91_260, 'Btu / hr'),\n",
    "        Q_lat=Q_(20_000, 'Btu / hr'),\n",
    "        zone_air=HumidAir(\n",
    "            Tdb=Q_(75, 'degF'),\n",
    "            RH=Q_(50, 'pct')\n",
    "        ),\n",
    "        m_supply=Q_(353.4, 'lb / min')\n",
    "    )\n",
    ")"
   ]
  },
  {
   "cell_type": "markdown",
   "id": "253d23c0-dafb-4f6a-bd4a-2e34f4ddbf37",
   "metadata": {},
   "source": [
    "## Define the VAV-System"
   ]
  },
  {
   "cell_type": "markdown",
   "id": "874ba7a1-d098-491f-952b-34bf5959cd8a",
   "metadata": {},
   "source": [
    "- Add zones to the VAV system\n",
    "- Specify the system supply air temperature determined when designing the system.\n",
    "- Specify the outdoor air state at part load\n",
    "- Specify the ventilation volume flow rate"
   ]
  },
  {
   "cell_type": "code",
   "execution_count": 5,
   "id": "1b0afa43-b1fb-41b4-9b45-9170cc1d4753",
   "metadata": {
    "tags": []
   },
   "outputs": [],
   "source": [
    "vav_system = part_load.VAVSystem(\n",
    "    zones=[zone_A, zone_B],\n",
    "    T_supply=Q_(55, 'degF'),\n",
    "    outdoor_air=HumidAir(\n",
    "        Tdb=Q_(77, 'degF'),\n",
    "        W=Q_(0.0126, 'lb / lb')\n",
    "    ),\n",
    "    V_vent=Q_(2400, 'ft ** 3 / min')\n",
    ")"
   ]
  },
  {
   "cell_type": "markdown",
   "id": "8fec9cf7-b807-4144-ab02-f4a7d7876d4a",
   "metadata": {},
   "source": [
    "## Run Part-Load Analysis"
   ]
  },
  {
   "cell_type": "code",
   "execution_count": 6,
   "id": "2c3293b7-8dfa-4097-aa9f-c8a94a39466f",
   "metadata": {
    "tags": []
   },
   "outputs": [],
   "source": [
    "results = vav_system.part_load_summer(\n",
    "    dP_fan_sup=Q_(3, 'inch_H2O_60F'),\n",
    "    eta_fan_sup=Q_(60, 'pct'),\n",
    "    Q_duct_sup=None,\n",
    "    dP_fan_ret=None,\n",
    "    eta_fan_ret=None,\n",
    "    Q_duct_ret=None\n",
    ")"
   ]
  },
  {
   "cell_type": "markdown",
   "id": "0126cbe1-90ec-43a9-b577-afb5fa875a66",
   "metadata": {},
   "source": [
    "### Cooling Coil Load"
   ]
  },
  {
   "cell_type": "code",
   "execution_count": 7,
   "id": "4618a2ea-39b0-4b7a-9669-b277cd434aaa",
   "metadata": {
    "tags": []
   },
   "outputs": [
    {
     "name": "stdout",
     "output_type": "stream",
     "text": [
      "sensible cooling coil load = -260521 Btu/h\n",
      "latent cooling coil load = -122063 Btu/h\n",
      "total cooling coil load = -382210 Btu/h\n"
     ]
    }
   ],
   "source": [
    "print(\n",
    "    \"sensible cooling coil load = \"\n",
    "    f\"{results['Q_cc_sen'].to('Btu / hr'):~P.0f}\",\n",
    "    \"latent cooling coil load = \"\n",
    "    f\"{results['Q_cc_lat'].to('Btu / hr'):~P.0f}\",\n",
    "    \"total cooling coil load = \"\n",
    "    f\"{results['Q_cc_tot'].to('Btu / hr'):~P.0f}\",\n",
    "    sep='\\n'\n",
    ")"
   ]
  },
  {
   "cell_type": "markdown",
   "id": "4ded2d4d-ec0c-437e-a602-a065cb5cd902",
   "metadata": {},
   "source": [
    "### Reheat Coil Loads"
   ]
  },
  {
   "cell_type": "markdown",
   "id": "5fc03271-0bbd-47be-92ab-ce6fe74cebcd",
   "metadata": {},
   "source": [
    "**Zone A**"
   ]
  },
  {
   "cell_type": "code",
   "execution_count": 8,
   "id": "3516ffc8-1f3a-4bfe-9366-2222d0daff91",
   "metadata": {
    "tags": []
   },
   "outputs": [
    {
     "name": "stdout",
     "output_type": "stream",
     "text": [
      "reheat coil load = -0 Btu/h\n"
     ]
    }
   ],
   "source": [
    "print(\n",
    "    \"reheat coil load = \"\n",
    "    f\"{zone_A.reheat_coil.Q_sen.to('Btu / hr'):~P.0f}\"\n",
    ")"
   ]
  },
  {
   "cell_type": "markdown",
   "id": "18030a48-cbb5-489a-99b6-877729b652bf",
   "metadata": {},
   "source": [
    "**Zone B**"
   ]
  },
  {
   "cell_type": "code",
   "execution_count": 9,
   "id": "f6d2151a-ca56-4750-910e-c4df56a02294",
   "metadata": {
    "tags": []
   },
   "outputs": [
    {
     "name": "stdout",
     "output_type": "stream",
     "text": [
      "reheat coil load = -0 Btu/h\n"
     ]
    }
   ],
   "source": [
    "print(\n",
    "    \"reheat coil load = \"\n",
    "    f\"{zone_B.reheat_coil.Q_sen.to('Btu / hr'):~P.0f}\"\n",
    ")"
   ]
  },
  {
   "cell_type": "markdown",
   "id": "2ec4493e-1c4b-47b0-af20-aa27f7122cca",
   "metadata": {},
   "source": [
    "**Total reheat coil load**"
   ]
  },
  {
   "cell_type": "code",
   "execution_count": 10,
   "id": "8dc7ab4e-cef7-45b9-b8c2-c7bc5ea618fe",
   "metadata": {
    "tags": []
   },
   "outputs": [
    {
     "name": "stdout",
     "output_type": "stream",
     "text": [
      "total reheat coil load = -0 Btu/h\n"
     ]
    }
   ],
   "source": [
    "print(\n",
    "    \"total reheat coil load = \"\n",
    "    f\"{results['Q_rh_tot'].to('Btu / hr'):~P.0f}\"\n",
    ")"
   ]
  },
  {
   "cell_type": "markdown",
   "id": "43e89166-a511-4568-beee-38b3eee88719",
   "metadata": {},
   "source": [
    "### Supply Air Flow Rates"
   ]
  },
  {
   "cell_type": "markdown",
   "id": "dd314b4f-fd68-4b81-bc23-a4253c04c3e6",
   "metadata": {},
   "source": [
    "**Zone A**"
   ]
  },
  {
   "cell_type": "code",
   "execution_count": 11,
   "id": "950a97b8-060b-41aa-8241-6b3b6cd3d025",
   "metadata": {
    "tags": []
   },
   "outputs": [
    {
     "name": "stdout",
     "output_type": "stream",
     "text": [
      "supply air mass flow rate zone A = 489.5 lb/min\n",
      "supply air volume flow rate zone A = 6431.3 ft³/min\n"
     ]
    }
   ],
   "source": [
    "print(\n",
    "    \"supply air mass flow rate zone A = \"\n",
    "    f\"{zone_A.summer.m_supply.to('lb / min'):~P.1f}\",\n",
    "    \"supply air volume flow rate zone A = \"\n",
    "    f\"{zone_A.summer.V_supply.to('ft ** 3 / min'):~P.1f}\",\n",
    "    sep='\\n'\n",
    ")"
   ]
  },
  {
   "cell_type": "markdown",
   "id": "ff0e55bd-03d7-4bb6-a786-6268095ce6d1",
   "metadata": {},
   "source": [
    "**Zone B**"
   ]
  },
  {
   "cell_type": "code",
   "execution_count": 12,
   "id": "1d943542-b969-43d9-b91d-20e3ed1f7beb",
   "metadata": {
    "tags": []
   },
   "outputs": [
    {
     "name": "stdout",
     "output_type": "stream",
     "text": [
      "supply air mass flow rate zone B = 312.2 lb/min\n",
      "supply air volume flow rate zone B = 4102.4 ft³/min\n"
     ]
    }
   ],
   "source": [
    "print(\n",
    "    \"supply air mass flow rate zone B = \"\n",
    "    f\"{zone_B.summer.m_supply.to('lb / min'):~P.1f}\",\n",
    "    \"supply air volume flow rate zone B = \"\n",
    "    f\"{zone_B.summer.V_supply.to('ft ** 3 / min'):~P.1f}\",\n",
    "    sep='\\n'\n",
    ")"
   ]
  },
  {
   "cell_type": "markdown",
   "id": "29febd48-7645-4b9c-8f37-adb5d16e7977",
   "metadata": {},
   "source": [
    "**System**"
   ]
  },
  {
   "cell_type": "code",
   "execution_count": 13,
   "id": "667a8ffc-c534-47e6-957a-e4a0f6d38e6a",
   "metadata": {
    "tags": []
   },
   "outputs": [
    {
     "name": "stdout",
     "output_type": "stream",
     "text": [
      "system supply air mass flow rate = 801.6 lb/min\n",
      "system supply air volume flow rate zone B = 10533.7 ft³/min\n"
     ]
    }
   ],
   "source": [
    "print(\n",
    "    \"system supply air mass flow rate = \"\n",
    "    f\"{vav_system.summer.m_supply.to('lb / min'):~P.1f}\",\n",
    "    \"system supply air volume flow rate zone B = \"\n",
    "    f\"{vav_system.summer.V_supply.to('ft ** 3 / min'):~P.1f}\",\n",
    "    sep='\\n'\n",
    ")"
   ]
  },
  {
   "cell_type": "markdown",
   "id": "15ec2800-de22-46e9-acac-b5ed6d3cc9ed",
   "metadata": {},
   "source": [
    "### Zone Air States"
   ]
  },
  {
   "cell_type": "markdown",
   "id": "7946a323-5f75-4ed6-86bd-3b97292b0a7a",
   "metadata": {},
   "source": [
    "**Zone A**"
   ]
  },
  {
   "cell_type": "code",
   "execution_count": 14,
   "id": "431c13fe-3c1e-463c-beca-244b514e4193",
   "metadata": {
    "tags": []
   },
   "outputs": [
    {
     "name": "stdout",
     "output_type": "stream",
     "text": [
      "resulting state of air in zone A = 75 °F DB, 50 % RH\n"
     ]
    }
   ],
   "source": [
    "print(\n",
    "    \"resulting state of air in zone A = \"\n",
    "    f\"{zone_A.summer.return_air.Tdb.to('degF'):~P.0f} DB, \"\n",
    "    f\"{zone_A.summer.return_air.RH.to('pct'):~P.0f} RH\"\n",
    ")"
   ]
  },
  {
   "cell_type": "markdown",
   "id": "0574d295-5720-4bec-907d-81c2a999efff",
   "metadata": {},
   "source": [
    "**Zone B**"
   ]
  },
  {
   "cell_type": "code",
   "execution_count": 15,
   "id": "3b0b21c9-fd99-4569-9f02-811923e5e03a",
   "metadata": {
    "tags": []
   },
   "outputs": [
    {
     "name": "stdout",
     "output_type": "stream",
     "text": [
      "resulting state of air in zone B = 75 °F DB, 50 % RH\n"
     ]
    }
   ],
   "source": [
    "print(\n",
    "    \"resulting state of air in zone B = \"\n",
    "    f\"{zone_B.summer.return_air.Tdb.to('degF'):~P.0f} DB, \"\n",
    "    f\"{zone_B.summer.return_air.RH.to('pct'):~P.0f} RH\"\n",
    ")"
   ]
  },
  {
   "cell_type": "markdown",
   "id": "ec796ac5-a567-494f-bd69-8972dafcd7af",
   "metadata": {},
   "source": [
    "### Entering and Leaving Air State at Cooling Coil"
   ]
  },
  {
   "cell_type": "code",
   "execution_count": 16,
   "id": "2b2df320-fc26-48ee-b1ba-3dee78f17b68",
   "metadata": {
    "tags": []
   },
   "outputs": [
    {
     "name": "stdout",
     "output_type": "stream",
     "text": [
      "Entering air state at cooling coil = 75 °F DB, 53 % RH, 0.0100 lb_w / lb_a\n"
     ]
    }
   ],
   "source": [
    "print(\n",
    "    \"Entering air state at cooling coil = \"\n",
    "    f\"{vav_system.summer.mixed_air.Tdb.to('degF'):~P.0f} DB, \"\n",
    "    f\"{vav_system.summer.mixed_air.RH.to('pct'):~P.0f} RH, \"\n",
    "    f\"{vav_system.summer.mixed_air.W.to('lb / lb'):~P.4f} lb_w / lb_a\"\n",
    ")"
   ]
  },
  {
   "cell_type": "code",
   "execution_count": 17,
   "id": "8c4512d3-5266-4a58-b91b-1c6860953dfe",
   "metadata": {
    "tags": []
   },
   "outputs": [
    {
     "name": "stdout",
     "output_type": "stream",
     "text": [
      "Leaving air state at cooling coil = 53 °F DB, 89 % RH, 0.0077 lb_w / lb_a\n"
     ]
    }
   ],
   "source": [
    "print(\n",
    "    \"Leaving air state at cooling coil = \"\n",
    "    f\"{vav_system.summer.cooled_air.Tdb.to('degF'):~P.0f} DB, \"\n",
    "    f\"{vav_system.summer.cooled_air.RH.to('pct'):~P.0f} RH, \"\n",
    "    f\"{vav_system.summer.cooled_air.W.to('lb / lb'):~P.4f} lb_w / lb_a\"\n",
    ")"
   ]
  }
 ],
 "metadata": {
  "kernelspec": {
   "display_name": "Python 3 (ipykernel)",
   "language": "python",
   "name": "python3"
  },
  "language_info": {
   "codemirror_mode": {
    "name": "ipython",
    "version": 3
   },
   "file_extension": ".py",
   "mimetype": "text/x-python",
   "name": "python",
   "nbconvert_exporter": "python",
   "pygments_lexer": "ipython3",
   "version": "3.11.0"
  }
 },
 "nbformat": 4,
 "nbformat_minor": 5
}
