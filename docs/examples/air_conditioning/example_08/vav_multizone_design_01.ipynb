{
 "cells": [
  {
   "cell_type": "code",
   "execution_count": 1,
   "metadata": {
    "ExecuteTime": {
     "end_time": "2023-12-05T18:49:15.981143700Z",
     "start_time": "2023-12-05T18:49:15.349250600Z"
    }
   },
   "outputs": [
    {
     "data": {
      "text/plain": "<IPython.core.display.HTML object>",
      "text/html": "<style>.my_table {\n    display: flex;\n    justify-content: center;\n}\n\n.my_table table {\n    border: 1px solid #ddd;\n}\n\n.my_table th, .my_table td {\n    padding: 8px;\n    border: 1px solid #ddd;\n    font-size: 1.25em;\n}\n\n.my_table td {\n    text-align: left;\n}\n\n.my_table th {\n    text-align: center;\n}\n\n.jp-Cell-outputArea {\n    box-shadow: none !important;\n}\n</style><p>Loaded <code>my_styles.css</code></p>"
     },
     "execution_count": 1,
     "metadata": {},
     "output_type": "execute_result"
    }
   ],
   "source": [
    "import notebook_styling as ns\n",
    "ns.set_css()"
   ]
  },
  {
   "cell_type": "markdown",
   "metadata": {
    "tags": []
   },
   "source": [
    "# Multi-zone Single-Duct VAV System Sizing (Design or Peak Conditions) - Take One"
   ]
  },
  {
   "cell_type": "markdown",
   "metadata": {},
   "source": [
    "*Example 19.8 from the book \"Heating and Cooling of Buildings\" by T. Agami Reddy, Jan F. Kreider, Peter S. Curtiss and Ari Rabl (3rd Edition, 2017)* "
   ]
  },
  {
   "cell_type": "markdown",
   "metadata": {},
   "source": [
    "A two-zone building is to be equipped with a VAV system having preheat- and reheat-coils for the load conditions in the table below. Size the supply fan, cooling coil, preheat coil, and reheat coil (or baseboard heating) for this building. Note that these will also apply to a CAV system under peak design conditions.\n",
    "\n",
    "***Space loads***"
   ]
  },
  {
   "cell_type": "markdown",
   "metadata": {},
   "source": [
    "<div class=\"my_table\">\n",
    "    <table>\n",
    "        <tr>\n",
    "            <th></th>\n",
    "            <th>Zone A (Exterior)</th>\n",
    "            <th>Zone B (Interior)</th>\n",
    "        </tr>\n",
    "        <tr>\n",
    "            <td>Sensible peak summer design cooling load</td>\n",
    "            <td>224,844 Btu/hr</td>\n",
    "            <td>103,308 Btu/hr</td>\n",
    "        </tr>\n",
    "        <tr>\n",
    "            <td>Latent peak summer design cooling load</td>\n",
    "            <td>56,000 Btu/hr</td>\n",
    "            <td>20,000 Btu/hr</td>\n",
    "        </tr>\n",
    "        <tr>\n",
    "            <td>Sensible peak winter design load</td>\n",
    "            <td>-143,000 Btu/hr</td>\n",
    "            <td>49,092 Btu/hr</td>\n",
    "        </tr>\n",
    "        <tr>\n",
    "            <td>Zone temperature</td>\n",
    "            <td>75°F</td>\n",
    "            <td>75°F</td>\n",
    "        </tr>\n",
    "    </table>\n",
    "</div>"
   ]
  },
  {
   "cell_type": "markdown",
   "metadata": {},
   "source": [
    ">Notice that interior zone B still requires cooling in winter."
   ]
  },
  {
   "cell_type": "markdown",
   "metadata": {},
   "source": [
    "***Design parameters***\n",
    "\n",
    "1. summer design dry-and wet-bulb temperatures: 97°F and 76°F (resulting in 0.0144 lb<sub>w</sub>/lb<sub>a</sub> humidity ratio at peak conditions).\n",
    "2. winter design temperature: 7°F and air assumed to be totally dry.\n",
    "3. pressure drop in the supply system at full air-flow: 3.0 inWG.\n",
    "4. fan efficiency: 60%.\n",
    "5. return air fan air temperature rise: none.\n",
    "6. ventilation airflow rate: 2400 ft<sup>3</sup>/min.\n",
    "7. relative air humidity at cooling coil outlet: 85%.\n",
    "8. temperature difference between supply air and zone air: 20°F (to ensure proper mixing).\n",
    "9. maximum supply air temperature: 105°F (to avoid stratification)."
   ]
  },
  {
   "cell_type": "markdown",
   "metadata": {},
   "source": [
    "***Sketch***"
   ]
  },
  {
   "cell_type": "markdown",
   "metadata": {},
   "source": [
    "<center><img src=\"./images/airco_vav.png\" alt=\"simplified sketch of plenum return single-duct VAV system\" style=\"width:75%; height:75%;\"></center>"
   ]
  },
  {
   "cell_type": "markdown",
   "metadata": {},
   "source": [
    "***Assumptions***\n",
    "\n",
    "- Ignore factors not included in the list given earlier, such as duct heat losses and gains. \n",
    "- The location is assumed to be at sea level.\n",
    "- Rather than use enthalpy balances on the zones, the flows will be designed based on sensible heat loads (this is meant to simplify the problem). \n",
    "- Peak loads are coincident; no diversity adjustment is used.\n",
    "- During peak heating, latent loads on the space are negligible. \n",
    "- During winter, room humidifiers are used to maintain the necessary humidity levels. \n",
    "- The supply airflow to the zones cannot be reduced to less than 60 % of the full-load design value by mass to ensure proper mixing of the cold supply air once it enters the space."
   ]
  },
  {
   "cell_type": "code",
   "execution_count": 2,
   "metadata": {
    "ExecuteTime": {
     "end_time": "2023-12-05T18:49:17.517077900Z",
     "start_time": "2023-12-05T18:49:15.727885200Z"
    }
   },
   "outputs": [],
   "source": [
    "from hvac import Quantity\n",
    "from hvac.fluids import HumidAir\n",
    "from hvac.air_conditioning import (\n",
    "    AirConditioningProcess,\n",
    "    AirStream,\n",
    "    AdiabaticMixing,\n",
    "    Fan\n",
    ")\n",
    "\n",
    "Qty = Quantity"
   ]
  },
  {
   "cell_type": "code",
   "execution_count": 3,
   "metadata": {
    "ExecuteTime": {
     "end_time": "2023-12-05T18:49:17.521637600Z",
     "start_time": "2023-12-05T18:49:17.518632500Z"
    }
   },
   "outputs": [],
   "source": [
    "class Summer:\n",
    "    pass\n",
    "\n",
    "\n",
    "class Winter:\n",
    "    pass"
   ]
  },
  {
   "cell_type": "markdown",
   "metadata": {},
   "source": [
    "### Solution"
   ]
  },
  {
   "cell_type": "markdown",
   "metadata": {},
   "source": [
    "### 1. Mass Flow Rate of Ventilation Air\n",
    "\n",
    "The required outdoor air volume flow rate for ventilation is already determined at the start of the design process."
   ]
  },
  {
   "cell_type": "code",
   "execution_count": 4,
   "metadata": {
    "ExecuteTime": {
     "end_time": "2023-12-05T18:49:17.536127200Z",
     "start_time": "2023-12-05T18:49:17.522640900Z"
    }
   },
   "outputs": [],
   "source": [
    "V_vent = Qty(2400, 'ft ** 3 / min')"
   ]
  },
  {
   "cell_type": "markdown",
   "metadata": {},
   "source": [
    "Summer peak outdoor air condition:"
   ]
  },
  {
   "cell_type": "code",
   "execution_count": 5,
   "metadata": {
    "ExecuteTime": {
     "end_time": "2023-12-05T18:49:17.536127200Z",
     "start_time": "2023-12-05T18:49:17.528232300Z"
    }
   },
   "outputs": [],
   "source": [
    "Summer.outdoor_air = HumidAir(\n",
    "    Tdb=Qty(97, 'degF'),\n",
    "    Twb=Qty(76, 'degF')\n",
    ")"
   ]
  },
  {
   "cell_type": "markdown",
   "metadata": {},
   "source": [
    "Mass flow rate of ventilation air:"
   ]
  },
  {
   "cell_type": "code",
   "execution_count": 6,
   "metadata": {
    "ExecuteTime": {
     "end_time": "2023-12-05T18:49:17.613598400Z",
     "start_time": "2023-12-05T18:49:17.531133100Z"
    }
   },
   "outputs": [],
   "source": [
    "m_vent = Summer.outdoor_air.rho * V_vent"
   ]
  },
  {
   "cell_type": "code",
   "execution_count": 7,
   "metadata": {
    "jupyter": {
     "source_hidden": true
    },
    "tags": [],
    "ExecuteTime": {
     "end_time": "2023-12-05T18:49:17.629970400Z",
     "start_time": "2023-12-05T18:49:17.615599800Z"
    }
   },
   "outputs": [
    {
     "name": "stdout",
     "output_type": "stream",
     "text": [
      "--> mass flow rate of ventilation air = 167.2 lb/min\n"
     ]
    }
   ],
   "source": [
    "print(\n",
    "    \"--> mass flow rate of ventilation air = \"\n",
    "    f\"{m_vent.to('lb / min'):~P.1f}\"\n",
    ")"
   ]
  },
  {
   "cell_type": "markdown",
   "metadata": {},
   "source": [
    "### **COOLING DESIGN DAY**"
   ]
  },
  {
   "cell_type": "markdown",
   "metadata": {},
   "source": [
    "### 2. Zone Supply Air Flow Rates"
   ]
  },
  {
   "cell_type": "markdown",
   "metadata": {},
   "source": [
    "Zone air temperature:"
   ]
  },
  {
   "cell_type": "code",
   "execution_count": 8,
   "metadata": {
    "ExecuteTime": {
     "end_time": "2023-12-05T18:49:17.629970400Z",
     "start_time": "2023-12-05T18:49:17.621963300Z"
    }
   },
   "outputs": [],
   "source": [
    "T_zone = Qty(75, 'degF')"
   ]
  },
  {
   "cell_type": "markdown",
   "metadata": {},
   "source": [
    "Supply air temperature = zone air temperature - 20 °F:"
   ]
  },
  {
   "cell_type": "code",
   "execution_count": 9,
   "metadata": {
    "ExecuteTime": {
     "end_time": "2023-12-05T18:49:17.632969300Z",
     "start_time": "2023-12-05T18:49:17.627245900Z"
    }
   },
   "outputs": [],
   "source": [
    "Summer.T_supply = T_zone - Qty(20, 'delta_degF')"
   ]
  },
  {
   "cell_type": "markdown",
   "metadata": {},
   "source": [
    "Relative air humidity at cooling coil exit = 85%. The humidity of the supply air remains unchanged:"
   ]
  },
  {
   "cell_type": "code",
   "execution_count": 10,
   "metadata": {
    "ExecuteTime": {
     "end_time": "2023-12-05T18:49:17.652211200Z",
     "start_time": "2023-12-05T18:49:17.632969300Z"
    }
   },
   "outputs": [],
   "source": [
    "Summer.supply_air = HumidAir(\n",
    "    Tdb=Summer.T_supply,\n",
    "    RH=Qty(85, 'pct')\n",
    ")"
   ]
  },
  {
   "cell_type": "markdown",
   "metadata": {},
   "source": [
    "Apply sensible heat balance to zone A to determine supply air mass flow rate to zone A:"
   ]
  },
  {
   "cell_type": "code",
   "execution_count": 11,
   "metadata": {
    "ExecuteTime": {
     "end_time": "2023-12-05T18:49:17.728729Z",
     "start_time": "2023-12-05T18:49:17.637169600Z"
    }
   },
   "outputs": [],
   "source": [
    "zone_A = AirConditioningProcess(\n",
    "    T_ai=Summer.T_supply,\n",
    "    T_ao=T_zone,\n",
    "    Q_sen=Qty(224_844, 'Btu / hr')\n",
    ")\n",
    "Summer.m_supply_zA = zone_A.m_da"
   ]
  },
  {
   "cell_type": "markdown",
   "metadata": {},
   "source": [
    "Apply sensible heat balance to zone B to determine supply air mass flow rate to zone B:"
   ]
  },
  {
   "cell_type": "code",
   "execution_count": 12,
   "metadata": {
    "ExecuteTime": {
     "end_time": "2023-12-05T18:49:17.744792500Z",
     "start_time": "2023-12-05T18:49:17.730726400Z"
    }
   },
   "outputs": [],
   "source": [
    "zone_B = AirConditioningProcess(\n",
    "    T_ai=Summer.T_supply,\n",
    "    T_ao=T_zone,\n",
    "    Q_sen=Qty(103_308, 'Btu / hr')\n",
    ")\n",
    "Summer.m_supply_zB = zone_B.m_da"
   ]
  },
  {
   "cell_type": "markdown",
   "metadata": {},
   "source": [
    "Determine total mass flow rate and total volume flow rate of supply air to zones:"
   ]
  },
  {
   "cell_type": "code",
   "execution_count": 13,
   "metadata": {
    "ExecuteTime": {
     "end_time": "2023-12-05T18:49:17.760312700Z",
     "start_time": "2023-12-05T18:49:17.745794Z"
    }
   },
   "outputs": [],
   "source": [
    "Summer.m_supply = Summer.m_supply_zA + Summer.m_supply_zB\n",
    "Summer.V_supply = Summer.supply_air.v * Summer.m_supply"
   ]
  },
  {
   "cell_type": "code",
   "execution_count": 14,
   "metadata": {
    "jupyter": {
     "source_hidden": true
    },
    "tags": [],
    "ExecuteTime": {
     "end_time": "2023-12-05T18:49:17.794947Z",
     "start_time": "2023-12-05T18:49:17.751486400Z"
    }
   },
   "outputs": [
    {
     "data": {
      "text/plain": "<IPython.core.display.HTML object>",
      "text/html": "<ul><li>mass flow rate of supply air to zone A = <mark><b>769.099 lb/min</b></mark></li><li>mass flow rate of supply air to zone B = <mark><b>353.374 lb/min</b></mark></li><li>total mass flow rate of supply air to zones = <mark><b>1122.473 lb/min</b></mark></li><li>total volume flow rate of supply air to zones = <mark><b>14740.313 ft³/min</b></mark></li></ul>"
     },
     "metadata": {},
     "output_type": "display_data"
    }
   ],
   "source": [
    "ns.display_list([\n",
    "    \"mass flow rate of supply air to zone A = \"\n",
    "    f\"<mark><b>{Summer.m_supply_zA.to('lb / min'):~P.3f}</b></mark>\",\n",
    "    \"mass flow rate of supply air to zone B = \"\n",
    "    f\"<mark><b>{Summer.m_supply_zB.to('lb / min'):~P.3f}</b></mark>\",\n",
    "    \"total mass flow rate of supply air to zones = \"\n",
    "    f\"<mark><b>{Summer.m_supply.to('lb / min'):~P.3f}</b></mark>\",\n",
    "    \"total volume flow rate of supply air to zones = \"\n",
    "    f\"<mark><b>{Summer.V_supply.to('ft ** 3 / min'):~P.3f}</b></mark>\"\n",
    "])"
   ]
  },
  {
   "cell_type": "markdown",
   "metadata": {},
   "source": [
    "### 3. Fan Mechanical Power"
   ]
  },
  {
   "cell_type": "markdown",
   "metadata": {},
   "source": [
    "After determining the volume flow rates in the (see previous step 2), the total pressure drop in the supply air system can be calculated. The result is here 3 inWG:"
   ]
  },
  {
   "cell_type": "code",
   "execution_count": 15,
   "metadata": {
    "ExecuteTime": {
     "end_time": "2023-12-05T18:49:17.798958600Z",
     "start_time": "2023-12-05T18:49:17.758582500Z"
    }
   },
   "outputs": [],
   "source": [
    "dP_fan = Qty(3.0, 'inch_H2O_60F')"
   ]
  },
  {
   "cell_type": "markdown",
   "metadata": {},
   "source": [
    "Once volume flow rate and system pressure drop are known, a fan can be selected. The fan efficiency is here 60 %:"
   ]
  },
  {
   "cell_type": "code",
   "execution_count": 16,
   "metadata": {
    "ExecuteTime": {
     "end_time": "2023-12-05T18:49:17.814176500Z",
     "start_time": "2023-12-05T18:49:17.761311200Z"
    }
   },
   "outputs": [],
   "source": [
    "eta_fan = Qty(60.0, 'pct')"
   ]
  },
  {
   "cell_type": "markdown",
   "metadata": {},
   "source": [
    "The mechanical power taken up by the fan can now be calculated as:"
   ]
  },
  {
   "cell_type": "code",
   "execution_count": 17,
   "metadata": {
    "ExecuteTime": {
     "end_time": "2023-12-05T18:49:17.814176500Z",
     "start_time": "2023-12-05T18:49:17.766442900Z"
    }
   },
   "outputs": [],
   "source": [
    "W_fan = Summer.V_supply * dP_fan / eta_fan"
   ]
  },
  {
   "cell_type": "code",
   "execution_count": 18,
   "metadata": {
    "jupyter": {
     "source_hidden": true
    },
    "tags": [],
    "ExecuteTime": {
     "end_time": "2023-12-05T18:49:17.814176500Z",
     "start_time": "2023-12-05T18:49:17.769594100Z"
    }
   },
   "outputs": [
    {
     "name": "stdout",
     "output_type": "stream",
     "text": [
      "--> mechanical power taken up by fan = 12 hp\n"
     ]
    }
   ],
   "source": [
    "print(f\"--> mechanical power taken up by fan = {W_fan.to('hp'):~P.0f}\")"
   ]
  },
  {
   "cell_type": "markdown",
   "metadata": {
    "tags": []
   },
   "source": [
    "### 4. Supply Air Temperature\n",
    "This was already determined in step 2: `Summer.T_supply`."
   ]
  },
  {
   "cell_type": "markdown",
   "metadata": {},
   "source": [
    "### 5. Air Temperature at Cooling Coil Exit\n",
    "To determine the required air temperature at the cooling coil exit, any heating of the supply air due to inefficiency of the supply fan, and due to any heat absorption between the fan and the zone outlets also need to be taken into account. The cooling coil exit coincides with the supply fan inlet. The condition of the supply air at the fan exit has already been determined in step 2. The air condition at the inlet of the fan can be computed with:"
   ]
  },
  {
   "cell_type": "code",
   "execution_count": 19,
   "metadata": {
    "ExecuteTime": {
     "end_time": "2023-12-05T18:49:17.835812800Z",
     "start_time": "2023-12-05T18:49:17.775952700Z"
    }
   },
   "outputs": [],
   "source": [
    "fan = Fan(\n",
    "    air_out=Summer.supply_air,\n",
    "    eta_fan=eta_fan,\n",
    "    dP_fan=Qty(3.0, 'inch_H2O_60F')\n",
    ")"
   ]
  },
  {
   "cell_type": "markdown",
   "metadata": {},
   "source": [
    "The temperature rise across the fan follows from:"
   ]
  },
  {
   "cell_type": "code",
   "execution_count": 20,
   "metadata": {
    "ExecuteTime": {
     "end_time": "2023-12-05T18:49:17.835812800Z",
     "start_time": "2023-12-05T18:49:17.809755800Z"
    }
   },
   "outputs": [],
   "source": [
    "dT_fan = fan.air_out.Tdb - fan.air_in.Tdb"
   ]
  },
  {
   "cell_type": "code",
   "execution_count": 21,
   "metadata": {
    "jupyter": {
     "source_hidden": true
    },
    "tags": [],
    "ExecuteTime": {
     "end_time": "2023-12-05T18:49:17.958327300Z",
     "start_time": "2023-12-05T18:49:17.814176500Z"
    }
   },
   "outputs": [
    {
     "name": "stdout",
     "output_type": "stream",
     "text": [
      "--> fan temperature rise = 2 Δ°F\n"
     ]
    }
   ],
   "source": [
    "print(f\"--> fan temperature rise = {dT_fan.to('delta_degF'):~P.0f}\")"
   ]
  },
  {
   "cell_type": "markdown",
   "metadata": {},
   "source": [
    "Duct heat gain is neglected here:"
   ]
  },
  {
   "cell_type": "code",
   "execution_count": 22,
   "metadata": {
    "ExecuteTime": {
     "end_time": "2023-12-05T18:49:17.964364800Z",
     "start_time": "2023-12-05T18:49:17.819237100Z"
    }
   },
   "outputs": [],
   "source": [
    "dT_duct_gain = Qty(0.0, 'delta_degF')"
   ]
  },
  {
   "cell_type": "markdown",
   "metadata": {},
   "source": [
    "The required air temperature at the cooling coil exit follows from: "
   ]
  },
  {
   "cell_type": "code",
   "execution_count": 23,
   "metadata": {
    "ExecuteTime": {
     "end_time": "2023-12-05T18:49:17.964364800Z",
     "start_time": "2023-12-05T18:49:17.822752700Z"
    }
   },
   "outputs": [],
   "source": [
    "Summer.T_cold = Summer.T_supply - dT_fan - dT_duct_gain\n",
    "Summer.cooled_air = HumidAir(\n",
    "    Tdb=Summer.T_cold,\n",
    "    RH=Qty(85.0, 'pct')\n",
    ")"
   ]
  },
  {
   "cell_type": "code",
   "execution_count": 24,
   "metadata": {
    "jupyter": {
     "source_hidden": true
    },
    "tags": [],
    "ExecuteTime": {
     "end_time": "2023-12-05T18:49:17.964364800Z",
     "start_time": "2023-12-05T18:49:17.827334100Z"
    }
   },
   "outputs": [
    {
     "data": {
      "text/plain": "<IPython.core.display.HTML object>",
      "text/html": "<ul><li>required cooling coil leaving temperature = <mark><b>53 °F</b></mark></li></ul>"
     },
     "metadata": {},
     "output_type": "display_data"
    }
   ],
   "source": [
    "ns.display_list([\n",
    "    \"required cooling coil leaving temperature = \"\n",
    "    f\"<mark><b>{Summer.T_cold.to('degF'):~P.0f}</b></mark>\"\n",
    "])"
   ]
  },
  {
   "cell_type": "markdown",
   "metadata": {},
   "source": [
    "### 6. Return Air Condition\n",
    "Return duct heat gain is neglected here. The return air dry-bulb temperature for each zone is `T_zone`. The return air humidity of each zone is determined by the space condition line and the given zone temperature:"
   ]
  },
  {
   "cell_type": "markdown",
   "metadata": {},
   "source": [
    "**Zone A**"
   ]
  },
  {
   "cell_type": "code",
   "execution_count": 25,
   "metadata": {
    "ExecuteTime": {
     "end_time": "2023-12-05T18:49:17.987515900Z",
     "start_time": "2023-12-05T18:49:17.833820200Z"
    }
   },
   "outputs": [],
   "source": [
    "Q_sen_zA = Qty(224_844, 'Btu / hr')\n",
    "Q_lat_zA = Qty(56_000, 'Btu / hr')\n",
    "SHR_zA = Q_sen_zA / (Q_sen_zA + Q_lat_zA)\n",
    "\n",
    "zone_A = AirConditioningProcess(\n",
    "    air_in=Summer.supply_air,\n",
    "    T_ao=T_zone,\n",
    "    SHR=SHR_zA\n",
    ")\n",
    "Summer.return_air_zA = zone_A.air_out"
   ]
  },
  {
   "cell_type": "code",
   "execution_count": 26,
   "metadata": {
    "jupyter": {
     "source_hidden": true
    },
    "tags": [],
    "ExecuteTime": {
     "end_time": "2023-12-05T18:49:17.987515900Z",
     "start_time": "2023-12-05T18:49:17.919727200Z"
    }
   },
   "outputs": [
    {
     "name": "stdout",
     "output_type": "stream",
     "text": [
      "- dry-bulb temperature of return air from zone A = 75 °F\n",
      "- relative humidity of return air from zone A = 48 %\n"
     ]
    }
   ],
   "source": [
    "print(\n",
    "    \"- dry-bulb temperature of return air from zone A = \"\n",
    "    f\"{Summer.return_air_zA.Tdb.to('degF'):~P.0f}\",\n",
    "    \"- relative humidity of return air from zone A = \"\n",
    "    f\"{Summer.return_air_zA.RH.to('pct'):~P.0f}\",\n",
    "    sep='\\n'\n",
    ")"
   ]
  },
  {
   "cell_type": "markdown",
   "metadata": {},
   "source": [
    "**Zone B**"
   ]
  },
  {
   "cell_type": "code",
   "execution_count": 27,
   "metadata": {
    "ExecuteTime": {
     "end_time": "2023-12-05T18:49:18.010545900Z",
     "start_time": "2023-12-05T18:49:17.924860200Z"
    }
   },
   "outputs": [],
   "source": [
    "Q_sen_zB = Qty(103_308, 'Btu / hr')\n",
    "Q_lat_zB = Qty(20_000, 'Btu / hr')\n",
    "Q_tot_zB = Q_sen_zB + Q_lat_zB\n",
    "SHR_zB = Q_sen_zB / Q_tot_zB\n",
    "\n",
    "zone_B = AirConditioningProcess(\n",
    "    air_in=Summer.supply_air,\n",
    "    T_ao=T_zone,\n",
    "    SHR=SHR_zB\n",
    ")\n",
    "Summer.return_air_zB = zone_B.air_out"
   ]
  },
  {
   "cell_type": "code",
   "execution_count": 28,
   "metadata": {
    "jupyter": {
     "source_hidden": true
    },
    "tags": [],
    "ExecuteTime": {
     "end_time": "2023-12-05T18:49:18.011546300Z",
     "start_time": "2023-12-05T18:49:17.982559400Z"
    }
   },
   "outputs": [
    {
     "name": "stdout",
     "output_type": "stream",
     "text": [
      "- dry-bulb temperature of return air from zone B = 75 °F\n",
      "- relative humidity of return air from zone B = 47 %\n"
     ]
    }
   ],
   "source": [
    "print(\n",
    "    \"- dry-bulb temperature of return air from zone B = \"\n",
    "    f\"{Summer.return_air_zB.Tdb.to('degF'):~P.0f}\",\n",
    "    \"- relative humidity of return air from zone B = \"\n",
    "    f\"{Summer.return_air_zB.RH.to('pct'):~P.0f}\",\n",
    "    sep='\\n'\n",
    ")"
   ]
  },
  {
   "cell_type": "markdown",
   "metadata": {},
   "source": [
    "**Return Air to Mixing Chamber**"
   ]
  },
  {
   "cell_type": "code",
   "execution_count": 29,
   "metadata": {
    "ExecuteTime": {
     "end_time": "2023-12-05T18:49:18.146057600Z",
     "start_time": "2023-12-05T18:49:17.987515900Z"
    }
   },
   "outputs": [],
   "source": [
    "mix_return_air = AdiabaticMixing(\n",
    "    in1=AirStream(\n",
    "        state=Summer.return_air_zA,\n",
    "        m_da=Summer.m_supply_zA\n",
    "    ),\n",
    "    in2=AirStream(\n",
    "        state=Summer.return_air_zB,\n",
    "        m_da=Summer.m_supply_zB\n",
    "    ),\n",
    "    out=AirStream(m_da=Summer.m_supply)\n",
    ")\n",
    "Summer.return_air = mix_return_air.stream_out.state"
   ]
  },
  {
   "cell_type": "code",
   "execution_count": 30,
   "metadata": {
    "jupyter": {
     "source_hidden": true
    },
    "tags": [],
    "ExecuteTime": {
     "end_time": "2023-12-05T18:49:18.154097500Z",
     "start_time": "2023-12-05T18:49:18.106999200Z"
    }
   },
   "outputs": [
    {
     "name": "stdout",
     "output_type": "stream",
     "text": [
      "- dry-bulb temperature of return air to mixing chamber = 75 °F\n",
      "- relative humidity of return air to mixing chamber = 48 %\n"
     ]
    }
   ],
   "source": [
    "print(\n",
    "    \"- dry-bulb temperature of return air to mixing chamber = \"\n",
    "    f\"{Summer.return_air.Tdb.to('degF'):~P.0f}\",\n",
    "    \"- relative humidity of return air to mixing chamber = \"\n",
    "    f\"{Summer.return_air.RH.to('pct'):~P.0f}\",\n",
    "    sep='\\n'\n",
    ")"
   ]
  },
  {
   "cell_type": "markdown",
   "metadata": {},
   "source": [
    "### 7. Adiabatic Mixing of Ventilation and Return Air"
   ]
  },
  {
   "cell_type": "code",
   "execution_count": 31,
   "metadata": {
    "ExecuteTime": {
     "end_time": "2023-12-05T18:49:18.500770500Z",
     "start_time": "2023-12-05T18:49:18.112021200Z"
    }
   },
   "outputs": [],
   "source": [
    "mixing_chamber = AdiabaticMixing(\n",
    "    in1=AirStream(\n",
    "        state=Summer.outdoor_air,\n",
    "        m_da=m_vent\n",
    "    ),\n",
    "    in2=AirStream(\n",
    "        state=Summer.return_air,\n",
    "        m_da=Summer.m_supply - m_vent\n",
    "    ),\n",
    "    out=AirStream(m_da=Summer.m_supply)\n",
    ")\n",
    "Summer.mixed_air = mixing_chamber.stream_out.state"
   ]
  },
  {
   "cell_type": "code",
   "execution_count": 32,
   "metadata": {
    "jupyter": {
     "source_hidden": true
    },
    "tags": [],
    "ExecuteTime": {
     "end_time": "2023-12-05T18:49:18.509575500Z",
     "start_time": "2023-12-05T18:49:18.502776300Z"
    }
   },
   "outputs": [
    {
     "data": {
      "text/plain": "<IPython.core.display.HTML object>",
      "text/html": "<ul><li>dry-bulb temperature of mixed air = <mark><b>78 °F</b></mark></li><li>relative humidity of mixed_air = <mark><b>47 %</b></mark></li></ul>"
     },
     "metadata": {},
     "output_type": "display_data"
    }
   ],
   "source": [
    "ns.display_list([\n",
    "    \"dry-bulb temperature of mixed air = \"\n",
    "    f\"<mark><b>{Summer.mixed_air.Tdb.to('degF'):~P.0f}</b></mark>\",\n",
    "    \"relative humidity of mixed_air = \"\n",
    "    f\"<mark><b>{Summer.mixed_air.RH.to('pct'):~P.0f}</b></mark>\"\n",
    "])"
   ]
  },
  {
   "cell_type": "markdown",
   "metadata": {},
   "source": [
    "### 9. Cooling Coil Load"
   ]
  },
  {
   "cell_type": "code",
   "execution_count": 33,
   "metadata": {
    "tags": [],
    "ExecuteTime": {
     "end_time": "2023-12-05T18:49:18.663495100Z",
     "start_time": "2023-12-05T18:49:18.508577600Z"
    }
   },
   "outputs": [],
   "source": [
    "cooling_coil = AirConditioningProcess(\n",
    "    air_in=Summer.mixed_air,\n",
    "    air_out=Summer.cooled_air,\n",
    "    m_da=Summer.m_supply,\n",
    "    h_w=Qty(0.0, 'Btu / lb')\n",
    ")\n",
    "Summer.Q_cc = cooling_coil.Q\n",
    "Summer.Q_cc_sen = cooling_coil.Q_sen\n",
    "Summer.Q_cc_lat = cooling_coil.Q_lat"
   ]
  },
  {
   "cell_type": "code",
   "execution_count": 34,
   "metadata": {
    "jupyter": {
     "source_hidden": true
    },
    "tags": [],
    "ExecuteTime": {
     "end_time": "2023-12-05T18:49:18.678239200Z",
     "start_time": "2023-12-05T18:49:18.664507200Z"
    }
   },
   "outputs": [
    {
     "data": {
      "text/plain": "<IPython.core.display.HTML object>",
      "text/html": "<ul><li>total cooling coil load = <mark><b>-586874 Btu/h</b></mark> (-48.91 refrigeration_ton)</li><li>sensible cooling coil load = <mark><b>-411420 Btu/h</b></mark> (-34.28 refrigeration_ton)</li><li>latent cooling coil load = <mark><b>-176032 Btu/h</b></mark> (-14.67 refrigeration_ton)</li></ul>"
     },
     "metadata": {},
     "output_type": "display_data"
    }
   ],
   "source": [
    "ns.display_list([\n",
    "    \"total cooling coil load = \"\n",
    "    f\"<mark><b>{Summer.Q_cc.to('Btu / hr'):~P.0f}</b></mark> \"\n",
    "    f\"({Summer.Q_cc.to('refrigeration_ton'):~P.2f})\",\n",
    "    \"sensible cooling coil load = \"\n",
    "    f\"<mark><b>{Summer.Q_cc_sen.to('Btu / hr'):~P.0f}</b></mark> \"\n",
    "    f\"({Summer.Q_cc_sen.to('refrigeration_ton'):~P.2f})\",\n",
    "    \"latent cooling coil load = \"\n",
    "    f\"<mark><b>{Summer.Q_cc_lat.to('Btu / hr'):~P.0f}</b></mark> \"\n",
    "    f\"({Summer.Q_cc_lat.to('refrigeration_ton'):~P.2f})\"\n",
    "])"
   ]
  },
  {
   "cell_type": "markdown",
   "metadata": {},
   "source": [
    "### **HEATING DESIGN DAY**"
   ]
  },
  {
   "cell_type": "markdown",
   "metadata": {},
   "source": [
    "### 10. Preheat Coil Peak Load\n",
    "The peak load on the preheating coil is determined based on the load needed to heat the cold outdoor ventilation air on the winter design day to the nominal coil outlet temperature (`Summer.T_cold`)."
   ]
  },
  {
   "cell_type": "code",
   "execution_count": 35,
   "metadata": {
    "ExecuteTime": {
     "end_time": "2023-12-05T18:49:18.716892900Z",
     "start_time": "2023-12-05T18:49:18.671239200Z"
    }
   },
   "outputs": [],
   "source": [
    "Winter.T_outdoor = Qty(7, 'degF')\n",
    "Winter.outdoor_air = HumidAir(\n",
    "    Tdb=Winter.T_outdoor,\n",
    "    RH=Qty(0, 'pct')\n",
    ")  # fully dry air\n",
    "\n",
    "m_vent = Winter.outdoor_air.rho * V_vent\n",
    "\n",
    "preheat_coil = AirConditioningProcess(\n",
    "    T_ai=Winter.T_outdoor,\n",
    "    T_ao=Summer.T_cold,\n",
    "    m_da=m_vent\n",
    ")\n",
    "Winter.Q_ph_peak = preheat_coil.Q_sen"
   ]
  },
  {
   "cell_type": "code",
   "execution_count": 36,
   "metadata": {
    "tags": [],
    "ExecuteTime": {
     "end_time": "2023-12-05T18:49:18.718157Z",
     "start_time": "2023-12-05T18:49:18.693103100Z"
    }
   },
   "outputs": [
    {
     "data": {
      "text/plain": "<IPython.core.display.HTML object>",
      "text/html": "<ul><li>preheat coil peak load = <mark><b>137878 Btu/h</b></mark></li></ul>"
     },
     "metadata": {},
     "output_type": "display_data"
    }
   ],
   "source": [
    "ns.display_list([\n",
    "    \"preheat coil peak load = \"\n",
    "    f\"<mark><b>{Winter.Q_ph_peak.to('Btu / hr'):~P.0f}</b></mark>\"\n",
    "])"
   ]
  },
  {
   "cell_type": "markdown",
   "metadata": {},
   "source": [
    "### 11. Zone Supply Air Flow Rates"
   ]
  },
  {
   "cell_type": "markdown",
   "metadata": {},
   "source": [
    "**Zone A (requires heating)**<br>\n",
    "At first, take the maximum allowable supply air temperature of 105°F to determine mass flow rate:"
   ]
  },
  {
   "cell_type": "code",
   "execution_count": 37,
   "metadata": {
    "ExecuteTime": {
     "end_time": "2023-12-05T18:49:18.740469500Z",
     "start_time": "2023-12-05T18:49:18.698895Z"
    }
   },
   "outputs": [],
   "source": [
    "Winter.T_supply = Qty(105, 'degF')\n",
    "\n",
    "zone_A = AirConditioningProcess(\n",
    "    T_ai=Winter.T_supply,\n",
    "    T_ao=T_zone,\n",
    "    Q_sen=Qty(-143_000, 'Btu / hr')\n",
    ")\n",
    "Winter.m_supply_zA = zone_A.m_da"
   ]
  },
  {
   "cell_type": "code",
   "execution_count": 38,
   "metadata": {
    "jupyter": {
     "source_hidden": true
    },
    "tags": [],
    "ExecuteTime": {
     "end_time": "2023-12-05T18:49:18.742468900Z",
     "start_time": "2023-12-05T18:49:18.721667900Z"
    }
   },
   "outputs": [
    {
     "name": "stdout",
     "output_type": "stream",
     "text": [
      "--> supply air mass flow rate to zone A = 326.10 lb/min\n"
     ]
    }
   ],
   "source": [
    "print(\n",
    "    \"--> supply air mass flow rate to zone A = \"\n",
    "    f\"{Winter.m_supply_zA.to('lb / min'):~P.2f}\"\n",
    ")"
   ]
  },
  {
   "cell_type": "markdown",
   "metadata": {},
   "source": [
    "Recall the stipulation that mass flow rate cannot be less than 60% of the peak air flow."
   ]
  },
  {
   "cell_type": "code",
   "execution_count": 39,
   "metadata": {
    "ExecuteTime": {
     "end_time": "2023-12-05T18:49:18.742468900Z",
     "start_time": "2023-12-05T18:49:18.728173300Z"
    }
   },
   "outputs": [],
   "source": [
    "Winter.m_supply_zA = max(\n",
    "    zone_A.m_da,\n",
    "    0.6 * Summer.m_supply_zA\n",
    ")"
   ]
  },
  {
   "cell_type": "code",
   "execution_count": 40,
   "metadata": {
    "jupyter": {
     "source_hidden": true
    },
    "tags": [],
    "ExecuteTime": {
     "end_time": "2023-12-05T18:49:18.742468900Z",
     "start_time": "2023-12-05T18:49:18.731693200Z"
    }
   },
   "outputs": [
    {
     "data": {
      "text/plain": "<IPython.core.display.HTML object>",
      "text/html": "<ul><li>supply air mass flow rate to zone A = <mark><b>461.46 lb/min</b></mark></li></ul>"
     },
     "metadata": {},
     "output_type": "display_data"
    }
   ],
   "source": [
    "ns.display_list([\n",
    "    \"supply air mass flow rate to zone A = \"\n",
    "    f\"<mark><b>{Winter.m_supply_zA.to('lb / min'):~P.2f}</b></mark>\"\n",
    "])"
   ]
  },
  {
   "cell_type": "markdown",
   "metadata": {},
   "source": [
    "**Zone B (requires cooling)**<br>\n",
    "At first, take the minimum supply air temperature of 55°F to determine mass flow rate. Next, check again for the condition that mass flow rate cannot be less than 60% of the peak air flow:"
   ]
  },
  {
   "cell_type": "code",
   "execution_count": 41,
   "metadata": {
    "ExecuteTime": {
     "end_time": "2023-12-05T18:49:18.840876800Z",
     "start_time": "2023-12-05T18:49:18.738469700Z"
    }
   },
   "outputs": [],
   "source": [
    "zone_B = AirConditioningProcess(\n",
    "    T_ai=Qty(55.0, 'degF'),\n",
    "    T_ao=T_zone,\n",
    "    Q_sen=Qty(49_092, 'Btu / hr')\n",
    ")\n",
    "\n",
    "Winter.m_supply_zB = max(\n",
    "    zone_B.m_da,\n",
    "    0.6 * Summer.m_supply_zB\n",
    ")"
   ]
  },
  {
   "cell_type": "code",
   "execution_count": 42,
   "metadata": {
    "jupyter": {
     "source_hidden": true
    },
    "tags": [],
    "ExecuteTime": {
     "end_time": "2023-12-05T18:49:18.840876800Z",
     "start_time": "2023-12-05T18:49:18.759352400Z"
    }
   },
   "outputs": [
    {
     "data": {
      "text/plain": "<IPython.core.display.HTML object>",
      "text/html": "<ul><li>supply air mass flow rate to zone B = <mark><b>212.02 lb/min</b></mark></li></ul>"
     },
     "metadata": {},
     "output_type": "display_data"
    }
   ],
   "source": [
    "ns.display_list([\n",
    "    \"supply air mass flow rate to zone B = \"\n",
    "    f\"<mark><b>{Winter.m_supply_zB.to('lb / min'):~P.2f}</b></mark>\"\n",
    "])"
   ]
  },
  {
   "cell_type": "markdown",
   "metadata": {},
   "source": [
    "**Total supply air mass flow rate**"
   ]
  },
  {
   "cell_type": "code",
   "execution_count": 43,
   "metadata": {
    "ExecuteTime": {
     "end_time": "2023-12-05T18:49:18.840876800Z",
     "start_time": "2023-12-05T18:49:18.764017500Z"
    }
   },
   "outputs": [],
   "source": [
    "Winter.m_supply = Winter.m_supply_zA + Winter.m_supply_zB"
   ]
  },
  {
   "cell_type": "code",
   "execution_count": 44,
   "metadata": {
    "jupyter": {
     "source_hidden": true
    },
    "tags": [],
    "ExecuteTime": {
     "end_time": "2023-12-05T18:49:18.841876200Z",
     "start_time": "2023-12-05T18:49:18.768309200Z"
    }
   },
   "outputs": [
    {
     "data": {
      "text/plain": "<IPython.core.display.HTML object>",
      "text/html": "<ul><li>total supply air mass flow rate = <mark><b>673.48 lb/min</b></mark></li></ul>"
     },
     "metadata": {},
     "output_type": "display_data"
    }
   ],
   "source": [
    "ns.display_list([\n",
    "    \"total supply air mass flow rate = \"\n",
    "    f\"<mark><b>{Winter.m_supply.to('lb / min'):~P.2f}</b></mark>\"\n",
    "])"
   ]
  },
  {
   "cell_type": "markdown",
   "metadata": {},
   "source": [
    "### 12. Supply Air Temperature"
   ]
  },
  {
   "cell_type": "markdown",
   "metadata": {},
   "source": [
    "**Zone A**"
   ]
  },
  {
   "cell_type": "code",
   "execution_count": 45,
   "metadata": {
    "ExecuteTime": {
     "end_time": "2023-12-05T18:49:18.843005200Z",
     "start_time": "2023-12-05T18:49:18.775060600Z"
    }
   },
   "outputs": [],
   "source": [
    "zone_A = AirConditioningProcess(\n",
    "    T_ao=T_zone,\n",
    "    m_da=Winter.m_supply_zA,\n",
    "    Q_sen=Qty(-143_000, 'Btu / hr')\n",
    ")\n",
    "Winter.T_supply_zA = zone_A.T_ai"
   ]
  },
  {
   "cell_type": "code",
   "execution_count": 46,
   "metadata": {
    "jupyter": {
     "source_hidden": true
    },
    "tags": [],
    "ExecuteTime": {
     "end_time": "2023-12-05T18:49:18.844044600Z",
     "start_time": "2023-12-05T18:49:18.796423100Z"
    }
   },
   "outputs": [
    {
     "name": "stdout",
     "output_type": "stream",
     "text": [
      "--> required supply air temperature for zone A: 96.2 °F\n"
     ]
    }
   ],
   "source": [
    "print(\n",
    "    \"--> required supply air temperature for zone A: \"\n",
    "    f\"{Winter.T_supply_zA.to('degF'):~P.1f}\"\n",
    ")"
   ]
  },
  {
   "cell_type": "markdown",
   "metadata": {},
   "source": [
    "**Zone B**"
   ]
  },
  {
   "cell_type": "code",
   "execution_count": 47,
   "metadata": {
    "ExecuteTime": {
     "end_time": "2023-12-05T18:49:18.862630300Z",
     "start_time": "2023-12-05T18:49:18.801792200Z"
    }
   },
   "outputs": [],
   "source": [
    "zone_B = AirConditioningProcess(\n",
    "    T_ao=T_zone,\n",
    "    m_da=Winter.m_supply_zB,\n",
    "    Q_sen=Qty(49_092, 'Btu / hr')\n",
    ")\n",
    "Winter.T_supply_zB = zone_B.T_ai"
   ]
  },
  {
   "cell_type": "code",
   "execution_count": 48,
   "metadata": {
    "jupyter": {
     "source_hidden": true
    },
    "tags": [],
    "ExecuteTime": {
     "end_time": "2023-12-05T18:49:18.863607Z",
     "start_time": "2023-12-05T18:49:18.822795300Z"
    }
   },
   "outputs": [
    {
     "name": "stdout",
     "output_type": "stream",
     "text": [
      "--> required supply air temperature for zone B: 59.2 °F\n"
     ]
    }
   ],
   "source": [
    "print(\n",
    "    \"--> required supply air temperature for zone B: \"\n",
    "    f\"{Winter.T_supply_zB.to('degF'):~P.1f}\"\n",
    ")"
   ]
  },
  {
   "cell_type": "markdown",
   "metadata": {},
   "source": [
    "**Final supply air temperature**<br>\n",
    "The final supply air temperature must be the smallest required supply air temperature of all zones."
   ]
  },
  {
   "cell_type": "code",
   "execution_count": 49,
   "metadata": {
    "ExecuteTime": {
     "end_time": "2023-12-05T18:49:18.863607Z",
     "start_time": "2023-12-05T18:49:18.826997400Z"
    }
   },
   "outputs": [],
   "source": [
    "Winter.T_supply = min(Winter.T_supply_zA, Winter.T_supply_zB)\n",
    "Winter.supply_air = HumidAir(\n",
    "    Tdb=Winter.T_supply,\n",
    "    RH=Qty(0, 'pct')\n",
    ")"
   ]
  },
  {
   "cell_type": "code",
   "execution_count": 50,
   "metadata": {
    "jupyter": {
     "source_hidden": true
    },
    "tags": [],
    "ExecuteTime": {
     "end_time": "2023-12-05T18:49:18.867599100Z",
     "start_time": "2023-12-05T18:49:18.832448600Z"
    }
   },
   "outputs": [
    {
     "data": {
      "text/plain": "<IPython.core.display.HTML object>",
      "text/html": "<ul><li>required supply air temperature = <mark><b>59.2 °F</b></mark></li></ul>"
     },
     "metadata": {},
     "output_type": "display_data"
    }
   ],
   "source": [
    "ns.display_list([\n",
    "    \"required supply air temperature = \"\n",
    "    f\"<mark><b>{Winter.T_supply.to('degF'):~P.1f}</b></mark>\"\n",
    "])"
   ]
  },
  {
   "cell_type": "markdown",
   "metadata": {},
   "source": [
    "### 13. Return Air Condition"
   ]
  },
  {
   "cell_type": "code",
   "execution_count": 51,
   "metadata": {
    "ExecuteTime": {
     "end_time": "2023-12-05T18:49:19.034436600Z",
     "start_time": "2023-12-05T18:49:18.837880100Z"
    }
   },
   "outputs": [],
   "source": [
    "mix_return_air = AdiabaticMixing(\n",
    "    in1=AirStream(\n",
    "        state=HumidAir(\n",
    "            Tdb=T_zone,\n",
    "            RH=Qty(0.0, 'pct')\n",
    "        ),\n",
    "        m_da=Winter.m_supply_zA\n",
    "    ),\n",
    "    in2=AirStream(\n",
    "        state=HumidAir(\n",
    "            Tdb=T_zone,\n",
    "            RH=Qty(0.0, 'pct')\n",
    "        ),\n",
    "        m_da=Winter.m_supply_zB\n",
    "    ),\n",
    "    out=AirStream(m_da=Winter.m_supply)\n",
    ")\n",
    "Winter.return_air = mix_return_air.stream_out.state"
   ]
  },
  {
   "cell_type": "markdown",
   "metadata": {},
   "source": [
    "### 14. Adiabatic Mixing of Ventilation and Return Air"
   ]
  },
  {
   "cell_type": "code",
   "execution_count": 52,
   "metadata": {
    "ExecuteTime": {
     "end_time": "2023-12-05T18:49:19.035440700Z",
     "start_time": "2023-12-05T18:49:18.886805600Z"
    }
   },
   "outputs": [],
   "source": [
    "mixing_chamber = AdiabaticMixing(\n",
    "    in1=AirStream(\n",
    "        state=Winter.outdoor_air,\n",
    "        m_da=m_vent\n",
    "    ),\n",
    "    in2=AirStream(\n",
    "        state=Winter.return_air,\n",
    "        m_da=Winter.m_supply - m_vent\n",
    "    ),\n",
    "    out=AirStream(m_da=Winter.m_supply)\n",
    ")\n",
    "Winter.mixed_air = mixing_chamber.stream_out.state"
   ]
  },
  {
   "cell_type": "code",
   "execution_count": 53,
   "metadata": {
    "jupyter": {
     "source_hidden": true
    },
    "tags": [],
    "ExecuteTime": {
     "end_time": "2023-12-05T18:49:19.035440700Z",
     "start_time": "2023-12-05T18:49:18.928141400Z"
    }
   },
   "outputs": [
    {
     "name": "stdout",
     "output_type": "stream",
     "text": [
      "- dry-bulb temperature of mixed air = 54.4 °F\n",
      "- relative humidity of mixed air = 0 %\n"
     ]
    }
   ],
   "source": [
    "print(\n",
    "    \"- dry-bulb temperature of mixed air = \"\n",
    "    f\"{Winter.mixed_air.Tdb.to('degF'):~P.1f}\",\n",
    "    \"- relative humidity of mixed air = \"\n",
    "    f\"{Winter.mixed_air.RH.to('pct'):~P.0f}\",\n",
    "    sep='\\n'\n",
    ")"
   ]
  },
  {
   "cell_type": "markdown",
   "metadata": {},
   "source": [
    "### 15. Cooling coil load/Preheat coil load"
   ]
  },
  {
   "cell_type": "markdown",
   "metadata": {},
   "source": [
    "**Cooling coil leaving temperature**"
   ]
  },
  {
   "cell_type": "markdown",
   "metadata": {},
   "source": [
    "Temperature rise of air due to fan:"
   ]
  },
  {
   "cell_type": "code",
   "execution_count": 54,
   "metadata": {
    "ExecuteTime": {
     "end_time": "2023-12-05T18:49:19.038442900Z",
     "start_time": "2023-12-05T18:49:18.930980800Z"
    }
   },
   "outputs": [],
   "source": [
    "fan = Fan(\n",
    "    air_out=Winter.supply_air,\n",
    "    eta_fan=eta_fan,\n",
    "    dP_fan=Qty(3.0, 'inch_H2O_60F')\n",
    ")\n",
    "dT_fan = fan.air_out.Tdb - fan.air_in.Tdb"
   ]
  },
  {
   "cell_type": "markdown",
   "metadata": {},
   "source": [
    "Duct heat gain:"
   ]
  },
  {
   "cell_type": "code",
   "execution_count": 55,
   "metadata": {
    "ExecuteTime": {
     "end_time": "2023-12-05T18:49:19.038442900Z",
     "start_time": "2023-12-05T18:49:18.962009Z"
    }
   },
   "outputs": [],
   "source": [
    "dT_duct_gain = Qty(0.0, 'delta_degF')"
   ]
  },
  {
   "cell_type": "markdown",
   "metadata": {},
   "source": [
    "Required air temperature at cooling coil exit:"
   ]
  },
  {
   "cell_type": "code",
   "execution_count": 56,
   "metadata": {
    "ExecuteTime": {
     "end_time": "2023-12-05T18:49:19.038442900Z",
     "start_time": "2023-12-05T18:49:18.965524900Z"
    }
   },
   "outputs": [],
   "source": [
    "Winter.T_cold = Winter.T_supply - dT_fan - dT_duct_gain"
   ]
  },
  {
   "cell_type": "code",
   "execution_count": 57,
   "metadata": {
    "jupyter": {
     "source_hidden": true
    },
    "tags": [],
    "ExecuteTime": {
     "end_time": "2023-12-05T18:49:19.039442600Z",
     "start_time": "2023-12-05T18:49:18.969738200Z"
    }
   },
   "outputs": [
    {
     "data": {
      "text/plain": "<IPython.core.display.HTML object>",
      "text/html": "<ul><li>required cooling coil leaving temperature = <mark><b>57.3 °F</b></mark></li></ul>"
     },
     "metadata": {},
     "output_type": "display_data"
    }
   ],
   "source": [
    "ns.display_list([\n",
    "    \"required cooling coil leaving temperature = \"\n",
    "    f\"<mark><b>{Winter.T_cold.to('degF'):~P.1f}</b></mark>\"\n",
    "])"
   ]
  },
  {
   "cell_type": "markdown",
   "metadata": {},
   "source": [
    "Note that the required air temperature at the cooling coil exit is higher than the temperature of the mixed air. So, instead of cooling, the air must be heated in the preheating coil."
   ]
  },
  {
   "cell_type": "markdown",
   "metadata": {},
   "source": [
    "**Preheat coil load**"
   ]
  },
  {
   "cell_type": "code",
   "execution_count": 58,
   "metadata": {
    "ExecuteTime": {
     "end_time": "2023-12-05T18:49:19.057877500Z",
     "start_time": "2023-12-05T18:49:18.974865200Z"
    }
   },
   "outputs": [],
   "source": [
    "preheat_coil = AirConditioningProcess(\n",
    "    T_ai=Winter.mixed_air.Tdb,\n",
    "    T_ao=Winter.T_cold,\n",
    "    m_da=Winter.m_supply\n",
    ")\n",
    "Winter.Q_ph = preheat_coil.Q_sen"
   ]
  },
  {
   "cell_type": "code",
   "execution_count": 59,
   "metadata": {
    "tags": [],
    "ExecuteTime": {
     "end_time": "2023-12-05T18:49:19.057877500Z",
     "start_time": "2023-12-05T18:49:18.994590400Z"
    }
   },
   "outputs": [
    {
     "data": {
      "text/plain": "<IPython.core.display.HTML object>",
      "text/html": "<ul><li>preheat coil load = <mark><b>29050 Btu/h</b></mark></li></ul>"
     },
     "metadata": {},
     "output_type": "display_data"
    }
   ],
   "source": [
    "ns.display_list([\n",
    "    \"preheat coil load = \"\n",
    "    f\"<mark><b>{Winter.Q_ph.to('Btu / hr'):~P.0f}</b></mark>\"\n",
    "])"
   ]
  },
  {
   "cell_type": "markdown",
   "metadata": {},
   "source": [
    "### 16. Reheat Coil Loads"
   ]
  },
  {
   "cell_type": "markdown",
   "metadata": {},
   "source": [
    "**Zone A**"
   ]
  },
  {
   "cell_type": "code",
   "execution_count": 60,
   "metadata": {
    "ExecuteTime": {
     "end_time": "2023-12-05T18:49:19.057877500Z",
     "start_time": "2023-12-05T18:49:19.000259600Z"
    }
   },
   "outputs": [],
   "source": [
    "reheater_zA = AirConditioningProcess(\n",
    "    T_ai=Winter.T_supply,\n",
    "    T_ao=Winter.T_supply_zA,\n",
    "    m_da=Winter.m_supply_zA\n",
    ")\n",
    "Winter.Q_rh_zA = reheater_zA.Q_sen"
   ]
  },
  {
   "cell_type": "code",
   "execution_count": 61,
   "metadata": {
    "jupyter": {
     "source_hidden": true
    },
    "tags": [],
    "ExecuteTime": {
     "end_time": "2023-12-05T18:49:19.059381Z",
     "start_time": "2023-12-05T18:49:19.016960600Z"
    }
   },
   "outputs": [
    {
     "data": {
      "text/plain": "<IPython.core.display.HTML object>",
      "text/html": "<ul><li>reheat coil load of zone A = <mark><b>249846 Btu/h</b></mark></li></ul>"
     },
     "metadata": {},
     "output_type": "display_data"
    }
   ],
   "source": [
    "ns.display_list([\n",
    "    \"reheat coil load of zone A = \"\n",
    "    f\"<mark><b>{Winter.Q_rh_zA.to('Btu / hr'):~P.0f}</b></mark>\"\n",
    "])"
   ]
  },
  {
   "cell_type": "markdown",
   "metadata": {},
   "source": [
    "**Zone B**"
   ]
  },
  {
   "cell_type": "code",
   "execution_count": 62,
   "metadata": {
    "ExecuteTime": {
     "end_time": "2023-12-05T18:49:19.077710300Z",
     "start_time": "2023-12-05T18:49:19.023156600Z"
    }
   },
   "outputs": [],
   "source": [
    "reheater_zB = AirConditioningProcess(\n",
    "    T_ai=Winter.T_supply,\n",
    "    T_ao=Winter.T_supply_zB,\n",
    "    m_da=Winter.m_supply_zB\n",
    ")\n",
    "Winter.Q_rh_zB = reheater_zB.Q_sen"
   ]
  },
  {
   "cell_type": "code",
   "execution_count": 63,
   "metadata": {
    "jupyter": {
     "source_hidden": true
    },
    "tags": [],
    "ExecuteTime": {
     "end_time": "2023-12-05T18:49:19.123710800Z",
     "start_time": "2023-12-05T18:49:19.038442900Z"
    }
   },
   "outputs": [
    {
     "data": {
      "text/plain": "<IPython.core.display.HTML object>",
      "text/html": "<ul><li>reheat coil load of zone B = <mark><b>0 Btu/h</b></mark></li></ul>"
     },
     "metadata": {},
     "output_type": "display_data"
    }
   ],
   "source": [
    "ns.display_list([\n",
    "    f\"reheat coil load of zone B = \"\n",
    "    f\"<mark><b>{Winter.Q_rh_zB.to('Btu / hr'):~P.0f}</b></mark>\"\n",
    "])"
   ]
  },
  {
   "cell_type": "markdown",
   "metadata": {},
   "source": [
    "**Total peak heating requirement**"
   ]
  },
  {
   "cell_type": "code",
   "execution_count": 64,
   "metadata": {
    "ExecuteTime": {
     "end_time": "2023-12-05T18:49:19.123710800Z",
     "start_time": "2023-12-05T18:49:19.042118400Z"
    }
   },
   "outputs": [],
   "source": [
    "Winter.Q_heat_tot = Winter.Q_ph_peak + Winter.Q_rh_zA + Winter.Q_rh_zB"
   ]
  },
  {
   "cell_type": "code",
   "execution_count": 65,
   "metadata": {
    "jupyter": {
     "source_hidden": true
    },
    "tags": [],
    "ExecuteTime": {
     "end_time": "2023-12-05T18:49:19.125710100Z",
     "start_time": "2023-12-05T18:49:19.047309900Z"
    }
   },
   "outputs": [
    {
     "data": {
      "text/plain": "<IPython.core.display.HTML object>",
      "text/html": "<ul><li>total peak heating load = <mark><b>387723.705 Btu/h</b></mark></li></ul>"
     },
     "metadata": {},
     "output_type": "display_data"
    }
   ],
   "source": [
    "ns.display_list([\n",
    "    \"total peak heating load = \"\n",
    "    f\"<mark><b>{Winter.Q_heat_tot.to('Btu / hr'):~P.3f}</b></mark>\"\n",
    "])"
   ]
  },
  {
   "cell_type": "markdown",
   "metadata": {},
   "source": [
    "This heat rate must be increased by pickup loads from night setback, safety factors, and piping losses in order to size the coils and the boiler."
   ]
  },
  {
   "cell_type": "code",
   "execution_count": 65,
   "metadata": {
    "ExecuteTime": {
     "end_time": "2023-12-05T18:49:19.125710100Z",
     "start_time": "2023-12-05T18:49:19.051475200Z"
    }
   },
   "outputs": [],
   "source": []
  }
 ],
 "metadata": {
  "kernelspec": {
   "display_name": "Python 3 (ipykernel)",
   "language": "python",
   "name": "python3"
  },
  "language_info": {
   "codemirror_mode": {
    "name": "ipython",
    "version": 3
   },
   "file_extension": ".py",
   "mimetype": "text/x-python",
   "name": "python",
   "nbconvert_exporter": "python",
   "pygments_lexer": "ipython3",
   "version": "3.11.0"
  },
  "toc-showcode": false,
  "toc-showmarkdowntxt": false
 },
 "nbformat": 4,
 "nbformat_minor": 4
}
