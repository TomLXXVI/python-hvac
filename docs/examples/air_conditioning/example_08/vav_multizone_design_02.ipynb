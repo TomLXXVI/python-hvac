{
 "cells": [
  {
   "cell_type": "markdown",
   "id": "7cf949265d1e9dcf",
   "metadata": {},
   "source": [
    "# Multi-zone Single-Duct VAV System Sizing (Design or Peak Conditions) - Take Two"
   ]
  },
  {
   "cell_type": "markdown",
   "id": "30d187dc87c87ba8",
   "metadata": {},
   "source": [
    "In this notebook the same example as in notebook `vav_design_01.ipynb` is repeated, but now we will use the `multizone.design` module from package `air_conditioning` to design the two-zone VAV system."
   ]
  },
  {
   "cell_type": "code",
   "execution_count": 1,
   "id": "0d4753e4-09fe-4db4-9ffa-ebbe67dcee04",
   "metadata": {
    "ExecuteTime": {
     "end_time": "2023-08-16T13:08:16.449127200Z",
     "start_time": "2023-08-16T13:08:16.251277600Z"
    }
   },
   "outputs": [],
   "source": [
    "import warnings\n",
    "from hvac.fluids import CoolPropWarning\n",
    "warnings.filterwarnings('ignore', category=CoolPropWarning)"
   ]
  },
  {
   "cell_type": "code",
   "execution_count": 2,
   "id": "9736d2f7-c9ef-4f86-8734-6ce4de9edb28",
   "metadata": {
    "ExecuteTime": {
     "end_time": "2023-08-16T13:08:16.449127200Z",
     "start_time": "2023-08-16T13:08:16.257194200Z"
    },
    "tags": []
   },
   "outputs": [],
   "source": [
    "from hvac import Quantity\n",
    "from hvac.fluids import HumidAir, Fluid\n",
    "from hvac.air_conditioning.multi_zone import Zone, Season\n",
    "import hvac.air_conditioning.multi_zone.design as design"
   ]
  },
  {
   "cell_type": "code",
   "execution_count": 3,
   "id": "a1aae2f8-7c59-43b8-b4e2-36fc392a6423",
   "metadata": {
    "ExecuteTime": {
     "end_time": "2023-08-16T13:08:16.464129Z",
     "start_time": "2023-08-16T13:08:16.262319800Z"
    },
    "tags": []
   },
   "outputs": [],
   "source": [
    "Q_ = Quantity"
   ]
  },
  {
   "cell_type": "markdown",
   "id": "907d50d5-8b65-4bf3-911b-3278e9795f12",
   "metadata": {},
   "source": [
    "## Zone A "
   ]
  },
  {
   "cell_type": "markdown",
   "id": "2c240ea2-b665-4cee-af0d-8e2909eb0799",
   "metadata": {},
   "source": [
    "- Enter the cooling and heating load of the zone on the peak summer and peak winter design day.\n",
    "- Enter the desired state of the zone air on the peak summer and peak winter design day.\n",
    "- If local exhaust of air happens in the zone, the mass flow rate can be specified through parameter `m_exhaust` of the `Season` object (zero by default)."
   ]
  },
  {
   "cell_type": "code",
   "execution_count": 4,
   "id": "577546ea-86fd-4f4f-b19b-eef8e3f88210",
   "metadata": {
    "ExecuteTime": {
     "end_time": "2023-08-16T13:08:16.579644600Z",
     "start_time": "2023-08-16T13:08:16.271365100Z"
    },
    "tags": []
   },
   "outputs": [],
   "source": [
    "zone_A = Zone(\n",
    "    name='zone A',\n",
    "    summer=Season(\n",
    "        Q_sen=Q_(224_844, 'Btu / hr'),\n",
    "        Q_lat=Q_(56_000, 'Btu / hr'),\n",
    "        zone_air=HumidAir(\n",
    "            Tdb=Q_(75.0, 'degF'),\n",
    "            RH=Q_(50.0, 'pct')\n",
    "        )\n",
    "    ),\n",
    "    winter=Season(\n",
    "        Q_sen=Q_(-143_000, 'Btu / hr'),  # heat loss --> minus sign\n",
    "        Q_lat=Q_(0.0, 'Btu / hr'),       # latent load isn't considered\n",
    "        zone_air=HumidAir(\n",
    "            Tdb=Q_(75.0, 'degF'),\n",
    "            RH=Q_(50.0, 'pct')\n",
    "        )\n",
    "    )\n",
    ")"
   ]
  },
  {
   "cell_type": "markdown",
   "id": "06c660f9-dc57-4bc0-9712-2d118d140099",
   "metadata": {},
   "source": [
    "## Zone B"
   ]
  },
  {
   "cell_type": "code",
   "execution_count": 5,
   "id": "33f00fd9-8919-42bf-9a26-05e3779a1795",
   "metadata": {
    "ExecuteTime": {
     "end_time": "2023-08-16T13:08:16.583642200Z",
     "start_time": "2023-08-16T13:08:16.279459100Z"
    },
    "tags": []
   },
   "outputs": [],
   "source": [
    "zone_B = Zone(\n",
    "    name='zone B',\n",
    "    summer=Season(\n",
    "        Q_sen=Q_(103_308, 'Btu / hr'),\n",
    "        Q_lat=Q_(20_000, 'Btu / hr'),\n",
    "        zone_air=HumidAir(\n",
    "            Tdb=Q_(75.0, 'degF'),\n",
    "            RH=Q_(50.0, 'pct')\n",
    "        )\n",
    "    ),\n",
    "    winter=Season(\n",
    "        Q_sen=Q_(49_092, 'Btu / hr'),  # zone B requires cooling in winter\n",
    "        Q_lat=Q_(0.0, 'Btu / hr'),\n",
    "        zone_air=HumidAir(\n",
    "            Tdb=Q_(75.0, 'degF'),\n",
    "            RH=Q_(30.0, 'pct')\n",
    "        )\n",
    "    )\n",
    ")"
   ]
  },
  {
   "cell_type": "markdown",
   "id": "6a6e2e9a-9a2f-414a-8610-9c820ed531a6",
   "metadata": {},
   "source": [
    "## Configure the VAV System"
   ]
  },
  {
   "cell_type": "markdown",
   "id": "0bdc297e-a07f-46e6-9733-5428c985feb4",
   "metadata": {},
   "source": [
    "- Add the zones to the system.\n",
    "- Enter the state of outdoor air on the peak summer and on the peak winter design day.\n",
    "- Enter the state of injected steam in the humidifier to humidify air in winter.\n",
    "- Enter the required volume flow rate of outdoor air for ventilating the building.\n",
    "\n",
    "> **IMPORTANT NOTE**<br>\n",
    "> The supply fan of the VAV system is situated downstream of the cooling coil (so-called draw-through arrangement)."
   ]
  },
  {
   "cell_type": "markdown",
   "id": "b88e30b7-c16e-4474-a5b2-e7ba87a4aa9b",
   "metadata": {},
   "source": [
    "If humidification of supply air on the peak winter design day is necessary, saturated steam of 100 °C will be used:"
   ]
  },
  {
   "cell_type": "code",
   "execution_count": 6,
   "id": "ef791acc-7072-4cbd-afb2-bb8f207b32a2",
   "metadata": {
    "ExecuteTime": {
     "end_time": "2023-08-16T13:08:16.605657500Z",
     "start_time": "2023-08-16T13:08:16.290789600Z"
    },
    "tags": []
   },
   "outputs": [],
   "source": [
    "Water = Fluid('Water')\n",
    "steam = Water(T=Q_(100, 'degC'), x=Q_(1, 'frac'))"
   ]
  },
  {
   "cell_type": "code",
   "execution_count": 7,
   "id": "ec98e42f-ce3f-43d5-a717-f4a16c9a4917",
   "metadata": {
    "ExecuteTime": {
     "end_time": "2023-08-16T13:08:16.699724100Z",
     "start_time": "2023-08-16T13:08:16.297302Z"
    },
    "tags": []
   },
   "outputs": [],
   "source": [
    "vav_system = design.VAVSystem(\n",
    "    zones=[zone_A, zone_B],\n",
    "    outdoor_air_summer=HumidAir(\n",
    "        Tdb=Q_(97, 'degF'),\n",
    "        Twb=Q_(76, 'degF')\n",
    "    ),\n",
    "    outdoor_air_winter=HumidAir(\n",
    "        Tdb=Q_(7, 'degF'),\n",
    "        RH=Q_(30, 'pct')\n",
    "    ),\n",
    "    steam_winter=steam,\n",
    "    V_vent=Q_(2400, 'ft ** 3 / min')\n",
    ")"
   ]
  },
  {
   "cell_type": "markdown",
   "id": "a7585220-e4c1-4c4f-aae8-f00ecfe103f8",
   "metadata": {},
   "source": [
    "## Design the VAV System for the Peak Summer Design Day"
   ]
  },
  {
   "cell_type": "markdown",
   "id": "c1c3dd12-ae1d-42cc-bd59-2a074de55bdb",
   "metadata": {},
   "source": [
    "Before running the design routines for the peak summer design day, a number of optional conditions can still be specified:\n",
    "- the allowable difference between the supply and zone air temperature to ensure proper mixing (default is 12 K).\n",
    "- the efficiency of the supply and/or return fan, used to determine the increase of the supply air temperature due to fan heating (ignored by default)\n",
    "- the total pressure (difference or gain) of the supply and/or return fan, also used to determine the degree of fan heating (ignored by default)\n",
    "- any heat gain along the supply and/or return duct (by default ignored)\n",
    "\n",
    "In this example, a return fan is not present and duct heat gains are ignored. The fact that the efficiency and pressure gain of the supply fan are entered here may imply that a supply fan was already selected, based on a pressure loss calculation of the duct system, or that reasonable values, based on experience, were guessed for the purpose of a preliminary calculation. "
   ]
  },
  {
   "cell_type": "code",
   "execution_count": 8,
   "id": "cf042d37-0fdd-4172-84c2-7d72232b1d96",
   "metadata": {
    "ExecuteTime": {
     "end_time": "2023-08-16T13:08:17.117162700Z",
     "start_time": "2023-08-16T13:08:16.378454900Z"
    },
    "tags": []
   },
   "outputs": [],
   "source": [
    "results = vav_system.design_summer(\n",
    "    dT_sup=Q_(20, 'delta_degF'),\n",
    "    eta_fan_sup=Q_(60, 'pct'),\n",
    "    dP_fan_sup=Q_(3, 'inch_H2O_60F'),\n",
    "    Q_duct_sup=None,\n",
    "    eta_fan_ret=None,\n",
    "    dP_fan_ret=None,\n",
    "    Q_duct_ret=None\n",
    ")"
   ]
  },
  {
   "cell_type": "markdown",
   "id": "de0f8228-304f-4997-8ef5-8f69ce205a44",
   "metadata": {},
   "source": [
    "The returned results (a dictionary) are only the most principal results from the designing process:\n",
    "- cooling-coil load (sensible `'Q_cc_sen'`, latent `'Q_cc_lat'` and total `'Q_cc_tot'`)\n",
    "- volume flow rate `'V_sup'` of supply air (referred to the air state downstream of the supply fan)\n",
    "- volume flow rate `'V_ret'` of return air (referred to the state of the return air to the AHU)\n",
    "- temperature `'T_sup'` of the supply air to the zones\n",
    "- temperature `'T_ret'` of the return air from the zones\n",
    "\n",
    "However, all results can also be retrieved through instance attributes."
   ]
  },
  {
   "cell_type": "markdown",
   "id": "d2cb485d-2696-405f-aa40-a169f5706026",
   "metadata": {},
   "source": [
    "### Air States"
   ]
  },
  {
   "cell_type": "code",
   "execution_count": 9,
   "id": "446815d3-33f8-4172-be20-e11c62d96f2f",
   "metadata": {
    "ExecuteTime": {
     "end_time": "2023-08-16T13:08:17.128509900Z",
     "start_time": "2023-08-16T13:08:17.119174500Z"
    },
    "tags": []
   },
   "outputs": [
    {
     "name": "stdout",
     "output_type": "stream",
     "text": [
      "state of mixed air entering cooling coil = 78 °F DB, 49 % RH, 0.0101 lb_w / lb_a\n",
      "state of air leaving cooling coil = 53 °F DB, 96 % RH, 0.0082 lb_w / lb_a\n",
      "state of supply air to zones = 55 °F DB, 89 % RH, 0.0082 lb_w / lb_a\n",
      "state of return air from zones = 75 °F DB, 50 % RH, 0.0093 lb_w / lb_a\n",
      "state of recirculated air to mixing chamber = 75 °F DB, 50 % RH, 0.0093 lb_w / lb_a\n"
     ]
    }
   ],
   "source": [
    "print(\n",
    "    \"state of mixed air entering cooling coil = \"\n",
    "    f\"{vav_system.summer.mixed_air.Tdb.to('degF'):~P.0f} DB, \"\n",
    "    f\"{vav_system.summer.mixed_air.RH.to('pct'):~P.0f} RH, \"\n",
    "    f\"{vav_system.summer.mixed_air.W.to('lb / lb'):~P.4f} lb_w / lb_a\",\n",
    "    \"state of air leaving cooling coil = \"\n",
    "    f\"{vav_system.summer.cooled_air.Tdb.to('degF'):~P.0f} DB, \"\n",
    "    f\"{vav_system.summer.cooled_air.RH.to('pct'):~P.0f} RH, \"\n",
    "    f\"{vav_system.summer.cooled_air.W.to('lb / lb'):~P.4f} lb_w / lb_a\",\n",
    "    \"state of supply air to zones = \"\n",
    "    f\"{vav_system.summer.supply_air.Tdb.to('degF'):~P.0f} DB, \"\n",
    "    f\"{vav_system.summer.supply_air.RH.to('pct'):~P.0f} RH, \"\n",
    "    f\"{vav_system.summer.supply_air.W.to('lb / lb'):~P.4f} lb_w / lb_a\",\n",
    "    \"state of return air from zones = \"\n",
    "    f\"{vav_system.summer.return_air.Tdb.to('degF'):~P.0f} DB, \"\n",
    "    f\"{vav_system.summer.return_air.RH.to('pct'):~P.0f} RH, \"\n",
    "    f\"{vav_system.summer.return_air.W.to('lb / lb'):~P.4f} lb_w / lb_a\",\n",
    "    \"state of recirculated air to mixing chamber = \"\n",
    "    f\"{vav_system.summer.recirculated_air.Tdb.to('degF'):~P.0f} DB, \"\n",
    "    f\"{vav_system.summer.recirculated_air.RH.to('pct'):~P.0f} RH, \"\n",
    "    f\"{vav_system.summer.recirculated_air.W.to('lb / lb'):~P.4f} lb_w / lb_a\",\n",
    "    sep='\\n'\n",
    ")"
   ]
  },
  {
   "cell_type": "markdown",
   "id": "eccb3cb6-a458-473b-b0de-c4dc225180a9",
   "metadata": {},
   "source": [
    "### Cooling Coil\n",
    "To size the cooling coil, we need to know the cooling coil load, the state of air entering the cooling coil, the state of air leaving the cooling coil, and the mass/volume flow rate of air through the coiling coil:"
   ]
  },
  {
   "cell_type": "code",
   "execution_count": 10,
   "id": "492e7bfd-bdee-4e8b-9867-00e089a0a717",
   "metadata": {
    "ExecuteTime": {
     "end_time": "2023-08-16T13:08:17.140670700Z",
     "start_time": "2023-08-16T13:08:17.133513300Z"
    },
    "tags": []
   },
   "outputs": [
    {
     "name": "stdout",
     "output_type": "stream",
     "text": [
      "sensible cooling coil load = -411416 Btu/h\n",
      "latent cooling coil load = -134114 Btu/h\n",
      "total cooling coil load = -545782 Btu/h\n",
      "state of air entering cooling coil = 78 °F DB, 49 % RH, 0.0101 lb_w / lb_a\n",
      "state of air leaving cooling coil = 53 °F DB, 96 % RH, 0.0082 lb_w / lb_a\n",
      "mass flow rate of supply air = 1122.5 lb/min\n",
      "volume flow rate of supply air = 14750.1 ft³/min\n"
     ]
    }
   ],
   "source": [
    "print(\n",
    "    \"sensible cooling coil load = \"\n",
    "    f\"{results['Q_cc_sen'].to('Btu / hr'):~P.0f}\",\n",
    "    \"latent cooling coil load = \"\n",
    "    f\"{results['Q_cc_lat'].to('Btu / hr'):~P.0f}\",\n",
    "    \"total cooling coil load = \"\n",
    "    f\"{results['Q_cc_tot'].to('Btu / hr'):~P.0f}\",\n",
    "    \"state of air entering cooling coil = \"\n",
    "    f\"{vav_system.summer.mixed_air.Tdb.to('degF'):~P.0f} DB, \"\n",
    "    f\"{vav_system.summer.mixed_air.RH.to('pct'):~P.0f} RH, \"\n",
    "    f\"{vav_system.summer.mixed_air.W.to('lb / lb'):~P.4f} lb_w / lb_a\",\n",
    "    \"state of air leaving cooling coil = \"\n",
    "    f\"{vav_system.summer.cooled_air.Tdb.to('degF'):~P.0f} DB, \"\n",
    "    f\"{vav_system.summer.cooled_air.RH.to('pct'):~P.0f} RH, \"\n",
    "    f\"{vav_system.summer.cooled_air.W.to('lb / lb'):~P.4f} lb_w / lb_a\",\n",
    "    \"mass flow rate of supply air = \"\n",
    "    f\"{vav_system.summer.m_supply.to('lb / min'):~P.1f}\",\n",
    "    \"volume flow rate of supply air = \"\n",
    "    f\"{vav_system.summer.V_supply.to('ft ** 3 / min'):~P.1f}\",\n",
    "    sep='\\n'\n",
    ")"
   ]
  },
  {
   "cell_type": "markdown",
   "id": "5f22622d-c03d-49fa-9311-83aed4e746aa",
   "metadata": {},
   "source": [
    "### Supply Fan\n",
    "To select a supply fan, we need to refer the volume flow rate to standard air conditions (NTP):"
   ]
  },
  {
   "cell_type": "code",
   "execution_count": 11,
   "id": "fdf1ba30-0c4a-4a2e-926a-d3ac2f2949ed",
   "metadata": {
    "ExecuteTime": {
     "end_time": "2023-08-16T13:08:17.144182200Z",
     "start_time": "2023-08-16T13:08:17.137322100Z"
    },
    "tags": []
   },
   "outputs": [
    {
     "name": "stdout",
     "output_type": "stream",
     "text": [
      "volume flow rate of supply air @ NTP = 14926.7 ft³/min\n"
     ]
    }
   ],
   "source": [
    "Air = Fluid('Air')\n",
    "standard_air = Air(T=Q_(20, 'degC'), P=Q_(101.325, 'kPa'))\n",
    "V_supply_ntp = vav_system.summer.m_supply / standard_air.rho\n",
    "print(\n",
    "    \"volume flow rate of supply air @ NTP = \"\n",
    "    f\"{V_supply_ntp.to('ft ** 3 / min'):~P.1f}\"\n",
    ")"
   ]
  },
  {
   "cell_type": "markdown",
   "id": "cf78a32f-d2f0-418a-988c-052c385a0b57",
   "metadata": {},
   "source": [
    "### VAV Boxes\n",
    "The required mass flow rate of supply air to each zone in order to meet the summer peak load and maintain the desired zone air state is needed to size the VAV-boxes: "
   ]
  },
  {
   "cell_type": "code",
   "execution_count": 12,
   "id": "bbabc2bf-cea5-4c3e-8b5c-5c917163ae40",
   "metadata": {
    "ExecuteTime": {
     "end_time": "2023-08-16T13:08:17.220739400Z",
     "start_time": "2023-08-16T13:08:17.144182200Z"
    },
    "tags": []
   },
   "outputs": [
    {
     "name": "stdout",
     "output_type": "stream",
     "text": [
      "mass flow rate of supply air to zone A = 769.1 lb/min\n",
      "volume flow rate of supply air to zone A = 10106.5 ft³/min\n",
      "volume flow rate of supply air to zone A @ NTP = 10227.5 ft³/min\n"
     ]
    }
   ],
   "source": [
    "print(\n",
    "    \"mass flow rate of supply air to zone A = \"\n",
    "    f\"{zone_A.summer.m_supply.to('lb / min'):~P.1f}\",\n",
    "    \"volume flow rate of supply air to zone A = \"\n",
    "    f\"{zone_A.summer.V_supply.to('ft ** 3 / min'):~P.1f}\",\n",
    "    \"volume flow rate of supply air to zone A @ NTP = \"\n",
    "    f\"{(zone_A.summer.m_supply / standard_air.rho).to('ft ** 3 / min'):~P.1f}\",\n",
    "    sep='\\n'\n",
    ")"
   ]
  },
  {
   "cell_type": "code",
   "execution_count": 13,
   "id": "a835cb26-c816-4ec9-bc2f-8712bd4b4c96",
   "metadata": {
    "ExecuteTime": {
     "end_time": "2023-08-16T13:08:17.221738Z",
     "start_time": "2023-08-16T13:08:17.150174900Z"
    },
    "tags": []
   },
   "outputs": [
    {
     "name": "stdout",
     "output_type": "stream",
     "text": [
      "mass flow rate of supply air to zone B = 353.4 lb/min\n",
      "volume flow rate of supply air to zone B = 4643.6 ft³/min\n",
      "volume flow rate of supply air to zone B @ NTP = 4699.2 ft³/min\n"
     ]
    }
   ],
   "source": [
    "print(\n",
    "    \"mass flow rate of supply air to zone B = \"\n",
    "    f\"{zone_B.summer.m_supply.to('lb / min'):~P.1f}\",\n",
    "    \"volume flow rate of supply air to zone B = \"\n",
    "    f\"{zone_B.summer.V_supply.to('ft ** 3 / min'):~P.1f}\",\n",
    "    \"volume flow rate of supply air to zone B @ NTP = \"\n",
    "    f\"{(zone_B.summer.m_supply / standard_air.rho).to('ft ** 3 / min'):~P.1f}\",\n",
    "    sep='\\n'\n",
    ")"
   ]
  },
  {
   "cell_type": "markdown",
   "id": "c882464c-e7a8-410f-9a4c-3e39aa883ca2",
   "metadata": {},
   "source": [
    "### Comparison between Desired and Resulting Air State in the Zones\n",
    "The desired and the resulting state of air in zone A and in zone B can be compared. The desired state is given by `zone_air`, while the resulting state is given by `return_air`."
   ]
  },
  {
   "cell_type": "code",
   "execution_count": 14,
   "id": "47cc2635-b42b-410d-8e4c-f6047701c8fd",
   "metadata": {
    "ExecuteTime": {
     "end_time": "2023-08-16T13:08:17.222739500Z",
     "start_time": "2023-08-16T13:08:17.153245800Z"
    },
    "tags": []
   },
   "outputs": [
    {
     "name": "stdout",
     "output_type": "stream",
     "text": [
      "desired state of air in zone A = 75 °F DB, 50 % RH\n",
      "resulting state of air in zone A = 75 °F DB, 50 % RH\n"
     ]
    }
   ],
   "source": [
    "print(\n",
    "    \"desired state of air in zone A = \"\n",
    "    f\"{zone_A.summer.zone_air.Tdb.to('degF'):~P.0f} DB, \"\n",
    "    f\"{zone_A.summer.zone_air.RH.to('pct'):~P.0f} RH\",\n",
    "    \"resulting state of air in zone A = \"\n",
    "    f\"{zone_A.summer.return_air.Tdb.to('degF'):~P.0f} DB, \"\n",
    "    f\"{zone_A.summer.return_air.RH.to('pct'):~P.0f} RH\",\n",
    "    sep='\\n'\n",
    ")"
   ]
  },
  {
   "cell_type": "code",
   "execution_count": 15,
   "id": "4613c3c8-53da-49c0-8e4b-2f7655a68759",
   "metadata": {
    "ExecuteTime": {
     "end_time": "2023-08-16T13:08:17.222739500Z",
     "start_time": "2023-08-16T13:08:17.159452800Z"
    },
    "tags": []
   },
   "outputs": [
    {
     "name": "stdout",
     "output_type": "stream",
     "text": [
      "desired state of air in zone B = 75 °F DB, 50 % RH\n",
      "resulting state of air in zone B = 75 °F DB, 49 % RH\n"
     ]
    }
   ],
   "source": [
    "print(\n",
    "    \"desired state of air in zone B = \"\n",
    "    f\"{zone_B.summer.zone_air.Tdb.to('degF'):~P.0f} DB, \"\n",
    "    f\"{zone_B.summer.zone_air.RH.to('pct'):~P.0f} RH\",\n",
    "    \"resulting state of air in zone B = \"\n",
    "    f\"{zone_B.summer.return_air.Tdb.to('degF'):~P.0f} DB, \"\n",
    "    f\"{zone_B.summer.return_air.RH.to('pct'):~P.0f} RH\",\n",
    "    sep='\\n'\n",
    ")"
   ]
  },
  {
   "cell_type": "markdown",
   "id": "2eb7f4fc-e3d9-4a87-a5af-e73209579dfc",
   "metadata": {},
   "source": [
    "## Design the VAV System for the Peak Winter Design Day"
   ]
  },
  {
   "cell_type": "markdown",
   "id": "f90c6be3-85e8-422f-9905-5999c5a90b70",
   "metadata": {},
   "source": [
    "Before running the design routines for the peak winter design day, the same optional conditions as for the peak summer design day are available regarding the additional heating of air due to operation of the supply fan and/or the return fan, and due to heat gains through ducts. Also, the maximum permissible supply air temperature to the zones can be specified in order to avoid stratification of the air in a zone (by default set at 40 °C)."
   ]
  },
  {
   "cell_type": "code",
   "execution_count": 16,
   "id": "5444906f-c77d-4037-b019-8d7952c0455e",
   "metadata": {
    "ExecuteTime": {
     "end_time": "2023-08-16T13:08:17.819745900Z",
     "start_time": "2023-08-16T13:08:17.164550400Z"
    }
   },
   "outputs": [],
   "source": [
    "results = vav_system.design_winter(\n",
    "    T_sup_max=Q_(105, 'degF'),\n",
    "    eta_fan_sup=Q_(60, 'pct'),\n",
    "    dP_fan_sup=Q_(3, 'inch_H2O_60F'),\n",
    "    Q_duct_sup=None,\n",
    "    eta_fan_ret=None,\n",
    "    dP_fan_ret=None,\n",
    "    Q_duct_ret=None\n",
    ")"
   ]
  },
  {
   "cell_type": "markdown",
   "id": "c4870f2a-538a-4b0d-a653-2bb799a99c0d",
   "metadata": {},
   "source": [
    "The returned results (a dictionary) are:\n",
    "- the peak load `'Q_ph_peak'` of the preheat-coil (i.e., the required heat rate to heat the mass flow rate of cold outdoor ventilation air to the nominal temperature at the exit of the cooling coil),\n",
    "- the design load `'Q_ph'` of the preheat-coil (i.e., the required heat rate of the preheat-coil at winter design conditions),\n",
    "- the mass flow rate of steam `'m_steam'` injected in the humidifier,\n",
    "- the total load `'Q_cc_tot'`, the sensible load `'Q_cc_sen'`, and the latent load `'Q_cc_lat'` of the cooling coil,\n",
    "- the total design load `'Q_rh_tot'` of all the reheat-coils in the zones (without diversity adjustment),\n",
    "- the system volume flow rate `'V_sup'` of supply air to the zones (referred to the air state downstream of the supply fan),\n",
    "- the system volume flow rate `'V_ret'` of return air from the zones (referred to the return air state),\n",
    "- the temperature `'T_sup'` of the system supply air,\n",
    "- the temperature `'T_ret'` of the system return air.\n",
    "\n",
    "However, all results can also be retrieved through instance attributes."
   ]
  },
  {
   "cell_type": "markdown",
   "id": "f13989fd-7bf2-422d-b60f-c213ed3d0114",
   "metadata": {},
   "source": [
    "### Air States"
   ]
  },
  {
   "cell_type": "code",
   "execution_count": 17,
   "id": "47709a3c-cc7d-44e4-800c-779bb99b8d3c",
   "metadata": {
    "ExecuteTime": {
     "end_time": "2023-08-16T13:08:17.835130Z",
     "start_time": "2023-08-16T13:08:17.819745900Z"
    },
    "tags": []
   },
   "outputs": [
    {
     "name": "stdout",
     "output_type": "stream",
     "text": [
      "state of mixed air entering preheat coil = 54 °F DB, 59 % RH, 0.0053 lb_w / lb_a\n",
      "state of preheated air entering humidifier = 57 °F DB, 53 % RH, 0.0053 lb_w / lb_a\n",
      "state of humidified air entering cooling coil = 57 °F DB, 74 % RH, 0.0074 lb_w / lb_a\n",
      "state of air leaving cooling coil = 57 °F DB, 74 % RH, 0.0074 lb_w / lb_a\n",
      "state of supply air to zones = 59 °F DB, 69 % RH, 0.0074 lb_w / lb_a\n",
      "state of return air from zones = 75 °F DB, 40 % RH, 0.0074 lb_w / lb_a\n",
      "state of recirculated air to mixing chamber = 75 °F DB, 40 % RH, 0.0074 lb_w / lb_a\n"
     ]
    }
   ],
   "source": [
    "print(\n",
    "    \"state of mixed air entering preheat coil = \"\n",
    "    f\"{vav_system.winter.mixed_air.Tdb.to('degF'):~P.0f} DB, \"\n",
    "    f\"{vav_system.winter.mixed_air.RH.to('pct'):~P.0f} RH, \"\n",
    "    f\"{vav_system.winter.mixed_air.W.to('lb / lb'):~P.4f} lb_w / lb_a\",\n",
    "    \"state of preheated air entering humidifier = \"\n",
    "    f\"{vav_system.winter.preheated_air.Tdb.to('degF'):~P.0f} DB, \"\n",
    "    f\"{vav_system.winter.preheated_air.RH.to('pct'):~P.0f} RH, \"\n",
    "    f\"{vav_system.winter.preheated_air.W.to('lb / lb'):~P.4f} lb_w / lb_a\",\n",
    "    \"state of humidified air entering cooling coil = \"\n",
    "    f\"{vav_system.winter.humidified_air.Tdb.to('degF'):~P.0f} DB, \"\n",
    "    f\"{vav_system.winter.humidified_air.RH.to('pct'):~P.0f} RH, \"\n",
    "    f\"{vav_system.winter.humidified_air.W.to('lb / lb'):~P.4f} lb_w / lb_a\",\n",
    "    \"state of air leaving cooling coil = \"\n",
    "    f\"{vav_system.winter.cooled_air.Tdb.to('degF'):~P.0f} DB, \"\n",
    "    f\"{vav_system.winter.cooled_air.RH.to('pct'):~P.0f} RH, \"\n",
    "    f\"{vav_system.winter.cooled_air.W.to('lb / lb'):~P.4f} lb_w / lb_a\",\n",
    "    \"state of supply air to zones = \"\n",
    "    f\"{vav_system.winter.supply_air.Tdb.to('degF'):~P.0f} DB, \"\n",
    "    f\"{vav_system.winter.supply_air.RH.to('pct'):~P.0f} RH, \"\n",
    "    f\"{vav_system.winter.supply_air.W.to('lb / lb'):~P.4f} lb_w / lb_a\",\n",
    "    \"state of return air from zones = \"\n",
    "    f\"{vav_system.winter.return_air.Tdb.to('degF'):~P.0f} DB, \"\n",
    "    f\"{vav_system.winter.return_air.RH.to('pct'):~P.0f} RH, \"\n",
    "    f\"{vav_system.winter.return_air.W.to('lb / lb'):~P.4f} lb_w / lb_a\",\n",
    "    \"state of recirculated air to mixing chamber = \"\n",
    "    f\"{vav_system.winter.recirculated_air.Tdb.to('degF'):~P.0f} DB, \"\n",
    "    f\"{vav_system.winter.recirculated_air.RH.to('pct'):~P.0f} RH, \"\n",
    "    f\"{vav_system.winter.recirculated_air.W.to('lb / lb'):~P.4f} lb_w / lb_a\",\n",
    "    sep='\\n'\n",
    ")"
   ]
  },
  {
   "cell_type": "markdown",
   "id": "0ea7d46a-da50-4b5b-b96a-a4c7adcd1ae7",
   "metadata": {},
   "source": [
    "### Preheat Coil"
   ]
  },
  {
   "cell_type": "code",
   "execution_count": 18,
   "id": "f4b89471-23e5-45b5-bb81-4e752db4d75a",
   "metadata": {
    "ExecuteTime": {
     "end_time": "2023-08-16T13:08:17.850106500Z",
     "start_time": "2023-08-16T13:08:17.834127700Z"
    },
    "tags": []
   },
   "outputs": [
    {
     "name": "stdout",
     "output_type": "stream",
     "text": [
      "entering air = 54 °F DB, 47 °F WB\n",
      "leaving air = 57 °F DB, 49 °F WB\n",
      "mass flow rate of air = 673.5 lb/min\n",
      "design load = 29030 Btu/h\n",
      "peak load = 137804 Btu/h\n"
     ]
    }
   ],
   "source": [
    "print(\n",
    "    \"entering air = \"\n",
    "    f\"{vav_system.winter.mixed_air.Tdb.to('degF'):~P.0f} DB, \"\n",
    "    f\"{vav_system.winter.mixed_air.Twb.to('degF'):~P.0f} WB\",\n",
    "    \"leaving air = \"\n",
    "    f\"{vav_system.winter.preheated_air.Tdb.to('degF'):~P.0f} DB, \"\n",
    "    f\"{vav_system.winter.preheated_air.Twb.to('degF'):~P.0f} WB\",\n",
    "    \"mass flow rate of air = \"\n",
    "    f\"{vav_system.winter.m_supply.to('lb / min'):~P.1f}\",\n",
    "    \"design load = \"\n",
    "    f\"{vav_system.winter.preheat_coil.Q_sen.to('Btu / hr'):~P.0f}\",\n",
    "    \"peak load = \"\n",
    "    f\"{vav_system.winter.Q_ph_peak.to('Btu / hr'):~P.0f}\",\n",
    "    sep='\\n'\n",
    ")"
   ]
  },
  {
   "cell_type": "markdown",
   "id": "90ad8dd3-67fe-43a2-a958-562b72bfce0b",
   "metadata": {},
   "source": [
    "### Humidifier"
   ]
  },
  {
   "cell_type": "code",
   "execution_count": 19,
   "id": "468da3df-7e87-4139-b6c0-3a3c25f44a20",
   "metadata": {
    "ExecuteTime": {
     "end_time": "2023-08-16T13:08:17.915694700Z",
     "start_time": "2023-08-16T13:08:17.851106600Z"
    },
    "tags": []
   },
   "outputs": [
    {
     "name": "stdout",
     "output_type": "stream",
     "text": [
      "entering air = 57 °F DB, 49 °F WB\n",
      "leaving air = 57 °F DB, 53 °F WB\n",
      "mass flow rate of air = 673.5 lb/min\n",
      "mass flow rate of steam = 1.442 lb/min\n"
     ]
    }
   ],
   "source": [
    "print(\n",
    "    \"entering air = \"\n",
    "    f\"{vav_system.winter.preheated_air.Tdb.to('degF'):~P.0f} DB, \"\n",
    "    f\"{vav_system.winter.preheated_air.Twb.to('degF'):~P.0f} WB\",\n",
    "    \"leaving air = \"\n",
    "    f\"{vav_system.winter.humidified_air.Tdb.to('degF'):~P.0f} DB, \"\n",
    "    f\"{vav_system.winter.humidified_air.Twb.to('degF'):~P.0f} WB\",\n",
    "    \"mass flow rate of air = \"\n",
    "    f\"{vav_system.winter.m_supply.to('lb / min'):~P.1f}\",\n",
    "    \"mass flow rate of steam = \"\n",
    "    f\"{vav_system.winter.humidifier.m_w.to('lb / min'):~P.3f}\",\n",
    "    sep='\\n'\n",
    ")"
   ]
  },
  {
   "cell_type": "markdown",
   "id": "3fd4ab2b-15c1-42d8-ba75-80379a4b67b0",
   "metadata": {},
   "source": [
    "### Cooling Coil"
   ]
  },
  {
   "cell_type": "code",
   "execution_count": 20,
   "id": "303ed708-ecb5-4e39-a281-60e7694cedd7",
   "metadata": {
    "ExecuteTime": {
     "end_time": "2023-08-16T13:08:17.915694700Z",
     "start_time": "2023-08-16T13:08:17.866767200Z"
    },
    "tags": []
   },
   "outputs": [
    {
     "name": "stdout",
     "output_type": "stream",
     "text": [
      "entering air = 57 °F DB, 53 °F WB\n",
      "leaving air = 57 °F DB, 53 °F WB\n",
      "mass flow rate of air = 673.5 lb/min\n",
      "sensible cooling coil load = 0.0 Btu/h\n",
      "latent cooling coil load = 0.0 Btu/h\n",
      "total cooling coil load = 0.0 Btu/h\n"
     ]
    }
   ],
   "source": [
    "print(\n",
    "    \"entering air = \"\n",
    "    f\"{vav_system.winter.humidified_air.Tdb.to('degF'):~P.0f} DB, \"\n",
    "    f\"{vav_system.winter.humidified_air.Twb.to('degF'):~P.0f} WB\",\n",
    "    \"leaving air = \"\n",
    "    f\"{vav_system.winter.cooled_air.Tdb.to('degF'):~P.0f} DB, \"\n",
    "    f\"{vav_system.winter.cooled_air.Twb.to('degF'):~P.0f} WB\",\n",
    "    \"mass flow rate of air = \"\n",
    "    f\"{vav_system.winter.m_supply.to('lb / min'):~P.1f}\",\n",
    "    \"sensible cooling coil load = \"\n",
    "    f\"{vav_system.winter.cooling_coil.Q_sen.to('Btu / hr'):~P.1f}\",\n",
    "    \"latent cooling coil load = \"\n",
    "    f\"{vav_system.winter.cooling_coil.Q_lat.to('Btu / hr'):~P.1f}\",\n",
    "    \"total cooling coil load = \"\n",
    "    f\"{vav_system.winter.cooling_coil.Q.to('Btu / hr'):~P.1f}\",\n",
    "    sep='\\n'\n",
    ")"
   ]
  },
  {
   "cell_type": "markdown",
   "id": "aa7b25c1-ccfc-4d07-8d8a-7ef25419bc94",
   "metadata": {},
   "source": [
    "### Supply Fan"
   ]
  },
  {
   "cell_type": "code",
   "execution_count": 21,
   "id": "a6f5a39f-8904-4170-bc05-b5a3238989a4",
   "metadata": {
    "ExecuteTime": {
     "end_time": "2023-08-16T13:08:17.923120Z",
     "start_time": "2023-08-16T13:08:17.883929600Z"
    },
    "tags": []
   },
   "outputs": [
    {
     "name": "stdout",
     "output_type": "stream",
     "text": [
      "volume flow rate of supply air @ NTP = 8956.0 ft³/min\n"
     ]
    }
   ],
   "source": [
    "V_supply_ntp = vav_system.winter.m_supply / standard_air.rho\n",
    "print(\n",
    "    \"volume flow rate of supply air @ NTP = \"\n",
    "    f\"{V_supply_ntp.to('ft ** 3 / min'):~P.1f}\"\n",
    ")"
   ]
  },
  {
   "cell_type": "markdown",
   "id": "1345fa30-c067-409f-899f-54899d68b768",
   "metadata": {},
   "source": [
    "### Reheat Coils"
   ]
  },
  {
   "cell_type": "markdown",
   "id": "36b5d7bf-5a33-4cfa-83f4-dc2c57894e3b",
   "metadata": {},
   "source": [
    "**Zone A**"
   ]
  },
  {
   "cell_type": "code",
   "execution_count": 22,
   "id": "57cea07d-707a-47ba-ace6-e76e7ad813ba",
   "metadata": {
    "ExecuteTime": {
     "end_time": "2023-08-16T13:08:17.923120Z",
     "start_time": "2023-08-16T13:08:17.889437700Z"
    },
    "tags": []
   },
   "outputs": [
    {
     "name": "stdout",
     "output_type": "stream",
     "text": [
      "entering air = 59 °F DB, 53 °F WB\n",
      "leaving air = 96 °F DB, 67 °F WB\n",
      "mass flow rate of air = 461.5 lb/min\n",
      "reheat coil load = 249846 Btu/h\n"
     ]
    }
   ],
   "source": [
    "print(\n",
    "    \"entering air = \"\n",
    "    f\"{vav_system.winter.supply_air.Tdb.to('degF'):~P.0f} DB, \"\n",
    "    f\"{vav_system.winter.supply_air.Twb.to('degF'):~P.0f} WB\",\n",
    "    \"leaving air = \"\n",
    "    f\"{zone_A.winter.supply_air.Tdb.to('degF'):~P.0f} DB, \"\n",
    "    f\"{zone_A.winter.supply_air.Twb.to('degF'):~P.0f} WB\",\n",
    "    \"mass flow rate of air = \"\n",
    "    f\"{zone_A.winter.m_supply.to('lb / min'):~P.1f}\",\n",
    "    \"reheat coil load = \"\n",
    "    f\"{zone_A.reheat_coil.Q_sen.to('Btu / hr'):~P.0f}\",\n",
    "    sep='\\n'\n",
    ")"
   ]
  },
  {
   "cell_type": "markdown",
   "id": "d9fd9259-495d-475d-a896-e797177c1e85",
   "metadata": {},
   "source": [
    "**Zone B**"
   ]
  },
  {
   "cell_type": "code",
   "execution_count": 23,
   "id": "1b7e2c78-dacd-4235-a94f-3e80d0e6004c",
   "metadata": {
    "ExecuteTime": {
     "end_time": "2023-08-16T13:08:17.923120Z",
     "start_time": "2023-08-16T13:08:17.910097Z"
    },
    "tags": []
   },
   "outputs": [
    {
     "name": "stdout",
     "output_type": "stream",
     "text": [
      "entering air = 59 °F DB, 53 °F WB\n",
      "leaving air = 59 °F DB, 53 °F WB\n",
      "mass flow rate of air = 212.0 lb/min\n",
      "reheat coil load = 0 Btu/h\n"
     ]
    }
   ],
   "source": [
    "print(\n",
    "    \"entering air = \"\n",
    "    f\"{vav_system.winter.supply_air.Tdb.to('degF'):~P.0f} DB, \"\n",
    "    f\"{vav_system.winter.supply_air.Twb.to('degF'):~P.0f} WB\",\n",
    "    \"leaving air = \"\n",
    "    f\"{zone_B.winter.supply_air.Tdb.to('degF'):~P.0f} DB, \"\n",
    "    f\"{zone_B.winter.supply_air.Twb.to('degF'):~P.0f} WB\",\n",
    "    \"mass flow rate of air = \"\n",
    "    f\"{zone_B.winter.m_supply.to('lb / min'):~P.1f}\",\n",
    "    \"reheat coil load = \"\n",
    "    f\"{zone_B.reheat_coil.Q_sen.to('Btu / hr'):~P.0f}\",\n",
    "    sep='\\n'\n",
    ")"
   ]
  },
  {
   "cell_type": "markdown",
   "id": "c445075a-9a54-4fef-94a8-6cedfbce6400",
   "metadata": {},
   "source": [
    "**Total Load of Reheat Coils**"
   ]
  },
  {
   "cell_type": "code",
   "execution_count": 24,
   "id": "3d0e83eb-f769-4144-97e8-de53def1a863",
   "metadata": {
    "ExecuteTime": {
     "end_time": "2023-08-16T13:08:17.927873700Z",
     "start_time": "2023-08-16T13:08:17.912624200Z"
    },
    "tags": []
   },
   "outputs": [
    {
     "name": "stdout",
     "output_type": "stream",
     "text": [
      "total load of reheat coils = 249846 Btu/h\n"
     ]
    }
   ],
   "source": [
    "print(\n",
    "    \"total load of reheat coils = \"\n",
    "    f\"{vav_system.winter.Q_rh_tot.to('Btu / hr'):~P.0f}\"\n",
    ")"
   ]
  },
  {
   "cell_type": "markdown",
   "id": "63fc80e1-b6cc-43c4-8f00-12e87e45b680",
   "metadata": {},
   "source": [
    "### Comparison between Desired and Resulting Air State in the Zones\n",
    "The desired and the resulting state of air in zone A and in zone B can be compared. The desired state is given by `zone_air`, while the resulting state is given by `return_air`."
   ]
  },
  {
   "cell_type": "code",
   "execution_count": 25,
   "id": "3bc135ae-b315-4dbf-a39d-75a820dfc88e",
   "metadata": {
    "ExecuteTime": {
     "end_time": "2023-08-16T13:08:17.947274100Z",
     "start_time": "2023-08-16T13:08:17.918702300Z"
    },
    "tags": []
   },
   "outputs": [
    {
     "name": "stdout",
     "output_type": "stream",
     "text": [
      "desired state of air in zone A = 75 °F DB, 50 % RH\n",
      "resulting state of air in zone A = 75 °F DB, 40 % RH\n"
     ]
    }
   ],
   "source": [
    "print(\n",
    "    \"desired state of air in zone A = \"\n",
    "    f\"{zone_A.winter.zone_air.Tdb.to('degF'):~P.0f} DB, \"\n",
    "    f\"{zone_A.winter.zone_air.RH.to('pct'):~P.0f} RH\",\n",
    "    \"resulting state of air in zone A = \"\n",
    "    f\"{zone_A.winter.return_air.Tdb.to('degF'):~P.0f} DB, \"\n",
    "    f\"{zone_A.winter.return_air.RH.to('pct'):~P.0f} RH\",\n",
    "    sep='\\n'\n",
    ")"
   ]
  },
  {
   "cell_type": "code",
   "execution_count": 26,
   "id": "e30a6341-9e85-472e-8b41-7d0f9d22c62a",
   "metadata": {
    "ExecuteTime": {
     "end_time": "2023-08-16T13:08:17.962304800Z",
     "start_time": "2023-08-16T13:08:17.924119400Z"
    },
    "tags": []
   },
   "outputs": [
    {
     "name": "stdout",
     "output_type": "stream",
     "text": [
      "desired state of air in zone B = 75 °F DB, 30 % RH\n",
      "resulting state of air in zone B = 75 °F DB, 40 % RH\n"
     ]
    }
   ],
   "source": [
    "print(\n",
    "    \"desired state of air in zone B = \"\n",
    "    f\"{zone_B.winter.zone_air.Tdb.to('degF'):~P.0f} DB, \"\n",
    "    f\"{zone_B.winter.zone_air.RH.to('pct'):~P.0f} RH\",\n",
    "    \"resulting state of air in zone B = \"\n",
    "    f\"{zone_B.winter.return_air.Tdb.to('degF'):~P.0f} DB, \"\n",
    "    f\"{zone_B.winter.return_air.RH.to('pct'):~P.0f} RH\",\n",
    "    sep='\\n'\n",
    ")"
   ]
  },
  {
   "cell_type": "code",
   "execution_count": null,
   "id": "6d1422da-e43c-4bdb-b02c-42bffa173c47",
   "metadata": {
    "ExecuteTime": {
     "end_time": "2023-08-16T13:08:17.963307800Z",
     "start_time": "2023-08-16T13:08:17.928876100Z"
    }
   },
   "outputs": [],
   "source": []
  }
 ],
 "metadata": {
  "kernelspec": {
   "display_name": "Python 3 (ipykernel)",
   "language": "python",
   "name": "python3"
  },
  "language_info": {
   "codemirror_mode": {
    "name": "ipython",
    "version": 3
   },
   "file_extension": ".py",
   "mimetype": "text/x-python",
   "name": "python",
   "nbconvert_exporter": "python",
   "pygments_lexer": "ipython3",
   "version": "3.11.0"
  }
 },
 "nbformat": 4,
 "nbformat_minor": 5
}
