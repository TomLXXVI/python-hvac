{
 "cells": [
  {
   "cell_type": "code",
   "execution_count": 1,
   "id": "c571d7db-24bc-45b2-b542-8882ed68425f",
   "metadata": {
    "tags": [],
    "ExecuteTime": {
     "end_time": "2023-12-07T10:52:38.768878900Z",
     "start_time": "2023-12-07T10:52:37.709822400Z"
    }
   },
   "outputs": [],
   "source": [
    "import warnings\n",
    "from hvac import Quantity\n",
    "from hvac.fluids import HumidAir, Fluid, CoolPropWarning\n",
    "from hvac.heat_exchanger.recuperator.fintube.continuous_fin import (\n",
    "    PlainFinTubeAirToWaterCounterFlowHeatExchanger\n",
    ")\n",
    "\n",
    "\n",
    "warnings.filterwarnings('ignore', category=CoolPropWarning)\n",
    "\n",
    "Q_ = Quantity"
   ]
  },
  {
   "cell_type": "markdown",
   "id": "c5c09d0c-42ed-42d8-9897-1fe349e7a65b",
   "metadata": {},
   "source": [
    "# Air-to-Water Cooling Coil (Part 1)"
   ]
  },
  {
   "cell_type": "markdown",
   "id": "73c8141b-5e8f-4ff1-9b01-678441a8d5e4",
   "metadata": {},
   "source": [
    "Given an air-to-water cooling coil and the \"input conditions\" to this coil, we want to determine the performance of this cooling coil for this specific set of input conditions."
   ]
  },
  {
   "cell_type": "markdown",
   "id": "e9017843-da6e-4030-9312-e535c99b8453",
   "metadata": {},
   "source": [
    "**Given:**<br>\n",
    "- an air-to-water cooling coil with known dimensions and heat exchanger core geometry\n",
    "- the state of the air entering the coil\n",
    "- the volume flow rate of air through the coil\n",
    "- the state of the water entering the coil\n",
    "- the volume flow rate of water through the coil\n",
    "\n",
    "**Find:**<br>\n",
    "- the heat transfer rate from the air to the water stream\n",
    "- the state of the air leaving the coil\n",
    "- the state of the water leaving the coil\n",
    "- the air-side pressure loss across the coil\n",
    "- the water-side pressure loss across the coil"
   ]
  },
  {
   "cell_type": "markdown",
   "id": "7fa3a66f-5b83-49c4-a2a2-e47f9afc23a6",
   "metadata": {},
   "source": [
    "**Define the dimensions and the heat exchanger core geometry of the cooling coil:**"
   ]
  },
  {
   "cell_type": "code",
   "execution_count": 2,
   "id": "c418c4fc-e2b5-4150-a944-d2584cf988be",
   "metadata": {
    "tags": [],
    "ExecuteTime": {
     "end_time": "2023-12-07T10:52:38.774336400Z",
     "start_time": "2023-12-07T10:52:38.768878900Z"
    }
   },
   "outputs": [],
   "source": [
    "AirCoil = PlainFinTubeAirToWaterCounterFlowHeatExchanger\n",
    "\n",
    "air_coil = AirCoil(\n",
    "    width=Q_(900, 'mm'),\n",
    "    height=Q_(180, 'mm'),\n",
    "    num_rows=3,\n",
    "    pitch_trv=Q_(25.4, 'mm'),\n",
    "    pitch_lon=Q_(22.0, 'mm'),\n",
    "    d_i=Q_(8.422, 'mm'),\n",
    "    d_o=Q_(10.200, 'mm'),\n",
    "    t_fin=Q_(0.3302, 'mm'),\n",
    "    fin_density=1 / Q_(3.175, 'mm'),\n",
    "    num_circuits=None\n",
    ")"
   ]
  },
  {
   "cell_type": "markdown",
   "id": "d1f099cc-b80c-4a93-8b03-7e59b2374685",
   "metadata": {},
   "source": [
    "**Specify the known input conditions on the air side:**\n",
    "- dry bulb temperature entering air: 27 °C\n",
    "- wet bulb temperature entering air: 19 °C\n",
    "- volume flow rate of air measured at the entry: 850 m³/h"
   ]
  },
  {
   "cell_type": "code",
   "execution_count": 3,
   "id": "367b9cf1-001d-4f18-a0c2-0daa1c006ce7",
   "metadata": {
    "tags": [],
    "ExecuteTime": {
     "end_time": "2023-12-07T10:52:38.822561400Z",
     "start_time": "2023-12-07T10:52:38.773334200Z"
    }
   },
   "outputs": [],
   "source": [
    "air_in = HumidAir(Tdb=Q_(27, 'degC'), Twb=Q_(19, 'degC'))\n",
    "air_V_dot = Q_(850.0, 'm ** 3 / hr')\n",
    "\n",
    "air_m_dot = air_in.rho * air_V_dot"
   ]
  },
  {
   "cell_type": "markdown",
   "id": "5dab1c51-bb14-4029-b47d-4dd867e5f0b2",
   "metadata": {},
   "source": [
    "**Specify the known input conditions on the waterside:**\n",
    "- average water system pressure: 2 bar\n",
    "- temperature of water entering the coil: 7 °C\n",
    "- volume flow rate of water measured at the entry: 853.02 L/h"
   ]
  },
  {
   "cell_type": "code",
   "execution_count": 4,
   "id": "d6cf1934-a5b2-45c8-bb99-44b910a753d3",
   "metadata": {
    "tags": [],
    "ExecuteTime": {
     "end_time": "2023-12-07T10:52:38.835472800Z",
     "start_time": "2023-12-07T10:52:38.824562900Z"
    }
   },
   "outputs": [],
   "source": [
    "Water = Fluid('Water')\n",
    "\n",
    "water_in = Water(T=Q_(7, 'degC'), P=Q_(2, 'bar'))\n",
    "water_V_dot = Q_(853.02, 'L / hr')\n",
    "\n",
    "water_m_dot = water_in.rho * water_V_dot"
   ]
  },
  {
   "cell_type": "markdown",
   "id": "e2bcb18d-273f-4c70-99b8-92c54d48cf41",
   "metadata": {},
   "source": [
    "**Set the known operating conditions on the air coil:**"
   ]
  },
  {
   "cell_type": "code",
   "execution_count": 5,
   "id": "a56d6f3c-4247-4688-9803-eaf9cb3393f2",
   "metadata": {
    "tags": [],
    "ExecuteTime": {
     "end_time": "2023-12-07T10:52:38.878751600Z",
     "start_time": "2023-12-07T10:52:38.829463800Z"
    }
   },
   "outputs": [],
   "source": [
    "air_coil.set_operating_conditions(\n",
    "    air_in=air_in,\n",
    "    water_in=water_in,\n",
    "    air_m_dot=air_m_dot,\n",
    "    water_m_dot=water_m_dot\n",
    ")"
   ]
  },
  {
   "cell_type": "markdown",
   "id": "ae5c8ebf-6bb2-4854-8cb8-bf1559d982af",
   "metadata": {},
   "source": [
    "**Get the answers:**"
   ]
  },
  {
   "cell_type": "code",
   "execution_count": 6,
   "id": "491651eb-4f36-4d5d-8f1b-ebac19472fa3",
   "metadata": {
    "tags": [],
    "ExecuteTime": {
     "end_time": "2023-12-07T10:52:40.130057200Z",
     "start_time": "2023-12-07T10:52:38.880753800Z"
    }
   },
   "outputs": [],
   "source": [
    "result = air_coil.rate()"
   ]
  },
  {
   "cell_type": "code",
   "execution_count": 7,
   "id": "035323ea-1fa6-4c01-b9a2-b7ca9b7c86fb",
   "metadata": {
    "tags": [],
    "ExecuteTime": {
     "end_time": "2023-12-07T10:52:40.150499300Z",
     "start_time": "2023-12-07T10:52:40.136153Z"
    }
   },
   "outputs": [
    {
     "name": "stdout",
     "output_type": "stream",
     "text": [
      "air-side surface condition = wet\n",
      "air out = 14.85 °C DB, 81 % RH\n",
      "water out = 11.81 °C, 1.754 bar\n",
      "heat transfer rate = 4.789 kW\n",
      "heat exchanger effectiveness = 0.5612333030781438 fraction\n",
      "air-side pressure drop = 12.961 Pa\n",
      "water-side pressure drop = 24555.260 Pa\n"
     ]
    }
   ],
   "source": [
    "print(\n",
    "    \"air-side surface condition = \"\n",
    "    f\"{result['air_surface_condition']}\",\n",
    "    \"air out = \"\n",
    "    f\"{result['air_out'].Tdb.to('degC'):~P.2f} DB, \"\n",
    "    f\"{result['air_out'].RH.to('pct'):~P.0f} RH\",\n",
    "    \"water out = \"\n",
    "    f\"{result['water_out'].T.to('degC'):~P.2f}, \"\n",
    "    f\"{result['water_out'].P.to('bar'):~P.3f}\",\n",
    "    \"heat transfer rate = \"\n",
    "    f\"{result['Q_dot'].to('kW'):~P.3f}\",\n",
    "    \"heat exchanger effectiveness = \"\n",
    "    f\"{result['eps']}\",\n",
    "    \"air-side pressure drop = \"\n",
    "    f\"{result['dP_air'].to('Pa'):~P.3f}\",\n",
    "    \"water-side pressure drop = \"\n",
    "    f\"{result['dP_water'].to('Pa'):~P.3f}\",\n",
    "    sep='\\n', end='\\n\\n'\n",
    ")"
   ]
  },
  {
   "cell_type": "markdown",
   "id": "3fe2bbca-56bd-4c56-b1e4-d6fb3829ae32",
   "metadata": {},
   "source": [
    "We can also get the heat transfer coefficients on the air and water side:"
   ]
  },
  {
   "cell_type": "code",
   "execution_count": 8,
   "id": "fbc64b66-da04-4d63-9ef0-5443307939f3",
   "metadata": {
    "tags": [],
    "ExecuteTime": {
     "end_time": "2023-12-07T10:52:40.151506400Z",
     "start_time": "2023-12-07T10:52:40.144389800Z"
    }
   },
   "outputs": [
    {
     "name": "stdout",
     "output_type": "stream",
     "text": [
      "air-side heat transfer coefficient = 55.56 W/K/m²\n",
      "water-side heat transfer coefficient = 10357.17 W/K/m²\n"
     ]
    }
   ],
   "source": [
    "print(\n",
    "    f\"air-side heat transfer coefficient = \"\n",
    "    f\"{air_coil.core.h_ext.to('W / (m ** 2 * K)'):~P.2f}\",\n",
    "    f\"water-side heat transfer coefficient = \"\n",
    "    f\"{air_coil.core.h_int.to('W / (m ** 2 * K)'):~P.2f}\",\n",
    "    sep='\\n'\n",
    ")"
   ]
  },
  {
   "cell_type": "code",
   "execution_count": 8,
   "id": "32900cde-7307-4a88-8b53-9d58987b9ea6",
   "metadata": {
    "ExecuteTime": {
     "end_time": "2023-12-07T10:52:40.176503300Z",
     "start_time": "2023-12-07T10:52:40.149995400Z"
    }
   },
   "outputs": [],
   "source": []
  }
 ],
 "metadata": {
  "kernelspec": {
   "display_name": "Python 3 (ipykernel)",
   "language": "python",
   "name": "python3"
  },
  "language_info": {
   "codemirror_mode": {
    "name": "ipython",
    "version": 3
   },
   "file_extension": ".py",
   "mimetype": "text/x-python",
   "name": "python",
   "nbconvert_exporter": "python",
   "pygments_lexer": "ipython3",
   "version": "3.11.0"
  }
 },
 "nbformat": 4,
 "nbformat_minor": 5
}
