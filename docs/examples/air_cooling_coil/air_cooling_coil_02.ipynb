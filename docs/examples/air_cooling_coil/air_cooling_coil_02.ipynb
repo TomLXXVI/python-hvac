{
 "cells": [
  {
   "cell_type": "code",
   "execution_count": 1,
   "id": "5f7c7f96-fb12-443c-8f81-e7fb280836cb",
   "metadata": {
    "tags": []
   },
   "outputs": [],
   "source": [
    "import warnings\n",
    "from hvac import Quantity\n",
    "from hvac.fluids import (\n",
    "    HumidAir, Fluid, CoolPropWarning,\n",
    "    STANDARD_TEMPERATURE, STANDARD_PRESSURE\n",
    ")\n",
    "from hvac.heat_exchanger.fintube.continuous_fin import (\n",
    "    PlainFinAirToWaterCounterFlowHeatExchanger as AirCoil\n",
    ")\n",
    "\n",
    "from hvac.air_conditioning import AirConditioningProcess\n",
    "\n",
    "warnings.filterwarnings('ignore', category=CoolPropWarning)\n",
    "\n",
    "Q_ = Quantity\n",
    "\n",
    "Water = Fluid('Water')\n",
    "\n",
    "Air = Fluid('Air')\n",
    "standard_air = Air(T=STANDARD_TEMPERATURE, P=STANDARD_PRESSURE)"
   ]
  },
  {
   "cell_type": "markdown",
   "id": "aeb1ead1-82c0-4982-8d39-fa258cb0ed81",
   "metadata": {},
   "source": [
    "# Air-to-Water Cooling Coil (Part 2)"
   ]
  },
  {
   "cell_type": "markdown",
   "id": "f823a63b-88c3-414d-945c-058e726cb9df",
   "metadata": {},
   "source": [
    "Consider the same air-cooling coil from the previous notebook (part 1) installed in a space under the assumption of (1) a fixed, constant space load and (2) without thermostat control. The mass flow rate of air and water through the air-cooling coil, and the entering water temperature are known and assumed constant.\n",
    "\n",
    "**Problem:**<br>\n",
    "We want to determine the steady-state operating conditions of the air-cooling coil and the state of the space air when thermal equilibrium has been reached, i.e., when the cooling capacity of the air-cooling coil balances the fixed space load."
   ]
  },
  {
   "cell_type": "markdown",
   "id": "fe75d0da-10d7-4bfe-ae14-451584113bcd",
   "metadata": {},
   "source": [
    "First, we define the air-cooling coil again:"
   ]
  },
  {
   "cell_type": "code",
   "execution_count": 2,
   "id": "b643b6de-7096-4703-9fb3-a1fd14943f8b",
   "metadata": {
    "tags": []
   },
   "outputs": [],
   "source": [
    "air_coil = AirCoil(\n",
    "    width=Q_(900, 'mm'),\n",
    "    height=Q_(180, 'mm'),\n",
    "    num_rows=3,\n",
    "    pitch_trv=Q_(25.4, 'mm'),\n",
    "    pitch_lon=Q_(22.0, 'mm'),\n",
    "    d_i=Q_(8.422, 'mm'),\n",
    "    d_o=Q_(10.2, 'mm'),\n",
    "    t_fin=Q_(0.3302, 'mm'),\n",
    "    fin_density=1 / Q_(3.175, 'mm'),\n",
    "    num_circuits=2\n",
    ")"
   ]
  },
  {
   "cell_type": "markdown",
   "id": "3a77a42c-8b4c-4ee5-abe4-478ec37f9365",
   "metadata": {},
   "source": [
    "The fixed operating conditions of the air-cooling coil are set:\n",
    "- the volume and mass flow rate of air through the air-cooling coil\n",
    "- the entering water temperature\n",
    "- the volume and mass flow rate of water through the air-cooling coil"
   ]
  },
  {
   "cell_type": "code",
   "execution_count": 3,
   "id": "b3e8c06a-2667-4e82-ad00-ebc0c7df966e",
   "metadata": {
    "tags": []
   },
   "outputs": [],
   "source": [
    "air_V_dot = Q_(850.0, 'm ** 3 / hr')\n",
    "air_m_dot = standard_air.rho * air_V_dot\n",
    "\n",
    "water_in = Water(T=Q_(7, 'degC'), P=Q_(2, 'bar'))\n",
    "\n",
    "water_V_dot = Q_(853.02, 'L / hr')\n",
    "water_m_dot = water_in.rho * water_V_dot"
   ]
  },
  {
   "cell_type": "markdown",
   "id": "c84de0bf-8cbf-41a2-a1fc-1eaeda690148",
   "metadata": {},
   "source": [
    "Now, we write a function that returns the performance of the cooling coil for a given state of air entering the cooling coil:"
   ]
  },
  {
   "cell_type": "code",
   "execution_count": 4,
   "id": "ba2e0f30-5b18-4149-94dc-2fa456037a69",
   "metadata": {
    "tags": []
   },
   "outputs": [],
   "source": [
    "def air_coil_fun(air_in: HumidAir) -> dict:\n",
    "    \"\"\"\n",
    "    Given the state of air at the entry of the air cooling coil, returns the\n",
    "    performance of the air cooling coil, while the other coil performance\n",
    "    input parameters (the mass flow rate of air through the coil, the mass flow\n",
    "    rate of water, and the entering water temperature) remain fixed.\n",
    "    \"\"\"\n",
    "    air_coil.set_operating_conditions(\n",
    "        air_in=air_in,\n",
    "        water_in=water_in,\n",
    "        air_m_dot=air_m_dot,\n",
    "        water_m_dot=water_m_dot\n",
    "    )\n",
    "    result = air_coil.rate(eps_ini=0.5)\n",
    "    return result"
   ]
  },
  {
   "cell_type": "markdown",
   "id": "3fd150fa-b647-45a9-abc6-d31a5df5cd94",
   "metadata": {},
   "source": [
    "Next, we write a function that returns the state of air leaving the space and entering the cooling coil:"
   ]
  },
  {
   "cell_type": "code",
   "execution_count": 5,
   "id": "0b930794-9a72-49e3-a0fa-6ad69dfe27d3",
   "metadata": {
    "tags": []
   },
   "outputs": [],
   "source": [
    "def space_fun(\n",
    "    air_in: HumidAir,\n",
    "    space_Q_dot: Quantity,\n",
    "    space_SHR: Quantity\n",
    ") -> HumidAir:\n",
    "    \"\"\"\n",
    "    Given the state of air entering the space and the space load, returns\n",
    "    the state of air leaving the space and entering the air-cooling coil.\n",
    "    \"\"\"\n",
    "    space = AirConditioningProcess(\n",
    "        air_in=air_in,\n",
    "        m_da=air_m_dot,\n",
    "        Q=space_Q_dot,\n",
    "        SHR=space_SHR\n",
    "    )\n",
    "    return space.air_out"
   ]
  },
  {
   "cell_type": "markdown",
   "id": "e0751637-a18b-4143-8061-5e09b65668fd",
   "metadata": {},
   "source": [
    "For this, we have represented the space as an instance of the `AirConditioningProcess` class in subpackage `hvac.air_conditioning`."
   ]
  },
  {
   "cell_type": "markdown",
   "id": "2fb356bb-bcb5-4041-8279-c09ef9315f9a",
   "metadata": {},
   "source": [
    "With the following function, we can calculate the state of the space air in steady-state conditions for the given space cooling load. We use a while-loop until the cooling capacity of the air-cooling coil matches closely with the space-cooling load. When this is the case, thermal equilibrium has been established and the final state of the space air, which is also entering the cooling coil, can be determined."
   ]
  },
  {
   "cell_type": "code",
   "execution_count": 6,
   "id": "91985f47-bfa0-4558-b0ac-022b336eddaf",
   "metadata": {
    "tags": []
   },
   "outputs": [],
   "source": [
    "def system_fun(space_Q_dot: Quantity, space_SHR: Quantity) -> HumidAir:\n",
    "    \"\"\"\n",
    "    Combines the air-cooling coil and the space into a single thermal system,\n",
    "    and determines the steady-state operation of this system for a given space\n",
    "    load (i.e., without any intervention of a room thermostat).\n",
    "    At steady-state operation, the space load and the cooling coil capacity have\n",
    "    reached thermal equilibrium.\n",
    "    In steady-state conditions, the state of space air entering the cooling coil\n",
    "    becomes constant in time. Also, the state of air leaving the cooling coil,\n",
    "    and the state of water leaving the cooling coil becomes constant.\n",
    "\n",
    "    Returns\n",
    "    -------\n",
    "    The state of the space air when steady-state operation has been reached.\n",
    "    \"\"\"\n",
    "    solutions = {}\n",
    "    i_max = 50\n",
    "    i = 0\n",
    "    dev_prev = None\n",
    "\n",
    "    # Initial guess to start the loop:\n",
    "    space_air = HumidAir(Tdb=Q_(26, 'degC'), RH=Q_(50, 'pct'))\n",
    "\n",
    "    while i < i_max:\n",
    "        # Calculate the coil performance for the current space air state:\n",
    "        coil_perf = air_coil_fun(space_air)\n",
    "        # Get the cooling capacity of the air-cooling coil:\n",
    "        coil_Q_dot = coil_perf['Q_dot']\n",
    "        # Get the state of air leaving the cooling coil:\n",
    "        coil_air_out = coil_perf['air_out']\n",
    "        # Check the deviation between the cooling capacity of the cooling coil\n",
    "        # and the space cooling load:\n",
    "        dev = abs(coil_Q_dot - space_Q_dot).to('W')\n",
    "        if dev_prev is not None and abs(dev - dev_prev) < Q_(1.e-4, 'W'):\n",
    "            break\n",
    "        # Calculate the state of space air using the state of air leaving the\n",
    "        # air-cooling coil:\n",
    "        space_air = space_fun(coil_air_out, space_Q_dot, space_SHR)\n",
    "        solutions[dev] = space_air\n",
    "        dev_prev = dev\n",
    "        i += 1\n",
    "    else:\n",
    "        print(f\"No solution within tolerance after {i_max} iterations.\")\n",
    "\n",
    "    # Return the space air state for which the deviation is minimal:\n",
    "    dev_min = min(dev for dev in solutions.keys())\n",
    "    space_air = solutions[dev_min]\n",
    "    return space_air"
   ]
  },
  {
   "cell_type": "markdown",
   "id": "2b7732dd-1ad9-4408-9e40-9df6a8a54729",
   "metadata": {},
   "source": [
    "The while-loop will run until either the deviation between the calculated cooling coil capacity and the given space load has become sufficiently small (less than 1.e-4 W), or the maximum number of iterations has been reached. The state of the space air is returned for which the deviation between the calculated cooling coil capacity and the given space load was smallest. "
   ]
  },
  {
   "cell_type": "markdown",
   "id": "822f934a-1069-468e-af8e-80645e68e828",
   "metadata": {},
   "source": [
    "Inside `main()` we call the calculation routine `system_fun()` and then display the results."
   ]
  },
  {
   "cell_type": "code",
   "execution_count": 7,
   "id": "c9626fe0-7864-467b-acd6-d8b081462f4d",
   "metadata": {},
   "outputs": [],
   "source": [
    "def main(space_Q_dot: Quantity, space_SHR: Quantity):\n",
    "    space_air = system_fun(space_Q_dot, space_SHR)\n",
    "\n",
    "    coil_perf = air_coil_fun(space_air)\n",
    "    coil_air_out = coil_perf['air_out']\n",
    "    coil_water_out = coil_perf['water_out']\n",
    "    coil_Q_dot = coil_perf['Q_dot']\n",
    "\n",
    "    # Show the results:\n",
    "    print(\n",
    "        \"space air state = \"\n",
    "        f\"{space_air.Tdb.to('degC'):~P.2f} DB \"\n",
    "        f\"{space_air.RH.to('pct'):~P.0f} RH\",\n",
    "        \"leaving air state of cooling coil = \"\n",
    "        f\"{coil_air_out.Tdb.to('degC'):~P.2f} DB \"\n",
    "        f\"{coil_air_out.RH.to('pct'):~P.0f} RH\",\n",
    "        \"leaving water temperature of cooling coil = \"\n",
    "        f\"{coil_water_out.T.to('degC'):~P.2f}\",\n",
    "        \"cooling coil capacity (check) = \"\n",
    "        f\"{coil_Q_dot.to('kW'):~P.3f}\",\n",
    "        # should almost be equal to `space_Q_dot`\n",
    "        sep='\\n'\n",
    "    )"
   ]
  },
  {
   "cell_type": "markdown",
   "id": "ca21ddc3-8ce2-4b2a-aae7-88f08a956e43",
   "metadata": {},
   "source": [
    "We call `main()` with the total space cooling load and the sensible heat ratio of the space cooling load:  "
   ]
  },
  {
   "cell_type": "code",
   "execution_count": 8,
   "id": "24646540-c4fe-49ed-af66-9bb8cc696d6b",
   "metadata": {
    "tags": []
   },
   "outputs": [
    {
     "name": "stdout",
     "output_type": "stream",
     "text": [
      "space air state = 27.44 °C DB 44 % RH\n",
      "leaving air state of cooling coil = 15.09 °C DB 78 % RH\n",
      "leaving water temperature of cooling coil = 11.82 °C\n",
      "cooling coil capacity (check) = 4.793 kW\n"
     ]
    }
   ],
   "source": [
    "if __name__ == '__main__':\n",
    "    main(\n",
    "        space_Q_dot=Q_(4.789, 'kW'),\n",
    "        space_SHR=0.75\n",
    "    )"
   ]
  },
  {
   "cell_type": "code",
   "execution_count": null,
   "id": "e53c2131-7c48-49c4-bb8c-c97ca4fe7fa1",
   "metadata": {},
   "outputs": [],
   "source": []
  }
 ],
 "metadata": {
  "kernelspec": {
   "display_name": "Python 3 (ipykernel)",
   "language": "python",
   "name": "python3"
  },
  "language_info": {
   "codemirror_mode": {
    "name": "ipython",
    "version": 3
   },
   "file_extension": ".py",
   "mimetype": "text/x-python",
   "name": "python",
   "nbconvert_exporter": "python",
   "pygments_lexer": "ipython3",
   "version": "3.11.0"
  }
 },
 "nbformat": 4,
 "nbformat_minor": 5
}
