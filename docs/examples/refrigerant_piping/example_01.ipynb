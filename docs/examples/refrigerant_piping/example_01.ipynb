{
 "cells": [
  {
   "cell_type": "markdown",
   "id": "f5a17d61-90b2-4d1a-a7fd-044d8f1dac51",
   "metadata": {},
   "source": [
    "# SIZING REFRIGERANT LINES\n",
    "---"
   ]
  },
  {
   "cell_type": "markdown",
   "id": "e3e94b24-78b6-4c0f-b9f3-f73fc43817b1",
   "metadata": {},
   "source": [
    "This example is based on the examples in ***TRANE, Air Conditioning Clinic: Refrigerant Piping (June 2011, TRG-TRC006-EN)***."
   ]
  },
  {
   "cell_type": "code",
   "execution_count": 1,
   "id": "da15259f-7680-4190-ba35-e77f438de09d",
   "metadata": {},
   "outputs": [],
   "source": [
    "import warnings\n",
    "from pathlib import Path\n",
    "from hvac import Quantity\n",
    "from hvac.fluids import Fluid, CoolPropWarning\n",
    "from hvac.refrigerant_piping import (\n",
    "    CopperTubing,\n",
    "    RefrigerantCycleInfo,\n",
    "    SuctionLineSizer,\n",
    "    DischargeLineSizer,\n",
    "    LiquidLineSizer\n",
    ")"
   ]
  },
  {
   "cell_type": "code",
   "execution_count": 2,
   "id": "f124977d-784b-4a4d-bc7f-c365eddd60af",
   "metadata": {},
   "outputs": [],
   "source": [
    "warnings.filterwarnings('ignore', category=CoolPropWarning)\n",
    "\n",
    "Q_ = Quantity\n",
    "R22 = Fluid('R22')"
   ]
  },
  {
   "cell_type": "markdown",
   "id": "4e526493-0cb2-4a9b-b771-1b8574554735",
   "metadata": {},
   "source": [
    "Get copper tubes from shelf \"./copper-tube-ACR-D\" (this shelf was created with script `copper_tubing.py` in the same folder):"
   ]
  },
  {
   "cell_type": "code",
   "execution_count": 3,
   "id": "b0995146-1b0e-4303-8c21-60ca747e3f73",
   "metadata": {},
   "outputs": [],
   "source": [
    "CopperTubing.db_path = Path(\"./copper-tube-ACR-D\")\n",
    "copper_tubes = CopperTubing.get_records()"
   ]
  },
  {
   "cell_type": "markdown",
   "id": "df6ff78c-1ce3-4e99-a3e5-5ed11de7866f",
   "metadata": {},
   "source": [
    "Set refrigeration cycle info:"
   ]
  },
  {
   "cell_type": "code",
   "execution_count": 4,
   "id": "da75e6c9-cf49-416e-bf39-17cd919e476e",
   "metadata": {},
   "outputs": [],
   "source": [
    "cycle_info = RefrigerantCycleInfo(\n",
    "    refrigerant=R22,\n",
    "    T_evp=Q_(40, 'degF'),\n",
    "    T_cnd=Q_(125, 'degF'),\n",
    "    evp_superheat=Q_(12, 'delta_degF'),\n",
    "    cnd_subcooling=Q_(15, 'delta_degF'),\n",
    "    cmp_superheat=Q_(70, 'delta_degF')\n",
    ")"
   ]
  },
  {
   "cell_type": "markdown",
   "id": "260879a6-aa76-4d20-820c-65c1e963a974",
   "metadata": {},
   "source": [
    "Set the maximum and minimum cooling capacity of the system:"
   ]
  },
  {
   "cell_type": "code",
   "execution_count": 5,
   "id": "06d5ab52-b342-4231-956c-90e430d2012a",
   "metadata": {},
   "outputs": [],
   "source": [
    "Q_dot_evp_max = Q_(20, 'refrigeration_ton')\n",
    "Q_dot_evp_min = Q_(10, 'refrigeration_ton')"
   ]
  },
  {
   "cell_type": "markdown",
   "id": "4028ac5c-22c1-4445-8159-e95ce9380e18",
   "metadata": {},
   "source": [
    "## Suction Line"
   ]
  },
  {
   "cell_type": "code",
   "execution_count": 6,
   "id": "1c4977f6-9b30-4291-af3d-7584a3c9261d",
   "metadata": {},
   "outputs": [],
   "source": [
    "suction_line_sizer = SuctionLineSizer(\n",
    "    copper_tubes=copper_tubes,\n",
    "    cycle_info=cycle_info,\n",
    "    Q_dot_evp_max=Q_dot_evp_max,\n",
    "    Q_dot_evp_min=Q_dot_evp_min,\n",
    ")"
   ]
  },
  {
   "cell_type": "code",
   "execution_count": 7,
   "id": "247a6fec-1043-4183-837b-fdd47093aedb",
   "metadata": {},
   "outputs": [
    {
     "name": "stdout",
     "output_type": "stream",
     "text": [
      "2 1/8 | maximum flow velocity = 9.5 m/s | minimum flow velocity = 4.8 m/s | maximum pressure drop = 5.399 kPa (0.300 K)\n"
     ]
    }
   ],
   "source": [
    "horizontal_section = suction_line_sizer.size(\n",
    "    L=Q_(55, 'feet'),\n",
    "    fittings=[\n",
    "        ('long-radius-elbow', 3),\n",
    "        ('short-radius-elbow', 3)\n",
    "    ]\n",
    ")\n",
    "if horizontal_section is None:\n",
    "    print('no suitable copper tube available')\n",
    "else:\n",
    "    print(horizontal_section)"
   ]
  },
  {
   "cell_type": "code",
   "execution_count": 8,
   "id": "6db9ddea-55be-49fe-96e8-52ec00e5eaea",
   "metadata": {},
   "outputs": [
    {
     "name": "stdout",
     "output_type": "stream",
     "text": [
      "1 5/8 | maximum flow velocity = 16.5 m/s | minimum flow velocity = 8.3 m/s | maximum pressure drop = 5.936 kPa (0.330 K)\n"
     ]
    }
   ],
   "source": [
    "vertical_riser = suction_line_sizer.size(\n",
    "    L=Q_(15, 'feet'),\n",
    "    elevation=Q_(15, 'feet')\n",
    ")\n",
    "if vertical_riser is None:\n",
    "    print('no suitable copper tube available')\n",
    "else:\n",
    "    print(vertical_riser)"
   ]
  },
  {
   "cell_type": "markdown",
   "id": "87909650-51ea-47b2-b028-1844941fcf51",
   "metadata": {},
   "source": [
    "## Discharge Line"
   ]
  },
  {
   "cell_type": "code",
   "execution_count": 9,
   "id": "23aca786-97d2-45c1-b2e0-4fd60be90ebc",
   "metadata": {},
   "outputs": [],
   "source": [
    "discharge_line_sizer = DischargeLineSizer(\n",
    "    copper_tubes=copper_tubes,\n",
    "    cycle_info=cycle_info,\n",
    "    Q_dot_evp_max=Q_dot_evp_max,\n",
    "    Q_dot_evp_min=Q_dot_evp_min\n",
    ")"
   ]
  },
  {
   "cell_type": "code",
   "execution_count": 10,
   "id": "674db029-e21d-46f1-b706-499043065789",
   "metadata": {},
   "outputs": [
    {
     "name": "stdout",
     "output_type": "stream",
     "text": [
      "1 3/8 | maximum flow velocity = 7.9 m/s | minimum flow velocity = 4.0 m/s | maximum pressure drop = 13.649 kPa (0.297 K)\n"
     ]
    }
   ],
   "source": [
    "discharge_line = discharge_line_sizer.size(\n",
    "    L=Q_(50, 'feet'),\n",
    "    fittings=[\n",
    "        ('long-radius-elbow', 2)\n",
    "    ]\n",
    ")\n",
    "if discharge_line is None:\n",
    "    print('no suitable copper tube available')\n",
    "else:\n",
    "    print(discharge_line)"
   ]
  },
  {
   "cell_type": "markdown",
   "id": "af77d4a7-ab8d-418e-a437-ed47d37ecdb1",
   "metadata": {},
   "source": [
    "## Liquid Line"
   ]
  },
  {
   "cell_type": "code",
   "execution_count": 11,
   "id": "70828f1f-416a-47ce-a722-1546061c3a76",
   "metadata": {},
   "outputs": [],
   "source": [
    "liquid_line_sizer = LiquidLineSizer(\n",
    "    copper_tubes=copper_tubes,\n",
    "    cycle_info=cycle_info,\n",
    "    Q_dot_evp_max=Q_dot_evp_max\n",
    ")"
   ]
  },
  {
   "cell_type": "code",
   "execution_count": 12,
   "id": "e385eb4b-bc0f-46c6-a680-3920832f36c7",
   "metadata": {},
   "outputs": [
    {
     "name": "stdout",
     "output_type": "stream",
     "text": [
      "5/8 | maximum flow velocity = 2.7 m/s | minimum flow velocity = nan m/s | maximum pressure drop = nan kPa (nan K)\n"
     ]
    }
   ],
   "source": [
    "liquid_line = liquid_line_sizer.size(\n",
    "    L=Q_(100, 'feet'),\n",
    "    fittings=[\n",
    "        ('long-radius-elbow', 4),\n",
    "        ('ball-valve', 2),\n",
    "        ('sight-glass', 1)\n",
    "    ],\n",
    "    elevation=Q_(4, 'feet')\n",
    ")\n",
    "if liquid_line is None:\n",
    "    print('no suitable copper tube available')\n",
    "else:\n",
    "    print(liquid_line)"
   ]
  },
  {
   "cell_type": "markdown",
   "id": "aef14d7d-5bbf-4756-ba0d-cadb4625f840",
   "metadata": {},
   "source": [
    "Add additional accessories to the liquid line and get the pressure drop along the liquid line:"
   ]
  },
  {
   "cell_type": "code",
   "execution_count": 13,
   "id": "81ab6502-caec-43dc-bebb-7e62f2ea6e6a",
   "metadata": {},
   "outputs": [
    {
     "name": "stdout",
     "output_type": "stream",
     "text": [
      "5/8 | maximum flow velocity = 2.7 m/s | minimum flow velocity = nan m/s | maximum pressure drop = 218.188 kPa (4.965 K)\n"
     ]
    }
   ],
   "source": [
    "liquid_line.pressure_drop(dP_add=[\n",
    "    Q_(6, 'psi'),  # filter drier\n",
    "    Q_(4, 'psi')   # solenoid valve\n",
    "])\n",
    "print(liquid_line)"
   ]
  },
  {
   "cell_type": "code",
   "execution_count": null,
   "id": "88ffb4c6-f4bf-471d-ab53-f999d2155211",
   "metadata": {},
   "outputs": [],
   "source": []
  }
 ],
 "metadata": {
  "kernelspec": {
   "display_name": "Python 3 (ipykernel)",
   "language": "python",
   "name": "python3"
  },
  "language_info": {
   "codemirror_mode": {
    "name": "ipython",
    "version": 3
   },
   "file_extension": ".py",
   "mimetype": "text/x-python",
   "name": "python",
   "nbconvert_exporter": "python",
   "pygments_lexer": "ipython3",
   "version": "3.11.0"
  }
 },
 "nbformat": 4,
 "nbformat_minor": 5
}
