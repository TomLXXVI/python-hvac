{
 "cells": [
  {
   "cell_type": "code",
   "execution_count": 1,
   "id": "4f7890f0-b837-4550-8444-3c927630c1d3",
   "metadata": {},
   "outputs": [],
   "source": [
    "import sys\n",
    "if (path := \"C:/Users/Tom/PycharmProjects/python-hvac\") not in sys.path:\n",
    "    sys.path.append(path)"
   ]
  },
  {
   "cell_type": "code",
   "execution_count": 2,
   "id": "649c13f1-3d34-419d-92d3-bc1f3ebde536",
   "metadata": {},
   "outputs": [],
   "source": [
    "from hvac import Quantity, print_doc_string\n",
    "\n",
    "Q_ = Quantity"
   ]
  },
  {
   "cell_type": "markdown",
   "id": "0cb5ef68-ec02-4d4c-9c0e-d174f89f12d7",
   "metadata": {},
   "source": [
    "# Chapter 1: Construction Assembly of a Vertical Exterior Wall\n",
    "---"
   ]
  },
  {
   "cell_type": "markdown",
   "id": "eb88b32c-cb39-4a9d-801e-e2556d04acc1",
   "metadata": {},
   "source": [
    "A construction assembly is composed of construction layers, ordered from the exterior side towards the interior side of the wall. There are different kinds of construction layers. On the exterior surface side and on the interior surface side of a wall, there is always a surface film, where heat is transferred to or from the wall by convection. The wall itself is internally composed of successive solid material layers and it may also contain an air layer. In this notebook the basics of defining the construction assembly of a vertical exterior masonry wall are demonstrated.  "
   ]
  },
  {
   "cell_type": "markdown",
   "id": "1fc7b951-6b1e-4c9b-986f-1bda3d0be835",
   "metadata": {},
   "source": [
    "## Surface Film"
   ]
  },
  {
   "cell_type": "markdown",
   "id": "0828d196-20db-4932-b5b9-157dc07244bc",
   "metadata": {},
   "source": [
    "To create a surface film, class method `create(...)` of the `SurfaceFilm` class needs to be called."
   ]
  },
  {
   "cell_type": "code",
   "execution_count": 3,
   "id": "da3998ba-2caa-4810-8916-261a291303cb",
   "metadata": {},
   "outputs": [],
   "source": [
    "from hvac.cooling_load_calc import SurfaceFilm, Geometry, HeatFlowDirection"
   ]
  },
  {
   "cell_type": "code",
   "execution_count": 4,
   "id": "baa265c8-fcbc-4aa4-8276-5c2a45bfa5b8",
   "metadata": {},
   "outputs": [
    {
     "name": "stdout",
     "output_type": "stream",
     "text": [
      "Creates a `SurfaceFilm` object.\n",
      "\n",
      "Parameters\n",
      "----------\n",
      "ID: str\n",
      "    Name to identify the surface film.\n",
      "geometry: Geometry\n",
      "    `Geometry` object with the area (A) of the surface film.\n",
      "    Note: in case of a surface film, the film thickness is not \n",
      "    considered.\n",
      "heat_flow_dir: HeatFlowDirection\n",
      "    `HeatFlowDirection` object indicating the direction of the heat flow\n",
      "    perpendicular to the surface. Can be HORIZONTAL in case of a vertical\n",
      "    surface, and UPWARDS or DOWNWARDS in case of a horizontal surface.\n",
      "T_mn: Quantity\n",
      "    The mean thermodynamic temperature of the surface and of its\n",
      "    surroundings (e.g. operative temperature for internal surfaces,\n",
      "    external air temperature or sol-air temperature for external \n",
      "    surfaces).\n",
      "surf_emissivity: Quantity, default 0.9\n",
      "    The hemispherical emissivity of the surface.\n",
      "is_internal_surf: bool, default True\n",
      "    Indicates whether the surface is internal or external.\n",
      "wind_speed: Quantity, default 4 m/s\n",
      "    Wind speed. Only used with external surfaces.\n",
      "\n",
      "Parameter Types & Defaults\n",
      "--------------------------\n",
      "ID: 'str'\n",
      "geometry: 'Geometry'\n",
      "heat_flow_dir: 'HeatFlowDirection'\n",
      "T_mn: 'Quantity' = <Quantity(20, 'degree_Celsius')>\n",
      "surf_emissivity: 'Quantity' = <Quantity(0.9, 'fraction')>\n",
      "is_internal_surf: 'bool' = True\n",
      "wind_speed: 'Quantity' = <Quantity(4.0, 'meter / second')>\n"
     ]
    }
   ],
   "source": [
    "print_doc_string(SurfaceFilm.create)"
   ]
  },
  {
   "cell_type": "markdown",
   "id": "694daf22-b3b5-498b-a98d-4aa417459a1c",
   "metadata": {},
   "source": [
    "### Exterior Surface Film"
   ]
  },
  {
   "cell_type": "code",
   "execution_count": 5,
   "id": "fdd01fff-fdc7-4faf-a9f6-592b2bd9268f",
   "metadata": {},
   "outputs": [],
   "source": [
    "T_ext = Q_(-8, 'degC')  # exterior air temperature"
   ]
  },
  {
   "cell_type": "code",
   "execution_count": 6,
   "id": "b3e4ff83-1490-4bae-a538-7088bba83a34",
   "metadata": {},
   "outputs": [],
   "source": [
    "ext_film = SurfaceFilm.create(\n",
    "    ID='ext-surf-film',\n",
    "    geometry=Geometry(),\n",
    "    heat_flow_dir=HeatFlowDirection.HORIZONTAL,\n",
    "    T_mn=T_ext,\n",
    "    is_internal_surf=False,\n",
    "    wind_speed=Q_(4, 'm / s')\n",
    ")"
   ]
  },
  {
   "cell_type": "markdown",
   "id": "b65d0b06-b764-4277-8719-56191308cc0e",
   "metadata": {},
   "source": [
    "> **Notes**\n",
    "> - An object of class `Geometry` contains the area `A` and the thickness `t` of a layer. Default values are: `A` = 1 m² and `t` = 0 m. So, the exterior surface film has an area of 1 m² and zero thickness.\n",
    "> - As the wall is vertical, the heat flows in a horizontal direction through the surface film.\n",
    "> - `is_internal_surf=False` indicates that the surface film is on the exterior side of the wall. "
   ]
  },
  {
   "cell_type": "markdown",
   "id": "970375c0-4a33-4d98-94f2-e16d1e1e1514",
   "metadata": {},
   "source": [
    "### Interior Surface Film"
   ]
  },
  {
   "cell_type": "code",
   "execution_count": 7,
   "id": "dc059405-47ac-422b-baef-abe346770543",
   "metadata": {},
   "outputs": [],
   "source": [
    "T_zone = Q_(20, 'degC')  # zone air temperature"
   ]
  },
  {
   "cell_type": "code",
   "execution_count": 8,
   "id": "826ae918-7a74-483d-814c-6f6b5313dda4",
   "metadata": {},
   "outputs": [],
   "source": [
    "int_film = SurfaceFilm.create(\n",
    "    ID='int-surf-film',\n",
    "    geometry=Geometry(),\n",
    "    heat_flow_dir=HeatFlowDirection.HORIZONTAL,\n",
    "    T_mn=T_zone\n",
    ")"
   ]
  },
  {
   "cell_type": "markdown",
   "id": "afb3b695-8659-4776-a424-acc74ef6ef33",
   "metadata": {},
   "source": [
    "> **Notes**\n",
    "> - By default, a `SurfaceFilm` object is assumed to be situated on the interior side of a construction assembly."
   ]
  },
  {
   "cell_type": "markdown",
   "id": "fb7909fd-8be3-48fa-bf0a-e3bceed18132",
   "metadata": {},
   "source": [
    "## Solid Layers"
   ]
  },
  {
   "cell_type": "code",
   "execution_count": 9,
   "id": "a6d70c3d-51e8-43a7-97c7-3306063df5cf",
   "metadata": {},
   "outputs": [],
   "source": [
    "from hvac.cooling_load_calc import SolidLayer, Material"
   ]
  },
  {
   "cell_type": "code",
   "execution_count": 10,
   "id": "128942b8-08b5-475b-b8a8-bdf3b96c1fae",
   "metadata": {},
   "outputs": [
    {
     "name": "stdout",
     "output_type": "stream",
     "text": [
      "Creates a `SolidLayer` object.\n",
      "\n",
      "Parameters\n",
      "----------\n",
      "ID:\n",
      "    Name to identify the layer in the construction assembly.\n",
      "geometry:\n",
      "    `Geometry` object that holds the surface area (`A`) and thickness\n",
      "    (`t`) of the layer.\n",
      "material:\n",
      "    `Material` object that holds the material properties of the layer\n",
      "    (`k`, `rho`, `c`, `R`) where `k` is the thermal conductivity of\n",
      "    the material, `rho` is the mass density, `c` is the specific heat,\n",
      "    and `R` is the unit thermal resistance (default None).\n",
      "num_slices:\n",
      "    A solid layer can be subdivided into a number of slices. Each slice\n",
      "    will correspond with a temperature node in the linear thermal \n",
      "    network model of an exterior building element. \n",
      "\n",
      "Parameter Types & Defaults\n",
      "--------------------------\n",
      "ID: 'str'\n",
      "geometry: 'Geometry'\n",
      "material: 'Material'\n",
      "num_slices: 'int' = 1\n"
     ]
    }
   ],
   "source": [
    "print_doc_string(SolidLayer.create)"
   ]
  },
  {
   "cell_type": "code",
   "execution_count": 11,
   "id": "13551a8c-fd41-45ac-955e-797ff4e35817",
   "metadata": {},
   "outputs": [],
   "source": [
    "outer_leaf = SolidLayer.create(\n",
    "    ID='brick-wall-15',\n",
    "    geometry=Geometry(t=Q_(15, 'cm')), # layer thickness\n",
    "    material=Material(\n",
    "        k=Q_(1.59, 'W / (m * K)'),  # conductivity of material\n",
    "        rho=Q_(1500, 'kg / m**3'),  # mass density of material\n",
    "        c=Q_(840, 'J / (kg * K)')   # specific heat of material\n",
    "    ),\n",
    "    num_slices=5  # the outer leaf is subdivided into 5 slices having a thickness of 3 cm\n",
    ")"
   ]
  },
  {
   "cell_type": "code",
   "execution_count": 12,
   "id": "55238d91-a1ca-4119-b995-6b5825274dca",
   "metadata": {},
   "outputs": [],
   "source": [
    "inner_leaf = SolidLayer.create(\n",
    "    ID='brick-wall-18',\n",
    "    geometry=Geometry(t=Q_(18, 'cm')),\n",
    "    material=Material(\n",
    "        k=Q_(1.59, 'W / (m * K)'),\n",
    "        rho=Q_(1500, 'kg / m**3'),\n",
    "        c=Q_(840, 'J / (kg * K)')\n",
    "    ),\n",
    "    num_slices=6\n",
    ")"
   ]
  },
  {
   "cell_type": "code",
   "execution_count": 13,
   "id": "e298f6cf-103d-4d0a-b1fc-1bc374030e3e",
   "metadata": {},
   "outputs": [],
   "source": [
    "gypsum_layer = SolidLayer.create(\n",
    "    ID='gypsum',\n",
    "    geometry=Geometry(t=Q_(1.5, 'cm')),\n",
    "    material=Material(\n",
    "        k=Q_(0.56, 'W / (m * K)'),\n",
    "        rho=Q_(1300, 'kg / m**3'),\n",
    "        c=Q_(840, 'J / (kg * K)')\n",
    "    )\n",
    ")"
   ]
  },
  {
   "cell_type": "markdown",
   "id": "e6d6bc60-10c2-4c49-8acd-75591dceab2d",
   "metadata": {},
   "source": [
    "## Air Layer"
   ]
  },
  {
   "cell_type": "markdown",
   "id": "af698d8e-22cb-4012-aec6-938f48940a97",
   "metadata": {},
   "source": [
    "Between the outer leaf and the inner leaf of the vertical wall is an air layer.\n",
    "\n",
    "Before we can define the air layer, we need to know the temperature difference between the outer and the inner side of the air layer and the average temperature of the air layer. For this, we use the `AirLayerTemperatureSolver` class. When instantiating the solver, we need to pass it:\n",
    "- the temperature `T_ext` on the exterior side of the wall\n",
    "- the temperature `T_int` on the interior side of the wall\n",
    "- the thermal resistance `R_ea` between the exterior side of the wall and the exterior side of the air layer inside the wall.\n",
    "- the thermal resistance `R_ai` between the interior side of the air layer inside the wall and the interior side of the wall.\n",
    "\n",
    "When the solver is instantiated, we can call its `solve()` method. This method uses Scipy's `minimize()` function to find the temperature on both the exterior and the interior side of the air layer by balancing the heat flow from the exterior side of the wall to the exterior side of the air layer and the heat flow from the interior side of the air layer to the interior side of the wall (at steady-state these heat flows should be equal). The method needs intial guesses for the temperatures on the exterior and on the interior side of the air layer. The method returns (1) the temperature on the exterior side of the air layer, (2) the temperature on the interior side of the air layer, (3) the absolute value of the temperature difference between the exterior and the interior side of the air layer, and (4) the average temperature of the air layer. We only need the temperature difference and the average or mean temperature to define the air layer."
   ]
  },
  {
   "cell_type": "code",
   "execution_count": 14,
   "id": "a6b726cf-6c11-453f-a66b-8b4d0418b3f4",
   "metadata": {},
   "outputs": [],
   "source": [
    "from hvac.cooling_load_calc import AirLayerTemperatureSolver"
   ]
  },
  {
   "cell_type": "code",
   "execution_count": 15,
   "id": "54026ff4-f9c8-48c2-aaef-bfecc44033b9",
   "metadata": {},
   "outputs": [],
   "source": [
    "solver = AirLayerTemperatureSolver(\n",
    "    T_ext=T_ext,\n",
    "    T_int=T_zone,\n",
    "    R_ea=ext_film.R + outer_leaf.R,\n",
    "    R_ai=inner_leaf.R + gypsum_layer.R + int_film.R\n",
    ")\n",
    "*_, dT, T_mn = solver.solve(\n",
    "    T_ae_guess=T_ext.to('K') - Q_(3, 'K'),\n",
    "    T_ai_guess=T_zone.to('K') + Q_(5, 'K')\n",
    ")"
   ]
  },
  {
   "cell_type": "code",
   "execution_count": 16,
   "id": "192be7ef-86b9-4417-a817-76f1e2f69cd9",
   "metadata": {},
   "outputs": [],
   "source": [
    "from hvac.cooling_load_calc import AirLayer"
   ]
  },
  {
   "cell_type": "code",
   "execution_count": 17,
   "id": "4592972d-ac02-446c-993f-81ff5e4e71f5",
   "metadata": {},
   "outputs": [
    {
     "name": "stdout",
     "output_type": "stream",
     "text": [
      "Creates an `AirLayer` object.\n",
      "\n",
      "Parameters\n",
      "----------\n",
      "ID: str\n",
      "    Name to identify the airspace in a building component.\n",
      "geometry: Geometry\n",
      "    Note: the maximum allowable thickness of the airspace is 0.3 m.\n",
      "    The thickness is the dimension in the direction of heat flow.\n",
      "dT: Quantity\n",
      "    The temperature difference across the airspace.\n",
      "heat_flow_dir: HeatFlowDirection\n",
      "    Enum-type object indicating the direction of the heat flow\n",
      "    perpendicular to the surface. Can be HORIZONTAL in case of a vertical\n",
      "    surface, and UPWARDS or DOWNWARDS in case of a horizontal surface.\n",
      "T_mn: Quantity\n",
      "    The mean thermodynamic temperature of the surfaces and the airspace.\n",
      "surf_emissivities: Tuple[Quantity, Quantity], (Q_(0.9, 'frac'), Q_(0.9, 'frac'))\n",
      "    Emissivity of surfaces on both sides of the airspace.\n",
      "angle: Quantity, optional\n",
      "    Inclination angle of the airspace with respect to the horizontal.\n",
      "    Value can be between 0° and 90° included.\n",
      "\n",
      "Parameter Types & Defaults\n",
      "--------------------------\n",
      "ID: 'str'\n",
      "geometry: 'Geometry'\n",
      "dT: 'Quantity'\n",
      "heat_flow_dir: 'HeatFlowDirection'\n",
      "T_mn: 'Quantity'\n",
      "surf_emissivities: 'tuple[Quantity, Quantity]' = (<Quantity(0.9, 'fraction')>, <Quantity(0.9, 'fraction')>)\n",
      "angle: 'Quantity | None' = None\n"
     ]
    }
   ],
   "source": [
    "print_doc_string(AirLayer.create)"
   ]
  },
  {
   "cell_type": "code",
   "execution_count": 18,
   "id": "db645713-e7e6-4f64-be37-95fd224f1953",
   "metadata": {},
   "outputs": [],
   "source": [
    "air_layer = AirLayer.create(\n",
    "    ID='air-layer',\n",
    "    geometry=Geometry(t=Q_(5, 'cm'), w=Q_(float('inf'), 'm')),\n",
    "    dT=dT,\n",
    "    heat_flow_dir=HeatFlowDirection.HORIZONTAL,\n",
    "    T_mn=T_mn\n",
    ")"
   ]
  },
  {
   "cell_type": "markdown",
   "id": "61fefd65-cff8-42ba-aeee-3792e3807922",
   "metadata": {},
   "source": [
    "> **Notes**\n",
    "> - Instead of assigning a value to the area `A` directly, it is also possible to set the width `w` and/or the height `h` of a layer separately. Here we set the width of the air layer to infinity, to distinguish it from an air void, which is a specific kind of air layer having a width that is less than 10 times the air layer thickness."
   ]
  },
  {
   "cell_type": "markdown",
   "id": "935836ea-a34b-48a7-9999-0c0b8052bb11",
   "metadata": {},
   "source": [
    "## Construction Assembly"
   ]
  },
  {
   "cell_type": "markdown",
   "id": "5e50a205-09a1-4bd6-9164-8b77b1f0ef1f",
   "metadata": {},
   "source": [
    "Once we have all the construction layers the construction assembly is composed of, we can put them together in a `ConstructionAssembly` object."
   ]
  },
  {
   "cell_type": "code",
   "execution_count": 19,
   "id": "601de213-d93b-41c7-946c-372d17468366",
   "metadata": {},
   "outputs": [],
   "source": [
    "from hvac.cooling_load_calc import ConstructionAssembly"
   ]
  },
  {
   "cell_type": "code",
   "execution_count": 20,
   "id": "a248d956-75ff-4a10-a667-b40418760c8d",
   "metadata": {},
   "outputs": [
    {
     "name": "stdout",
     "output_type": "stream",
     "text": [
      "Creates a `ConstructionAssembly` object.\n",
      "\n",
      "Parameters\n",
      "----------\n",
      "ID: str\n",
      "    Name to identify the construction assembly.\n",
      "layers: list of `ConstructionLayer` objects, optional, default None\n",
      "    A construction assembly is thought to be composed of successive\n",
      "    construction layers, arranged from the outdoor to the indoor\n",
      "    environment.\n",
      "    Note that it is expected that a construction assembly always has an\n",
      "    exterior and an interior surface film.\n",
      "U: Quantity, default None\n",
      "    U-value of the construction assembly per unit area. Can be used if\n",
      "    the layered composition of the construction assembly is unknown.\n",
      "R: Quantity, default None\n",
      "    R-value of the construction assembly per unit area. Can be used if\n",
      "    the layered composition of the construction assembly is unknown.\n",
      "geometry: Geometry, default None\n",
      "    The geometrical properties of the construction assembly (area and\n",
      "    thickness). Use this if `layers` is None, and `U` or `R` are used\n",
      "    instead.\n",
      "\n",
      "Parameter Types & Defaults\n",
      "--------------------------\n",
      "ID: 'str'\n",
      "layers: 'list[ConstructionLayer] | None' = None\n",
      "U: 'Quantity | None' = None\n",
      "R: 'Quantity | None' = None\n",
      "geometry: 'Geometry | None' = None\n"
     ]
    }
   ],
   "source": [
    "print_doc_string(ConstructionAssembly.create)"
   ]
  },
  {
   "cell_type": "code",
   "execution_count": 21,
   "id": "f85afa7b-b433-4ddf-8701-f990a8112844",
   "metadata": {},
   "outputs": [],
   "source": [
    "constr_assem = ConstructionAssembly.create(\n",
    "    ID='exterior-wall',\n",
    "    layers=[\n",
    "        ext_film,\n",
    "        outer_leaf,\n",
    "        air_layer,\n",
    "        inner_leaf,\n",
    "        gypsum_layer,\n",
    "        int_film\n",
    "    ]\n",
    ")"
   ]
  },
  {
   "cell_type": "markdown",
   "id": "04112b4b-8250-43ae-9a08-c192eca778e1",
   "metadata": {},
   "source": [
    "> **Notes**\n",
    "> - The layers must always be ordered from the exterior towards the interior side of the construction assembly."
   ]
  },
  {
   "cell_type": "markdown",
   "id": "e38847ce-9bd8-4653-84de-dce0bfb9685f",
   "metadata": {},
   "source": [
    "### Unit Thermal Resistance and Conductance of the Construction Assembly"
   ]
  },
  {
   "cell_type": "code",
   "execution_count": 22,
   "id": "1abfd141-fae5-4608-b8e6-143392cf26f4",
   "metadata": {},
   "outputs": [
    {
     "name": "stdout",
     "output_type": "stream",
     "text": [
      "0.561 K·m²/W\n"
     ]
    }
   ],
   "source": [
    "print(f\"{constr_assem.R.to('K * m**2 / W'):~P.3f}\")"
   ]
  },
  {
   "cell_type": "code",
   "execution_count": 23,
   "id": "697713a6-f5fb-4c9b-9f1d-295847afb0b1",
   "metadata": {},
   "outputs": [
    {
     "name": "stdout",
     "output_type": "stream",
     "text": [
      "1.782 W/K/m²\n"
     ]
    }
   ],
   "source": [
    "print(f\"{constr_assem.U.to('W / (K * m**2)'):~P.3f}\")"
   ]
  },
  {
   "cell_type": "markdown",
   "id": "fac77b04-acce-45b5-977b-5028826cf7da",
   "metadata": {},
   "source": [
    "### Save the Construction Assembly on a Shelf"
   ]
  },
  {
   "cell_type": "markdown",
   "id": "a2bcc6a2-165b-41d2-a78e-cb39fabd4fc3",
   "metadata": {},
   "source": [
    "First, we need to set the file path to the shelf. (Here we have manually created in advance a subdirectory `construction_shelf` in the same directory of this notebook.)"
   ]
  },
  {
   "cell_type": "code",
   "execution_count": 24,
   "id": "3e969c12-6bc5-40cb-9960-84d3f00b271c",
   "metadata": {},
   "outputs": [],
   "source": [
    "ConstructionAssembly.db_path = \"./construction_shelf/assemblies\""
   ]
  },
  {
   "cell_type": "markdown",
   "id": "efbf4368-9ae4-4e98-9aaa-3d2ebd4cd027",
   "metadata": {},
   "source": [
    "Then call `save()` on the object."
   ]
  },
  {
   "cell_type": "code",
   "execution_count": 25,
   "id": "fcddef1d-7adb-4b70-b50d-cca974eb1baf",
   "metadata": {},
   "outputs": [],
   "source": [
    "constr_assem.save()"
   ]
  },
  {
   "cell_type": "code",
   "execution_count": null,
   "id": "e8dea7bb-13de-4ebb-92de-ad20014c751d",
   "metadata": {},
   "outputs": [],
   "source": []
  }
 ],
 "metadata": {
  "kernelspec": {
   "display_name": "Python 3 (ipykernel)",
   "language": "python",
   "name": "python3"
  },
  "language_info": {
   "codemirror_mode": {
    "name": "ipython",
    "version": 3
   },
   "file_extension": ".py",
   "mimetype": "text/x-python",
   "name": "python",
   "nbconvert_exporter": "python",
   "pygments_lexer": "ipython3",
   "version": "3.12.8"
  }
 },
 "nbformat": 4,
 "nbformat_minor": 5
}
