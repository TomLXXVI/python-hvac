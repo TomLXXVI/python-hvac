{
 "cells": [
  {
   "cell_type": "code",
   "execution_count": 1,
   "id": "e8c1e6e0-9b6f-406a-9fea-6d80097f75c5",
   "metadata": {},
   "outputs": [],
   "source": [
    "import sys\n",
    "if (path := \"C:/Users/Tom/PycharmProjects/python-hvac\") not in sys.path:\n",
    "    sys.path.append(path)"
   ]
  },
  {
   "cell_type": "code",
   "execution_count": 2,
   "id": "b6b75d0d-6fd5-42a3-bc4d-908895ead7f0",
   "metadata": {},
   "outputs": [],
   "source": [
    "from hvac import Quantity, print_doc_string\n",
    "from hvac.charts import LineChart\n",
    "\n",
    "Q_ = Quantity"
   ]
  },
  {
   "cell_type": "markdown",
   "id": "c6e3134c-6b1c-4048-bbee-0e2eacb5dcc3",
   "metadata": {},
   "source": [
    "# Chapter 3: Heat Gain through Windows\n",
    "---"
   ]
  },
  {
   "cell_type": "markdown",
   "id": "e2c5b881-4c45-4d9d-a50d-ee506276780b",
   "metadata": {},
   "source": [
    "In this notebook it is demonstrated how windows are represented in the program, and how to determine the conduction heat gain and solar heat gain through a window. Windows can be equipped with an exterior and/or interior shading device (e.g. an overhang above a window, a recessed window, or shades on the interior side of a window). When modeling the thermal zone of a building, windows will be part of the exterior building elements that surround the thermal zone. So, it must also be possible to add windows to an exterior building element."
   ]
  },
  {
   "cell_type": "markdown",
   "id": "30eae532-f2cb-4acf-83a4-ceeae78ecaf1",
   "metadata": {},
   "source": [
    "## Creating a Window"
   ]
  },
  {
   "cell_type": "markdown",
   "id": "8a874ecc-6174-4939-872e-debfc0a414d6",
   "metadata": {},
   "source": [
    "To model a window, we use the `Window` class. To create a `Window` object, we call the class method `create(...)`."
   ]
  },
  {
   "cell_type": "code",
   "execution_count": 3,
   "id": "a1a40184-b660-428d-a477-7d3ed0d4741d",
   "metadata": {},
   "outputs": [],
   "source": [
    "from hvac.cooling_load_calc import Window"
   ]
  },
  {
   "cell_type": "code",
   "execution_count": 4,
   "id": "717b8fab-f4dc-4adb-92d5-4394d06d4439",
   "metadata": {},
   "outputs": [
    {
     "name": "stdout",
     "output_type": "stream",
     "text": [
      "Creates a `Window` object.\n",
      "\n",
      "Parameters\n",
      "----------\n",
      "name:\n",
      "    Name to identify the `Window` object.\n",
      "azimuth_angle:\n",
      "    The azimuth angle of the window. South = 0°, West = +90° and \n",
      "    East = -90°.\n",
      "slope_angle:\n",
      "    Slope angle of the window. E.g., a vertical window has a slope angle\n",
      "    of 90°.\n",
      "width:\n",
      "    Width of the window opening.\n",
      "height:\n",
      "    Height of the window opening.\n",
      "weather_data:\n",
      "    Instance of `WeatherData` class, containing the climatic design\n",
      "    information.\n",
      "props:\n",
      "    See class `WindowThermalProperties`. The thermal and solar properties\n",
      "    of the window.\n",
      "F_rad: default 0.46\n",
      "    Radiative fraction of conduction heat gain through window to the \n",
      "    interior thermal mass of the space. (see ASHRAE Fundamentals 2017, \n",
      "    chapter 18, table 14).\n",
      "ext_shading: default None\n",
      "    E.g. an overhang or recessed window. See: class `ExternalShadingDevice`.\n",
      "    If a window has an external shading device, or if the window is\n",
      "    recessed, part of the window may be shaded depending on the position\n",
      "    of the sun during the day.\n",
      "int_shading: default None\n",
      "    E.g. a louvered shade, roller shade, drapery, or insect screen.\n",
      "    See: class `InteriorShadingDevice`.\n",
      "\n",
      "Parameter Types & Defaults\n",
      "--------------------------\n",
      "name: str\n",
      "azimuth_angle: pint.Quantity\n",
      "slope_angle: pint.Quantity\n",
      "width: pint.Quantity\n",
      "height: pint.Quantity\n",
      "weather_data: hvac.cooling_load_calc.building.weather_data.WeatherData\n",
      "props: hvac.cooling_load_calc.building.fenestration.WindowThermalProperties\n",
      "F_rad: float = 0.46\n",
      "ext_shading: hvac.cooling_load_calc.building.fenestration.ExteriorShadingDevice | None = None\n",
      "int_shading: hvac.cooling_load_calc.building.fenestration.InteriorShadingDevice | None = None\n"
     ]
    }
   ],
   "source": [
    "print_doc_string(Window.create)"
   ]
  },
  {
   "cell_type": "markdown",
   "id": "171750d9-f28b-4afb-9f1c-6670dbf93d1e",
   "metadata": {},
   "source": [
    "First of all, we see from the docstring that to create a window, we need the `WeatherData` object again that we also needed to create an exterior building element (see notebook no. 2). So, first we will create the `Location` instance again, that we then pass to the factory method of the `WeatherData` class.  "
   ]
  },
  {
   "cell_type": "code",
   "execution_count": 5,
   "id": "b770917e-2e31-4fee-823f-002707c14674",
   "metadata": {},
   "outputs": [],
   "source": [
    "from hvac.sun import Location, ClimateType, ReferenceDates\n",
    "from hvac.cooling_load_calc import WeatherData"
   ]
  },
  {
   "cell_type": "code",
   "execution_count": 6,
   "id": "89b67be3-3d3b-4e32-bcc4-b122b1b91f76",
   "metadata": {},
   "outputs": [],
   "source": [
    "location = Location(\n",
    "    fi=Q_(51.183, 'deg'),\n",
    "    L_loc=Q_(3.8, 'deg'),\n",
    "    altitude=Q_(8, 'm'),\n",
    "    climate_type=ClimateType.MID_LATITUDE_SUMMER,\n",
    "    timezone='Etc/GMT-1'\n",
    ")"
   ]
  },
  {
   "cell_type": "code",
   "execution_count": 7,
   "id": "6ced710c-6c0f-438e-b2a2-f3b4d90a37c2",
   "metadata": {},
   "outputs": [],
   "source": [
    "weather_data = WeatherData.create_from_climatic_design_data(\n",
    "    location=location,\n",
    "    date=ReferenceDates.get_date_for('Jun'),  # this returns the \"design day\" for June\n",
    "    T_db_des=Q_(24.2, 'degC'),\n",
    "    T_db_rng=Q_(11.8, 'K'),\n",
    "    T_wb_mc=Q_(18.0, 'degC'),\n",
    "    T_wb_rng=Q_(5.6, 'K')\n",
    ")"
   ]
  },
  {
   "cell_type": "markdown",
   "id": "07bdb365-19fb-4585-bf95-08864c9aad22",
   "metadata": {},
   "source": [
    "From the docstring, we also see that we need a `WindowsThermalProperties` object. This object contains the thermal properties of the window. "
   ]
  },
  {
   "cell_type": "markdown",
   "id": "8f88db74-7da1-401e-8ee0-1fafda8d6b7d",
   "metadata": {},
   "source": [
    "### Window Thermal Properties"
   ]
  },
  {
   "cell_type": "code",
   "execution_count": 8,
   "id": "4ca7380b-ddce-41dd-884b-b3766f2f5332",
   "metadata": {},
   "outputs": [],
   "source": [
    "from hvac.cooling_load_calc import WindowThermalProperties"
   ]
  },
  {
   "cell_type": "code",
   "execution_count": 9,
   "id": "59d2ce33-19fa-46b3-b728-2376029f7c89",
   "metadata": {},
   "outputs": [
    {
     "name": "stdout",
     "output_type": "stream",
     "text": [
      "Creates a `WindowThermalProperties` object.\n",
      "\n",
      "Parameters\n",
      "----------\n",
      "ID:\n",
      "    Identifier for the type of window.\n",
      "U:\n",
      "    Overall U value of the entire window, including edge effects and\n",
      "    window frame (see ASHRAE Fundamentals 2017, Ch. 15, Table 4).\n",
      "SHGC_cog_dir:\n",
      "    Dictionary of which the keys are solar incidence angles in degrees\n",
      "    and the values the corresponding SHGC values (see ASHRAE\n",
      "    Fundamentals 2017, Ch. 15, Table 10).\n",
      "SHGC_cog_dif:\n",
      "    The SHGC for diffuse solar radiation (see ASHRAE Fundamentals 2017,\n",
      "    Ch. 15, Table 10).\n",
      "SHGC_wnd:\n",
      "    The SHGC of the entire window at normal incidence (see ASHRAE\n",
      "    Fundamentals 2017, Ch. 15, Table 10).\n",
      "\n",
      "Parameter Types & Defaults\n",
      "--------------------------\n",
      "ID: str\n",
      "U: pint.Quantity\n",
      "SHGC_cog_dir: dict[float, float]\n",
      "SHGC_cog_dif: float\n",
      "SHGC_wnd: float\n"
     ]
    }
   ],
   "source": [
    "print_doc_string(WindowThermalProperties.__init__)"
   ]
  },
  {
   "cell_type": "markdown",
   "id": "4cbcef8d-da46-4fff-a334-11a83c9344ca",
   "metadata": {},
   "source": [
    "The methods and the data these methods need to calculate the conduction heat gain and the solar heat gain of windows are explained in ASHRAE Fundamentals Handbook 2017, Chapter 15. Here we will define the window thermal properties for a vertical window with uncoated double glazing (ASHRAE 2017, Chapter 15, Table 10, ID 5a) in an operable frame made of wood or vinyl (ASHRAE 2017, Chapter 15, Table 4, ID 5)."
   ]
  },
  {
   "cell_type": "code",
   "execution_count": 10,
   "id": "d2146310-5f00-4469-9e22-72f63dbc9f41",
   "metadata": {},
   "outputs": [],
   "source": [
    "wnd_props = WindowThermalProperties(\n",
    "    ID='window-5a-operable-wood/vinyl',\n",
    "    U=Q_(2.86, 'W / (m ** 2 * K)'),\n",
    "    SHGC_cog_dir={\n",
    "        0.00: 0.76,\n",
    "        40.0: 0.74,\n",
    "        50.0: 0.71,\n",
    "        60.0: 0.64,\n",
    "        70.0: 0.50,\n",
    "        80.0: 0.26\n",
    "    },\n",
    "    SHGC_cog_dif=0.66,\n",
    "    SHGC_wnd=0.62\n",
    ")"
   ]
  },
  {
   "cell_type": "markdown",
   "id": "28517ba2-795f-493f-8b8c-b801762c274c",
   "metadata": {},
   "source": [
    "Like construction assemblies, `WindowThermalProperties` objects can be \"shelved\" for later reuse. For this, we assign the file path to the shelf to class attribute `db_path`. Next, we can call method `save()` on our object to save it on the shelf."
   ]
  },
  {
   "cell_type": "code",
   "execution_count": 11,
   "id": "c0b2f50e-cadc-4f38-b11f-fe25041a50b9",
   "metadata": {},
   "outputs": [],
   "source": [
    "WindowThermalProperties.db_path = \"./window_shelf/windows\"\n",
    "wnd_props.save()"
   ]
  },
  {
   "cell_type": "markdown",
   "id": "f76a4e09-a390-4374-a985-9a9c301a4bc2",
   "metadata": {},
   "source": [
    "Now, we can create our `Window` object:"
   ]
  },
  {
   "cell_type": "code",
   "execution_count": 12,
   "id": "c3aff4ca-f9b0-499b-ba29-76b119db3773",
   "metadata": {},
   "outputs": [],
   "source": [
    "window = Window.create(\n",
    "    name='window',\n",
    "    azimuth_angle=Q_(0, 'deg'),  # oriented South\n",
    "    slope_angle=Q_(90, 'deg'),  # vertical window\n",
    "    width=Q_(2, 'm'),\n",
    "    height=Q_(2, 'm'),\n",
    "    weather_data=weather_data,\n",
    "    props=wnd_props,\n",
    "    F_rad=0.33\n",
    ")"
   ]
  },
  {
   "cell_type": "markdown",
   "id": "88aaa998-8386-430b-b3be-1591ba485ab9",
   "metadata": {},
   "source": [
    "Parameter `F_rad` is the radiative fraction which is only applicable to the conduction heat gain through the window. According to table 14 in chapter 18 of ASHRAE Fundamentals 2017, if the SHGC of the entire window is greater than 0.5, a value for `F_rad` of 0.33 is recommended. "
   ]
  },
  {
   "cell_type": "markdown",
   "id": "703a0327-b2dc-4d69-adda-8938b088812e",
   "metadata": {},
   "source": [
    "## Conduction Heat Gain Through the Window"
   ]
  },
  {
   "cell_type": "markdown",
   "id": "ba80917e-bc96-4dd5-bc13-2b755ddc9cb3",
   "metadata": {},
   "source": [
    "Method `conduction_heat_gain(T_za)` returns the hourly values of the conduction heat gain through the window on the selected design day, which we have specified when instantiating the `WeatherData` object. The method returns the global conduction heat gain through the window, and also its convective and radiative fractions, according to the parameter `F_rad` that we've assigned when instantiating the window. We can display the values in a Pandas `DataFrame` object and also plot them on a line chart."
   ]
  },
  {
   "cell_type": "code",
   "execution_count": 13,
   "id": "ce400654-da12-4509-9a01-bbebdc61ce61",
   "metadata": {},
   "outputs": [],
   "source": [
    "Q_cnd, Q_cnd_cv, Q_cnd_rad = window.conduction_heat_gain(T_za=Q_(22, 'degC'))"
   ]
  },
  {
   "cell_type": "markdown",
   "id": "f69e7f79-4cca-4bf9-a051-b94e839181bd",
   "metadata": {},
   "source": [
    "Parameter `T_za` is the fixed zone-air temperature on the interior side of the window."
   ]
  },
  {
   "cell_type": "code",
   "execution_count": 14,
   "id": "de88e996-c3ea-4c8c-9bb7-af3882e76a1b",
   "metadata": {},
   "outputs": [
    {
     "data": {
      "text/html": [
       "<div>\n",
       "<style scoped>\n",
       "    .dataframe tbody tr th:only-of-type {\n",
       "        vertical-align: middle;\n",
       "    }\n",
       "\n",
       "    .dataframe tbody tr th {\n",
       "        vertical-align: top;\n",
       "    }\n",
       "\n",
       "    .dataframe thead th {\n",
       "        text-align: right;\n",
       "    }\n",
       "</style>\n",
       "<table border=\"1\" class=\"dataframe\">\n",
       "  <thead>\n",
       "    <tr style=\"text-align: right;\">\n",
       "      <th></th>\n",
       "      <th>Q_cnd</th>\n",
       "      <th>Q_cnd_cv</th>\n",
       "      <th>Q_cnd_rad</th>\n",
       "    </tr>\n",
       "  </thead>\n",
       "  <tbody>\n",
       "    <tr>\n",
       "      <th>0</th>\n",
       "      <td>-85.52544</td>\n",
       "      <td>-57.302045</td>\n",
       "      <td>-28.223395</td>\n",
       "    </tr>\n",
       "    <tr>\n",
       "      <th>1</th>\n",
       "      <td>-93.62496</td>\n",
       "      <td>-62.728723</td>\n",
       "      <td>-30.896237</td>\n",
       "    </tr>\n",
       "    <tr>\n",
       "      <th>2</th>\n",
       "      <td>-99.02464</td>\n",
       "      <td>-66.346509</td>\n",
       "      <td>-32.678131</td>\n",
       "    </tr>\n",
       "    <tr>\n",
       "      <th>3</th>\n",
       "      <td>-103.07440</td>\n",
       "      <td>-69.059848</td>\n",
       "      <td>-34.014552</td>\n",
       "    </tr>\n",
       "    <tr>\n",
       "      <th>4</th>\n",
       "      <td>-107.12416</td>\n",
       "      <td>-71.773187</td>\n",
       "      <td>-35.350973</td>\n",
       "    </tr>\n",
       "    <tr>\n",
       "      <th>5</th>\n",
       "      <td>-109.82400</td>\n",
       "      <td>-73.582080</td>\n",
       "      <td>-36.241920</td>\n",
       "    </tr>\n",
       "    <tr>\n",
       "      <th>6</th>\n",
       "      <td>-107.12416</td>\n",
       "      <td>-71.773187</td>\n",
       "      <td>-35.350973</td>\n",
       "    </tr>\n",
       "    <tr>\n",
       "      <th>7</th>\n",
       "      <td>-97.67472</td>\n",
       "      <td>-65.442062</td>\n",
       "      <td>-32.232658</td>\n",
       "    </tr>\n",
       "    <tr>\n",
       "      <th>8</th>\n",
       "      <td>-74.72608</td>\n",
       "      <td>-50.066474</td>\n",
       "      <td>-24.659606</td>\n",
       "    </tr>\n",
       "    <tr>\n",
       "      <th>9</th>\n",
       "      <td>-49.07760</td>\n",
       "      <td>-32.881992</td>\n",
       "      <td>-16.195608</td>\n",
       "    </tr>\n",
       "    <tr>\n",
       "      <th>10</th>\n",
       "      <td>-26.12896</td>\n",
       "      <td>-17.506403</td>\n",
       "      <td>-8.622557</td>\n",
       "    </tr>\n",
       "    <tr>\n",
       "      <th>11</th>\n",
       "      <td>-5.88016</td>\n",
       "      <td>-3.939707</td>\n",
       "      <td>-1.940453</td>\n",
       "    </tr>\n",
       "    <tr>\n",
       "      <th>12</th>\n",
       "      <td>7.61904</td>\n",
       "      <td>5.104757</td>\n",
       "      <td>2.514283</td>\n",
       "    </tr>\n",
       "    <tr>\n",
       "      <th>13</th>\n",
       "      <td>18.41840</td>\n",
       "      <td>12.340328</td>\n",
       "      <td>6.078072</td>\n",
       "    </tr>\n",
       "    <tr>\n",
       "      <th>14</th>\n",
       "      <td>25.16800</td>\n",
       "      <td>16.862560</td>\n",
       "      <td>8.305440</td>\n",
       "    </tr>\n",
       "    <tr>\n",
       "      <th>15</th>\n",
       "      <td>25.16800</td>\n",
       "      <td>16.862560</td>\n",
       "      <td>8.305440</td>\n",
       "    </tr>\n",
       "    <tr>\n",
       "      <th>16</th>\n",
       "      <td>17.06848</td>\n",
       "      <td>11.435882</td>\n",
       "      <td>5.632598</td>\n",
       "    </tr>\n",
       "    <tr>\n",
       "      <th>17</th>\n",
       "      <td>6.26912</td>\n",
       "      <td>4.200310</td>\n",
       "      <td>2.068810</td>\n",
       "    </tr>\n",
       "    <tr>\n",
       "      <th>18</th>\n",
       "      <td>-7.23008</td>\n",
       "      <td>-4.844154</td>\n",
       "      <td>-2.385926</td>\n",
       "    </tr>\n",
       "    <tr>\n",
       "      <th>19</th>\n",
       "      <td>-27.47888</td>\n",
       "      <td>-18.410850</td>\n",
       "      <td>-9.068030</td>\n",
       "    </tr>\n",
       "    <tr>\n",
       "      <th>20</th>\n",
       "      <td>-42.32800</td>\n",
       "      <td>-28.359760</td>\n",
       "      <td>-13.968240</td>\n",
       "    </tr>\n",
       "    <tr>\n",
       "      <th>21</th>\n",
       "      <td>-54.47728</td>\n",
       "      <td>-36.499778</td>\n",
       "      <td>-17.977502</td>\n",
       "    </tr>\n",
       "    <tr>\n",
       "      <th>22</th>\n",
       "      <td>-66.62656</td>\n",
       "      <td>-44.639795</td>\n",
       "      <td>-21.986765</td>\n",
       "    </tr>\n",
       "    <tr>\n",
       "      <th>23</th>\n",
       "      <td>-76.07600</td>\n",
       "      <td>-50.970920</td>\n",
       "      <td>-25.105080</td>\n",
       "    </tr>\n",
       "  </tbody>\n",
       "</table>\n",
       "</div>"
      ],
      "text/plain": [
       "        Q_cnd   Q_cnd_cv  Q_cnd_rad\n",
       "0   -85.52544 -57.302045 -28.223395\n",
       "1   -93.62496 -62.728723 -30.896237\n",
       "2   -99.02464 -66.346509 -32.678131\n",
       "3  -103.07440 -69.059848 -34.014552\n",
       "4  -107.12416 -71.773187 -35.350973\n",
       "5  -109.82400 -73.582080 -36.241920\n",
       "6  -107.12416 -71.773187 -35.350973\n",
       "7   -97.67472 -65.442062 -32.232658\n",
       "8   -74.72608 -50.066474 -24.659606\n",
       "9   -49.07760 -32.881992 -16.195608\n",
       "10  -26.12896 -17.506403  -8.622557\n",
       "11   -5.88016  -3.939707  -1.940453\n",
       "12    7.61904   5.104757   2.514283\n",
       "13   18.41840  12.340328   6.078072\n",
       "14   25.16800  16.862560   8.305440\n",
       "15   25.16800  16.862560   8.305440\n",
       "16   17.06848  11.435882   5.632598\n",
       "17    6.26912   4.200310   2.068810\n",
       "18   -7.23008  -4.844154  -2.385926\n",
       "19  -27.47888 -18.410850  -9.068030\n",
       "20  -42.32800 -28.359760 -13.968240\n",
       "21  -54.47728 -36.499778 -17.977502\n",
       "22  -66.62656 -44.639795 -21.986765\n",
       "23  -76.07600 -50.970920 -25.105080"
      ]
     },
     "execution_count": 14,
     "metadata": {},
     "output_type": "execute_result"
    }
   ],
   "source": [
    "import pandas as pd\n",
    "\n",
    "df = pd.DataFrame({\n",
    "    'Q_cnd': Q_cnd.to('W').m,\n",
    "    'Q_cnd_cv': Q_cnd_cv.to('W').m,\n",
    "    'Q_cnd_rad': Q_cnd_rad.to('W').m\n",
    "})\n",
    "df"
   ]
  },
  {
   "cell_type": "code",
   "execution_count": 15,
   "id": "99c9b5d8-f23f-4d23-b8b5-58c5308ffbe3",
   "metadata": {},
   "outputs": [
    {
     "data": {
      "image/png": "[encoded data removed]",
      "text/plain": [
       "<Figure size 640x480 with 1 Axes>"
      ]
     },
     "metadata": {},
     "output_type": "display_data"
    }
   ],
   "source": [
    "chart = LineChart()\n",
    "chart.add_xy_data(\n",
    "    label='conduction heat gain',\n",
    "    x1_values=df.index,\n",
    "    y1_values=df['Q_cnd']\n",
    ")\n",
    "chart.add_xy_data(\n",
    "    label='convective fraction',\n",
    "    x1_values=df.index,\n",
    "    y1_values=df['Q_cnd_cv']\n",
    ")\n",
    "chart.add_xy_data(\n",
    "    label='radiative fraction',\n",
    "    x1_values=df.index,\n",
    "    y1_values=df['Q_cnd_rad']\n",
    ")\n",
    "chart.add_legend(columns=3)\n",
    "chart.x1.add_title('time, hr')\n",
    "chart.y1.add_title('heat rate, W')\n",
    "chart.x1.scale(0, 25, 1)\n",
    "chart.show()"
   ]
  },
  {
   "cell_type": "markdown",
   "id": "7964be52-b18f-4f70-bec3-dacf36ae6780",
   "metadata": {},
   "source": [
    "Note that negative values indicate a heat loss from the thermal zone, rather than being a heat gain to the zone."
   ]
  },
  {
   "cell_type": "markdown",
   "id": "eb2bd33e-98e3-4fb5-b401-70c10ea33ee6",
   "metadata": {},
   "source": [
    "## Solar Heat Gain Through the Window"
   ]
  },
  {
   "cell_type": "markdown",
   "id": "b10dba79-ae7a-458f-adf4-7ab8004c8c45",
   "metadata": {},
   "source": [
    "The solar heat gain through the window can be calculated at any time time moment of the selected design day. To calculate the solar heat gain on a specific time moment `t`, we call method `solar_heat_gain(t)`. The method returns the global solar heat gain through the window, its convective fraction, and its radiative fraction."
   ]
  },
  {
   "cell_type": "markdown",
   "id": "8a2ed64a-ac1b-498c-9483-bebb580b40d7",
   "metadata": {},
   "source": [
    "> **Note**<br>\n",
    "It should be noted that the time `t` passed in the call to `solar_heat_gain(t)` is a decimal value; it is the time of the day passed since solar midnight (hour 0). It should also be noted that all calculations in this package are done in solar time, not clock time. To convert from solar seconds to clock time and vice versa, one can use the utility functions from module `time_conversion`. In the code block below the conversion is done from solar decimal time to clock time, needing the longitude and timezone of the geographical location. The function `convert_to_clock_time` returns a tuple of two Python `datetime` objects. The first element is the clock time, the second element is the solar time (as datetime object instead of a decimal time value).  "
   ]
  },
  {
   "cell_type": "code",
   "execution_count": 16,
   "id": "1b60077e-68c5-4af0-951a-6395f686e6e6",
   "metadata": {},
   "outputs": [
    {
     "name": "stdout",
     "output_type": "stream",
     "text": [
      "0 h -> 01:43:59\n",
      "1 h -> 02:43:59\n",
      "2 h -> 03:43:59\n",
      "3 h -> 04:43:59\n",
      "4 h -> 05:43:59\n",
      "5 h -> 06:43:59\n",
      "6 h -> 07:43:59\n",
      "7 h -> 08:43:59\n",
      "8 h -> 09:43:59\n",
      "9 h -> 10:43:59\n",
      "10 h -> 11:43:59\n",
      "11 h -> 12:43:59\n",
      "12 h -> 13:43:59\n",
      "13 h -> 14:43:59\n",
      "14 h -> 15:43:59\n",
      "15 h -> 16:43:59\n",
      "16 h -> 17:43:59\n",
      "17 h -> 18:43:59\n",
      "18 h -> 19:43:59\n",
      "19 h -> 20:43:59\n",
      "20 h -> 21:43:59\n",
      "21 h -> 22:43:59\n",
      "22 h -> 23:43:59\n",
      "23 h -> 00:43:59\n"
     ]
    }
   ],
   "source": [
    "from datetime import datetime\n",
    "from hvac.cooling_load_calc.time_conversion import convert_to_clock_time\n",
    "\n",
    "solar_hours_dec = [Q_(hr, 'hr') for hr in range(24)]\n",
    "\n",
    "clock_times = [\n",
    "    convert_to_clock_time(\n",
    "        t_sol_sec=t_sol.to('s').magnitude,\n",
    "        date=weather_data.date,\n",
    "        L_loc=weather_data.location.L_loc,\n",
    "        tz_loc=\"Europe/Brussels\"\n",
    "    ) for t_sol in solar_hours_dec\n",
    "]\n",
    "\n",
    "for t_sol, t_clock in zip(solar_hours_dec, clock_times):\n",
    "    print(f\"{t_sol:~P.0f} -> {t_clock[0].time().strftime(\"%H:%M:%S\")}\")"
   ]
  },
  {
   "cell_type": "markdown",
   "id": "c56b2fb0-32c8-462b-952c-14a0a1786f2f",
   "metadata": {},
   "source": [
    "So, when we look at the solar heat gain through the window at solar noon (12 h), the clock will actually show 13:43:59.\n",
    "\n",
    "In the code block below the solar heat gain through the window is calculated at each hour of the \"solar day\" and the results are displayed in a Pandas `DataFrame`. Notice that the convective fraction of the solar heat gain is zero each time (which means that all solar heat gain is transferred to the interior mass of the thermal zone in the building)."
   ]
  },
  {
   "cell_type": "code",
   "execution_count": 17,
   "id": "60628159-39a3-4247-9f86-db8e86e16924",
   "metadata": {},
   "outputs": [
    {
     "data": {
      "text/html": [
       "<div>\n",
       "<style scoped>\n",
       "    .dataframe tbody tr th:only-of-type {\n",
       "        vertical-align: middle;\n",
       "    }\n",
       "\n",
       "    .dataframe tbody tr th {\n",
       "        vertical-align: top;\n",
       "    }\n",
       "\n",
       "    .dataframe thead th {\n",
       "        text-align: right;\n",
       "    }\n",
       "</style>\n",
       "<table border=\"1\" class=\"dataframe\">\n",
       "  <thead>\n",
       "    <tr style=\"text-align: right;\">\n",
       "      <th></th>\n",
       "      <th>Q_sol</th>\n",
       "      <th>Q_sol_cv</th>\n",
       "      <th>Q_sol_rad</th>\n",
       "    </tr>\n",
       "  </thead>\n",
       "  <tbody>\n",
       "    <tr>\n",
       "      <th>0</th>\n",
       "      <td>0.000000</td>\n",
       "      <td>0.0</td>\n",
       "      <td>0.000000</td>\n",
       "    </tr>\n",
       "    <tr>\n",
       "      <th>1</th>\n",
       "      <td>0.000000</td>\n",
       "      <td>0.0</td>\n",
       "      <td>0.000000</td>\n",
       "    </tr>\n",
       "    <tr>\n",
       "      <th>2</th>\n",
       "      <td>0.000000</td>\n",
       "      <td>0.0</td>\n",
       "      <td>0.000000</td>\n",
       "    </tr>\n",
       "    <tr>\n",
       "      <th>3</th>\n",
       "      <td>9.019691</td>\n",
       "      <td>0.0</td>\n",
       "      <td>9.019691</td>\n",
       "    </tr>\n",
       "    <tr>\n",
       "      <th>4</th>\n",
       "      <td>50.484388</td>\n",
       "      <td>0.0</td>\n",
       "      <td>50.484388</td>\n",
       "    </tr>\n",
       "    <tr>\n",
       "      <th>5</th>\n",
       "      <td>141.697605</td>\n",
       "      <td>0.0</td>\n",
       "      <td>141.697605</td>\n",
       "    </tr>\n",
       "    <tr>\n",
       "      <th>6</th>\n",
       "      <td>223.937595</td>\n",
       "      <td>0.0</td>\n",
       "      <td>223.937595</td>\n",
       "    </tr>\n",
       "    <tr>\n",
       "      <th>7</th>\n",
       "      <td>294.313368</td>\n",
       "      <td>0.0</td>\n",
       "      <td>294.313368</td>\n",
       "    </tr>\n",
       "    <tr>\n",
       "      <th>8</th>\n",
       "      <td>417.510013</td>\n",
       "      <td>0.0</td>\n",
       "      <td>417.510013</td>\n",
       "    </tr>\n",
       "    <tr>\n",
       "      <th>9</th>\n",
       "      <td>613.004450</td>\n",
       "      <td>0.0</td>\n",
       "      <td>613.004450</td>\n",
       "    </tr>\n",
       "    <tr>\n",
       "      <th>10</th>\n",
       "      <td>859.679685</td>\n",
       "      <td>0.0</td>\n",
       "      <td>859.679685</td>\n",
       "    </tr>\n",
       "    <tr>\n",
       "      <th>11</th>\n",
       "      <td>1006.078091</td>\n",
       "      <td>0.0</td>\n",
       "      <td>1006.078091</td>\n",
       "    </tr>\n",
       "    <tr>\n",
       "      <th>12</th>\n",
       "      <td>1028.904768</td>\n",
       "      <td>0.0</td>\n",
       "      <td>1028.904768</td>\n",
       "    </tr>\n",
       "    <tr>\n",
       "      <th>13</th>\n",
       "      <td>916.659604</td>\n",
       "      <td>0.0</td>\n",
       "      <td>916.659604</td>\n",
       "    </tr>\n",
       "    <tr>\n",
       "      <th>14</th>\n",
       "      <td>708.746586</td>\n",
       "      <td>0.0</td>\n",
       "      <td>708.746586</td>\n",
       "    </tr>\n",
       "    <tr>\n",
       "      <th>15</th>\n",
       "      <td>461.002791</td>\n",
       "      <td>0.0</td>\n",
       "      <td>461.002791</td>\n",
       "    </tr>\n",
       "    <tr>\n",
       "      <th>16</th>\n",
       "      <td>294.313368</td>\n",
       "      <td>0.0</td>\n",
       "      <td>294.313368</td>\n",
       "    </tr>\n",
       "    <tr>\n",
       "      <th>17</th>\n",
       "      <td>223.937595</td>\n",
       "      <td>0.0</td>\n",
       "      <td>223.937595</td>\n",
       "    </tr>\n",
       "    <tr>\n",
       "      <th>18</th>\n",
       "      <td>141.697605</td>\n",
       "      <td>0.0</td>\n",
       "      <td>141.697605</td>\n",
       "    </tr>\n",
       "    <tr>\n",
       "      <th>19</th>\n",
       "      <td>50.484388</td>\n",
       "      <td>0.0</td>\n",
       "      <td>50.484388</td>\n",
       "    </tr>\n",
       "    <tr>\n",
       "      <th>20</th>\n",
       "      <td>9.019691</td>\n",
       "      <td>0.0</td>\n",
       "      <td>9.019691</td>\n",
       "    </tr>\n",
       "    <tr>\n",
       "      <th>21</th>\n",
       "      <td>0.000000</td>\n",
       "      <td>0.0</td>\n",
       "      <td>0.000000</td>\n",
       "    </tr>\n",
       "    <tr>\n",
       "      <th>22</th>\n",
       "      <td>0.000000</td>\n",
       "      <td>0.0</td>\n",
       "      <td>0.000000</td>\n",
       "    </tr>\n",
       "    <tr>\n",
       "      <th>23</th>\n",
       "      <td>0.000000</td>\n",
       "      <td>0.0</td>\n",
       "      <td>0.000000</td>\n",
       "    </tr>\n",
       "  </tbody>\n",
       "</table>\n",
       "</div>"
      ],
      "text/plain": [
       "          Q_sol  Q_sol_cv    Q_sol_rad\n",
       "0      0.000000       0.0     0.000000\n",
       "1      0.000000       0.0     0.000000\n",
       "2      0.000000       0.0     0.000000\n",
       "3      9.019691       0.0     9.019691\n",
       "4     50.484388       0.0    50.484388\n",
       "5    141.697605       0.0   141.697605\n",
       "6    223.937595       0.0   223.937595\n",
       "7    294.313368       0.0   294.313368\n",
       "8    417.510013       0.0   417.510013\n",
       "9    613.004450       0.0   613.004450\n",
       "10   859.679685       0.0   859.679685\n",
       "11  1006.078091       0.0  1006.078091\n",
       "12  1028.904768       0.0  1028.904768\n",
       "13   916.659604       0.0   916.659604\n",
       "14   708.746586       0.0   708.746586\n",
       "15   461.002791       0.0   461.002791\n",
       "16   294.313368       0.0   294.313368\n",
       "17   223.937595       0.0   223.937595\n",
       "18   141.697605       0.0   141.697605\n",
       "19    50.484388       0.0    50.484388\n",
       "20     9.019691       0.0     9.019691\n",
       "21     0.000000       0.0     0.000000\n",
       "22     0.000000       0.0     0.000000\n",
       "23     0.000000       0.0     0.000000"
      ]
     },
     "execution_count": 17,
     "metadata": {},
     "output_type": "execute_result"
    }
   ],
   "source": [
    "Q_sol, Q_sol_cv, Q_sol_rad = zip(*[window.solar_heat_gain(t) for t in solar_hours_dec])\n",
    "Q_sol = Quantity.from_sequence(Q_sol)\n",
    "Q_sol_cv = Quantity.from_sequence(Q_sol_cv)\n",
    "Q_sol_rad = Quantity.from_sequence(Q_sol_rad)\n",
    "\n",
    "df1 = pd.DataFrame({\n",
    "    'Q_sol': Q_sol.to('W').m,\n",
    "    'Q_sol_cv': Q_sol_cv.to('W').m,\n",
    "    'Q_sol_rad': Q_sol_rad.to('W').m\n",
    "})\n",
    "df1"
   ]
  },
  {
   "cell_type": "markdown",
   "id": "2726a710-e1d9-453a-87bf-64feeb103921",
   "metadata": {},
   "source": [
    "We can also plot these results on a line chart:"
   ]
  },
  {
   "cell_type": "code",
   "execution_count": 18,
   "id": "55d33383-fd90-4e09-86c1-031ebf99a9fb",
   "metadata": {},
   "outputs": [
    {
     "data": {
      "image/png": "[encoded data removed]",
      "text/plain": [
       "<Figure size 640x480 with 1 Axes>"
      ]
     },
     "metadata": {},
     "output_type": "display_data"
    }
   ],
   "source": [
    "chart = LineChart()\n",
    "chart.add_xy_data(\n",
    "    label='solar heat gain',\n",
    "    x1_values=df1.index,\n",
    "    y1_values=df1['Q_sol']\n",
    ")\n",
    "chart.add_xy_data(\n",
    "    label='convective fraction',\n",
    "    x1_values=df1.index,\n",
    "    y1_values=df1['Q_sol_cv']\n",
    ")\n",
    "chart.add_xy_data(\n",
    "    label='radiative fraction',\n",
    "    x1_values=df1.index,\n",
    "    y1_values=df1['Q_sol_rad']\n",
    ")\n",
    "chart.add_legend(columns=3)\n",
    "chart.x1.add_title('solar time, hr')\n",
    "chart.y1.add_title('heat rate, W')\n",
    "chart.x1.scale(0, 25, 1)\n",
    "chart.show()"
   ]
  },
  {
   "cell_type": "markdown",
   "id": "5c74e2f6-862e-4c1c-b881-4c740815d33c",
   "metadata": {},
   "source": [
    "## Creating a Window with an Exterior Shading Device"
   ]
  },
  {
   "cell_type": "markdown",
   "id": "416cbfbc-bc83-4ce1-9aa4-dc772118185a",
   "metadata": {},
   "source": [
    "To reduce the solar heat gain through the window, we could decide to add a horizontal overhang above the window."
   ]
  },
  {
   "cell_type": "code",
   "execution_count": 19,
   "id": "e91c6b8f-1857-4d7b-a905-d9eb71cfc075",
   "metadata": {},
   "outputs": [],
   "source": [
    "from hvac.cooling_load_calc import ExteriorShadingDevice"
   ]
  },
  {
   "cell_type": "code",
   "execution_count": 20,
   "id": "82a37dad-1a35-49d8-a2e4-0c4914778291",
   "metadata": {},
   "outputs": [
    {
     "name": "stdout",
     "output_type": "stream",
     "text": [
      "Represents an overhang above a window or a recessed window.\n",
      "\n",
      "Parameters\n",
      "----------\n",
      "vert_proj_dist: default 0 m\n",
      "    Protrusion distance of the vertical surfaces of the exterior shading \n",
      "    device.\n",
      "hor_proj_dist: default 0 m\n",
      "    Protrusion distance of the exterior shading device's horizontal surface \n",
      "    above the window.\n",
      "hor_offset : default 0 m\n",
      "    Distance between the upright window edges and the vertical sides of the \n",
      "    exterior shading device.\n",
      "vert_offset : default 0 m\n",
      "    Distance between the window's horizontal upper edge and the underside of\n",
      "    the exterior shading device's horizontal surface.\n",
      "\n",
      "Parameter Types & Defaults\n",
      "--------------------------\n",
      "vert_proj_dist: pint.Quantity = <Quantity(0, 'meter')>\n",
      "hor_proj_dist: pint.Quantity = <Quantity(0, 'meter')>\n",
      "hor_offset: pint.Quantity = <Quantity(0, 'meter')>\n",
      "vert_offset: pint.Quantity = <Quantity(0, 'meter')>\n"
     ]
    }
   ],
   "source": [
    "print_doc_string(ExteriorShadingDevice)"
   ]
  },
  {
   "cell_type": "markdown",
   "id": "6f89973f-49ca-4886-ba5f-3c62f1b83065",
   "metadata": {},
   "source": [
    "To define the horizontal overhang above the window, we need to specify how far the overhang extends from the wall and the vertical distance between its underside and the upper edge of the window."
   ]
  },
  {
   "cell_type": "code",
   "execution_count": 21,
   "id": "20d3b7ca-c009-42c5-8d87-4cba60b55a9e",
   "metadata": {},
   "outputs": [],
   "source": [
    "overhang = ExteriorShadingDevice(\n",
    "    hor_proj_dist=Q_(80, 'cm'),\n",
    "    vert_offset=Q_(20, 'cm')\n",
    ")\n",
    "\n",
    "window_with_overhang = Window.create(\n",
    "    name='window',\n",
    "    azimuth_angle=Q_(0, 'deg'),  # oriented South\n",
    "    slope_angle=Q_(90, 'deg'),  # vertical window\n",
    "    width=Q_(2, 'm'),\n",
    "    height=Q_(2, 'm'),\n",
    "    weather_data=weather_data,\n",
    "    props=wnd_props,\n",
    "    F_rad=0.33,\n",
    "    ext_shading=overhang\n",
    ")"
   ]
  },
  {
   "cell_type": "markdown",
   "id": "59e1e551-2948-4499-a477-608209536a84",
   "metadata": {},
   "source": [
    "To see the effect of the overhang, we calculate the solar heat gain through the window with the overhang and we will compare it graphically with the window without the overhang."
   ]
  },
  {
   "cell_type": "code",
   "execution_count": 22,
   "id": "7a74d3d4-1a48-4623-ba5d-0c5707139311",
   "metadata": {},
   "outputs": [
    {
     "data": {
      "image/png": "[encoded data removed]",
      "text/plain": [
       "<Figure size 640x480 with 1 Axes>"
      ]
     },
     "metadata": {},
     "output_type": "display_data"
    }
   ],
   "source": [
    "Q_sol, Q_sol_cv, Q_sol_rad = zip(*[window_with_overhang.solar_heat_gain(t) for t in solar_hours_dec])\n",
    "Q_sol = Quantity.from_sequence(Q_sol)\n",
    "Q_sol_cv = Quantity.from_sequence(Q_sol_cv)\n",
    "Q_sol_rad = Quantity.from_sequence(Q_sol_rad)\n",
    "\n",
    "df2 = pd.DataFrame({\n",
    "    'Q_sol': Q_sol.to('W').m,\n",
    "    'Q_sol_cv': Q_sol_cv.to('W').m,\n",
    "    'Q_sol_rad': Q_sol_rad.to('W').m\n",
    "})\n",
    "\n",
    "chart = LineChart()\n",
    "chart.add_xy_data(\n",
    "    label='without overhang',\n",
    "    x1_values=df1.index,\n",
    "    y1_values=df1['Q_sol']\n",
    ")\n",
    "chart.add_xy_data(\n",
    "    label='with overhang',\n",
    "    x1_values=df1.index,\n",
    "    y1_values=df2['Q_sol']\n",
    ")\n",
    "chart.add_legend(columns=2)\n",
    "chart.x1.add_title('solar time, hr')\n",
    "chart.y1.add_title('heat rate, W')\n",
    "chart.x1.scale(0, 25, 1)\n",
    "chart.show()"
   ]
  },
  {
   "cell_type": "markdown",
   "id": "db5e77f1-87c2-491e-8e79-7e3fda543e6d",
   "metadata": {},
   "source": [
    "## Creating a Window with an Interior Shading Device"
   ]
  },
  {
   "cell_type": "code",
   "execution_count": 23,
   "id": "936be935-2b5d-411d-907a-6b70c86d1a48",
   "metadata": {},
   "outputs": [],
   "source": [
    "from hvac.cooling_load_calc import InteriorShadingDevice"
   ]
  },
  {
   "cell_type": "code",
   "execution_count": 24,
   "id": "17c0fc59-f34a-44de-b0f6-ed5fbde488e1",
   "metadata": {},
   "outputs": [
    {
     "name": "stdout",
     "output_type": "stream",
     "text": [
      "Represents louvered shades, roller shades, draperies or insect screens\n",
      "(see ASHRAE Fundamentals 2017, Ch. 15, §5.2 and tables 14A to 14G).\n",
      "\n",
      "Parameters\n",
      "----------\n",
      "IAC_dif:\n",
      "    Interior attenuation coefficient for diffuse solar radiation.\n",
      "F_rad:\n",
      "    Radiative fraction of solar heat gain through window in combination with\n",
      "    interior shading device.\n",
      "IAC_0 : default None\n",
      "    Interior attenuation coefficient for direct solar radiation at normal\n",
      "    incidence angle (0°).\n",
      "IAC_60: default None\n",
      "    Interior attenuation coefficient for direct solar radiation at an\n",
      "    incidence angle of 60°.\n",
      "louver_orient: default 'horizontal'\n",
      "    Sets the orientation of the louvers: either 'horizontal' or 'vertical'.\n",
      "\n",
      "Notes\n",
      "-----\n",
      "Only for louvered shades, three IAC values are being considered (IAC_0,\n",
      "IAC_60, and IAC_dif). In other cases there is only one IAC value, which\n",
      "applies both to direct and diffuse solar radiation. In these cases it\n",
      "suffices to provide only a value to parameter `IAC_dif`.\n",
      "\n",
      "Parameter Types & Defaults\n",
      "--------------------------\n",
      "IAC_dif: float\n",
      "F_rad: float\n",
      "IAC_0: float | None = None\n",
      "IAC_60: float | None = None\n",
      "louver_orient: str = 'horizontal'\n"
     ]
    }
   ],
   "source": [
    "print_doc_string(InteriorShadingDevice)"
   ]
  },
  {
   "cell_type": "markdown",
   "id": "774fb03c-0cc7-4f0b-b5b7-90ea97a8e1e3",
   "metadata": {},
   "source": [
    "We will define a slat-type sunshade with horizontally oriented louvers installed on the indoor side of our window having uncoated double glazing (ID 5a). The shade material has a reflectance of 0.80 and the shades are installed in the closed position. The IAC-values and radiant fraction are taken from table 14B in Chapter 15 of ASHRAE Fundamentals 2017."
   ]
  },
  {
   "cell_type": "code",
   "execution_count": 25,
   "id": "db0222ae-c075-48e7-9ea5-978cfadf3b6b",
   "metadata": {},
   "outputs": [],
   "source": [
    "louvered_shade = InteriorShadingDevice(\n",
    "    IAC_dif=0.55,\n",
    "    F_rad=0.46,\n",
    "    IAC_0=0.47,\n",
    "    IAC_60=0.45\n",
    ")\n",
    "\n",
    "window_with_shade = Window.create(\n",
    "    name='window',\n",
    "    azimuth_angle=Q_(0, 'deg'),  # oriented South\n",
    "    slope_angle=Q_(90, 'deg'),  # vertical window\n",
    "    width=Q_(2, 'm'),\n",
    "    height=Q_(2, 'm'),\n",
    "    weather_data=weather_data,\n",
    "    props=wnd_props,\n",
    "    F_rad=0.33,\n",
    "    int_shading=louvered_shade\n",
    ")"
   ]
  },
  {
   "cell_type": "markdown",
   "id": "aa94ee13-23cb-4194-96e9-0721f4a7bc3b",
   "metadata": {},
   "source": [
    "Now we can compare the effect of the louvered shades on the solar heat gain through the window with the effect of the exterior overhang and also with the solar heat gain through the window having no shading device."
   ]
  },
  {
   "cell_type": "code",
   "execution_count": 26,
   "id": "dac627e5-5401-4884-a29c-1a0cbad81c3f",
   "metadata": {},
   "outputs": [
    {
     "data": {
      "image/png": "[encoded data removed]",
      "text/plain": [
       "<Figure size 640x480 with 1 Axes>"
      ]
     },
     "metadata": {},
     "output_type": "display_data"
    }
   ],
   "source": [
    "Q_sol, Q_sol_cv, Q_sol_rad = zip(*[window_with_shade.solar_heat_gain(t) for t in solar_hours_dec])\n",
    "Q_sol = Quantity.from_sequence(Q_sol)\n",
    "Q_sol_cv = Quantity.from_sequence(Q_sol_cv)\n",
    "Q_sol_rad = Quantity.from_sequence(Q_sol_rad)\n",
    "\n",
    "df3 = pd.DataFrame({\n",
    "    'Q_sol': Q_sol.to('W').m,\n",
    "    'Q_sol_cv': Q_sol_cv.to('W').m,\n",
    "    'Q_sol_rad': Q_sol_rad.to('W').m\n",
    "})\n",
    "\n",
    "chart = LineChart()\n",
    "chart.add_xy_data(\n",
    "    label='without overhang',\n",
    "    x1_values=df1.index,\n",
    "    y1_values=df1['Q_sol']\n",
    ")\n",
    "chart.add_xy_data(\n",
    "    label='with overhang',\n",
    "    x1_values=df2.index,\n",
    "    y1_values=df2['Q_sol']\n",
    ")\n",
    "chart.add_xy_data(\n",
    "    label='with louvered shade',\n",
    "    x1_values=df3.index,\n",
    "    y1_values=df3['Q_sol']\n",
    ")\n",
    "chart.add_legend(columns=3)\n",
    "chart.x1.add_title('solar time, hr')\n",
    "chart.y1.add_title('heat rate, W')\n",
    "chart.x1.scale(0, 25, 1)\n",
    "chart.show()"
   ]
  },
  {
   "cell_type": "markdown",
   "id": "123ffcad-aa40-4a2f-84ba-16efb0a6cb5d",
   "metadata": {},
   "source": [
    "## Adding a Window to an Exterior Building Element"
   ]
  },
  {
   "cell_type": "markdown",
   "id": "c0e4de81-6863-4736-ba28-f94354b1a516",
   "metadata": {},
   "source": [
    "An object of class `ExteriorBuildingElement` has a method `add_window(...)` to add a window to an exterior building element."
   ]
  },
  {
   "cell_type": "code",
   "execution_count": 27,
   "id": "1a9e1d95-2721-4d69-beab-02caa46e870b",
   "metadata": {},
   "outputs": [],
   "source": [
    "from hvac.cooling_load_calc import ExteriorBuildingElement"
   ]
  },
  {
   "cell_type": "code",
   "execution_count": 28,
   "id": "57ed1c79-d59c-4e52-a4db-79ee6d20d7a5",
   "metadata": {},
   "outputs": [
    {
     "name": "stdout",
     "output_type": "stream",
     "text": [
      "Adds a window to the exterior building element.\n",
      "\n",
      "Parameters\n",
      "----------\n",
      "name:\n",
      "    Identifies the window. `Window` objects are hold in a dictionary \n",
      "    `windows`. The name of the window is used as the key in this \n",
      "    dictionary.\n",
      "width:\n",
      "    The width of the window.\n",
      "height:\n",
      "    The height of the window.\n",
      "props:\n",
      "    A `WindowsThermalProperties` object that holds the thermal\n",
      "    and solar properties of the window.\n",
      "F_rad: default 0.46\n",
      "    Radiative fraction of solar heat gain through window to the interior\n",
      "    thermal mass of the space. (see ASHRAE Fundamentals 2017, chapter 18,\n",
      "    table 14).\n",
      "ext_shading: default None\n",
      "    E.g. an overhang or recessed window. See: class `ExternalShadingDevice`.\n",
      "    If a window has an external shading device, or if the window is\n",
      "    recessed, part of the window may be shaded depending on the position\n",
      "    of the sun during the day.\n",
      "int_shading: default None\n",
      "    E.g. a louvered shade, roller shade, drapery, or insect screen.\n",
      "    See: class `InteriorShadingDevice`.\n",
      "\n",
      "Returns\n",
      "-------\n",
      "The `Window` object that was added to the `ExteriorBuildingElement`\n",
      "object.\n",
      "\n",
      "Parameter Types & Defaults\n",
      "--------------------------\n",
      "name: 'str'\n",
      "width: 'Quantity'\n",
      "height: 'Quantity'\n",
      "props: 'WindowThermalProperties'\n",
      "F_rad: 'float' = 0.46\n",
      "ext_shading: 'ExteriorShadingDevice | None' = None\n",
      "int_shading: 'InteriorShadingDevice | None' = None\n"
     ]
    }
   ],
   "source": [
    "print_doc_string(ExteriorBuildingElement.add_window)"
   ]
  },
  {
   "cell_type": "markdown",
   "id": "8ab01a88-80e2-4f52-a532-5ba87e1a882a",
   "metadata": {},
   "source": [
    "Let us re-create the exterior vertical wall from the previous notebook no. 2 and then add the window to this wall with both the overhang and the louvred shades. The window retrieves the properties that it shares with the exterior wall (azimuth angle, slope angle, and weather data) from this exterior wall. "
   ]
  },
  {
   "cell_type": "code",
   "execution_count": 32,
   "id": "f243e0a1-a9ce-4a0d-a762-9215ca030871",
   "metadata": {},
   "outputs": [
    {
     "name": "stdout",
     "output_type": "stream",
     "text": [
      "Before adding the window:\n",
      "- gross area of the exterior wall = 30.0 m²\n",
      "- net area of the exterior wall = 30.0 m²\n",
      "After adding the window:\n",
      "- gross area of the exterior wall = 30.0 m²\n",
      "- net area of the exterior wall = 26.0 m²\n"
     ]
    }
   ],
   "source": [
    "from hvac.cooling_load_calc import ConstructionAssembly\n",
    "\n",
    "ConstructionAssembly.db_path = \"./construction_shelf/assemblies\"\n",
    "constr_assem = ConstructionAssembly.load('exterior-wall')\n",
    "\n",
    "ext_wall = ExteriorBuildingElement.create(\n",
    "    name='exterior-wall',\n",
    "    gross_area=Q_(10, 'm') * Q_(3, 'm'),  # surface area of the wall\n",
    "    constr_assem=constr_assem,\n",
    "    weather_data=weather_data,\n",
    "    azimuth_angle=Q_(0, 'deg'),  # oriented to the south\n",
    "    slope_angle=Q_(90, 'deg')   # vertical wall\n",
    ")\n",
    "\n",
    "print(\n",
    "    f\"Before adding the window:\",\n",
    "    f\"- gross area of the exterior wall = {ext_wall.gross_area.to('m**2'):~P.1f}\",\n",
    "    f\"- net area of the exterior wall = {ext_wall.net_area.to('m**2'):~P.1f}\",\n",
    "    sep='\\n'\n",
    ")\n",
    "\n",
    "window_in_wall = ext_wall.add_window(\n",
    "    name='window_1',\n",
    "    width=Q_(2, 'm'),\n",
    "    height=Q_(2, 'm'),\n",
    "    props=wnd_props,\n",
    "    F_rad=0.33,\n",
    "    ext_shading=overhang,\n",
    "    int_shading=louvered_shade\n",
    ")\n",
    "\n",
    "print(\n",
    "    f\"After adding the window:\",\n",
    "    f\"- gross area of the exterior wall = {ext_wall.gross_area.to('m**2'):~P.1f}\",\n",
    "    f\"- net area of the exterior wall = {ext_wall.net_area.to('m**2'):~P.1f}\",\n",
    "    sep='\\n'\n",
    ")"
   ]
  },
  {
   "cell_type": "markdown",
   "id": "d8b065e4-29db-4cff-b482-febd2c0488fb",
   "metadata": {},
   "source": [
    "Windows added to an exterior building element are held in a dictionary `windows`. The keys of the dictionary are the names of the windows. The names of the windows which are added to the same exterior building element must therefore be unique."
   ]
  },
  {
   "cell_type": "code",
   "execution_count": 33,
   "id": "232c1dcf-ca57-4cca-8bb1-14024552fc1a",
   "metadata": {},
   "outputs": [
    {
     "name": "stdout",
     "output_type": "stream",
     "text": [
      "{'window_1': <hvac.cooling_load_calc.building.fenestration.Window object at 0x0000022BFC63A930>}\n"
     ]
    }
   ],
   "source": [
    "print(ext_wall.windows)"
   ]
  },
  {
   "cell_type": "markdown",
   "id": "ac2521ae-4766-46ee-ba3d-e17be72336d6",
   "metadata": {},
   "source": [
    "> **Note**<br>\n",
    "Besides adding windows to an exterior building element, we can also add opaque exterior doors by calling method `add_door(...)`."
   ]
  },
  {
   "cell_type": "code",
   "execution_count": 34,
   "id": "7e142640-0e81-47ee-a5c4-6ba914faa418",
   "metadata": {},
   "outputs": [
    {
     "name": "stdout",
     "output_type": "stream",
     "text": [
      "Adds a door to the exterior building element.\n",
      "\n",
      "An exterior door is also represented by the `ExteriorBuildingElement` \n",
      "class.\n",
      "\n",
      "Parameters\n",
      "----------\n",
      "name:\n",
      "    Name to identify the door.\n",
      "width:\n",
      "    Width of the door.\n",
      "height:\n",
      "    Height of the door. \n",
      "constr_assem:\n",
      "    Construction assembly the door is made of.\n",
      "surface_color: optional\n",
      "    Either a 'dark' (default) or 'light' colored surface.\n",
      "R_surf: optional\n",
      "    Thermal resistance of the exterior surface film.\n",
      "a_surf: optional\n",
      "    Absorption factor of the exterior surface.\n",
      "rho_g: Quantity, default 0.2 frac\n",
      "    Ground reflectance.\n",
      "sky_model: str, {'anisotropic.hdkr, 'isotropic'}, optional\n",
      "    Sky model to be used for calculating the irradiation on the tilted\n",
      "    surface. By default, the anisotropic sky model according to Perez\n",
      "    is used.\n",
      "F_rad: default 0.46\n",
      "    Radiative fraction of the conduction heat gain through the door\n",
      "    building element, taken up by the interior thermal mass of the\n",
      "    space (see ASHRAE Fundamentals 2017, chapter 18, table 14).\n",
      "\n",
      "Notes\n",
      "-----\n",
      "If `R_surf` and `a_surf` are specified, parameter `surface_color` is\n",
      "ignored.\n",
      "\n",
      "Returns\n",
      "-------\n",
      "`ExteriorBuildingElement` object.\n",
      "\n",
      "Parameter Types & Defaults\n",
      "--------------------------\n",
      "name: 'str'\n",
      "width: 'Quantity'\n",
      "height: 'Quantity'\n",
      "constr_assem: 'ConstructionAssembly'\n",
      "surface_color: 'str' = 'dark'\n",
      "R_surf: 'Quantity | None' = None\n",
      "a_surf: 'Quantity | None' = None\n",
      "rho_g: 'Quantity' = <Quantity(0.2, 'fraction')>\n",
      "sky_model: 'str' = ''\n",
      "F_rad: 'float' = 0.46\n"
     ]
    }
   ],
   "source": [
    "print_doc_string(ExteriorBuildingElement.add_door)"
   ]
  },
  {
   "cell_type": "markdown",
   "id": "ecf0a26f-ddbb-456e-a32d-ef62ef9b8837",
   "metadata": {},
   "source": [
    "Exterior doors added to an exterior building element are held in a dictionary `doors` of the `ExteriorBuildingElement` class."
   ]
  },
  {
   "cell_type": "code",
   "execution_count": null,
   "id": "627baa43-6c9d-41f1-9ca6-04ab1d801a18",
   "metadata": {},
   "outputs": [],
   "source": []
  }
 ],
 "metadata": {
  "kernelspec": {
   "display_name": "Python 3 (ipykernel)",
   "language": "python",
   "name": "python3"
  },
  "language_info": {
   "codemirror_mode": {
    "name": "ipython",
    "version": 3
   },
   "file_extension": ".py",
   "mimetype": "text/x-python",
   "name": "python",
   "nbconvert_exporter": "python",
   "pygments_lexer": "ipython3",
   "version": "3.12.8"
  }
 },
 "nbformat": 4,
 "nbformat_minor": 5
}
