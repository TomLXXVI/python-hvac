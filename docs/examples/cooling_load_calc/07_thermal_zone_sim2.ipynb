{
 "cells": [
  {
   "cell_type": "code",
   "execution_count": 1,
   "id": "5503384a-f86a-4c93-99d3-4cf3629a3296",
   "metadata": {},
   "outputs": [],
   "source": [
    "import sys\n",
    "if (path := \"C:/Users/Tom/PycharmProjects/python-hvac\") not in sys.path:\n",
    "    sys.path.append(path)"
   ]
  },
  {
   "cell_type": "code",
   "execution_count": 2,
   "id": "a9e35bef-c333-4341-8c3d-e50416249512",
   "metadata": {},
   "outputs": [],
   "source": [
    "from datetime import date\n",
    "\n",
    "import numpy as np\n",
    "import control as ct\n",
    "import pandas as pd\n",
    "\n",
    "from hvac import Quantity, print_doc_string\n",
    "from hvac.charts import LineChart\n",
    "from hvac.sun import Location, ClimateType\n",
    "from hvac.cooling_load_calc import WeatherData\n",
    "\n",
    "from thermal_zone_example import create_zone\n",
    "\n",
    "Q_ = Quantity"
   ]
  },
  {
   "cell_type": "markdown",
   "id": "79eb7cc4-1fb1-48f8-b0c9-08a4028a5e27",
   "metadata": {},
   "source": [
    "# 7. Free-Floating Zone Air Temperature\n",
    "---"
   ]
  },
  {
   "cell_type": "markdown",
   "id": "eb796ced-f223-4e7a-b75c-2d45a36836b5",
   "metadata": {},
   "source": [
    "The normally intended usage of package `hvac.cooling_load_calc` will be for estimating the cooling/heating load or the thermal energy need of a thermal building zone, as has been demonstrated in the previous notebook no. 6. For this, a call to  method `simulate(...)` of the `ThermalZone` object is generally sufficient. However, it is also possible to create the network model and its state-space representation (system) outside of the `ThermalZone` object. In this notebook we will simulate the course of the zone-air temperature on a certain selected day with the HVAC-system turned off (i.e. without temperature control of the zone-air temperature)."
   ]
  },
  {
   "cell_type": "markdown",
   "id": "4d0056a0-de5c-4115-a986-fe341c3dfa53",
   "metadata": {},
   "source": [
    "## Modeling the Thermal Zone"
   ]
  },
  {
   "cell_type": "markdown",
   "id": "1d8363c3-a118-4c63-b84b-2593ff7efb41",
   "metadata": {},
   "source": [
    "First we create again the same thermal zone from the previous notebook no. 6 (see `thermal_zone_example.py`)"
   ]
  },
  {
   "cell_type": "code",
   "execution_count": 3,
   "id": "747c51c9-39b6-4fe2-9d64-d25a3e48656a",
   "metadata": {},
   "outputs": [],
   "source": [
    "location = Location(\n",
    "    fi=Q_(51.183, 'deg'),\n",
    "    L_loc=Q_(3.8, 'deg'),\n",
    "    altitude=Q_(8, 'm'),\n",
    "    climate_type=ClimateType.MID_LATITUDE_SUMMER,\n",
    "    timezone='Etc/GMT-1'\n",
    ")"
   ]
  },
  {
   "cell_type": "markdown",
   "id": "7f6d4418-b181-4685-9c02-ec6e9cb3eb67",
   "metadata": {},
   "source": [
    "For the weather data, we will use TMY data here. To read a TMY file, class `TMY` in module `sun.tmy.py` is used. The implementation of this class is based on the format of csv-files like the ones that can be downloaded from [PVGIS](https://re.jrc.ec.europa.eu/pvg_tools/en/#api_5.2). This means that date and time are written together in a single column, which must also be the first column of the csv-file. Furthermore, the csv-file must only contain the real TMY-data (other rows or columns must be deleted from the csv-file)."
   ]
  },
  {
   "cell_type": "code",
   "execution_count": 4,
   "id": "02389b6a-8c0f-406b-be6b-6339aa1717eb",
   "metadata": {},
   "outputs": [
    {
     "name": "stdout",
     "output_type": "stream",
     "text": [
      "Creates a `WeatherData` object from TMY-data saved in a csv-file.\n",
      "\n",
      "Parameters\n",
      "----------\n",
      "location:\n",
      "    Geographic location for which the weather data is valid.\n",
      "date:\n",
      "    Date for which the weather data is valid.\n",
      "tmy_file:\n",
      "    Path to the csv-file with hourly TMY data.\n",
      "tmy_params:\n",
      "    2-tuple with the date-time format used in the csv-file and the\n",
      "    timezone in which the date-times are expressed in the csv-file,\n",
      "    using the tz-database notation.\n",
      "    (https://en.wikipedia.org/wiki/List_of_tz_database_time_zones).\n",
      "\n",
      "Parameter Types & Defaults\n",
      "--------------------------\n",
      "location: 'Location'\n",
      "date: 'Date'\n",
      "tmy_file: 'PathLike'\n",
      "tmy_params: 'tuple[str, str]' = ('%Y%m%d:%H%M', 'UTC')\n"
     ]
    }
   ],
   "source": [
    "print_doc_string(WeatherData.create_from_tmy_data)"
   ]
  },
  {
   "cell_type": "code",
   "execution_count": 5,
   "id": "e5b195fa-e12f-4f3d-a25e-76d319b713d8",
   "metadata": {},
   "outputs": [],
   "source": [
    "weather_data = WeatherData.create_from_tmy_data(\n",
    "    location=location,\n",
    "    date=date(2000, 6, 21),  # <- selected day\n",
    "    tmy_file=\"./tmy_data/tmy_50.911_3.192_2005_2020.csv\"\n",
    ")"
   ]
  },
  {
   "cell_type": "code",
   "execution_count": 6,
   "id": "6115aac8-7e2d-4d21-b2bb-6caf355d9d16",
   "metadata": {},
   "outputs": [],
   "source": [
    "thz = create_zone(weather_data, T_int_des=Q_(22, 'degC'))"
   ]
  },
  {
   "cell_type": "markdown",
   "id": "252c9d80-f394-4a7f-84b3-f58094ae0409",
   "metadata": {},
   "source": [
    "## Thermal Zone Network and State-Space Model (System)"
   ]
  },
  {
   "cell_type": "markdown",
   "id": "72d94025-b38a-44cd-b933-487be0b9099e",
   "metadata": {},
   "source": [
    "Now, we can create the zone's thermal network model:"
   ]
  },
  {
   "cell_type": "code",
   "execution_count": 7,
   "id": "7545c891-50c2-4df6-b478-1cc623cb3fa6",
   "metadata": {},
   "outputs": [],
   "source": [
    "thz_model = thz.create_model()"
   ]
  },
  {
   "cell_type": "markdown",
   "id": "a4c516e4-f11e-4d0c-b35c-c4509ccb5550",
   "metadata": {},
   "source": [
    "And from the thermal zone's network model, we will create its state-space representation (instance of `control.StateSpace`) by calling method `create_system(...)`."
   ]
  },
  {
   "cell_type": "code",
   "execution_count": 8,
   "id": "e4b99368-c6c4-4e92-a5cd-ea8a53668f85",
   "metadata": {},
   "outputs": [
    {
     "name": "stdout",
     "output_type": "stream",
     "text": [
      "Creates the system of the linear thermal network in state-space \n",
      "representation.\n",
      "\n",
      "Parameters\n",
      "----------\n",
      "output_nodes:\n",
      "    Nodes in the linear thermal network whose temperature will be the \n",
      "    output of the system. If `None`, the last node in the `nodes` list\n",
      "    is taken to be the output node.\n",
      "reduced_order:\n",
      "    The order to which the system should be reduced. If `None`, the \n",
      "    order of the system won't be reduced.\n",
      "    As the system is build from a big number of temperature nodes, the\n",
      "    system order will also be high. However, without noticeable loss of \n",
      "    accuracy, the order can normally be reduced to an order of 8 or 6\n",
      "    (but not below the number of system outputs; should `reduced_order`\n",
      "    be less than the number of system outputs, it will be limited to the\n",
      "    number of system outputs). \n",
      "    Note that without system reduction, it may also happen that some \n",
      "    internal mathematical operations raise an exception (e.g. \n",
      "    `FloatingPointError`).\n",
      "\n",
      "Returns\n",
      "-------\n",
      "`ct.StateSpace` object.\n",
      "\n",
      "Parameter Types & Defaults\n",
      "--------------------------\n",
      "output_nodes: 'tuple[TemperatureNode, ...] | None' = None\n",
      "reduced_order: 'int | None' = None\n"
     ]
    }
   ],
   "source": [
    "print_doc_string(thz_model.create_system)"
   ]
  },
  {
   "cell_type": "code",
   "execution_count": 9,
   "id": "4c6f171f-193a-4241-940d-91390d919424",
   "metadata": {},
   "outputs": [],
   "source": [
    "thz_system = thz_model.create_system(reduced_order=8)"
   ]
  },
  {
   "cell_type": "markdown",
   "id": "1fbd71a7-0baa-4d45-95ea-5eb4896a151f",
   "metadata": {},
   "source": [
    "The object `thz_system` is an object coming from third-party package `python-control` ([Python Control Systems Library](https://github.com/python-control/python-control)). This package is used to solve the thermal zone model, i.e. to determine the temperatures of the nodes in the thermal network model (see also \"Some Supplementary Background\" in the previous notebook no. 6)."
   ]
  },
  {
   "cell_type": "markdown",
   "id": "10816c4f-d6a6-4c86-834f-46185dcaca69",
   "metadata": {},
   "source": [
    "## Simulation"
   ]
  },
  {
   "cell_type": "markdown",
   "id": "919b907e-9ec8-48df-8ac9-961ef744481c",
   "metadata": {},
   "source": [
    "Before we can actually run a simulation, we need to collect the input data for the simulation from the thermal zone model `thz` (sol-air temperatures at the exterior building elements, exterior outdoor air dry-bulb temperature, radiative and convective heat gains in the zone)."
   ]
  },
  {
   "cell_type": "code",
   "execution_count": 10,
   "id": "84dacdcd-72a1-4296-a904-e3a4cff92c3e",
   "metadata": {},
   "outputs": [
    {
     "name": "stdout",
     "output_type": "stream",
     "text": [
      "Returns all the input data that is needed for running a simulation of\n",
      "the zone system.\n",
      "\n",
      "Parameters\n",
      "----------\n",
      "num_cycles:\n",
      "    The number of days the selected (design) day needs to be repeated \n",
      "    before the simulation ends. When the simulation starts, the initial \n",
      "    values of all system state variables are set to zero, and the daily,\n",
      "    24h cycle of system input values needs to be repeated a number of \n",
      "    days until the system shows a harmonic periodic behavior in time or \n",
      "    the zone-air temperature 'T_za' has settled around the setpoint. \n",
      "setpoint:\n",
      "    Setpoint of the zone-air temperature (a fixed value). If set to \n",
      "    `None`, the setpoint is ignored and the HVAC-system is considered to\n",
      "    be turned off.\n",
      "\n",
      "Returns\n",
      "-------\n",
      "time:\n",
      "    Numpy 1D-array holding the timeline for the simulation. The timeline\n",
      "    counts the hours of `num_cycles` successive days (the selected\n",
      "    design day repeats itself `num_cycles` times). \n",
      "input_data: dict[str, Quantity]\n",
      "    The keys of the dictionary are the input names of the zone system.\n",
      "    The corresponding values of the dictionary are holding the input \n",
      "    values to the zone system at each time moment (hour) in the \n",
      "    timeline.\n",
      "    The inputs to the zone system can be:\n",
      "    1.  The setpoint temperature for the zone air if the setpoint has\n",
      "        been set.\n",
      "    2.  The sol-air temperatures at each exterior building element \n",
      "        surrounding the zone (these are multiple inputs: one input for\n",
      "        each exterior building element, including exterior doors).\n",
      "    3.  The dry-bulb outdoor air temperature.\n",
      "    4.  The radiative heat gains in the zone.\n",
      "    5.  The convective heat gains in the zone.\n",
      "    6.  The zone-air temperatures of any adjacent zones (this is the\n",
      "        case when the zone has interior building elements).\n",
      "\n",
      "Parameter Types & Defaults\n",
      "--------------------------\n",
      "num_cycles: 'int'\n",
      "setpoint: 'Quantity | None' = None\n"
     ]
    }
   ],
   "source": [
    "print_doc_string(thz.collect_input_data)"
   ]
  },
  {
   "cell_type": "code",
   "execution_count": 11,
   "id": "08f4a5ab-20df-41b7-b167-8326165a725e",
   "metadata": {},
   "outputs": [],
   "source": [
    "time, input_data = thz.collect_input_data(num_cycles=20)"
   ]
  },
  {
   "cell_type": "code",
   "execution_count": 12,
   "id": "a5fac5dd-3994-4ddf-9218-447d83f38701",
   "metadata": {},
   "outputs": [
    {
     "name": "stdout",
     "output_type": "stream",
     "text": [
      "Q_gain_rad@zone_1\n",
      "Q_gain_conv@zone_1\n",
      "T_sa@ew_W\n",
      "T_sa@ew_S\n",
      "T_sa@ew_E\n",
      "T_sa@ed_E1\n",
      "T_sa@rf_S\n",
      "T_ext_db@zone_1\n",
      "T_za@zone_2\n"
     ]
    }
   ],
   "source": [
    "for key in input_data.keys():\n",
    "    print(key)"
   ]
  },
  {
   "cell_type": "markdown",
   "id": "c93c33b9-d007-4816-a98c-921b302a2710",
   "metadata": {},
   "source": [
    "The input data that we have collected must be arranged in the same order as the order of the inputs expected by the state-space model `thz_system`."
   ]
  },
  {
   "cell_type": "code",
   "execution_count": 13,
   "id": "d398273e-82ae-4f3a-9a3f-1de0f97712f7",
   "metadata": {},
   "outputs": [
    {
     "name": "stdout",
     "output_type": "stream",
     "text": [
      "T_sa@ew_W\n",
      "T_sa@ew_S\n",
      "T_sa@ew_E\n",
      "T_sa@rf_S\n",
      "T_ext_db@zone_1\n",
      "T_sa@ed_E1\n",
      "T_za@zone_2\n",
      "Q_gain_rad@zone_1\n",
      "Q_gain_conv@zone_1\n",
      "Q_hvac@zone_1\n"
     ]
    }
   ],
   "source": [
    "for input_label in thz_system.input_labels:\n",
    "    print(input_label)"
   ]
  },
  {
   "cell_type": "markdown",
   "id": "faec1fa8-30be-432e-90ec-1c2daea7e8b6",
   "metadata": {},
   "source": [
    "To arrange the inputs for the state-space model `thz_system` in the correct order, we first create a zero-matrix of which the number of rows equals the number of inputs in the state-space model. The number of columns equals the number of values for each input (this number is equal to the number of hours in a day, as the simulation happens on a hourly basis). Then, we use the `input_index` dictionary of `thz_system` to retrieve the correct row index for the current input name, and we assign the values in `input_data` to this row. "
   ]
  },
  {
   "cell_type": "code",
   "execution_count": 14,
   "id": "f9cbb443-ca06-488d-a01f-95680f12ad12",
   "metadata": {},
   "outputs": [],
   "source": [
    "inputs = np.zeros((len(thz_system.input_labels), len(time)))\n",
    "for input_name, input_values in input_data.items():\n",
    "    row_index = thz_system.input_index[input_name]\n",
    "    inputs[row_index, :] = input_values.magnitude"
   ]
  },
  {
   "cell_type": "code",
   "execution_count": 15,
   "id": "93b91d3e-4cbc-44e9-a64b-09ffb1e065f9",
   "metadata": {},
   "outputs": [
    {
     "data": {
      "text/html": [
       "<div>\n",
       "<style scoped>\n",
       "    .dataframe tbody tr th:only-of-type {\n",
       "        vertical-align: middle;\n",
       "    }\n",
       "\n",
       "    .dataframe tbody tr th {\n",
       "        vertical-align: top;\n",
       "    }\n",
       "\n",
       "    .dataframe thead th {\n",
       "        text-align: right;\n",
       "    }\n",
       "</style>\n",
       "<table border=\"1\" class=\"dataframe\">\n",
       "  <thead>\n",
       "    <tr style=\"text-align: right;\">\n",
       "      <th></th>\n",
       "      <th>0</th>\n",
       "      <th>1</th>\n",
       "      <th>2</th>\n",
       "      <th>3</th>\n",
       "      <th>4</th>\n",
       "      <th>5</th>\n",
       "      <th>6</th>\n",
       "      <th>7</th>\n",
       "      <th>8</th>\n",
       "      <th>9</th>\n",
       "      <th>...</th>\n",
       "      <th>470</th>\n",
       "      <th>471</th>\n",
       "      <th>472</th>\n",
       "      <th>473</th>\n",
       "      <th>474</th>\n",
       "      <th>475</th>\n",
       "      <th>476</th>\n",
       "      <th>477</th>\n",
       "      <th>478</th>\n",
       "      <th>479</th>\n",
       "    </tr>\n",
       "  </thead>\n",
       "  <tbody>\n",
       "    <tr>\n",
       "      <th>T_sa@ew_W</th>\n",
       "      <td>287.890000</td>\n",
       "      <td>287.780000</td>\n",
       "      <td>287.700000</td>\n",
       "      <td>287.569819</td>\n",
       "      <td>288.064413</td>\n",
       "      <td>290.220121</td>\n",
       "      <td>292.398603</td>\n",
       "      <td>296.339612</td>\n",
       "      <td>300.758901</td>\n",
       "      <td>301.265940</td>\n",
       "      <td>...</td>\n",
       "      <td>300.615212</td>\n",
       "      <td>298.282579</td>\n",
       "      <td>295.037952</td>\n",
       "      <td>292.854963</td>\n",
       "      <td>292.786859</td>\n",
       "      <td>290.524731</td>\n",
       "      <td>289.003643</td>\n",
       "      <td>287.570000</td>\n",
       "      <td>286.880000</td>\n",
       "      <td>286.470000</td>\n",
       "    </tr>\n",
       "    <tr>\n",
       "      <th>T_sa@ew_S</th>\n",
       "      <td>287.890000</td>\n",
       "      <td>287.780000</td>\n",
       "      <td>287.700000</td>\n",
       "      <td>287.573908</td>\n",
       "      <td>287.944723</td>\n",
       "      <td>289.955160</td>\n",
       "      <td>292.192359</td>\n",
       "      <td>296.228889</td>\n",
       "      <td>301.377575</td>\n",
       "      <td>302.835799</td>\n",
       "      <td>...</td>\n",
       "      <td>301.127344</td>\n",
       "      <td>298.349430</td>\n",
       "      <td>295.039260</td>\n",
       "      <td>292.854963</td>\n",
       "      <td>292.786859</td>\n",
       "      <td>290.524731</td>\n",
       "      <td>289.002205</td>\n",
       "      <td>287.570000</td>\n",
       "      <td>286.880000</td>\n",
       "      <td>286.470000</td>\n",
       "    </tr>\n",
       "    <tr>\n",
       "      <th>T_sa@ew_E</th>\n",
       "      <td>287.890000</td>\n",
       "      <td>287.780000</td>\n",
       "      <td>287.700000</td>\n",
       "      <td>287.574162</td>\n",
       "      <td>287.944723</td>\n",
       "      <td>289.955160</td>\n",
       "      <td>292.149806</td>\n",
       "      <td>296.033313</td>\n",
       "      <td>299.526039</td>\n",
       "      <td>300.465362</td>\n",
       "      <td>...</td>\n",
       "      <td>300.779509</td>\n",
       "      <td>298.353679</td>\n",
       "      <td>295.085437</td>\n",
       "      <td>292.900101</td>\n",
       "      <td>292.925285</td>\n",
       "      <td>290.686747</td>\n",
       "      <td>288.979022</td>\n",
       "      <td>287.570000</td>\n",
       "      <td>286.880000</td>\n",
       "      <td>286.470000</td>\n",
       "    </tr>\n",
       "    <tr>\n",
       "      <th>T_sa@rf_S</th>\n",
       "      <td>284.512501</td>\n",
       "      <td>284.402501</td>\n",
       "      <td>284.322501</td>\n",
       "      <td>284.201610</td>\n",
       "      <td>284.920698</td>\n",
       "      <td>287.889698</td>\n",
       "      <td>290.959025</td>\n",
       "      <td>296.203272</td>\n",
       "      <td>304.123080</td>\n",
       "      <td>306.261031</td>\n",
       "      <td>...</td>\n",
       "      <td>302.238493</td>\n",
       "      <td>297.162741</td>\n",
       "      <td>292.990471</td>\n",
       "      <td>290.384110</td>\n",
       "      <td>290.363613</td>\n",
       "      <td>287.557247</td>\n",
       "      <td>285.627766</td>\n",
       "      <td>284.192501</td>\n",
       "      <td>283.502501</td>\n",
       "      <td>283.092501</td>\n",
       "    </tr>\n",
       "    <tr>\n",
       "      <th>T_ext_db@zone_1</th>\n",
       "      <td>287.890000</td>\n",
       "      <td>287.780000</td>\n",
       "      <td>287.700000</td>\n",
       "      <td>287.560000</td>\n",
       "      <td>287.450000</td>\n",
       "      <td>288.110000</td>\n",
       "      <td>289.250000</td>\n",
       "      <td>291.690000</td>\n",
       "      <td>292.840000</td>\n",
       "      <td>293.030000</td>\n",
       "      <td>...</td>\n",
       "      <td>294.880000</td>\n",
       "      <td>295.300000</td>\n",
       "      <td>293.200000</td>\n",
       "      <td>291.600000</td>\n",
       "      <td>291.450000</td>\n",
       "      <td>289.950000</td>\n",
       "      <td>288.960000</td>\n",
       "      <td>287.570000</td>\n",
       "      <td>286.880000</td>\n",
       "      <td>286.470000</td>\n",
       "    </tr>\n",
       "    <tr>\n",
       "      <th>T_sa@ed_E1</th>\n",
       "      <td>287.890000</td>\n",
       "      <td>287.780000</td>\n",
       "      <td>287.700000</td>\n",
       "      <td>287.574162</td>\n",
       "      <td>287.944723</td>\n",
       "      <td>289.955160</td>\n",
       "      <td>292.149806</td>\n",
       "      <td>296.033313</td>\n",
       "      <td>299.526039</td>\n",
       "      <td>300.465362</td>\n",
       "      <td>...</td>\n",
       "      <td>300.779509</td>\n",
       "      <td>298.353679</td>\n",
       "      <td>295.085437</td>\n",
       "      <td>292.900101</td>\n",
       "      <td>292.925285</td>\n",
       "      <td>290.686747</td>\n",
       "      <td>288.979022</td>\n",
       "      <td>287.570000</td>\n",
       "      <td>286.880000</td>\n",
       "      <td>286.470000</td>\n",
       "    </tr>\n",
       "    <tr>\n",
       "      <th>T_za@zone_2</th>\n",
       "      <td>301.150000</td>\n",
       "      <td>301.150000</td>\n",
       "      <td>301.150000</td>\n",
       "      <td>301.150000</td>\n",
       "      <td>301.150000</td>\n",
       "      <td>301.150000</td>\n",
       "      <td>301.150000</td>\n",
       "      <td>301.150000</td>\n",
       "      <td>301.150000</td>\n",
       "      <td>301.150000</td>\n",
       "      <td>...</td>\n",
       "      <td>301.150000</td>\n",
       "      <td>301.150000</td>\n",
       "      <td>301.150000</td>\n",
       "      <td>301.150000</td>\n",
       "      <td>301.150000</td>\n",
       "      <td>301.150000</td>\n",
       "      <td>301.150000</td>\n",
       "      <td>301.150000</td>\n",
       "      <td>301.150000</td>\n",
       "      <td>301.150000</td>\n",
       "    </tr>\n",
       "    <tr>\n",
       "      <th>Q_gain_rad@zone_1</th>\n",
       "      <td>0.000000</td>\n",
       "      <td>0.000000</td>\n",
       "      <td>0.000000</td>\n",
       "      <td>2.081459</td>\n",
       "      <td>90.742231</td>\n",
       "      <td>338.314952</td>\n",
       "      <td>537.920238</td>\n",
       "      <td>824.541347</td>\n",
       "      <td>1596.672230</td>\n",
       "      <td>1805.901997</td>\n",
       "      <td>...</td>\n",
       "      <td>1346.580130</td>\n",
       "      <td>776.467382</td>\n",
       "      <td>557.070610</td>\n",
       "      <td>449.874767</td>\n",
       "      <td>251.666411</td>\n",
       "      <td>112.997391</td>\n",
       "      <td>4.674887</td>\n",
       "      <td>0.000000</td>\n",
       "      <td>0.000000</td>\n",
       "      <td>0.000000</td>\n",
       "    </tr>\n",
       "    <tr>\n",
       "      <th>Q_gain_conv@zone_1</th>\n",
       "      <td>0.000000</td>\n",
       "      <td>0.000000</td>\n",
       "      <td>0.000000</td>\n",
       "      <td>0.000000</td>\n",
       "      <td>0.000000</td>\n",
       "      <td>0.000000</td>\n",
       "      <td>0.000000</td>\n",
       "      <td>0.000000</td>\n",
       "      <td>94.500000</td>\n",
       "      <td>94.500000</td>\n",
       "      <td>...</td>\n",
       "      <td>157.500000</td>\n",
       "      <td>157.500000</td>\n",
       "      <td>157.500000</td>\n",
       "      <td>157.500000</td>\n",
       "      <td>0.000000</td>\n",
       "      <td>0.000000</td>\n",
       "      <td>0.000000</td>\n",
       "      <td>0.000000</td>\n",
       "      <td>0.000000</td>\n",
       "      <td>0.000000</td>\n",
       "    </tr>\n",
       "    <tr>\n",
       "      <th>Q_hvac@zone_1</th>\n",
       "      <td>0.000000</td>\n",
       "      <td>0.000000</td>\n",
       "      <td>0.000000</td>\n",
       "      <td>0.000000</td>\n",
       "      <td>0.000000</td>\n",
       "      <td>0.000000</td>\n",
       "      <td>0.000000</td>\n",
       "      <td>0.000000</td>\n",
       "      <td>0.000000</td>\n",
       "      <td>0.000000</td>\n",
       "      <td>...</td>\n",
       "      <td>0.000000</td>\n",
       "      <td>0.000000</td>\n",
       "      <td>0.000000</td>\n",
       "      <td>0.000000</td>\n",
       "      <td>0.000000</td>\n",
       "      <td>0.000000</td>\n",
       "      <td>0.000000</td>\n",
       "      <td>0.000000</td>\n",
       "      <td>0.000000</td>\n",
       "      <td>0.000000</td>\n",
       "    </tr>\n",
       "  </tbody>\n",
       "</table>\n",
       "<p>10 rows × 480 columns</p>\n",
       "</div>"
      ],
      "text/plain": [
       "                           0           1           2           3    \\\n",
       "T_sa@ew_W           287.890000  287.780000  287.700000  287.569819   \n",
       "T_sa@ew_S           287.890000  287.780000  287.700000  287.573908   \n",
       "T_sa@ew_E           287.890000  287.780000  287.700000  287.574162   \n",
       "T_sa@rf_S           284.512501  284.402501  284.322501  284.201610   \n",
       "T_ext_db@zone_1     287.890000  287.780000  287.700000  287.560000   \n",
       "T_sa@ed_E1          287.890000  287.780000  287.700000  287.574162   \n",
       "T_za@zone_2         301.150000  301.150000  301.150000  301.150000   \n",
       "Q_gain_rad@zone_1     0.000000    0.000000    0.000000    2.081459   \n",
       "Q_gain_conv@zone_1    0.000000    0.000000    0.000000    0.000000   \n",
       "Q_hvac@zone_1         0.000000    0.000000    0.000000    0.000000   \n",
       "\n",
       "                           4           5           6           7    \\\n",
       "T_sa@ew_W           288.064413  290.220121  292.398603  296.339612   \n",
       "T_sa@ew_S           287.944723  289.955160  292.192359  296.228889   \n",
       "T_sa@ew_E           287.944723  289.955160  292.149806  296.033313   \n",
       "T_sa@rf_S           284.920698  287.889698  290.959025  296.203272   \n",
       "T_ext_db@zone_1     287.450000  288.110000  289.250000  291.690000   \n",
       "T_sa@ed_E1          287.944723  289.955160  292.149806  296.033313   \n",
       "T_za@zone_2         301.150000  301.150000  301.150000  301.150000   \n",
       "Q_gain_rad@zone_1    90.742231  338.314952  537.920238  824.541347   \n",
       "Q_gain_conv@zone_1    0.000000    0.000000    0.000000    0.000000   \n",
       "Q_hvac@zone_1         0.000000    0.000000    0.000000    0.000000   \n",
       "\n",
       "                            8            9    ...          470         471  \\\n",
       "T_sa@ew_W            300.758901   301.265940  ...   300.615212  298.282579   \n",
       "T_sa@ew_S            301.377575   302.835799  ...   301.127344  298.349430   \n",
       "T_sa@ew_E            299.526039   300.465362  ...   300.779509  298.353679   \n",
       "T_sa@rf_S            304.123080   306.261031  ...   302.238493  297.162741   \n",
       "T_ext_db@zone_1      292.840000   293.030000  ...   294.880000  295.300000   \n",
       "T_sa@ed_E1           299.526039   300.465362  ...   300.779509  298.353679   \n",
       "T_za@zone_2          301.150000   301.150000  ...   301.150000  301.150000   \n",
       "Q_gain_rad@zone_1   1596.672230  1805.901997  ...  1346.580130  776.467382   \n",
       "Q_gain_conv@zone_1    94.500000    94.500000  ...   157.500000  157.500000   \n",
       "Q_hvac@zone_1          0.000000     0.000000  ...     0.000000    0.000000   \n",
       "\n",
       "                           472         473         474         475  \\\n",
       "T_sa@ew_W           295.037952  292.854963  292.786859  290.524731   \n",
       "T_sa@ew_S           295.039260  292.854963  292.786859  290.524731   \n",
       "T_sa@ew_E           295.085437  292.900101  292.925285  290.686747   \n",
       "T_sa@rf_S           292.990471  290.384110  290.363613  287.557247   \n",
       "T_ext_db@zone_1     293.200000  291.600000  291.450000  289.950000   \n",
       "T_sa@ed_E1          295.085437  292.900101  292.925285  290.686747   \n",
       "T_za@zone_2         301.150000  301.150000  301.150000  301.150000   \n",
       "Q_gain_rad@zone_1   557.070610  449.874767  251.666411  112.997391   \n",
       "Q_gain_conv@zone_1  157.500000  157.500000    0.000000    0.000000   \n",
       "Q_hvac@zone_1         0.000000    0.000000    0.000000    0.000000   \n",
       "\n",
       "                           476         477         478         479  \n",
       "T_sa@ew_W           289.003643  287.570000  286.880000  286.470000  \n",
       "T_sa@ew_S           289.002205  287.570000  286.880000  286.470000  \n",
       "T_sa@ew_E           288.979022  287.570000  286.880000  286.470000  \n",
       "T_sa@rf_S           285.627766  284.192501  283.502501  283.092501  \n",
       "T_ext_db@zone_1     288.960000  287.570000  286.880000  286.470000  \n",
       "T_sa@ed_E1          288.979022  287.570000  286.880000  286.470000  \n",
       "T_za@zone_2         301.150000  301.150000  301.150000  301.150000  \n",
       "Q_gain_rad@zone_1     4.674887    0.000000    0.000000    0.000000  \n",
       "Q_gain_conv@zone_1    0.000000    0.000000    0.000000    0.000000  \n",
       "Q_hvac@zone_1         0.000000    0.000000    0.000000    0.000000  \n",
       "\n",
       "[10 rows x 480 columns]"
      ]
     },
     "execution_count": 15,
     "metadata": {},
     "output_type": "execute_result"
    }
   ],
   "source": [
    "df_inputs = pd.DataFrame(data=inputs, index=thz_system.input_labels)\n",
    "df_inputs"
   ]
  },
  {
   "cell_type": "markdown",
   "id": "942612a0-5c7f-43de-8e36-1162b9b63d4b",
   "metadata": {},
   "source": [
    "It should be noted that the last row, input `\"Q_hvac@zone_1\"`, is still a row of zeros. An input value of zero means that the HVAC-system doesn't supply or extract any heat from the zone, so the zone-air temperature will be free-floating, only depending on the heat gains in the zone."
   ]
  },
  {
   "cell_type": "markdown",
   "id": "e9fbc6a0-9abc-4dac-86fa-4f5edb06430b",
   "metadata": {},
   "source": [
    "Run the simulation. For this, we will use the function `forced_response(...)` from third-party package `python-control` (which we have imported at the head of this notebook as `ct`). This function will return a `TimeResponseData` object."
   ]
  },
  {
   "cell_type": "code",
   "execution_count": 16,
   "id": "ab755c51-6efa-46d1-8766-ac2df6ccf6bf",
   "metadata": {},
   "outputs": [],
   "source": [
    "resp = ct.forced_response(thz_system, time, inputs)"
   ]
  },
  {
   "cell_type": "code",
   "execution_count": 20,
   "id": "52b3abe4-391b-44ff-a5b7-7ddeb3131d5f",
   "metadata": {},
   "outputs": [
    {
     "name": "stdout",
     "output_type": "stream",
     "text": [
      "['T_sa@ew_W', 'T_sa@ew_S', 'T_sa@ew_E', 'T_sa@rf_S', 'T_ext_db@zone_1', 'T_sa@ed_E1', 'T_za@zone_2', 'Q_gain_rad@zone_1', 'Q_gain_conv@zone_1', 'Q_hvac@zone_1']\n"
     ]
    }
   ],
   "source": [
    "print(resp.input_labels)"
   ]
  },
  {
   "cell_type": "code",
   "execution_count": 21,
   "id": "a42334d6-2d1f-4f60-90c7-13c165fda911",
   "metadata": {},
   "outputs": [
    {
     "name": "stdout",
     "output_type": "stream",
     "text": [
      "[[287.89 287.78 287.7  ... 287.57 286.88 286.47]\n",
      " [287.89 287.78 287.7  ... 287.57 286.88 286.47]\n",
      " [287.89 287.78 287.7  ... 287.57 286.88 286.47]\n",
      " ...\n",
      " [  0.     0.     0.   ...   0.     0.     0.  ]\n",
      " [  0.     0.     0.   ...   0.     0.     0.  ]\n",
      " [  0.     0.     0.   ...   0.     0.     0.  ]]\n"
     ]
    }
   ],
   "source": [
    "print(resp.inputs)"
   ]
  },
  {
   "cell_type": "code",
   "execution_count": 22,
   "id": "0ce377c8-a0d3-41cb-91c4-ff9c2ff1677c",
   "metadata": {},
   "outputs": [
    {
     "name": "stdout",
     "output_type": "stream",
     "text": [
      "['T_za@zone_1']\n"
     ]
    }
   ],
   "source": [
    "print(resp.output_labels)"
   ]
  },
  {
   "cell_type": "code",
   "execution_count": 23,
   "id": "b16bc0d4-fc33-492a-a543-438daa966c0c",
   "metadata": {
    "collapsed": true,
    "jupyter": {
     "outputs_hidden": true
    }
   },
   "outputs": [
    {
     "name": "stdout",
     "output_type": "stream",
     "text": [
      "[[1.22930576e-02 2.95103600e+01 3.48691518e+01 3.98348078e+01\n",
      "  4.48125248e+01 4.99633170e+01 5.52728541e+01 6.07673014e+01\n",
      "  6.63831749e+01 7.19026275e+01 7.73404955e+01 8.27979871e+01\n",
      "  8.84172222e+01 9.38356326e+01 9.87849904e+01 1.03719207e+02\n",
      "  1.08319871e+02 1.12767581e+02 1.16995732e+02 1.21118027e+02\n",
      "  1.25133440e+02 1.28995924e+02 1.32786033e+02 1.36494741e+02\n",
      "  1.40240438e+02 1.43815885e+02 1.47292652e+02 1.50678102e+02\n",
      "  1.53988418e+02 1.57301914e+02 1.60625510e+02 1.64031351e+02\n",
      "  1.67498625e+02 1.70841831e+02 1.74098362e+02 1.77384653e+02\n",
      "  1.80853054e+02 1.84147936e+02 1.87005847e+02 1.89884005e+02\n",
      "  1.92466278e+02 1.94934789e+02 1.97223900e+02 1.99447848e+02\n",
      "  2.01605814e+02 2.03651704e+02 2.05665829e+02 2.07638773e+02\n",
      "  2.09688425e+02 2.11606960e+02 2.13465304e+02 2.15270126e+02\n",
      "  2.17036894e+02 2.18843180e+02 2.20695151e+02 2.22664197e+02\n",
      "  2.24728749e+02 2.26702550e+02 2.28622248e+02 2.30603536e+02\n",
      "  2.32798036e+02 2.34849403e+02 2.36493477e+02 2.38186784e+02\n",
      "  2.39612513e+02 2.40952121e+02 2.42139317e+02 2.43287702e+02\n",
      "  2.44395831e+02 2.45416999e+02 2.46430923e+02 2.47427601e+02\n",
      "  2.48524352e+02 2.49512796e+02 2.50463314e+02 2.51382045e+02\n",
      "  2.52283935e+02 2.53246050e+02 2.54274064e+02 2.55438882e+02\n",
      "  2.56718465e+02 2.57926094e+02 2.59097968e+02 2.60349341e+02\n",
      "  2.61831406e+02 2.63187399e+02 2.64152753e+02 2.65183595e+02\n",
      "  2.65962724e+02 2.66671219e+02 2.67242417e+02 2.67789557e+02\n",
      "  2.68310841e+02 2.68759219e+02 2.69214071e+02 2.69665068e+02\n",
      "  2.70229208e+02 2.70697796e+02 2.71140910e+02 2.71564389e+02\n",
      "  2.71982889e+02 2.72473192e+02 2.73040694e+02 2.73756030e+02\n",
      "  2.74596895e+02 2.75376316e+02 2.76130236e+02 2.76973667e+02\n",
      "  2.78057560e+02 2.79024918e+02 2.79610945e+02 2.80271545e+02\n",
      "  2.80689301e+02 2.81045077e+02 2.81272004e+02 2.81483119e+02\n",
      "  2.81676426e+02 2.81804683e+02 2.81947081e+02 2.82093108e+02\n",
      "  2.82359581e+02 2.82537633e+02 2.82697169e+02 2.82843861e+02\n",
      "  2.82992205e+02 2.83218822e+02 2.83528953e+02 2.83993083e+02\n",
      "  2.84588760e+02 2.85128863e+02 2.85649199e+02 2.86264639e+02\n",
      "  2.87126002e+02 2.87876160e+02 2.88250190e+02 2.88703870e+02\n",
      "  2.88919662e+02 2.89078311e+02 2.89112833e+02 2.89136151e+02\n",
      "  2.89146158e+02 2.89095507e+02 2.89063281e+02 2.89038866e+02\n",
      "  2.89138981e+02 2.89154658e+02 2.89155708e+02 2.89147711e+02\n",
      "  2.89145070e+02 2.89224319e+02 2.89390612e+02 2.89714348e+02\n",
      "  2.90172994e+02 2.90579348e+02 2.90969138e+02 2.91457160e+02\n",
      "  2.92194156e+02 2.92822926e+02 2.93078474e+02 2.93416512e+02\n",
      "  2.93519430e+02 2.93567909e+02 2.93494900e+02 2.93413262e+02\n",
      "  2.93320828e+02 2.93170188e+02 2.93040369e+02 2.92920699e+02\n",
      "  2.92927838e+02 2.92852768e+02 2.92765244e+02 2.92670795e+02\n",
      "  2.92583772e+02 2.92580660e+02 2.92666564e+02 2.92911838e+02\n",
      "  2.93293899e+02 2.93625505e+02 2.93942336e+02 2.94359146e+02\n",
      "  2.95026636e+02 2.95587565e+02 2.95776897e+02 2.96050304e+02\n",
      "  2.96090139e+02 2.96077047e+02 2.95943941e+02 2.95803646e+02\n",
      "  2.95653960e+02 2.95447438e+02 2.95263077e+02 2.95090170e+02\n",
      "  2.95045348e+02 2.94919561e+02 2.94782535e+02 2.94639769e+02\n",
      "  2.94505587e+02 2.94456445e+02 2.94497422e+02 2.94698844e+02\n",
      "  2.95038105e+02 2.95327935e+02 2.95603990e+02 2.95981002e+02\n",
      "  2.96609647e+02 2.97132660e+02 2.97284986e+02 2.97522273e+02\n",
      "  2.97526853e+02 2.97479350e+02 2.97312657e+02 2.97139579e+02\n",
      "  2.96957896e+02 2.96720144e+02 2.96505299e+02 2.96302639e+02\n",
      "  2.96228778e+02 2.96074646e+02 2.95909954e+02 2.95740185e+02\n",
      "  2.95579647e+02 2.95504780e+02 2.95520648e+02 2.95697563e+02\n",
      "  2.96012904e+02 2.96279385e+02 2.96532653e+02 2.96887422e+02\n",
      "  2.97494357e+02 2.97996181e+02 2.98127824e+02 2.98344924e+02\n",
      "  2.98329800e+02 2.98263066e+02 2.98077602e+02 2.97886203e+02\n",
      "  2.97686637e+02 2.97431431e+02 2.97199550e+02 2.96980262e+02\n",
      "  2.96890171e+02 2.96720198e+02 2.96540044e+02 2.96355184e+02\n",
      "  2.96179916e+02 2.96090672e+02 2.96092507e+02 2.96255725e+02\n",
      "  2.96557697e+02 2.96811130e+02 2.97051662e+02 2.97394000e+02\n",
      "  2.97988802e+02 2.98478783e+02 2.98598867e+02 2.98804685e+02\n",
      "  2.98778550e+02 2.98701067e+02 2.98505113e+02 2.98303475e+02\n",
      "  2.98093914e+02 2.97828953e+02 2.97587552e+02 2.97358970e+02\n",
      "  2.97259809e+02 2.97080983e+02 2.96892188e+02 2.96698893e+02\n",
      "  2.96515393e+02 2.96418114e+02 2.96412106e+02 2.96567670e+02\n",
      "  2.96862170e+02 2.97108311e+02 2.97341725e+02 2.97677116e+02\n",
      "  2.98265136e+02 2.98748499e+02 2.98862123e+02 2.99061636e+02\n",
      "  2.99029346e+02 2.98945857e+02 2.98744039e+02 2.98536679e+02\n",
      "  2.98321533e+02 2.98051120e+02 2.97804397e+02 2.97570622e+02\n",
      "  2.97466391e+02 2.97282617e+02 2.97088993e+02 2.96890985e+02\n",
      "  2.96702883e+02 2.96601114e+02 2.96590723e+02 2.96742009e+02\n",
      "  2.97032333e+02 2.97274399e+02 2.97503835e+02 2.97835343e+02\n",
      "  2.98419574e+02 2.98899238e+02 2.99009251e+02 2.99205240e+02\n",
      "  2.99169511e+02 2.99082664e+02 2.98877570e+02 2.98667011e+02\n",
      "  2.98448744e+02 2.98175284e+02 2.97925587e+02 2.97688910e+02\n",
      "  2.97581846e+02 2.97395307e+02 2.97198983e+02 2.96998341e+02\n",
      "  2.96807668e+02 2.96703388e+02 2.96690549e+02 2.96839443e+02\n",
      "  2.97127434e+02 2.97367222e+02 2.97594434e+02 2.97923772e+02\n",
      "  2.98505885e+02 2.98983482e+02 2.99091478e+02 2.99285497e+02\n",
      "  2.99247846e+02 2.99159123e+02 2.98952198e+02 2.98739851e+02\n",
      "  2.98519839e+02 2.98244677e+02 2.97993318e+02 2.97755018e+02\n",
      "  2.97646371e+02 2.97458286e+02 2.97260454e+02 2.97058339e+02\n",
      "  2.96866230e+02 2.96760548e+02 2.96746339e+02 2.96893897e+02\n",
      "  2.97180584e+02 2.97419098e+02 2.97645068e+02 2.97973194e+02\n",
      "  2.98554123e+02 2.99030564e+02 2.99137433e+02 2.99330351e+02\n",
      "  2.99291625e+02 2.99201854e+02 2.98993905e+02 2.98780560e+02\n",
      "  2.98559573e+02 2.98283459e+02 2.98031171e+02 2.97791965e+02\n",
      "  2.97682432e+02 2.97493484e+02 2.97294809e+02 2.97091871e+02\n",
      "  2.96898958e+02 2.96792492e+02 2.96777519e+02 2.96924330e+02\n",
      "  2.97210288e+02 2.97448091e+02 2.97673367e+02 2.98000814e+02\n",
      "  2.98581082e+02 2.99056877e+02 2.99163116e+02 2.99355419e+02\n",
      "  2.99316093e+02 2.99225736e+02 2.99017215e+02 2.98803311e+02\n",
      "  2.98581779e+02 2.98305133e+02 2.98052326e+02 2.97812613e+02\n",
      "  2.97702586e+02 2.97513155e+02 2.97314009e+02 2.97110612e+02\n",
      "  2.96917250e+02 2.96810346e+02 2.96794944e+02 2.96941338e+02\n",
      "  2.97226889e+02 2.97464294e+02 2.97689182e+02 2.98016251e+02\n",
      "  2.98596149e+02 2.99071583e+02 2.99177469e+02 2.99369429e+02\n",
      "  2.99329767e+02 2.99239083e+02 2.99030242e+02 2.98816026e+02\n",
      "  2.98594190e+02 2.98317246e+02 2.98064150e+02 2.97824153e+02\n",
      "  2.97713850e+02 2.97524149e+02 2.97324740e+02 2.97121085e+02\n",
      "  2.96927473e+02 2.96820324e+02 2.96804683e+02 2.96950844e+02\n",
      "  2.97236167e+02 2.97473350e+02 2.97698021e+02 2.98024878e+02\n",
      "  2.98604569e+02 2.99079802e+02 2.99185491e+02 2.99377259e+02\n",
      "  2.99337410e+02 2.99246542e+02 2.99037522e+02 2.98823132e+02\n",
      "  2.98601126e+02 2.98324016e+02 2.98070757e+02 2.97830603e+02\n",
      "  2.97720145e+02 2.97530293e+02 2.97330737e+02 2.97126939e+02\n",
      "  2.96933186e+02 2.96825900e+02 2.96810126e+02 2.96956156e+02\n",
      "  2.97241352e+02 2.97478411e+02 2.97702960e+02 2.98029699e+02\n",
      "  2.98609275e+02 2.99084396e+02 2.99189974e+02 2.99381635e+02\n",
      "  2.99341681e+02 2.99250711e+02 2.99041591e+02 2.98827104e+02\n",
      "  2.98605002e+02 2.98327800e+02 2.98074450e+02 2.97834207e+02\n",
      "  2.97723663e+02 2.97533727e+02 2.97334089e+02 2.97130210e+02\n",
      "  2.96936379e+02 2.96829017e+02 2.96813168e+02 2.96959125e+02\n",
      "  2.97244250e+02 2.97481240e+02 2.97705721e+02 2.98032394e+02\n",
      "  2.98611905e+02 2.99086963e+02 2.99192480e+02 2.99384080e+02\n",
      "  2.99344068e+02 2.99253040e+02 2.99043865e+02 2.98829323e+02\n",
      "  2.98607169e+02 2.98329914e+02 2.98076514e+02 2.97836222e+02]]\n"
     ]
    }
   ],
   "source": [
    "print(resp.outputs)"
   ]
  },
  {
   "cell_type": "markdown",
   "id": "5a719bf8-831e-4fe6-9ead-a1be757996aa",
   "metadata": {},
   "source": [
    "Only keep the values of the last 24 hours of the simulation. We just take the outdoor air temperature `T_ext_db` (at row index 4) from the inputs, and the zone-air temperature `T_za` from the outputs (which is the only output)."
   ]
  },
  {
   "cell_type": "code",
   "execution_count": 17,
   "id": "3a8c579b-bc0c-4533-81c7-689c448daab8",
   "metadata": {},
   "outputs": [],
   "source": [
    "time = [h for h in range(24)]\n",
    "T_ext_db = Q_(resp.inputs[4, -24:].flatten(), 'K')\n",
    "T_za = Q_(resp.outputs[:, -24:].flatten(), 'K')"
   ]
  },
  {
   "cell_type": "markdown",
   "id": "c969e867-a4fd-45ef-8320-b018011ca7ab",
   "metadata": {},
   "source": [
    "Plot of the outdoor air dry-bulb temperature and the zone-air temperature together on one line chart:"
   ]
  },
  {
   "cell_type": "code",
   "execution_count": 18,
   "id": "814590f7-811c-4b9b-a970-8bbeb21bae8f",
   "metadata": {},
   "outputs": [
    {
     "data": {
      "image/png": "[encoded data removed]",
      "text/plain": [
       "<Figure size 640x480 with 1 Axes>"
      ]
     },
     "metadata": {},
     "output_type": "display_data"
    }
   ],
   "source": [
    "chart = LineChart()\n",
    "chart.add_xy_data(\n",
    "    label='T_ext_db',\n",
    "    x1_values=time,\n",
    "    y1_values=T_ext_db.to('degC').m,\n",
    ")\n",
    "chart.add_xy_data(\n",
    "    label='T_za',\n",
    "    x1_values=time,\n",
    "    y1_values=T_za.to('degC').m\n",
    ")\n",
    "chart.x1.add_title('time, hr')\n",
    "chart.y1.add_title('temperature, degC')\n",
    "chart.add_legend()\n",
    "chart.show()"
   ]
  },
  {
   "cell_type": "code",
   "execution_count": null,
   "id": "9683d0f7-c6c2-4a66-86d2-1f56f234f007",
   "metadata": {},
   "outputs": [],
   "source": []
  }
 ],
 "metadata": {
  "kernelspec": {
   "display_name": "Python 3 (ipykernel)",
   "language": "python",
   "name": "python3"
  },
  "language_info": {
   "codemirror_mode": {
    "name": "ipython",
    "version": 3
   },
   "file_extension": ".py",
   "mimetype": "text/x-python",
   "name": "python",
   "nbconvert_exporter": "python",
   "pygments_lexer": "ipython3",
   "version": "3.12.8"
  }
 },
 "nbformat": 4,
 "nbformat_minor": 5
}
