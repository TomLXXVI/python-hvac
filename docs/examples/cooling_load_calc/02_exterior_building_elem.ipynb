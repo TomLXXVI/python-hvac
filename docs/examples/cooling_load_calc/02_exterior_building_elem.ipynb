{
 "cells": [
  {
   "cell_type": "code",
   "execution_count": 1,
   "id": "48a5430a-31a3-4ada-9b14-c14b924c2547",
   "metadata": {},
   "outputs": [],
   "source": [
    "import sys\n",
    "if (path := \"C:/Users/Tom/PycharmProjects/python-hvac\") not in sys.path:\n",
    "    sys.path.append(path)"
   ]
  },
  {
   "cell_type": "code",
   "execution_count": 2,
   "id": "6be69ef0-2e24-4cfa-93b7-861e2a33d32e",
   "metadata": {},
   "outputs": [],
   "source": [
    "from hvac import Quantity, print_doc_string\n",
    "from hvac.charts import LineChart\n",
    "\n",
    "Q_ = Quantity"
   ]
  },
  {
   "cell_type": "markdown",
   "id": "da1490b5-3d4f-431c-b314-b564e1fb36ea",
   "metadata": {},
   "source": [
    "# Chapter 2: Conduction Heat Gain Through a Vertical Exterior Wall\n",
    "---"
   ]
  },
  {
   "cell_type": "markdown",
   "id": "d517c014-830b-4f73-bc3a-d6d23f498e6e",
   "metadata": {},
   "source": [
    "Once we know how to create construction assemblies, as demonstrated in notebook no. 1, we can continue to create exterior building elements. There are two types of building elements: exterior building elements, that separate a thermal zone in a building from the outdoor environment, and interior building elements that separate a thermal zone from adjacent thermal zones in the building. In this notebook no. 2 it is demonstrated how an exterior building element is created and how to determine the conduction heat gain through an exterior building element for a given interior, zone-air temperature."
   ]
  },
  {
   "cell_type": "markdown",
   "id": "ad2b63ca-54cc-41c0-85a3-d25fab2a224e",
   "metadata": {},
   "source": [
    "## Introducing the 'ExteriorBuildingElement' Class"
   ]
  },
  {
   "cell_type": "markdown",
   "id": "60bf40c3-65ca-4eec-b2b4-96139d2a16d8",
   "metadata": {},
   "source": [
    "A vertical exterior wall can be modeled by the `ExteriorBuildingElement` class."
   ]
  },
  {
   "cell_type": "code",
   "execution_count": 3,
   "id": "4e4df909-84f7-480f-9e5e-eecf2b679a8b",
   "metadata": {},
   "outputs": [],
   "source": [
    "from hvac.cooling_load_calc import ExteriorBuildingElement"
   ]
  },
  {
   "cell_type": "code",
   "execution_count": 4,
   "id": "1b73693f-0024-470e-be29-e8f1c5c95075",
   "metadata": {},
   "outputs": [
    {
     "name": "stdout",
     "output_type": "stream",
     "text": [
      "Represents an opaque exterior building element.\n",
      "\n",
      "An exterior building element is on one side exposed to the outdoor\n",
      "environment. The temperature on the exterior surface of the building element\n",
      "is the sol-air temperature. The sol-air-temperature will be calculated using\n",
      "the given climatic design information valid for the specified design day on \n",
      "the specified geographic location. \n",
      "\n",
      "The location, the design day and all climatic design information are\n",
      "encapsulated in an instance of class `WeatherData`.\n",
      "\n",
      "The material construction of an exterior building element is defined by its\n",
      "construction assembly, an object of class `ConstructionAssembly`.\n",
      "\n",
      "The conductive heat transfer through an exterior building element depends on\n",
      "its thermal mass (thermal inertia). To determine this time-dependent heat \n",
      "transfer, the exterior building element is modeled by a linear thermal \n",
      "network consisting of temperature nodes, which have a thermal capacitor \n",
      "(a \"heat reservoir\") and which are interconnected by thermal resistors (see \n",
      "module `thermal_models.ext_build_elem.py`).\n",
      "\n",
      "Parameter Types & Defaults\n",
      "--------------------------\n"
     ]
    }
   ],
   "source": [
    "print_doc_string(ExteriorBuildingElement)"
   ]
  },
  {
   "cell_type": "markdown",
   "id": "41037695-33ef-486a-8ada-5299046b85a4",
   "metadata": {},
   "source": [
    "To create an instance of the `ExteriorBuildingElement` class, we call its class method `create()`."
   ]
  },
  {
   "cell_type": "code",
   "execution_count": 5,
   "id": "f20a63ab-6f1f-4bdb-8cb7-1cb7f2e88173",
   "metadata": {},
   "outputs": [
    {
     "name": "stdout",
     "output_type": "stream",
     "text": [
      "Creates an `ExteriorBuildingElement` object.\n",
      "\n",
      "Parameters\n",
      "----------\n",
      "name:\n",
      "    Identifies the exterior building element.\n",
      "gross_area:\n",
      "    Gross surface area of the exterior building element, i.e. also\n",
      "    including any large openings, such as doors and windows.\n",
      "constr_assem:\n",
      "    Construction assembly the exterior building element is made of.\n",
      "weather_data:\n",
      "    Instance of class `WeatherData` encapsulating the climatic design\n",
      "    information needed to determine the solar radiation incident on the\n",
      "    exterior surface of the building element and its sol-air temperature\n",
      "    during the design day, which was specified on instantiation of the\n",
      "    `WeatherData` object.\n",
      "azimuth_angle:\n",
      "    The azimuth angle of the exterior building element. South = 0°,\n",
      "    West = +90° and East = -90°.\n",
      "slope_angle:\n",
      "    Slope angle of the exterior building element. E.g., a vertical\n",
      "    exterior wall has a slope angle of 90°.\n",
      "surface_color: optional\n",
      "    Either a 'dark' (default) or 'light' colored surface.\n",
      "R_surf: optional\n",
      "    Thermal resistance of the exterior surface film.\n",
      "a_surf: optional\n",
      "    Absorption factor of the exterior surface.\n",
      "rho_g: Quantity, default 0.2 frac\n",
      "    Ground reflectance.\n",
      "sky_model: str, {'anisotropic.hdkr, 'isotropic'}, optional\n",
      "    Sky model to be used for calculating the irradiation on the tilted\n",
      "    surface. By default, the anisotropic sky model according to Perez\n",
      "    is used.\n",
      "F_rad: default 0.46\n",
      "    Radiative fraction of the conduction heat gain through the exterior\n",
      "    building element, taken up by the interior thermal mass of the\n",
      "    space (see ASHRAE Fundamentals 2017, chapter 18, table 14).\n",
      "\n",
      "Notes\n",
      "-----\n",
      "If `R_surf` and `a_surf` are specified, parameter `surface_color` is\n",
      "ignored.\n",
      "\n",
      "Returns\n",
      "-------\n",
      "`ExteriorBuildingElement` object.\n",
      "\n",
      "Parameter Types & Defaults\n",
      "--------------------------\n",
      "name: 'str'\n",
      "gross_area: 'Quantity'\n",
      "constr_assem: 'ConstructionAssembly'\n",
      "weather_data: 'WeatherData'\n",
      "azimuth_angle: 'Quantity'\n",
      "slope_angle: 'Quantity'\n",
      "surface_color: 'str' = 'dark'\n",
      "R_surf: 'Quantity | None' = None\n",
      "a_surf: 'Quantity | None' = None\n",
      "rho_g: 'Quantity' = <Quantity(0.2, 'fraction')>\n",
      "sky_model: 'str' = ''\n",
      "F_rad: 'float' = 0.46\n"
     ]
    }
   ],
   "source": [
    "print_doc_string(ExteriorBuildingElement.create)"
   ]
  },
  {
   "cell_type": "markdown",
   "id": "b829d265-17ba-4204-802e-026a67167e3d",
   "metadata": {},
   "source": [
    "When we want to create an instance of class `ExteriorBuildingElement`, we see in the docstring, among other things, that we need to pass the construction assembly of the building element and also the weather data that is needed to compute the heat flow through the vertical exterior wall. "
   ]
  },
  {
   "cell_type": "markdown",
   "id": "e790a604-3ba3-47e4-b2a3-324ae4da90b9",
   "metadata": {},
   "source": [
    "## The 'WeatherData' and the 'Location' Class"
   ]
  },
  {
   "cell_type": "markdown",
   "id": "9da4bbf2-c9dd-4826-94eb-5d7e06184fa1",
   "metadata": {},
   "source": [
    "First, we will collect the weather data in a `WeatherData` object. This object is used to determine hourly profiles of the dry-bulb and wet-bulb outdoor air temperature and hourly profiles of solar radiation incident on the vertical exterior wall.  "
   ]
  },
  {
   "cell_type": "code",
   "execution_count": 6,
   "id": "f3a2b613-6765-44dc-94bf-a4f1efd00f6b",
   "metadata": {},
   "outputs": [],
   "source": [
    "from hvac.cooling_load_calc import WeatherData\n",
    "from hvac.sun import Location, ClimateType, ReferenceDates"
   ]
  },
  {
   "cell_type": "markdown",
   "id": "5abbe8cd-7aba-4506-b07c-cea3a1deddf4",
   "metadata": {},
   "source": [
    "To create the `WeatherData` object, we will use climatic design data taken from ASHRAE valid for the geographical location under consideration. To determine the path of the sun, we also need to give some details about the geographical location of the building. For this, we will instantiate the `Location` class."
   ]
  },
  {
   "cell_type": "code",
   "execution_count": 7,
   "id": "39507a1e-d8da-4ff8-9c54-2d26ed43722c",
   "metadata": {},
   "outputs": [
    {
     "name": "stdout",
     "output_type": "stream",
     "text": [
      "Creates a `Location` object for which the solar path and the solar\n",
      "radiation can be determined at a given date and solar time.\n",
      "\n",
      "Parameters\n",
      "----------\n",
      "fi:\n",
      "    Latitude of the location; north positive; -pi/2 <= fi <= pi/2\n",
      "L_loc:\n",
      "    Longitude of the location; positive east of Greenwich, negative\n",
      "    west of Greenwich.\n",
      "date: Date, optional\n",
      "    Current date at the location.\n",
      "solar_time: Time, optional\n",
      "    Current solar time at the location.\n",
      "altitude: Quantity, optional\n",
      "    Altitude of the location.\n",
      "climate_type:\n",
      "    Type of climate as defined in class `ClimateType`\n",
      "timezone: optional, default UTC\n",
      "    Tz-database identifier of the time zone of the location, indicating\n",
      "    the offset from UTC (e.g. Etc/GMT-1).\n",
      "    See: https://en.wikipedia.org/wiki/List_of_tz_database_time_zones\n",
      "    The time zone is only used to determine the local standard time\n",
      "    meridian. Do not specify a timezone with daylight saving time (DST),\n",
      "    should it be in use at the location under consideration, as this may\n",
      "    give errors at times when DST becomes active or inactive (e.g. use\n",
      "    'Etc/GMT-1' instead of 'Europe/Brussels').\n",
      "\n",
      "Parameter Types & Defaults\n",
      "--------------------------\n",
      "fi: pint.Quantity\n",
      "L_loc: pint.Quantity | None = None\n",
      "date: datetime.date | None = None\n",
      "solar_time: datetime.time | None = None\n",
      "altitude: pint.Quantity = <Quantity(0, 'meter')>\n",
      "climate_type: str = 'mid-latitude summer'\n",
      "timezone: str = 'UTC'\n"
     ]
    }
   ],
   "source": [
    "print_doc_string(Location.__init__)"
   ]
  },
  {
   "cell_type": "code",
   "execution_count": 8,
   "id": "933b20c1-ffcf-49ae-94ce-46fd7c3412ab",
   "metadata": {},
   "outputs": [],
   "source": [
    "location = Location(\n",
    "    fi=Q_(51.183, 'deg'),\n",
    "    L_loc=Q_(3.8, 'deg'),\n",
    "    altitude=Q_(8, 'm'),\n",
    "    climate_type=ClimateType.MID_LATITUDE_SUMMER,\n",
    "    timezone='Etc/GMT-1'\n",
    ")"
   ]
  },
  {
   "cell_type": "markdown",
   "id": "bb70ead0-9f09-4fb3-8ff2-fc418e8c4dea",
   "metadata": {},
   "source": [
    "Now we can instantiate the `WeatherData` class."
   ]
  },
  {
   "cell_type": "code",
   "execution_count": 9,
   "id": "3d8e4d65-470b-48a3-a012-7378109fbb12",
   "metadata": {},
   "outputs": [
    {
     "name": "stdout",
     "output_type": "stream",
     "text": [
      "Creates a `WeatherData` object from information that can be looked up \n",
      "in e.g. ASHRAE's climatic design data tables.\n",
      "\n",
      "Parameters\n",
      "----------\n",
      "location:\n",
      "    Geographic location for which the weather data is valid.\n",
      "date:\n",
      "    Date for which the weather data is valid, i.e. the \"design day\".\n",
      "T_db_des:\n",
      "    Monthly design dry-bulb temperature, i.e., the maximum temperature\n",
      "    on the selected day.\n",
      "T_db_rng:\n",
      "    Mean daily temperature range, i.e., the difference between the\n",
      "    maximum and the minimum temperature on the selected day.\n",
      "T_wb_mc:\n",
      "    Mean coincident wet-bulb temperature.\n",
      "T_wb_rng:\n",
      "    Mean coincident daily wet-bulb temperature range.\n",
      "H_avg: optional\n",
      "    Monthly average daily global radiation on a horizontal surface.\n",
      "K_T_avg: optional\n",
      "    Monthly average daily clearness index.\n",
      "\n",
      "Notes\n",
      "-----\n",
      "1. If neither `H_avg`, nor `K_T_avg` is specified, the clear-sky model\n",
      "will be used to determine solar radiation incident on surfaces.\n",
      "\n",
      "2. Hourly values of dry-bulb and wet-bulb temperature are determined\n",
      "with the correlation of Erbs et al. (1983).\n",
      "\n",
      "3. In case `H_avg` or `K_T_avg` is specified, correlations are used to\n",
      "determine a daily distribution of the solar radiation on the specified\n",
      "`date`. For a given monthly average of the daily irradiation `H_avg` or\n",
      "a monthly average of the daily clearness index `K_T_avg` multiple\n",
      "distributions of daily solar radiation are possible. This means that\n",
      "for a given `date` different results may appear each time the code is\n",
      "called.\n",
      "\n",
      "References\n",
      "----------\n",
      "ASHRAE Handbook-Fundamentals 2017, Chapter 14 Climatic Design\n",
      "Information.\n",
      "\n",
      "Parameter Types & Defaults\n",
      "--------------------------\n",
      "location: 'Location'\n",
      "date: 'Date'\n",
      "T_db_des: 'Quantity'\n",
      "T_db_rng: 'Quantity'\n",
      "T_wb_mc: 'Quantity'\n",
      "T_wb_rng: 'Quantity'\n",
      "H_avg: 'Quantity | None' = None\n",
      "K_T_avg: 'float | None' = None\n"
     ]
    }
   ],
   "source": [
    "print_doc_string(WeatherData.create_from_climatic_design_data)"
   ]
  },
  {
   "cell_type": "code",
   "execution_count": 10,
   "id": "65eee9f5-7b52-4dfb-82ef-cfed4e513a98",
   "metadata": {},
   "outputs": [],
   "source": [
    "weather_data = WeatherData.create_from_climatic_design_data(\n",
    "    location=location,\n",
    "    date=ReferenceDates.get_date_for('Jun'),  # this returns the \"design day\" for June\n",
    "    T_db_des=Q_(24.2, 'degC'),\n",
    "    T_db_rng=Q_(11.8, 'K'),\n",
    "    T_wb_mc=Q_(18.0, 'degC'),\n",
    "    T_wb_rng=Q_(5.6, 'K')\n",
    ")"
   ]
  },
  {
   "cell_type": "markdown",
   "id": "809b2d0d-9170-49e0-b45e-c1ac2f583138",
   "metadata": {},
   "source": [
    "## Loading the Construction Assembly"
   ]
  },
  {
   "cell_type": "markdown",
   "id": "7f51863b-ae3c-4255-b488-264efa773293",
   "metadata": {},
   "source": [
    "We will use the construction assembly that we have created and saved on a shelf in the previous notebook no. 1."
   ]
  },
  {
   "cell_type": "code",
   "execution_count": 11,
   "id": "9fc5ee76-2812-45f0-b127-73a9653cd346",
   "metadata": {},
   "outputs": [],
   "source": [
    "from hvac.cooling_load_calc import ConstructionAssembly"
   ]
  },
  {
   "cell_type": "code",
   "execution_count": 12,
   "id": "57f0dac1-1527-4178-aea5-dae1f4163aaf",
   "metadata": {},
   "outputs": [],
   "source": [
    "ConstructionAssembly.db_path = \"./construction_shelf/assemblies\"\n",
    "constr_assem = ConstructionAssembly.load('exterior-wall')"
   ]
  },
  {
   "cell_type": "markdown",
   "id": "d010618c-c0f2-4e62-bc7a-6f3c17d96ccb",
   "metadata": {},
   "source": [
    "We can have a look at the layers the construction assembly is composed of."
   ]
  },
  {
   "cell_type": "code",
   "execution_count": 13,
   "id": "9428d3c2-3535-4906-8157-01f7784f3df4",
   "metadata": {},
   "outputs": [
    {
     "name": "stdout",
     "output_type": "stream",
     "text": [
      "construction assembly: exterior-wall\n",
      "SurfaceFilm 'ext-surf-film': t = 0.000 m, R = 0.04 K·m²/W, C = 0.00 J/K/m², nodes = 1\n",
      "SolidLayer 'brick-wall-15': t = 0.150 m, R = 0.09 K·m²/W, C = 189000.00 J/K/m², nodes = 5\n",
      "AirLayer 'air-layer': t = 0.050 m, R = 0.15 K·m²/W, C = 0.00 J/K/m², nodes = 1\n",
      "SolidLayer 'brick-wall-18': t = 0.180 m, R = 0.11 K·m²/W, C = 226800.00 J/K/m², nodes = 6\n",
      "SolidLayer 'gypsum': t = 0.015 m, R = 0.03 K·m²/W, C = 16380.00 J/K/m², nodes = 1\n",
      "SurfaceFilm 'int-surf-film': t = 0.000 m, R = 0.13 K·m²/W, C = 0.00 J/K/m², nodes = 1\n",
      "\n"
     ]
    }
   ],
   "source": [
    "print(constr_assem)"
   ]
  },
  {
   "cell_type": "markdown",
   "id": "6c767974-a079-4085-a523-c85deebd3364",
   "metadata": {},
   "source": [
    "## Instantiating the 'ExteriorBuildingElement' Class"
   ]
  },
  {
   "cell_type": "markdown",
   "id": "43b8305a-60cf-404e-91b5-090fe2c4b8d6",
   "metadata": {},
   "source": [
    "Now we have everything to instantiate the `ExteriorBuildingElement` object."
   ]
  },
  {
   "cell_type": "code",
   "execution_count": 14,
   "id": "48b288d1-49fc-4e04-8a40-a0533d419d6a",
   "metadata": {},
   "outputs": [],
   "source": [
    "ext_wall = ExteriorBuildingElement.create(\n",
    "    name='exterior-wall',\n",
    "    gross_area=Q_(10, 'm') * Q_(3, 'm'),  # surface area of the wall\n",
    "    constr_assem=constr_assem,\n",
    "    weather_data=weather_data,\n",
    "    azimuth_angle=Q_(0, 'deg'),  # oriented to the south\n",
    "    slope_angle=Q_(90, 'deg')   # vertical wall\n",
    ")"
   ]
  },
  {
   "cell_type": "markdown",
   "id": "1e8cf0f8-e2c1-49ca-b396-047839543bcc",
   "metadata": {},
   "source": [
    "## Conduction Heat Gain through the Exterior Vertical Wall"
   ]
  },
  {
   "cell_type": "markdown",
   "id": "cc8df317-ad03-4207-b214-c398586061de",
   "metadata": {},
   "source": [
    "Once an exterior building element has been instantiated, we can use it to determine its conduction heat gain on the selected design day, which we have specified when instantiating the `WeatherData` object.\n",
    "\n",
    "To calculate the heat flow on the interior side of the exterior wall, a linear thermal network model of the wall is used to take the effect of the distributed thermal capacity of the wall materials (\"thermal mass\", \"thermal inertia\") into account. The number of temperature nodes in the linear thermal network is determined by the number of slices that were assigned when creating the solid construction layers of the construction assembly. When we printed the construction assembly of the wall in a code block above, the number of temperature nodes (slices) of each layer were also indicated. \n",
    "\n",
    "The heat flow at the interior side (i.e. the actual conduction heat gain) is also split into a convective fraction, which is directly transferred to the zone air, and a radiative fraction, which is transferred to the internal mass of the zone, according to the Radiant-Time-Series (RTS) method of ASHRAE. The default radiative fraction is set to 0.46. This fraction can be modified through parameter `F_rad` in the call to `create()` when instantiating the exterior building element. Appropriate values for this parameter can be found e.g. in ASHRAE Handbook 2017, Chapter 18, Table 14."
   ]
  },
  {
   "cell_type": "code",
   "execution_count": 15,
   "id": "5402cdc0-cae9-4fc6-ba49-74aba9828f72",
   "metadata": {},
   "outputs": [],
   "source": [
    "Q_cnd, Q_cnd_cv, Q_cnd_rad = ext_wall.conduction_heat_gain(T_za=Q_(22, 'degC'))"
   ]
  },
  {
   "cell_type": "markdown",
   "id": "74540a38-27ba-4cc3-b692-5d972226ba0c",
   "metadata": {},
   "source": [
    "Parameter `T_za` is the fixed zone-air temperature on the interior side of the wall.\n",
    "\n",
    "Method `conduction_heat_gain` returns the hourly values of the global conduction heat gain through the vertical exterior wall on the selected design day, the convective fraction of this conduction heat gain, and the radiative fraction of this conduction heat gain. We can display these values in a Pandas `DataFrame` object and also plot them on a line chart."
   ]
  },
  {
   "cell_type": "code",
   "execution_count": 16,
   "id": "835d14d8-3001-47f7-be8d-285740b51263",
   "metadata": {},
   "outputs": [
    {
     "data": {
      "text/html": [
       "<div>\n",
       "<style scoped>\n",
       "    .dataframe tbody tr th:only-of-type {\n",
       "        vertical-align: middle;\n",
       "    }\n",
       "\n",
       "    .dataframe tbody tr th {\n",
       "        vertical-align: top;\n",
       "    }\n",
       "\n",
       "    .dataframe thead th {\n",
       "        text-align: right;\n",
       "    }\n",
       "</style>\n",
       "<table border=\"1\" class=\"dataframe\">\n",
       "  <thead>\n",
       "    <tr style=\"text-align: right;\">\n",
       "      <th></th>\n",
       "      <th>Q_cnd</th>\n",
       "      <th>Q_cnd_cv</th>\n",
       "      <th>Q_cnd_rad</th>\n",
       "    </tr>\n",
       "  </thead>\n",
       "  <tbody>\n",
       "    <tr>\n",
       "      <th>0</th>\n",
       "      <td>449.609328</td>\n",
       "      <td>242.789037</td>\n",
       "      <td>206.820291</td>\n",
       "    </tr>\n",
       "    <tr>\n",
       "      <th>1</th>\n",
       "      <td>398.183728</td>\n",
       "      <td>215.019213</td>\n",
       "      <td>183.164515</td>\n",
       "    </tr>\n",
       "    <tr>\n",
       "      <th>2</th>\n",
       "      <td>340.451624</td>\n",
       "      <td>183.843877</td>\n",
       "      <td>156.607747</td>\n",
       "    </tr>\n",
       "    <tr>\n",
       "      <th>3</th>\n",
       "      <td>278.727804</td>\n",
       "      <td>150.513014</td>\n",
       "      <td>128.214790</td>\n",
       "    </tr>\n",
       "    <tr>\n",
       "      <th>4</th>\n",
       "      <td>215.374823</td>\n",
       "      <td>116.302404</td>\n",
       "      <td>99.072419</td>\n",
       "    </tr>\n",
       "    <tr>\n",
       "      <th>5</th>\n",
       "      <td>152.891135</td>\n",
       "      <td>82.561213</td>\n",
       "      <td>70.329922</td>\n",
       "    </tr>\n",
       "    <tr>\n",
       "      <th>6</th>\n",
       "      <td>93.723484</td>\n",
       "      <td>50.610681</td>\n",
       "      <td>43.112803</td>\n",
       "    </tr>\n",
       "    <tr>\n",
       "      <th>7</th>\n",
       "      <td>40.788875</td>\n",
       "      <td>22.025993</td>\n",
       "      <td>18.762883</td>\n",
       "    </tr>\n",
       "    <tr>\n",
       "      <th>8</th>\n",
       "      <td>-2.798464</td>\n",
       "      <td>-1.511170</td>\n",
       "      <td>-1.287293</td>\n",
       "    </tr>\n",
       "    <tr>\n",
       "      <th>9</th>\n",
       "      <td>-33.617429</td>\n",
       "      <td>-18.153412</td>\n",
       "      <td>-15.464017</td>\n",
       "    </tr>\n",
       "    <tr>\n",
       "      <th>10</th>\n",
       "      <td>-45.646843</td>\n",
       "      <td>-24.649295</td>\n",
       "      <td>-20.997548</td>\n",
       "    </tr>\n",
       "    <tr>\n",
       "      <th>11</th>\n",
       "      <td>-32.232536</td>\n",
       "      <td>-17.405569</td>\n",
       "      <td>-14.826967</td>\n",
       "    </tr>\n",
       "    <tr>\n",
       "      <th>12</th>\n",
       "      <td>9.590267</td>\n",
       "      <td>5.178744</td>\n",
       "      <td>4.411523</td>\n",
       "    </tr>\n",
       "    <tr>\n",
       "      <th>13</th>\n",
       "      <td>77.568685</td>\n",
       "      <td>41.887090</td>\n",
       "      <td>35.681595</td>\n",
       "    </tr>\n",
       "    <tr>\n",
       "      <th>14</th>\n",
       "      <td>164.719839</td>\n",
       "      <td>88.948713</td>\n",
       "      <td>75.771126</td>\n",
       "    </tr>\n",
       "    <tr>\n",
       "      <th>15</th>\n",
       "      <td>260.932340</td>\n",
       "      <td>140.903464</td>\n",
       "      <td>120.028877</td>\n",
       "    </tr>\n",
       "    <tr>\n",
       "      <th>16</th>\n",
       "      <td>354.845698</td>\n",
       "      <td>191.616677</td>\n",
       "      <td>163.229021</td>\n",
       "    </tr>\n",
       "    <tr>\n",
       "      <th>17</th>\n",
       "      <td>435.492631</td>\n",
       "      <td>235.166020</td>\n",
       "      <td>200.326610</td>\n",
       "    </tr>\n",
       "    <tr>\n",
       "      <th>18</th>\n",
       "      <td>494.377943</td>\n",
       "      <td>266.964089</td>\n",
       "      <td>227.413854</td>\n",
       "    </tr>\n",
       "    <tr>\n",
       "      <th>19</th>\n",
       "      <td>528.532921</td>\n",
       "      <td>285.407777</td>\n",
       "      <td>243.125144</td>\n",
       "    </tr>\n",
       "    <tr>\n",
       "      <th>20</th>\n",
       "      <td>539.206951</td>\n",
       "      <td>291.171754</td>\n",
       "      <td>248.035198</td>\n",
       "    </tr>\n",
       "    <tr>\n",
       "      <th>21</th>\n",
       "      <td>528.540066</td>\n",
       "      <td>285.411636</td>\n",
       "      <td>243.128431</td>\n",
       "    </tr>\n",
       "    <tr>\n",
       "      <th>22</th>\n",
       "      <td>499.744258</td>\n",
       "      <td>269.861899</td>\n",
       "      <td>229.882359</td>\n",
       "    </tr>\n",
       "    <tr>\n",
       "      <th>23</th>\n",
       "      <td>457.079342</td>\n",
       "      <td>246.822845</td>\n",
       "      <td>210.256497</td>\n",
       "    </tr>\n",
       "  </tbody>\n",
       "</table>\n",
       "</div>"
      ],
      "text/plain": [
       "         Q_cnd    Q_cnd_cv   Q_cnd_rad\n",
       "0   449.609328  242.789037  206.820291\n",
       "1   398.183728  215.019213  183.164515\n",
       "2   340.451624  183.843877  156.607747\n",
       "3   278.727804  150.513014  128.214790\n",
       "4   215.374823  116.302404   99.072419\n",
       "5   152.891135   82.561213   70.329922\n",
       "6    93.723484   50.610681   43.112803\n",
       "7    40.788875   22.025993   18.762883\n",
       "8    -2.798464   -1.511170   -1.287293\n",
       "9   -33.617429  -18.153412  -15.464017\n",
       "10  -45.646843  -24.649295  -20.997548\n",
       "11  -32.232536  -17.405569  -14.826967\n",
       "12    9.590267    5.178744    4.411523\n",
       "13   77.568685   41.887090   35.681595\n",
       "14  164.719839   88.948713   75.771126\n",
       "15  260.932340  140.903464  120.028877\n",
       "16  354.845698  191.616677  163.229021\n",
       "17  435.492631  235.166020  200.326610\n",
       "18  494.377943  266.964089  227.413854\n",
       "19  528.532921  285.407777  243.125144\n",
       "20  539.206951  291.171754  248.035198\n",
       "21  528.540066  285.411636  243.128431\n",
       "22  499.744258  269.861899  229.882359\n",
       "23  457.079342  246.822845  210.256497"
      ]
     },
     "execution_count": 16,
     "metadata": {},
     "output_type": "execute_result"
    }
   ],
   "source": [
    "import pandas as pd\n",
    "\n",
    "df = pd.DataFrame({\n",
    "    'Q_cnd': Q_cnd.to('W').m,\n",
    "    'Q_cnd_cv': Q_cnd_cv.to('W').m,\n",
    "    'Q_cnd_rad': Q_cnd_rad.to('W').m\n",
    "})\n",
    "df"
   ]
  },
  {
   "cell_type": "code",
   "execution_count": 17,
   "id": "c9749fd8-a0e1-435a-9542-0ce042907770",
   "metadata": {},
   "outputs": [
    {
     "data": {
      "image/png": "[encoded data removed]",
      "text/plain": [
       "<Figure size 640x480 with 1 Axes>"
      ]
     },
     "metadata": {},
     "output_type": "display_data"
    }
   ],
   "source": [
    "chart = LineChart()\n",
    "chart.add_xy_data(\n",
    "    label='conduction heat gain',\n",
    "    x1_values=df.index,\n",
    "    y1_values=df['Q_cnd']\n",
    ")\n",
    "chart.add_xy_data(\n",
    "    label='convective fraction',\n",
    "    x1_values=df.index,\n",
    "    y1_values=df['Q_cnd_cv']\n",
    ")\n",
    "chart.add_xy_data(\n",
    "    label='radiative fraction',\n",
    "    x1_values=df.index,\n",
    "    y1_values=df['Q_cnd_rad']\n",
    ")\n",
    "chart.add_legend(columns=3)\n",
    "chart.x1.add_title('time, hr')\n",
    "chart.y1.add_title('heat rate, W')\n",
    "chart.x1.scale(0, 25, 1)\n",
    "chart.show()"
   ]
  },
  {
   "cell_type": "code",
   "execution_count": null,
   "id": "16d1f836-d684-4b85-9880-02327ab4d31a",
   "metadata": {},
   "outputs": [],
   "source": []
  }
 ],
 "metadata": {
  "kernelspec": {
   "display_name": "Python 3 (ipykernel)",
   "language": "python",
   "name": "python3"
  },
  "language_info": {
   "codemirror_mode": {
    "name": "ipython",
    "version": 3
   },
   "file_extension": ".py",
   "mimetype": "text/x-python",
   "name": "python",
   "nbconvert_exporter": "python",
   "pygments_lexer": "ipython3",
   "version": "3.12.8"
  }
 },
 "nbformat": 4,
 "nbformat_minor": 5
}
