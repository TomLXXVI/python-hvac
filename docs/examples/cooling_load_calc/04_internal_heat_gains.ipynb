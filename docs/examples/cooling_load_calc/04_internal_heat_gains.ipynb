{
 "cells": [
  {
   "cell_type": "code",
   "execution_count": 1,
   "id": "2e9b4f10-8b52-43d0-8079-74702cbfb359",
   "metadata": {},
   "outputs": [],
   "source": [
    "import sys\n",
    "if (path := \"C:/Users/Tom/PycharmProjects/python-hvac\") not in sys.path:\n",
    "    sys.path.append(path)"
   ]
  },
  {
   "cell_type": "code",
   "execution_count": 2,
   "id": "b53dae19-b104-4c38-b6ba-373f084fba59",
   "metadata": {},
   "outputs": [],
   "source": "from hvac import Quantity, print_doc_string"
  },
  {
   "cell_type": "markdown",
   "id": "d1113d06-843d-43ff-841c-a51b24c35448",
   "metadata": {},
   "source": [
    "# Chapter 4: Internal Heat Gains in a Thermal Zone\n",
    "---"
   ]
  },
  {
   "cell_type": "markdown",
   "id": "f899574a-76f7-43fd-a49b-85ebdfdb2ba2",
   "metadata": {},
   "source": [
    "Equipment, lighting, and people in a thermal zone of the building give off heat to the space. Data to estimate the internal heat gains from equipment, lighting and people can be found e.g. in ASHRAE Fundamentals 2017, Chapter 18 (Nonresidential Cooling and Heating Load Calculations). Three classes are available to represent the different types of internal heat gain:\n",
    "- class `EquipmentHeatGain`\n",
    "- class `LightingHeatGain`\n",
    "- class `PeopleHeatGain`"
   ]
  },
  {
   "cell_type": "code",
   "execution_count": 3,
   "id": "2a81ce9c-0cca-4e1c-8fbd-31fb532ff5ff",
   "metadata": {},
   "outputs": [],
   "source": [
    "from hvac.cooling_load_calc import (\n",
    "    EquipmentHeatGain,\n",
    "    LightingHeatGain,\n",
    "    PeopleHeatGain\n",
    ")\n",
    "\n",
    "Q_ = Quantity"
   ]
  },
  {
   "cell_type": "markdown",
   "id": "d861daab-8a16-4951-8932-6b17034226c3",
   "metadata": {},
   "source": [
    "## Internal Heat Gain from Equipment"
   ]
  },
  {
   "cell_type": "markdown",
   "id": "ad643dd6-e6f6-4c91-a066-42a816cb84ae",
   "metadata": {},
   "source": [
    "Module `equipment.py` in subpackage `cooling_load_calc.internal_heat_gains` defines a number of equipment classes:\n",
    "- class `Machine`\n",
    "- class `HoodedCookingAppliance`\n",
    "- class `OfficeAppliance`\n",
    "- class `OfficeEquipment`\n",
    "- class `GenericAppliance`"
   ]
  },
  {
   "cell_type": "code",
   "execution_count": 4,
   "id": "59c05629-dbc0-45f5-bd87-b071b0b14cff",
   "metadata": {},
   "outputs": [],
   "source": [
    "from hvac.cooling_load_calc import (\n",
    "    Machine,\n",
    "    HoodedCookingAppliance,\n",
    "    OfficeAppliance,\n",
    "    OfficeEquipment,\n",
    "    GenericAppliance\n",
    ")"
   ]
  },
  {
   "cell_type": "markdown",
   "id": "c83364cc-ed66-4847-9596-8a2f532cac8c",
   "metadata": {},
   "source": [
    "Objects from these classes are instantiated by calling the class method `create(...)`."
   ]
  },
  {
   "cell_type": "markdown",
   "id": "b95b70b0-edcd-4950-8a1b-8ff42f0aa267",
   "metadata": {},
   "source": [
    "### Machine"
   ]
  },
  {
   "cell_type": "code",
   "execution_count": 5,
   "id": "a0837a12-cbc4-41ef-9e9c-6132f2858132",
   "metadata": {},
   "outputs": [
    {
     "name": "stdout",
     "output_type": "stream",
     "text": [
      "Creates a `Machine` object.\n",
      "\n",
      "Parameters\n",
      "----------\n",
      "name:\n",
      "    Identifies the machine.\n",
      "P_motor:\n",
      "    Motor power nameplate rating.\n",
      "eta_motor:\n",
      "    Motor efficiency. See e.g. ASHRAE Fundamentals 2017, Chapter 18,\n",
      "    Tables 4A and 4B.\n",
      "configuration:\n",
      "    See `Enum` subclass `Configuration` in class `Machine`:\n",
      "    - `Configuration.MOTOR_AND_MACHINE`: the motor and the driven\n",
      "       machine are both in the conditioned space.\n",
      "    - `Configuration.ONLY_MACHINE`: only the driven machine is in the\n",
      "       conditioned space.\n",
      "    - `Configuration.ONLY_MOTOR`: only the motor is in the conditioned\n",
      "       space (e.g. a fan in the conditioned space that exhausts air\n",
      "       outside that space).\n",
      "schedule:\n",
      "    Function with signature `f(t_sol_sec: float) -> float` that takes the\n",
      "    solar time `t_sol_sec` in seconds since midnight (0 s) and returns\n",
      "    a float between 0 and 1, where 0 stands for completely off and 1\n",
      "    for running at full power.\n",
      "F_rad:\n",
      "    The radiative fraction is the radiative part of the machine heat\n",
      "    gain that goes to the room.\n",
      "\n",
      "Parameter Types & Defaults\n",
      "--------------------------\n",
      "name: 'str'\n",
      "P_motor: 'Quantity'\n",
      "eta_motor: 'Quantity'\n",
      "configuration: 'Configuration'\n",
      "schedule: 'Callable[[float], float]'\n",
      "F_rad: 'float' = 0.5\n"
     ]
    }
   ],
   "source": [
    "print_doc_string(Machine.create)"
   ]
  },
  {
   "cell_type": "markdown",
   "id": "86d4f1ec-0e43-4b0c-838b-034c4a87c146",
   "metadata": {},
   "source": [
    "A **schedule** allows to change the operation of a machine in the course of the day. It must be a function that takes the time of the day and returns a fraction of the rated motor load. This fraction is the product of the motor use factor and the motor load factor (see ASHRAE Fundamentals 2017, Chapter 18, §2.3).\n",
    "\n",
    "A schedule expects the time of the day to be expressed in solar seconds since midnight. However, we are used to clock time. Therefore, the package `cooling_load_calc` has functions to convert solar seconds since midnight to clock time and vice versa."
   ]
  },
  {
   "cell_type": "code",
   "execution_count": 6,
   "id": "ad965f41-1de8-4f59-8bf4-9515ccbcf1a7",
   "metadata": {},
   "outputs": [],
   "source": [
    "from hvac.sun import ReferenceDates\n",
    "from hvac.cooling_load_calc import convert_to_clock_time"
   ]
  },
  {
   "cell_type": "code",
   "execution_count": 7,
   "id": "12c59933-9c6f-43cf-ba5e-c615d1921aa3",
   "metadata": {},
   "outputs": [
    {
     "name": "stdout",
     "output_type": "stream",
     "text": [
      "Converts local solar time in seconds from midnight to local solar time in\n",
      "date-time format and to local standard time in date-time format.\n",
      "\n",
      "Parameters\n",
      "----------\n",
      "t_sol_sec:\n",
      "    Solar time in seconds from midnight (midnight is 0 s).\n",
      "date:\n",
      "    The date of the day under consideration.\n",
      "L_loc:\n",
      "    The longitude of the location under consideration. East from Greenwich\n",
      "    is a positive angle, and west is a negative angle.\n",
      "tz_loc:\n",
      "    The time zone of the location according to the tz database notation.\n",
      "\n",
      "Returns\n",
      "-------\n",
      "A 2-tuple with:\n",
      "-   Python datetime object representing the date and local standard time that\n",
      "    corresponds with the given solar time in seconds.\n",
      "-   Python datetime object representing the date and local solar time that\n",
      "    corresponds with the given solar time in seconds.\n",
      "\n",
      "Parameter Types & Defaults\n",
      "--------------------------\n",
      "t_sol_sec: float\n",
      "date: datetime.date\n",
      "L_loc: pint.Quantity\n",
      "tz_loc: str\n"
     ]
    }
   ],
   "source": [
    "print_doc_string(convert_to_clock_time)"
   ]
  },
  {
   "cell_type": "code",
   "execution_count": 8,
   "id": "fccecaf6-1bb0-4efe-96aa-77ff08efc1d8",
   "metadata": {},
   "outputs": [],
   "source": [
    "L_loc = Q_(3.8, 'deg')\n",
    "date = ReferenceDates.get_date_for('Jun')\n",
    "tz_loc = \"Europe/Brussels\"\n",
    "\n",
    "def eqp_schedule(t_sol_sec: float) -> float:\n",
    "    t_clock, _ = convert_to_clock_time(t_sol_sec, date, L_loc, tz_loc)\n",
    "    t_hour = t_clock.time().hour\n",
    "    if 8 <= t_hour < 12:\n",
    "        return 1.0\n",
    "    elif 12 <= t_hour < 14:\n",
    "        return 0.5\n",
    "    elif 14 <= t_hour < 17:\n",
    "        return 0.8\n",
    "    else:\n",
    "        return 0.0\n"
   ]
  },
  {
   "cell_type": "code",
   "execution_count": 9,
   "id": "cd16d3b6-2a18-457e-91a1-2d87dcfbe16f",
   "metadata": {},
   "outputs": [],
   "source": [
    "machine = Machine.create(\n",
    "    name='machine_1',\n",
    "    P_motor=Q_(7.5, 'kW'),\n",
    "    eta_motor=Q_(91.7, 'pct'),\n",
    "    configuration=Machine.Configuration.MOTOR_AND_MACHINE,\n",
    "    schedule=eqp_schedule\n",
    ")"
   ]
  },
  {
   "cell_type": "markdown",
   "id": "904a87de-ea8a-4bf6-8bdb-1ea42715449a",
   "metadata": {},
   "source": [
    "### Hooded Cooking Appliance"
   ]
  },
  {
   "cell_type": "code",
   "execution_count": 10,
   "id": "c301bc8a-0f7f-4e01-9b65-8da8a21b0a99",
   "metadata": {},
   "outputs": [
    {
     "name": "stdout",
     "output_type": "stream",
     "text": [
      "Creates a `HoodedCookingAppliance` object.\n",
      "(See ASHRAE Fundamentals 2017, Chapter 18, Tables 5A to 5E).\n",
      "\n",
      "Parameters\n",
      "----------\n",
      "name:\n",
      "    Identifies the appliance.\n",
      "P_rated:\n",
      "    Nameplate or rated energy input rating.\n",
      "F_U:\n",
      "    Usage factor applied to the nameplate rating that determines the\n",
      "    average rate of appliance energy consumption.\n",
      "F_rad:\n",
      "    The radiative fraction is the radiative part of the cooking\n",
      "    appliance heat gain that goes to the space.\n",
      "schedule:\n",
      "    Function with signature `f(t_sol_sec: float) -> float` that takes the\n",
      "    solar time `t_sol_sec` in seconds from midnight (0 s) and returns\n",
      "    a float between 0 and 1, where 0 stands for completely off and 1\n",
      "    for running at full power.\n",
      "\n",
      "Parameter Types & Defaults\n",
      "--------------------------\n",
      "name: 'str'\n",
      "P_rated: 'Quantity'\n",
      "F_U: 'float'\n",
      "F_rad: 'float'\n",
      "schedule: 'Callable[[float], float]'\n"
     ]
    }
   ],
   "source": [
    "print_doc_string(HoodedCookingAppliance.create)"
   ]
  },
  {
   "cell_type": "code",
   "execution_count": 11,
   "id": "38717e9c-8ed8-4bc2-9377-80c1f037e5f4",
   "metadata": {},
   "outputs": [],
   "source": [
    "oven = HoodedCookingAppliance.create(\n",
    "    name='oven',\n",
    "    P_rated=Q_(16, 'kW'),\n",
    "    F_U=0.16,\n",
    "    F_rad=0.22,\n",
    "    schedule=eqp_schedule\n",
    ")"
   ]
  },
  {
   "cell_type": "markdown",
   "id": "ea75e30f-6bf6-4374-ae3f-63a6c5c6ed1b",
   "metadata": {},
   "source": [
    "### Office Appliance"
   ]
  },
  {
   "cell_type": "code",
   "execution_count": 12,
   "id": "be9bffa5-799a-4c0c-8bbe-469bf97251d4",
   "metadata": {},
   "outputs": [
    {
     "name": "stdout",
     "output_type": "stream",
     "text": [
      "Creates an `OfficeAppliance` object.\n",
      "\n",
      "Parameters\n",
      "----------\n",
      "name:\n",
      "    Identifies the office appliance.\n",
      "P_peak:\n",
      "    Peak heat gain.\n",
      "    - Computers: see ASHRAE Fundamentals 2017, Chapter 18, Tables 8A.\n",
      "      Approximately 90% convective heat gain and 10% radiative heat\n",
      "      gain.\n",
      "    - Laptops and laptop docking station: see ASHRAE Fundamentals 2017,\n",
      "      Chapter 18, Tables 8B. Approximately 75% convective heat gain and\n",
      "      25% radiative heat gain.\n",
      "    - Tablet PC: see ASHRAE Fundamentals 2017, Chapter 18, Tables 8C.\n",
      "    - Monitors: see ASHRAE Fundamentals 2017, Chapter 18, Table 8D.\n",
      "      Approximately 60% convective heat gain and 40% radiative heat\n",
      "      gain.\n",
      "    - Printers and copiers: see ASHRAE Fundamentals 2017, Chapter 18,\n",
      "      Table 9. Approximately 70% convective heat gain and 30% radiative\n",
      "      heat gain.\n",
      "    - Miscellaneous office equipment: see ASHRAE Fundamentals 2017,\n",
      "      Chapter 18, Table 10.\n",
      "F_rad:\n",
      "    The radiative fraction is the radiative part of the office appliance\n",
      "    heat gain that goes to the space.\n",
      "schedule:\n",
      "    Function with signature `f(t_sol_sec: float) -> float` that takes the\n",
      "    solar time `t_sol_sec` in seconds from midnight (0 s) and returns\n",
      "    a float between 0 and 1, where 0 stands for completely off and 1\n",
      "    for running at full power.\n",
      "\n",
      "Parameter Types & Defaults\n",
      "--------------------------\n",
      "name: 'str'\n",
      "P_peak: 'Quantity'\n",
      "F_rad: 'float'\n",
      "schedule: 'Callable[[float], float]'\n"
     ]
    }
   ],
   "source": [
    "print_doc_string(OfficeAppliance.create)"
   ]
  },
  {
   "cell_type": "code",
   "execution_count": 13,
   "id": "e9d62cb4-a60a-4064-8aa2-a5c485282cfa",
   "metadata": {},
   "outputs": [],
   "source": [
    "computer = OfficeAppliance.create(\n",
    "    name='computer',\n",
    "    P_peak=Q_(137, 'W'),\n",
    "    F_rad=0.1,\n",
    "    schedule=eqp_schedule\n",
    ")"
   ]
  },
  {
   "cell_type": "markdown",
   "id": "7cc15e2d-1fcd-4490-83be-2a4aaf7c1833",
   "metadata": {},
   "source": [
    "### Office Equipment"
   ]
  },
  {
   "cell_type": "code",
   "execution_count": 14,
   "id": "0bcbe696-d84a-4193-a551-9b9bf9cda195",
   "metadata": {},
   "outputs": [
    {
     "name": "stdout",
     "output_type": "stream",
     "text": [
      "Creates an `OfficeEquipment` object.\n",
      "\n",
      "Parameters\n",
      "----------\n",
      "name:\n",
      "    Identifies the object.\n",
      "heat_gain_density:\n",
      "    Heat gain per unit area, aka load factor. See ASHRAE Fundamentals\n",
      "    2017, Chapter 18, Table 11. The medium heat gain density is likely\n",
      "    to be appropriate for most standard offices.\n",
      "floor_area:\n",
      "    The floor area of the space.\n",
      "schedule:\n",
      "    Function with signature `f(t_sol_sec: float) -> float` that takes the\n",
      "    solar time `t_sol_sec` in seconds from midnight (0 s) and returns\n",
      "    a float between 0 and 1 which indicates the diversity factor.\n",
      "F_rad:\n",
      "    The radiative fraction is the radiative part of the office equipment\n",
      "    heat gain that goes to the space.\n",
      "\n",
      "Parameter Types & Defaults\n",
      "--------------------------\n",
      "name: 'str'\n",
      "heat_gain_density: 'Quantity'\n",
      "floor_area: 'Quantity'\n",
      "schedule: 'Callable[[float], float]'\n",
      "F_rad: 'float' = 0.3\n"
     ]
    }
   ],
   "source": [
    "print_doc_string(OfficeEquipment.create)"
   ]
  },
  {
   "cell_type": "code",
   "execution_count": 15,
   "id": "99b45703-d754-42f3-83f3-6ee58c487a08",
   "metadata": {},
   "outputs": [],
   "source": [
    "office_equipment = OfficeEquipment.create(\n",
    "    name='office-equipment',\n",
    "    heat_gain_density=Q_(7.79, 'W / m ** 2'),\n",
    "    floor_area=Q_(50, 'm **2'),\n",
    "    schedule=eqp_schedule,\n",
    ")"
   ]
  },
  {
   "cell_type": "markdown",
   "id": "24707911-b0f1-4347-ae1b-f7f49c552067",
   "metadata": {},
   "source": [
    "### Generic Appliance"
   ]
  },
  {
   "cell_type": "code",
   "execution_count": 16,
   "id": "0e029273-a734-4e7e-8152-58409fdfb3f6",
   "metadata": {},
   "outputs": [
    {
     "name": "stdout",
     "output_type": "stream",
     "text": [
      "Creates a `GenericAppliance` object of which the heat gain components\n",
      "are already known.\n",
      "\n",
      "Parameters\n",
      "----------\n",
      "name:\n",
      "    Identifies the appliance.\n",
      "Q_dot_sen_rd:\n",
      "    The radiative component of the sensible heat gain.\n",
      "Q_dot_sen_cv:\n",
      "    The convective component of the sensible heat gain.\n",
      "Q_dot_lat:\n",
      "    The latent heat gain from the appliance.\n",
      "schedule:\n",
      "    Function with signature `f(t_sol_sec: float) -> float` that takes the\n",
      "    solar time `t_sol_sec` in seconds from midnight (0 s) and returns\n",
      "    a float between 0 and 1, where 0 stands for completely off and 1\n",
      "    for running at full power.\n",
      "\n",
      "Parameter Types & Defaults\n",
      "--------------------------\n",
      "name: 'str'\n",
      "Q_dot_sen_rd: 'Quantity'\n",
      "Q_dot_sen_cv: 'Quantity'\n",
      "Q_dot_lat: 'Quantity'\n",
      "schedule: 'Callable[[float], float]'\n"
     ]
    }
   ],
   "source": [
    "print_doc_string(GenericAppliance.create)"
   ]
  },
  {
   "cell_type": "code",
   "execution_count": 17,
   "id": "3f966b8d-2510-4814-99f3-ccd993c5b58c",
   "metadata": {},
   "outputs": [],
   "source": [
    "generic_appliance = GenericAppliance.create(\n",
    "    name='generic-appliance',\n",
    "    Q_dot_sen_rd=Q_(50, 'W'),\n",
    "    Q_dot_sen_cv=Q_(75, 'W'),\n",
    "    Q_dot_lat=Q_(0, 'W'),\n",
    "    schedule=eqp_schedule\n",
    ")"
   ]
  },
  {
   "cell_type": "markdown",
   "id": "5829054f-c374-42cf-bdeb-71749a9239ca",
   "metadata": {},
   "source": [
    "### Equipment Heat Gain"
   ]
  },
  {
   "cell_type": "markdown",
   "id": "6d261c5d-85cc-4ccb-ba2d-a79d8e2ddf0a",
   "metadata": {},
   "source": [
    "An object of class `EquipmentHeatGain` can group multiple objects of the `Equipment` types."
   ]
  },
  {
   "cell_type": "code",
   "execution_count": 18,
   "id": "a2d8c25c-28ae-495c-aa4f-eeb19254d2ce",
   "metadata": {},
   "outputs": [
    {
     "name": "stdout",
     "output_type": "stream",
     "text": [
      "Represents the internal heat gain from equipment in the space.\n",
      "\n",
      "An `EquipmentHeatGain` object contains one or more `Equipment` objects\n",
      "(see module equipment.py). The user must create these objects with the\n",
      "necessary input data so that the heat gain of this equipment can be\n",
      "calculated.\n",
      "\n",
      "Parameter Types & Defaults\n",
      "--------------------------\n",
      "name: str\n"
     ]
    }
   ],
   "source": [
    "print_doc_string(EquipmentHeatGain)"
   ]
  },
  {
   "cell_type": "code",
   "execution_count": 19,
   "id": "a3af0125-297a-4f30-bb9d-4fecb052891b",
   "metadata": {},
   "outputs": [],
   "source": [
    "equipment_heat_gain = EquipmentHeatGain('equipment-heat-gain')\n",
    "\n",
    "equipment_heat_gain.add_equipment(machine)\n",
    "equipment_heat_gain.add_equipment(oven)\n",
    "equipment_heat_gain.add_equipment(computer)\n",
    "equipment_heat_gain.add_equipment(office_equipment)\n",
    "equipment_heat_gain.add_equipment(generic_appliance)"
   ]
  },
  {
   "cell_type": "code",
   "execution_count": 20,
   "id": "99cf92d9-92f6-404e-8a0f-a3fb26daa950",
   "metadata": {},
   "outputs": [
    {
     "name": "stdout",
     "output_type": "stream",
     "text": [
      "machine_1\n",
      "oven\n",
      "computer\n",
      "office-equipment\n",
      "generic-appliance\n"
     ]
    }
   ],
   "source": [
    "for equipment_ID in equipment_heat_gain.equipment.keys():\n",
    "    print(equipment_ID)"
   ]
  },
  {
   "cell_type": "code",
   "execution_count": 21,
   "id": "a4287d51-badf-4279-b009-addecc8bc1b6",
   "metadata": {},
   "outputs": [
    {
     "name": "stdout",
     "output_type": "stream",
     "text": [
      "16000.0 watt\n"
     ]
    }
   ],
   "source": [
    "oven = equipment_heat_gain.get_equipment('oven')\n",
    "print(oven.P_rated.to('W'))"
   ]
  },
  {
   "attachments": {},
   "cell_type": "markdown",
   "id": "e1e800ff-c934-499e-879a-6938d91a47e2",
   "metadata": {},
   "source": [
    "To get the equipment heat gain at a certain time of the day, method `Q_dot(...)` is used. It expects the time moment to be expressed in solar seconds from midnight.\n",
    "\n",
    "Suppose we want to know the equipment heat gain at 10 a.m. on the \"design day\" in June."
   ]
  },
  {
   "cell_type": "code",
   "execution_count": 22,
   "id": "19bbd16b-f816-4458-84de-431be2094600",
   "metadata": {},
   "outputs": [],
   "source": [
    "from datetime import time\n",
    "from hvac.cooling_load_calc import convert_to_solar_seconds"
   ]
  },
  {
   "cell_type": "code",
   "execution_count": 23,
   "id": "4bfbfad2-ef78-4bdd-af74-b60d4d288c8b",
   "metadata": {},
   "outputs": [
    {
     "data": {
      "text/plain": [
       "29760.38163"
      ]
     },
     "execution_count": 23,
     "metadata": {},
     "output_type": "execute_result"
    }
   ],
   "source": [
    "t_clock = time(10, 0, 0)\n",
    "t_sol_secs = convert_to_solar_seconds(\n",
    "    clock_time=t_clock,\n",
    "    date=ReferenceDates.get_date_for('Jun'),\n",
    "    L_loc=L_loc,\n",
    "    tz_loc=tz_loc\n",
    ")\n",
    "t_sol_secs"
   ]
  },
  {
   "cell_type": "code",
   "execution_count": 24,
   "id": "6dc0faf6-7516-44d1-95f5-4c44b1ea2108",
   "metadata": {},
   "outputs": [
    {
     "name": "stdout",
     "output_type": "stream",
     "text": [
      "- sensible equipment heat gain, convective fraction = 4560.4 W\n",
      "- sensible equipment heat gain, radiant fraction = 4833.2 W\n",
      "- latent equipment heat gain = 0.0 W\n"
     ]
    }
   ],
   "source": [
    "Q_eqp_hg_cv, Q_eqp_hg_rad, Q_eqp_hg_lat = equipment_heat_gain.Q_dot(t_sol_secs)\n",
    "print(\n",
    "    f\"- sensible equipment heat gain, convective fraction = {Q_eqp_hg_cv.to('W'):~P.1f}\",\n",
    "    f\"- sensible equipment heat gain, radiant fraction = {Q_eqp_hg_rad.to('W'):~P.1f}\",\n",
    "    f\"- latent equipment heat gain = {Q_eqp_hg_lat.to('W'):~P.1f}\",\n",
    "    sep='\\n'\n",
    ")"
   ]
  },
  {
   "cell_type": "markdown",
   "id": "cb17e2d5-9529-44f5-8864-60a259cb71df",
   "metadata": {},
   "source": [
    "## Internal Heat Gain from Lighting"
   ]
  },
  {
   "cell_type": "markdown",
   "id": "beafe00c-74d9-49a1-8aba-02663b14f513",
   "metadata": {},
   "source": [
    "Module `lighting.py` in subpackage `cooling_load_calc.internal_heat_gains` defines two classes:\n",
    "- class `LightingFixture`\n",
    "- class `SpaceLighting`"
   ]
  },
  {
   "cell_type": "code",
   "execution_count": 25,
   "id": "40eaaabe-451c-470e-9457-512519c4fb44",
   "metadata": {},
   "outputs": [],
   "source": [
    "from hvac.cooling_load_calc import (\n",
    "    LightingFixture,\n",
    "    SpaceLighting\n",
    ")"
   ]
  },
  {
   "cell_type": "markdown",
   "id": "21a78155-7244-4074-909c-ffc3b3948942",
   "metadata": {},
   "source": [
    "Objects of these classes are instantiated by calling method `create(...)` of these classes."
   ]
  },
  {
   "cell_type": "markdown",
   "id": "1cc54e45-12a6-4413-9c27-fdfbb9666fe6",
   "metadata": {},
   "source": [
    "### Lighting Fixture"
   ]
  },
  {
   "cell_type": "code",
   "execution_count": 26,
   "id": "c9edea1e-b095-4259-a95e-626a24ae0cea",
   "metadata": {},
   "outputs": [
    {
     "name": "stdout",
     "output_type": "stream",
     "text": [
      "Represents a single lighting fixture or a group of lighting fixtures in\n",
      "a room. The light heat gain is calculated based on the lighting fixture's\n",
      "technical specifications.\n"
     ]
    }
   ],
   "source": [
    "print_doc_string(LightingFixture)"
   ]
  },
  {
   "cell_type": "code",
   "execution_count": 27,
   "id": "24149c03-ff38-4c74-bc6b-da16d10fc8c0",
   "metadata": {},
   "outputs": [
    {
     "name": "stdout",
     "output_type": "stream",
     "text": [
      "Creates a `LightingFixture` object.\n",
      "(see ASHRAE Fundamentals 2017, Chapter 18, 2.2 Lighting).\n",
      "\n",
      "Parameters\n",
      "----------\n",
      "name:\n",
      "    Identifies the lighting fixture.\n",
      "P_lamp:\n",
      "    The nominal wattage of the lamp(s) in the fixture without the power\n",
      "    consumption of ballasts.\n",
      "F_allowance:\n",
      "    The ratio of the lighting fixture's power consumption including\n",
      "    lamps and ballast to the nominal power consumption of the lamps.\n",
      "    For incandescent lamps, this factor is 1. For fluorescent and other\n",
      "    lights, it accounts for power consumed by the ballast as well as the\n",
      "    ballast's effect on lamp power consumption.\n",
      "F_use:\n",
      "    The ratio of the lamp wattage in use to the total installed wattage\n",
      "    for the conditions under which the cooling load estimate is being\n",
      "    made. For commercial applications such as stores, the use factor is\n",
      "    usually 1.0.\n",
      "F_rad:\n",
      "    The radiative fraction is the radiative part of the lighting heat\n",
      "    gain that goes to the room (see ASHRAE Fundamentals, Chapter 18,\n",
      "    Table 3).\n",
      "schedule:\n",
      "    Function with signature `f(t_sol_sec: float) -> float` that takes the\n",
      "    solar time `t_sol_sec` in seconds from midnight (0 s) and returns\n",
      "    a float between 0 and 1, where 0 stands for completely turned off\n",
      "    and 1 for maximum lighting power.\n",
      "\n",
      "Notes\n",
      "-----\n",
      "A single `LightingFixture` object could also be used to represent a\n",
      "group of multiple lighting fixtures instead of only a single fixture.\n",
      "\n",
      "Parameter Types & Defaults\n",
      "--------------------------\n",
      "name: str\n",
      "P_lamp: pint.Quantity\n",
      "F_allowance: float\n",
      "F_use: float\n",
      "F_rad: float\n",
      "schedule: Callable[[float], float]\n"
     ]
    }
   ],
   "source": [
    "print_doc_string(LightingFixture.create)"
   ]
  },
  {
   "cell_type": "markdown",
   "id": "f72bda42-7d24-40e2-b824-54d5eae68869",
   "metadata": {},
   "source": [
    "We define a lighting schedule to indicate the period of the day the lights are turned on and when they are turned off."
   ]
  },
  {
   "cell_type": "code",
   "execution_count": 28,
   "id": "92ca2b62-155c-408f-9efa-0293e57cb0ca",
   "metadata": {},
   "outputs": [],
   "source": [
    "def light_schedule(t_sol_sec: float) -> float:\n",
    "    t_clock, _ = convert_to_clock_time(t_sol_sec, date, L_loc, tz_loc)\n",
    "    t_hour = t_clock.time().hour\n",
    "    if (0 <= t_hour < 8) or (18 <= t_hour < 24):\n",
    "        return 1.0\n",
    "    else:\n",
    "        return 0.0\n",
    "    "
   ]
  },
  {
   "cell_type": "code",
   "execution_count": 29,
   "id": "f339db51-d3ad-456f-8d0f-301cfca6f450",
   "metadata": {},
   "outputs": [],
   "source": [
    "lighting_fixture = LightingFixture.create(\n",
    "    name='lighting-fixture',\n",
    "    P_lamp=Q_(100, 'W'),\n",
    "    F_allowance=1.1,\n",
    "    F_use=1.0,\n",
    "    F_rad=0.73,\n",
    "    schedule=light_schedule\n",
    ")"
   ]
  },
  {
   "cell_type": "markdown",
   "id": "8aad340a-8655-4138-94b4-af1e979b22f5",
   "metadata": {},
   "source": [
    "### Space Lighting"
   ]
  },
  {
   "cell_type": "code",
   "execution_count": 30,
   "id": "71549c94-8ea8-473e-be2a-f9f6d9c4d1a1",
   "metadata": {},
   "outputs": [
    {
     "name": "stdout",
     "output_type": "stream",
     "text": [
      "This class can be used to estimate the lighting gain on a per-unit area \n",
      "basis (e.g., when final lighting plans are not available).\n"
     ]
    }
   ],
   "source": [
    "print_doc_string(SpaceLighting)"
   ]
  },
  {
   "cell_type": "code",
   "execution_count": 31,
   "id": "5f76689c-c547-43a5-b12b-076f20af8e2c",
   "metadata": {},
   "outputs": [
    {
     "name": "stdout",
     "output_type": "stream",
     "text": [
      "Creates a `SpaceLighting` object.\n",
      "(see ASHRAE Fundamentals 2017, Chapter 18, Tables 2 and 3).\n",
      "\n",
      "Parameters\n",
      "----------\n",
      "name:\n",
      "    Identifies the space lighting.\n",
      "power_density:\n",
      "    The maximum lighting power density, i.e. the lighting heat gain per\n",
      "    square metre (see ASHRAE Fundamentals 2017, Chapter 18, Table 2).\n",
      "F_space:\n",
      "    The space fraction, i.e., the fraction of lighting heat gain that\n",
      "    goes to the room (the other fraction goes to the plenum) (see ASHRAE\n",
      "    Fundamentals 2017, Chapter 18, Table 3 and Figure 3).\n",
      "F_rad:\n",
      "    The radiative fraction is the radiative part of the lighting heat\n",
      "    gain that goes to the room (see ASHRAE Fundamentals 2017, Chapter\n",
      "    18, Table 3 and Figure 3).\n",
      "schedule:\n",
      "    Function with signature `f(t_sol_sec: float) -> float` that takes the\n",
      "    solar time `t_sol_sec` in seconds from midnight (0 s) and returns\n",
      "    a float between 0 and 1 which indicates the diversity factor.\n",
      "floor_area\n",
      "    The floor area of the zone.\n",
      "\n",
      "Parameter Types & Defaults\n",
      "--------------------------\n",
      "name: str\n",
      "power_density: pint.Quantity\n",
      "F_space: float\n",
      "F_rad: float\n",
      "schedule: Callable[[float], float]\n",
      "floor_area: pint.Quantity = <Quantity(1.0, 'meter ** 2')>\n"
     ]
    }
   ],
   "source": [
    "print_doc_string(SpaceLighting.create)"
   ]
  },
  {
   "cell_type": "code",
   "execution_count": 32,
   "id": "79bb2eb7-8053-49ba-af08-686cc5c7af2c",
   "metadata": {},
   "outputs": [],
   "source": [
    "space_lighting = SpaceLighting.create(\n",
    "    name='space-lighting',\n",
    "    power_density=Q_(10, 'W / m**2'),\n",
    "    F_space=0.64,\n",
    "    F_rad=0.47,\n",
    "    schedule=light_schedule,\n",
    "    floor_area=Q_(50, 'm**2')\n",
    ")"
   ]
  },
  {
   "cell_type": "markdown",
   "id": "b0757ec3-b627-4e36-a2dc-1fd1fb6802da",
   "metadata": {},
   "source": [
    "### Lighting Heat Gain"
   ]
  },
  {
   "cell_type": "markdown",
   "id": "790db6d9-592e-4829-8b91-9f6e824dadbd",
   "metadata": {},
   "source": [
    "An object of class `LightingHeatGain` can group multiple objects of the `Lighting` classes."
   ]
  },
  {
   "cell_type": "code",
   "execution_count": 33,
   "id": "d0a73992-3ff1-43c3-b2d1-3a6551c8bbb1",
   "metadata": {},
   "outputs": [
    {
     "name": "stdout",
     "output_type": "stream",
     "text": [
      "Represents the internal heat gain from space lighting.\n",
      "\n",
      "A `LightingHeatGain` object contains one or more `Lighting` objects\n",
      "(see module lighting.py). The user must create these objects with the\n",
      "necessary input data so that the heat gain of the lighting can be\n",
      "calculated.\n",
      "\n",
      "Parameter Types & Defaults\n",
      "--------------------------\n",
      "name: str\n"
     ]
    }
   ],
   "source": [
    "print_doc_string(LightingHeatGain)"
   ]
  },
  {
   "cell_type": "code",
   "execution_count": 34,
   "id": "d36209cf-4350-438f-8217-1ec738af2907",
   "metadata": {},
   "outputs": [],
   "source": [
    "lighting_heat_gain = LightingHeatGain('lighting-heat-gain')\n",
    "\n",
    "lighting_heat_gain.add_lighting(lighting_fixture)\n",
    "lighting_heat_gain.add_lighting(space_lighting)"
   ]
  },
  {
   "cell_type": "code",
   "execution_count": 35,
   "id": "5947afd3-b69b-4698-8bbc-48d698136add",
   "metadata": {},
   "outputs": [
    {
     "name": "stdout",
     "output_type": "stream",
     "text": [
      "lighting-fixture\n",
      "space-lighting\n"
     ]
    }
   ],
   "source": [
    "for lighting_ID in lighting_heat_gain.lighting.keys():\n",
    "    print(lighting_ID)"
   ]
  },
  {
   "cell_type": "code",
   "execution_count": 36,
   "id": "7e117452-0b15-40aa-82a2-bc6c64e3d2ef",
   "metadata": {},
   "outputs": [
    {
     "name": "stdout",
     "output_type": "stream",
     "text": [
      "100 watt\n"
     ]
    }
   ],
   "source": [
    "lighting_fixture = lighting_heat_gain.lighting['lighting-fixture']\n",
    "print(lighting_fixture.P_lamp.to('W'))"
   ]
  },
  {
   "attachments": {},
   "cell_type": "markdown",
   "id": "aa44c75a-2bdc-4d57-a323-d139580a86a6",
   "metadata": {},
   "source": [
    "To get the lighting heat gain at a certain time of the day, method `Q_dot(...)` is used. It expects the time moment to be expressed in solar seconds from midnight. It returns the convective fraction of the sensible lighting heat gain, the radiant fraction, and the latent lighting heat gain (which is however always zero in the case of lighting). \n",
    "\n",
    "Suppose we want to know the lighting heat gain at 6 a.m. on the \"design day\" in June."
   ]
  },
  {
   "cell_type": "code",
   "execution_count": 37,
   "id": "85155e3b-d0f5-4950-9af7-200527cb51b3",
   "metadata": {},
   "outputs": [
    {
     "data": {
      "text/plain": [
       "15360.381630000002"
      ]
     },
     "execution_count": 37,
     "metadata": {},
     "output_type": "execute_result"
    }
   ],
   "source": [
    "t_clock = time(6, 0, 0)\n",
    "t_sol_secs = convert_to_solar_seconds(\n",
    "    clock_time=t_clock,\n",
    "    date=ReferenceDates.get_date_for('Jun'),\n",
    "    L_loc=L_loc,\n",
    "    tz_loc=tz_loc\n",
    ")\n",
    "t_sol_secs"
   ]
  },
  {
   "cell_type": "code",
   "execution_count": 38,
   "id": "9b4a5139-0639-445f-ab66-222cd44ae86d",
   "metadata": {},
   "outputs": [
    {
     "name": "stdout",
     "output_type": "stream",
     "text": [
      "- lighting heat gain, convective fraction = 119.0 W\n",
      "- lighting heat gain, radiant fraction = 230.7 W\n"
     ]
    }
   ],
   "source": [
    "Q_light_hg_cv, Q_light_hg_rad, _ = lighting_heat_gain.Q_dot(t_sol_secs)\n",
    "print(\n",
    "    f\"- lighting heat gain, convective fraction = {Q_light_hg_cv.to('W'):~P.1f}\",\n",
    "    f\"- lighting heat gain, radiant fraction = {Q_light_hg_rad.to('W'):~P.1f}\",\n",
    "    sep='\\n'\n",
    ")"
   ]
  },
  {
   "cell_type": "markdown",
   "id": "f602c4a7-6c6a-401a-af97-232ef34c2961",
   "metadata": {},
   "source": [
    "## Internal Heat Gain from People"
   ]
  },
  {
   "cell_type": "code",
   "execution_count": 40,
   "id": "133b9eb2-6e13-4e27-82ed-f1bc09c8569c",
   "metadata": {},
   "outputs": [
    {
     "name": "stdout",
     "output_type": "stream",
     "text": [
      "Creates a `PeopleHeatGain` object.\n",
      "(see ASHRAE Fundamentals 2017, Chapter 18, table 1).\n",
      "\n",
      "Parameters\n",
      "----------\n",
      "name:\n",
      "    Identifier for the internal heat gain\n",
      "Q_dot_sen_person :\n",
      "    Sensible heat release per person.\n",
      "Q_dot_lat_person :\n",
      "    Latent heat release per person.\n",
      "F_rad :\n",
      "    Fraction of sensible heat release that is radiant.\n",
      "schedule :\n",
      "    Function with signature `f(t_sol_sec: float) -> int` that takes the\n",
      "    solar time in seconds from midnight (0 s) and returns the number\n",
      "    of people in the thermal zone.\n",
      "\n",
      "Parameter Types & Defaults\n",
      "--------------------------\n",
      "name: str\n",
      "Q_dot_sen_person: pint.Quantity\n",
      "Q_dot_lat_person: pint.Quantity\n",
      "F_rad: float\n",
      "schedule: Callable[[float], int]\n"
     ]
    }
   ],
   "source": [
    "print_doc_string(PeopleHeatGain.create)"
   ]
  },
  {
   "cell_type": "code",
   "execution_count": 41,
   "id": "3fcd4d57-d72d-4fee-9836-543be03c29d7",
   "metadata": {},
   "outputs": [],
   "source": [
    "def occupancy_schedule(t_sol_sec: float) -> int:\n",
    "    t_clock, _ = convert_to_clock_time(t_sol_sec, date, L_loc, tz_loc)\n",
    "    t_hour = t_clock.time().hour\n",
    "    if (6 <= t_hour < 12) or (14 <= t_hour < 18):\n",
    "        return 5\n",
    "    else:\n",
    "        return 0\n",
    "        "
   ]
  },
  {
   "cell_type": "code",
   "execution_count": 42,
   "id": "57a166f4-5514-48a1-940f-68f6dd7cd796",
   "metadata": {},
   "outputs": [],
   "source": [
    "people_heat_gain = PeopleHeatGain.create(\n",
    "    name='people-heat-gain',\n",
    "    Q_dot_sen_person=Q_(75, 'W'),\n",
    "    Q_dot_lat_person=Q_(55, 'W'),\n",
    "    F_rad=0.58,\n",
    "    schedule=occupancy_schedule\n",
    ")"
   ]
  },
  {
   "attachments": {},
   "cell_type": "markdown",
   "id": "84eba1e0-e5e5-494f-892a-253c47269ea8",
   "metadata": {},
   "source": [
    "To get the people heat gain at a certain time of the day, method `Q_dot(...)` is used. It expects the time moment to be expressed in solar seconds from midnight. It returns the convective fraction of the sensible people heat gain, the radiant fraction, and the latent people heat gain.\n",
    "\n",
    "Suppose we want to know the people heat gain at 16 a.m. on the \"design day\" in June."
   ]
  },
  {
   "cell_type": "code",
   "execution_count": 44,
   "id": "9b999037-028b-4610-8d42-0c25ded5b46f",
   "metadata": {},
   "outputs": [
    {
     "data": {
      "text/plain": [
       "51360.38163"
      ]
     },
     "execution_count": 44,
     "metadata": {},
     "output_type": "execute_result"
    }
   ],
   "source": [
    "t_clock = time(16, 0, 0)\n",
    "t_sol_secs = convert_to_solar_seconds(\n",
    "    clock_time=t_clock,\n",
    "    date=ReferenceDates.get_date_for('Jun'),\n",
    "    L_loc=L_loc,\n",
    "    tz_loc=tz_loc\n",
    ")\n",
    "t_sol_secs"
   ]
  },
  {
   "cell_type": "code",
   "execution_count": 45,
   "id": "980ee8a0-c58e-47f0-9f0a-f9175ef5fd8b",
   "metadata": {},
   "outputs": [
    {
     "name": "stdout",
     "output_type": "stream",
     "text": [
      "- sensible people heat gain, convective fraction = 157.5 W\n",
      "- sensible people heat gain, radiant fraction = 217.5 W\n",
      "- latent people heat gain = 275.0 W\n"
     ]
    }
   ],
   "source": [
    "Q_people_hg_cv, Q_people_hg_rad, Q_people_hg_lat = people_heat_gain.Q_dot(t_sol_secs)\n",
    "print(\n",
    "    f\"- sensible people heat gain, convective fraction = {Q_people_hg_cv.to('W'):~P.1f}\",\n",
    "    f\"- sensible people heat gain, radiant fraction = {Q_people_hg_rad.to('W'):~P.1f}\",\n",
    "    f\"- latent people heat gain = {Q_people_hg_lat.to('W'):~P.1f}\",\n",
    "    sep='\\n'\n",
    ")"
   ]
  },
  {
   "cell_type": "code",
   "execution_count": null,
   "id": "c0aeb35b-4be5-4a4c-8e7d-102ac13c5e1c",
   "metadata": {},
   "outputs": [],
   "source": []
  }
 ],
 "metadata": {
  "kernelspec": {
   "display_name": "Python 3 (ipykernel)",
   "language": "python",
   "name": "python3"
  },
  "language_info": {
   "codemirror_mode": {
    "name": "ipython",
    "version": 3
   },
   "file_extension": ".py",
   "mimetype": "text/x-python",
   "name": "python",
   "nbconvert_exporter": "python",
   "pygments_lexer": "ipython3",
   "version": "3.12.8"
  }
 },
 "nbformat": 4,
 "nbformat_minor": 5
}
