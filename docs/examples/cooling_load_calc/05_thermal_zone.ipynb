{
 "cells": [
  {
   "cell_type": "code",
   "execution_count": 1,
   "id": "cc1fe1f7-19bd-4a9d-ae89-b092a89bf307",
   "metadata": {},
   "outputs": [],
   "source": [
    "import sys\n",
    "if (path := \"C:/Users/Tom/PycharmProjects/python-hvac\") not in sys.path:\n",
    "    sys.path.append(path)"
   ]
  },
  {
   "cell_type": "code",
   "execution_count": 2,
   "id": "d4de08cc-b16b-4d60-a2b6-a99ed2a97e96",
   "metadata": {},
   "outputs": [],
   "source": [
    "from hvac import Quantity, print_doc_string\n",
    "\n",
    "Q_ = Quantity"
   ]
  },
  {
   "cell_type": "markdown",
   "id": "8030bb7a-6ebe-443b-aa11-1351d552863c",
   "metadata": {},
   "source": [
    "# Chapter 5: Modeling of a Thermal Zone\n",
    "---"
   ]
  },
  {
   "cell_type": "markdown",
   "id": "12da0e6f-2301-4adb-b396-2220ca70526e",
   "metadata": {},
   "source": [
    "In the previous four notebooks some main objects were already introduced that will be used to model a thermal zone. Besides exterior building elements and windows, a thermal zone can also be bounded by interior building elements, with or without interior doors, that separate a thermal zone from adjacent thermal zones in a building. Also, there are still a few other things that are good to know when modeling the thermal zone of a building."
   ]
  },
  {
   "cell_type": "markdown",
   "id": "43bb8765-7fc9-4b92-9628-68c210a6a136",
   "metadata": {},
   "source": [
    "## Interior Building Elements"
   ]
  },
  {
   "cell_type": "markdown",
   "id": "3f88b95c-7022-465a-b79c-73c7134c8caa",
   "metadata": {},
   "source": [
    "Interior building elements are modeled by the `InteriorBuildingElement` class. Like exterior building elements, their size and construction are also characterized by their gross area and the construction assembly they're made of. They also have a parameter `F_rad` to split the conduction heat gain through the interior building element into a convective and a radiative fraction. Where `ExteriorBuildingElement` objects carry data about the outdoor environment (the `WeatherData` object), an `InteriorBuildingElement` object needs to carry data about the adjacent thermal zone it separates from the thermal zone under consideration. These data are the zone-air temperature in the adjacent zone (which is considered to be a fixed value), and, in case ventilation air is transferred from the adjacent zone to the considered zone, the (design value of the) transfer air volume flow rate.   "
   ]
  },
  {
   "cell_type": "code",
   "execution_count": 3,
   "id": "8cc790e3-8d1f-4e5d-b587-2f174db159a0",
   "metadata": {},
   "outputs": [],
   "source": [
    "from hvac.cooling_load_calc import InteriorBuildingElement"
   ]
  },
  {
   "cell_type": "code",
   "execution_count": 4,
   "id": "3f8ef91e-821b-4aac-bcd2-790bbc27a0e4",
   "metadata": {},
   "outputs": [
    {
     "name": "stdout",
     "output_type": "stream",
     "text": [
      "Creates an `InteriorBuildingElement` object.\n",
      "\n",
      "Parameters\n",
      "----------\n",
      "name:\n",
      "    Name to identify the interior building element.\n",
      "adjacent_zone_name:\n",
      "    Name given to the adjacent zone.\n",
      "constr_assem:\n",
      "    The construction assembly the interior building element is made of.\n",
      "gross_area:\n",
      "    The gross surface area of the interior building element, i.e.\n",
      "    including any large openings such as doors and windows.\n",
      "adjacent_zone_temperature:\n",
      "    The zone-air temperature on the other side of the interior building\n",
      "    element (i.e. the zone-air temperature of the adjacent zone).\n",
      "V_dot_trf: optional\n",
      "    Volume flow rate of air transferred from the adjacent zone. If \n",
      "    `None`, no air is transferred. \n",
      "F_rad: default 0.46\n",
      "    Radiative fraction of the conduction heat gain through the interior\n",
      "    building element, taken up by the interior thermal mass of the\n",
      "    space. (see ASHRAE Fundamentals 2017, chapter 18, table 14).\n",
      "\n",
      "Returns\n",
      "-------\n",
      "`InteriorBuildingElement` object.\n",
      "\n",
      "Parameter Types & Defaults\n",
      "--------------------------\n",
      "name: 'str'\n",
      "adjacent_zone_name: 'str'\n",
      "constr_assem: 'ConstructionAssembly'\n",
      "gross_area: 'Quantity'\n",
      "adjacent_zone_temperature: 'Quantity'\n",
      "V_dot_trf: 'Quantity | None' = None\n",
      "F_rad: 'float' = 0.46\n"
     ]
    }
   ],
   "source": [
    "print_doc_string(InteriorBuildingElement.create)"
   ]
  },
  {
   "cell_type": "markdown",
   "id": "eca8c4ab-d57d-44bd-9ec4-f28f6340b049",
   "metadata": {},
   "source": [
    "Like exterior building elements, (interior) doors can be added to an interior building element with the method `add_door(...)`."
   ]
  },
  {
   "cell_type": "code",
   "execution_count": 5,
   "id": "8ce679ba-fb24-4c34-ba33-f1e5dae3a634",
   "metadata": {},
   "outputs": [
    {
     "name": "stdout",
     "output_type": "stream",
     "text": [
      "Adds a door into the interior building element.\n",
      "\n",
      "An interior door is also represented by an `InteriorBuildingElement` \n",
      "object.\n",
      "\n",
      "Parameters\n",
      "----------\n",
      "name:\n",
      "    Identifies the door.\n",
      "    Doors are hold in a dictionary `self.doors`. The ID of the door is\n",
      "    used as the key in the dictionary.\n",
      "width:\n",
      "    The width of the door.\n",
      "height:\n",
      "    The height of the door.\n",
      "constr_assem:\n",
      "    The construction assembly the door is made off.\n",
      "F_rad: default 0.46\n",
      "    Radiative fraction of the conduction heat gain through the door,\n",
      "    taken up by the interior thermal mass of the space. (see ASHRAE\n",
      "    Fundamentals 2017, chapter 18, table 14).\n",
      "\n",
      "Parameter Types & Defaults\n",
      "--------------------------\n",
      "\n",
      "name: 'str'\n",
      "width: 'Quantity'\n",
      "height: 'Quantity'\n",
      "constr_assem: 'ConstructionAssembly'\n",
      "F_rad: 'float' = 0.46\n"
     ]
    }
   ],
   "source": [
    "print_doc_string(InteriorBuildingElement.add_door)"
   ]
  },
  {
   "cell_type": "markdown",
   "id": "46cd51c8-bcc5-4b7c-b478-5d3a7a3113d8",
   "metadata": {},
   "source": [
    "## Simple Construction Assemblies"
   ]
  },
  {
   "cell_type": "markdown",
   "id": "fc4ea874-74e7-4e5a-828f-2bd44f35db2f",
   "metadata": {},
   "source": [
    "In the model of a thermal zone, exterior doors, interior building elements (ceilings, interior walls), and interior doors don't really need to have the detailed layered composition that is used for thick exterior building elements (roofs, exterior walls). Construction assemblies can also be configured without construction layers, knowing only their unit transmittance or unit thermal resistance. For example, if only the unit transmittance of an interior door is known, we can define the construction assembly of the interior door as follows:"
   ]
  },
  {
   "cell_type": "code",
   "execution_count": 6,
   "id": "dabb2bdc-f78e-450c-907d-025460c968a4",
   "metadata": {},
   "outputs": [],
   "source": [
    "from hvac.cooling_load_calc import ConstructionAssembly\n",
    "\n",
    "int_door_assem = ConstructionAssembly.create(\n",
    "    ID='int-door-assem',\n",
    "    layers=None,\n",
    "    U=Q_(4.0, 'W / (m**2 * K)')\n",
    ")"
   ]
  },
  {
   "cell_type": "markdown",
   "id": "678b7761-bdaf-48a1-b7b3-fca8498c79d9",
   "metadata": {},
   "source": [
    "If we don't specify the geometry (area and thickness) of the construction assembly, it is given default values.   "
   ]
  },
  {
   "cell_type": "code",
   "execution_count": 7,
   "id": "f1607297-f4be-41bb-b31e-f2e88cb3a397",
   "metadata": {},
   "outputs": [
    {
     "name": "stdout",
     "output_type": "stream",
     "text": [
      "1.0 meter ** 2\n",
      "0.0 meter\n"
     ]
    }
   ],
   "source": [
    "print(int_door_assem.area, int_door_assem.thickness, sep='\\n')"
   ]
  },
  {
   "cell_type": "markdown",
   "id": "b69102b6-c66d-4769-83e1-8add0e9c2eba",
   "metadata": {},
   "source": [
    "With this construction assembly, we could then create an interior door as follows:"
   ]
  },
  {
   "cell_type": "code",
   "execution_count": 8,
   "id": "ad2b4b43-34ed-401d-8178-0bf1ff9ac2ea",
   "metadata": {},
   "outputs": [],
   "source": [
    "int_door = InteriorBuildingElement.create(\n",
    "    name='int-door',\n",
    "    adjacent_zone_name='zone-2',\n",
    "    constr_assem=int_door_assem,\n",
    "    gross_area=Q_(80, 'cm') * Q_(220, 'cm'),\n",
    "    adjacent_zone_temperature=Q_(24, 'degC')\n",
    ")"
   ]
  },
  {
   "cell_type": "markdown",
   "id": "2bccf73c-18dd-4779-832e-2a1a1c6d7643",
   "metadata": {},
   "source": [
    "Interior building elements -but exterior building elements and windows also- have a property `UA` which returns the steady-state overall transmittance of the element. Our interior door has *UA*-value of:"
   ]
  },
  {
   "cell_type": "code",
   "execution_count": 9,
   "id": "b8ec5f62-1447-4406-9aea-6ef1a0b2d1c9",
   "metadata": {},
   "outputs": [
    {
     "name": "stdout",
     "output_type": "stream",
     "text": [
      "7.04 watt / kelvin\n"
     ]
    }
   ],
   "source": [
    "print(int_door.UA)"
   ]
  },
  {
   "cell_type": "markdown",
   "id": "b461e1f1-b5d3-4573-b9e0-17b7b8086a70",
   "metadata": {},
   "source": [
    "In a thermal zone model, conduction heat gains through interior building elements, including interior doors, through windows, and through exterior doors will be calculated based on this steady-state UA-value (i.e., the thermal inertia of these elements is ignored in the model of a thermal zone)."
   ]
  },
  {
   "cell_type": "markdown",
   "id": "625f6a94-93e5-45e4-ba2a-a8101e6b3db6",
   "metadata": {},
   "source": [
    "## Heterogeneous Construction Layers"
   ]
  },
  {
   "cell_type": "markdown",
   "id": "6c4f95a3-3d22-45fc-8f2a-988c0ff2d483",
   "metadata": {},
   "source": [
    "So far the construction assemblies were composed of homogeneous construction layers (i.e. each layer in the assembly is made of only a single material). However, a wooden stud wall for example, is made of two materials: wooden studs with air spaces or insulation in between. From a thermal viewpoint, this heterogeneous construction layer can be replaced by an equivalent homogeneous construction layer. The thermal resistance of the wooden studs and the thermal resistance of the insulation in between the studs act like thermal resistors connected in parallel (their area-weighted thermal conductances add up) and also their area-weighted thermal capacities add up.\n",
    "\n",
    "In the code block below it is demonstrated how the equivalent construction layer of a wooden stud wall is programmed. Wooden studs are placed every 60 cm. The studs are 5 cm wide and 15 cm deep. A unit wall height of 1 m is considered."
   ]
  },
  {
   "cell_type": "code",
   "execution_count": 10,
   "id": "987cf546-79ac-4fc5-9500-bdb280c221a2",
   "metadata": {},
   "outputs": [
    {
     "name": "stdout",
     "output_type": "stream",
     "text": [
      "1.5 kelvin * meter ** 2 / watt\n",
      "0.05 meter ** 2\n",
      "30.0 kelvin / watt\n",
      "\n",
      "3.947368421052632 kelvin * meter ** 2 / watt\n",
      "0.55 meter ** 2\n",
      "7.177033492822967 kelvin / watt\n",
      "\n",
      "<class 'hvac.cooling_load_calc.building.construction_assembly.ConstructionLayer'>\n",
      "3.474903474903475 kelvin * meter ** 2 / watt\n",
      "0.6 meter ** 2\n",
      "5.791505791505792 kelvin / watt\n"
     ]
    }
   ],
   "source": [
    "from hvac.cooling_load_calc import Material, SolidLayer, Geometry\n",
    "\n",
    "wood_stud = SolidLayer.create(\n",
    "    ID='wood_stud',\n",
    "    geometry=Geometry(t=Q_(15, 'cm'), w=Q_(5, 'cm'), h=Q_(1, 'm')),\n",
    "    material=Material(\n",
    "        k=Q_(0.10, 'W / (m * K)'),\n",
    "        rho=Q_(550, 'kg / m**3'),\n",
    "        c=Q_(1630, 'J / (kg * K)')\n",
    "    ),\n",
    "    num_slices=3\n",
    ")\n",
    "\n",
    "print(wood_stud.R.to('K * m**2 / W'))\n",
    "print(wood_stud.geometry.A.to('m**2'))\n",
    "wood_stud_R_tot = wood_stud.R / wood_stud.geometry.A\n",
    "print(wood_stud_R_tot.to('K / W'))\n",
    "print()\n",
    "\n",
    "insulation = SolidLayer.create(\n",
    "    ID='insulation',\n",
    "    geometry=Geometry(t=Q_(15, 'cm'), w=Q_(55, 'cm'), h=Q_(1, 'm')),\n",
    "    material=Material(\n",
    "        k=Q_(0.038, 'W / (m * K)'),\n",
    "        rho=Q_(22, 'kg / m**3'),\n",
    "        c=Q_(1030, 'J / (kg * K)')\n",
    "    ),\n",
    "    num_slices=3\n",
    ")\n",
    "\n",
    "print(insulation.R.to('K * m**2 / W'))\n",
    "print(insulation.geometry.A.to('m**2'))\n",
    "insulation_R_tot = insulation.R / insulation.geometry.A\n",
    "print(insulation_R_tot.to('K / W'))\n",
    "print()\n",
    "\n",
    "# Combining the two parallel solid construction layers creates a\n",
    "# new construction layer\n",
    "stud_wall = wood_stud // insulation\n",
    "\n",
    "print(type(stud_wall))\n",
    "print(stud_wall.R.to('K * m**2 / W'))\n",
    "print(stud_wall.geometry.A.to('m**2'))\n",
    "stud_wall_R_tot = stud_wall.R / stud_wall.geometry.A\n",
    "print(stud_wall_R_tot.to('K / W'))"
   ]
  },
  {
   "cell_type": "markdown",
   "id": "63754351-c07a-47a7-8ca6-5f71ed66d6b5",
   "metadata": {},
   "source": [
    "> **Note**<br>\n",
    "Two `SolidLayer` objects were combined into a new object of class `ConstructionLayer`, which is the base class of class `SolidLayer` and the other types of construction layers (class `AirLayer` and class `SurfaceFilm`). It is also possible to combine a `SolidLayer` object with an `AirLayer` object. Objects of class `ConstructionAssembly`, that contain the construction layers, don't need to know about the exact type of a construction layer; they only work with the attributes and methods of the base class `ConstructionLayer`, which are shared with the derived classes.  "
   ]
  },
  {
   "cell_type": "markdown",
   "id": "28096842-223f-45b8-9a8f-599ae77dfbf1",
   "metadata": {},
   "source": [
    "## Construction Data Shelves"
   ]
  },
  {
   "cell_type": "markdown",
   "id": "794b5c68-8cdb-415c-8bd0-73263d1f7da7",
   "metadata": {},
   "source": [
    "To avoid that the same construction material, the same construction assembly, or the same window thermal properties must be redefined over and over again, shelves are provided to store these objects locally on disk. The use of a shelf has already been demonstrated for construction assemblies in notebook no. 1 and for window thermal properties in notebook no. 3.\n",
    "\n",
    "But the `cooling_load_calc` package also contains a subpackage `construction_data` with a number of dedicated \"shelf classes\":\n",
    "- class `MaterialShelf` to store building construction materials,\n",
    "- class `ConstructionAssemblyShelf` to store construction assemblies,\n",
    "- class `WindowsPropertiesShelf` to store thermal properties of window glazing systems.\n",
    "\n",
    "Also inside subpackage `construction_data` is a subpackage `wtcb`. This subpackage has functions to create a number of predefined construction assemblies. These functions are grouped in different \"catalog classes\":\n",
    "- `ExteriorWallCatalog`, \n",
    "- `FloorCatalog`,\n",
    "- `InteriorWallCatalog`,\n",
    "- `CeilingCatalog`, and\n",
    "- `RoofCatalog`.\n",
    "\n",
    "The names (IDs) of the construction assemblies refer to the sheets in a catalog of commonly used construction assemblies published by the Belgian institute *WTCB* (nowadays *Buildwise*). This catalog (in PDF-format) can be found in the *docs* folder of this repository.\n",
    "\n",
    "Below it is demonstrated how the predefined construction assembly for an exterior wall can be fetched from the `ExteriorWallCatalog`."
   ]
  },
  {
   "cell_type": "code",
   "execution_count": 11,
   "id": "5d54101d-0f17-4c7c-84c0-56fed23df157",
   "metadata": {},
   "outputs": [],
   "source": [
    "from hvac.cooling_load_calc.construction_data import ExteriorWallCatalog"
   ]
  },
  {
   "cell_type": "code",
   "execution_count": 12,
   "id": "2147e2f2-33ef-46a6-90fc-e36629a59cf6",
   "metadata": {},
   "outputs": [
    {
     "name": "stdout",
     "output_type": "stream",
     "text": [
      "Creates an instance of `ExteriorWallCatalog`.\n",
      "\n",
      "Parameters\n",
      "----------\n",
      "t_ins:\n",
      "    Default thickness of the insulation layer.\n",
      "T_ext:\n",
      "    Default design value for outdoor air temperature.\n",
      "T_int:\n",
      "    Default design value for indoor air temperature.\n",
      "v_wind:\n",
      "    Default design value for wind speed.\n",
      "\n",
      "Parameter Types & Defaults\n",
      "--------------------------\n",
      "\n",
      "t_ins: pint.Quantity = <Quantity(10, 'centimeter')>\n",
      "T_ext: pint.Quantity = <Quantity(0, 'degree_Celsius')>\n",
      "T_int: pint.Quantity = <Quantity(20, 'degree_Celsius')>\n",
      "v_wind: pint.Quantity = <Quantity(4, 'meter / second')>\n"
     ]
    }
   ],
   "source": [
    "print_doc_string(ExteriorWallCatalog.__init__)"
   ]
  },
  {
   "cell_type": "markdown",
   "id": "92ef8b41-69d3-4e23-a8d1-cf380fcbd487",
   "metadata": {},
   "source": [
    "On instantiation of the class, some parameters can be assigned default values: insulation thickness, outdoor air temperature, indoor air temperature, and wind speed. However, these default values can be overridden each time the `ExteriorWallCatalog` object is called to create a construction assembly. "
   ]
  },
  {
   "cell_type": "code",
   "execution_count": 13,
   "id": "afc49d52-eb51-4c6c-9302-65572a5de084",
   "metadata": {},
   "outputs": [],
   "source": [
    "ext_wall_catalog = ExteriorWallCatalog(\n",
    "    t_ins=Q_(18, 'cm'),\n",
    "    T_ext=Q_(26, 'degC'),\n",
    "    T_int=Q_(22, 'degC'),\n",
    "    v_wind=Q_(3, 'm /s')\n",
    ")"
   ]
  },
  {
   "cell_type": "markdown",
   "id": "478cd003-aab9-4909-ba27-afc5e857cf95",
   "metadata": {},
   "source": [
    "Let us retrieve the construction assembly for the exterior wall with ID *F7* in the catalog (\"*fiche nr. 07, wandtype: Buitenwanden*\", p. 15/60 of the PDF-catalog in folder *docs*). We will change the insulation thickness to 16 cm (instead of using the default value we have specified when we instantiated the catalog)."
   ]
  },
  {
   "cell_type": "code",
   "execution_count": 14,
   "id": "4ee7442b-51c5-4d4b-9bc4-df5ba5a4d544",
   "metadata": {},
   "outputs": [
    {
     "name": "stdout",
     "output_type": "stream",
     "text": [
      "Creates the construction assembly of the exterior wall indicated by\n",
      "`ID`. `ID` refers to the wall ID number in the WTCB catalog\n",
      "(see /docs/wtcb_catalog/wtcb_catalog.pdf).\n",
      "\n",
      "Parameters\n",
      "----------\n",
      "ID:\n",
      "    Sheet number of the exterior wall in the WTCB catalog.\n",
      "t_ins:\n",
      "    Thickness of the insulation layer. Overrides the value assigned on\n",
      "    instantiation of the `ExteriorWallCatalog` class.\n",
      "T_ext:\n",
      "    The outdoor air design temperature. Overrides the value assigned on\n",
      "    instantiation of the `ExteriorWallCatalog` class.\n",
      "T_int:\n",
      "    The indoor air design temperature. Overrides the value assigned on\n",
      "    instantiation of the `ExteriorWallCatalog` class.\n",
      "v_wind:\n",
      "    Design value for the wind speed. Overrides the value assigned on\n",
      "    instantiation of the `ExteriorWallCatalog` class.\n",
      "\n",
      "Parameter Types & Defaults\n",
      "--------------------------\n",
      "ID: str\n",
      "t_ins: pint.Quantity | None = None\n",
      "T_ext: pint.Quantity | None = None\n",
      "T_int: pint.Quantity | None = None\n",
      "v_wind: pint.Quantity | None = None\n"
     ]
    }
   ],
   "source": [
    "print_doc_string(ext_wall_catalog.__call__)"
   ]
  },
  {
   "cell_type": "markdown",
   "id": "1bfebd70-c0c6-4a92-9c7e-4237df24bf2d",
   "metadata": {},
   "source": [
    "> **Note**<br>\n",
    "> Before any of the catalogs can be used, the shelf with building materials (and the shelf with window thermal\n",
    "properties) must have been installed first. By default these shelves will be created in a directory `wtcb-database` in the user's home directory (see `wtcb.setup.py`). To create these shelves, the scripts `materials.py` and `windows.py` in the `wtcb` package need to be executed."
   ]
  },
  {
   "cell_type": "code",
   "execution_count": 15,
   "id": "1467e253-fb45-4384-b499-a49ca7f6fdbc",
   "metadata": {},
   "outputs": [
    {
     "name": "stdout",
     "output_type": "stream",
     "text": [
      "construction assembly: ext-wall-wtcb-F7\n",
      "SurfaceFilm 'ext_surf_film': t = 0.000 m, R = 0.05 K·m²/W, C = 0.00 J/K/m², nodes = 1\n",
      "SolidLayer 'outer_leaf': t = 0.100 m, R = 0.06 K·m²/W, C = 126000.00 J/K/m², nodes = 10\n",
      "AirLayer 'air_space': t = 0.050 m, R = 0.07 K·m²/W, C = 0.00 J/K/m², nodes = 1\n",
      "SolidLayer 'insulation': t = 0.160 m, R = 3.54 K·m²/W, C = 35280.00 J/K/m², nodes = 5\n",
      "SolidLayer 'inner_leaf': t = 0.140 m, R = 0.30 K·m²/W, C = 168000.00 J/K/m², nodes = 15\n",
      "SolidLayer 'gypsum_layer': t = 0.015 m, R = 0.03 K·m²/W, C = 16380.00 J/K/m², nodes = 1\n",
      "SurfaceFilm 'int_surf_film': t = 0.000 m, R = 0.13 K·m²/W, C = 0.00 J/K/m², nodes = 1\n",
      "\n"
     ]
    }
   ],
   "source": [
    "try:\n",
    "    ext_wall_assem_F7 = ext_wall_catalog('F7', t_ins=Q_(16, 'cm'))\n",
    "except KeyError:\n",
    "    # this will create the \"wtcb-database\" folder in the user's home \n",
    "    # directory and install the materials and windows shelves\n",
    "    from hvac.cooling_load_calc.construction_data.wtcb import materials\n",
    "    from hvac.cooling_load_calc.construction_data.wtcb import windows\n",
    "    materials.main(show=False)\n",
    "    windows.main(show=False)\n",
    "    ext_wall_assem_F7 = ext_wall_catalog('F7', t_ins=Q_(16, 'cm'))\n",
    "\n",
    "print(ext_wall_assem_F7)"
   ]
  },
  {
   "cell_type": "markdown",
   "id": "ee9794fe-43b1-4558-83b2-6584e2fbb5cc",
   "metadata": {},
   "source": [
    "## Creating a Thermal Zone"
   ]
  },
  {
   "cell_type": "markdown",
   "id": "e7a45076-92d9-4464-870f-8e096867d049",
   "metadata": {},
   "source": [
    "A thermal zone is modeled by the `ThermalZone` class. To create a `ThermalZone` object, the class method `create(...)` is called."
   ]
  },
  {
   "cell_type": "code",
   "execution_count": 16,
   "id": "efcae6d5-4b03-4581-9240-11e6ce3d22e1",
   "metadata": {},
   "outputs": [],
   "source": [
    "from hvac.cooling_load_calc import ThermalZone"
   ]
  },
  {
   "cell_type": "code",
   "execution_count": 17,
   "id": "6879626c-ccb1-40dd-8b4a-1223ccbebc43",
   "metadata": {},
   "outputs": [
    {
     "name": "stdout",
     "output_type": "stream",
     "text": [
      "Creates a `Zone` object.\n",
      "\n",
      "Parameters\n",
      "----------\n",
      "name:\n",
      "    Name of the temperature zone.\n",
      "floor_area:\n",
      "    Floor area of the zone.\n",
      "ceiling_height:\n",
      "    Ceiling height in the zone.\n",
      "unit_R_im:\n",
      "    Unit thermal resistance of the interior mass surface. \n",
      "unit_C_im:\n",
      "    Unit thermal capacity of the interior mass, i.e. per unit area.\n",
      "weather_data:\n",
      "    Instance of class `WeatherData` encapsulating the climatic design\n",
      "    data for the selected design day, which was given when the \n",
      "    `WeatherData` object was instantiated.\n",
      "factor_surf_im:\n",
      "    Multiplication factor for the interior mass surface area.\n",
      "\n",
      "Keyword Arguments\n",
      "-----------------\n",
      "air_temperature:\n",
      "    Reference zone air temperature used for calculating the thermal\n",
      "    capacity of the zone air. Default value is 20 °C.\n",
      "air_pressure:\n",
      "    Reference zone air pressure used for calculating the thermal \n",
      "    capacity of the zone air. Default value is 101,325 Pa.\n",
      "RH_zone:\n",
      "    Setpoint or desired value of the relative air humidity in the zone.\n",
      "    Default value is 50 %.\n",
      "\n",
      "Parameter Types & Defaults\n",
      "--------------------------\n",
      "name: 'str'\n",
      "floor_area: 'Quantity'\n",
      "ceiling_height: 'Quantity'\n",
      "unit_R_im: 'Quantity'\n",
      "unit_C_im: 'Quantity'\n",
      "weather_data: 'WeatherData'\n",
      "factor_surf_im: 'float' = 1.0\n",
      "**kwargs\n"
     ]
    }
   ],
   "source": [
    "print_doc_string(ThermalZone.create)"
   ]
  },
  {
   "cell_type": "markdown",
   "id": "f4bceb99-8131-4d37-8a65-b8278da8587a",
   "metadata": {},
   "source": [
    "Like an `ExteriorBuildingElement` object, a `ThermalZone` object is represented by a linear thermal network model. This model has two temperature nodes: a zone-air node, which represents the air volume in the thermal zone, and an interior mass node, which incorporates the internal structural mass (floor, ceiling, partitions) and also furnishings of the thermal zone, to take their thermal storage effect on the cooling/heating load of the thermal zone into account. The concept of this model is explained in more detail in *Mitchell, J. W., & Braun, J. E. (2012). Principles of Heating, Ventilation, and Air Conditioning in Buildings. John Wiley & Sons*.\n",
    "\n",
    "The interior mass node and the zone air node are coupled by a thermal resistor `R_im`, i.e. the surface resistance of the interior mass. It is the sum of the convective heat transfer resistance and that of any floor surfaces such as carpeting. The unit convective resistance for the interior of buildings is around 0.12 K.m²/W. The unit thermal resistance of carpeting ranges from about 0.1 to 0.4 K.m²/W.\n",
    "\n",
    "The capacitance of the interior mass is an aggregate value of capacitance that takes into account storage in the floor, ceilings, partitions, and other furnishings. The unit thermal capacity of the interior mass may range from 100 kJ/(m².K) for light building construction to 300 kJ/(m².K) for heavy building construction. The surface area also depends on the type of internal structure, and is at least equal to the floor area. A reasonable estimate would be two to three times the actual floor area.  "
   ]
  },
  {
   "cell_type": "markdown",
   "id": "1e1a3f9f-7c52-44d8-93c8-4dff0a523cec",
   "metadata": {},
   "source": [
    "After the `ThermalZone` object has been instantiated, we can add the exterior and interior building elements that surround the zone, using the methods `add_ext_build_elems(*ext_build_elems)` and `add_int_build_elems(*int_build_elems)` respectively. Internal heat gains can be added to the thermal zone with the method `add_internal_heat_gains(*ihg: InternalHeatGain)`."
   ]
  },
  {
   "cell_type": "markdown",
   "id": "95b4e49c-d997-49ec-9a7e-27f01512b2b6",
   "metadata": {},
   "source": [
    "## Ventilation"
   ]
  },
  {
   "cell_type": "markdown",
   "id": "2c58df3f-3d80-48d5-83fa-33da1e19b456",
   "metadata": {},
   "source": [
    "To estimate ventilation heat gains in the cooling/heating load of the thermal zone, a \"ventilation model\" is used according to  *European standard EN 12831-1:2017 Energy performance of buildings - Method for calculation of the design heat load - Part 1: Space heating load, Module M3-3.*\n",
    "\n",
    "In this ventilation model multiple spaces or thermal zones can be part of a single ventilation zone. The standard defines a ventilation zone as a group of rooms that are air-connected by design, either directly or indirectly, e.g., through internally mounted air transfer devices, shortened door leafs, etc. By design, there is no air transfer between ventilation zones.\n",
    "\n",
    "To add ventilation to a thermal zone, a `VentilationZone` object must first be created. Then, the method `add_ventilation(...)` of the `ThermalZone` object can be called, passing the `VentilationZone` object into the call. "
   ]
  },
  {
   "cell_type": "code",
   "execution_count": 18,
   "id": "0ca54f6e-898a-4de5-bf4b-06f483a82e99",
   "metadata": {},
   "outputs": [],
   "source": [
    "from hvac.cooling_load_calc import VentilationZone"
   ]
  },
  {
   "cell_type": "code",
   "execution_count": 19,
   "id": "11c1f0e5-8c29-4899-8e35-81b8dc0c60cb",
   "metadata": {},
   "outputs": [
    {
     "name": "stdout",
     "output_type": "stream",
     "text": [
      "Creates a `VentilationZone` object.\n",
      "\n",
      "Parameters\n",
      "----------\n",
      "name:\n",
      "    Identifies the ventilation zone.\n",
      "q_env_50:\n",
      "    Air permeability of the building envelope at a pressure difference\n",
      "    of 50 Pa between the interior and exterior with any ATDs closed or\n",
      "    sealed (see EN 12831-1 (2017), B.2.10).\n",
      "dP_ATD_d:\n",
      "    Design pressure difference of the ATDs in the zone (see EN 12831-1\n",
      "    (2017), B.2.12).\n",
      "v_leak:\n",
      "    Pressure exponent for air leakages (see EN 12831-1 (2017), B.2.13).\n",
      "f_fac:\n",
      "    Adjustment factor for the number of wind exposed facades of the zone\n",
      "    (see EN 12831-1 (2017), B.2.15). The default value applies to 1 wind\n",
      "    exposed facade.\n",
      "f_V:\n",
      "    Coefficient for the volume flow ratio of the zone (see EN 12831-1\n",
      "    (2017), B.2.11, Table B.8). The default value applies to more than\n",
      "    1 external facade, height of the zone above ground level between 0\n",
      "    and 50 m, normal shielding, and a zone height between 5 and 10 m.\n",
      "f_dir:\n",
      "    Factor for the orientation of the zone (see EN 12831-1 (2017),\n",
      "    B.2.14). Default value according to B.2.14.\n",
      "f_iz:\n",
      "    Ratio between the minimum air volume flow rates of single\n",
      "    conditioned spaces and the air volume flow of the entire zone (see\n",
      "    EN 12831-1 (2017), B.2.9, Table B.5). The default value applies\n",
      "    to a zone with 2 or more spaces.\n",
      "\n",
      "Returns\n",
      "-------\n",
      "`VentilationZone` object\n",
      "\n",
      "Parameter Types & Defaults\n",
      "--------------------------\n",
      "name: 'str'\n",
      "q_env_50: 'Quantity' = <Quantity(3.0, 'meter / hour')>\n",
      "dP_ATD_d: 'Quantity' = <Quantity(4.0, 'pascal')>\n",
      "v_leak: 'float' = 0.67\n",
      "f_fac: 'float' = 12\n",
      "f_V: 'float' = 0.05\n",
      "f_dir: 'float' = 2.0\n",
      "f_iz: 'float' = 0.5\n"
     ]
    }
   ],
   "source": [
    "print_doc_string(VentilationZone.create)"
   ]
  },
  {
   "cell_type": "code",
   "execution_count": 20,
   "id": "faf81f22-a629-4ace-84cd-d342022a9cff",
   "metadata": {},
   "outputs": [
    {
     "name": "stdout",
     "output_type": "stream",
     "text": [
      "Adds ventilation to the thermal zone.\n",
      "\n",
      "Parameters\n",
      "----------\n",
      "ventilation_zone:\n",
      "    The ventilation zone to which the thermal zone belongs. \n",
      "n_min:\n",
      "    Minimum air change rate required for the space for reasons of air\n",
      "    quality/hygiene and comfort (EN 12831-1, B.2.10 - Table B.7).\n",
      "    The default value applies to permanent dwelling areas (living rooms,\n",
      "    offices) and a ceiling height less than 3 m.\n",
      "V_dot_open:\n",
      "    External air volume flow rate into the space through large openings\n",
      "    (EN 12831-1, Annex G).\n",
      "V_dot_ATD_d:\n",
      "    Design air volume flow rate of the ATDs in the room (EN 12831-1,\n",
      "    B.2.12). Only relevant if ATDs (Air Terminal Devices) are used for\n",
      "    ventilation (i.e., passive devices that allow air flow through a\n",
      "    building element; it does not include the air out- or inlets of \n",
      "    fan-assisted ventilation systems).\n",
      "V_dot_sup:\n",
      "    Supply air volume flow rate from the ventilation system into the\n",
      "    space.\n",
      "V_dot_exh:\n",
      "    Exhaust ventilation air volume flow rate from the space.\n",
      "V_dot_comb:\n",
      "    Air volume flow rate exhausted from the space that has not been\n",
      "    included in the exhaust air volume flow of the ventilation system\n",
      "    (typically, but not necessarily, combustion air if an open flue\n",
      "    heater is present in the heated space).\n",
      "T_sup: optional\n",
      "    Temperature of ventilation air supplied to the zone. If `None`, but\n",
      "    `V_dot_sup` is not zero, the outdoor dry-bulb temperature will be\n",
      "    assigned to `T_sup`. \n",
      "\n",
      "Parameter Types & Defaults\n",
      "--------------------------\n",
      "\n",
      "ventilation_zone: 'VentilationZone'\n",
      "n_min: 'Quantity' = <Quantity(0.5, '1 / hour')>\n",
      "V_dot_open: 'Quantity' = <Quantity(0.0, 'meter ** 3 / hour')>\n",
      "V_dot_ATD_d: 'Quantity' = <Quantity(0.0, 'meter ** 3 / hour')>\n",
      "V_dot_sup: 'Quantity' = <Quantity(0.0, 'meter ** 3 / hour')>\n",
      "V_dot_exh: 'Quantity' = <Quantity(0.0, 'meter ** 3 / hour')>\n",
      "V_dot_comb: 'Quantity' = <Quantity(0.0, 'meter ** 3 / hour')>\n",
      "T_sup: 'typing.Callable[[float], Quantity] | None' = None\n"
     ]
    }
   ],
   "source": [
    "print_doc_string(ThermalZone.add_ventilation)"
   ]
  },
  {
   "cell_type": "markdown",
   "id": "50c854fc-7de6-4519-8dba-45bc8a932871",
   "metadata": {},
   "source": [
    "Where possible, reasonable default values were assigned to the call parameters of both methods, according to default values mentioned in the standard. For more detail about these parameters, standard EN 12831-1 should be consulted. "
   ]
  },
  {
   "cell_type": "markdown",
   "id": "d97ce49a-a47d-4caa-a1c8-02900c16edf3",
   "metadata": {},
   "source": [
    "## Example of Modeling a Thermal Zone"
   ]
  },
  {
   "cell_type": "markdown",
   "id": "2e83ac6c-9b5a-42ca-9a06-7121aa9f2f56",
   "metadata": {},
   "source": [
    "The Python module `thermal_zone_example.py` in the same folder as this notebook gives a quick demonstration of all the steps that need to be taken to program the model of a thermal zone (`ThermalZone` object). This model can then be used for simulating the heat flows to or from the thermal zone and the temperature in the zone. This is demonstrated in the following notebook no. 6."
   ]
  },
  {
   "cell_type": "code",
   "execution_count": null,
   "id": "552bbc9b-3f1e-47b2-aa82-814793e51232",
   "metadata": {},
   "outputs": [],
   "source": []
  }
 ],
 "metadata": {
  "kernelspec": {
   "display_name": "Python 3 (ipykernel)",
   "language": "python",
   "name": "python3"
  },
  "language_info": {
   "codemirror_mode": {
    "name": "ipython",
    "version": 3
   },
   "file_extension": ".py",
   "mimetype": "text/x-python",
   "name": "python",
   "nbconvert_exporter": "python",
   "pygments_lexer": "ipython3",
   "version": "3.12.8"
  }
 },
 "nbformat": 4,
 "nbformat_minor": 5
}
