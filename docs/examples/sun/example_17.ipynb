{
 "cells": [
  {
   "cell_type": "markdown",
   "id": "52d7a3c2-fe28-46a2-a5ac-c75fcc4defea",
   "metadata": {},
   "source": [
    "# Example 17\n",
    "---\n",
    "This example demonstrates the usage of class `SolarRadiation` in module `sun.correlation` This class uses the correlations from [1] to prepare reasonable radiation data based on solely the **monthly average daily clearness index** for a given month at a given location. The solar radiation data is generated based on a random distribution of the daily clearness indexes in the specified month. This distribution is derived from a cumulative histogram as described in [1], §2.9. This means that for a given day in the month different results may appear each time we run this notebook. \n",
    "\n",
    "[1] Duffie, J. A., Beckman, W. A., & Blair, N. (2020). \n",
    "SOLAR ENGINEERING OF THERMAL PROCESSES, PHOTOVOLTAICS AND WIND. \n",
    "John Wiley & Sons."
   ]
  },
  {
   "cell_type": "code",
   "execution_count": 1,
   "id": "85672d7d-fc91-4200-8eed-9ac22c0debe0",
   "metadata": {
    "ExecuteTime": {
     "end_time": "2024-01-04T20:37:41.435053400Z",
     "start_time": "2024-01-04T20:37:41.424056Z"
    }
   },
   "outputs": [],
   "source": [
    "import sys\n",
    "sys.path.append(\"C:/Users/Tom/PycharmProjects/cooling-load-calc/\")"
   ]
  },
  {
   "cell_type": "code",
   "execution_count": 2,
   "id": "cce1318d-0b27-4d18-9d47-96a915e638d0",
   "metadata": {
    "ExecuteTime": {
     "end_time": "2024-01-04T20:37:42.404571100Z",
     "start_time": "2024-01-04T20:37:42.267975200Z"
    }
   },
   "outputs": [],
   "source": [
    "import pandas as pd\n",
    "from datetime import datetime\n",
    "from hvac import Quantity\n",
    "from hvac.sun.surface import Location, Surface\n",
    "from hvac.sun.correlation import SolarRadiation"
   ]
  },
  {
   "cell_type": "code",
   "execution_count": 3,
   "id": "0f268fbd-5c3e-4f05-9e45-446f762b5529",
   "metadata": {
    "ExecuteTime": {
     "end_time": "2024-01-04T20:37:44.832570300Z",
     "start_time": "2024-01-04T20:37:44.799570Z"
    }
   },
   "outputs": [],
   "source": [
    "Q_ = Quantity"
   ]
  },
  {
   "cell_type": "markdown",
   "id": "520f89f7-a8ff-4f9e-8160-b2b4754db9a1",
   "metadata": {},
   "source": [
    "The location is Brussels:"
   ]
  },
  {
   "cell_type": "code",
   "execution_count": 4,
   "id": "8b67ea2b-6dfa-4e6d-8a4f-d7df7dc65a2c",
   "metadata": {
    "ExecuteTime": {
     "end_time": "2024-01-04T20:37:46.657103900Z",
     "start_time": "2024-01-04T20:37:46.620557400Z"
    }
   },
   "outputs": [],
   "source": [
    "location = Location(\n",
    "    fi=Q_(50.8, 'deg'),\n",
    "    L_loc=Q_(4.2, 'deg')\n",
    ")"
   ]
  },
  {
   "cell_type": "markdown",
   "id": "1412e840-8d84-4c8c-8277-3ed06d031475",
   "metadata": {},
   "source": [
    "Prepare statistical solar radiation data for the month **June**, in which the monthly average daily clearness index K_T_avg is 0.43 (from [1], Appendix D):"
   ]
  },
  {
   "cell_type": "code",
   "execution_count": 5,
   "id": "ee6c09e9-787a-4694-a493-8484d28eec0a",
   "metadata": {
    "ExecuteTime": {
     "end_time": "2024-01-04T20:35:16.621050700Z",
     "start_time": "2024-01-04T20:35:16.568017200Z"
    }
   },
   "outputs": [],
   "source": [
    "sol_rad = SolarRadiation(\n",
    "    location=location,\n",
    "    month=6,\n",
    "    K_T_avg=0.43\n",
    ")"
   ]
  },
  {
   "cell_type": "markdown",
   "id": "79944b37-c2c6-4cc8-a291-f166ca1040b5",
   "metadata": {},
   "source": [
    "## Distribution of Daily Clearness Indexes"
   ]
  },
  {
   "cell_type": "code",
   "execution_count": 6,
   "id": "29c06b4d-62a3-4e5f-894e-ab51b2ee15e9",
   "metadata": {
    "ExecuteTime": {
     "start_time": "2024-01-04T20:35:16.570017500Z"
    }
   },
   "outputs": [
    {
     "name": "stdout",
     "output_type": "stream",
     "text": [
      "          K_T\n",
      "day          \n",
      "1    0.384809\n",
      "2    0.293920\n",
      "3    0.260244\n",
      "4    0.097258\n",
      "5    0.340310\n",
      "6    0.738207\n",
      "7    0.544285\n",
      "8    0.664396\n",
      "9    0.123800\n",
      "10   0.239065\n",
      "11   0.589485\n",
      "12   0.182470\n",
      "13   0.455848\n",
      "14   0.156456\n",
      "15   0.508004\n",
      "16   0.439172\n",
      "17   0.362174\n",
      "18   0.626546\n",
      "19   0.701116\n",
      "20   0.565196\n",
      "21   0.606897\n",
      "22   0.643071\n",
      "23   0.487463\n",
      "24   0.717399\n",
      "25   0.069447\n",
      "26   0.311064\n",
      "27   0.215718\n",
      "28   0.525701\n",
      "29   0.413290\n",
      "30   0.683963\n"
     ]
    }
   ],
   "source": [
    "df = pd.DataFrame(\n",
    "    data=[(day_number + 1, K_T) for day_number, K_T in enumerate(sol_rad.K_T_arr)], \n",
    "    columns=['day', 'K_T']\n",
    ")\n",
    "df = df.set_index(['day'], drop=True)\n",
    "print(df)"
   ]
  },
  {
   "cell_type": "markdown",
   "id": "56e7b538-82ee-452c-b799-d8ae904fc320",
   "metadata": {},
   "source": [
    "## Hourly Irradiation"
   ]
  },
  {
   "cell_type": "markdown",
   "id": "42387f1b-3abb-42ac-9d42-bfef82fdebad",
   "metadata": {},
   "source": [
    "### Horizontal Surface"
   ]
  },
  {
   "cell_type": "markdown",
   "id": "6a830088-cddd-417d-a9c7-dbf1f96f4513",
   "metadata": {},
   "source": [
    "**1.**<br>\n",
    "Get for every hour of **June 1** a statistical estimation of the hourly irradiation components (total, diffuse and beam) incident on a **horizontal surface**:"
   ]
  },
  {
   "cell_type": "code",
   "execution_count": 7,
   "id": "3951440f-bc77-40c3-b1b7-6c5660f4a691",
   "metadata": {
    "ExecuteTime": {
     "start_time": "2024-01-04T20:35:16.572018800Z"
    }
   },
   "outputs": [],
   "source": [
    "I_t, I_b, I_d = sol_rad.get_I_distribution(day=1)"
   ]
  },
  {
   "cell_type": "markdown",
   "id": "ec22ce26-a4a1-4cbe-aa14-faabc4019fe5",
   "metadata": {},
   "source": [
    "Show the data in a dataframe:"
   ]
  },
  {
   "cell_type": "code",
   "execution_count": 8,
   "id": "960c1590-5648-4870-974b-bfde51f7d341",
   "metadata": {
    "ExecuteTime": {
     "start_time": "2024-01-04T20:35:16.574017500Z"
    }
   },
   "outputs": [
    {
     "name": "stdout",
     "output_type": "stream",
     "text": [
      "         I_t       I_b       I_d\n",
      "0   0.000000  0.000000  0.000000\n",
      "1   0.000000  0.000000  0.000000\n",
      "2   0.000000  0.000000  0.000000\n",
      "3   0.000000  0.000000  0.000000\n",
      "4   0.000000  0.000000  0.000000\n",
      "5   0.317259  0.018867  0.298392\n",
      "6   0.588952  0.048251  0.540701\n",
      "7   0.886233  0.096001  0.790233\n",
      "8   1.181882  0.160681  1.021201\n",
      "9   1.443691  0.232765  1.210927\n",
      "10  1.639894  0.296042  1.343852\n",
      "11  1.745060  0.333240  1.411819\n",
      "12  1.745060  0.333240  1.411819\n",
      "13  1.639894  0.296042  1.343852\n",
      "14  1.443691  0.232765  1.210927\n",
      "15  1.181882  0.160681  1.021201\n",
      "16  0.886233  0.096001  0.790233\n",
      "17  0.588952  0.048251  0.540701\n",
      "18  0.317259  0.018867  0.298392\n",
      "19  0.000000  0.000000  0.000000\n",
      "20  0.000000  0.000000  0.000000\n",
      "21  0.000000  0.000000  0.000000\n",
      "22  0.000000  0.000000  0.000000\n",
      "23  0.000000  0.000000  0.000000\n"
     ]
    }
   ],
   "source": [
    "df = pd.DataFrame({\n",
    "    'I_t': [i_t.to('MJ / m**2').m for i_t in I_t],  # total radiation\n",
    "    'I_b': [i_b.to('MJ / m**2').m for i_b in I_b],  # beam radiation\n",
    "    'I_d': [i_d.to('MJ / m**2').m for i_d in I_d]   # diffuse radiation\n",
    "})\n",
    "print(df)"
   ]
  },
  {
   "cell_type": "markdown",
   "id": "507fee07-470c-4c00-966f-33b84a738230",
   "metadata": {},
   "source": [
    "**2.**<br>\n",
    "Show the same data in a plot:"
   ]
  },
  {
   "cell_type": "code",
   "execution_count": 9,
   "id": "826b3cb6-a5b8-43f3-8f4e-a0a0148d7a99",
   "metadata": {
    "ExecuteTime": {
     "start_time": "2024-01-04T20:35:16.576018300Z"
    }
   },
   "outputs": [
    {
     "data": {
      "image/png": "[encoded data removed]",
      "text/plain": [
       "<Figure size 640x480 with 1 Axes>"
      ]
     },
     "metadata": {},
     "output_type": "display_data"
    }
   ],
   "source": [
    "sol_rad.plot_hourly_irradiation(day=1)"
   ]
  },
  {
   "cell_type": "markdown",
   "id": "5e907ed6-11eb-4c11-ae08-e9255afdd7f2",
   "metadata": {},
   "source": [
    "**3.**<br>\n",
    "If we don't specify the day, `get_I_distribution()` returns a list with the hourly irradiation  components for every day of the whole month:"
   ]
  },
  {
   "cell_type": "code",
   "execution_count": 10,
   "id": "0218b2d1-30e9-49b3-a4d6-be3b1276348f",
   "metadata": {
    "ExecuteTime": {
     "start_time": "2024-01-04T20:35:16.578017100Z"
    }
   },
   "outputs": [],
   "source": [
    "irr_data_by_day = sol_rad.get_I_distribution()"
   ]
  },
  {
   "cell_type": "markdown",
   "id": "b876644b-e0b7-4be0-8e5b-64febcc3100b",
   "metadata": {},
   "source": [
    "Show the data in a dataframe:"
   ]
  },
  {
   "cell_type": "code",
   "execution_count": 11,
   "id": "3c719eb4-64dd-4d07-a196-0ad61e93ef48",
   "metadata": {
    "ExecuteTime": {
     "start_time": "2024-01-04T20:35:16.580017800Z"
    },
    "scrolled": true
   },
   "outputs": [
    {
     "name": "stdout",
     "output_type": "stream",
     "text": [
      "                          I_t       I_b       I_d\n",
      "time                                             \n",
      "2023-06-01 00:00:00  0.000000  0.000000  0.000000\n",
      "2023-06-01 01:00:00  0.000000  0.000000  0.000000\n",
      "2023-06-01 02:00:00  0.000000  0.000000  0.000000\n",
      "2023-06-01 03:00:00  0.000000  0.000000  0.000000\n",
      "2023-06-01 04:00:00  0.000000  0.000000  0.000000\n",
      "2023-06-01 05:00:00  0.317259  0.018867  0.298392\n",
      "2023-06-01 06:00:00  0.588952  0.048251  0.540701\n",
      "2023-06-01 07:00:00  0.886233  0.096001  0.790233\n",
      "2023-06-01 08:00:00  1.181882  0.160681  1.021201\n",
      "2023-06-01 09:00:00  1.443691  0.232765  1.210927\n",
      "2023-06-01 10:00:00  1.639894  0.296042  1.343852\n",
      "2023-06-01 11:00:00  1.745060  0.333240  1.411819\n",
      "2023-06-01 12:00:00  1.745060  0.333240  1.411819\n",
      "2023-06-01 13:00:00  1.639894  0.296042  1.343852\n",
      "2023-06-01 14:00:00  1.443691  0.232765  1.210927\n",
      "2023-06-01 15:00:00  1.181882  0.160681  1.021201\n",
      "2023-06-01 16:00:00  0.886233  0.096001  0.790233\n",
      "2023-06-01 17:00:00  0.588952  0.048251  0.540701\n",
      "2023-06-01 18:00:00  0.317259  0.018867  0.298392\n",
      "2023-06-01 19:00:00  0.000000  0.000000  0.000000\n",
      "2023-06-01 20:00:00  0.000000  0.000000  0.000000\n",
      "2023-06-01 21:00:00  0.000000  0.000000  0.000000\n",
      "2023-06-01 22:00:00  0.000000  0.000000  0.000000\n",
      "2023-06-01 23:00:00  0.000000  0.000000  0.000000\n",
      "2023-06-02 00:00:00  0.000000  0.000000  0.000000\n",
      "2023-06-02 01:00:00  0.000000  0.000000  0.000000\n",
      "2023-06-02 02:00:00  0.000000  0.000000  0.000000\n",
      "2023-06-02 03:00:00  0.000000  0.000000  0.000000\n",
      "2023-06-02 04:00:00  0.000000  0.000000  0.000000\n",
      "2023-06-02 05:00:00  0.244650  0.005680  0.238969\n",
      "2023-06-02 06:00:00  0.452206  0.013135  0.439071\n",
      "2023-06-02 07:00:00  0.679172  0.025222  0.653950\n",
      "2023-06-02 08:00:00  0.904787  0.042128  0.862659\n",
      "2023-06-02 09:00:00  1.104514  0.061670  1.042843\n",
      "2023-06-02 10:00:00  1.254158  0.079344  1.174814\n",
      "2023-06-02 11:00:00  1.334359  0.089933  1.244425\n",
      "2023-06-02 12:00:00  1.334359  0.089933  1.244425\n",
      "2023-06-02 13:00:00  1.254158  0.079344  1.174814\n",
      "2023-06-02 14:00:00  1.104514  0.061670  1.042843\n",
      "2023-06-02 15:00:00  0.904787  0.042128  0.862659\n",
      "2023-06-02 16:00:00  0.679172  0.025222  0.653950\n",
      "2023-06-02 17:00:00  0.452206  0.013135  0.439071\n",
      "2023-06-02 18:00:00  0.244650  0.005680  0.238969\n",
      "2023-06-02 19:00:00  0.000000  0.000000  0.000000\n",
      "2023-06-02 20:00:00  0.000000  0.000000  0.000000\n",
      "2023-06-02 21:00:00  0.000000  0.000000  0.000000\n",
      "2023-06-02 22:00:00  0.000000  0.000000  0.000000\n",
      "2023-06-02 23:00:00  0.000000  0.000000  0.000000\n",
      "2023-06-03 00:00:00  0.000000  0.000000  0.000000\n",
      "2023-06-03 01:00:00  0.000000  0.000000  0.000000\n",
      "2023-06-03 02:00:00  0.000000  0.000000  0.000000\n",
      "2023-06-03 03:00:00  0.000000  0.000000  0.000000\n",
      "2023-06-03 04:00:00  0.064377  0.001119  0.063258\n",
      "2023-06-03 05:00:00  0.218583  0.004149  0.214434\n",
      "2023-06-03 06:00:00  0.402386  0.008549  0.393836\n",
      "2023-06-03 07:00:00  0.603258  0.015029  0.588229\n",
      "2023-06-03 08:00:00  0.802850  0.023872  0.778978\n",
      "2023-06-03 09:00:00  0.979484  0.034090  0.945394\n",
      "2023-06-03 10:00:00  1.111799  0.043387  1.068412\n",
      "2023-06-03 11:00:00  1.182704  0.048988  1.133716\n",
      "2023-06-03 12:00:00  1.182704  0.048988  1.133716\n",
      "2023-06-03 13:00:00  1.111799  0.043387  1.068412\n",
      "2023-06-03 14:00:00  0.979484  0.034090  0.945394\n",
      "2023-06-03 15:00:00  0.802850  0.023872  0.778978\n",
      "2023-06-03 16:00:00  0.603258  0.015029  0.588229\n",
      "2023-06-03 17:00:00  0.402386  0.008549  0.393836\n",
      "2023-06-03 18:00:00  0.218583  0.004149  0.214434\n",
      "2023-06-03 19:00:00  0.064377  0.001119  0.063258\n",
      "2023-06-03 20:00:00  0.000000  0.000000  0.000000\n",
      "2023-06-03 21:00:00  0.000000  0.000000  0.000000\n",
      "2023-06-03 22:00:00  0.000000  0.000000  0.000000\n",
      "2023-06-03 23:00:00  0.000000  0.000000  0.000000\n",
      "2023-06-04 00:00:00  0.000000  0.000000  0.000000\n",
      "2023-06-04 01:00:00  0.000000  0.000000  0.000000\n",
      "2023-06-04 02:00:00  0.000000  0.000000  0.000000\n",
      "2023-06-04 03:00:00  0.000000  0.000000  0.000000\n",
      "2023-06-04 04:00:00  0.024709  0.000161  0.024548\n",
      "2023-06-04 05:00:00  0.082387  0.000585  0.081802\n",
      "2023-06-04 06:00:00  0.151086  0.001160  0.149926\n",
      "2023-06-04 07:00:00  0.226124  0.001861  0.224263\n",
      "2023-06-04 08:00:00  0.300653  0.002622  0.298031\n",
      "2023-06-04 09:00:00  0.366590  0.003345  0.363245\n",
      "2023-06-04 10:00:00  0.415973  0.003913  0.412060\n",
      "2023-06-04 11:00:00  0.442433  0.004227  0.438206\n",
      "2023-06-04 12:00:00  0.442433  0.004227  0.438206\n",
      "2023-06-04 13:00:00  0.415973  0.003913  0.412060\n",
      "2023-06-04 14:00:00  0.366590  0.003345  0.363245\n",
      "2023-06-04 15:00:00  0.300653  0.002622  0.298031\n",
      "2023-06-04 16:00:00  0.226124  0.001861  0.224263\n",
      "2023-06-04 17:00:00  0.151086  0.001160  0.149926\n",
      "2023-06-04 18:00:00  0.082387  0.000585  0.081802\n",
      "2023-06-04 19:00:00  0.024709  0.000161  0.024548\n",
      "2023-06-04 20:00:00  0.000000  0.000000  0.000000\n",
      "2023-06-04 21:00:00  0.000000  0.000000  0.000000\n",
      "2023-06-04 22:00:00  0.000000  0.000000  0.000000\n",
      "2023-06-04 23:00:00  0.000000  0.000000  0.000000\n",
      "2023-06-05 00:00:00  0.000000  0.000000  0.000000\n",
      "2023-06-05 01:00:00  0.000000  0.000000  0.000000\n",
      "2023-06-05 02:00:00  0.000000  0.000000  0.000000\n",
      "2023-06-05 03:00:00  0.000000  0.000000  0.000000\n",
      "2023-06-05 04:00:00  0.088617  0.002450  0.086167\n",
      "2023-06-05 05:00:00  0.290592  0.010863  0.279729\n",
      "2023-06-05 06:00:00  0.530995  0.026864  0.504132\n",
      "2023-06-05 07:00:00  0.793443  0.053054  0.740389\n",
      "2023-06-05 08:00:00  1.054010  0.089057  0.964953\n",
      "2023-06-05 09:00:00  1.284474  0.129776  1.154698\n",
      "2023-06-05 10:00:00  1.457046  0.165945  1.291102\n",
      "2023-06-05 11:00:00  1.549504  0.187368  1.362136\n",
      "2023-06-05 12:00:00  1.549504  0.187368  1.362136\n",
      "2023-06-05 13:00:00  1.457046  0.165945  1.291102\n",
      "2023-06-05 14:00:00  1.284474  0.129776  1.154698\n",
      "2023-06-05 15:00:00  1.054010  0.089057  0.964953\n",
      "2023-06-05 16:00:00  0.793443  0.053054  0.740389\n",
      "2023-06-05 17:00:00  0.530995  0.026864  0.504132\n",
      "2023-06-05 18:00:00  0.290592  0.010863  0.279729\n",
      "2023-06-05 19:00:00  0.088617  0.002450  0.086167\n",
      "2023-06-05 20:00:00  0.000000  0.000000  0.000000\n",
      "2023-06-05 21:00:00  0.000000  0.000000  0.000000\n",
      "2023-06-05 22:00:00  0.000000  0.000000  0.000000\n",
      "2023-06-05 23:00:00  0.000000  0.000000  0.000000\n",
      "2023-06-06 00:00:00  0.000000  0.000000  0.000000\n",
      "2023-06-06 01:00:00  0.000000  0.000000  0.000000\n",
      "2023-06-06 02:00:00  0.000000  0.000000  0.000000\n",
      "2023-06-06 03:00:00  0.000000  0.000000  0.000000\n",
      "2023-06-06 04:00:00  0.196664  0.088591  0.108073\n",
      "2023-06-06 05:00:00  0.635105  0.356614  0.278491\n",
      "2023-06-06 06:00:00  1.156632  0.767766  0.388866\n",
      "2023-06-06 07:00:00  1.725704  1.290642  0.435062\n",
      "2023-06-06 08:00:00  2.290490  1.840787  0.449703\n",
      "2023-06-06 09:00:00  2.789896  2.315484  0.474413\n",
      "2023-06-06 10:00:00  3.163790  2.643043  0.520747\n",
      "2023-06-06 11:00:00  3.364087  2.809012  0.555074\n",
      "2023-06-06 12:00:00  3.364087  2.809012  0.555074\n",
      "2023-06-06 13:00:00  3.163790  2.643043  0.520747\n",
      "2023-06-06 14:00:00  2.789896  2.315484  0.474413\n",
      "2023-06-06 15:00:00  2.290490  1.840787  0.449703\n",
      "2023-06-06 16:00:00  1.725704  1.290642  0.435062\n",
      "2023-06-06 17:00:00  1.156632  0.767766  0.388866\n",
      "2023-06-06 18:00:00  0.635105  0.356614  0.278491\n",
      "2023-06-06 19:00:00  0.196664  0.088591  0.108073\n",
      "2023-06-06 20:00:00  0.000000  0.000000  0.000000\n",
      "2023-06-06 21:00:00  0.000000  0.000000  0.000000\n",
      "2023-06-06 22:00:00  0.000000  0.000000  0.000000\n",
      "2023-06-06 23:00:00  0.000000  0.000000  0.000000\n",
      "2023-06-07 00:00:00  0.000000  0.000000  0.000000\n",
      "2023-06-07 01:00:00  0.000000  0.000000  0.000000\n",
      "2023-06-07 02:00:00  0.000000  0.000000  0.000000\n",
      "2023-06-07 03:00:00  0.000000  0.000000  0.000000\n",
      "2023-06-07 04:00:00  0.148085  0.025166  0.122919\n",
      "2023-06-07 05:00:00  0.471562  0.108699  0.362862\n",
      "2023-06-07 06:00:00  0.856109  0.254609  0.601500\n",
      "2023-06-07 07:00:00  1.275521  0.468582  0.806939\n",
      "2023-06-07 08:00:00  1.691632  0.733049  0.958582\n",
      "2023-06-07 09:00:00  2.059483  1.005884  1.053599\n",
      "2023-06-07 10:00:00  2.334839  1.231542  1.103297\n",
      "2023-06-07 11:00:00  2.482335  1.359249  1.123086\n",
      "2023-06-07 12:00:00  2.482335  1.359249  1.123086\n",
      "2023-06-07 13:00:00  2.334839  1.231542  1.103297\n",
      "2023-06-07 14:00:00  2.059483  1.005884  1.053599\n",
      "2023-06-07 15:00:00  1.691632  0.733049  0.958582\n",
      "2023-06-07 16:00:00  1.275521  0.468582  0.806939\n",
      "2023-06-07 17:00:00  0.856109  0.254609  0.601500\n",
      "2023-06-07 18:00:00  0.471562  0.108699  0.362862\n",
      "2023-06-07 19:00:00  0.148085  0.025166  0.122919\n",
      "2023-06-07 20:00:00  0.000000  0.000000  0.000000\n",
      "2023-06-07 21:00:00  0.000000  0.000000  0.000000\n",
      "2023-06-07 22:00:00  0.000000  0.000000  0.000000\n",
      "2023-06-07 23:00:00  0.000000  0.000000  0.000000\n",
      "2023-06-08 00:00:00  0.000000  0.000000  0.000000\n",
      "2023-06-08 01:00:00  0.000000  0.000000  0.000000\n",
      "2023-06-08 02:00:00  0.000000  0.000000  0.000000\n",
      "2023-06-08 03:00:00  0.000000  0.000000  0.000000\n",
      "2023-06-08 04:00:00  0.184296  0.061689  0.122607\n",
      "2023-06-08 05:00:00  0.579391  0.249288  0.330104\n",
      "2023-06-08 06:00:00  1.048818  0.552255  0.496562\n",
      "2023-06-08 07:00:00  1.560585  0.962701  0.597884\n",
      "2023-06-08 08:00:00  2.068161  1.430232  0.637929\n",
      "2023-06-08 09:00:00  2.516767  1.874750  0.642017\n",
      "2023-06-08 10:00:00  2.852521  2.216207  0.636314\n",
      "2023-06-08 11:00:00  3.032354  2.399379  0.632974\n",
      "2023-06-08 12:00:00  3.032354  2.399379  0.632974\n",
      "2023-06-08 13:00:00  2.852521  2.216207  0.636314\n",
      "2023-06-08 14:00:00  2.516767  1.874750  0.642017\n",
      "2023-06-08 15:00:00  2.068161  1.430232  0.637929\n",
      "2023-06-08 16:00:00  1.560585  0.962701  0.597884\n",
      "2023-06-08 17:00:00  1.048818  0.552255  0.496562\n",
      "2023-06-08 18:00:00  0.579391  0.249288  0.330104\n",
      "2023-06-08 19:00:00  0.184296  0.061689  0.122607\n",
      "2023-06-08 20:00:00  0.000000  0.000000  0.000000\n",
      "2023-06-08 21:00:00  0.000000  0.000000  0.000000\n",
      "2023-06-08 22:00:00  0.000000  0.000000  0.000000\n",
      "2023-06-08 23:00:00  0.000000  0.000000  0.000000\n",
      "2023-06-09 00:00:00  0.000000  0.000000  0.000000\n",
      "2023-06-09 01:00:00  0.000000  0.000000  0.000000\n",
      "2023-06-09 02:00:00  0.000000  0.000000  0.000000\n",
      "2023-06-09 03:00:00  0.000000  0.000000  0.000000\n",
      "2023-06-09 04:00:00  0.034955  0.000292  0.034664\n",
      "2023-06-09 05:00:00  0.108615  0.000987  0.107628\n",
      "2023-06-09 06:00:00  0.196087  0.001924  0.194163\n",
      "2023-06-09 07:00:00  0.291411  0.003061  0.288351\n",
      "2023-06-09 08:00:00  0.385927  0.004292  0.381635\n",
      "2023-06-09 09:00:00  0.469444  0.005457  0.463987\n",
      "2023-06-09 10:00:00  0.531942  0.006372  0.525570\n",
      "2023-06-09 11:00:00  0.565414  0.006877  0.558536\n",
      "2023-06-09 12:00:00  0.565414  0.006877  0.558536\n",
      "2023-06-09 13:00:00  0.531942  0.006372  0.525570\n",
      "2023-06-09 14:00:00  0.469444  0.005457  0.463987\n",
      "2023-06-09 15:00:00  0.385927  0.004292  0.381635\n",
      "2023-06-09 16:00:00  0.291411  0.003061  0.288351\n",
      "2023-06-09 17:00:00  0.196087  0.001924  0.194163\n",
      "2023-06-09 18:00:00  0.108615  0.000987  0.107628\n",
      "2023-06-09 19:00:00  0.034955  0.000292  0.034664\n",
      "2023-06-09 20:00:00  0.000000  0.000000  0.000000\n",
      "2023-06-09 21:00:00  0.000000  0.000000  0.000000\n",
      "2023-06-09 22:00:00  0.000000  0.000000  0.000000\n",
      "2023-06-09 23:00:00  0.000000  0.000000  0.000000\n",
      "2023-06-10 00:00:00  0.000000  0.000000  0.000000\n",
      "2023-06-10 01:00:00  0.000000  0.000000  0.000000\n",
      "2023-06-10 02:00:00  0.000000  0.000000  0.000000\n",
      "2023-06-10 03:00:00  0.000000  0.000000  0.000000\n",
      "2023-06-10 04:00:00  0.068603  0.001107  0.067496\n",
      "2023-06-10 05:00:00  0.210912  0.003705  0.207207\n",
      "2023-06-10 06:00:00  0.379828  0.007201  0.372627\n",
      "2023-06-10 07:00:00  0.563838  0.011737  0.552101\n",
      "2023-06-10 08:00:00  0.746237  0.017460  0.728777\n",
      "2023-06-10 09:00:00  0.907378  0.023913  0.883466\n",
      "2023-06-10 10:00:00  1.027950  0.029733  0.998216\n",
      "2023-06-10 11:00:00  1.092518  0.033231  1.059287\n",
      "2023-06-10 12:00:00  1.092518  0.033231  1.059287\n",
      "2023-06-10 13:00:00  1.027950  0.029733  0.998216\n",
      "2023-06-10 14:00:00  0.907378  0.023913  0.883466\n",
      "2023-06-10 15:00:00  0.746237  0.017460  0.728777\n",
      "2023-06-10 16:00:00  0.563838  0.011737  0.552101\n",
      "2023-06-10 17:00:00  0.379828  0.007201  0.372627\n",
      "2023-06-10 18:00:00  0.210912  0.003705  0.207207\n",
      "2023-06-10 19:00:00  0.068603  0.001107  0.067496\n",
      "2023-06-10 20:00:00  0.000000  0.000000  0.000000\n",
      "2023-06-10 21:00:00  0.000000  0.000000  0.000000\n",
      "2023-06-10 22:00:00  0.000000  0.000000  0.000000\n",
      "2023-06-10 23:00:00  0.000000  0.000000  0.000000\n",
      "2023-06-11 00:00:00  0.000000  0.000000  0.000000\n",
      "2023-06-11 01:00:00  0.000000  0.000000  0.000000\n",
      "2023-06-11 02:00:00  0.000000  0.000000  0.000000\n",
      "2023-06-11 03:00:00  0.000000  0.000000  0.000000\n",
      "2023-06-11 04:00:00  0.171665  0.039406  0.132260\n",
      "2023-06-11 05:00:00  0.522723  0.158605  0.364118\n",
      "2023-06-11 06:00:00  0.939232  0.359391  0.579841\n",
      "2023-06-11 07:00:00  1.392807  0.644378  0.748429\n",
      "2023-06-11 08:00:00  1.842296  0.986156  0.856140\n",
      "2023-06-11 09:00:00  2.239329  1.329255  0.910074\n",
      "2023-06-11 10:00:00  2.536366  1.606660  0.929706\n",
      "2023-06-11 11:00:00  2.695425  1.761253  0.934172\n",
      "2023-06-11 12:00:00  2.695425  1.761253  0.934172\n",
      "2023-06-11 13:00:00  2.536366  1.606660  0.929706\n",
      "2023-06-11 14:00:00  2.239329  1.329255  0.910074\n",
      "2023-06-11 15:00:00  1.842296  0.986156  0.856140\n",
      "2023-06-11 16:00:00  1.392807  0.644378  0.748429\n",
      "2023-06-11 17:00:00  0.939232  0.359391  0.579841\n",
      "2023-06-11 18:00:00  0.522723  0.158605  0.364118\n",
      "2023-06-11 19:00:00  0.171665  0.039406  0.132260\n",
      "2023-06-11 20:00:00  0.000000  0.000000  0.000000\n",
      "2023-06-11 21:00:00  0.000000  0.000000  0.000000\n",
      "2023-06-11 22:00:00  0.000000  0.000000  0.000000\n",
      "2023-06-11 23:00:00  0.000000  0.000000  0.000000\n",
      "2023-06-12 00:00:00  0.000000  0.000000  0.000000\n",
      "2023-06-12 01:00:00  0.000000  0.000000  0.000000\n",
      "2023-06-12 02:00:00  0.000000  0.000000  0.000000\n",
      "2023-06-12 03:00:00  0.000000  0.000000  0.000000\n",
      "2023-06-12 04:00:00  0.053847  0.000665  0.053182\n",
      "2023-06-12 05:00:00  0.162556  0.002183  0.160373\n",
      "2023-06-12 06:00:00  0.291480  0.004222  0.287258\n",
      "2023-06-12 07:00:00  0.431835  0.006692  0.425142\n",
      "2023-06-12 08:00:00  0.570893  0.009364  0.561529\n",
      "2023-06-12 09:00:00  0.693703  0.011889  0.681813\n",
      "2023-06-12 10:00:00  0.785571  0.013873  0.771698\n",
      "2023-06-12 11:00:00  0.834762  0.014967  0.819796\n",
      "2023-06-12 12:00:00  0.834762  0.014967  0.819796\n",
      "2023-06-12 13:00:00  0.785571  0.013873  0.771698\n",
      "2023-06-12 14:00:00  0.693703  0.011889  0.681813\n",
      "2023-06-12 15:00:00  0.570893  0.009364  0.561529\n",
      "2023-06-12 16:00:00  0.431835  0.006692  0.425142\n",
      "2023-06-12 17:00:00  0.291480  0.004222  0.287258\n",
      "2023-06-12 18:00:00  0.162556  0.002183  0.160373\n",
      "2023-06-12 19:00:00  0.053847  0.000665  0.053182\n",
      "2023-06-12 20:00:00  0.000000  0.000000  0.000000\n",
      "2023-06-12 21:00:00  0.000000  0.000000  0.000000\n",
      "2023-06-12 22:00:00  0.000000  0.000000  0.000000\n",
      "2023-06-12 23:00:00  0.000000  0.000000  0.000000\n",
      "2023-06-13 00:00:00  0.000000  0.000000  0.000000\n",
      "2023-06-13 01:00:00  0.000000  0.000000  0.000000\n",
      "2023-06-13 02:00:00  0.000000  0.000000  0.000000\n",
      "2023-06-13 03:00:00  0.000000  0.000000  0.000000\n",
      "2023-06-13 04:00:00  0.136127  0.012019  0.124109\n",
      "2023-06-13 05:00:00  0.407793  0.050098  0.357695\n",
      "2023-06-13 06:00:00  0.729864  0.119260  0.610604\n",
      "2023-06-13 07:00:00  1.080391  0.224882  0.855509\n",
      "2023-06-13 08:00:00  1.427608  0.360685  1.066924\n",
      "2023-06-13 09:00:00  1.734208  0.505929  1.228279\n",
      "2023-06-13 10:00:00  1.963539  0.629676  1.333863\n",
      "2023-06-13 11:00:00  2.086328  0.701107  1.385221\n",
      "2023-06-13 12:00:00  2.086328  0.701107  1.385221\n",
      "2023-06-13 13:00:00  1.963539  0.629676  1.333863\n",
      "2023-06-13 14:00:00  1.734208  0.505929  1.228279\n",
      "2023-06-13 15:00:00  1.427608  0.360685  1.066924\n",
      "2023-06-13 16:00:00  1.080391  0.224882  0.855509\n",
      "2023-06-13 17:00:00  0.729864  0.119260  0.610604\n",
      "2023-06-13 18:00:00  0.407793  0.050098  0.357695\n",
      "2023-06-13 19:00:00  0.136127  0.012019  0.124109\n",
      "2023-06-13 20:00:00  0.000000  0.000000  0.000000\n",
      "2023-06-13 21:00:00  0.000000  0.000000  0.000000\n",
      "2023-06-13 22:00:00  0.000000  0.000000  0.000000\n",
      "2023-06-13 23:00:00  0.000000  0.000000  0.000000\n",
      "2023-06-14 00:00:00  0.000000  0.000000  0.000000\n",
      "2023-06-14 01:00:00  0.000000  0.000000  0.000000\n",
      "2023-06-14 02:00:00  0.000000  0.000000  0.000000\n",
      "2023-06-14 03:00:00  0.000000  0.000000  0.000000\n",
      "2023-06-14 04:00:00  0.047216  0.000501  0.046715\n",
      "2023-06-14 05:00:00  0.140483  0.001619  0.138864\n",
      "2023-06-14 06:00:00  0.251020  0.003121  0.247900\n",
      "2023-06-14 07:00:00  0.371294  0.004937  0.366357\n",
      "2023-06-14 08:00:00  0.490410  0.006899  0.483510\n",
      "2023-06-14 09:00:00  0.595577  0.008754  0.586823\n",
      "2023-06-14 10:00:00  0.674234  0.010210  0.664023\n",
      "2023-06-14 11:00:00  0.716346  0.011013  0.705333\n",
      "2023-06-14 12:00:00  0.716346  0.011013  0.705333\n",
      "2023-06-14 13:00:00  0.674234  0.010210  0.664023\n",
      "2023-06-14 14:00:00  0.595577  0.008754  0.586823\n",
      "2023-06-14 15:00:00  0.490410  0.006899  0.483510\n",
      "2023-06-14 16:00:00  0.371294  0.004937  0.366357\n",
      "2023-06-14 17:00:00  0.251020  0.003121  0.247900\n",
      "2023-06-14 18:00:00  0.140483  0.001619  0.138864\n",
      "2023-06-14 19:00:00  0.047216  0.000501  0.046715\n",
      "2023-06-14 20:00:00  0.000000  0.000000  0.000000\n",
      "2023-06-14 21:00:00  0.000000  0.000000  0.000000\n",
      "2023-06-14 22:00:00  0.000000  0.000000  0.000000\n",
      "2023-06-14 23:00:00  0.000000  0.000000  0.000000\n",
      "2023-06-15 00:00:00  0.000000  0.000000  0.000000\n",
      "2023-06-15 01:00:00  0.000000  0.000000  0.000000\n",
      "2023-06-15 02:00:00  0.000000  0.000000  0.000000\n",
      "2023-06-15 03:00:00  0.000000  0.000000  0.000000\n",
      "2023-06-15 04:00:00  0.154721  0.020995  0.133726\n",
      "2023-06-15 05:00:00  0.457627  0.084556  0.373071\n",
      "2023-06-15 06:00:00  0.816516  0.196247  0.620269\n",
      "2023-06-15 07:00:00  1.206932  0.361681  0.845251\n",
      "2023-06-15 08:00:00  1.593527  0.568649  1.024878\n",
      "2023-06-15 09:00:00  1.934811  0.784885  1.149926\n",
      "2023-06-15 10:00:00  2.190043  0.965772  1.224271\n",
      "2023-06-15 11:00:00  2.326686  1.068960  1.257726\n",
      "2023-06-15 12:00:00  2.326686  1.068960  1.257726\n",
      "2023-06-15 13:00:00  2.190043  0.965772  1.224271\n",
      "2023-06-15 14:00:00  1.934811  0.784885  1.149926\n",
      "2023-06-15 15:00:00  1.593527  0.568649  1.024878\n",
      "2023-06-15 16:00:00  1.206932  0.361681  0.845251\n",
      "2023-06-15 17:00:00  0.816516  0.196247  0.620269\n",
      "2023-06-15 18:00:00  0.457627  0.084556  0.373071\n",
      "2023-06-15 19:00:00  0.154721  0.020995  0.133726\n",
      "2023-06-15 20:00:00  0.000000  0.000000  0.000000\n",
      "2023-06-15 21:00:00  0.000000  0.000000  0.000000\n",
      "2023-06-15 22:00:00  0.000000  0.000000  0.000000\n",
      "2023-06-15 23:00:00  0.000000  0.000000  0.000000\n",
      "2023-06-16 00:00:00  0.000000  0.000000  0.000000\n",
      "2023-06-16 01:00:00  0.000000  0.000000  0.000000\n",
      "2023-06-16 02:00:00  0.000000  0.000000  0.000000\n",
      "2023-06-16 03:00:00  0.000000  0.000000  0.000000\n",
      "2023-06-16 04:00:00  0.134818  0.010335  0.124483\n",
      "2023-06-16 05:00:00  0.396730  0.042405  0.354326\n",
      "2023-06-16 06:00:00  0.706975  0.100952  0.606023\n",
      "2023-06-16 07:00:00  1.044409  0.190928  0.853480\n",
      "2023-06-16 08:00:00  1.378492  0.307347  1.071144\n",
      "2023-06-16 09:00:00  1.673389  0.432567  1.240822\n",
      "2023-06-16 10:00:00  1.893914  0.539738  1.354177\n",
      "2023-06-16 11:00:00  2.011972  0.601784  1.410189\n",
      "2023-06-16 12:00:00  2.011972  0.601784  1.410189\n",
      "2023-06-16 13:00:00  1.893914  0.539738  1.354177\n",
      "2023-06-16 14:00:00  1.673389  0.432567  1.240822\n",
      "2023-06-16 15:00:00  1.378492  0.307347  1.071144\n",
      "2023-06-16 16:00:00  1.044409  0.190928  0.853480\n",
      "2023-06-16 17:00:00  0.706975  0.100952  0.606023\n",
      "2023-06-16 18:00:00  0.396730  0.042405  0.354326\n",
      "2023-06-16 19:00:00  0.134818  0.010335  0.124483\n",
      "2023-06-16 20:00:00  0.000000  0.000000  0.000000\n",
      "2023-06-16 21:00:00  0.000000  0.000000  0.000000\n",
      "2023-06-16 22:00:00  0.000000  0.000000  0.000000\n",
      "2023-06-16 23:00:00  0.000000  0.000000  0.000000\n",
      "2023-06-17 00:00:00  0.000000  0.000000  0.000000\n",
      "2023-06-17 01:00:00  0.000000  0.000000  0.000000\n",
      "2023-06-17 02:00:00  0.000000  0.000000  0.000000\n",
      "2023-06-17 03:00:00  0.000000  0.000000  0.000000\n",
      "2023-06-17 04:00:00  0.111921  0.004003  0.107918\n",
      "2023-06-17 05:00:00  0.327945  0.016170  0.311775\n",
      "2023-06-17 06:00:00  0.583779  0.038984  0.544796\n",
      "2023-06-17 07:00:00  0.861991  0.075428  0.786563\n",
      "2023-06-17 08:00:00  1.137406  0.124395  1.013011\n",
      "2023-06-17 09:00:00  1.380496  0.178779  1.201716\n",
      "2023-06-17 10:00:00  1.562269  0.226469  1.335800\n",
      "2023-06-17 11:00:00  1.659578  0.254501  1.405076\n",
      "2023-06-17 12:00:00  1.659578  0.254501  1.405076\n",
      "2023-06-17 13:00:00  1.562269  0.226469  1.335800\n",
      "2023-06-17 14:00:00  1.380496  0.178779  1.201716\n",
      "2023-06-17 15:00:00  1.137406  0.124395  1.013011\n",
      "2023-06-17 16:00:00  0.861991  0.075428  0.786563\n",
      "2023-06-17 17:00:00  0.583779  0.038984  0.544796\n",
      "2023-06-17 18:00:00  0.327945  0.016170  0.311775\n",
      "2023-06-17 19:00:00  0.111921  0.004003  0.107918\n",
      "2023-06-17 20:00:00  0.000000  0.000000  0.000000\n",
      "2023-06-17 21:00:00  0.000000  0.000000  0.000000\n",
      "2023-06-17 22:00:00  0.000000  0.000000  0.000000\n",
      "2023-06-17 23:00:00  0.000000  0.000000  0.000000\n",
      "2023-06-18 00:00:00  0.000000  0.000000  0.000000\n",
      "2023-06-18 01:00:00  0.000000  0.000000  0.000000\n",
      "2023-06-18 02:00:00  0.000000  0.000000  0.000000\n",
      "2023-06-18 03:00:00  0.000000  0.000000  0.000000\n",
      "2023-06-18 04:00:00  0.194663  0.055676  0.138987\n",
      "2023-06-18 05:00:00  0.568412  0.210258  0.358154\n",
      "2023-06-18 06:00:00  1.010964  0.462520  0.548444\n",
      "2023-06-18 07:00:00  1.492160  0.810206  0.681954\n",
      "2023-06-18 08:00:00  1.968474  1.215558  0.752916\n",
      "2023-06-18 09:00:00  2.388854  1.611718  0.777136\n",
      "2023-06-18 10:00:00  2.703182  1.924644  0.778538\n",
      "2023-06-18 11:00:00  2.871447  2.096196  0.775251\n",
      "2023-06-18 12:00:00  2.871447  2.096196  0.775251\n",
      "2023-06-18 13:00:00  2.703182  1.924644  0.778538\n",
      "2023-06-18 14:00:00  2.388854  1.611718  0.777136\n",
      "2023-06-18 15:00:00  1.968474  1.215558  0.752916\n",
      "2023-06-18 16:00:00  1.492160  0.810206  0.681954\n",
      "2023-06-18 17:00:00  1.010964  0.462520  0.548444\n",
      "2023-06-18 18:00:00  0.568412  0.210258  0.358154\n",
      "2023-06-18 19:00:00  0.194663  0.055676  0.138987\n",
      "2023-06-18 20:00:00  0.000000  0.000000  0.000000\n",
      "2023-06-18 21:00:00  0.000000  0.000000  0.000000\n",
      "2023-06-18 22:00:00  0.000000  0.000000  0.000000\n",
      "2023-06-18 23:00:00  0.000000  0.000000  0.000000\n",
      "2023-06-19 00:00:00  0.000000  0.000000  0.000000\n",
      "2023-06-19 01:00:00  0.000000  0.000000  0.000000\n",
      "2023-06-19 02:00:00  0.000000  0.000000  0.000000\n",
      "2023-06-19 03:00:00  0.000000  0.000000  0.000000\n",
      "2023-06-19 04:00:00  0.218738  0.088261  0.130477\n",
      "2023-06-19 05:00:00  0.636993  0.321699  0.315294\n",
      "2023-06-19 06:00:00  1.132179  0.683463  0.448716\n",
      "2023-06-19 07:00:00  1.670551  1.154342  0.516209\n",
      "2023-06-19 08:00:00  2.203420  1.668825  0.534595\n",
      "2023-06-19 09:00:00  2.673686  2.136969  0.536717\n",
      "2023-06-19 10:00:00  3.025304  2.481444  0.543860\n",
      "2023-06-19 11:00:00  3.213526  2.660121  0.553405\n",
      "2023-06-19 12:00:00  3.213526  2.660121  0.553405\n",
      "2023-06-19 13:00:00  3.025304  2.481444  0.543860\n",
      "2023-06-19 14:00:00  2.673686  2.136969  0.536717\n",
      "2023-06-19 15:00:00  2.203420  1.668825  0.534595\n",
      "2023-06-19 16:00:00  1.670551  1.154342  0.516209\n",
      "2023-06-19 17:00:00  1.132179  0.683463  0.448716\n",
      "2023-06-19 18:00:00  0.636993  0.321699  0.315294\n",
      "2023-06-19 19:00:00  0.218738  0.088261  0.130477\n",
      "2023-06-19 20:00:00  0.000000  0.000000  0.000000\n",
      "2023-06-19 21:00:00  0.000000  0.000000  0.000000\n",
      "2023-06-19 22:00:00  0.000000  0.000000  0.000000\n",
      "2023-06-19 23:00:00  0.000000  0.000000  0.000000\n",
      "2023-06-20 00:00:00  0.000000  0.000000  0.000000\n",
      "2023-06-20 01:00:00  0.000000  0.000000  0.000000\n",
      "2023-06-20 02:00:00  0.000000  0.000000  0.000000\n",
      "2023-06-20 03:00:00  0.000000  0.000000  0.000000\n",
      "2023-06-20 04:00:00  0.176850  0.035771  0.141079\n",
      "2023-06-20 05:00:00  0.514025  0.137878  0.376147\n",
      "2023-06-20 06:00:00  0.913180  0.310699  0.602481\n",
      "2023-06-20 07:00:00  1.347114  0.557931  0.789183\n",
      "2023-06-20 08:00:00  1.776588  0.857402  0.919187\n",
      "2023-06-20 09:00:00  2.155593  1.161338  0.994255\n",
      "2023-06-20 10:00:00  2.438967  1.409610  1.029357\n",
      "2023-06-20 11:00:00  2.590655  1.549002  1.041654\n",
      "2023-06-20 12:00:00  2.590655  1.549002  1.041654\n",
      "2023-06-20 13:00:00  2.438967  1.409610  1.029357\n",
      "2023-06-20 14:00:00  2.155593  1.161338  0.994255\n",
      "2023-06-20 15:00:00  1.776588  0.857402  0.919187\n",
      "2023-06-20 16:00:00  1.347114  0.557931  0.789183\n",
      "2023-06-20 17:00:00  0.913180  0.310699  0.602481\n",
      "2023-06-20 18:00:00  0.514025  0.137878  0.376147\n",
      "2023-06-20 19:00:00  0.176850  0.035771  0.141079\n",
      "2023-06-20 20:00:00  0.000000  0.000000  0.000000\n",
      "2023-06-20 21:00:00  0.000000  0.000000  0.000000\n",
      "2023-06-20 22:00:00  0.000000  0.000000  0.000000\n",
      "2023-06-20 23:00:00  0.000000  0.000000  0.000000\n",
      "2023-06-21 00:00:00  0.000000  0.000000  0.000000\n",
      "2023-06-21 01:00:00  0.000000  0.000000  0.000000\n",
      "2023-06-21 02:00:00  0.000000  0.000000  0.000000\n",
      "2023-06-21 03:00:00  0.000000  0.000000  0.000000\n",
      "2023-06-21 04:00:00  0.190226  0.049128  0.141098\n",
      "2023-06-21 05:00:00  0.552267  0.185842  0.366425\n",
      "2023-06-21 06:00:00  0.980835  0.411428  0.569407\n",
      "2023-06-21 07:00:00  1.446725  0.726073  0.720651\n",
      "2023-06-21 08:00:00  1.907811  1.097636  0.810175\n",
      "2023-06-21 09:00:00  2.314703  1.465583  0.849120\n",
      "2023-06-21 10:00:00  2.618923  1.759758  0.859165\n",
      "2023-06-21 11:00:00  2.781769  1.922454  0.859315\n",
      "2023-06-21 12:00:00  2.781769  1.922454  0.859315\n",
      "2023-06-21 13:00:00  2.618923  1.759758  0.859165\n",
      "2023-06-21 14:00:00  2.314703  1.465583  0.849120\n",
      "2023-06-21 15:00:00  1.907811  1.097636  0.810175\n",
      "2023-06-21 16:00:00  1.446725  0.726073  0.720651\n",
      "2023-06-21 17:00:00  0.980835  0.411428  0.569407\n",
      "2023-06-21 18:00:00  0.552267  0.185842  0.366425\n",
      "2023-06-21 19:00:00  0.190226  0.049128  0.141098\n",
      "2023-06-21 20:00:00  0.000000  0.000000  0.000000\n",
      "2023-06-21 21:00:00  0.000000  0.000000  0.000000\n",
      "2023-06-21 22:00:00  0.000000  0.000000  0.000000\n",
      "2023-06-21 23:00:00  0.000000  0.000000  0.000000\n",
      "2023-06-22 00:00:00  0.000000  0.000000  0.000000\n",
      "2023-06-22 01:00:00  0.000000  0.000000  0.000000\n",
      "2023-06-22 02:00:00  0.000000  0.000000  0.000000\n",
      "2023-06-22 03:00:00  0.000000  0.000000  0.000000\n",
      "2023-06-22 04:00:00  0.201669  0.062828  0.138840\n",
      "2023-06-22 05:00:00  0.585260  0.233957  0.351303\n",
      "2023-06-22 06:00:00  1.039331  0.509914  0.529417\n",
      "2023-06-22 07:00:00  1.532936  0.885664  0.647272\n",
      "2023-06-22 08:00:00  2.021447  1.318191  0.703256\n",
      "2023-06-22 09:00:00  2.452537  1.735454  0.717084\n",
      "2023-06-22 10:00:00  2.774847  2.061118  0.713729\n",
      "2023-06-22 11:00:00  2.947376  2.238086  0.709290\n",
      "2023-06-22 12:00:00  2.947376  2.238086  0.709290\n",
      "2023-06-22 13:00:00  2.774847  2.061118  0.713729\n",
      "2023-06-22 14:00:00  2.452537  1.735454  0.717084\n",
      "2023-06-22 15:00:00  2.021447  1.318191  0.703256\n",
      "2023-06-22 16:00:00  1.532936  0.885664  0.647272\n",
      "2023-06-22 17:00:00  1.039331  0.509914  0.529417\n",
      "2023-06-22 18:00:00  0.585260  0.233957  0.351303\n",
      "2023-06-22 19:00:00  0.201669  0.062828  0.138840\n",
      "2023-06-22 20:00:00  0.000000  0.000000  0.000000\n",
      "2023-06-22 21:00:00  0.000000  0.000000  0.000000\n",
      "2023-06-22 22:00:00  0.000000  0.000000  0.000000\n",
      "2023-06-22 23:00:00  0.000000  0.000000  0.000000\n",
      "2023-06-23 00:00:00  0.000000  0.000000  0.000000\n",
      "2023-06-23 01:00:00  0.000000  0.000000  0.000000\n",
      "2023-06-23 02:00:00  0.000000  0.000000  0.000000\n",
      "2023-06-23 03:00:00  0.000000  0.000000  0.000000\n",
      "2023-06-23 04:00:00  0.152765  0.017847  0.134918\n",
      "2023-06-23 05:00:00  0.443503  0.070916  0.372587\n",
      "2023-06-23 06:00:00  0.787666  0.164892  0.622774\n",
      "2023-06-23 07:00:00  1.161799  0.305256  0.856543\n",
      "2023-06-23 08:00:00  1.532076  0.482335  1.049740\n",
      "2023-06-23 09:00:00  1.858831  0.668784  1.190047\n",
      "2023-06-23 10:00:00  2.103135  0.825757  1.277378\n",
      "2023-06-23 11:00:00  2.233909  0.915688  1.318220\n",
      "2023-06-23 12:00:00  2.233909  0.915688  1.318220\n",
      "2023-06-23 13:00:00  2.103135  0.825757  1.277378\n",
      "2023-06-23 14:00:00  1.858831  0.668784  1.190047\n",
      "2023-06-23 15:00:00  1.532076  0.482335  1.049740\n",
      "2023-06-23 16:00:00  1.161799  0.305256  0.856543\n",
      "2023-06-23 17:00:00  0.787666  0.164892  0.622774\n",
      "2023-06-23 18:00:00  0.443503  0.070916  0.372587\n",
      "2023-06-23 19:00:00  0.152765  0.017847  0.134918\n",
      "2023-06-23 20:00:00  0.000000  0.000000  0.000000\n",
      "2023-06-23 21:00:00  0.000000  0.000000  0.000000\n",
      "2023-06-23 22:00:00  0.000000  0.000000  0.000000\n",
      "2023-06-23 23:00:00  0.000000  0.000000  0.000000\n",
      "2023-06-24 00:00:00  0.000000  0.000000  0.000000\n",
      "2023-06-24 01:00:00  0.000000  0.000000  0.000000\n",
      "2023-06-24 02:00:00  0.000000  0.000000  0.000000\n",
      "2023-06-24 03:00:00  0.000000  0.000000  0.000000\n",
      "2023-06-24 04:00:00  0.224400  0.096671  0.127729\n",
      "2023-06-24 05:00:00  0.652210  0.348971  0.303240\n",
      "2023-06-24 06:00:00  1.158662  0.734942  0.423720\n",
      "2023-06-24 07:00:00  1.709240  1.229708  0.479532\n",
      "2023-06-24 08:00:00  2.254160  1.760251  0.493909\n",
      "2023-06-24 09:00:00  2.735043  2.232232  0.502811\n",
      "2023-06-24 10:00:00  3.094589  2.571072  0.523517\n",
      "2023-06-24 11:00:00  3.287052  2.743176  0.543876\n",
      "2023-06-24 12:00:00  3.287052  2.743176  0.543876\n",
      "2023-06-24 13:00:00  3.094589  2.571072  0.523517\n",
      "2023-06-24 14:00:00  2.735043  2.232232  0.502811\n",
      "2023-06-24 15:00:00  2.254160  1.760251  0.493909\n",
      "2023-06-24 16:00:00  1.709240  1.229708  0.479532\n",
      "2023-06-24 17:00:00  1.158662  0.734942  0.423720\n",
      "2023-06-24 18:00:00  0.652210  0.348971  0.303240\n",
      "2023-06-24 19:00:00  0.224400  0.096671  0.127729\n",
      "2023-06-24 20:00:00  0.000000  0.000000  0.000000\n",
      "2023-06-24 21:00:00  0.000000  0.000000  0.000000\n",
      "2023-06-24 22:00:00  0.000000  0.000000  0.000000\n",
      "2023-06-24 23:00:00  0.000000  0.000000  0.000000\n",
      "2023-06-25 00:00:00  0.000000  0.000000  0.000000\n",
      "2023-06-25 01:00:00  0.000000  0.000000  0.000000\n",
      "2023-06-25 02:00:00  0.000000  0.000000  0.000000\n",
      "2023-06-25 03:00:00  0.000000  0.000000  0.000000\n",
      "2023-06-25 04:00:00  0.021656  0.000102  0.021553\n",
      "2023-06-25 05:00:00  0.063061  0.000323  0.062738\n",
      "2023-06-25 06:00:00  0.112082  0.000619  0.111463\n",
      "2023-06-25 07:00:00  0.165378  0.000977  0.164402\n",
      "2023-06-25 08:00:00  0.218130  0.001363  0.216767\n",
      "2023-06-25 09:00:00  0.264684  0.001727  0.262957\n",
      "2023-06-25 10:00:00  0.299492  0.002013  0.297479\n",
      "2023-06-25 11:00:00  0.318125  0.002171  0.315954\n",
      "2023-06-25 12:00:00  0.318125  0.002171  0.315954\n",
      "2023-06-25 13:00:00  0.299492  0.002013  0.297479\n",
      "2023-06-25 14:00:00  0.264684  0.001727  0.262957\n",
      "2023-06-25 15:00:00  0.218130  0.001363  0.216767\n",
      "2023-06-25 16:00:00  0.165378  0.000977  0.164402\n",
      "2023-06-25 17:00:00  0.112082  0.000619  0.111463\n",
      "2023-06-25 18:00:00  0.063061  0.000323  0.062738\n",
      "2023-06-25 19:00:00  0.021656  0.000102  0.021553\n",
      "2023-06-25 20:00:00  0.000000  0.000000  0.000000\n",
      "2023-06-25 21:00:00  0.000000  0.000000  0.000000\n",
      "2023-06-25 22:00:00  0.000000  0.000000  0.000000\n",
      "2023-06-25 23:00:00  0.000000  0.000000  0.000000\n",
      "2023-06-26 00:00:00  0.000000  0.000000  0.000000\n",
      "2023-06-26 01:00:00  0.000000  0.000000  0.000000\n",
      "2023-06-26 02:00:00  0.000000  0.000000  0.000000\n",
      "2023-06-26 03:00:00  0.000000  0.000000  0.000000\n",
      "2023-06-26 04:00:00  0.096581  0.002175  0.094406\n",
      "2023-06-26 05:00:00  0.281997  0.007958  0.274039\n",
      "2023-06-26 06:00:00  0.501546  0.018360  0.483186\n",
      "2023-06-26 07:00:00  0.740265  0.035079  0.705185\n",
      "2023-06-26 08:00:00  0.976561  0.058004  0.918557\n",
      "2023-06-26 09:00:00  1.185109  0.084005  1.101104\n",
      "2023-06-26 10:00:00  1.341045  0.107189  1.233856\n",
      "2023-06-26 11:00:00  1.424520  0.120960  1.303560\n",
      "2023-06-26 12:00:00  1.424520  0.120960  1.303560\n",
      "2023-06-26 13:00:00  1.341045  0.107189  1.233856\n",
      "2023-06-26 14:00:00  1.185109  0.084005  1.101104\n",
      "2023-06-26 15:00:00  0.976561  0.058004  0.918557\n",
      "2023-06-26 16:00:00  0.740265  0.035079  0.705185\n",
      "2023-06-26 17:00:00  0.501546  0.018360  0.483186\n",
      "2023-06-26 18:00:00  0.281997  0.007958  0.274039\n",
      "2023-06-26 19:00:00  0.096581  0.002175  0.094406\n",
      "2023-06-26 20:00:00  0.000000  0.000000  0.000000\n",
      "2023-06-26 21:00:00  0.000000  0.000000  0.000000\n",
      "2023-06-26 22:00:00  0.000000  0.000000  0.000000\n",
      "2023-06-26 23:00:00  0.000000  0.000000  0.000000\n",
      "2023-06-27 00:00:00  0.000000  0.000000  0.000000\n",
      "2023-06-27 01:00:00  0.000000  0.000000  0.000000\n",
      "2023-06-27 02:00:00  0.000000  0.000000  0.000000\n",
      "2023-06-27 03:00:00  0.000000  0.000000  0.000000\n",
      "2023-06-27 04:00:00  0.066607  0.000976  0.065632\n",
      "2023-06-27 05:00:00  0.195153  0.003106  0.192047\n",
      "2023-06-27 06:00:00  0.347388  0.005960  0.341428\n",
      "2023-06-27 07:00:00  0.512938  0.009409  0.503529\n",
      "2023-06-27 08:00:00  0.676824  0.013134  0.663690\n",
      "2023-06-27 09:00:00  0.821474  0.017073  0.804401\n",
      "2023-06-27 10:00:00  0.929638  0.020415  0.909222\n",
      "2023-06-27 11:00:00  0.987541  0.022403  0.965138\n",
      "2023-06-27 12:00:00  0.987541  0.022403  0.965138\n",
      "2023-06-27 13:00:00  0.929638  0.020415  0.909222\n",
      "2023-06-27 14:00:00  0.821474  0.017073  0.804401\n",
      "2023-06-27 15:00:00  0.676824  0.013134  0.663690\n",
      "2023-06-27 16:00:00  0.512938  0.009409  0.503529\n",
      "2023-06-27 17:00:00  0.347388  0.005960  0.341428\n",
      "2023-06-27 18:00:00  0.195153  0.003106  0.192047\n",
      "2023-06-27 19:00:00  0.066607  0.000976  0.065632\n",
      "2023-06-27 20:00:00  0.000000  0.000000  0.000000\n",
      "2023-06-27 21:00:00  0.000000  0.000000  0.000000\n",
      "2023-06-27 22:00:00  0.000000  0.000000  0.000000\n",
      "2023-06-27 23:00:00  0.000000  0.000000  0.000000\n",
      "2023-06-28 00:00:00  0.000000  0.000000  0.000000\n",
      "2023-06-28 01:00:00  0.000000  0.000000  0.000000\n",
      "2023-06-28 02:00:00  0.000000  0.000000  0.000000\n",
      "2023-06-28 03:00:00  0.000000  0.000000  0.000000\n",
      "2023-06-28 04:00:00  0.161223  0.024943  0.136280\n",
      "2023-06-28 05:00:00  0.474384  0.099131  0.375252\n",
      "2023-06-28 06:00:00  0.845331  0.228003  0.617328\n",
      "2023-06-28 07:00:00  1.248786  0.416877  0.831909\n",
      "2023-06-28 08:00:00  1.648234  0.650903  0.997331\n",
      "2023-06-28 09:00:00  2.000828  0.893344  1.107484\n",
      "2023-06-28 10:00:00  2.264500  1.094774  1.169726\n",
      "2023-06-28 11:00:00  2.405655  1.209165  1.196491\n",
      "2023-06-28 12:00:00  2.405655  1.209165  1.196491\n",
      "2023-06-28 13:00:00  2.264500  1.094774  1.169726\n",
      "2023-06-28 14:00:00  2.000828  0.893344  1.107484\n",
      "2023-06-28 15:00:00  1.648234  0.650903  0.997331\n",
      "2023-06-28 16:00:00  1.248786  0.416877  0.831909\n",
      "2023-06-28 17:00:00  0.845331  0.228003  0.617328\n",
      "2023-06-28 18:00:00  0.474384  0.099131  0.375252\n",
      "2023-06-28 19:00:00  0.161223  0.024943  0.136280\n",
      "2023-06-28 20:00:00  0.000000  0.000000  0.000000\n",
      "2023-06-28 21:00:00  0.000000  0.000000  0.000000\n",
      "2023-06-28 22:00:00  0.000000  0.000000  0.000000\n",
      "2023-06-28 23:00:00  0.000000  0.000000  0.000000\n",
      "2023-06-29 00:00:00  0.000000  0.000000  0.000000\n",
      "2023-06-29 01:00:00  0.000000  0.000000  0.000000\n",
      "2023-06-29 02:00:00  0.000000  0.000000  0.000000\n",
      "2023-06-29 03:00:00  0.000000  0.000000  0.000000\n",
      "2023-06-29 04:00:00  0.125732  0.007516  0.118216\n",
      "2023-06-29 05:00:00  0.371836  0.031159  0.340677\n",
      "2023-06-29 06:00:00  0.663424  0.074948  0.588476\n",
      "2023-06-29 07:00:00  0.980626  0.143254  0.837372\n",
      "2023-06-29 08:00:00  1.294721  0.232823  1.061897\n",
      "2023-06-29 09:00:00  1.572002  0.330243  1.241759\n",
      "2023-06-29 10:00:00  1.779368  0.414326  1.365042\n",
      "2023-06-29 11:00:00  1.890385  0.463263  1.427122\n",
      "2023-06-29 12:00:00  1.890385  0.463263  1.427122\n",
      "2023-06-29 13:00:00  1.779368  0.414326  1.365042\n",
      "2023-06-29 14:00:00  1.572002  0.330243  1.241759\n",
      "2023-06-29 15:00:00  1.294721  0.232823  1.061897\n",
      "2023-06-29 16:00:00  0.980626  0.143254  0.837372\n",
      "2023-06-29 17:00:00  0.663424  0.074948  0.588476\n",
      "2023-06-29 18:00:00  0.371836  0.031159  0.340677\n",
      "2023-06-29 19:00:00  0.125732  0.007516  0.118216\n",
      "2023-06-29 20:00:00  0.000000  0.000000  0.000000\n",
      "2023-06-29 21:00:00  0.000000  0.000000  0.000000\n",
      "2023-06-29 22:00:00  0.000000  0.000000  0.000000\n",
      "2023-06-29 23:00:00  0.000000  0.000000  0.000000\n",
      "2023-06-30 00:00:00  0.000000  0.000000  0.000000\n",
      "2023-06-30 01:00:00  0.000000  0.000000  0.000000\n",
      "2023-06-30 02:00:00  0.000000  0.000000  0.000000\n",
      "2023-06-30 03:00:00  0.000000  0.000000  0.000000\n",
      "2023-06-30 04:00:00  0.206144  0.076803  0.129340\n",
      "2023-06-30 05:00:00  0.613255  0.289007  0.324249\n",
      "2023-06-30 06:00:00  1.095744  0.623459  0.472285\n",
      "2023-06-30 07:00:00  1.620728  1.066465  0.554263\n",
      "2023-06-30 08:00:00  2.140657  1.559924  0.580733\n",
      "2023-06-30 09:00:00  2.599701  2.018619  0.581082\n",
      "2023-06-30 10:00:00  2.943027  2.363542  0.579485\n",
      "2023-06-30 11:00:00  3.126841  2.545601  0.581239\n",
      "2023-06-30 12:00:00  3.126841  2.545601  0.581239\n",
      "2023-06-30 13:00:00  2.943027  2.363542  0.579485\n",
      "2023-06-30 14:00:00  2.599701  2.018619  0.581082\n",
      "2023-06-30 15:00:00  2.140657  1.559924  0.580733\n",
      "2023-06-30 16:00:00  1.620728  1.066465  0.554263\n",
      "2023-06-30 17:00:00  1.095744  0.623459  0.472285\n",
      "2023-06-30 18:00:00  0.613255  0.289007  0.324249\n",
      "2023-06-30 19:00:00  0.206144  0.076803  0.129340\n",
      "2023-06-30 20:00:00  0.000000  0.000000  0.000000\n",
      "2023-06-30 21:00:00  0.000000  0.000000  0.000000\n",
      "2023-06-30 22:00:00  0.000000  0.000000  0.000000\n",
      "2023-06-30 23:00:00  0.000000  0.000000  0.000000\n"
     ]
    }
   ],
   "source": [
    "df_lst = []\n",
    "day_number = 1\n",
    "\n",
    "for I_t, I_b, I_d in irr_data_by_day:\n",
    "    df_lst.append(pd.DataFrame({\n",
    "        'time': [datetime(2023, 6, day_number, hour) for hour in range(0, 24)],\n",
    "        'I_t': [i_t.to('MJ / m**2').m for i_t in I_t],\n",
    "        'I_b': [i_b.to('MJ / m**2').m for i_b in I_b],\n",
    "        'I_d': [i_d.to('MJ / m**2').m for i_d in I_d]\n",
    "    }))\n",
    "    day_number += 1\n",
    "\n",
    "df = pd.concat(df_lst)\n",
    "df = df.set_index('time', drop=True)\n",
    "\n",
    "with pd.option_context(\n",
    "    'display.max_rows', None,\n",
    "    'display.max_columns', None,\n",
    "    'display.width', None\n",
    "):\n",
    "    print(df)"
   ]
  },
  {
   "cell_type": "markdown",
   "id": "1cfbefcf-b069-4e48-b03d-acf6bec61cfe",
   "metadata": {},
   "source": [
    "**4.**<br>\n",
    "We can also get the radiation components at a particular hour directly:"
   ]
  },
  {
   "cell_type": "code",
   "execution_count": 12,
   "id": "5ba1c76a-0ea8-4b42-b3c7-7f674b22cf65",
   "metadata": {
    "ExecuteTime": {
     "start_time": "2024-01-04T20:35:16.582017600Z"
    }
   },
   "outputs": [],
   "source": [
    "I_t, I_d, I_b, _ = sol_rad.hourly_irradiation(day=1, hr1=12)"
   ]
  },
  {
   "cell_type": "code",
   "execution_count": 13,
   "id": "d545ccd1-cc06-4ab2-a2d4-a2e76a6f6c34",
   "metadata": {
    "ExecuteTime": {
     "start_time": "2024-01-04T20:35:16.583017200Z"
    }
   },
   "outputs": [
    {
     "name": "stdout",
     "output_type": "stream",
     "text": [
      "- total irradiation between 12 and 1 p.m. on June 1 = 1745.1 kJ/m²\n",
      "- beam irradiation between 12 and 1 p.m. on June 1 = 1411.8 kJ/m²\n",
      "- diffuse irradiation between 12 and 1 p.m. on June 1 = 333.2 kJ/m²\n"
     ]
    }
   ],
   "source": [
    "print(\n",
    "    f\"- total irradiation between 12 and 1 p.m. on June 1 = {I_t.to('kJ/m**2'):~P.1f}\",\n",
    "    f\"- beam irradiation between 12 and 1 p.m. on June 1 = {I_b.to('kJ/m**2'):~P.1f}\",\n",
    "    f\"- diffuse irradiation between 12 and 1 p.m. on June 1 = {I_d.to('kJ/m**2'):~P.1f}\",\n",
    "    sep='\\n'\n",
    ")"
   ]
  },
  {
   "cell_type": "markdown",
   "id": "5d26fded-ad15-414c-bf1a-a369545cefeb",
   "metadata": {},
   "source": [
    "**5.**<br>\n",
    "Instead of getting the hourly irradiation at a particular hour on a particular day of the month, we can also ask for the monthly average of the hourly irradiation at a particular hour:"
   ]
  },
  {
   "cell_type": "code",
   "execution_count": 14,
   "id": "86ca27e9-c5e9-4a7a-bfab-d79a7931a323",
   "metadata": {
    "ExecuteTime": {
     "start_time": "2024-01-04T20:35:16.585058700Z"
    }
   },
   "outputs": [],
   "source": [
    "hic = sol_rad.avg_hourly_irradiation(hr1=12)"
   ]
  },
  {
   "cell_type": "markdown",
   "id": "4a083975-7a70-4cf1-a788-7ad69c224273",
   "metadata": {},
   "source": [
    "The method returns a named tuple with fields:\r",
    "- `I`: 2-tuple with the monthly average of total irradiation at `hr1` and a `Quantity`-array of the daily values of total irradiation at `hr1`\n",
    "- `I_b`: same for beam irradiation\n",
    "- `I_d`: same for sky-diffuse irradiation"
   ]
  },
  {
   "cell_type": "code",
   "execution_count": 15,
   "id": "f4409d0e-a5cc-41e0-bacb-18bbfae3e012",
   "metadata": {
    "ExecuteTime": {
     "start_time": "2024-01-04T20:35:16.587017300Z"
    }
   },
   "outputs": [
    {
     "name": "stdout",
     "output_type": "stream",
     "text": [
      "- monthly average of total irradiation between 12 and 1 p.m. in June = 1973.4 kJ/m²\n",
      "- monthly average of beam irradiation between 12 and 1 p.m. in June = 1005.8 kJ/m²\n",
      "- monthly average of the diffuse irradiation between 12 and 1 p.m. in June = 967.6 kJ/m²\n"
     ]
    }
   ],
   "source": [
    "print(\n",
    "    f\"- monthly average of total irradiation between 12 and 1 p.m. in June = {hic.I[0].to('kJ / m**2'):~P.1f}\",\n",
    "    f\"- monthly average of beam irradiation between 12 and 1 p.m. in June = {hic.I_b[0].to('kJ / m**2'):~P.1f}\",\n",
    "    f\"- monthly average of the diffuse irradiation between 12 and 1 p.m. in June = {hic.I_d[0].to('kJ / m**2'):~P.1f}\",\n",
    "    sep='\\n'\n",
    ")"
   ]
  },
  {
   "cell_type": "code",
   "execution_count": 16,
   "id": "9645dd66-0458-4ebd-a874-da255b994d5a",
   "metadata": {
    "ExecuteTime": {
     "start_time": "2024-01-04T20:35:16.589019600Z"
    }
   },
   "outputs": [
    {
     "name": "stdout",
     "output_type": "stream",
     "text": [
      "- tot. irradiation between 12 and 1 p.m. on day 1 = 1745.1 kJ/m²\n",
      "- tot. irradiation between 12 and 1 p.m. on day 2 = 1334.4 kJ/m²\n",
      "- tot. irradiation between 12 and 1 p.m. on day 3 = 1182.7 kJ/m²\n",
      "- tot. irradiation between 12 and 1 p.m. on day 4 = 442.4 kJ/m²\n",
      "- tot. irradiation between 12 and 1 p.m. on day 5 = 1549.5 kJ/m²\n",
      "- tot. irradiation between 12 and 1 p.m. on day 6 = 3364.1 kJ/m²\n",
      "- tot. irradiation between 12 and 1 p.m. on day 7 = 2482.3 kJ/m²\n",
      "- tot. irradiation between 12 and 1 p.m. on day 8 = 3032.4 kJ/m²\n",
      "- tot. irradiation between 12 and 1 p.m. on day 9 = 565.4 kJ/m²\n",
      "- tot. irradiation between 12 and 1 p.m. on day 10 = 1092.5 kJ/m²\n",
      "- tot. irradiation between 12 and 1 p.m. on day 11 = 2695.4 kJ/m²\n",
      "- tot. irradiation between 12 and 1 p.m. on day 12 = 834.8 kJ/m²\n",
      "- tot. irradiation between 12 and 1 p.m. on day 13 = 2086.3 kJ/m²\n",
      "- tot. irradiation between 12 and 1 p.m. on day 14 = 716.3 kJ/m²\n",
      "- tot. irradiation between 12 and 1 p.m. on day 15 = 2326.7 kJ/m²\n",
      "- tot. irradiation between 12 and 1 p.m. on day 16 = 2012.0 kJ/m²\n",
      "- tot. irradiation between 12 and 1 p.m. on day 17 = 1659.6 kJ/m²\n",
      "- tot. irradiation between 12 and 1 p.m. on day 18 = 2871.4 kJ/m²\n",
      "- tot. irradiation between 12 and 1 p.m. on day 19 = 3213.5 kJ/m²\n",
      "- tot. irradiation between 12 and 1 p.m. on day 20 = 2590.7 kJ/m²\n",
      "- tot. irradiation between 12 and 1 p.m. on day 21 = 2781.8 kJ/m²\n",
      "- tot. irradiation between 12 and 1 p.m. on day 22 = 2947.4 kJ/m²\n",
      "- tot. irradiation between 12 and 1 p.m. on day 23 = 2233.9 kJ/m²\n",
      "- tot. irradiation between 12 and 1 p.m. on day 24 = 3287.1 kJ/m²\n",
      "- tot. irradiation between 12 and 1 p.m. on day 25 = 318.1 kJ/m²\n",
      "- tot. irradiation between 12 and 1 p.m. on day 26 = 1424.5 kJ/m²\n",
      "- tot. irradiation between 12 and 1 p.m. on day 27 = 987.5 kJ/m²\n",
      "- tot. irradiation between 12 and 1 p.m. on day 28 = 2405.7 kJ/m²\n",
      "- tot. irradiation between 12 and 1 p.m. on day 29 = 1890.4 kJ/m²\n",
      "- tot. irradiation between 12 and 1 p.m. on day 30 = 3126.8 kJ/m²\n"
     ]
    }
   ],
   "source": [
    "for day, I_t in enumerate(hic.I[1]):\n",
    "    print(f\"- tot. irradiation between 12 and 1 p.m. on day {day+1} = {I_t.to('kJ / m**2'):~P.1f}\")"
   ]
  },
  {
   "cell_type": "markdown",
   "id": "cee77ac5-0b21-47de-bb4b-2d223737dd1d",
   "metadata": {},
   "source": [
    "### Tilted Surface"
   ]
  },
  {
   "cell_type": "markdown",
   "id": "aab08397-7aa3-4782-8c5d-9cc6769f4ec9",
   "metadata": {},
   "source": [
    "Let's consider a surface with a slope of 35° oriented toward the south:"
   ]
  },
  {
   "cell_type": "code",
   "execution_count": 17,
   "id": "6867cb6f-bf76-465f-a74c-058ff52e2a02",
   "metadata": {
    "ExecuteTime": {
     "start_time": "2024-01-04T20:35:16.591017100Z"
    }
   },
   "outputs": [],
   "source": [
    "surface = Surface(location=location, gamma=Q_(0, 'deg'), beta=Q_(35, 'deg'))"
   ]
  },
  {
   "cell_type": "markdown",
   "id": "5657dc7c-8522-4f8b-a854-75af9e9ac8a7",
   "metadata": {},
   "source": [
    "**1.**<br>\n",
    "To get the hourly irradiation on the tilted surface on a given day and at a given hour of this day, the method `tilted_hourly_irradiation()` can be used. Three different sky models can be used to determine the irradiation on the tilted surface:\n",
    "- the isotropic diffuse sky model, indicated by string 'isotropic',\n",
    "- the anisotropic HDKR sky model, indicated by string 'anisotropic.hdkr',\n",
    "- the anisotropic sky model of Perez, which is the default model.\n",
    "\n",
    "Also, the ground reflectance needs to be specified. Its default value is 0.2.\n",
    "\n",
    "For example, to get the irradiation on the tilted surface at 12:00 on June 1 using the isotropic sky model, we write:"
   ]
  },
  {
   "cell_type": "code",
   "execution_count": 18,
   "id": "c5a9ff4a-a7f5-427d-8b54-2d47e047f245",
   "metadata": {
    "ExecuteTime": {
     "start_time": "2024-01-04T20:35:16.592017100Z"
    }
   },
   "outputs": [
    {
     "name": "stdout",
     "output_type": "stream",
     "text": [
      "- total irradiation on tilted surface = 1724.6 kJ/m²\n",
      "- beam irradiation on tilted surface = 377.3 kJ/m²\n",
      "- sky-diffuse irradiation on tilted surface = 1284.2 kJ/m²\n",
      "- ground reflected irradiation on tilted surface = 63.1 kJ/m²\n"
     ]
    }
   ],
   "source": [
    "I_T = sol_rad.tilted_hourly_irradiation(\n",
    "    day=1,\n",
    "    hr1=12,\n",
    "    surf=surface,\n",
    "    rho_g=Q_(0.4, 'frac'),\n",
    "    sky_model='isotropic'\n",
    ")\n",
    "print(f\"- total irradiation on tilted surface = {I_T.I.to('kJ/m**2'):~P.1f}\")\n",
    "print(f\"- beam irradiation on tilted surface = {I_T.I_b.to('kJ/m**2'):~P.1f}\")\n",
    "print(f\"- sky-diffuse irradiation on tilted surface = {I_T.I_d.to('kJ/m**2'):~P.1f}\")\n",
    "print(f\"- ground reflected irradiation on tilted surface = {I_T.I_g.to('kJ/m**2'):~P.1f}\")"
   ]
  },
  {
   "cell_type": "markdown",
   "id": "d67c2838-5903-4549-9f80-2b56a8a700c4",
   "metadata": {},
   "source": [
    "The same, but using the HDKR-model:"
   ]
  },
  {
   "cell_type": "code",
   "execution_count": 19,
   "id": "a008b95e-5d73-4b7c-9d9e-3859fddc86f5",
   "metadata": {
    "ExecuteTime": {
     "start_time": "2024-01-04T20:35:16.593017600Z"
    }
   },
   "outputs": [
    {
     "name": "stdout",
     "output_type": "stream",
     "text": [
      "- total irradiation on tilted surface = 1763.8 kJ/m²\n",
      "- beam irradiation on tilted surface = 505.5 kJ/m²\n",
      "- sky-diffuse irradiation on tilted surface = 1195.2 kJ/m²\n",
      "- ground reflected irradiation on tilted surface = 63.1 kJ/m²\n"
     ]
    }
   ],
   "source": [
    "I_T = sol_rad.tilted_hourly_irradiation(\n",
    "    day=1,\n",
    "    hr1=12,\n",
    "    surf=surface,\n",
    "    rho_g=Q_(0.4, 'frac'),\n",
    "    sky_model='anisotropic.hdkr'\n",
    ")\n",
    "print(f\"- total irradiation on tilted surface = {I_T.I.to('kJ/m**2'):~P.1f}\")\n",
    "print(f\"- beam irradiation on tilted surface = {I_T.I_b.to('kJ/m**2'):~P.1f}\")\n",
    "print(f\"- sky-diffuse irradiation on tilted surface = {I_T.I_d.to('kJ/m**2'):~P.1f}\")\n",
    "print(f\"- ground reflected irradiation on tilted surface = {I_T.I_g.to('kJ/m**2'):~P.1f}\")"
   ]
  },
  {
   "cell_type": "markdown",
   "id": "21ea1882-3c39-450f-913f-6ee865c361d3",
   "metadata": {},
   "source": [
    "Also the same, but now with the default sky model (Perez-model):"
   ]
  },
  {
   "cell_type": "code",
   "execution_count": 20,
   "id": "25add764-9dbc-4b81-8f05-8bc47e2a0af4",
   "metadata": {
    "ExecuteTime": {
     "start_time": "2024-01-04T20:35:16.594016900Z"
    }
   },
   "outputs": [
    {
     "name": "stdout",
     "output_type": "stream",
     "text": [
      "- total irradiation on tilted surface = 1863.0 kJ/m²\n",
      "- beam irradiation on tilted surface = 377.3 kJ/m²\n",
      "- sky-diffuse irradiation on tilted surface = 1422.6 kJ/m²\n",
      "- ground reflected irradiation on tilted surface = 63.1 kJ/m²\n"
     ]
    }
   ],
   "source": [
    "I_T = sol_rad.tilted_hourly_irradiation(\n",
    "    day=1,\n",
    "    hr1=12,\n",
    "    surf=surface,\n",
    "    rho_g=Q_(0.4, 'frac')\n",
    ")\n",
    "print(f\"- total irradiation on tilted surface = {I_T.I.to('kJ/m**2'):~P.1f}\")\n",
    "print(f\"- beam irradiation on tilted surface = {I_T.I_b.to('kJ/m**2'):~P.1f}\")\n",
    "print(f\"- sky-diffuse irradiation on tilted surface = {I_T.I_d.to('kJ/m**2'):~P.1f}\")\n",
    "print(f\"- ground reflected irradiation on tilted surface = {I_T.I_g.to('kJ/m**2'):~P.1f}\")"
   ]
  },
  {
   "cell_type": "markdown",
   "id": "79803c6f-6575-418f-8753-b6c32e624f6b",
   "metadata": {},
   "source": [
    "**2.**<br>\n",
    "The method `tilted_avg_hourly_irradiation()` returns the monthly average irradiation on the tilted surface at a given hour, and also an array with the irradiation values at this same hour for each day of the month:"
   ]
  },
  {
   "cell_type": "code",
   "execution_count": 21,
   "id": "333edfb4-0075-4bcf-8092-951c088fb308",
   "metadata": {
    "ExecuteTime": {
     "start_time": "2024-01-04T20:35:16.595017100Z"
    }
   },
   "outputs": [],
   "source": [
    "hic = sol_rad.tilted_avg_hourly_irradiation(\n",
    "    hr1=12,\n",
    "    surf=surface,\n",
    "    rho_g=Q_(0.4, 'frac'),\n",
    "    sky_model='isotropic'\n",
    ")"
   ]
  },
  {
   "cell_type": "markdown",
   "id": "8b4cfadb-558f-445e-89b4-f867e9d34032",
   "metadata": {},
   "source": [
    "The method returns a named tuple with fields:\r",
    "- `I`: 2-tuple with the monthly average of total irradiation at `hr1` and a `Quantity`-array of the daily values of total irradiation at `hr1`\n",
    "- `I_b`: same for beam irradiation\n",
    "- `I_d`: same for sky-diffuse irradiation\n",
    "- `I_g`: same for ground reflected diffuse irradiation"
   ]
  },
  {
   "cell_type": "code",
   "execution_count": 22,
   "id": "ef369ed3-0c11-4ba2-b5c4-b5dd61322364",
   "metadata": {
    "ExecuteTime": {
     "start_time": "2024-01-04T20:35:16.596017300Z"
    }
   },
   "outputs": [
    {
     "name": "stdout",
     "output_type": "stream",
     "text": [
      "monthly average irradation in June at 12:00 on the tilted surface = 2074.2 kJ/m²\n"
     ]
    }
   ],
   "source": [
    "print(\n",
    "    \"monthly average irradation in June at 12:00 on the tilted surface = \"\n",
    "    f\"{hic.I[0].to('kJ / m**2'):~P.1f}\"\n",
    ")"
   ]
  },
  {
   "cell_type": "code",
   "execution_count": 23,
   "id": "eb497ac1-30cf-444b-aaac-42cc5129526f",
   "metadata": {
    "ExecuteTime": {
     "start_time": "2024-01-04T20:35:16.597017600Z"
    }
   },
   "outputs": [
    {
     "name": "stdout",
     "output_type": "stream",
     "text": [
      "- total irradiation on tilted surface at 12:00 on June 1= 1724.6 kJ/m²\n",
      "- total irradiation on tilted surface at 12:00 on June 2= 1281.8 kJ/m²\n",
      "- total irradiation on tilted surface at 12:00 on June 3= 1129.3 kJ/m²\n",
      "- total irradiation on tilted surface at 12:00 on June 4= 419.3 kJ/m²\n",
      "- total irradiation on tilted surface at 12:00 on June 5= 1505.9 kJ/m²\n",
      "- total irradiation on tilted surface at 12:00 on June 6= 3783.9 kJ/m²\n",
      "- total irradiation on tilted surface at 12:00 on June 7= 2637.3 kJ/m²\n",
      "- total irradiation on tilted surface at 12:00 on June 8= 3376.0 kJ/m²\n",
      "- total irradiation on tilted surface at 12:00 on June 9= 536.2 kJ/m²\n",
      "- total irradiation on tilted surface at 12:00 on June 10= 1040.2 kJ/m²\n",
      "- total irradiation on tilted surface at 12:00 on June 11= 2916.4 kJ/m²\n",
      "- total irradiation on tilted surface at 12:00 on June 12= 792.6 kJ/m²\n",
      "- total irradiation on tilted surface at 12:00 on June 13= 2118.1 kJ/m²\n",
      "- total irradiation on tilted surface at 12:00 on June 14= 679.7 kJ/m²\n",
      "- total irradiation on tilted surface at 12:00 on June 15= 2419.9 kJ/m²\n",
      "- total irradiation on tilted surface at 12:00 on June 16= 2026.0 kJ/m²\n",
      "- total irradiation on tilted surface at 12:00 on June 17= 1621.5 kJ/m²\n",
      "- total irradiation on tilted surface at 12:00 on June 18= 3143.0 kJ/m²\n",
      "- total irradiation on tilted surface at 12:00 on June 19= 3580.6 kJ/m²\n",
      "- total irradiation on tilted surface at 12:00 on June 20= 2765.0 kJ/m²\n",
      "- total irradiation on tilted surface at 12:00 on June 21= 3021.5 kJ/m²\n",
      "- total irradiation on tilted surface at 12:00 on June 22= 3242.1 kJ/m²\n",
      "- total irradiation on tilted surface at 12:00 on June 23= 2298.8 kJ/m²\n",
      "- total irradiation on tilted surface at 12:00 on June 24= 3666.4 kJ/m²\n",
      "- total irradiation on tilted surface at 12:00 on June 25= 301.3 kJ/m²\n",
      "- total irradiation on tilted surface at 12:00 on June 26= 1371.9 kJ/m²\n",
      "- total irradiation on tilted surface at 12:00 on June 27= 938.5 kJ/m²\n",
      "- total irradiation on tilted surface at 12:00 on June 28= 2522.7 kJ/m²\n",
      "- total irradiation on tilted surface at 12:00 on June 29= 1882.9 kJ/m²\n",
      "- total irradiation on tilted surface at 12:00 on June 30= 3481.5 kJ/m²\n"
     ]
    }
   ],
   "source": [
    "for day_number, I_T in enumerate(hic.I[1]):\n",
    "    print(\n",
    "        f\"- total irradiation on tilted surface at 12:00 on June {day_number + 1}\" \n",
    "        f\"= {I_T.to('kJ / m**2'):~P.1f}\"\n",
    "    )"
   ]
  },
  {
   "cell_type": "markdown",
   "id": "9251ca72-f357-40cc-8a8b-f58bc55d710e",
   "metadata": {},
   "source": [
    "## Daily Irradiation"
   ]
  },
  {
   "cell_type": "markdown",
   "id": "c40ec8a8-85a0-4758-87f5-5667bac9aa16",
   "metadata": {},
   "source": [
    "### Horizontal Surface"
   ]
  },
  {
   "cell_type": "markdown",
   "id": "6bff5b14-3a58-4862-9e25-e7cd404bb959",
   "metadata": {},
   "source": [
    "**1.**<br>\n",
    "The daily irradiation H on a horizontal surface at a specified day:"
   ]
  },
  {
   "cell_type": "code",
   "execution_count": 24,
   "id": "47010b2c-35ab-4cab-989a-944c22e522e0",
   "metadata": {
    "ExecuteTime": {
     "start_time": "2024-01-04T20:35:16.599017100Z"
    }
   },
   "outputs": [
    {
     "name": "stdout",
     "output_type": "stream",
     "text": [
      "daily irradiation on June 1 = 15.7 MJ/m²\n"
     ]
    }
   ],
   "source": [
    "H = sol_rad.daily_irradiation(day=1)\n",
    "print(f\"daily irradiation on June 1 = {H.to('MJ / m**2'):~P.1f}\")"
   ]
  },
  {
   "cell_type": "markdown",
   "id": "9a13f221-c251-416d-a4fa-7c202550e4e7",
   "metadata": {},
   "source": [
    "**2.**<br>\n",
    "Monthly average of the daily irradiation in June on a horizontal surface:"
   ]
  },
  {
   "cell_type": "code",
   "execution_count": 25,
   "id": "933d6d9a-2a69-49cd-9249-be5792bfcceb",
   "metadata": {
    "ExecuteTime": {
     "start_time": "2024-01-04T20:35:16.600017400Z"
    }
   },
   "outputs": [
    {
     "name": "stdout",
     "output_type": "stream",
     "text": [
      "daily irradiation on a horizontal surface in June = 17.9 MJ/m²\n"
     ]
    }
   ],
   "source": [
    "H_avg, H_arr = sol_rad.avg_daily_irradiation()\n",
    "print(\n",
    "    \"daily irradiation on a horizontal surface in June = \" \n",
    "    f\"{H_avg.to('MJ / m**2'):~P.1f}\"\n",
    ")"
   ]
  },
  {
   "cell_type": "markdown",
   "id": "05fdf51b-19bb-4157-8099-72e1cfb6f564",
   "metadata": {},
   "source": [
    "The method `avg_daily_irradiation()` also returns an array with the daily irradiation for each day of the month: "
   ]
  },
  {
   "cell_type": "code",
   "execution_count": 26,
   "id": "eab34c84-9d6a-42a8-95f2-c6aa5767673b",
   "metadata": {
    "ExecuteTime": {
     "start_time": "2024-01-04T20:35:16.601016700Z"
    }
   },
   "outputs": [
    {
     "name": "stdout",
     "output_type": "stream",
     "text": [
      "- daily irradiation on a horizontal surface on June 1 = 15.7 MJ/m²\n",
      "- daily irradiation on a horizontal surface on June 2 = 12.0 MJ/m²\n",
      "- daily irradiation on a horizontal surface on June 3 = 10.6 MJ/m²\n",
      "- daily irradiation on a horizontal surface on June 4 = 4.0 MJ/m²\n",
      "- daily irradiation on a horizontal surface on June 5 = 14.0 MJ/m²\n",
      "- daily irradiation on a horizontal surface on June 6 = 30.4 MJ/m²\n",
      "- daily irradiation on a horizontal surface on June 7 = 22.4 MJ/m²\n",
      "- daily irradiation on a horizontal surface on June 8 = 27.4 MJ/m²\n",
      "- daily irradiation on a horizontal surface on June 9 = 5.1 MJ/m²\n",
      "- daily irradiation on a horizontal surface on June 10 = 9.9 MJ/m²\n",
      "- daily irradiation on a horizontal surface on June 11 = 24.5 MJ/m²\n",
      "- daily irradiation on a horizontal surface on June 12 = 7.6 MJ/m²\n",
      "- daily irradiation on a horizontal surface on June 13 = 19.0 MJ/m²\n",
      "- daily irradiation on a horizontal surface on June 14 = 6.5 MJ/m²\n",
      "- daily irradiation on a horizontal surface on June 15 = 21.2 MJ/m²\n",
      "- daily irradiation on a horizontal surface on June 16 = 18.3 MJ/m²\n",
      "- daily irradiation on a horizontal surface on June 17 = 15.1 MJ/m²\n",
      "- daily irradiation on a horizontal surface on June 18 = 26.2 MJ/m²\n",
      "- daily irradiation on a horizontal surface on June 19 = 29.3 MJ/m²\n",
      "- daily irradiation on a horizontal surface on June 20 = 23.6 MJ/m²\n",
      "- daily irradiation on a horizontal surface on June 21 = 25.4 MJ/m²\n",
      "- daily irradiation on a horizontal surface on June 22 = 26.9 MJ/m²\n",
      "- daily irradiation on a horizontal surface on June 23 = 20.4 MJ/m²\n",
      "- daily irradiation on a horizontal surface on June 24 = 30.0 MJ/m²\n",
      "- daily irradiation on a horizontal surface on June 25 = 2.9 MJ/m²\n",
      "- daily irradiation on a horizontal surface on June 26 = 13.0 MJ/m²\n",
      "- daily irradiation on a horizontal surface on June 27 = 9.0 MJ/m²\n",
      "- daily irradiation on a horizontal surface on June 28 = 21.9 MJ/m²\n",
      "- daily irradiation on a horizontal surface on June 29 = 17.2 MJ/m²\n",
      "- daily irradiation on a horizontal surface on June 30 = 28.4 MJ/m²\n"
     ]
    }
   ],
   "source": [
    "for day_number, H in enumerate(H_arr):\n",
    "    print(\n",
    "        f\"- daily irradiation on a horizontal surface on June {day_number + 1} = \"\n",
    "        f\"{H.to('MJ / m**2'):~P.1f}\"\n",
    ")"
   ]
  },
  {
   "cell_type": "markdown",
   "id": "2752db32-8f14-4761-9f8e-4d844cef982e",
   "metadata": {},
   "source": [
    "### Tilted Surface"
   ]
  },
  {
   "cell_type": "markdown",
   "id": "5c1287c4-f071-42e4-965d-9187dec8c961",
   "metadata": {},
   "source": [
    "We'll continue to use the same surface we have already defined above."
   ]
  },
  {
   "cell_type": "markdown",
   "id": "01db3f3f-caf8-4eef-a988-8f6210a8e667",
   "metadata": {},
   "source": [
    "**1.**<br>\n",
    "The daily irradiation on the tilted surface at a specified day:"
   ]
  },
  {
   "cell_type": "code",
   "execution_count": 27,
   "id": "6ca0a555-ede9-46f4-b6a2-46608cf29f8c",
   "metadata": {
    "ExecuteTime": {
     "start_time": "2024-01-04T20:35:16.602020900Z"
    }
   },
   "outputs": [
    {
     "name": "stdout",
     "output_type": "stream",
     "text": [
      "daily irradiation on the tilted surface on June 1 = 15.6 MJ/m²\n"
     ]
    }
   ],
   "source": [
    "H_T = sol_rad.tilted_daily_irradiation(\n",
    "    day=1,\n",
    "    surf=surface,\n",
    "    rho_g=Q_(0.4, 'frac'),\n",
    "    sky_model='anisotropic.hdkr'\n",
    ")\n",
    "print(\n",
    "    \"daily irradiation on the tilted surface on June 1 = \"\n",
    "    f\"{H_T.to('MJ / m**2'):~P.1f}\"\n",
    ")"
   ]
  },
  {
   "cell_type": "markdown",
   "id": "4b89a48e-a3c5-4467-b16f-a6b37fb1c369",
   "metadata": {},
   "source": [
    "**2.**<br>\n",
    "Monthly average of the daily irradiation in June on the tilted surface:"
   ]
  },
  {
   "cell_type": "code",
   "execution_count": 28,
   "id": "20a03338-2da5-4388-bb40-bdf689909bf9",
   "metadata": {
    "ExecuteTime": {
     "start_time": "2024-01-04T20:35:16.603016700Z"
    }
   },
   "outputs": [
    {
     "name": "stdout",
     "output_type": "stream",
     "text": [
      "daily irradiation on a horizontal surface in June = 17.7 MJ/m²\n"
     ]
    }
   ],
   "source": [
    "H_T_avg, H_T_arr = sol_rad.tilted_avg_daily_irradiation(\n",
    "    surf=surface,\n",
    "    rho_g=Q_(0.4, 'frac'),\n",
    "    sky_model='anisotropic.hdkr'\n",
    ")\n",
    "print(\n",
    "    \"daily irradiation on a horizontal surface in June = \" \n",
    "    f\"{H_T_avg.to('MJ / m**2'):~P.1f}\"\n",
    ")"
   ]
  },
  {
   "cell_type": "markdown",
   "id": "6c28aa69-e9a9-4e41-aec4-107f3fa6b16b",
   "metadata": {},
   "source": [
    "The method `tilted_avg_daily_irradiation()` also returns an array with the daily irradiation values for each day of the month:"
   ]
  },
  {
   "cell_type": "code",
   "execution_count": 29,
   "id": "c081b624-a87f-4a8b-8c6d-818264beee48",
   "metadata": {
    "ExecuteTime": {
     "start_time": "2024-01-04T20:35:16.604017300Z"
    }
   },
   "outputs": [
    {
     "name": "stdout",
     "output_type": "stream",
     "text": [
      "- daily irradiation on the tilted surface on June 1 = 15.6 MJ/m²\n",
      "- daily irradiation on the tilted surface on June 2 = 12.0 MJ/m²\n",
      "- daily irradiation on the tilted surface on June 3 = 10.7 MJ/m²\n",
      "- daily irradiation on the tilted surface on June 4 = 4.0 MJ/m²\n",
      "- daily irradiation on the tilted surface on June 5 = 14.0 MJ/m²\n",
      "- daily irradiation on the tilted surface on June 6 = 29.5 MJ/m²\n",
      "- daily irradiation on the tilted surface on June 7 = 22.3 MJ/m²\n",
      "- daily irradiation on the tilted surface on June 8 = 26.9 MJ/m²\n",
      "- daily irradiation on the tilted surface on June 9 = 5.1 MJ/m²\n",
      "- daily irradiation on the tilted surface on June 10 = 9.9 MJ/m²\n",
      "- daily irradiation on the tilted surface on June 11 = 24.2 MJ/m²\n",
      "- daily irradiation on the tilted surface on June 12 = 7.6 MJ/m²\n",
      "- daily irradiation on the tilted surface on June 13 = 18.9 MJ/m²\n",
      "- daily irradiation on the tilted surface on June 14 = 6.5 MJ/m²\n",
      "- daily irradiation on the tilted surface on June 15 = 21.0 MJ/m²\n",
      "- daily irradiation on the tilted surface on June 16 = 18.3 MJ/m²\n",
      "- daily irradiation on the tilted surface on June 17 = 15.1 MJ/m²\n",
      "- daily irradiation on the tilted surface on June 18 = 25.7 MJ/m²\n",
      "- daily irradiation on the tilted surface on June 19 = 28.5 MJ/m²\n",
      "- daily irradiation on the tilted surface on June 20 = 23.4 MJ/m²\n",
      "- daily irradiation on the tilted surface on June 21 = 25.0 MJ/m²\n",
      "- daily irradiation on the tilted surface on June 22 = 26.4 MJ/m²\n",
      "- daily irradiation on the tilted surface on June 23 = 20.3 MJ/m²\n",
      "- daily irradiation on the tilted surface on June 24 = 29.1 MJ/m²\n",
      "- daily irradiation on the tilted surface on June 25 = 2.9 MJ/m²\n",
      "- daily irradiation on the tilted surface on June 26 = 13.0 MJ/m²\n",
      "- daily irradiation on the tilted surface on June 27 = 9.0 MJ/m²\n",
      "- daily irradiation on the tilted surface on June 28 = 21.7 MJ/m²\n",
      "- daily irradiation on the tilted surface on June 29 = 17.2 MJ/m²\n",
      "- daily irradiation on the tilted surface on June 30 = 27.8 MJ/m²\n"
     ]
    }
   ],
   "source": [
    "for day_number, H_T in enumerate(H_T_arr):\n",
    "    print(\n",
    "        f\"- daily irradiation on the tilted surface on June {day_number + 1} = \"\n",
    "        f\"{H_T.to('MJ / m**2'):~P.1f}\"\n",
    ")"
   ]
  },
  {
   "cell_type": "code",
   "execution_count": null,
   "id": "db5c6d20-960b-4b84-9d59-83c791e67907",
   "metadata": {
    "ExecuteTime": {
     "start_time": "2024-01-04T20:35:16.606017100Z"
    }
   },
   "outputs": [],
   "source": []
  }
 ],
 "metadata": {
  "kernelspec": {
   "display_name": "Python 3 (ipykernel)",
   "language": "python",
   "name": "python3"
  },
  "language_info": {
   "codemirror_mode": {
    "name": "ipython",
    "version": 3
   },
   "file_extension": ".py",
   "mimetype": "text/x-python",
   "name": "python",
   "nbconvert_exporter": "python",
   "pygments_lexer": "ipython3",
   "version": "3.12.0"
  }
 },
 "nbformat": 4,
 "nbformat_minor": 5
}
