{
 "cells": [
  {
   "cell_type": "markdown",
   "id": "5d9ae619-694a-4fb9-81a2-f19d819d226a",
   "metadata": {},
   "source": [
    "**Notebook preparation and importing libraries**"
   ]
  },
  {
   "cell_type": "code",
   "execution_count": 1,
   "id": "814844fb-93da-46f2-b9cc-f4810633790e",
   "metadata": {
    "ExecuteTime": {
     "end_time": "2023-09-24T13:08:40.961923800Z",
     "start_time": "2023-09-24T13:08:40.067699600Z"
    },
    "tags": []
   },
   "outputs": [],
   "source": [
    "import warnings\n",
    "from hvac import Quantity\n",
    "from hvac.fluids import HumidAir, Fluid, CoolPropWarning"
   ]
  },
  {
   "cell_type": "code",
   "execution_count": 2,
   "id": "c94cc7ed-7c30-4c6b-ac50-8c6c64825f50",
   "metadata": {
    "ExecuteTime": {
     "end_time": "2023-09-24T13:08:42.014252500Z",
     "start_time": "2023-09-24T13:08:42.011734200Z"
    },
    "tags": []
   },
   "outputs": [],
   "source": [
    "warnings.filterwarnings('ignore', category=CoolPropWarning)"
   ]
  },
  {
   "cell_type": "code",
   "execution_count": 3,
   "id": "07454244-f082-4640-aab0-aded750c38d4",
   "metadata": {
    "ExecuteTime": {
     "end_time": "2023-09-24T13:08:43.261263600Z",
     "start_time": "2023-09-24T13:08:43.258254700Z"
    },
    "tags": []
   },
   "outputs": [],
   "source": [
    "Q_ = Quantity"
   ]
  },
  {
   "cell_type": "code",
   "execution_count": 4,
   "id": "638893c6-0ecd-435e-a419-28e15ffa9cf7",
   "metadata": {
    "ExecuteTime": {
     "end_time": "2023-09-24T13:08:44.335134900Z",
     "start_time": "2023-09-24T13:08:44.261828600Z"
    },
    "tags": []
   },
   "outputs": [],
   "source": [
    "from hvac.heat_exchanger.fintube.continuous_fin import PlainFinTubeCounterFlowAirEvaporator as Evaporator"
   ]
  },
  {
   "cell_type": "markdown",
   "id": "75f2d8b2-56b1-4312-8919-fb8df5ea44aa",
   "metadata": {
    "tags": []
   },
   "source": [
    "# Rating of a Plain Fin-Tube Counterflow Air Evaporator"
   ]
  },
  {
   "cell_type": "markdown",
   "id": "c67f150b-f3f7-48aa-bd41-8162877de68e",
   "metadata": {},
   "source": [
    "Define the type of refrigerant:"
   ]
  },
  {
   "cell_type": "code",
   "execution_count": 5,
   "id": "673d2cb6-102b-48ec-a062-8410fb7db09b",
   "metadata": {
    "ExecuteTime": {
     "end_time": "2023-09-24T13:08:50.796339300Z",
     "start_time": "2023-09-24T13:08:50.786825600Z"
    },
    "tags": []
   },
   "outputs": [],
   "source": [
    "R134a = Fluid('R134a')"
   ]
  },
  {
   "cell_type": "markdown",
   "id": "a9d651c2-d613-49f6-9ffb-32e3012ffe88",
   "metadata": {},
   "source": [
    "Define the type of evaporator: a plain fin-tube, counterflow heat exchanger."
   ]
  },
  {
   "cell_type": "markdown",
   "id": "fb41a3dd-1dd4-4b72-99ea-b4f73841d8a1",
   "metadata": {},
   "source": [
    "Create an instance of the evaporator model, specifying the dimensions of the frontal area, the number of rows, the geometrical characteristics of the heat transfer surfaces, and the thermal conductivity of the fins:"
   ]
  },
  {
   "cell_type": "code",
   "execution_count": 6,
   "id": "997efe71-d3fe-4d53-8f6a-6f04a2f2d6c6",
   "metadata": {
    "ExecuteTime": {
     "end_time": "2023-09-24T13:09:43.070405600Z",
     "start_time": "2023-09-24T13:09:43.056889900Z"
    },
    "tags": []
   },
   "outputs": [],
   "source": [
    "evp = Evaporator(\n",
    "    W_fro=Q_(0.731, 'm'),         # width of frontal area\n",
    "    H_fro=Q_(0.244, 'm'),         # height of frontal area\n",
    "    N_rows=2,                     # number of rows\n",
    "    S_trv=Q_(25.4, 'mm'),         # vertical distance between tubes\n",
    "    S_lon=Q_(22.0, 'mm'),         # horizontal distance between tubes\n",
    "    D_int=Q_(8.422, 'mm'),        # inner tube diameter\n",
    "    D_ext=Q_(10.2, 'mm'),         # outer tube diameter\n",
    "    t_fin=Q_(0.3302, 'mm'),       # fin thickness\n",
    "    N_fin=1 / Q_(3.175, 'mm'),    # fin density\n",
    "    k_fin=Q_(237, 'W / (m * K)')  # conductivity of fin material\n",
    ")"
   ]
  },
  {
   "cell_type": "markdown",
   "id": "313ff8e6-dd3d-4bbc-815a-496bbbfee948",
   "metadata": {},
   "source": [
    "On this object, we set the known operating conditions:\n",
    "- the state of air entering the evaporator\n",
    "- the mass flow rate of air through the evaporator\n",
    "- the state of saturated refrigerant liquid/vapor mixture entering the evaporator (either evaporation temperature or pressure, and vapor quality)\n",
    "- the degree of superheat of the refrigerant at the evaporator outlet, which is a setting of the expansion device\n",
    "\n",
    "The result of the evaporator rating will contain:\n",
    "- the refrigerant mass flow rate that the expansion device lets through in order to reach the set degree of superheat\n",
    "- the resulting state of air at the air-side evaporator outlet\n",
    "- the heat absorption rate (the heat transfer rate from the air to the refrigerant)\n",
    "- the air-side pressure drop\n",
    "- the flow length used for superheating the refrigerant vapor to the set degree of superheat\n",
    "\n",
    "The rating routine is an iterative routine that is started with an initial guess of the mass flow rate of refrigerant. This initial guess may be the mass flow rate that was determined in the preliminary heat exchanger calculations. The criterion to stop the iterative routine is the tolerated deviation (tolerance) between the last and the previous calculated mass flow rate of refrigerant, which can be set through parameter `tol_m_dot_rfg`. Should the tolerance not be reached after a maximum number of iterations, which can be set with parameter `i_max`, a `ValueError` exception will be raised and no result is returned."
   ]
  },
  {
   "cell_type": "markdown",
   "id": "8dfdb933-80d0-4420-9962-75a8f97dd66e",
   "metadata": {},
   "source": [
    "Suppose evaporation temperature is 5 °C, condensation temperature is 50 °C, and the degree of subcooling of the refrigerant leaving the condenser is 5 K. In that case the state of refrigerant entering the evaporator can be determined as:"
   ]
  },
  {
   "cell_type": "code",
   "execution_count": 7,
   "id": "753af9fb-0583-4470-9ec2-826614aaad83",
   "metadata": {
    "ExecuteTime": {
     "end_time": "2023-09-24T13:09:57.453865500Z",
     "start_time": "2023-09-24T13:09:57.446295400Z"
    },
    "tags": []
   },
   "outputs": [],
   "source": [
    "cnd_rfg_sat_liq = R134a(T=Q_(50, 'degC'), x=Q_(0, 'frac'))\n",
    "P_cnd = cnd_rfg_sat_liq.P\n",
    "dT_sc = Q_(5, 'K')\n",
    "cnd_rfg_out = R134a(T=cnd_rfg_sat_liq.T.to('K') - dT_sc, P=P_cnd)\n",
    "evp_rfg_sat_vap = R134a(T=Q_(5, 'degC'), x=Q_(1, 'frac'))\n",
    "P_evp = evp_rfg_sat_vap.P\n",
    "evp_rfg_in = R134a(P=P_evp, h=cnd_rfg_out.h)"
   ]
  },
  {
   "cell_type": "markdown",
   "id": "67a8e6c0-9caf-487a-9c25-b16f25ab8f26",
   "metadata": {},
   "source": [
    "Now we set the operating conditions on the evaporator model and get its state of performance:"
   ]
  },
  {
   "cell_type": "code",
   "execution_count": 8,
   "id": "db4bc718-0d94-4b3b-a901-78861d88ae0a",
   "metadata": {
    "ExecuteTime": {
     "end_time": "2023-09-24T13:11:29.841281500Z",
     "start_time": "2023-09-24T13:11:21.632542500Z"
    },
    "tags": []
   },
   "outputs": [],
   "source": [
    "rfg_m_dot = evp.solve(\n",
    "    air_in=HumidAir(Tdb=Q_(24, 'degC'), RH=Q_(50, 'pct')),\n",
    "    air_m_dot=Q_(1500, 'kg / hr'),\n",
    "    rfg_in=evp_rfg_in,\n",
    "    dT_sh=Q_(10, 'K'),\n",
    "    rfg_m_dot_ini=Q_(114.344, 'kg / hr'),\n",
    ")"
   ]
  },
  {
   "cell_type": "markdown",
   "id": "cfd79056-f7da-4ede-960e-310f6a858452",
   "metadata": {},
   "source": [
    "Showing the results:"
   ]
  },
  {
   "cell_type": "code",
   "execution_count": 9,
   "id": "d0822b54-c7af-47b8-8951-5399c76c564c",
   "metadata": {
    "ExecuteTime": {
     "end_time": "2023-09-24T13:12:28.864425100Z",
     "start_time": "2023-09-24T13:12:28.852057800Z"
    },
    "tags": []
   },
   "outputs": [
    {
     "name": "stdout",
     "output_type": "stream",
     "text": [
      "m_dot_rfg = 100.122 kg/h\n",
      "air_out: 17.5 °C DB, 65 % RH\n",
      "Q = 4.081 kW\n",
      "dP_air = 15 Pa\n",
      "superheating flow length = 13 mm\n"
     ]
    }
   ],
   "source": [
    "print(\n",
    "    f\"m_dot_rfg = {rfg_m_dot.to('kg / hr'):~P.3f}\\n\"\n",
    "    f\"air_out: {evp.air_out.Tdb.to('degC'):~P.1f} DB, \"\n",
    "    f\"{evp.air_out.RH.to('pct'):~P.0f} RH\\n\"\n",
    "    f\"Q = {evp.Q_dot.to('kW'):~P.3f}\\n\"\n",
    "    f\"dP_air = {evp.air_dP.to('Pa'):~P.0f}\\n\"\n",
    "    f\"superheating flow length = {evp.superheating_region.L_flow.to('mm'):~P.0f}\"\n",
    ")"
   ]
  },
  {
   "cell_type": "markdown",
   "id": "8d2a8925-96c0-4ab8-a1f8-6c44392b9dac",
   "metadata": {},
   "source": [
    "We can now compare these results with our preliminary calculations. By increasing or decreasing the number of rows of the evaporator, we can try to get at the desired state of air leaving the evaporator (or we can try with other heat exchanger core geometries also)."
   ]
  },
  {
   "cell_type": "code",
   "execution_count": null,
   "id": "750096fb0d76a80b",
   "metadata": {
    "collapsed": false,
    "jupyter": {
     "outputs_hidden": false
    }
   },
   "outputs": [],
   "source": []
  }
 ],
 "metadata": {
  "kernelspec": {
   "display_name": "Python 3 (ipykernel)",
   "language": "python",
   "name": "python3"
  },
  "language_info": {
   "codemirror_mode": {
    "name": "ipython",
    "version": 3
   },
   "file_extension": ".py",
   "mimetype": "text/x-python",
   "name": "python",
   "nbconvert_exporter": "python",
   "pygments_lexer": "ipython3",
   "version": "3.11.0"
  }
 },
 "nbformat": 4,
 "nbformat_minor": 5
}
