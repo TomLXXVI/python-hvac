import warnings
from hvac import Quantity
from hvac.fluids import HumidAir, Fluid, CP_HUMID_AIR, CoolPropWarning


warnings.filterwarnings('ignore', category=CoolPropWarning)


Q_ = Quantity


R134a = Fluid('R134a')


evp_air_in = HumidAir(Tdb=Q_(24, 'degC'), RH=Q_(50, 'pct'))
evp_air_out = HumidAir(Tdb=Q_(13, 'degC'), RH=Q_(100, 'pct'))


evp_m_dot_air = Q_(1500, 'kg/hr')


Q_evp = evp_m_dot_air * (evp_air_in.h - evp_air_out.h)
print(f"{Q_evp.to('kW'):~P.3f}")


T_evp = Q_(5, 'degC')


evp_rfg_sat_vap = R134a(T=T_evp, x=Q_(1.0, 'frac'))
P_evp = evp_rfg_sat_vap.P
print(f"evaporation pressure = {P_evp.to('bar'):~P.3f}")


T_cnd = Q_(50, 'degC')


cnd_rfg_sat_liq = R134a(T=T_cnd, x=Q_(0.0, 'frac'))
P_cnd = cnd_rfg_sat_liq.P
print(f"condensing pressure = {P_cnd.to('bar'):~P.3f}")


dT_sh = Q_(10, 'K')


dT_sc = Q_(5, 'K')


evp_rfg_out = R134a(T=T_evp.to('K') + dT_sh, P=P_evp)


cnd_rfg_out = R134a(T=T_cnd.to('K') - dT_sc, x=Q_(0.0, 'frac'))


evp_rfg_in = R134a(h=cnd_rfg_out.h, P=P_evp)
print(f"vapor quality of entering refrigerant to evaporator = {evp_rfg_in.x.to('frac'):~P.2f}")


m_dot_rfg = Q_evp / (evp_rfg_out.h - evp_rfg_in.h)
print(f"mass flow rate of refrigerant = {m_dot_rfg.to('kg/hr'):~P.3f}")


T_dis = Q_(85.0, 'degC')
cnd_rfg_in = R134a(T=T_dis, P=P_cnd)
Q_cnd = m_dot_rfg * (cnd_rfg_in.h - cnd_rfg_out.h)
print(f"heat rejection rate (based on discharge temperature) = {Q_cnd.to('kW'):~P.3f}")


_Q_cnd = Q_evp + Q_(1.855, 'kW')
print(f"heat rejection rate (based on compressor power) = {_Q_cnd.to('kW'):~P.3f}")


cnd_dT_air = Q_(10, 'K')
cnd_T_air_in = Q_(35, 'degC')
cnd_air_in = HumidAir(Tdb=cnd_T_air_in, RH=Q_(30, 'pct'))

cnd_T_air_out = cnd_T_air_in.to('K') + cnd_dT_air
cnd_air_out = HumidAir(Tdb=cnd_T_air_out, W=cnd_air_in.W)

cnd_m_dot_air = Q_cnd / (CP_HUMID_AIR * (cnd_T_air_out - cnd_T_air_in))
print(f"mass flow rate of air through condenser = {cnd_m_dot_air.to('kg / hr'):~P.3f}")


evp_v_fa = Q_(2, 'm/s')


evp_V_dot_air = evp_m_dot_air / evp_air_in.rho
print(f"volume flow rate of air through evaporator = {evp_V_dot_air.to('m ** 3 / hr'):~P.3f}")


evp_A_fr = evp_V_dot_air / evp_v_fa
print(f"frontal area of evaporator = {evp_A_fr.to('m ** 2'):~P.4f}")


evp_AR = 1 / 3


evp_L1 = (evp_A_fr / evp_AR) ** 0.5
print(f"width of evaporator's frontal area = {evp_L1.to('mm'):~P.0f}")


evp_L3 = evp_A_fr / evp_L1
print(f"height of evaporator's frontal area = {evp_L3.to('mm'):~P.0f}")


cnd_v_fa = Q_(2, 'm/s')


cnd_V_dot_air = cnd_m_dot_air / cnd_air_in.rho
print(f"volume flow rate of air through condenser = {cnd_V_dot_air.to('m ** 3 / hr'):~P.3f}")


cnd_A_fr = cnd_V_dot_air / cnd_v_fa
print(f"frontal area of condenser = {cnd_A_fr.to('m ** 2'):~P.4f}")


cnd_AR = 1 / 3


cnd_L1 = (cnd_A_fr / cnd_AR) ** 0.5
print(f"width of condenser's frontal area = {cnd_L1.to('mm'):~P.0f}")


cnd_L3 = cnd_A_fr / cnd_L1
print(f"height of condenser's frontal area = {cnd_L3.to('mm'):~P.0f}")


print(
    f"refrigerant in: {evp_rfg_in.T.to('degC'):~P.2f}, {evp_rfg_in.x.to('frac'):~P.2f}\n"
    f"air in: {evp_air_in.Tdb.to('degC'):~P.2f}, {evp_air_in.RH.to('pct'):~P.2f}\n"
    f"mass flow rate of air: {evp_m_dot_air.to('kg / hr'):~P.3f}\n"
    f"mass flow rate of refrigerant: {m_dot_rfg.to('kg / hr'):~P.3f}\n"
    f"frontal area: {evp_A_fr.to('m ** 2'):~P.4f}\n"
    f"frontal area width and height = {evp_L1.to('mm'):~P.0f}, {evp_L3.to('mm'):~P.0f}"
)


print(
    f"refrigerant in: {cnd_rfg_in.T.to('degC'):~P.2f}, {cnd_rfg_in.P.to('bar'):~P.3f}\n"
    f"air in: {cnd_air_in.Tdb.to('degC'):~P.2f}, {cnd_air_in.RH.to('pct'):~P.2f}\n"
    f"mass flow rate of air: {cnd_m_dot_air.to('kg / hr'):~P.3f}\n"
    f"heat rejection rate: {Q_cnd.to('kW'):~P.3f}\n"
    f"frontal area: {cnd_A_fr.to('m ** 2'):~P.4f}\n"
    f"frontal area width and height = {cnd_L1.to('mm'):~P.0f}, {cnd_L3.to('mm'):~P.0f}"
)



