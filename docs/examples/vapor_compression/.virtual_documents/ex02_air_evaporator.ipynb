import warnings
from hvac import Quantity
from hvac.fluids import HumidAir, Fluid, CoolPropWarning


warnings.filterwarnings('ignore', category=CoolPropWarning)


Q_ = Quantity


import hvac.heat_transfer.heat_exchanger.fin_tube.air_evaporator.rating as rating


R134a = Fluid('R134a')


Evaporator = rating.PFT_CO_EVP


evp = Evaporator(
    L1=Q_(0.731, 'm'),          # width of frontal area
    L3=Q_(0.244, 'm'),          # height of frontal area
    N_r=2,                      # number of rows
    S_t=Q_(25.4, 'mm'),         # vertical distance between tubes
    S_l=Q_(22.0, 'mm'),         # horizontal distance between tubes
    D_i=Q_(8.422, 'mm'),        # inner tube diameter
    D_o=Q_(10.2, 'mm'),         # outer tube diameter
    t_f=Q_(0.3302, 'mm'),       # fin thickness
    N_f=1 / Q_(3.175, 'mm'),    # fin density
    k_f=Q_(237, 'W / (m * K)')  # conductivity of fin material
)


cnd_rfg_sat_liq = R134a(T=Q_(50, 'degC'), x=Q_(0, 'frac'))
P_cnd = cnd_rfg_sat_liq.P
dT_sc = Q_(5, 'K')
cnd_rfg_out = R134a(T=cnd_rfg_sat_liq.T.to('K') - dT_sc, P=P_cnd)
evp_rfg_sat_vap = R134a(T=Q_(5, 'degC'), x=Q_(1, 'frac'))
P_evp = evp_rfg_sat_vap.P
evp_rfg_in = R134a(P=P_evp, h=cnd_rfg_out.h)


r = evp(
    air_in=HumidAir(Tdb=Q_(24, 'degC'), RH=Q_(50, 'pct')),
    m_dot_air=Q_(1500, 'kg / hr'),
    rfg_in=evp_rfg_in,
    dT_rfg_sh=Q_(10, 'K'),
    m_dot_rfg_ini=Q_(114.344, 'kg / hr'),
    tol_m_dot_rfg=Q_(0.01, 'kg / hr')
)


print(
    f"m_dot_rfg = {r.m_dot_rfg.to('kg / hr'):~P.3f}\n"
    f"air_out: {r.air_out.Tdb.to('degC'):~P.1f} DB, "
    f"{r.air_out.RH.to('pct'):~P.0f} RH\n"
    f"Q = {r.Q_dot.to('kW'):~P.3f}\n"
    f"dP_air = {r.dP_air.to('Pa'):~P.0f}\n"
    f"superheating flow length = {r.L2_superheat.to('mm'):~P.0f}"
)
