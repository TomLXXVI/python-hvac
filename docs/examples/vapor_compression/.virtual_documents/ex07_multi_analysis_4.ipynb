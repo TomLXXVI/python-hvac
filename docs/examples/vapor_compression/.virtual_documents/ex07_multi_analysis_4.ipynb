import ex07_multi_analysis_2b as oat_analysis
import ex07_multi_analysis_3b as oam_analysis


# get simulation data with varying compressor speed and varying outdoor air temperature
df_oat = oat_analysis.read_dataframe()

# get simulation data with varying compressor speed and varying condenser air mass flow rate
df_oam = oam_analysis.read_dataframe()


oat_analysis.plot_Q_evp(df_oat, n_cmp_rng=[3000, 3300, 3600, 4500, 4800, 5100])


oat_analysis.plot_Q_evp(df_oat, T_out_rng=[26, 30, 34, 38]) 


oat_analysis.plot_W_cmp(df_oat, n_cmp_rng=[3000, 3300, 3600, 3900, 4200, 4500])


oat_analysis.plot_W_cmp(df_oat, T_out_rng=[26, 30, 34, 38])


oat_analysis.plot_Q_cnd(df_oat, n_cmp_rng=[3000, 3300, 3600, 3900, 4200, 4500])


oat_analysis.plot_Q_cnd(df_oat, T_out_rng=[26, 30, 34, 38])


oam_analysis.plot_Q_evp(df_oam, n_cmp_rng=[3000, 3300, 3600, 3900, 4200, 4500])


oam_analysis.plot_Q_evp(df_oam, cnd_m_dot_air_rng=[2000, 2500, 3000, 3500, 4000])


oam_analysis.plot_W_cmp(df_oam, n_cmp_rng=[3000, 3300, 3600, 3900, 4200, 4500])


oam_analysis.plot_W_cmp(df_oam, cnd_m_dot_air_rng=[2000, 2500, 3000, 3500, 4000])


oam_analysis.plot_Q_cnd(df_oam, n_cmp_rng=[3000, 3300, 3600, 3900, 4200, 4500])


oam_analysis.plot_Q_cnd(df_oam, cnd_m_dot_air_rng=[2000, 2500, 3000, 3500, 4000])



