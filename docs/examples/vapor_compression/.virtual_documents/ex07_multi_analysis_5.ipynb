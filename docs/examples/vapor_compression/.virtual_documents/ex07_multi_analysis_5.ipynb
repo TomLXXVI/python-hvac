import ex07_multi_analysis_2b as oat_analysis
from hvac.charts import LineChart


# get simulation data with varying compressor speed and varying outdoor air temperature
df = oat_analysis.read_dataframe()


a, b = oat_analysis.plot_ctrl_n_cmp(df, target_Q_evp=3.5)
print(a, b)



