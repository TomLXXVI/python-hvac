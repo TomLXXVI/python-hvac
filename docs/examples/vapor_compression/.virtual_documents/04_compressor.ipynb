from pathlib import Path
import pandas as pd
from hvac import Quantity
from hvac.fluids import Fluid
from hvac.vapor_compression import FixedSpeedCompressor, VariableSpeedCompressor
from hvac.charts.log_ph_diagram import StandardVaporCompressionCycle, LogPhDiagram


from hvac.logging import ModuleLogger

logger = ModuleLogger.get_logger('hvac.fluids.fluid')
logger.setLevel(ModuleLogger.ERROR)


import warnings
warnings.filterwarnings('ignore', category=UserWarning)


Q_ = Quantity


data_folder = Path("./compressor_data")
file = data_folder / "DSF175-4.csv"

table = pd.read_csv(file)

with pd.option_context('display.max_columns', None, 'display.width', 300):
    print(table)


fixed_speed_compressor = FixedSpeedCompressor(
    coeff_file=data_folder / "ZR144KCE-TFD.csv",
    dT_sh=Q_(10, 'K'),  # degree of superheat
    dT_sc=Q_(0, 'K'),   # degree of subcooling
    refrigerant_type=Fluid('R22')
)


fixed_speed_compressor.Te = Q_(5.0, 'degC')   # evaporator temperature
fixed_speed_compressor.Tc = Q_(50, 'degC')    # condenser temperature


print(
    f"cooling capacity `Qc_dot` = {fixed_speed_compressor.Qc_dot.to('kW'):~P.2f}\n"
    f"compressor power `Wc_dot` = {fixed_speed_compressor.Wc_dot.to('kW'):~P.2f}\n"
    f"isentropic efficiency `eta_is` = {fixed_speed_compressor.eta_is.to('pct'):~P.2f}\n"
    f"refrigerant mass flow rate `m_dot` = {fixed_speed_compressor.m_dot.to('g/s'):~P.2f}\n"
    f"heat rejection rate `Qh_dot` = {fixed_speed_compressor.Qh_dot.to('kW'):~P.2f}\n"
    f"COP = {fixed_speed_compressor.COP.to('frac'):~P.2f}"
)


with pd.option_context('display.max_columns', None, 'display.width', 300):
    print(fixed_speed_compressor.get_refrigerant_cycle())


vc_cycle = StandardVaporCompressionCycle(
    Refrigerant=fixed_speed_compressor.refrigerant_type,
    evaporationTemperature=fixed_speed_compressor.Te,
    condensationTemperature=fixed_speed_compressor.Tc,
    evaporatorSuperheat=fixed_speed_compressor.dT_sh,
    subCooling=fixed_speed_compressor.dT_sc,
    suctionLineSuperheat=None,
    isentropicEfficiency=fixed_speed_compressor.eta_is
)

log_ph_diagram = LogPhDiagram(fixed_speed_compressor.refrigerant_type, size=(8, 6), dpi=96)
log_ph_diagram.setCycle(vc_cycle)
log_ph_diagram.show()


variable_speed_compressor = VariableSpeedCompressor(
    coeff_file=data_folder / "VZH088CGM.csv",
    dT_sh=Q_(10, 'K'),
    dT_sc=Q_(5, 'K'),
    refrigerant_type=Fluid('R32&R1234yf', mass_fractions=[Q_(0.689, 'frac'), Q_(0.311, 'frac')]),
    units={'speed': '1 / s', 'm_dot': 'kg / hr'}
)


variable_speed_compressor.Te = Q_(-7, 'degC')
variable_speed_compressor.Tc = Q_(35, 'degC')
variable_speed_compressor.speed = Q_(5618, '1/min')


print(
    f"Qc_dot = {variable_speed_compressor.Qc_dot.to('kW'):~P.2f}\n"
    f"Wc_dot = {variable_speed_compressor.Wc_dot.to('kW'):~P.2f}\n"
    f"eta_is = {variable_speed_compressor.eta_is.to('pct'):~P.2f}\n"
    f"m_dot = {variable_speed_compressor.m_dot.to('g/s'):~P.2f}\n"
    f"Qh_dot = {variable_speed_compressor.Qh_dot.to('kW'):~P.2f}\n"
    f"COP = {variable_speed_compressor.COP.to('frac'):~P.2f}"
)


with pd.option_context('display.max_columns', None, 'display.width', 300):
    print(variable_speed_compressor.get_refrigerant_cycle())


variable_speed_compressor.speed = Q_(1500, '1 / min')
print(f"cooling capacity at minimum speed: {variable_speed_compressor.Qc_dot.to('kW'):~P.2f}")


variable_speed_compressor.speed = Q_(6000, '1 / min')
print(f"cooling capacity at minimum speed: {variable_speed_compressor.Qc_dot.to('kW'):~P.2f}")


Qc_dot = Q_(10.0, 'kW')
rpm = variable_speed_compressor.get_compressor_speed(Qc_dot)
print(f"cooling capacity {Qc_dot:~P.2f} @ {rpm.to('1 / min'):~P.1f}")



