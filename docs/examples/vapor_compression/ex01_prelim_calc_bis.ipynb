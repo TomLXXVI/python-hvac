{
 "cells": [
  {
   "cell_type": "markdown",
   "id": "c2160751-2698-412e-94a8-1b3f374f26e5",
   "metadata": {},
   "source": [
    "**Notebook preparation and importing libraries**"
   ]
  },
  {
   "cell_type": "code",
   "execution_count": 1,
   "id": "89bed48e-3502-482c-b1e1-2a824921b0c8",
   "metadata": {
    "tags": [],
    "ExecuteTime": {
     "end_time": "2023-09-24T13:04:23.686169500Z",
     "start_time": "2023-09-24T13:04:22.773973900Z"
    }
   },
   "outputs": [],
   "source": [
    "import warnings\n",
    "from hvac import Quantity\n",
    "from hvac.fluids import HumidAir, Fluid, CP_HUMID_AIR, CoolPropWarning"
   ]
  },
  {
   "cell_type": "markdown",
   "id": "0731a9d8-acfd-4c86-93f4-352b7a7d56fb",
   "metadata": {},
   "source": [
    "Turn off the warnings that come from module `hvac.fluids.fluid`:"
   ]
  },
  {
   "cell_type": "code",
   "execution_count": 2,
   "id": "8c0a09d4-0739-4a85-9247-64954e26218a",
   "metadata": {
    "tags": [],
    "ExecuteTime": {
     "end_time": "2023-09-24T13:04:23.696902600Z",
     "start_time": "2023-09-24T13:04:23.686169500Z"
    }
   },
   "outputs": [],
   "source": [
    "warnings.filterwarnings('ignore', category=CoolPropWarning)"
   ]
  },
  {
   "cell_type": "code",
   "execution_count": 3,
   "id": "bdb7ca97-24f7-40ce-ad78-4277f0a7dffd",
   "metadata": {
    "tags": [],
    "ExecuteTime": {
     "end_time": "2023-09-24T13:04:23.696902600Z",
     "start_time": "2023-09-24T13:04:23.690785700Z"
    }
   },
   "outputs": [],
   "source": [
    "Q_ = Quantity"
   ]
  },
  {
   "cell_type": "markdown",
   "id": "2dda86f7-4c43-4581-a0c9-32e9fcf6205f",
   "metadata": {
    "tags": []
   },
   "source": [
    "# Preliminary Heat Exchanger Calculations"
   ]
  },
  {
   "cell_type": "markdown",
   "id": "440f689f-1785-468e-9b38-e9e19f91fc7c",
   "metadata": {},
   "source": [
    "- An air stream must be cooled from 24 °C (RH 50%) to 13 °C. The mass flow rate of air is 1500 kg/hr.\n",
    "- The refrigerant is R134a.\n",
    "- The outdoor air temperature is 35 °C."
   ]
  },
  {
   "cell_type": "markdown",
   "id": "851f9583-bdd5-4f02-a997-112199b3cb26",
   "metadata": {},
   "source": [
    "Define the type of refrigerant:"
   ]
  },
  {
   "cell_type": "code",
   "execution_count": 4,
   "id": "ec2f6dc2-1c61-44e5-b4f9-d41b11a643ae",
   "metadata": {
    "tags": [],
    "ExecuteTime": {
     "end_time": "2023-09-24T13:04:23.699908400Z",
     "start_time": "2023-09-24T13:04:23.694314600Z"
    }
   },
   "outputs": [],
   "source": [
    "R134a = Fluid('R134a')"
   ]
  },
  {
   "cell_type": "markdown",
   "id": "cc8a9ccb-9339-49ef-88ba-1cca983249a3",
   "metadata": {},
   "source": [
    "Define the air state at the entrance and exit of the evaporator:"
   ]
  },
  {
   "cell_type": "code",
   "execution_count": 5,
   "id": "ab566886-617f-4db7-b9ce-01d339de5c7a",
   "metadata": {
    "tags": [],
    "ExecuteTime": {
     "end_time": "2023-09-24T13:04:23.709922100Z",
     "start_time": "2023-09-24T13:04:23.700907400Z"
    }
   },
   "outputs": [],
   "source": [
    "evp_air_in = HumidAir(Tdb=Q_(24, 'degC'), RH=Q_(50, 'pct'))\n",
    "evp_air_out = HumidAir(Tdb=Q_(13, 'degC'), RH=Q_(100, 'pct'))"
   ]
  },
  {
   "cell_type": "markdown",
   "id": "679946da-7108-45da-a042-d898e3b57511",
   "metadata": {},
   "source": [
    "It is assumed that air will be close to saturation at the exit of the evaporator."
   ]
  },
  {
   "cell_type": "markdown",
   "id": "1be22955-6c1e-434b-aa2e-9590d55e583b",
   "metadata": {},
   "source": [
    "Set the mass flow rate of air through the evaporator:"
   ]
  },
  {
   "cell_type": "code",
   "execution_count": 6,
   "id": "02ac1503-da01-4e04-ab8f-c667a73c5384",
   "metadata": {
    "tags": [],
    "ExecuteTime": {
     "end_time": "2023-09-24T13:04:23.710923Z",
     "start_time": "2023-09-24T13:04:23.705051800Z"
    }
   },
   "outputs": [],
   "source": [
    "evp_m_dot_air = Q_(1500, 'kg/hr')"
   ]
  },
  {
   "cell_type": "markdown",
   "id": "62b1006d-e017-4977-8872-278459145dff",
   "metadata": {},
   "source": [
    "## Heat absorption rate"
   ]
  },
  {
   "cell_type": "markdown",
   "id": "b5a6ed3b-0e39-48e6-bca7-e70898b2698f",
   "metadata": {},
   "source": [
    "The heat rate to be extracted from the air stream in the evaporator can now be calculated:"
   ]
  },
  {
   "cell_type": "code",
   "execution_count": 7,
   "id": "bf4ef1cc-161b-44b0-86df-1ef364e18e32",
   "metadata": {
    "tags": [],
    "ExecuteTime": {
     "end_time": "2023-09-24T13:04:23.722875800Z",
     "start_time": "2023-09-24T13:04:23.709922100Z"
    }
   },
   "outputs": [
    {
     "name": "stdout",
     "output_type": "stream",
     "text": [
      "4.659 kW\n"
     ]
    }
   ],
   "source": [
    "Q_evp = evp_m_dot_air * (evp_air_in.h - evp_air_out.h)\n",
    "print(f\"{Q_evp.to('kW'):~P.3f}\")"
   ]
  },
  {
   "cell_type": "markdown",
   "id": "49a48fcf-cd20-4337-a958-aa098bae7e2b",
   "metadata": {},
   "source": [
    "## Evaporation temperature and pressure"
   ]
  },
  {
   "cell_type": "markdown",
   "id": "c26b8d4a-a00c-4cb6-842a-cfd1eefe9ca9",
   "metadata": {},
   "source": [
    "Select the evaporation temperature:"
   ]
  },
  {
   "cell_type": "code",
   "execution_count": 8,
   "id": "cfd07c36-4559-4630-b3ba-0d7e2cb7f44e",
   "metadata": {
    "tags": [],
    "ExecuteTime": {
     "end_time": "2023-09-24T13:04:23.796299200Z",
     "start_time": "2023-09-24T13:04:23.718705300Z"
    }
   },
   "outputs": [],
   "source": [
    "T_evp = Q_(5, 'degC')"
   ]
  },
  {
   "cell_type": "markdown",
   "id": "dfc417e6-14d2-4e41-9bd5-e8f78984780e",
   "metadata": {},
   "source": [
    "Find evaporation pressure. The state of saturated vapor in the evaporator:"
   ]
  },
  {
   "cell_type": "code",
   "execution_count": 9,
   "id": "d03e031e-92c8-4e58-a3db-bb5b84a5d8bf",
   "metadata": {
    "tags": [],
    "ExecuteTime": {
     "end_time": "2023-09-24T13:04:23.815157700Z",
     "start_time": "2023-09-24T13:04:23.722875800Z"
    }
   },
   "outputs": [
    {
     "name": "stdout",
     "output_type": "stream",
     "text": [
      "evaporation pressure = 3.497 bar\n"
     ]
    }
   ],
   "source": [
    "evp_rfg_sat_vap = R134a(T=T_evp, x=Q_(1.0, 'frac'))\n",
    "P_evp = evp_rfg_sat_vap.P\n",
    "print(f\"evaporation pressure = {P_evp.to('bar'):~P.3f}\")"
   ]
  },
  {
   "cell_type": "markdown",
   "id": "80f2ef97-6966-46a3-aeb7-6030a6015367",
   "metadata": {},
   "source": [
    "## Condensation temperature and pressure"
   ]
  },
  {
   "cell_type": "markdown",
   "id": "e885c0b5-8f4a-4792-9bf4-5bc9b439805a",
   "metadata": {},
   "source": [
    "Select the condensing temperature:"
   ]
  },
  {
   "cell_type": "code",
   "execution_count": 10,
   "id": "011e6a1a-aaff-4563-8e78-ff5bf8d83f2d",
   "metadata": {
    "tags": [],
    "ExecuteTime": {
     "end_time": "2023-09-24T13:04:23.815157700Z",
     "start_time": "2023-09-24T13:04:23.730918200Z"
    }
   },
   "outputs": [],
   "source": [
    "T_cnd = Q_(50, 'degC')"
   ]
  },
  {
   "cell_type": "markdown",
   "id": "65031a72-ec5d-4dd9-90fe-d711fcf7cf91",
   "metadata": {},
   "source": [
    "Find condensing pressure. The state of saturated liquid in the condenser:"
   ]
  },
  {
   "cell_type": "code",
   "execution_count": 11,
   "id": "d72a37b5-5ece-4449-8977-5d520e279e39",
   "metadata": {
    "tags": [],
    "ExecuteTime": {
     "end_time": "2023-09-24T13:04:23.816158300Z",
     "start_time": "2023-09-24T13:04:23.736589400Z"
    }
   },
   "outputs": [
    {
     "name": "stdout",
     "output_type": "stream",
     "text": [
      "condensing pressure = 13.179 bar\n"
     ]
    }
   ],
   "source": [
    "cnd_rfg_sat_liq = R134a(T=T_cnd, x=Q_(0.0, 'frac'))\n",
    "P_cnd = cnd_rfg_sat_liq.P\n",
    "print(f\"condensing pressure = {P_cnd.to('bar'):~P.3f}\")"
   ]
  },
  {
   "cell_type": "markdown",
   "id": "a7d5b4ee-cec6-4594-8034-bc2d04914f12",
   "metadata": {},
   "source": [
    "## Mass flow rate of refrigerant"
   ]
  },
  {
   "cell_type": "markdown",
   "id": "52436e56-7562-4a10-abc7-e50cbb6264fc",
   "metadata": {},
   "source": [
    "First, find the state of refrigerant leaving and entering the evaporator. Refrigerant leaving the evaporator is superheated to a certain degree, which is a setting of the expansion device. The state of refrigerant entering the evaporator will depend on the degree of subcooling of the refrigerant leaving the condenser."
   ]
  },
  {
   "cell_type": "markdown",
   "id": "d47eff7d-a925-4c81-95bd-71e8c05c4e28",
   "metadata": {},
   "source": [
    "Select the degree of superheating:"
   ]
  },
  {
   "cell_type": "code",
   "execution_count": 12,
   "id": "96f21345-a333-420f-998a-0dfcce36174e",
   "metadata": {
    "tags": [],
    "ExecuteTime": {
     "end_time": "2023-09-24T13:04:23.816158300Z",
     "start_time": "2023-09-24T13:04:23.742597Z"
    }
   },
   "outputs": [],
   "source": [
    "dT_sh = Q_(10, 'K')"
   ]
  },
  {
   "cell_type": "markdown",
   "id": "e709afbd-e2c8-4fb9-accf-bd2318bb8aa9",
   "metadata": {},
   "source": [
    "Select the degree of subcooling:"
   ]
  },
  {
   "cell_type": "code",
   "execution_count": 13,
   "id": "92d0f981-300e-4130-b761-bd66cca7327a",
   "metadata": {
    "tags": [],
    "ExecuteTime": {
     "end_time": "2023-09-24T13:04:23.816158300Z",
     "start_time": "2023-09-24T13:04:23.745602Z"
    }
   },
   "outputs": [],
   "source": [
    "dT_sc = Q_(5, 'K')"
   ]
  },
  {
   "cell_type": "markdown",
   "id": "61aa72bc-f655-4f89-91cc-5782bcf47511",
   "metadata": {},
   "source": [
    "Find state of refrigerant leaving the evaporator:"
   ]
  },
  {
   "cell_type": "code",
   "execution_count": 14,
   "id": "66733967-2eb3-4f21-86a9-5318ff99c32d",
   "metadata": {
    "tags": [],
    "ExecuteTime": {
     "end_time": "2023-09-24T13:04:23.816158300Z",
     "start_time": "2023-09-24T13:04:23.750084800Z"
    }
   },
   "outputs": [],
   "source": [
    "evp_rfg_out = R134a(T=T_evp.to('K') + dT_sh, P=P_evp)"
   ]
  },
  {
   "cell_type": "markdown",
   "id": "f3487ca0-6eba-4df6-ae31-d4b4c0578532",
   "metadata": {},
   "source": [
    "Find state of refrigerant entering the evaporator. The enthalpy of refrigerant entering the evaporator is equal to the enthalpy of refrigerant leaving the condenser, as the expansion process is considered to be an isenthalpic process. So first, the state of refrigerant leaving the condenser must be determined:"
   ]
  },
  {
   "cell_type": "code",
   "execution_count": 15,
   "id": "28fa1925-b4da-450c-9336-c67562444286",
   "metadata": {
    "tags": [],
    "ExecuteTime": {
     "end_time": "2023-09-24T13:04:23.816158300Z",
     "start_time": "2023-09-24T13:04:23.757589500Z"
    }
   },
   "outputs": [],
   "source": [
    "cnd_rfg_out = R134a(T=T_cnd.to('K') - dT_sc, x=Q_(0.0, 'frac'))"
   ]
  },
  {
   "cell_type": "markdown",
   "id": "766e18f8-29e0-4385-b279-f38f43fe301a",
   "metadata": {},
   "source": [
    "Now, the state of refrigerant entering the evaporator can also be determined:"
   ]
  },
  {
   "cell_type": "code",
   "execution_count": 16,
   "id": "1843ecac-cdb4-4026-822d-58b2f464dd24",
   "metadata": {
    "tags": [],
    "ExecuteTime": {
     "end_time": "2023-09-24T13:04:23.817157400Z",
     "start_time": "2023-09-24T13:04:23.759594400Z"
    }
   },
   "outputs": [
    {
     "name": "stdout",
     "output_type": "stream",
     "text": [
      "vapor quality of entering refrigerant to evaporator = 0.29 frac\n"
     ]
    }
   ],
   "source": [
    "evp_rfg_in = R134a(h=cnd_rfg_out.h, P=P_evp)\n",
    "print(f\"vapor quality of entering refrigerant to evaporator = {evp_rfg_in.x.to('frac'):~P.2f}\")"
   ]
  },
  {
   "cell_type": "markdown",
   "id": "0d461f72-8364-4a19-8cc7-48f592fc4dab",
   "metadata": {},
   "source": [
    "Now that the states of refrigerant on both sides of the evaporator are known, we can determine the mass flow rate of refrigerant needed to get at the required heat absorption rate in the evaporator:"
   ]
  },
  {
   "cell_type": "code",
   "execution_count": 17,
   "id": "81711513-835a-401a-a191-223e2aa7efdd",
   "metadata": {
    "tags": [],
    "ExecuteTime": {
     "end_time": "2023-09-24T13:04:23.817931200Z",
     "start_time": "2023-09-24T13:04:23.767256100Z"
    }
   },
   "outputs": [
    {
     "name": "stdout",
     "output_type": "stream",
     "text": [
      "mass flow rate of refrigerant = 114.344 kg/h\n"
     ]
    }
   ],
   "source": [
    "m_dot_rfg = Q_evp / (evp_rfg_out.h - evp_rfg_in.h)\n",
    "print(f\"mass flow rate of refrigerant = {m_dot_rfg.to('kg/hr'):~P.3f}\")"
   ]
  },
  {
   "cell_type": "markdown",
   "id": "4914076a-d573-4b14-8b83-c76a4cdc75f1",
   "metadata": {},
   "source": [
    "## Heat rejection rate"
   ]
  },
  {
   "cell_type": "markdown",
   "id": "d4ed5a3e-e14e-485e-b710-af76f4585084",
   "metadata": {},
   "source": [
    "The heat rate to be rejected in the condenser is the sum of the heat rate absorbed in the evaporator and the compressor power. To determine the compressor power, a compressor selection software program (e.g., Coolselector2 from Danfoss) can be used. Entering into this program the required heat absorption rate, the selected evaporation temperature, the selected degree of superheat, the selected condensing temperature, the selected degree of subcooling, and the refrigerant to be used, several compressor models will be presented to choose from. The program will also show the performance details of the currently selected compressor. For this example, a compressor DANFOSS VTZ038-G is selected. According to the selection program, the estimated discharge temperature is about 85.0 °C and the compressor power is about 1.855 kW. If we use the indicated refrigerant discharge temperature, we can determine the state of refrigerant entering the condenser. We already know the state of refrigerant leaving the condenser and the mass flow rate of refrigerant. With all this, the heat rejection rate can be calculated. Of course, we could also add the compressor power to the heat absorption rate to get at the heat rejection rate in the condenser.  "
   ]
  },
  {
   "cell_type": "code",
   "execution_count": 18,
   "id": "721e02dc-007b-405e-9d63-53d9fdf6f3fd",
   "metadata": {
    "tags": [],
    "ExecuteTime": {
     "end_time": "2023-09-24T13:04:23.831094900Z",
     "start_time": "2023-09-24T13:04:23.773099400Z"
    }
   },
   "outputs": [
    {
     "name": "stdout",
     "output_type": "stream",
     "text": [
      "heat rejection rate (based on discharge temperature) = 6.329 kW\n"
     ]
    }
   ],
   "source": [
    "T_dis = Q_(85.0, 'degC')\n",
    "cnd_rfg_in = R134a(T=T_dis, P=P_cnd)\n",
    "Q_cnd = m_dot_rfg * (cnd_rfg_in.h - cnd_rfg_out.h)\n",
    "print(f\"heat rejection rate (based on discharge temperature) = {Q_cnd.to('kW'):~P.3f}\")"
   ]
  },
  {
   "cell_type": "markdown",
   "id": "728c6dd9-6f12-4c4b-be5b-96b30b3b8ff5",
   "metadata": {},
   "source": [
    "If we add the indicated compressor power to the heat absorption rate, we get:"
   ]
  },
  {
   "cell_type": "code",
   "execution_count": 19,
   "id": "94df9937-f02e-490a-b8ef-a8905e2ba771",
   "metadata": {
    "tags": [],
    "ExecuteTime": {
     "end_time": "2023-09-24T13:04:23.831094900Z",
     "start_time": "2023-09-24T13:04:23.780574500Z"
    }
   },
   "outputs": [
    {
     "name": "stdout",
     "output_type": "stream",
     "text": [
      "heat rejection rate (based on compressor power) = 6.514 kW\n"
     ]
    }
   ],
   "source": [
    "_Q_cnd = Q_evp + Q_(1.855, 'kW')\n",
    "print(f\"heat rejection rate (based on compressor power) = {_Q_cnd.to('kW'):~P.3f}\")"
   ]
  },
  {
   "cell_type": "markdown",
   "id": "55030dc5-2ecd-47c5-9ee0-eea8f1fb01cf",
   "metadata": {},
   "source": [
    "## Mass flow rate of air through condenser"
   ]
  },
  {
   "cell_type": "markdown",
   "id": "0792ba33-74b6-448f-b1b6-bcf351963af1",
   "metadata": {},
   "source": [
    "Refrigerant enters the condenser at a temperature around 85.0 °C, and it leaves the condenser at a temperature around 45 °C, since the condensing temperature is 50 °C and, we assumed 5 K of subcooling at the exit of the condenser. Air enters the condenser at 35 °C, where refrigerant leaves the condenser (counter-flow heat exchanger). If we allow a temperature rise of 10 K of the air stream through the condenser, we can determine the mass flow rate of air to accomplish this:"
   ]
  },
  {
   "cell_type": "code",
   "execution_count": 20,
   "id": "c1f49947-66fa-485f-8eb2-eccc91b6470f",
   "metadata": {
    "tags": [],
    "ExecuteTime": {
     "end_time": "2023-09-24T13:04:23.832108400Z",
     "start_time": "2023-09-24T13:04:23.785084900Z"
    }
   },
   "outputs": [
    {
     "name": "stdout",
     "output_type": "stream",
     "text": [
      "mass flow rate of air through condenser = 2233.861 kg/h\n"
     ]
    }
   ],
   "source": [
    "cnd_dT_air = Q_(10, 'K')\n",
    "cnd_T_air_in = Q_(35, 'degC')\n",
    "cnd_air_in = HumidAir(Tdb=cnd_T_air_in, RH=Q_(30, 'pct'))\n",
    "\n",
    "cnd_T_air_out = cnd_T_air_in.to('K') + cnd_dT_air\n",
    "cnd_air_out = HumidAir(Tdb=cnd_T_air_out, W=cnd_air_in.W)\n",
    "\n",
    "cnd_m_dot_air = Q_cnd / (CP_HUMID_AIR * (cnd_T_air_out - cnd_T_air_in))\n",
    "print(f\"mass flow rate of air through condenser = {cnd_m_dot_air.to('kg / hr'):~P.3f}\")"
   ]
  },
  {
   "cell_type": "markdown",
   "id": "778cafbc-e591-4513-bf03-33287205f956",
   "metadata": {},
   "source": [
    "## Frontal area of evaporator"
   ]
  },
  {
   "cell_type": "markdown",
   "id": "015e37e6-d8e3-4cc1-9435-2d0018c5688c",
   "metadata": {},
   "source": [
    "Select an air face velocity:"
   ]
  },
  {
   "cell_type": "code",
   "execution_count": 21,
   "id": "2e44599c-f273-4fac-aa8a-5a0d329f6006",
   "metadata": {
    "tags": [],
    "ExecuteTime": {
     "end_time": "2023-09-24T13:04:23.832108400Z",
     "start_time": "2023-09-24T13:04:23.790746300Z"
    }
   },
   "outputs": [],
   "source": [
    "evp_v_fa = Q_(2, 'm/s')"
   ]
  },
  {
   "cell_type": "markdown",
   "id": "291b5b5b-8e72-4e4e-a6fb-4f19e3506d75",
   "metadata": {},
   "source": [
    "The volume flow rate of air through the evaporator can be determined:"
   ]
  },
  {
   "cell_type": "code",
   "execution_count": 22,
   "id": "8be0f0eb-0c64-4a87-8ca2-7497b92a3715",
   "metadata": {
    "tags": [],
    "ExecuteTime": {
     "end_time": "2023-09-24T13:04:23.834057600Z",
     "start_time": "2023-09-24T13:04:23.795298Z"
    }
   },
   "outputs": [
    {
     "name": "stdout",
     "output_type": "stream",
     "text": [
      "volume flow rate of air through evaporator = 1281.170 m³/h\n"
     ]
    }
   ],
   "source": [
    "evp_V_dot_air = evp_m_dot_air / evp_air_in.rho\n",
    "print(f\"volume flow rate of air through evaporator = {evp_V_dot_air.to('m ** 3 / hr'):~P.3f}\")"
   ]
  },
  {
   "cell_type": "markdown",
   "id": "9aae9280-beeb-4ada-803c-e8e8602d53f8",
   "metadata": {},
   "source": [
    "The frontal area of the evaporator can now be calculated as:"
   ]
  },
  {
   "cell_type": "code",
   "execution_count": 23,
   "id": "4aa036f5-414a-4af9-a808-25c50a0192e9",
   "metadata": {
    "tags": [],
    "ExecuteTime": {
     "end_time": "2023-09-24T13:04:23.834057600Z",
     "start_time": "2023-09-24T13:04:23.801617200Z"
    }
   },
   "outputs": [
    {
     "name": "stdout",
     "output_type": "stream",
     "text": [
      "frontal area of evaporator = 0.1779 m²\n"
     ]
    }
   ],
   "source": [
    "evp_A_fr = evp_V_dot_air / evp_v_fa\n",
    "print(f\"frontal area of evaporator = {evp_A_fr.to('m ** 2'):~P.4f}\")"
   ]
  },
  {
   "cell_type": "markdown",
   "id": "2c4d66d6-a070-4f1b-b1e7-30311747b6c2",
   "metadata": {},
   "source": [
    "To determine the width and height of the frontal area, we could select a certain aspect ratio (ratio of height to width):"
   ]
  },
  {
   "cell_type": "code",
   "execution_count": 24,
   "id": "5ebb1e83-5908-4fb1-9227-c557b8fc9b74",
   "metadata": {
    "tags": [],
    "ExecuteTime": {
     "end_time": "2023-09-24T13:04:23.834562900Z",
     "start_time": "2023-09-24T13:04:23.807115400Z"
    }
   },
   "outputs": [],
   "source": [
    "evp_AR = 1 / 3"
   ]
  },
  {
   "cell_type": "markdown",
   "id": "ddc2372a-6f38-4320-ba8e-ccd15ec36810",
   "metadata": {},
   "source": [
    "The width of the frontal area:"
   ]
  },
  {
   "cell_type": "code",
   "execution_count": 25,
   "id": "9e0730f8-cf09-47a2-964b-0df60ac2a84c",
   "metadata": {
    "tags": [],
    "ExecuteTime": {
     "end_time": "2023-09-24T13:04:23.834562900Z",
     "start_time": "2023-09-24T13:04:23.810972600Z"
    }
   },
   "outputs": [
    {
     "name": "stdout",
     "output_type": "stream",
     "text": [
      "width of evaporator's frontal area = 731 mm\n"
     ]
    }
   ],
   "source": [
    "evp_L1 = (evp_A_fr / evp_AR) ** 0.5\n",
    "print(f\"width of evaporator's frontal area = {evp_L1.to('mm'):~P.0f}\")"
   ]
  },
  {
   "cell_type": "markdown",
   "id": "6bc234d8-13e3-4b9c-8978-93775412e815",
   "metadata": {},
   "source": [
    "The height of the frontal area:"
   ]
  },
  {
   "cell_type": "code",
   "execution_count": 26,
   "id": "7a6ffeea-f5c8-4428-89d8-6bca8d73d1d3",
   "metadata": {
    "tags": [],
    "ExecuteTime": {
     "end_time": "2023-09-24T13:04:23.868156800Z",
     "start_time": "2023-09-24T13:04:23.817426200Z"
    }
   },
   "outputs": [
    {
     "name": "stdout",
     "output_type": "stream",
     "text": [
      "height of evaporator's frontal area = 244 mm\n"
     ]
    }
   ],
   "source": [
    "evp_L3 = evp_A_fr / evp_L1\n",
    "print(f\"height of evaporator's frontal area = {evp_L3.to('mm'):~P.0f}\")"
   ]
  },
  {
   "cell_type": "markdown",
   "id": "f172fd1f-b7a3-4951-83d3-0464bf924b31",
   "metadata": {},
   "source": [
    "## Frontal area of condenser"
   ]
  },
  {
   "cell_type": "markdown",
   "id": "9f96f72b-d0bc-4d51-a7ce-3ad6939ba3ea",
   "metadata": {},
   "source": [
    "Select an air face velocity:"
   ]
  },
  {
   "cell_type": "code",
   "execution_count": 27,
   "id": "65e95496-495a-4ae3-94a3-6c621caf5890",
   "metadata": {
    "tags": [],
    "ExecuteTime": {
     "end_time": "2023-09-24T13:04:23.869156100Z",
     "start_time": "2023-09-24T13:04:23.821581300Z"
    }
   },
   "outputs": [],
   "source": [
    "cnd_v_fa = Q_(2, 'm/s')"
   ]
  },
  {
   "cell_type": "markdown",
   "id": "067dde10-d668-4f6b-a82b-64b685990e80",
   "metadata": {},
   "source": [
    "The volume flow rate of air through the condenser can be determined:"
   ]
  },
  {
   "cell_type": "code",
   "execution_count": 28,
   "id": "e1a39b10-f935-4619-8aa7-c40a8a47ea98",
   "metadata": {
    "tags": [],
    "ExecuteTime": {
     "end_time": "2023-09-24T13:04:24.076825700Z",
     "start_time": "2023-09-24T13:04:23.828584400Z"
    }
   },
   "outputs": [
    {
     "name": "stdout",
     "output_type": "stream",
     "text": [
      "volume flow rate of air through condenser = 1982.701 m³/h\n"
     ]
    }
   ],
   "source": [
    "cnd_V_dot_air = cnd_m_dot_air / cnd_air_in.rho\n",
    "print(f\"volume flow rate of air through condenser = {cnd_V_dot_air.to('m ** 3 / hr'):~P.3f}\")"
   ]
  },
  {
   "cell_type": "markdown",
   "id": "4ea5c8f3-19aa-4b42-91d2-2086b487b186",
   "metadata": {},
   "source": [
    "The frontal area of the condenser can now be calculated as:"
   ]
  },
  {
   "cell_type": "code",
   "execution_count": 29,
   "id": "b94753f5-b2b6-451b-b6a9-92495e0d8c08",
   "metadata": {
    "tags": [],
    "ExecuteTime": {
     "end_time": "2023-09-24T13:04:24.110402800Z",
     "start_time": "2023-09-24T13:04:23.832108400Z"
    }
   },
   "outputs": [
    {
     "name": "stdout",
     "output_type": "stream",
     "text": [
      "frontal area of condenser = 0.2754 m²\n"
     ]
    }
   ],
   "source": [
    "cnd_A_fr = cnd_V_dot_air / cnd_v_fa\n",
    "print(f\"frontal area of condenser = {cnd_A_fr.to('m ** 2'):~P.4f}\")"
   ]
  },
  {
   "cell_type": "markdown",
   "id": "4d5e885d-aa93-41fb-a288-fb9bb0509557",
   "metadata": {},
   "source": [
    "To determine the width and height of the frontal area, we could select a certain aspect ratio (ratio of height to width):"
   ]
  },
  {
   "cell_type": "code",
   "execution_count": 30,
   "id": "89867b13-fad8-4083-9afe-ce5cc0fe09fc",
   "metadata": {
    "tags": [],
    "ExecuteTime": {
     "end_time": "2023-09-24T13:04:24.111401500Z",
     "start_time": "2023-09-24T13:04:23.838080600Z"
    }
   },
   "outputs": [],
   "source": [
    "cnd_AR = 1 / 3"
   ]
  },
  {
   "cell_type": "markdown",
   "id": "37a633e8-b47d-4779-8d63-fce0333b46f4",
   "metadata": {},
   "source": [
    "The width of the frontal area:"
   ]
  },
  {
   "cell_type": "code",
   "execution_count": 31,
   "id": "6dc98a44-9c42-4f5b-a7ff-8abdd5cf8a44",
   "metadata": {
    "tags": [],
    "ExecuteTime": {
     "end_time": "2023-09-24T13:04:24.111401500Z",
     "start_time": "2023-09-24T13:04:23.840594800Z"
    }
   },
   "outputs": [
    {
     "name": "stdout",
     "output_type": "stream",
     "text": [
      "width of condenser's frontal area = 909 mm\n"
     ]
    }
   ],
   "source": [
    "cnd_L1 = (cnd_A_fr / cnd_AR) ** 0.5\n",
    "print(f\"width of condenser's frontal area = {cnd_L1.to('mm'):~P.0f}\")"
   ]
  },
  {
   "cell_type": "markdown",
   "id": "9df288ec-849b-4900-9e04-fb3396c7bd09",
   "metadata": {},
   "source": [
    "The height of the frontal area:"
   ]
  },
  {
   "cell_type": "code",
   "execution_count": 32,
   "id": "cecce7de-bd0e-4d4f-b241-1df19ffd3fca",
   "metadata": {
    "tags": [],
    "ExecuteTime": {
     "end_time": "2023-09-24T13:04:24.111401500Z",
     "start_time": "2023-09-24T13:04:23.846828500Z"
    }
   },
   "outputs": [
    {
     "name": "stdout",
     "output_type": "stream",
     "text": [
      "height of condenser's frontal area = 303 mm\n"
     ]
    }
   ],
   "source": [
    "cnd_L3 = cnd_A_fr / cnd_L1\n",
    "print(f\"height of condenser's frontal area = {cnd_L3.to('mm'):~P.0f}\")"
   ]
  },
  {
   "cell_type": "markdown",
   "id": "b1cf7984-0a48-4d35-8f1c-62c65446f53f",
   "metadata": {},
   "source": [
    "## Summary"
   ]
  },
  {
   "cell_type": "markdown",
   "id": "4962b4a3-0f52-4269-ba15-6ad68265a301",
   "metadata": {},
   "source": [
    "**Evaporator**"
   ]
  },
  {
   "cell_type": "code",
   "execution_count": 33,
   "id": "f82abf0e-f740-4712-903a-c38b68e559c6",
   "metadata": {
    "tags": [],
    "ExecuteTime": {
     "end_time": "2023-09-24T13:04:24.111401500Z",
     "start_time": "2023-09-24T13:04:23.852734500Z"
    }
   },
   "outputs": [
    {
     "name": "stdout",
     "output_type": "stream",
     "text": [
      "refrigerant in: 5.00 °C, 0.29 frac\n",
      "air in: 24.00 °C, 50.00 %\n",
      "mass flow rate of air: 1500.000 kg/h\n",
      "mass flow rate of refrigerant: 114.344 kg/h\n",
      "frontal area: 0.1779 m²\n",
      "frontal area width and height = 731 mm, 244 mm\n"
     ]
    }
   ],
   "source": [
    "print(\n",
    "    f\"refrigerant in: {evp_rfg_in.T.to('degC'):~P.2f}, {evp_rfg_in.x.to('frac'):~P.2f}\\n\"\n",
    "    f\"air in: {evp_air_in.Tdb.to('degC'):~P.2f}, {evp_air_in.RH.to('pct'):~P.2f}\\n\"\n",
    "    f\"mass flow rate of air: {evp_m_dot_air.to('kg / hr'):~P.3f}\\n\"\n",
    "    f\"mass flow rate of refrigerant: {m_dot_rfg.to('kg / hr'):~P.3f}\\n\"\n",
    "    f\"frontal area: {evp_A_fr.to('m ** 2'):~P.4f}\\n\"\n",
    "    f\"frontal area width and height = {evp_L1.to('mm'):~P.0f}, {evp_L3.to('mm'):~P.0f}\"\n",
    ")"
   ]
  },
  {
   "cell_type": "markdown",
   "id": "325b6d22-1f68-43d9-b0ac-c8493fa9a476",
   "metadata": {},
   "source": [
    "**Condenser**"
   ]
  },
  {
   "cell_type": "code",
   "execution_count": 34,
   "id": "d8a634b6-5cd4-424f-9f9d-f6c8781d6da7",
   "metadata": {
    "tags": [],
    "ExecuteTime": {
     "end_time": "2023-09-24T13:04:24.112439200Z",
     "start_time": "2023-09-24T13:04:23.856881900Z"
    }
   },
   "outputs": [
    {
     "name": "stdout",
     "output_type": "stream",
     "text": [
      "refrigerant in: 85.00 °C, 13.179 bar\n",
      "air in: 35.00 °C, 30.00 %\n",
      "mass flow rate of air: 2233.861 kg/h\n",
      "heat rejection rate: 6.329 kW\n",
      "frontal area: 0.2754 m²\n",
      "frontal area width and height = 909 mm, 303 mm\n"
     ]
    }
   ],
   "source": [
    "print(\n",
    "    f\"refrigerant in: {cnd_rfg_in.T.to('degC'):~P.2f}, {cnd_rfg_in.P.to('bar'):~P.3f}\\n\"\n",
    "    f\"air in: {cnd_air_in.Tdb.to('degC'):~P.2f}, {cnd_air_in.RH.to('pct'):~P.2f}\\n\"\n",
    "    f\"mass flow rate of air: {cnd_m_dot_air.to('kg / hr'):~P.3f}\\n\"\n",
    "    f\"heat rejection rate: {Q_cnd.to('kW'):~P.3f}\\n\"\n",
    "    f\"frontal area: {cnd_A_fr.to('m ** 2'):~P.4f}\\n\"\n",
    "    f\"frontal area width and height = {cnd_L1.to('mm'):~P.0f}, {cnd_L3.to('mm'):~P.0f}\"\n",
    ")"
   ]
  },
  {
   "cell_type": "code",
   "execution_count": 34,
   "id": "57b94582-b3b9-4dcc-b818-b7b361abb88d",
   "metadata": {
    "ExecuteTime": {
     "end_time": "2023-09-24T13:04:24.112439200Z",
     "start_time": "2023-09-24T13:04:23.865151900Z"
    }
   },
   "outputs": [],
   "source": []
  }
 ],
 "metadata": {
  "kernelspec": {
   "display_name": "Python 3 (ipykernel)",
   "language": "python",
   "name": "python3"
  },
  "language_info": {
   "codemirror_mode": {
    "name": "ipython",
    "version": 3
   },
   "file_extension": ".py",
   "mimetype": "text/x-python",
   "name": "python",
   "nbconvert_exporter": "python",
   "pygments_lexer": "ipython3",
   "version": "3.11.0"
  }
 },
 "nbformat": 4,
 "nbformat_minor": 5
}
