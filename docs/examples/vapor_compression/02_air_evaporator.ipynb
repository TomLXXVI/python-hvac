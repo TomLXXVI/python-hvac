{
 "cells": [
  {
   "cell_type": "markdown",
   "id": "5d9ae619-694a-4fb9-81a2-f19d819d226a",
   "metadata": {},
   "source": [
    "**Notebook preparation and importing libraries**"
   ]
  },
  {
   "cell_type": "code",
   "execution_count": 1,
   "id": "814844fb-93da-46f2-b9cc-f4810633790e",
   "metadata": {
    "tags": []
   },
   "outputs": [],
   "source": [
    "from hvac import Quantity\n",
    "from hvac.fluids import HumidAir, Fluid\n",
    "from hvac.logging import ModuleLogger"
   ]
  },
  {
   "cell_type": "code",
   "execution_count": 2,
   "id": "c94cc7ed-7c30-4c6b-ac50-8c6c64825f50",
   "metadata": {
    "tags": []
   },
   "outputs": [],
   "source": [
    "logger = ModuleLogger.get_logger('hvac.fluids.fluid')\n",
    "logger.setLevel(ModuleLogger.ERROR)"
   ]
  },
  {
   "cell_type": "code",
   "execution_count": 3,
   "id": "07454244-f082-4640-aab0-aded750c38d4",
   "metadata": {
    "tags": []
   },
   "outputs": [],
   "source": [
    "Q_ = Quantity"
   ]
  },
  {
   "cell_type": "code",
   "execution_count": 4,
   "id": "638893c6-0ecd-435e-a419-28e15ffa9cf7",
   "metadata": {
    "tags": []
   },
   "outputs": [],
   "source": [
    "import hvac.heat_transfer.heat_exchanger.fin_tube.air_evaporator.rating as rating"
   ]
  },
  {
   "cell_type": "markdown",
   "id": "75f2d8b2-56b1-4312-8919-fb8df5ea44aa",
   "metadata": {
    "tags": []
   },
   "source": [
    "# Rating of a plain fin-tube counterflow air evaporator"
   ]
  },
  {
   "cell_type": "markdown",
   "id": "c67f150b-f3f7-48aa-bd41-8162877de68e",
   "metadata": {},
   "source": [
    "Define the type of refrigerant:"
   ]
  },
  {
   "cell_type": "code",
   "execution_count": 5,
   "id": "673d2cb6-102b-48ec-a062-8410fb7db09b",
   "metadata": {
    "tags": []
   },
   "outputs": [],
   "source": [
    "R134a = Fluid('R134a')"
   ]
  },
  {
   "cell_type": "markdown",
   "id": "a9d651c2-d613-49f6-9ffb-32e3012ffe88",
   "metadata": {},
   "source": [
    "Define the type of evaporator: a plain fin-tube, counterflow heat exchanger."
   ]
  },
  {
   "cell_type": "code",
   "execution_count": 6,
   "id": "dedbb528-284a-4419-b767-0a4ea80b9fea",
   "metadata": {
    "tags": []
   },
   "outputs": [],
   "source": [
    "Evaporator = rating.PFT_CO_EVP"
   ]
  },
  {
   "cell_type": "markdown",
   "id": "fb41a3dd-1dd4-4b72-99ea-b4f73841d8a1",
   "metadata": {},
   "source": [
    "Create an instance of the evaporator model, specifying the dimensions of the frontal area, the number of rows, the geometrical characteristics of the heat transfer surfaces, and the thermal conductivity of the fins:"
   ]
  },
  {
   "cell_type": "code",
   "execution_count": 7,
   "id": "997efe71-d3fe-4d53-8f6a-6f04a2f2d6c6",
   "metadata": {
    "tags": []
   },
   "outputs": [],
   "source": [
    "evp = Evaporator(\n",
    "    L1=Q_(0.844, 'm'),          # width of frontal area\n",
    "    L3=Q_(0.211, 'm'),          # height of frontal area\n",
    "    N_r=6,                      # number of rows\n",
    "    S_t=Q_(25.4, 'mm'),         # vertical distance between tubes\n",
    "    S_l=Q_(22.0, 'mm'),         # horizontal distance between tubes\n",
    "    D_i=Q_(8.422, 'mm'),        # inner tube diameter\n",
    "    D_o=Q_(10.2, 'mm'),         # outer tube diameter\n",
    "    t_f=Q_(0.3302, 'mm'),       # fin thickness\n",
    "    N_f=1 / Q_(3.175, 'mm'),    # fin density\n",
    "    k_f=Q_(237, 'W / (m * K)')  # conductivity of fin material\n",
    ")"
   ]
  },
  {
   "cell_type": "markdown",
   "id": "313ff8e6-dd3d-4bbc-815a-496bbbfee948",
   "metadata": {},
   "source": [
    "On this instance, we set the known operating conditions:\n",
    "- the state of air entering the evaporator\n",
    "- the mass flow rate of air through the evaporator\n",
    "- the state of saturated refrigerant liquid/vapor mixture entering the evaporator (either evaporation temperature or pressure, and vapor quality)\n",
    "- the degree of superheat of the refrigerant at the evaporator outlet, which is a setting of the expansion device\n",
    "\n",
    "The result of rating the evaporator will contain:\n",
    "- the mass flow rate of refrigerant let through by the expansion device in order to reach the set degree of superheat\n",
    "- the resulting state of air at the air-side evaporator outlet\n",
    "- the heat absorption rate (the heat transfer rate from the air to the refrigerant)\n",
    "- the air-side pressure drop\n",
    "- the flow length used for superheating the refrigerant vapor to the set degree of superheat\n",
    "\n",
    "The rating routine is an iterative routine which is started with an intial guess of the mass flow rate of refrigerant. This initial guess may be the mass flow rate that was determined in the preliminary heat exchanger calculations. The criterion to stop the iterative routine is the tolerated deviation (tolerance) between the last and the previous calculated mass flow rate of refrigerant, which can be set through parameter `tol_m_dot_rfg`. Should the tolerance not be reached after a maximum number of iterations, which can be set with parameter `i_max`, a `ValueError` exception will be raised and no result is returned."
   ]
  },
  {
   "cell_type": "code",
   "execution_count": 8,
   "id": "db4bc718-0d94-4b3b-a901-78861d88ae0a",
   "metadata": {
    "tags": []
   },
   "outputs": [],
   "source": [
    "r = evp(\n",
    "    air_in=HumidAir(Tdb=Q_(24, 'degC'), RH=Q_(50, 'pct')),\n",
    "    m_dot_air=Q_(1500, 'kg / hr'),\n",
    "    rfg_in=R134a(T=Q_(10.67, 'degC'), x=Q_(0.26, 'frac')),\n",
    "    dT_rfg_sh=Q_(10, 'K'),\n",
    "    m_dot_rfg_ini=Q_(135.570, 'kg / hr'),\n",
    "    tol_m_dot_rfg=Q_(0.01, 'kg / s')\n",
    ")"
   ]
  },
  {
   "cell_type": "markdown",
   "id": "cfd79056-f7da-4ede-960e-310f6a858452",
   "metadata": {},
   "source": [
    "Showing the results:"
   ]
  },
  {
   "cell_type": "code",
   "execution_count": 9,
   "id": "d0822b54-c7af-47b8-8951-5399c76c564c",
   "metadata": {
    "tags": []
   },
   "outputs": [
    {
     "name": "stdout",
     "output_type": "stream",
     "text": [
      "m_dot_rfg = 133.227 kg/h\n",
      "air_out: 13.4 °C DB, 87 % RH\n",
      "Q = 5.562 kW\n",
      "dP_air = 46 Pa\n",
      "superheating flow length = 31 mm\n"
     ]
    }
   ],
   "source": [
    "print(\n",
    "    f\"m_dot_rfg = {r.m_dot_rfg.to('kg / hr'):~P.3f}\\n\"\n",
    "    f\"air_out: {r.air_out.Tdb.to('degC'):~P.1f} DB, \"\n",
    "    f\"{r.air_out.RH.to('pct'):~P.0f} RH\\n\"\n",
    "    f\"Q = {r.Q.to('kW'):~P.3f}\\n\"\n",
    "    f\"dP_air = {r.dP_air.to('Pa'):~P.0f}\\n\"\n",
    "    f\"superheating flow length = {r.L2_superheat.to('mm'):~P.0f}\"\n",
    ")"
   ]
  },
  {
   "cell_type": "markdown",
   "id": "8d2a8925-96c0-4ab8-a1f8-6c44392b9dac",
   "metadata": {},
   "source": [
    "We can now compare these results with our preliminary calculations. By increasing or decreasing the number of rows of the evaporator, we can try to get at the desired state of air leaving the evaporator (or we can try with other heat exchanger core geometries also)."
   ]
  },
  {
   "cell_type": "code",
   "execution_count": null,
   "id": "b79a0352-aaf5-4550-a049-11113e67fc3b",
   "metadata": {},
   "outputs": [],
   "source": []
  }
 ],
 "metadata": {
  "kernelspec": {
   "display_name": "Python 3 (ipykernel)",
   "language": "python",
   "name": "python3"
  },
  "language_info": {
   "codemirror_mode": {
    "name": "ipython",
    "version": 3
   },
   "file_extension": ".py",
   "mimetype": "text/x-python",
   "name": "python",
   "nbconvert_exporter": "python",
   "pygments_lexer": "ipython3",
   "version": "3.10.4"
  }
 },
 "nbformat": 4,
 "nbformat_minor": 5
}
