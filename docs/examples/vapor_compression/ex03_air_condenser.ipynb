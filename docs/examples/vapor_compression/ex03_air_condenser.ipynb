{
 "cells": [
  {
   "cell_type": "markdown",
   "id": "55833701-314b-4966-9585-c0b576a69a2f",
   "metadata": {},
   "source": [
    "**Notebook preparation and importing libraries**"
   ]
  },
  {
   "cell_type": "code",
   "execution_count": 1,
   "id": "66a7e59f-649a-48dd-a378-76e091ad1df8",
   "metadata": {
    "ExecuteTime": {
     "end_time": "2023-09-24T13:14:18.115942Z",
     "start_time": "2023-09-24T13:14:18.110733400Z"
    },
    "tags": []
   },
   "outputs": [],
   "source": [
    "import warnings\n",
    "from hvac import Quantity\n",
    "from hvac.fluids import HumidAir, Fluid, CoolPropWarning"
   ]
  },
  {
   "cell_type": "code",
   "execution_count": 2,
   "id": "c43f7f77-e051-4f57-ba8c-f9d5ce586c82",
   "metadata": {
    "ExecuteTime": {
     "end_time": "2023-09-24T13:14:18.763850300Z",
     "start_time": "2023-09-24T13:14:18.759281800Z"
    },
    "tags": []
   },
   "outputs": [],
   "source": [
    "warnings.filterwarnings('ignore', category=CoolPropWarning)"
   ]
  },
  {
   "cell_type": "code",
   "execution_count": 3,
   "id": "74ae918d-5d4d-465a-8264-33dc98ebd2bb",
   "metadata": {
    "ExecuteTime": {
     "end_time": "2023-09-24T13:14:19.267834Z",
     "start_time": "2023-09-24T13:14:19.261536800Z"
    },
    "tags": []
   },
   "outputs": [],
   "source": [
    "Q_ = Quantity"
   ]
  },
  {
   "cell_type": "code",
   "execution_count": 4,
   "id": "2ace415a-a198-4c88-acfa-7e5d457c5860",
   "metadata": {
    "ExecuteTime": {
     "end_time": "2023-09-24T13:14:19.945213500Z",
     "start_time": "2023-09-24T13:14:19.922697700Z"
    },
    "tags": []
   },
   "outputs": [],
   "source": [
    "from hvac.heat_transfer.heat_exchanger.fin_tube import PlainFinTubeCounterFlowAirCondenser as Condenser"
   ]
  },
  {
   "cell_type": "markdown",
   "id": "48f30aa2-91c7-460b-882d-c33375a37195",
   "metadata": {
    "tags": []
   },
   "source": [
    "# Rating of a plain fin-tube counterflow air condenser"
   ]
  },
  {
   "cell_type": "markdown",
   "id": "3a5933f2-9de3-460a-8c3a-a891373730e9",
   "metadata": {},
   "source": [
    "Define the type of refrigerant:"
   ]
  },
  {
   "cell_type": "code",
   "execution_count": 5,
   "id": "9114bbec-6a03-4699-bf52-20ed872c7db7",
   "metadata": {
    "ExecuteTime": {
     "end_time": "2023-09-24T13:14:22.938330Z",
     "start_time": "2023-09-24T13:14:22.934949200Z"
    },
    "tags": []
   },
   "outputs": [],
   "source": [
    "R134a = Fluid('R134a')"
   ]
  },
  {
   "cell_type": "markdown",
   "id": "d0dcd56b-5fb0-4a3e-9e09-63c9727b2ee5",
   "metadata": {},
   "source": [
    "Define the type of condenser: a plain fin-tube, counterflow heat exchanger."
   ]
  },
  {
   "cell_type": "markdown",
   "id": "76e7f534-3583-4f65-a931-c4e3a147001e",
   "metadata": {},
   "source": [
    "Create an instance of the condenser model, specifying the dimensions of the frontal area, the number of rows, the geometrical characteristics of the heat transfer surfaces, and the thermal conductivity of the fins (by default aluminum fins are assumed):"
   ]
  },
  {
   "cell_type": "code",
   "execution_count": 6,
   "id": "74c36e3d-1b20-424f-b11f-2c71808a6042",
   "metadata": {
    "ExecuteTime": {
     "end_time": "2023-09-24T13:15:11.553841700Z",
     "start_time": "2023-09-24T13:15:11.541602300Z"
    },
    "tags": []
   },
   "outputs": [],
   "source": [
    "condenser = Condenser(\n",
    "    W_fro=Q_(0.909, 'm'),\n",
    "    H_fro=Q_(0.303, 'm'),\n",
    "    N_rows=4,\n",
    "    S_trv=Q_(25.4, 'mm'),         # vertical distance between tubes\n",
    "    S_lon=Q_(22.0, 'mm'),         # horizontal distance between tubes\n",
    "    D_int=Q_(8.422, 'mm'),        # inner tube diameter\n",
    "    D_ext=Q_(10.2, 'mm'),         # outer tube diameter\n",
    "    t_fin=Q_(0.3302, 'mm'),       # fin thickness\n",
    "    N_fin=1 / Q_(3.175, 'mm'),    # fin density\n",
    "    k_fin=Q_(237, 'W / (m * K)')  # conductivity of fin material\n",
    ")"
   ]
  },
  {
   "cell_type": "markdown",
   "id": "0371502b-dffb-4058-913b-1f7d8c8ba8d7",
   "metadata": {},
   "source": [
    "On this object, we set the known operating conditions:\n",
    "- the mass flow rate of air through the condenser\n",
    "- the mass flow rate of refrigerant, which was determined when rating the evaporator\n",
    "- the state of air that enters the condenser\n",
    "- the state of refrigerant entering the condenser\n",
    "\n",
    "The result of the condenser rating will contain:\n",
    "- the state of refrigerant leaving the condenser\n",
    "- the state of air leaving the condenser\n",
    "- the heat rejection rate (the heat transfer rate from the refrigerant to the air stream)\n",
    "- the degree of subcooling\n",
    "- the flow length of air through the desuperheating, condensing, and subcooling part of the condenser\n",
    "\n",
    "The rating routine (of the subcooling part) is an iterative routine. The criterion to stop the iterative routine is the tolerable deviation between the last and the previous calculated heat exchanger effectiveness, which can be set through parameter `tol_eps`. Should the tolerable deviation not be reached after a maximum number of iterations, which can be set with parameter `i_max`, a `ValueError` exception will be raised and no result is returned."
   ]
  },
  {
   "cell_type": "code",
   "execution_count": 7,
   "id": "cfd76c72-d296-4fe2-8672-2eaf207aa47f",
   "metadata": {
    "ExecuteTime": {
     "end_time": "2023-09-24T13:18:11.156222400Z",
     "start_time": "2023-09-24T13:17:48.649563400Z"
    },
    "tags": []
   },
   "outputs": [],
   "source": [
    "air_out, rfg_out = condenser.solve(\n",
    "    air_in=HumidAir(Tdb=Q_(35.0, 'degC'), RH=Q_(30, 'pct')),\n",
    "    air_m_dot=Q_(2233.861, 'kg / hr'),\n",
    "    rfg_in=R134a(T=Q_(85.0, 'degC'), P=Q_(13.179, 'bar')),\n",
    "    rfg_m_dot=Q_(99.908, 'kg / hr')\n",
    ")"
   ]
  },
  {
   "cell_type": "code",
   "execution_count": 8,
   "id": "ed73db6b-e287-47f4-96e2-c00a8ccf9564",
   "metadata": {
    "ExecuteTime": {
     "end_time": "2023-09-24T13:21:31.967331200Z",
     "start_time": "2023-09-24T13:21:31.960387Z"
    },
    "tags": []
   },
   "outputs": [
    {
     "name": "stdout",
     "output_type": "stream",
     "text": [
      "air out = 43.9 °C DB, 19 % RH\n",
      "refrigerant out = 42.3 °C\n",
      "degree of subcooling = 7.75 K\n",
      "heat rejection rate = 5.647 kW\n",
      "L2 desuperheating = 26 mm\n",
      "L2 condensing = 53 mm\n",
      "L2 subcooling = 9 mm\n",
      "air-side pressure drop = 31.848 Pa\n"
     ]
    }
   ],
   "source": [
    "print(\n",
    "    f\"air out = {air_out.Tdb.to('degC'):~P.1f} DB, \"\n",
    "    f\"{air_out.RH.to('pct'):~P.0f} RH\\n\"\n",
    "    f\"refrigerant out = {rfg_out.T.to('degC'):~P.1f}\\n\"\n",
    "    f\"degree of subcooling = {condenser.dT_sc.to('K'):~P.2f}\\n\"\n",
    "    f\"heat rejection rate = {condenser.Q_dot.to('kW'):~P.3f}\\n\"\n",
    "    f\"L2 desuperheating = {condenser.desuperheating_region.L_flow.to('mm'):~P.0f}\\n\"\n",
    "    f\"L2 condensing = {condenser.condensing_region.L_flow.to('mm'):~P.0f}\\n\"\n",
    "    f\"L2 subcooling = {condenser.subcooling_region.L_flow.to('mm'):~P.0f}\\n\"\n",
    "    f\"air-side pressure drop = {condenser.air_dP.to('Pa'):~P.3f}\"\n",
    ")"
   ]
  },
  {
   "cell_type": "code",
   "execution_count": null,
   "id": "b46d2ed0-e4f8-4b91-b31d-8d03bf0a5346",
   "metadata": {
    "ExecuteTime": {
     "end_time": "2023-09-18T10:09:28.019999400Z",
     "start_time": "2023-09-18T10:09:28.017458700Z"
    }
   },
   "outputs": [],
   "source": []
  }
 ],
 "metadata": {
  "kernelspec": {
   "display_name": "Python 3 (ipykernel)",
   "language": "python",
   "name": "python3"
  },
  "language_info": {
   "codemirror_mode": {
    "name": "ipython",
    "version": 3
   },
   "file_extension": ".py",
   "mimetype": "text/x-python",
   "name": "python",
   "nbconvert_exporter": "python",
   "pygments_lexer": "ipython3",
   "version": "3.11.0"
  }
 },
 "nbformat": 4,
 "nbformat_minor": 5
}
