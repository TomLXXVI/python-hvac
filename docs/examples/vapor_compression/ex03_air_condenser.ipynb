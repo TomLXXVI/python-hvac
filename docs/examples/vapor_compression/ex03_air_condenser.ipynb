{
 "cells": [
  {
   "cell_type": "markdown",
   "id": "48f30aa2-91c7-460b-882d-c33375a37195",
   "metadata": {
    "tags": []
   },
   "source": [
    "# Rating of a Plain Fin-Tube Counterflow Air Condenser\n",
    "---"
   ]
  },
  {
   "cell_type": "markdown",
   "id": "55833701-314b-4966-9585-c0b576a69a2f",
   "metadata": {},
   "source": [
    "**Importing libraries and notebook preparation**"
   ]
  },
  {
   "cell_type": "code",
   "execution_count": 1,
   "id": "773ab342-8356-46a8-8e48-55c4c1104859",
   "metadata": {
    "ExecuteTime": {
     "end_time": "2023-09-24T13:14:19.945213500Z",
     "start_time": "2023-09-24T13:14:19.922697700Z"
    },
    "tags": []
   },
   "outputs": [],
   "source": [
    "import warnings\n",
    "from hvac import Quantity\n",
    "from hvac.fluids import HumidAir, Fluid, CoolPropWarning\n",
    "\n",
    "warnings.filterwarnings('ignore', category=CoolPropWarning)\n",
    "\n",
    "Q_ = Quantity\n",
    "\n",
    "from hvac.heat_exchanger.recuperator.fintube.continuous_fin import PlainFinTubeCounterFlowAirCondenser as Condenser"
   ]
  },
  {
   "cell_type": "markdown",
   "id": "c4674048-72d2-46aa-8bc7-bc287a2a1810",
   "metadata": {},
   "source": [
    "## Selection of the Refrigerant"
   ]
  },
  {
   "cell_type": "markdown",
   "id": "3a5933f2-9de3-460a-8c3a-a891373730e9",
   "metadata": {},
   "source": [
    "Define the type of refrigerant:"
   ]
  },
  {
   "cell_type": "code",
   "execution_count": 2,
   "id": "9114bbec-6a03-4699-bf52-20ed872c7db7",
   "metadata": {
    "ExecuteTime": {
     "end_time": "2023-09-24T13:14:22.938330Z",
     "start_time": "2023-09-24T13:14:22.934949200Z"
    },
    "tags": []
   },
   "outputs": [],
   "source": [
    "R134a = Fluid('R134a')"
   ]
  },
  {
   "cell_type": "markdown",
   "id": "ede6875b-dd2a-4b4b-ba56-584e315085e1",
   "metadata": {},
   "source": [
    "## Definition of the Condenser"
   ]
  },
  {
   "cell_type": "markdown",
   "id": "d0dcd56b-5fb0-4a3e-9e09-63c9727b2ee5",
   "metadata": {},
   "source": [
    "Define the type of condenser: a plain fin-tube, counterflow heat exchanger."
   ]
  },
  {
   "cell_type": "markdown",
   "id": "76e7f534-3583-4f65-a931-c4e3a147001e",
   "metadata": {},
   "source": [
    "Create an instance of the condenser model, specifying the dimensions of the frontal area, the number of rows, the geometrical characteristics of the heat transfer surfaces, and the thermal conductivity of the fins. The dimensions of the frontal area were determined in our preliminary calculations (see *ex01_prelim.ipynb*)."
   ]
  },
  {
   "cell_type": "code",
   "execution_count": 3,
   "id": "74c36e3d-1b20-424f-b11f-2c71808a6042",
   "metadata": {
    "ExecuteTime": {
     "end_time": "2023-09-24T13:15:11.553841700Z",
     "start_time": "2023-09-24T13:15:11.541602300Z"
    },
    "tags": []
   },
   "outputs": [],
   "source": [
    "condenser = Condenser(\n",
    "    W_fro=Q_(1.003, 'm'),\n",
    "    H_fro=Q_(0.334, 'm'),\n",
    "    N_rows=5,\n",
    "    S_trv=Q_(25.4, 'mm'),         # vertical distance between tubes\n",
    "    S_lon=Q_(22.0, 'mm'),         # horizontal distance between tubes\n",
    "    D_int=Q_(8.422, 'mm'),        # inner tube diameter\n",
    "    D_ext=Q_(10.2, 'mm'),         # outer tube diameter\n",
    "    t_fin=Q_(0.3302, 'mm'),       # fin thickness\n",
    "    N_fin=1 / Q_(3.175, 'mm'),    # fin density\n",
    "    k_fin=Q_(237, 'W / (m * K)')  # conductivity of fin material\n",
    ")"
   ]
  },
  {
   "cell_type": "markdown",
   "id": "79f3ab48-702c-452f-ba6e-7c9e6dcf7c9d",
   "metadata": {},
   "source": [
    "## Rating the Condenser"
   ]
  },
  {
   "cell_type": "markdown",
   "id": "0371502b-dffb-4058-913b-1f7d8c8ba8d7",
   "metadata": {},
   "source": [
    "On this object, we set the known operating conditions:\n",
    "- the mass flow rate of air through the condenser\n",
    "- the mass flow rate of refrigerant, which was determined when rating the evaporator\n",
    "- the state of air that enters the condenser\n",
    "- the state of refrigerant entering the condenser\n",
    "\n",
    "The result of the condenser rating will contain:\n",
    "- the state of refrigerant leaving the condenser\n",
    "- the state of air leaving the condenser\n",
    "- the heat rejection rate (the heat transfer rate from the refrigerant to the air stream)\n",
    "- the degree of subcooling\n",
    "- the flow length of air through the desuperheating, condensing, and subcooling part of the condenser\n",
    "\n",
    "When we rated the evaporator (see notebook *ex02_air_evaporator.ipynb*) to get at the desired leaving air temperature (13 °C), we've noticed that the mass flow rate of refrigerant needed to superheat the refrigerant (10 K) was greater than the mass flow rate we had determined in our preliminary calculations (see notebook *ex01_prelim_calc.ipynb*): 168.745 kg/h instead of 138.854 kg/h. This was because the evaporator extracts more moisture from the air than we had assumed in our preliminary calculations, where we arbitrary assumed that the air leaving the evaporator would be nearly saturated (RH 90 %). To rate the condenser, we need the state of the refrigerant at the condenser's entrance (which we assume to be equal to the state of the refrigerant discharged by the compressor). Using the compressor selection program again, we can repeat the compressor selection procedure with the heat absorption rate that followed from the evaporator rating (keeping the evaporation temperature, the condensing temperature, and the degree of superheating and subcooling the same as before). This leads us now to a variable speed compressor DANFOSS VTZ054-G running at 4343 rpm and the estimated discharge temperature of the refrigerant is about 81.7 °C. We keep the condensing pressure that we determined in our preliminary calculations.  "
   ]
  },
  {
   "cell_type": "markdown",
   "id": "25ab4266-e122-4255-9962-f48342b6e534",
   "metadata": {},
   "source": [
    "We recalculate the heat rejection rate in the condenser:"
   ]
  },
  {
   "cell_type": "code",
   "execution_count": 4,
   "id": "9402b63a-1933-470e-81a3-df26961cc1cb",
   "metadata": {},
   "outputs": [
    {
     "name": "stdout",
     "output_type": "stream",
     "text": [
      "9.174145837586556 kilowatt\n"
     ]
    }
   ],
   "source": [
    "# Refrigerant state at condenser inlet:\n",
    "rfg_in = R134a(T=Q_(81.7, 'degC'), P=Q_(13.179, 'bar'))\n",
    "\n",
    "# Selected condensing temperature:\n",
    "T_cnd = Q_(50, 'degC')\n",
    "\n",
    "rfg_sat = R134a(T=T_cnd, x=Q_(0, 'frac'))\n",
    "P_cnd = rfg_sat.P\n",
    "\n",
    "# Selected degree of subcooling:\n",
    "dT_sc = Q_(5, 'K')\n",
    "\n",
    "# Refrigerant state at condenser outlet:\n",
    "T_rfg_out = rfg_sat.T - dT_sc \n",
    "rfg_out = R134a(T=T_rfg_out, P=P_cnd)\n",
    "\n",
    "# Selected mass flow rate of refrigerant \n",
    "# (which follows from the evaporator rating)\n",
    "rfg_m_dot = Q_(168.745, 'kg / hr')\n",
    "\n",
    "# Heat rejection rate of refrigerant in the condenser:\n",
    "cnd_Q_dot = rfg_m_dot * (rfg_in.h - rfg_out.h)\n",
    "print(cnd_Q_dot.to('kW'))"
   ]
  },
  {
   "cell_type": "markdown",
   "id": "74d1c14d-3326-4766-ab50-7b64ff406acb",
   "metadata": {},
   "source": [
    "And we recalculate the mass flow rate of air through the condenser:"
   ]
  },
  {
   "cell_type": "code",
   "execution_count": 5,
   "id": "7e6cde1b-fe5d-4ebb-ba76-3928bbefda40",
   "metadata": {},
   "outputs": [
    {
     "name": "stdout",
     "output_type": "stream",
     "text": [
      "3216.3149327018023 kilogram / hour\n"
     ]
    }
   ],
   "source": [
    "# Air state at condenser inlet:\n",
    "air_in = HumidAir(Tdb=Q_(35.0, 'degC'), RH=Q_(30, 'pct'))\n",
    "\n",
    "# Selected air temperature rise across condenser\n",
    "# (this choice depends also on the selected condensing temperature):\n",
    "air_dT = Q_(10, 'K')  \n",
    "\n",
    "# Air state at condenser outlet:\n",
    "air_out = HumidAir(Tdb=air_in.Tdb + air_dT, W=air_in.W)\n",
    "\n",
    "# Mass flow rate of air through the condenser:\n",
    "air_m_dot = cnd_Q_dot / (air_out.h - air_in.h)\n",
    "print(air_m_dot.to('kg/hr'))"
   ]
  },
  {
   "cell_type": "markdown",
   "id": "63408497-196a-4fed-9eb4-b6fc88065f21",
   "metadata": {},
   "source": [
    "Now, we can try to rate the condenser. It may be that the rating will fail under the operating conditions we set. In that case, we can try again with a higher number of tube rows, by altering some operating conditions (e.g., by lowering the temperature rise of the air), by choosing a different coil geometry, or by increasing the frontal area."
   ]
  },
  {
   "cell_type": "code",
   "execution_count": 6,
   "id": "cfd76c72-d296-4fe2-8672-2eaf207aa47f",
   "metadata": {
    "ExecuteTime": {
     "end_time": "2023-09-24T13:18:11.156222400Z",
     "start_time": "2023-09-24T13:17:48.649563400Z"
    },
    "tags": []
   },
   "outputs": [],
   "source": [
    "air_out, rfg_out = condenser.solve(\n",
    "    air_in=air_in,\n",
    "    air_m_dot=air_m_dot,\n",
    "    rfg_in=rfg_in,\n",
    "    rfg_m_dot=rfg_m_dot\n",
    ")"
   ]
  },
  {
   "cell_type": "markdown",
   "id": "9de318f5-f569-4524-95cd-a9203fa35931",
   "metadata": {},
   "source": [
    "Under the selected operating conditions and by setting the number of rows to 5, it follows that the condenser rating succeeds:"
   ]
  },
  {
   "cell_type": "code",
   "execution_count": 7,
   "id": "ed73db6b-e287-47f4-96e2-c00a8ccf9564",
   "metadata": {
    "ExecuteTime": {
     "end_time": "2023-09-24T13:21:31.967331200Z",
     "start_time": "2023-09-24T13:21:31.960387Z"
    },
    "tags": []
   },
   "outputs": [
    {
     "name": "stdout",
     "output_type": "stream",
     "text": [
      "air out = 45.0 °C DB, 18 % RH\n",
      "refrigerant out = 44.6 °C\n",
      "degree of subcooling = 5.40 K\n",
      "heat rejection rate = 9.203 kW\n",
      "L2 desuperheating = 29 mm\n",
      "L2 condensing = 73 mm\n",
      "L2 subcooling = 8 mm\n",
      "air-side pressure drop = 53.357 Pa\n"
     ]
    }
   ],
   "source": [
    "print(\n",
    "    f\"air out = {air_out.Tdb.to('degC'):~P.1f} DB, \"\n",
    "    f\"{air_out.RH.to('pct'):~P.0f} RH\\n\"\n",
    "    f\"refrigerant out = {rfg_out.T.to('degC'):~P.1f}\\n\"\n",
    "    f\"degree of subcooling = {condenser.dT_sc.to('K'):~P.2f}\\n\"\n",
    "    f\"heat rejection rate = {condenser.Q_dot.to('kW'):~P.3f}\\n\"\n",
    "    f\"L2 desuperheating = {condenser.desuperheating_region.L_flow.to('mm'):~P.0f}\\n\"\n",
    "    f\"L2 condensing = {condenser.condensing_region.L_flow.to('mm'):~P.0f}\\n\"\n",
    "    f\"L2 subcooling = {condenser.subcooling_region.L_flow.to('mm'):~P.0f}\\n\"\n",
    "    f\"air-side pressure drop = {condenser.air_dP.to('Pa'):~P.3f}\"\n",
    ")"
   ]
  },
  {
   "cell_type": "markdown",
   "id": "d1096658-1bbd-4ce9-9684-beb8255b9103",
   "metadata": {},
   "source": [
    "Note: the air-side pressure drop is also a factor to take into account. A large pressure drop would mean that we would need a large, energy-consuming fan to get the air flow through the condenser. "
   ]
  }
 ],
 "metadata": {
  "kernelspec": {
   "display_name": "Python 3 (ipykernel)",
   "language": "python",
   "name": "python3"
  },
  "language_info": {
   "codemirror_mode": {
    "name": "ipython",
    "version": 3
   },
   "file_extension": ".py",
   "mimetype": "text/x-python",
   "name": "python",
   "nbconvert_exporter": "python",
   "pygments_lexer": "ipython3",
   "version": "3.11.0"
  }
 },
 "nbformat": 4,
 "nbformat_minor": 5
}
