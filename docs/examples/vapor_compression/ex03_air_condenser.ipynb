{
 "cells": [
  {
   "cell_type": "markdown",
   "id": "55833701-314b-4966-9585-c0b576a69a2f",
   "metadata": {},
   "source": [
    "**Notebook preparation and importing libraries**"
   ]
  },
  {
   "cell_type": "code",
   "execution_count": 1,
   "id": "66a7e59f-649a-48dd-a378-76e091ad1df8",
   "metadata": {
    "tags": [],
    "ExecuteTime": {
     "end_time": "2023-08-23T11:05:38.744283500Z",
     "start_time": "2023-08-23T11:05:37.800711100Z"
    }
   },
   "outputs": [],
   "source": [
    "import warnings\n",
    "from hvac import Quantity\n",
    "from hvac.fluids import HumidAir, Fluid, CoolPropWarning"
   ]
  },
  {
   "cell_type": "code",
   "execution_count": 2,
   "id": "c43f7f77-e051-4f57-ba8c-f9d5ce586c82",
   "metadata": {
    "tags": [],
    "ExecuteTime": {
     "end_time": "2023-08-23T11:05:38.749407900Z",
     "start_time": "2023-08-23T11:05:38.746879600Z"
    }
   },
   "outputs": [],
   "source": [
    "warnings.filterwarnings('ignore', category=CoolPropWarning)"
   ]
  },
  {
   "cell_type": "code",
   "execution_count": 3,
   "id": "74ae918d-5d4d-465a-8264-33dc98ebd2bb",
   "metadata": {
    "tags": [],
    "ExecuteTime": {
     "end_time": "2023-08-23T11:05:38.756541200Z",
     "start_time": "2023-08-23T11:05:38.750388800Z"
    }
   },
   "outputs": [],
   "source": [
    "Q_ = Quantity"
   ]
  },
  {
   "cell_type": "code",
   "execution_count": 4,
   "id": "2ace415a-a198-4c88-acfa-7e5d457c5860",
   "metadata": {
    "tags": [],
    "ExecuteTime": {
     "end_time": "2023-08-23T11:05:38.808232400Z",
     "start_time": "2023-08-23T11:05:38.754543600Z"
    }
   },
   "outputs": [],
   "source": [
    "import hvac.heat_transfer.heat_exchanger.fin_tube.air_condenser.rating as rating"
   ]
  },
  {
   "cell_type": "markdown",
   "id": "48f30aa2-91c7-460b-882d-c33375a37195",
   "metadata": {
    "tags": []
   },
   "source": [
    "# Rating of a plain fin-tube counterflow air condenser"
   ]
  },
  {
   "cell_type": "markdown",
   "id": "3a5933f2-9de3-460a-8c3a-a891373730e9",
   "metadata": {},
   "source": [
    "Define the type of refrigerant:"
   ]
  },
  {
   "cell_type": "code",
   "execution_count": 5,
   "id": "9114bbec-6a03-4699-bf52-20ed872c7db7",
   "metadata": {
    "tags": [],
    "ExecuteTime": {
     "end_time": "2023-08-23T11:05:38.812816500Z",
     "start_time": "2023-08-23T11:05:38.811307200Z"
    }
   },
   "outputs": [],
   "source": [
    "R134a = Fluid('R134a')"
   ]
  },
  {
   "cell_type": "markdown",
   "id": "d0dcd56b-5fb0-4a3e-9e09-63c9727b2ee5",
   "metadata": {},
   "source": [
    "Define the type of condenser: a plain fin-tube, counterflow heat exchanger."
   ]
  },
  {
   "cell_type": "code",
   "execution_count": 6,
   "id": "6ab1ca92-d7a5-44bc-8a5e-d1cd069cda64",
   "metadata": {
    "tags": [],
    "ExecuteTime": {
     "end_time": "2023-08-23T11:05:38.825432300Z",
     "start_time": "2023-08-23T11:05:38.813815Z"
    }
   },
   "outputs": [],
   "source": [
    "Condenser = rating.PFT_CO_CND"
   ]
  },
  {
   "cell_type": "markdown",
   "id": "76e7f534-3583-4f65-a931-c4e3a147001e",
   "metadata": {},
   "source": [
    "Create an instance of the condenser model, specifying the dimensions of the frontal area, the number of rows, the geometrical characteristics of the heat transfer surfaces, and the thermal conductivity of the fins (by default aluminium fins are assumed):"
   ]
  },
  {
   "cell_type": "code",
   "execution_count": 7,
   "id": "74c36e3d-1b20-424f-b11f-2c71808a6042",
   "metadata": {
    "tags": [],
    "ExecuteTime": {
     "end_time": "2023-08-23T11:05:38.825432300Z",
     "start_time": "2023-08-23T11:05:38.819180300Z"
    }
   },
   "outputs": [],
   "source": [
    "condenser = Condenser(\n",
    "    L1=Q_(0.909, 'm'),\n",
    "    L3=Q_(0.303, 'm'),\n",
    "    N_r=4,\n",
    "    S_t=Q_(25.4, 'mm'),         # vertical distance between tubes\n",
    "    S_l=Q_(22.0, 'mm'),         # horizontal distance between tubes\n",
    "    D_i=Q_(8.422, 'mm'),        # inner tube diameter\n",
    "    D_o=Q_(10.2, 'mm'),         # outer tube diameter\n",
    "    t_f=Q_(0.3302, 'mm'),       # fin thickness\n",
    "    N_f=1 / Q_(3.175, 'mm'),    # fin density\n",
    "    k_f=Q_(237, 'W / (m * K)')  # conductivity of fin material\n",
    ")"
   ]
  },
  {
   "cell_type": "markdown",
   "id": "0371502b-dffb-4058-913b-1f7d8c8ba8d7",
   "metadata": {},
   "source": [
    "On this instance, we set the known operating conditions:\n",
    "- the mass flow rate of air through the condenser\n",
    "- the mass flow rate of refrigerant, which was determined when rating the evaporator\n",
    "- the state of air entering the condenser\n",
    "- the state of refrigerant entering the condenser\n",
    "\n",
    "The result of rating the condenser will contain:\n",
    "- the state of refrigerant leaving the condenser\n",
    "- the state of air leaving the condenser\n",
    "- the heat rejection rate (the heat transfer rate from the refrigerant to the air stream)\n",
    "- the degree of subcooling\n",
    "- the flow length of air through the desuperheating, condensing, and subcooling part of the condenser\n",
    "\n",
    "The rating routine (of the subcooling part) is an iterative routine. The criterion to stop the iterative routine is the tolerable deviation between the last and the previous calculated heat exchanger effectiveness, which can be set through parameter `tol_eps`. Should the tolerable deviation not be reached after a maximum number of iterations, which can be set with parameter `i_max`, a `ValueError` exception will be raised and no result is returned."
   ]
  },
  {
   "cell_type": "code",
   "execution_count": 8,
   "id": "cfd76c72-d296-4fe2-8672-2eaf207aa47f",
   "metadata": {
    "tags": [],
    "ExecuteTime": {
     "end_time": "2023-08-23T11:05:43.085126600Z",
     "start_time": "2023-08-23T11:05:38.826430900Z"
    }
   },
   "outputs": [],
   "source": [
    "r = condenser(\n",
    "    m_dot_air=Q_(2233.861, 'kg / hr'),\n",
    "    m_dot_rfg=Q_(99.908, 'kg / hr'),\n",
    "    air_in=HumidAir(Tdb=Q_(35.0, 'degC'), RH=Q_(30, 'pct')),\n",
    "    rfg_in=R134a(T=Q_(85.0, 'degC'), P=Q_(13.179, 'bar'))\n",
    ")"
   ]
  },
  {
   "cell_type": "code",
   "execution_count": 9,
   "id": "ed73db6b-e287-47f4-96e2-c00a8ccf9564",
   "metadata": {
    "tags": [],
    "ExecuteTime": {
     "end_time": "2023-08-23T11:05:43.100540400Z",
     "start_time": "2023-08-23T11:05:43.086108700Z"
    }
   },
   "outputs": [
    {
     "name": "stdout",
     "output_type": "stream",
     "text": [
      "air out = 43.9 °C DB, 19 % RH\n",
      "refrigerant out = 42.6 °C\n",
      "degree of subcooling = 7.38 K\n",
      "heat rejection rate = 5.632 kW\n",
      "L2 desuperheating = 44 mm\n",
      "L2 condensing = 36 mm\n",
      "L2 subcooling = 8 mm\n",
      "air-side pressure drop = 32.178 Pa\n"
     ]
    }
   ],
   "source": [
    "print(\n",
    "    f\"air out = {r.air_out.Tdb.to('degC'):~P.1f} DB, \"\n",
    "    f\"{r.air_out.RH.to('pct'):~P.0f} RH\\n\"\n",
    "    f\"refrigerant out = {r.rfg_out.T.to('degC'):~P.1f}\\n\"\n",
    "    f\"degree of subcooling = {r.dT_sc.to('K'):~P.2f}\\n\"\n",
    "    f\"heat rejection rate = {r.Q_dot.to('kW'):~P.3f}\\n\"\n",
    "    f\"L2 desuperheating = {r.L2_desuperheating.to('mm'):~P.0f}\\n\"\n",
    "    f\"L2 condensing = {r.L2_condensing.to('mm'):~P.0f}\\n\"\n",
    "    f\"L2 subcooling = {r.L2_subcooling.to('mm'):~P.0f}\\n\"\n",
    "    f\"air-side pressure drop = {r.dP_air.to('Pa'):~P.3f}\"\n",
    ")"
   ]
  },
  {
   "cell_type": "code",
   "execution_count": 9,
   "id": "b46d2ed0-e4f8-4b91-b31d-8d03bf0a5346",
   "metadata": {
    "ExecuteTime": {
     "end_time": "2023-08-23T11:05:43.101542Z",
     "start_time": "2023-08-23T11:05:43.098718200Z"
    }
   },
   "outputs": [],
   "source": []
  }
 ],
 "metadata": {
  "kernelspec": {
   "display_name": "Python 3 (ipykernel)",
   "language": "python",
   "name": "python3"
  },
  "language_info": {
   "codemirror_mode": {
    "name": "ipython",
    "version": 3
   },
   "file_extension": ".py",
   "mimetype": "text/x-python",
   "name": "python",
   "nbconvert_exporter": "python",
   "pygments_lexer": "ipython3",
   "version": "3.11.0"
  }
 },
 "nbformat": 4,
 "nbformat_minor": 5
}
