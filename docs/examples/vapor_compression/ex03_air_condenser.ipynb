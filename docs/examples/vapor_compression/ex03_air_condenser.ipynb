{
 "cells": [
  {
   "cell_type": "markdown",
   "id": "48f30aa2-91c7-460b-882d-c33375a37195",
   "metadata": {
    "tags": []
   },
   "source": [
    "# Rating of a Plain Fin-Tube Counterflow Air Condenser\n",
    "---"
   ]
  },
  {
   "cell_type": "markdown",
   "id": "55833701-314b-4966-9585-c0b576a69a2f",
   "metadata": {},
   "source": [
    "**Importing libraries and notebook preparation**"
   ]
  },
  {
   "cell_type": "code",
   "id": "773ab342-8356-46a8-8e48-55c4c1104859",
   "metadata": {
    "tags": [],
    "ExecuteTime": {
     "end_time": "2025-01-19T09:18:59.939471Z",
     "start_time": "2025-01-19T09:18:59.111085Z"
    }
   },
   "source": [
    "import warnings\n",
    "from hvac import Quantity\n",
    "from hvac.fluids import HumidAir, Fluid, CoolPropWarning\n",
    "from hvac.heat_exchanger.recuperator.fintube import PFT_CF_AC\n",
    "\n",
    "warnings.filterwarnings('ignore', category=CoolPropWarning)\n",
    "Q_ = Quantity"
   ],
   "outputs": [],
   "execution_count": 1
  },
  {
   "cell_type": "markdown",
   "id": "c4674048-72d2-46aa-8bc7-bc287a2a1810",
   "metadata": {},
   "source": "## Refrigerant"
  },
  {
   "cell_type": "code",
   "id": "9114bbec-6a03-4699-bf52-20ed872c7db7",
   "metadata": {
    "tags": [],
    "ExecuteTime": {
     "end_time": "2025-01-19T09:18:59.951477Z",
     "start_time": "2025-01-19T09:18:59.944478Z"
    }
   },
   "source": [
    "R134a = Fluid('R134a')"
   ],
   "outputs": [],
   "execution_count": 2
  },
  {
   "cell_type": "markdown",
   "id": "ede6875b-dd2a-4b4b-ba56-584e315085e1",
   "metadata": {},
   "source": "## Condenser Model"
  },
  {
   "cell_type": "markdown",
   "id": "d0dcd56b-5fb0-4a3e-9e09-63c9727b2ee5",
   "metadata": {},
   "source": "Type of condenser: plain fin-tube, counter-flow, air condenser."
  },
  {
   "metadata": {
    "ExecuteTime": {
     "end_time": "2025-01-19T09:19:00.176786Z",
     "start_time": "2025-01-19T09:19:00.173890Z"
    }
   },
   "cell_type": "code",
   "source": "Condenser = PFT_CF_AC",
   "id": "b663fbc8e05a767d",
   "outputs": [],
   "execution_count": 3
  },
  {
   "cell_type": "markdown",
   "id": "76e7f534-3583-4f65-a931-c4e3a147001e",
   "metadata": {},
   "source": "To create an instance of the condenser model, we need to specify the width and height of the condenser's frontal area, the number of rows, the geometrical properties of the heat exchanger core, and the thermal conductivity of the fins. The dimensions of the frontal area have been determined in our preliminary calculations (see *ex01_prelim.ipynb*)."
  },
  {
   "cell_type": "code",
   "id": "74c36e3d-1b20-424f-b11f-2c71808a6042",
   "metadata": {
    "tags": [],
    "ExecuteTime": {
     "end_time": "2025-01-19T09:19:00.189354Z",
     "start_time": "2025-01-19T09:19:00.183993Z"
    }
   },
   "source": [
    "condenser = Condenser(\n",
    "    W_fro=Q_(1.003, 'm'),\n",
    "    H_fro=Q_(0.334, 'm'),\n",
    "    N_rows=5,  # <-- can be modified until a solution is found\n",
    "    S_trv=Q_(25.4, 'mm'),\n",
    "    S_lon=Q_(22.0, 'mm'),\n",
    "    D_int=Q_(8.422, 'mm'),\n",
    "    D_ext=Q_(10.2, 'mm'),\n",
    "    t_fin=Q_(0.3302, 'mm'),\n",
    "    N_fin=1 / Q_(3.175, 'mm'),\n",
    "    k_fin=Q_(237, 'W / (m * K)')\n",
    ")"
   ],
   "outputs": [],
   "execution_count": 4
  },
  {
   "cell_type": "markdown",
   "id": "79f3ab48-702c-452f-ba6e-7c9e6dcf7c9d",
   "metadata": {},
   "source": "## Condenser Rating"
  },
  {
   "cell_type": "markdown",
   "id": "0371502b-dffb-4058-913b-1f7d8c8ba8d7",
   "metadata": {},
   "source": [
    "On the condenser model, we set the known operating conditions:\n",
    "- the air mass flow rate through the condenser\n",
    "- the refrigerant mass flow rate\n",
    "- the state of air entering the condenser\n",
    "- the state of refrigerant entering the condenser\n",
    "\n",
    "The result of the condenser rating will give us:\n",
    "- the state of refrigerant leaving the condenser\n",
    "- the state of air leaving the condenser\n",
    "- the heat rejection rate from the refrigerant to the air in the condenser\n",
    "- the degree of refrigerant subcooling\n",
    "- the air-side pressure drop across the condenser\n",
    "\n",
    "When we rated the evaporator (see notebook *ex02_air_evaporator.ipynb*) to get at the desired temperature (13 °C) of air leaving the evaporator, we've noticed that the mass flow rate of refrigerant needed to superheat the refrigerant (10 K) was more than the mass flow rate we had determined in our preliminary calculations (see notebook *ex01_prelim_calc.ipynb*): 142.631 kg/h instead of 136.023 kg/h. This was because the evaporator extracts some more moisture from the air than we had assumed in our preliminary calculations, where we arbitrarily assumed that air leaving the evaporator would be nearly saturated (RH 90 %).\n",
    "\n",
    "To rate the condenser, we need the refrigerant state at the entrance of the condenser (which we assume equal to the state of refrigerant discharged by the compressor). Using the compressor selection program again, we can repeat the compressor selection routine with the heat absorption rate that followed from the evaporator rating (keeping the evaporation temperature, the condensing temperature, and the degree of superheating and subcooling the same as before). This leads us still to a variable speed compressor DANFOSS VTZ038-G running at 4407 rpm and the estimated discharge temperature of the refrigerant is about 80.1 °C. We keep the condensing pressure we determined in the preliminary calculations."
   ]
  },
  {
   "cell_type": "markdown",
   "id": "25ab4266-e122-4255-9962-f48342b6e534",
   "metadata": {},
   "source": [
    "We recalculate the heat rejection rate in the condenser:"
   ]
  },
  {
   "cell_type": "code",
   "id": "9402b63a-1933-470e-81a3-df26961cc1cb",
   "metadata": {
    "ExecuteTime": {
     "end_time": "2025-01-19T09:19:00.205732Z",
     "start_time": "2025-01-19T09:19:00.196853Z"
    }
   },
   "source": [
    "# Refrigerant state at condenser inlet:\n",
    "rfg_in = R134a(T=Q_(80.1, 'degC'), P=Q_(13.179, 'bar'))\n",
    "# Selected condensing temperature:\n",
    "T_cnd = Q_(50, 'degC')\n",
    "rfg_sat = R134a(T=T_cnd, x=Q_(0, 'frac'))\n",
    "P_cnd = rfg_sat.P\n",
    "# Selected degree of subcooling:\n",
    "dT_sc = Q_(5, 'K')\n",
    "# Refrigerant state at condenser outlet:\n",
    "T_rfg_out = rfg_sat.T - dT_sc \n",
    "rfg_out = R134a(T=T_rfg_out, P=P_cnd)\n",
    "# Selected mass flow rate of refrigerant\n",
    "# (which follows from the evaporator rating)\n",
    "rfg_m_dot = Q_(142.631, 'kg / hr')\n",
    "# Heat rejection rate of refrigerant in the condenser:\n",
    "cnd_Q_dot = rfg_m_dot * (rfg_in.h - rfg_out.h)\n",
    "print(cnd_Q_dot.to('kW'))"
   ],
   "outputs": [
    {
     "name": "stdout",
     "output_type": "stream",
     "text": [
      "7.68514307400804 kilowatt\n"
     ]
    }
   ],
   "execution_count": 5
  },
  {
   "cell_type": "markdown",
   "id": "74d1c14d-3326-4766-ab50-7b64ff406acb",
   "metadata": {},
   "source": "And we also recalculate the mass flow rate of air through the condenser:"
  },
  {
   "cell_type": "code",
   "id": "7e6cde1b-fe5d-4ebb-ba76-3928bbefda40",
   "metadata": {
    "ExecuteTime": {
     "end_time": "2025-01-19T09:19:00.230005Z",
     "start_time": "2025-01-19T09:19:00.223009Z"
    }
   },
   "source": [
    "# Air state at condenser inlet:\n",
    "air_in = HumidAir(Tdb=Q_(35.0, 'degC'), RH=Q_(30, 'pct'))\n",
    "# Selected air temperature rise across the condenser\n",
    "# (this choice depends also on the selected condensing temperature):\n",
    "air_dT = Q_(10, 'K')  \n",
    "# Air state at the condenser outlet:\n",
    "air_out = HumidAir(Tdb=air_in.Tdb + air_dT, W=air_in.W)\n",
    "# Mass flow rate of air through the condenser:\n",
    "air_m_dot = cnd_Q_dot / (air_out.h - air_in.h)\n",
    "print(air_m_dot.to('kg/hr'))"
   ],
   "outputs": [
    {
     "name": "stdout",
     "output_type": "stream",
     "text": [
      "2694.2933834355113 kilogram / hour\n"
     ]
    }
   ],
   "execution_count": 6
  },
  {
   "cell_type": "markdown",
   "id": "63408497-196a-4fed-9eb4-b6fc88065f21",
   "metadata": {},
   "source": "Now, we can try to rate the condenser. It may happen that the rating routine will raise an error with the operating conditions we've set. In that case, we can try again with a bigger number of tube rows, by altering the operating conditions (e.g., by lowering the allowable temperature rise of the air), by altering the heat exchanger core geometry, or increasing the air-side frontal area surface."
  },
  {
   "cell_type": "code",
   "id": "cfd76c72-d296-4fe2-8672-2eaf207aa47f",
   "metadata": {
    "tags": [],
    "ExecuteTime": {
     "end_time": "2025-01-19T09:19:08.727781Z",
     "start_time": "2025-01-19T09:19:00.269801Z"
    }
   },
   "source": [
    "air_out, rfg_out = condenser.solve(\n",
    "    air_in=air_in,\n",
    "    air_m_dot=air_m_dot,\n",
    "    rfg_in=rfg_in,\n",
    "    rfg_m_dot=rfg_m_dot\n",
    ")"
   ],
   "outputs": [
    {
     "name": "stderr",
     "output_type": "stream",
     "text": [
      "[17356 | hvac.heat_exchanger.recuperator.fintube.continuous_fin.air_condenser | DEBUG] Iteration 1\n",
      "[17356 | hvac.heat_exchanger.recuperator.fintube.continuous_fin.air_condenser | DEBUG] Try with subcooling flow length 0.100 mm.\n",
      "[17356 | hvac.heat_exchanger.recuperator.fintube.continuous_fin.air_condenser | DEBUG] 1. Subcooling region. Temperature of leaving refrigerant = 49.792 °C (deviation = 7.292 K).\n",
      "[17356 | hvac.heat_exchanger.recuperator.fintube.continuous_fin.air_condenser | DEBUG] 2. Subcooling region. Temperature of leaving refrigerant = 49.789 °C (deviation = -0.003 K).\n",
      "[17356 | hvac.heat_exchanger.recuperator.fintube.continuous_fin.air_condenser | DEBUG] Subcooling region. Leaving air temperature = 35.017 °C.\n",
      "[17356 | hvac.heat_exchanger.recuperator.fintube.continuous_fin.air_condenser | DEBUG] 1. Condensing region. Flow length = 1.000 mm -> heat transfer rate = 138.175 W (deviation = -5876.654 W).\n",
      "[17356 | hvac.heat_exchanger.recuperator.fintube.continuous_fin.air_condenser | DEBUG] 2. Condensing region. Flow length = 110.000 mm -> heat transfer rate = 8047.514 W (deviation = 2032.684 W).\n",
      "[17356 | hvac.heat_exchanger.recuperator.fintube.continuous_fin.air_condenser | DEBUG] 3. Condensing region. Flow length = 81.987 mm -> heat transfer rate = 6973.878 W (deviation = 959.048 W).\n",
      "[17356 | hvac.heat_exchanger.recuperator.fintube.continuous_fin.air_condenser | DEBUG] 4. Condensing region. Flow length = 60.475 mm -> heat transfer rate = 5840.819 W (deviation = -174.010 W).\n",
      "[17356 | hvac.heat_exchanger.recuperator.fintube.continuous_fin.air_condenser | DEBUG] 5. Condensing region. Flow length = 63.779 mm -> heat transfer rate = 6036.419 W (deviation = 21.590 W).\n",
      "[17356 | hvac.heat_exchanger.recuperator.fintube.continuous_fin.air_condenser | DEBUG] 6. Condensing region. Flow length = 63.414 mm -> heat transfer rate = 6015.250 W (deviation = 0.420 W).\n",
      "[17356 | hvac.heat_exchanger.recuperator.fintube.continuous_fin.air_condenser | DEBUG] 7. Condensing region. Flow length = 63.096 mm -> heat transfer rate = 5996.730 W (deviation = -18.100 W).\n",
      "[17356 | hvac.heat_exchanger.recuperator.fintube.continuous_fin.air_condenser | DEBUG] Condenser region. Required flow length = 63.414 mm.\n",
      "[17356 | hvac.heat_exchanger.recuperator.fintube.continuous_fin.air_condenser | DEBUG] 1. Desuperheating region. Flow length = 1.000 mm -> heat transfer rate = 130.017 W (deviation = -1234.187 W).\n",
      "[17356 | hvac.heat_exchanger.recuperator.fintube.continuous_fin.air_condenser | DEBUG] 2. Desuperheating region. Flow length = 110.000 mm -> heat transfer rate = 1688.390 W (deviation = 324.187 W).\n",
      "[17356 | hvac.heat_exchanger.recuperator.fintube.continuous_fin.air_condenser | DEBUG] 3. Desuperheating region. Flow length = 87.325 mm -> heat transfer rate = 1674.137 W (deviation = 309.933 W).\n",
      "[17356 | hvac.heat_exchanger.recuperator.fintube.continuous_fin.air_condenser | DEBUG] 4. Desuperheating region. Flow length = 44.162 mm -> heat transfer rate = 1522.643 W (deviation = 158.439 W).\n",
      "[17356 | hvac.heat_exchanger.recuperator.fintube.continuous_fin.air_condenser | DEBUG] 5. Desuperheating region. Flow length = 22.581 mm -> heat transfer rate = 1150.677 W (deviation = -213.527 W).\n",
      "[17356 | hvac.heat_exchanger.recuperator.fintube.continuous_fin.air_condenser | DEBUG] 6. Desuperheating region. Flow length = 34.970 mm -> heat transfer rate = 1394.095 W (deviation = 29.891 W).\n",
      "[17356 | hvac.heat_exchanger.recuperator.fintube.continuous_fin.air_condenser | DEBUG] 7. Desuperheating region. Flow length = 33.095 mm -> heat transfer rate = 1365.937 W (deviation = 1.733 W).\n",
      "[17356 | hvac.heat_exchanger.recuperator.fintube.continuous_fin.air_condenser | DEBUG] 8. Desuperheating region. Flow length = 32.929 mm -> heat transfer rate = 1363.320 W (deviation = -0.884 W).\n",
      "[17356 | hvac.heat_exchanger.recuperator.fintube.continuous_fin.air_condenser | DEBUG] Superheating region. Required flow length = 32.929 mm.\n",
      "[17356 | hvac.heat_exchanger.recuperator.fintube.continuous_fin.air_condenser | DEBUG] Condenser. Total flow length = 96.443 mm (deviation = -13.557 mm).\n",
      "[17356 | hvac.heat_exchanger.recuperator.fintube.continuous_fin.air_condenser | DEBUG] Iteration 2\n",
      "[17356 | hvac.heat_exchanger.recuperator.fintube.continuous_fin.air_condenser | DEBUG] Try with subcooling flow length 110.000 mm.\n",
      "[17356 | hvac.heat_exchanger.recuperator.fintube.continuous_fin.air_condenser | DEBUG] 1. Subcooling region. Temperature of leaving refrigerant = 35.313 °C (deviation = -7.187 K).\n",
      "[17356 | hvac.heat_exchanger.recuperator.fintube.continuous_fin.air_condenser | DEBUG] 2. Subcooling region. Temperature of leaving refrigerant = 35.802 °C (deviation = 0.490 K).\n",
      "[17356 | hvac.heat_exchanger.recuperator.fintube.continuous_fin.air_condenser | DEBUG] 3. Subcooling region. Temperature of leaving refrigerant = 35.735 °C (deviation = -0.067 K).\n",
      "[17356 | hvac.heat_exchanger.recuperator.fintube.continuous_fin.air_condenser | DEBUG] Subcooling region. Leaving air temperature = 36.120 °C.\n",
      "[17356 | hvac.heat_exchanger.recuperator.fintube.continuous_fin.air_condenser | DEBUG] 1. Condensing region. Flow length = 1.000 mm -> heat transfer rate = 128.776 W (deviation = -5886.054 W).\n",
      "[17356 | hvac.heat_exchanger.recuperator.fintube.continuous_fin.air_condenser | DEBUG] 2. Condensing region. Flow length = 110.000 mm -> heat transfer rate = 7490.538 W (deviation = 1475.708 W).\n",
      "[17356 | hvac.heat_exchanger.recuperator.fintube.continuous_fin.air_condenser | DEBUG] 3. Condensing region. Flow length = 88.150 mm -> heat transfer rate = 6748.138 W (deviation = 733.308 W).\n",
      "[17356 | hvac.heat_exchanger.recuperator.fintube.continuous_fin.air_condenser | DEBUG] 4. Condensing region. Flow length = 68.959 mm -> heat transfer rate = 5898.353 W (deviation = -116.477 W).\n",
      "[17356 | hvac.heat_exchanger.recuperator.fintube.continuous_fin.air_condenser | DEBUG] 5. Condensing region. Flow length = 71.590 mm -> heat transfer rate = 6027.931 W (deviation = 13.101 W).\n",
      "[17356 | hvac.heat_exchanger.recuperator.fintube.continuous_fin.air_condenser | DEBUG] 6. Condensing region. Flow length = 71.231 mm -> heat transfer rate = 6010.539 W (deviation = -4.290 W).\n",
      "[17356 | hvac.heat_exchanger.recuperator.fintube.continuous_fin.air_condenser | DEBUG] Condenser region. Required flow length = 71.231 mm.\n",
      "[17356 | hvac.heat_exchanger.recuperator.fintube.continuous_fin.air_condenser | DEBUG] 1. Desuperheating region. Flow length = 1.000 mm -> heat transfer rate = 126.284 W (deviation = -1237.920 W).\n",
      "[17356 | hvac.heat_exchanger.recuperator.fintube.continuous_fin.air_condenser | DEBUG] 2. Desuperheating region. Flow length = 110.000 mm -> heat transfer rate = 1640.525 W (deviation = 276.321 W).\n",
      "[17356 | hvac.heat_exchanger.recuperator.fintube.continuous_fin.air_condenser | DEBUG] 3. Desuperheating region. Flow length = 90.110 mm -> heat transfer rate = 1629.249 W (deviation = 265.045 W).\n",
      "[17356 | hvac.heat_exchanger.recuperator.fintube.continuous_fin.air_condenser | DEBUG] 4. Desuperheating region. Flow length = 45.555 mm -> heat transfer rate = 1490.344 W (deviation = 126.140 W).\n",
      "[17356 | hvac.heat_exchanger.recuperator.fintube.continuous_fin.air_condenser | DEBUG] 5. Desuperheating region. Flow length = 23.277 mm -> heat transfer rate = 1135.142 W (deviation = -229.062 W).\n",
      "[17356 | hvac.heat_exchanger.recuperator.fintube.continuous_fin.air_condenser | DEBUG] 6. Desuperheating region. Flow length = 37.644 mm -> heat transfer rate = 1389.315 W (deviation = 25.112 W).\n",
      "[17356 | hvac.heat_exchanger.recuperator.fintube.continuous_fin.air_condenser | DEBUG] 7. Desuperheating region. Flow length = 35.871 mm -> heat transfer rate = 1366.621 W (deviation = 2.418 W).\n",
      "[17356 | hvac.heat_exchanger.recuperator.fintube.continuous_fin.air_condenser | DEBUG] 8. Desuperheating region. Flow length = 35.688 mm -> heat transfer rate = 1364.164 W (deviation = -0.039 W).\n",
      "[17356 | hvac.heat_exchanger.recuperator.fintube.continuous_fin.air_condenser | DEBUG] Superheating region. Required flow length = 35.688 mm.\n",
      "[17356 | hvac.heat_exchanger.recuperator.fintube.continuous_fin.air_condenser | DEBUG] Condenser. Total flow length = 216.919 mm (deviation = 106.919 mm).\n",
      "[17356 | hvac.heat_exchanger.recuperator.fintube.continuous_fin.air_condenser | DEBUG] Iteration 3\n",
      "[17356 | hvac.heat_exchanger.recuperator.fintube.continuous_fin.air_condenser | DEBUG] Try with subcooling flow length 12.467 mm.\n",
      "[17356 | hvac.heat_exchanger.recuperator.fintube.continuous_fin.air_condenser | DEBUG] 1. Subcooling region. Temperature of leaving refrigerant = 44.997 °C (deviation = 2.497 K).\n",
      "[17356 | hvac.heat_exchanger.recuperator.fintube.continuous_fin.air_condenser | DEBUG] 2. Subcooling region. Temperature of leaving refrigerant = 44.943 °C (deviation = -0.054 K).\n",
      "[17356 | hvac.heat_exchanger.recuperator.fintube.continuous_fin.air_condenser | DEBUG] Subcooling region. Leaving air temperature = 35.406 °C.\n",
      "[17356 | hvac.heat_exchanger.recuperator.fintube.continuous_fin.air_condenser | DEBUG] 1. Condensing region. Flow length = 1.000 mm -> heat transfer rate = 134.871 W (deviation = -5879.959 W).\n",
      "[17356 | hvac.heat_exchanger.recuperator.fintube.continuous_fin.air_condenser | DEBUG] 2. Condensing region. Flow length = 110.000 mm -> heat transfer rate = 7851.574 W (deviation = 1836.744 W).\n",
      "[17356 | hvac.heat_exchanger.recuperator.fintube.continuous_fin.air_condenser | DEBUG] 3. Condensing region. Flow length = 84.056 mm -> heat transfer rate = 6897.187 W (deviation = 882.357 W).\n",
      "[17356 | hvac.heat_exchanger.recuperator.fintube.continuous_fin.air_condenser | DEBUG] 4. Condensing region. Flow length = 63.199 mm -> heat transfer rate = 5860.466 W (deviation = -154.363 W).\n",
      "[17356 | hvac.heat_exchanger.recuperator.fintube.continuous_fin.air_condenser | DEBUG] 5. Condensing region. Flow length = 66.305 mm -> heat transfer rate = 6033.488 W (deviation = 18.659 W).\n",
      "[17356 | hvac.heat_exchanger.recuperator.fintube.continuous_fin.air_condenser | DEBUG] 6. Condensing region. Flow length = 65.970 mm -> heat transfer rate = 6015.172 W (deviation = 0.342 W).\n",
      "[17356 | hvac.heat_exchanger.recuperator.fintube.continuous_fin.air_condenser | DEBUG] 7. Condensing region. Flow length = 65.639 mm -> heat transfer rate = 5997.024 W (deviation = -17.806 W).\n",
      "[17356 | hvac.heat_exchanger.recuperator.fintube.continuous_fin.air_condenser | DEBUG] Condenser region. Required flow length = 65.970 mm.\n",
      "[17356 | hvac.heat_exchanger.recuperator.fintube.continuous_fin.air_condenser | DEBUG] 1. Desuperheating region. Flow length = 1.000 mm -> heat transfer rate = 128.702 W (deviation = -1235.502 W).\n",
      "[17356 | hvac.heat_exchanger.recuperator.fintube.continuous_fin.air_condenser | DEBUG] 2. Desuperheating region. Flow length = 110.000 mm -> heat transfer rate = 1671.501 W (deviation = 307.297 W).\n",
      "[17356 | hvac.heat_exchanger.recuperator.fintube.continuous_fin.air_condenser | DEBUG] 3. Desuperheating region. Flow length = 88.289 mm -> heat transfer rate = 1658.338 W (deviation = 294.134 W).\n",
      "[17356 | hvac.heat_exchanger.recuperator.fintube.continuous_fin.air_condenser | DEBUG] 4. Desuperheating region. Flow length = 44.645 mm -> heat transfer rate = 1511.339 W (deviation = 147.135 W).\n",
      "[17356 | hvac.heat_exchanger.recuperator.fintube.continuous_fin.air_condenser | DEBUG] 5. Desuperheating region. Flow length = 22.822 mm -> heat transfer rate = 1145.273 W (deviation = -218.931 W).\n",
      "[17356 | hvac.heat_exchanger.recuperator.fintube.continuous_fin.air_condenser | DEBUG] 6. Desuperheating region. Flow length = 35.873 mm -> heat transfer rate = 1392.630 W (deviation = 28.426 W).\n",
      "[17356 | hvac.heat_exchanger.recuperator.fintube.continuous_fin.air_condenser | DEBUG] 7. Desuperheating region. Flow length = 34.014 mm -> heat transfer rate = 1366.175 W (deviation = 1.971 W).\n",
      "[17356 | hvac.heat_exchanger.recuperator.fintube.continuous_fin.air_condenser | DEBUG] 8. Desuperheating region. Flow length = 33.844 mm -> heat transfer rate = 1363.627 W (deviation = -0.577 W).\n",
      "[17356 | hvac.heat_exchanger.recuperator.fintube.continuous_fin.air_condenser | DEBUG] Superheating region. Required flow length = 33.844 mm.\n",
      "[17356 | hvac.heat_exchanger.recuperator.fintube.continuous_fin.air_condenser | DEBUG] Condenser. Total flow length = 112.280 mm (deviation = 2.280 mm).\n",
      "[17356 | hvac.heat_exchanger.recuperator.fintube.continuous_fin.air_condenser | DEBUG] Iteration 4\n",
      "[17356 | hvac.heat_exchanger.recuperator.fintube.continuous_fin.air_condenser | DEBUG] Try with subcooling flow length 10.686 mm.\n",
      "[17356 | hvac.heat_exchanger.recuperator.fintube.continuous_fin.air_condenser | DEBUG] 1. Subcooling region. Temperature of leaving refrigerant = 45.560 °C (deviation = 3.060 K).\n",
      "[17356 | hvac.heat_exchanger.recuperator.fintube.continuous_fin.air_condenser | DEBUG] 2. Subcooling region. Temperature of leaving refrigerant = 45.501 °C (deviation = -0.059 K).\n",
      "[17356 | hvac.heat_exchanger.recuperator.fintube.continuous_fin.air_condenser | DEBUG] Subcooling region. Leaving air temperature = 35.361 °C.\n",
      "[17356 | hvac.heat_exchanger.recuperator.fintube.continuous_fin.air_condenser | DEBUG] 1. Condensing region. Flow length = 1.000 mm -> heat transfer rate = 135.248 W (deviation = -5879.582 W).\n",
      "[17356 | hvac.heat_exchanger.recuperator.fintube.continuous_fin.air_condenser | DEBUG] 2. Condensing region. Flow length = 110.000 mm -> heat transfer rate = 7873.904 W (deviation = 1859.074 W).\n",
      "[17356 | hvac.heat_exchanger.recuperator.fintube.continuous_fin.air_condenser | DEBUG] 3. Condensing region. Flow length = 83.815 mm -> heat transfer rate = 6906.071 W (deviation = 891.241 W).\n",
      "[17356 | hvac.heat_exchanger.recuperator.fintube.continuous_fin.air_condenser | DEBUG] 4. Condensing region. Flow length = 62.876 mm -> heat transfer rate = 5858.188 W (deviation = -156.642 W).\n",
      "[17356 | hvac.heat_exchanger.recuperator.fintube.continuous_fin.air_condenser | DEBUG] 5. Condensing region. Flow length = 66.006 mm -> heat transfer rate = 6033.827 W (deviation = 18.998 W).\n",
      "[17356 | hvac.heat_exchanger.recuperator.fintube.continuous_fin.air_condenser | DEBUG] 6. Condensing region. Flow length = 65.667 mm -> heat transfer rate = 6015.181 W (deviation = 0.351 W).\n",
      "[17356 | hvac.heat_exchanger.recuperator.fintube.continuous_fin.air_condenser | DEBUG] 7. Condensing region. Flow length = 65.338 mm -> heat transfer rate = 5996.989 W (deviation = -17.841 W).\n",
      "[17356 | hvac.heat_exchanger.recuperator.fintube.continuous_fin.air_condenser | DEBUG] Condenser region. Required flow length = 65.667 mm.\n",
      "[17356 | hvac.heat_exchanger.recuperator.fintube.continuous_fin.air_condenser | DEBUG] 1. Desuperheating region. Flow length = 1.000 mm -> heat transfer rate = 128.852 W (deviation = -1235.352 W).\n",
      "[17356 | hvac.heat_exchanger.recuperator.fintube.continuous_fin.air_condenser | DEBUG] 2. Desuperheating region. Flow length = 110.000 mm -> heat transfer rate = 1673.423 W (deviation = 309.219 W).\n",
      "[17356 | hvac.heat_exchanger.recuperator.fintube.continuous_fin.air_condenser | DEBUG] 3. Desuperheating region. Flow length = 88.178 mm -> heat transfer rate = 1660.138 W (deviation = 295.934 W).\n",
      "[17356 | hvac.heat_exchanger.recuperator.fintube.continuous_fin.air_condenser | DEBUG] 4. Desuperheating region. Flow length = 44.589 mm -> heat transfer rate = 1512.631 W (deviation = 148.427 W).\n",
      "[17356 | hvac.heat_exchanger.recuperator.fintube.continuous_fin.air_condenser | DEBUG] 5. Desuperheating region. Flow length = 22.795 mm -> heat transfer rate = 1145.892 W (deviation = -218.312 W).\n",
      "[17356 | hvac.heat_exchanger.recuperator.fintube.continuous_fin.air_condenser | DEBUG] 6. Desuperheating region. Flow length = 35.768 mm -> heat transfer rate = 1392.808 W (deviation = 28.604 W).\n",
      "[17356 | hvac.heat_exchanger.recuperator.fintube.continuous_fin.air_condenser | DEBUG] 7. Desuperheating region. Flow length = 33.907 mm -> heat transfer rate = 1366.147 W (deviation = 1.943 W).\n",
      "[17356 | hvac.heat_exchanger.recuperator.fintube.continuous_fin.air_condenser | DEBUG] 8. Desuperheating region. Flow length = 33.737 mm -> heat transfer rate = 1363.591 W (deviation = -0.613 W).\n",
      "[17356 | hvac.heat_exchanger.recuperator.fintube.continuous_fin.air_condenser | DEBUG] Superheating region. Required flow length = 33.737 mm.\n",
      "[17356 | hvac.heat_exchanger.recuperator.fintube.continuous_fin.air_condenser | DEBUG] Condenser. Total flow length = 110.090 mm (deviation = 0.090 mm).\n",
      "[17356 | hvac.heat_exchanger.recuperator.fintube.continuous_fin.air_condenser | DEBUG] Iteration 5\n",
      "[17356 | hvac.heat_exchanger.recuperator.fintube.continuous_fin.air_condenser | DEBUG] Try with subcooling flow length 10.583 mm.\n",
      "[17356 | hvac.heat_exchanger.recuperator.fintube.continuous_fin.air_condenser | DEBUG] 1. Subcooling region. Temperature of leaving refrigerant = 45.594 °C (deviation = 3.094 K).\n",
      "[17356 | hvac.heat_exchanger.recuperator.fintube.continuous_fin.air_condenser | DEBUG] 2. Subcooling region. Temperature of leaving refrigerant = 45.534 °C (deviation = -0.059 K).\n",
      "[17356 | hvac.heat_exchanger.recuperator.fintube.continuous_fin.air_condenser | DEBUG] Subcooling region. Leaving air temperature = 35.359 °C.\n",
      "[17356 | hvac.heat_exchanger.recuperator.fintube.continuous_fin.air_condenser | DEBUG] 1. Condensing region. Flow length = 1.000 mm -> heat transfer rate = 135.270 W (deviation = -5879.560 W).\n",
      "[17356 | hvac.heat_exchanger.recuperator.fintube.continuous_fin.air_condenser | DEBUG] 2. Condensing region. Flow length = 110.000 mm -> heat transfer rate = 7875.245 W (deviation = 1860.415 W).\n",
      "[17356 | hvac.heat_exchanger.recuperator.fintube.continuous_fin.air_condenser | DEBUG] 3. Condensing region. Flow length = 83.800 mm -> heat transfer rate = 6906.603 W (deviation = 891.774 W).\n",
      "[17356 | hvac.heat_exchanger.recuperator.fintube.continuous_fin.air_condenser | DEBUG] 4. Condensing region. Flow length = 62.856 mm -> heat transfer rate = 5858.051 W (deviation = -156.779 W).\n",
      "[17356 | hvac.heat_exchanger.recuperator.fintube.continuous_fin.air_condenser | DEBUG] 5. Condensing region. Flow length = 65.988 mm -> heat transfer rate = 6033.848 W (deviation = 19.018 W).\n",
      "[17356 | hvac.heat_exchanger.recuperator.fintube.continuous_fin.air_condenser | DEBUG] 6. Condensing region. Flow length = 65.649 mm -> heat transfer rate = 6015.181 W (deviation = 0.352 W).\n",
      "[17356 | hvac.heat_exchanger.recuperator.fintube.continuous_fin.air_condenser | DEBUG] 7. Condensing region. Flow length = 65.320 mm -> heat transfer rate = 5996.987 W (deviation = -17.843 W).\n",
      "[17356 | hvac.heat_exchanger.recuperator.fintube.continuous_fin.air_condenser | DEBUG] Condenser region. Required flow length = 65.649 mm.\n",
      "[17356 | hvac.heat_exchanger.recuperator.fintube.continuous_fin.air_condenser | DEBUG] 1. Desuperheating region. Flow length = 1.000 mm -> heat transfer rate = 128.861 W (deviation = -1235.343 W).\n",
      "[17356 | hvac.heat_exchanger.recuperator.fintube.continuous_fin.air_condenser | DEBUG] 2. Desuperheating region. Flow length = 110.000 mm -> heat transfer rate = 1673.538 W (deviation = 309.335 W).\n",
      "[17356 | hvac.heat_exchanger.recuperator.fintube.continuous_fin.air_condenser | DEBUG] 3. Desuperheating region. Flow length = 88.172 mm -> heat transfer rate = 1660.246 W (deviation = 296.042 W).\n",
      "[17356 | hvac.heat_exchanger.recuperator.fintube.continuous_fin.air_condenser | DEBUG] 4. Desuperheating region. Flow length = 44.586 mm -> heat transfer rate = 1512.708 W (deviation = 148.504 W).\n",
      "[17356 | hvac.heat_exchanger.recuperator.fintube.continuous_fin.air_condenser | DEBUG] 5. Desuperheating region. Flow length = 22.793 mm -> heat transfer rate = 1145.929 W (deviation = -218.274 W).\n",
      "[17356 | hvac.heat_exchanger.recuperator.fintube.continuous_fin.air_condenser | DEBUG] 6. Desuperheating region. Flow length = 35.762 mm -> heat transfer rate = 1392.819 W (deviation = 28.615 W).\n",
      "[17356 | hvac.heat_exchanger.recuperator.fintube.continuous_fin.air_condenser | DEBUG] 7. Desuperheating region. Flow length = 33.900 mm -> heat transfer rate = 1366.145 W (deviation = 1.942 W).\n",
      "[17356 | hvac.heat_exchanger.recuperator.fintube.continuous_fin.air_condenser | DEBUG] 8. Desuperheating region. Flow length = 33.730 mm -> heat transfer rate = 1363.589 W (deviation = -0.615 W).\n",
      "[17356 | hvac.heat_exchanger.recuperator.fintube.continuous_fin.air_condenser | DEBUG] Superheating region. Required flow length = 33.730 mm.\n",
      "[17356 | hvac.heat_exchanger.recuperator.fintube.continuous_fin.air_condenser | DEBUG] Condenser. Total flow length = 109.962 mm (deviation = -0.038 mm).\n",
      "[17356 | hvac.heat_exchanger.recuperator.fintube.continuous_fin.air_condenser | DEBUG] Calculation finished: converged\n"
     ]
    }
   ],
   "execution_count": 7
  },
  {
   "cell_type": "markdown",
   "id": "9de318f5-f569-4524-95cd-a9203fa35931",
   "metadata": {},
   "source": "Final results:"
  },
  {
   "cell_type": "code",
   "id": "ed73db6b-e287-47f4-96e2-c00a8ccf9564",
   "metadata": {
    "tags": [],
    "ExecuteTime": {
     "end_time": "2025-01-19T09:39:18.286890Z",
     "start_time": "2025-01-19T09:39:18.278803Z"
    }
   },
   "source": [
    "print(\n",
    "    f\"leaving air state = {air_out.Tdb.to('degC'):~P.1f} DB, \"\n",
    "    f\"{air_out.RH.to('pct'):~P.0f} RH\",\n",
    "    f\"leaving refrigerant temperature = {rfg_out.T.to('degC'):~P.2f}\",\n",
    "    f\"leaving refrigerant enthalpy = {rfg_out.h.to('kJ / kg'):~P.2f}\",\n",
    "    f\"degree of subcooling = {condenser.dT_sc.to('K'):~P.2f}\",\n",
    "    f\"heat rejection rate = {condenser.Q_dot.to('kW'):~P.3f}\",\n",
    "    f\"air-side pressure drop = {condenser.air_dP.to('Pa'):~P.3f}\",\n",
    "    sep='\\n'\n",
    ")"
   ],
   "outputs": [
    {
     "name": "stdout",
     "output_type": "stream",
     "text": [
      "leaving air state = 45.0 °C DB, 18 % RH\n",
      "leaving refrigerant temperature = 45.53 °C\n",
      "leaving refrigerant enthalpy = 264.71 kJ/kg\n",
      "degree of subcooling = 4.47 K\n",
      "heat rejection rate = 7.653 kW\n",
      "air-side pressure drop = 39.541 Pa\n"
     ]
    }
   ],
   "execution_count": 10
  },
  {
   "cell_type": "markdown",
   "id": "d1096658-1bbd-4ce9-9684-beb8255b9103",
   "metadata": {},
   "source": "Note: the air-side pressure drop should also be considered when rating the condenser. A large air-side pressure drop would imply we need a larger, more energy consuming fan to push or draw the required air flow through the condenser."
  },
  {
   "metadata": {},
   "cell_type": "markdown",
   "source": "We notice that the state of refrigerant leaving the condenser is not entirely equal to the state we've used when rating the evaporator.",
   "id": "b5ac264b5db90779"
  },
  {
   "metadata": {
    "ExecuteTime": {
     "end_time": "2025-01-19T09:50:24.749544Z",
     "start_time": "2025-01-19T09:50:24.742703Z"
    }
   },
   "cell_type": "code",
   "source": [
    "P_evp = R134a(T=Q_(10, 'degC'), x=Q_(1.0, 'frac')).P\n",
    "evp_rfg_in = R134a(P=P_evp, h=rfg_out.h)\n",
    "print(\n",
    "    f\"vapor quality of evaporator entering refrigerant = \"\n",
    "    f\"{evp_rfg_in.x.to('frac'):~P.2f}\"\n",
    ")"
   ],
   "id": "867ca4215e2de143",
   "outputs": [
    {
     "name": "stdout",
     "output_type": "stream",
     "text": [
      "vapor quality of evaporator entering refrigerant = 0.27 frac\n"
     ]
    }
   ],
   "execution_count": 12
  }
 ],
 "metadata": {
  "kernelspec": {
   "display_name": "Python 3 (ipykernel)",
   "language": "python",
   "name": "python3"
  },
  "language_info": {
   "codemirror_mode": {
    "name": "ipython",
    "version": 3
   },
   "file_extension": ".py",
   "mimetype": "text/x-python",
   "name": "python",
   "nbconvert_exporter": "python",
   "pygments_lexer": "ipython3",
   "version": "3.11.0"
  }
 },
 "nbformat": 4,
 "nbformat_minor": 5
}
