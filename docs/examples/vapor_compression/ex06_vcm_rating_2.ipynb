{
 "cells": [
  {
   "cell_type": "markdown",
   "id": "838eca70-5c06-4e6f-a333-cb1e89582b05",
   "metadata": {},
   "source": [
    "# Rating a Single-Stage Vapor Compression Machine\n",
    "---"
   ]
  },
  {
   "cell_type": "markdown",
   "id": "6ec55075-861c-4edf-aa90-80b99a5d419c",
   "metadata": {},
   "source": [
    "In this notebook we look at another example of rating a single-stage vapor compression machine used for cooling supply air in an air conditioning system. The machine is equipped with a variable speed compressor. In this example we will determine the required compressor speed when the refrigeration machine is operating at design conditions. These design conditions include: \n",
    "1. the state and mass flow rate of air entering the evaporator (which are both given from the start),\n",
    "2. the state and mass flow rate of outdoor air entering the condenser (only the state of outdoor air is known from the start),\n",
    "3. a selected evaporation temperature of the refrigerant,\n",
    "4. a selected condensing temperature of the refrigerant, and\n",
    "5. a required amount of superheat of refrigerant leaving the evaporator."
   ]
  },
  {
   "cell_type": "code",
   "id": "6fe70190-d3c8-4dc1-86a8-2152381ef6ff",
   "metadata": {
    "ExecuteTime": {
     "end_time": "2025-01-20T20:23:09.392829Z",
     "start_time": "2025-01-20T20:23:08.273220Z"
    }
   },
   "source": [
    "import warnings\n",
    "from hvac import Quantity\n",
    "from hvac.fluids import HumidAir\n",
    "from hvac.fluids.fluid_experimental import PureFluid\n",
    "from hvac.fluids.exceptions import CoolPropWarning\n",
    "from hvac.heat_exchanger.recuperator.fintube import PFT_CF_AE, PFT_CF_AC\n",
    "from hvac.vapor_compression import VariableSpeedCompressor, SS_VCM"
   ],
   "outputs": [],
   "execution_count": 1
  },
  {
   "cell_type": "code",
   "id": "6f211a07-703f-42e1-b965-3ed08af268ae",
   "metadata": {
    "ExecuteTime": {
     "end_time": "2025-01-20T20:23:09.400264Z",
     "start_time": "2025-01-20T20:23:09.396857Z"
    }
   },
   "source": [
    "warnings.filterwarnings('ignore', category=CoolPropWarning)"
   ],
   "outputs": [],
   "execution_count": 2
  },
  {
   "cell_type": "code",
   "id": "01c6709b-5498-44f7-9651-006f2791c1cd",
   "metadata": {
    "ExecuteTime": {
     "end_time": "2025-01-20T20:23:09.607274Z",
     "start_time": "2025-01-20T20:23:09.603265Z"
    }
   },
   "source": [
    "Q_ = Quantity\n",
    "R410A = PureFluid('R410A')"
   ],
   "outputs": [],
   "execution_count": 3
  },
  {
   "cell_type": "markdown",
   "id": "6b9190de-9a79-4d8a-95dd-45ef2d8176bc",
   "metadata": {},
   "source": [
    "## Design Conditions"
   ]
  },
  {
   "cell_type": "markdown",
   "id": "462c23a6-728e-4e4a-87c8-d7a0689630a1",
   "metadata": {},
   "source": [
    "Air with a mass flow rate of `evp_air_m_dot` and with a known state `evp_air_in` enters an air evaporator (DX-coil) and needs to be cooled to a state `evp_air_out`. "
   ]
  },
  {
   "cell_type": "code",
   "id": "7b57e470-91a9-4f07-b56a-913480ced770",
   "metadata": {
    "ExecuteTime": {
     "end_time": "2025-01-20T20:23:09.620597Z",
     "start_time": "2025-01-20T20:23:09.615679Z"
    }
   },
   "source": [
    "evp_air_in = HumidAir(\n",
    "    Tdb=Q_(28.2, 'degC'),\n",
    "    W=Q_(10.6, 'g / kg')\n",
    ")\n",
    "evp_air_out = HumidAir(\n",
    "    Tdb=Q_(14.0, 'degC'),\n",
    "    W=Q_(9.1, 'g / kg')\n",
    ")\n",
    "evp_air_m_dot = Q_(10_762.4, 'kg / hr')"
   ],
   "outputs": [],
   "execution_count": 4
  },
  {
   "cell_type": "markdown",
   "id": "83c2c62a-86c6-4c2d-83b2-79cf0f5a266b",
   "metadata": {},
   "source": [
    "The heat rate that needs to be extracted from the air flow in the evaporator follows from:"
   ]
  },
  {
   "cell_type": "code",
   "id": "d056a2f8-1e70-4c1d-98d1-f0582ede2441",
   "metadata": {
    "ExecuteTime": {
     "end_time": "2025-01-20T20:23:09.635770Z",
     "start_time": "2025-01-20T20:23:09.630912Z"
    }
   },
   "source": [
    "evp_Q_dot = evp_air_m_dot * (evp_air_in.h - evp_air_out.h)\n",
    "print(f\"required heat absorption rate = {evp_Q_dot.to('kW'):~P.3f}\")"
   ],
   "outputs": [
    {
     "name": "stdout",
     "output_type": "stream",
     "text": [
      "required heat absorption rate = 54.885 kW\n"
     ]
    }
   ],
   "execution_count": 5
  },
  {
   "cell_type": "markdown",
   "id": "7bff0b84-3ca6-47ed-a09a-af0b073a8ffe",
   "metadata": {},
   "source": [
    "We need to select the evaporation temperature of the refrigerant in the evaporator. Let us select an evaporation temperature which is 10 K below the air leaving temperature."
   ]
  },
  {
   "cell_type": "code",
   "id": "5d266fd8-0c1d-4196-87e6-eee36593f1ec",
   "metadata": {
    "ExecuteTime": {
     "end_time": "2025-01-20T20:23:09.674137Z",
     "start_time": "2025-01-20T20:23:09.668617Z"
    }
   },
   "source": [
    "evp_T_rfg = evp_air_out.Tdb - Q_(10, 'K')\n",
    "print(f\"evaporation temperature = {evp_T_rfg.to('degC'):~P.2f}\")"
   ],
   "outputs": [
    {
     "name": "stdout",
     "output_type": "stream",
     "text": [
      "evaporation temperature = 4.00 °C\n"
     ]
    }
   ],
   "execution_count": 6
  },
  {
   "cell_type": "markdown",
   "id": "c2f75cdd-7a24-4d81-b926-4b52f15c3893",
   "metadata": {},
   "source": [
    "The refrigerant, which was already defined above, is R410A. We can determine the saturation pressure that corresponds with the selected evaporation temperature. "
   ]
  },
  {
   "cell_type": "code",
   "id": "464083b5-c791-400f-baa6-0d4952f54a78",
   "metadata": {
    "ExecuteTime": {
     "end_time": "2025-01-20T20:23:09.723274Z",
     "start_time": "2025-01-20T20:23:09.717275Z"
    }
   },
   "source": [
    "evp_rfg_sat_vap = R410A(T=evp_T_rfg, x=Q_(1.0, 'frac'))  # saturated vapor\n",
    "evp_P_rfg = evp_rfg_sat_vap.P\n",
    "print(f\"evaporation pressure = {evp_P_rfg.to('bar'):~P.3f}\")"
   ],
   "outputs": [
    {
     "name": "stdout",
     "output_type": "stream",
     "text": [
      "evaporation pressure = 9.049 bar\n"
     ]
    }
   ],
   "execution_count": 7
  },
  {
   "cell_type": "markdown",
   "id": "21ae8e29-e373-4889-8ac7-ef963d602950",
   "metadata": {},
   "source": [
    "At the outlet of evaporator the refrigerant needs to be superheated enough to prevent liquid refrigerant from entering the compressor, as this would damage the compressor. We need to select the degree of refrigerant superheating, which will be a setting of the expansion device (TXV). "
   ]
  },
  {
   "cell_type": "code",
   "id": "d086a342-c9fc-4907-8577-090d21d024ef",
   "metadata": {
    "ExecuteTime": {
     "end_time": "2025-01-20T20:23:09.766921Z",
     "start_time": "2025-01-20T20:23:09.762984Z"
    }
   },
   "source": [
    "dT_sh = Q_(10, 'K')"
   ],
   "outputs": [],
   "execution_count": 8
  },
  {
   "cell_type": "markdown",
   "id": "c87538ae-6385-4ffa-b7a8-7f2f70b38e99",
   "metadata": {},
   "source": [
    "Once the degree of refrigerant superheating has been selected, we can determine the state of refrigerant leaving the evaporator. "
   ]
  },
  {
   "cell_type": "code",
   "id": "a4321c35-51a6-42f5-b9ba-c6529e8b902a",
   "metadata": {
    "ExecuteTime": {
     "end_time": "2025-01-20T20:23:09.783202Z",
     "start_time": "2025-01-20T20:23:09.778359Z"
    }
   },
   "source": [
    "evp_rfg_out = R410A(P=evp_P_rfg, T=evp_T_rfg + dT_sh)"
   ],
   "outputs": [],
   "execution_count": 9
  },
  {
   "cell_type": "markdown",
   "id": "6bf844ae-3fc6-4883-9f33-b2e6128f2825",
   "metadata": {},
   "source": [
    "The state of refrigerant entering the evaporator will depend on the state of refrigerant leaving the condenser. In the expansion device the refrigerant undergoes an isenthalpic expansion process, which means that the enthalpy of refrigerant entering the evaporator is the same as the enthalpy of refrigerant leaving the condenser. This means that we first need to determine the design conditions at the condenser."
   ]
  },
  {
   "cell_type": "markdown",
   "id": "32194c9d-a7f9-4e93-864f-fff134df39e5",
   "metadata": {},
   "source": [
    "At the condenser outdoor air enters the condenser with a known state `cnd_air_in`."
   ]
  },
  {
   "cell_type": "code",
   "id": "ef4bd921-a4cd-4a20-a929-6bd5c46e86f8",
   "metadata": {
    "ExecuteTime": {
     "end_time": "2025-01-20T20:23:09.795768Z",
     "start_time": "2025-01-20T20:23:09.792259Z"
    }
   },
   "source": [
    "cnd_air_in = HumidAir(Tdb=Q_(32, 'degC'), Twb=Q_(21, 'degC'))"
   ],
   "outputs": [],
   "execution_count": 10
  },
  {
   "cell_type": "markdown",
   "id": "36e0337a-4375-4b68-9f8a-0f4544c89734",
   "metadata": {},
   "source": [
    "When outdoor air flows through the condenser it takes up heat from the condensing refrigerant. We can select the allowable temperature rise of the air flow and determine the state of air leaving the condenser, knowing that air heating is a sensible-heat-only process (i.e., the absolute humidity of the air stays constant)."
   ]
  },
  {
   "cell_type": "code",
   "id": "30352066-011d-4d5e-940d-98609599a21b",
   "metadata": {
    "ExecuteTime": {
     "end_time": "2025-01-20T20:23:09.914382Z",
     "start_time": "2025-01-20T20:23:09.874905Z"
    }
   },
   "source": [
    "cnd_dT_air = Q_(10, 'K')\n",
    "cnd_air_out = HumidAir(Tdb=cnd_air_in.Tdb + cnd_dT_air, W=cnd_air_in.W)\n",
    "print(f\"temperature of air leaving condenser = {cnd_air_out.Tdb.to('degC'):~P.1f}\")"
   ],
   "outputs": [
    {
     "name": "stdout",
     "output_type": "stream",
     "text": [
      "temperature of air leaving condenser = 42.0 °C\n"
     ]
    }
   ],
   "execution_count": 11
  },
  {
   "cell_type": "markdown",
   "id": "83e09de6-8d19-4f72-9ab7-a186b79c97a8",
   "metadata": {},
   "source": [
    "Now we can select the refrigerant condensing temperature. Lets take it 10 K above the temperature of air leaving the condenser."
   ]
  },
  {
   "cell_type": "code",
   "id": "be2ddb26-3b25-4cfc-a49e-3702f18a1c4b",
   "metadata": {
    "ExecuteTime": {
     "end_time": "2025-01-20T20:23:09.999415Z",
     "start_time": "2025-01-20T20:23:09.995125Z"
    }
   },
   "source": [
    "cnd_T_rfg = cnd_air_out.Tdb + Q_(10, 'K')\n",
    "print(f\"condensing temperature = {cnd_T_rfg.to('degC'):~P.2f}\")"
   ],
   "outputs": [
    {
     "name": "stdout",
     "output_type": "stream",
     "text": [
      "condensing temperature = 52.00 °C\n"
     ]
    }
   ],
   "execution_count": 12
  },
  {
   "cell_type": "markdown",
   "id": "43bbb2b0-742e-462f-9ac1-07461bfca52a",
   "metadata": {},
   "source": [
    "The corresponding saturation pressure of the refrigerant follows from:"
   ]
  },
  {
   "cell_type": "code",
   "id": "cfe03b70-af6c-4823-ae2a-2deb8eace613",
   "metadata": {
    "ExecuteTime": {
     "end_time": "2025-01-20T20:23:10.084421Z",
     "start_time": "2025-01-20T20:23:10.079420Z"
    }
   },
   "source": [
    "cnd_rfg_sat_liq = R410A(T=cnd_T_rfg, x=Q_(0.0, 'frac'))  # saturated liquid\n",
    "cnd_P_rfg = cnd_rfg_sat_liq.P\n",
    "print(f\"condensing pressure = {cnd_P_rfg.to('bar'):~P.3f}\")"
   ],
   "outputs": [
    {
     "name": "stdout",
     "output_type": "stream",
     "text": [
      "condensing pressure = 32.147 bar\n"
     ]
    }
   ],
   "execution_count": 13
  },
  {
   "cell_type": "markdown",
   "id": "22b42d99-a2b1-449b-9c3d-26cd91d65422",
   "metadata": {},
   "source": [
    "To ensure that liquid refrigerant will enter the expansion device, the refrigerant leaving the condenser should be subcooled to a certain degree:"
   ]
  },
  {
   "cell_type": "code",
   "id": "18535116-3b07-40ea-aa2c-103945650e97",
   "metadata": {
    "ExecuteTime": {
     "end_time": "2025-01-20T20:23:10.170055Z",
     "start_time": "2025-01-20T20:23:10.166229Z"
    }
   },
   "source": [
    "dT_sc = Q_(10, 'K')"
   ],
   "outputs": [],
   "execution_count": 14
  },
  {
   "cell_type": "markdown",
   "id": "0536f513-82c8-406a-9991-149b724580f4",
   "metadata": {},
   "source": [
    "Once the degree of refrigerant subcooling has been selected, we can determine the state of refrigerant leaving the condenser."
   ]
  },
  {
   "cell_type": "code",
   "id": "46b81278-a799-45da-a678-f69789314356",
   "metadata": {
    "ExecuteTime": {
     "end_time": "2025-01-20T20:23:10.258722Z",
     "start_time": "2025-01-20T20:23:10.252649Z"
    }
   },
   "source": [
    "cnd_rfg_out = R410A(P=cnd_P_rfg, T=cnd_T_rfg - dT_sc)\n",
    "print(f\"temperature of refrigerant leaving condenser = {cnd_rfg_out.T.to('degC'):~P.2f}\")\n",
    "print(f\"enthalpy of refrigerant leaving condenser = {cnd_rfg_out.h.to('kJ / kg'):~P.3f}\")"
   ],
   "outputs": [
    {
     "name": "stdout",
     "output_type": "stream",
     "text": [
      "temperature of refrigerant leaving condenser = 42.00 °C\n",
      "enthalpy of refrigerant leaving condenser = 269.144 kJ/kg\n"
     ]
    }
   ],
   "execution_count": 15
  },
  {
   "cell_type": "markdown",
   "id": "c280ba2e-8a59-46ce-8753-8b92f56c616d",
   "metadata": {},
   "source": [
    "Now that we have determined the state of refrigerant leaving the condenser, we can go back to the design of the evaporator and determine the state of refrigerant entering the evaporator, assuming that the enthalpy of the refrigerant remains constant between the condenser's exit and the evaporator's entrance."
   ]
  },
  {
   "cell_type": "code",
   "id": "2b55596d-d17b-4f0e-a1ac-302efa5911a2",
   "metadata": {
    "ExecuteTime": {
     "end_time": "2025-01-20T20:23:10.346090Z",
     "start_time": "2025-01-20T20:23:10.340149Z"
    }
   },
   "source": [
    "evp_rfg_in = R410A(P=evp_P_rfg, h=cnd_rfg_out.h)\n",
    "print(f\"vapor quality of refrigerant entering evaporator = {evp_rfg_in.x.to('frac'):~P.2f}\")"
   ],
   "outputs": [
    {
     "name": "stdout",
     "output_type": "stream",
     "text": [
      "vapor quality of refrigerant entering evaporator = 0.29 frac\n"
     ]
    }
   ],
   "execution_count": 16
  },
  {
   "cell_type": "markdown",
   "id": "82a32631-e408-4590-9bc5-462a58714565",
   "metadata": {},
   "source": [
    "We know the states of refrigerant entering and leaving the evaporator and we know the heat rate that must be absorbed by the refrigerant in the evaporator. This allows us to determine the required mass flow rate of refrigerant as follows: "
   ]
  },
  {
   "cell_type": "code",
   "id": "95db3d2f-2f21-4054-98dd-8c96a7295b45",
   "metadata": {
    "ExecuteTime": {
     "end_time": "2025-01-20T20:23:10.430713Z",
     "start_time": "2025-01-20T20:23:10.426253Z"
    }
   },
   "source": [
    "rfg_m_dot = evp_Q_dot / (evp_rfg_out.h - evp_rfg_in.h)\n",
    "print(f\"required mass flow rate of refrigerant = {rfg_m_dot.to('kg / h'):~P.3f}\")"
   ],
   "outputs": [
    {
     "name": "stdout",
     "output_type": "stream",
     "text": [
      "required mass flow rate of refrigerant = 1201.076 kg/h\n"
     ]
    }
   ],
   "execution_count": 17
  },
  {
   "cell_type": "markdown",
   "id": "e4581caf-31e2-4aa0-a2e5-7a4420d759ed",
   "metadata": {},
   "source": [
    "## Air Evaporator Design"
   ]
  },
  {
   "cell_type": "markdown",
   "id": "de44fb3a-31d3-4616-88ed-dd3bae37cfd6",
   "metadata": {},
   "source": [
    "To design the air evaporator, we need to determine the width and height of the air-side frontal area, choose the geometrical properties of the heat exchanger core, and select the number of tube rows. To determine the size of the frontal area, we start with selecting the face air velocity."
   ]
  },
  {
   "cell_type": "code",
   "id": "6f2a1461-3269-485c-8fc4-1b983f44c5cb",
   "metadata": {
    "ExecuteTime": {
     "end_time": "2025-01-20T20:23:10.516090Z",
     "start_time": "2025-01-20T20:23:10.512839Z"
    }
   },
   "source": [
    "evp_v_fa = Q_(2, 'm / s')"
   ],
   "outputs": [],
   "execution_count": 18
  },
  {
   "cell_type": "markdown",
   "id": "365f5632-d67a-451c-aa8e-db6688f1a597",
   "metadata": {},
   "source": [
    "Given the air mass flow rate through the evaporator and knowing the state of air entering the evaporator, the air volume flow rate at the entrance of the evaporator can be determined.  "
   ]
  },
  {
   "cell_type": "code",
   "id": "3e02d3b5-963c-48e8-ac77-bd45a2f68d9a",
   "metadata": {
    "ExecuteTime": {
     "end_time": "2025-01-20T20:23:10.605828Z",
     "start_time": "2025-01-20T20:23:10.599889Z"
    }
   },
   "source": [
    "evp_air_V_dot = evp_air_m_dot / evp_air_in.rho\n",
    "print(f\"air volume flow rate at evaporator entrance = {evp_air_V_dot.to('m**3 / h'):~P.3f}\") "
   ],
   "outputs": [
    {
     "name": "stdout",
     "output_type": "stream",
     "text": [
      "air volume flow rate at evaporator entrance = 9341.150 m³/h\n"
     ]
    }
   ],
   "execution_count": 19
  },
  {
   "cell_type": "markdown",
   "id": "dddc6050-9463-4b82-93a2-e275127cf68b",
   "metadata": {},
   "source": [
    "Based on the selected face air velocity, the air-side frontal area of the evaporator can be determined. "
   ]
  },
  {
   "cell_type": "code",
   "id": "8570d7de-4a67-4d66-98aa-a9b9253b696f",
   "metadata": {
    "ExecuteTime": {
     "end_time": "2025-01-20T20:23:10.695589Z",
     "start_time": "2025-01-20T20:23:10.690695Z"
    }
   },
   "source": [
    "evp_A_fa = evp_air_V_dot / evp_v_fa\n",
    "print(f\"air-side frontal area = {evp_A_fa.to('m ** 2'):~P.3f}\")"
   ],
   "outputs": [
    {
     "name": "stdout",
     "output_type": "stream",
     "text": [
      "air-side frontal area = 1.297 m²\n"
     ]
    }
   ],
   "execution_count": 20
  },
  {
   "cell_type": "markdown",
   "id": "459bc4c7-155a-452c-b729-465ea56d168f",
   "metadata": {},
   "source": [
    "To determine the width and height of the air-side frontal area, we select an aspect ratio (ratio of height to width)."
   ]
  },
  {
   "cell_type": "code",
   "id": "a038f0a8-1ddb-4d59-ab2e-10d75945511c",
   "metadata": {
    "ExecuteTime": {
     "end_time": "2025-01-20T20:23:10.791228Z",
     "start_time": "2025-01-20T20:23:10.784231Z"
    }
   },
   "source": [
    "evp_aspect_ratio = 1 / 3\n",
    "evp_width = (evp_A_fa / evp_aspect_ratio) ** 0.5\n",
    "evp_height = evp_aspect_ratio * evp_width\n",
    "print(\n",
    "    f\"frontal area width = {evp_width.to('mm'):~P.0f}\",\n",
    "    f\"frontal area height = {evp_height.to('mm'):~P.0f}\",\n",
    "    sep='\\n'\n",
    ")"
   ],
   "outputs": [
    {
     "name": "stdout",
     "output_type": "stream",
     "text": [
      "frontal area width = 1973 mm\n",
      "frontal area height = 658 mm\n"
     ]
    }
   ],
   "execution_count": 21
  },
  {
   "cell_type": "markdown",
   "id": "19cb7963-84a5-4e6e-99f4-05e694cb4c8e",
   "metadata": {},
   "source": [
    "We will design a plain fin-tube, counter-flow air evaporator for which we choose an initial number of rows."
   ]
  },
  {
   "cell_type": "code",
   "id": "5d6e6452-200c-41c4-845d-5d088eed2d89",
   "metadata": {
    "ExecuteTime": {
     "end_time": "2025-01-20T20:23:10.884047Z",
     "start_time": "2025-01-20T20:23:10.879790Z"
    }
   },
   "source": [
    "Evaporator = PFT_CF_AE  # Plain Fin-Tube Counter-Flow Air Evaporator"
   ],
   "outputs": [],
   "execution_count": 22
  },
  {
   "cell_type": "code",
   "id": "aa900ad1-cb10-4e69-921e-e79d3314de0a",
   "metadata": {
    "ExecuteTime": {
     "end_time": "2025-01-20T20:23:10.975161Z",
     "start_time": "2025-01-20T20:23:10.969519Z"
    }
   },
   "source": [
    "evaporator = Evaporator(\n",
    "    W_fro=evp_width,              # width of frontal area\n",
    "    H_fro=evp_height,             # height of frontal area\n",
    "    N_rows=3,                     # number of rows (initial guess)\n",
    "    S_trv=Q_(22.42, 'mm'),        # vertical distance between tubes\n",
    "    S_lon=Q_(22.27, 'mm'),        # horizontal distance between tubes\n",
    "    D_int=Q_(8.422, 'mm'),        # inner tube diameter\n",
    "    D_ext=Q_(10.2, 'mm'),         # outer tube diameter\n",
    "    t_fin=Q_(0.3302, 'mm'),       # fin thickness\n",
    "    N_fin=1 / Q_(3.2, 'mm'),      # fin density\n",
    "    k_fin=Q_(237, 'W / (m * K)')  # conductivity of fin material (here: aluminium)\n",
    ")"
   ],
   "outputs": [],
   "execution_count": 23
  },
  {
   "cell_type": "markdown",
   "id": "b7902206-3473-4573-b981-0008eef229a8",
   "metadata": {},
   "source": [
    "To find the actual needed number of rows, we \"solve\" the instantiated evaporator model. The solving routine requires the state of air entering the evaporator, the air mass flow rate through the evaporator, the state of refrigerant entering the evaporator, and the required degree of refrigerant superheating at the exit of the evaporator. Based on this design data, the evaporator model will calculate the refrigerant mass flow rate the expansion device lets through so that the refrigerant is superheated to the required degree. "
   ]
  },
  {
   "cell_type": "code",
   "id": "8a968d8f-e118-4993-8271-4310f9ce887b",
   "metadata": {
    "scrolled": true,
    "ExecuteTime": {
     "end_time": "2025-01-20T20:23:24.708681Z",
     "start_time": "2025-01-20T20:23:11.059418Z"
    }
   },
   "source": [
    "rfg_m_dot_new = evaporator.solve(\n",
    "    air_in=evp_air_in,\n",
    "    air_m_dot=evp_air_m_dot,\n",
    "    rfg_in=evp_rfg_in,\n",
    "    dT_sh=dT_sh,\n",
    ")"
   ],
   "outputs": [],
   "execution_count": 24
  },
  {
   "cell_type": "code",
   "id": "3eb922df-f6b8-4263-a47a-6f4d8fbf0320",
   "metadata": {
    "ExecuteTime": {
     "end_time": "2025-01-20T20:23:24.795858Z",
     "start_time": "2025-01-20T20:23:24.787815Z"
    }
   },
   "source": [
    "print(f\"refrigerant mass flow rate = {rfg_m_dot_new.to('kg / h'):~P.3f}\")"
   ],
   "outputs": [
    {
     "name": "stdout",
     "output_type": "stream",
     "text": [
      "refrigerant mass flow rate = 1292.777 kg/h\n"
     ]
    }
   ],
   "execution_count": 25
  },
  {
   "cell_type": "markdown",
   "id": "be979446-ff48-412c-85d2-021199f22f9f",
   "metadata": {},
   "source": [
    "If the refrigerant mass flow rate `rfg_m_dot_new` needed to superheat the refrigerant to the required degree `dT_sh` is (much) more than the refrigerant mass flow rate `rfg_m_dot` previously calculated, it indicates that the evaporator will be oversized. In that case, we should decrease the number of rows `N_rows`. Conversely, if `rfg_m_dot_new` is (much) less than `rfg_m_dot`, we should increase the number of rows `N_rows`. Also, be changing fin density (fin spacing) `N_fin`, we can further minimize the difference between `rfg_m_dot_new` and `rfg_m_dot`."
   ]
  },
  {
   "cell_type": "markdown",
   "id": "1495c670-c0f4-4534-85e6-a812a4655c37",
   "metadata": {},
   "source": [
    "## Compressor Selection"
   ]
  },
  {
   "cell_type": "markdown",
   "id": "3712b080-83fc-45e8-b010-14446e01450e",
   "metadata": {},
   "source": [
    "We use the selection software COOLSELECTOR2 from DANFOSS to select a compressor with a variable speed drive. To select a suitable compressor, we need to give the program the refrigerant that we are planning to use, the cooling capacity that we need, the selected evaporation and condensing temperature of the refrigerant, and the desired degree of refrigerant superheating and subcooling. According to the program, the hermetic scroll compressor VZH117CGM, driven at speed of 5560 rpm, is our best candidate.\n",
    "\n",
    "To model this compressor in our notebook, we need to export the coefficients of the polynomial equations, which determine the performance of the compressor as a function of evaporation temperature, condensing temperature, and compressor speed, as a spreadsheet file to our computer. After this file has been saved on our computer, we can prepare the csv-file that is needed to instantiate the compressor model in this notebook. This csv-file is saved as `compressor_VZH117CGM.csv` in the same directory as our notebook. Now, we can create an instance of the compressor model. "
   ]
  },
  {
   "cell_type": "code",
   "id": "4916e430-ab0e-414a-bb2c-c7d36b091d0e",
   "metadata": {
    "ExecuteTime": {
     "end_time": "2025-01-20T20:23:24.889130Z",
     "start_time": "2025-01-20T20:23:24.878220Z"
    }
   },
   "source": [
    "compressor = VariableSpeedCompressor(\n",
    "    coeff_file=\"./compressor_data/VZH117CGM_R410a.csv\",\n",
    "    refrigerant=R410A,\n",
    "    dT_sh=dT_sh,\n",
    "    dT_sc=dT_sc,\n",
    "    units={'n': 'rps'}\n",
    ")"
   ],
   "outputs": [],
   "execution_count": 26
  },
  {
   "cell_type": "markdown",
   "id": "03d1cfe5-64c8-439e-9521-41a6748ec2b0",
   "metadata": {},
   "source": [
    "## Air Condenser Design"
   ]
  },
  {
   "cell_type": "markdown",
   "id": "cf729243-342c-41d5-8421-33de3e0624eb",
   "metadata": {},
   "source": [
    "In the condenser, the refrigerant flow must reject its heat to the outdoor air flow in order to leave the condenser as a subcooled liquid so that the refrigeration cycle can be repeated. The heat rate that must be rejected in the condenser is the sum of the heat rate the refrigerant absorbed in the evaporator and the mechanical power the refrigerant received from the compressor. We have already determined the heat rate absorbed by the refrigerant in the evaporator. To determine the mechanical power that the compressor added to the refrigerant, we can use our compressor model. For this, we first need to set the operating state of the compressor. This operating state is determined by the evaporation temperature, the condensing temperature, and the speed at which the compressor is driven. For the compressor speed, we take the value indicated by the COOLSELCTOR2 selection software when we selected the compressor."
   ]
  },
  {
   "cell_type": "code",
   "id": "c29dcf73-695a-4815-ac59-f520e195259b",
   "metadata": {
    "ExecuteTime": {
     "end_time": "2025-01-20T20:23:24.979045Z",
     "start_time": "2025-01-20T20:23:24.975639Z"
    }
   },
   "source": [
    "compressor.T_evp = evp_T_rfg\n",
    "compressor.T_cnd = cnd_T_rfg\n",
    "compressor.speed = Q_(5560, 'rpm')"
   ],
   "outputs": [],
   "execution_count": 27
  },
  {
   "cell_type": "markdown",
   "id": "169570ae-019e-4808-8ec8-e8445d7a45d3",
   "metadata": {},
   "source": [
    "Now, we can easily retrieve the mechanical power the compressor adds to the refrigerant when operating under design conditions. "
   ]
  },
  {
   "cell_type": "code",
   "id": "5da45671-c498-4335-b522-8f39d893548f",
   "metadata": {
    "ExecuteTime": {
     "end_time": "2025-01-20T20:23:25.063516Z",
     "start_time": "2025-01-20T20:23:25.059514Z"
    }
   },
   "source": [
    "print(f\"compressor power = {compressor.W_dot.to('kW'):~P.3f}\")"
   ],
   "outputs": [
    {
     "name": "stdout",
     "output_type": "stream",
     "text": [
      "compressor power = 17.903 kW\n"
     ]
    }
   ],
   "execution_count": 28
  },
  {
   "cell_type": "markdown",
   "id": "a4f9f5d3-9396-40b7-935f-43155c87b9dc",
   "metadata": {},
   "source": [
    "The heat rate that must be rejected by the refrigerant in the condenser is then:"
   ]
  },
  {
   "cell_type": "code",
   "id": "ea71d481-241f-45c4-8cbd-12edde325dc9",
   "metadata": {
    "ExecuteTime": {
     "end_time": "2025-01-20T20:23:25.147297Z",
     "start_time": "2025-01-20T20:23:25.142416Z"
    }
   },
   "source": [
    "cnd_Q_dot = evaporator.Q_dot + compressor.W_dot\n",
    "print(f\"required heat rejection rate = {cnd_Q_dot.to('kW'):~P.3f}\")"
   ],
   "outputs": [
    {
     "name": "stdout",
     "output_type": "stream",
     "text": [
      "required heat rejection rate = 76.979 kW\n"
     ]
    }
   ],
   "execution_count": 29
  },
  {
   "cell_type": "markdown",
   "id": "ae30dad6-13d2-4832-b1e9-4a4b0725ee86",
   "metadata": {},
   "source": [
    "In the first stage of our design calculations, we have already determined the states of air entering and leaving the condenser. Now, we can also determine the required mass flow rate of outdoor air through the condenser."
   ]
  },
  {
   "cell_type": "code",
   "id": "44200731-1f49-4425-98ab-0021cd282d9c",
   "metadata": {
    "ExecuteTime": {
     "end_time": "2025-01-20T20:23:25.342257Z",
     "start_time": "2025-01-20T20:23:25.303933Z"
    }
   },
   "source": [
    "cnd_air_m_dot = cnd_Q_dot / (cnd_air_out.h - cnd_air_in.h)\n",
    "print(f\"required air mass flow rate through condenser = {cnd_air_m_dot.to('kg / h'):~P.3f}\")"
   ],
   "outputs": [
    {
     "name": "stdout",
     "output_type": "stream",
     "text": [
      "required air mass flow rate through condenser = 26965.115 kg/h\n"
     ]
    }
   ],
   "execution_count": 30
  },
  {
   "cell_type": "markdown",
   "id": "d678330f-10f0-41a8-83b2-64d2c180f28d",
   "metadata": {},
   "source": [
    "In the same way as with the evaporator, we can size the air-side frontal area of the condenser by selected an allowable face air velocity."
   ]
  },
  {
   "cell_type": "code",
   "id": "1c331a9f-1a9b-4456-b657-557119cf0d0e",
   "metadata": {
    "ExecuteTime": {
     "end_time": "2025-01-20T20:23:25.392102Z",
     "start_time": "2025-01-20T20:23:25.347266Z"
    }
   },
   "source": [
    "cnd_v_fa = Q_(2, 'm / s')\n",
    "cnd_air_V_dot = cnd_air_m_dot / cnd_air_in.rho\n",
    "print(f\"air volume flow rate at condenser entrance = {cnd_air_V_dot.to('m**3 / h'):~P.3f}\")"
   ],
   "outputs": [
    {
     "name": "stdout",
     "output_type": "stream",
     "text": [
      "air volume flow rate at condenser entrance = 23719.187 m³/h\n"
     ]
    }
   ],
   "execution_count": 31
  },
  {
   "cell_type": "code",
   "id": "e41d16f7-bf60-4ded-9894-5039ab8e4abf",
   "metadata": {
    "ExecuteTime": {
     "end_time": "2025-01-20T20:23:25.478034Z",
     "start_time": "2025-01-20T20:23:25.474593Z"
    }
   },
   "source": [
    "cnd_A_fa = cnd_air_V_dot / cnd_v_fa\n",
    "print(f\"air-side frontal area = {cnd_A_fa.to('m ** 2'):~P.3f}\")"
   ],
   "outputs": [
    {
     "name": "stdout",
     "output_type": "stream",
     "text": [
      "air-side frontal area = 3.294 m²\n"
     ]
    }
   ],
   "execution_count": 32
  },
  {
   "cell_type": "code",
   "id": "192e6e35-5d9b-4d3a-b9b8-0d534465bf75",
   "metadata": {
    "ExecuteTime": {
     "end_time": "2025-01-20T20:23:25.561980Z",
     "start_time": "2025-01-20T20:23:25.557020Z"
    }
   },
   "source": [
    "cnd_aspect_ratio = 1 / 3\n",
    "cnd_width = (cnd_A_fa / cnd_aspect_ratio) ** 0.5\n",
    "cnd_height = cnd_aspect_ratio * cnd_width\n",
    "print(\n",
    "    f\"frontal area width = {cnd_width.to('mm'):~P.0f}\",\n",
    "    f\"frontal area height = {cnd_height.to('mm'):~P.0f}\",\n",
    "    sep='\\n'\n",
    ")"
   ],
   "outputs": [
    {
     "name": "stdout",
     "output_type": "stream",
     "text": [
      "frontal area width = 3144 mm\n",
      "frontal area height = 1048 mm\n"
     ]
    }
   ],
   "execution_count": 33
  },
  {
   "cell_type": "markdown",
   "id": "ed02d11c-b3be-46f8-bb06-1a7483f3a6f6",
   "metadata": {},
   "source": [
    "Before we can instantiate the air condenser model, there's still one thing we need, which is the state of refrigerant entering the condenser. If we assume that the refrigerant state remains unchanged between the exit of the compressor and the entrance of the condenser, we can use the state of the discharge gas from our compressor model.   "
   ]
  },
  {
   "cell_type": "code",
   "id": "1a42cc1d-4b90-4ba3-a928-9400aca06189",
   "metadata": {
    "ExecuteTime": {
     "end_time": "2025-01-20T20:23:25.652410Z",
     "start_time": "2025-01-20T20:23:25.644405Z"
    }
   },
   "source": [
    "cnd_rfg_in = compressor.discharge_gas\n",
    "print(f\"temperature of refrigerant entering the condenser = {cnd_rfg_in.T.to('degC'):~P.2f}\")"
   ],
   "outputs": [
    {
     "name": "stdout",
     "output_type": "stream",
     "text": [
      "temperature of refrigerant entering the condenser = 94.49 °C\n"
     ]
    }
   ],
   "execution_count": 34
  },
  {
   "cell_type": "markdown",
   "id": "4f395b3f-cd9f-4aa1-b380-827c9c7c683c",
   "metadata": {},
   "source": [
    "Like the air evaporator, we will model the air condenser as a plain fin-tube, counter-flow heat exchanger."
   ]
  },
  {
   "cell_type": "code",
   "id": "e92d4400-7c35-404f-9e64-e8cddb9fe714",
   "metadata": {
    "ExecuteTime": {
     "end_time": "2025-01-20T20:23:25.827204Z",
     "start_time": "2025-01-20T20:23:25.823183Z"
    }
   },
   "source": [
    "Condenser = PFT_CF_AC"
   ],
   "outputs": [],
   "execution_count": 35
  },
  {
   "cell_type": "code",
   "id": "2962ce1e-7d30-4a4c-a52e-e175758835f2",
   "metadata": {
    "ExecuteTime": {
     "end_time": "2025-01-20T20:23:25.837241Z",
     "start_time": "2025-01-20T20:23:25.832428Z"
    }
   },
   "source": [
    "condenser = Condenser(\n",
    "    W_fro=cnd_width,              # width of frontal area\n",
    "    H_fro=cnd_height,             # height of frontal area\n",
    "    N_rows=3,                     # number of rows (initial guess)\n",
    "    S_trv=Q_(22.42, 'mm'),        # vertical distance between tubes\n",
    "    S_lon=Q_(22.27, 'mm'),        # horizontal distance between tubes\n",
    "    D_int=Q_(8.422, 'mm'),        # inner tube diameter\n",
    "    D_ext=Q_(10.2, 'mm'),         # outer tube diameter\n",
    "    t_fin=Q_(0.3302, 'mm'),       # fin thickness\n",
    "    N_fin=1 / Q_(3.2, 'mm'),      # fin density\n",
    "    k_fin=Q_(237, 'W / (m * K)')  # conductivity of fin material (here, aluminium)\n",
    ")"
   ],
   "outputs": [],
   "execution_count": 36
  },
  {
   "cell_type": "markdown",
   "id": "97f0ad38-dbbb-41c1-9893-304c4506dab0",
   "metadata": {},
   "source": [
    "When we want to \"solve\" the air condenser model, we need to pass the known operating parameters to the solving routine. On the air-side of the condenser these are the state of air entering the condenser and the air mass flow rate. On the refrigerant-side of the condenser these are the state of refrigerant entering the condenser and the refrigerant mass flow rate. Solving the condenser model means that the still unknown states of air and refrigerant leaving the condenser are calculated, while the geometrical properties and the size of the heat exchanger core are fixed. Should the solving routine raise an exception, it probably means that the number of rows is too small to fully condense and subcool the refrigerant. It this happens, we can increment the value of parameter `N_rows` until the solving routine returns without raising an exception (here in this case a `CondenserError` is raised if the number of rows is smaller than 3). By modifying the fin density `N_fin` it is also possible to control the degree of refrigerant subcooling. "
   ]
  },
  {
   "cell_type": "code",
   "id": "89d8f53e-7b50-451d-bd4e-ca949b2e0c12",
   "metadata": {
    "scrolled": true,
    "ExecuteTime": {
     "end_time": "2025-01-20T20:23:36.335310Z",
     "start_time": "2025-01-20T20:23:25.922265Z"
    }
   },
   "source": [
    "cnd_air_out_new, cnd_rfg_out_new = condenser.solve(\n",
    "    air_in=cnd_air_in,\n",
    "    air_m_dot=cnd_air_m_dot,\n",
    "    rfg_in=cnd_rfg_in,\n",
    "    rfg_m_dot=rfg_m_dot\n",
    ")"
   ],
   "outputs": [],
   "execution_count": 37
  },
  {
   "cell_type": "markdown",
   "id": "e7f16f85-c878-40b5-95e9-8bce8c1a935a",
   "metadata": {},
   "source": [
    "From the solving routine we get a new state for the refrigerant leaving the condenser. If evaporator, compressor, and condenser are perfectly matched, this new state should be identical to the state we previously used for determining the state of refrigerant entering the evaporator, otherwise the refrigeration cycle would not be repeatable.   "
   ]
  },
  {
   "cell_type": "code",
   "id": "12d4cf80-d679-497c-87ca-a5835f970266",
   "metadata": {
    "ExecuteTime": {
     "end_time": "2025-01-20T20:23:36.424361Z",
     "start_time": "2025-01-20T20:23:36.419356Z"
    }
   },
   "source": [
    "print(f\"temperature of refrigerant leaving condenser = {cnd_rfg_out_new.T.to('degC'):~P.2f}\")\n",
    "print(f\"enthalpy of refrigerant leaving condenser = {cnd_rfg_out_new.h.to('kJ / kg'):~P.3f}\")\n",
    "print(f\"subcooling = {condenser.dT_sc:~P.2f}\")"
   ],
   "outputs": [
    {
     "name": "stdout",
     "output_type": "stream",
     "text": [
      "temperature of refrigerant leaving condenser = 39.06 °C\n",
      "enthalpy of refrigerant leaving condenser = 263.625 kJ/kg\n",
      "subcooling = 12.83 K\n"
     ]
    }
   ],
   "execution_count": 38
  },
  {
   "cell_type": "markdown",
   "id": "89ee488a-bb36-4acd-affa-3e2b300dc40b",
   "metadata": {},
   "source": [
    "We started our calculations with:"
   ]
  },
  {
   "cell_type": "code",
   "id": "142c7ca3-7a2c-4bbb-8c3f-377105811c19",
   "metadata": {
    "ExecuteTime": {
     "end_time": "2025-01-20T20:23:36.510662Z",
     "start_time": "2025-01-20T20:23:36.506303Z"
    }
   },
   "source": [
    "print(f\"temperature of refrigerant leaving condenser = {cnd_rfg_out.T.to('degC'):~P.2f}\")\n",
    "print(f\"enthalpy of refrigerant leaving condenser = {cnd_rfg_out.h.to('kJ / kg'):~P.3f}\")"
   ],
   "outputs": [
    {
     "name": "stdout",
     "output_type": "stream",
     "text": [
      "temperature of refrigerant leaving condenser = 42.00 °C\n",
      "enthalpy of refrigerant leaving condenser = 269.144 kJ/kg\n"
     ]
    }
   ],
   "execution_count": 39
  },
  {
   "cell_type": "markdown",
   "id": "cebffdf4-2e01-4cb8-a7ec-0c6c8a18f0e8",
   "metadata": {},
   "source": [
    "We see that the new state does not coincide with the state we have started with. This means that the actual steady-state performance of our vapor compression machine will be different than what we intended. To balance the vapor compression machine, we can look for the compressor speed for which the selected evaporation temperature and condensing temperature will be achieved under the given external operating conditions (these are the state of air entering the evaporator and the condenser, and the air mass flow rate through evaporator and condenser)."
   ]
  },
  {
   "cell_type": "markdown",
   "id": "7b46b62b-33e1-40ae-86ee-67f03c188650",
   "metadata": {},
   "source": [
    "## Balancing the Refrigeration Machine"
   ]
  },
  {
   "cell_type": "markdown",
   "id": "b35246d9-688d-4ad0-acab-e37992ebd249",
   "metadata": {},
   "source": [
    "The machine is a single-stage vapor compression machine (i.e. having only one stage of refrigerant compression). "
   ]
  },
  {
   "cell_type": "code",
   "id": "5f953a7b-86ff-4ec8-bcb2-b1e8e5478ce8",
   "metadata": {
    "ExecuteTime": {
     "end_time": "2025-01-20T20:23:36.680792Z",
     "start_time": "2025-01-20T20:23:36.677797Z"
    }
   },
   "source": [
    "Machine = SS_VCM  # Single-Stage Vapor Compression Machine"
   ],
   "outputs": [],
   "execution_count": 40
  },
  {
   "cell_type": "markdown",
   "id": "2428ef00-2bbd-4103-81d9-20ec83cddc96",
   "metadata": {},
   "source": [
    "To compose the machine, we use the evaporator, the compressor, and the condenser we designed before. To instantiate the machine model, we also need to specify the degree of refrigerant superheating set on the expansion device, and the minimum and maximum speed of the compressor."
   ]
  },
  {
   "cell_type": "code",
   "id": "870c7e4e-caa1-4bd5-a3eb-07d64a0776d9",
   "metadata": {
    "ExecuteTime": {
     "end_time": "2025-01-20T20:23:36.687875Z",
     "start_time": "2025-01-20T20:23:36.684797Z"
    }
   },
   "source": [
    "machine = Machine(\n",
    "    evaporator, condenser, compressor,\n",
    "    R410A,\n",
    "    dT_sh,\n",
    "    n_cmp_min=Q_(1500, 'rpm'),\n",
    "    n_cmp_max=Q_(6000, 'rpm')\n",
    ")"
   ],
   "outputs": [],
   "execution_count": 41
  },
  {
   "cell_type": "markdown",
   "id": "532aef20-09c5-4731-b8a4-c13a3b2df6af",
   "metadata": {},
   "source": [
    "To balance the machine, we call the method `balance_by_speed` which will return an `Output` object containing the machine performance data under set external operating conditions and for the selected evaporation and condensing temperature of the refrigerant in the circuit."
   ]
  },
  {
   "cell_type": "code",
   "id": "74f726a2-d875-47a9-bec7-cd38aa17652d",
   "metadata": {
    "collapsed": true,
    "jupyter": {
     "outputs_hidden": true
    },
    "scrolled": true,
    "ExecuteTime": {
     "end_time": "2025-01-20T20:26:03.059451Z",
     "start_time": "2025-01-20T20:23:36.769170Z"
    }
   },
   "source": [
    "output = machine.balance_by_speed(\n",
    "    evp_air_in=evp_air_in,\n",
    "    evp_air_m_dot=evp_air_m_dot,\n",
    "    cnd_air_in=cnd_air_in,\n",
    "    cnd_air_m_dot=cnd_air_m_dot,\n",
    "    T_evp=evp_T_rfg,\n",
    "    T_cnd=cnd_T_rfg\n",
    ")"
   ],
   "outputs": [
    {
     "name": "stderr",
     "output_type": "stream",
     "text": [
      "[28144 | hvac.vapor_compression.machine | INFO] Starting speed balancing with...\n",
      "[28144 | hvac.vapor_compression.machine | INFO] evp_air_in: 28.20 °C, 44 %\n",
      "[28144 | hvac.vapor_compression.machine | INFO] evp_air_m_dot: 10762.40 kg/h\n",
      "[28144 | hvac.vapor_compression.machine | INFO] cnd_air_in: 32.00 °C, 37 %\n",
      "[28144 | hvac.vapor_compression.machine | INFO] cnd_air_m_dot: 26965.12 kg/h\n",
      "[28144 | hvac.vapor_compression.machine | INFO] T_evp = 277.15 K\n",
      "[28144 | hvac.vapor_compression.machine | INFO] T_cnd = 325.15 K\n",
      "[28144 | hvac.vapor_compression.machine | INFO] Iteration 1: Try with: 1500.000 rpm\n",
      "[28144 | hvac.vapor_compression.machine | INFO] Iteration 1: Refrigerant mass flow rate from compressor = 314.802 kg/h\n",
      "[28144 | hvac.vapor_compression.machine | INFO] Iteration 1: Refrigerant entering condenser with T = 96.622 °C, P = 32.065 bar\n",
      "[28144 | hvac.vapor_compression.machine | INFO] Iteration 1: Refrigerant leaving condenser with T = 33.294 °C, P = 32.065 bar\n",
      "[28144 | hvac.vapor_compression.machine | INFO] Iteration 1: Refrigerant entering evaporator with T = 3.918 °C, P = 9.049 bar, x = 21.845 %\n",
      "[28144 | hvac.vapor_compression.machine | INFO] Iteration 1: Refrigerant leaving evaporator with T = 14.000 °C, P = 9.049 bar\n",
      "[28144 | hvac.vapor_compression.machine | INFO] Iteration 1: Refrigerant mass flow rate through evaporator = 1151.181 kg/h\n",
      "[28144 | hvac.vapor_compression.machine | INFO] Iteration 1: Deviation between refrigerant mass flow rates = 836.379 kg/h\n",
      "[28144 | hvac.vapor_compression.machine | INFO] Iteration 2: Try with: 6000.000 rpm\n",
      "[28144 | hvac.vapor_compression.machine | INFO] Iteration 2: Refrigerant mass flow rate from compressor = 1306.396 kg/h\n",
      "[28144 | hvac.vapor_compression.machine | INFO] Iteration 2: Refrigerant entering condenser with T = 94.857 °C, P = 32.065 bar\n",
      "[28144 | hvac.vapor_compression.machine | INFO] Iteration 2: Refrigerant leaving condenser with T = 41.867 °C, P = 32.065 bar\n",
      "[28144 | hvac.vapor_compression.machine | INFO] Iteration 2: Refrigerant entering evaporator with T = 3.925 °C, P = 9.049 bar, x = 29.062 %\n",
      "[28144 | hvac.vapor_compression.machine | INFO] Iteration 2: Refrigerant leaving evaporator with T = 14.000 °C, P = 9.049 bar\n",
      "[28144 | hvac.vapor_compression.machine | INFO] Iteration 2: Refrigerant mass flow rate through evaporator = 1290.520 kg/h\n",
      "[28144 | hvac.vapor_compression.machine | INFO] Iteration 2: Deviation between refrigerant mass flow rates = -15.876 kg/h\n",
      "[28144 | hvac.vapor_compression.machine | INFO] Iteration 3: Try with: 5916.174 rpm\n",
      "[28144 | hvac.vapor_compression.machine | INFO] Iteration 3: Refrigerant mass flow rate from compressor = 1288.429 kg/h\n",
      "[28144 | hvac.vapor_compression.machine | INFO] Iteration 3: Refrigerant entering condenser with T = 94.785 °C, P = 32.065 bar\n",
      "[28144 | hvac.vapor_compression.machine | INFO] Iteration 3: Refrigerant leaving condenser with T = 41.389 °C, P = 32.065 bar\n",
      "[28144 | hvac.vapor_compression.machine | INFO] Iteration 3: Refrigerant entering evaporator with T = 3.925 °C, P = 9.049 bar, x = 28.642 %\n",
      "[28144 | hvac.vapor_compression.machine | INFO] Iteration 3: Refrigerant leaving evaporator with T = 14.000 °C, P = 9.049 bar\n",
      "[28144 | hvac.vapor_compression.machine | INFO] Iteration 3: Refrigerant mass flow rate through evaporator = 1281.431 kg/h\n",
      "[28144 | hvac.vapor_compression.machine | INFO] Iteration 3: Deviation between refrigerant mass flow rates = -6.998 kg/h\n",
      "[28144 | hvac.vapor_compression.machine | INFO] Iteration 4: Try with: 5850.643 rpm\n",
      "[28144 | hvac.vapor_compression.machine | INFO] Iteration 4: Refrigerant mass flow rate from compressor = 1274.370 kg/h\n",
      "[28144 | hvac.vapor_compression.machine | INFO] Iteration 4: Refrigerant entering condenser with T = 94.729 °C, P = 32.065 bar\n",
      "[28144 | hvac.vapor_compression.machine | INFO] Iteration 4: Refrigerant leaving condenser with T = 41.010 °C, P = 32.065 bar\n",
      "[28144 | hvac.vapor_compression.machine | INFO] Iteration 4: Refrigerant entering evaporator with T = 3.925 °C, P = 9.049 bar, x = 28.311 %\n",
      "[28144 | hvac.vapor_compression.machine | INFO] Iteration 4: Refrigerant leaving evaporator with T = 14.000 °C, P = 9.049 bar\n",
      "[28144 | hvac.vapor_compression.machine | INFO] Iteration 4: Refrigerant mass flow rate through evaporator = 1274.730 kg/h\n",
      "[28144 | hvac.vapor_compression.machine | INFO] Iteration 4: Deviation between refrigerant mass flow rates = 0.360 kg/h\n",
      "[28144 | hvac.vapor_compression.machine | INFO] Iteration 5: Try with: 5853.848 rpm\n",
      "[28144 | hvac.vapor_compression.machine | INFO] Iteration 5: Refrigerant mass flow rate from compressor = 1275.058 kg/h\n",
      "[28144 | hvac.vapor_compression.machine | INFO] Iteration 5: Refrigerant entering condenser with T = 94.732 °C, P = 32.065 bar\n",
      "[28144 | hvac.vapor_compression.machine | INFO] Iteration 5: Refrigerant leaving condenser with T = 41.029 °C, P = 32.065 bar\n",
      "[28144 | hvac.vapor_compression.machine | INFO] Iteration 5: Refrigerant entering evaporator with T = 3.925 °C, P = 9.049 bar, x = 28.327 %\n",
      "[28144 | hvac.vapor_compression.machine | INFO] Iteration 5: Refrigerant leaving evaporator with T = 14.000 °C, P = 9.049 bar\n",
      "[28144 | hvac.vapor_compression.machine | INFO] Iteration 5: Refrigerant mass flow rate through evaporator = 1275.054 kg/h\n",
      "[28144 | hvac.vapor_compression.machine | INFO] Iteration 5: Deviation between refrigerant mass flow rates = -0.004 kg/h\n",
      "[28144 | hvac.vapor_compression.machine | INFO] Iteration 6: Try with: 5853.798 rpm\n",
      "[28144 | hvac.vapor_compression.machine | INFO] Iteration 6: Refrigerant mass flow rate from compressor = 1275.047 kg/h\n",
      "[28144 | hvac.vapor_compression.machine | INFO] Iteration 6: Refrigerant entering condenser with T = 94.732 °C, P = 32.065 bar\n",
      "[28144 | hvac.vapor_compression.machine | INFO] Iteration 6: Refrigerant leaving condenser with T = 41.028 °C, P = 32.065 bar\n",
      "[28144 | hvac.vapor_compression.machine | INFO] Iteration 6: Refrigerant entering evaporator with T = 3.925 °C, P = 9.049 bar, x = 28.327 %\n",
      "[28144 | hvac.vapor_compression.machine | INFO] Iteration 6: Refrigerant leaving evaporator with T = 14.000 °C, P = 9.049 bar\n",
      "[28144 | hvac.vapor_compression.machine | INFO] Iteration 6: Refrigerant mass flow rate through evaporator = 1275.048 kg/h\n",
      "[28144 | hvac.vapor_compression.machine | INFO] Iteration 6: Deviation between refrigerant mass flow rates = 0.001 kg/h\n",
      "[28144 | hvac.vapor_compression.machine | INFO] Speed balancing finished after 6 iterations with message: converged\n",
      "[28144 | hvac.vapor_compression.machine | INFO] Execution time: 146.28317710000556 seconds\n",
      "[28144 | hvac.vapor_compression.machine | INFO] Error mass balance: absolute error = 0.001 kg/h, relative error = 0.00 %\n",
      "[28144 | hvac.vapor_compression.machine | INFO] Error energy balance: absolute error = 0.030 kW, relative error = 0.05 %\n"
     ]
    }
   ],
   "execution_count": 42
  },
  {
   "cell_type": "code",
   "id": "ab47a518-b3f3-4a47-9b7c-81bd2564adf4",
   "metadata": {
    "ExecuteTime": {
     "end_time": "2025-01-20T20:26:03.337283Z",
     "start_time": "2025-01-20T20:26:03.253535Z"
    }
   },
   "source": [
    "print(output.to_text())"
   ],
   "outputs": [
    {
     "name": "stdout",
     "output_type": "stream",
     "text": [
      "evp_air_m_dot = 10762.400 kg/h\n",
      "cnd_air_m_dot = 26965.115 kg/h\n",
      "evp_air_in = 28.200 °C DB, 10.600 g/kg AH (44 % RH)\n",
      "cnd_air_in = 32.000 °C DB, 11.111 g/kg AH (37 % RH)\n",
      "n_cmp = 5853.798 rpm\n",
      "dT_sh = 10.000 K\n",
      "evp_air_out = 14.829 °C DB, 8.226 g/kg AH (78 % RH)\n",
      "cnd_air_out = 42.122 °C DB, 11.111 g/kg AH (21 % RH)\n",
      "evp_Q_dot = 58.946 kW\n",
      "cnd_Q_dot = 77.858 kW\n",
      "cmp_W_dot = 18.942 kW\n",
      "rfg_m_dot = 1275.047 kg/h\n",
      "COP = 4.110 frac\n",
      "EER = 3.112 frac\n",
      "evp_eps = 0.4843 frac\n",
      "cnd_eps = 0.4094 frac\n",
      "T_evp = 4.000 °C\n",
      "P_evp = 9.049 bar\n",
      "T_cnd = 51.888 °C\n",
      "P_cnd = 32.065 bar\n",
      "dT_sc = 10.859 K\n",
      "suction_gas = 14.000 °C, 433.651 kJ/kg, 9.049 bar\n",
      "discharge_gas = 94.732 °C, 487.133 kJ/kg, 32.065 bar\n",
      "liquid = 41.028 °C, 267.306 kJ/kg, 32.065 bar\n",
      "mixture = 3.925 °C, 267.306 kJ/kg, 9.049 bar, 28 %\n",
      "evp_air_dP = 32.746 Pa\n",
      "cnd_air_dP = 36.486 Pa\n",
      "\n"
     ]
    }
   ],
   "execution_count": 43
  },
  {
   "cell_type": "code",
   "id": "ced6633f-4c42-40e6-95b0-89150f9aaba3",
   "metadata": {
    "ExecuteTime": {
     "end_time": "2025-01-20T20:26:03.343237Z",
     "start_time": "2025-01-20T20:26:03.341289Z"
    }
   },
   "source": [],
   "outputs": [],
   "execution_count": null
  }
 ],
 "metadata": {
  "kernelspec": {
   "display_name": "Python 3 (ipykernel)",
   "language": "python",
   "name": "python3"
  },
  "language_info": {
   "codemirror_mode": {
    "name": "ipython",
    "version": 3
   },
   "file_extension": ".py",
   "mimetype": "text/x-python",
   "name": "python",
   "nbconvert_exporter": "python",
   "pygments_lexer": "ipython3",
   "version": "3.12.6"
  }
 },
 "nbformat": 4,
 "nbformat_minor": 5
}
