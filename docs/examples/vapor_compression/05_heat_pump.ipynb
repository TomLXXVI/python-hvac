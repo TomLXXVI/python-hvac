{
 "cells": [
  {
   "cell_type": "markdown",
   "id": "0d21f86b-8797-4493-8d95-313d538fced1",
   "metadata": {},
   "source": [
    "**Notebook preparation and importing libraries**"
   ]
  },
  {
   "cell_type": "code",
   "execution_count": 1,
   "id": "859c4719-7b99-4e53-a1f3-be6b6eed4f5e",
   "metadata": {
    "tags": []
   },
   "outputs": [],
   "source": [
    "from pathlib import Path\n",
    "from hvac import Quantity\n",
    "from hvac.fluids import Fluid, HumidAir\n",
    "from hvac.vapor_compression import VariableSpeedCompressor\n",
    "from hvac.vapor_compression.machine_bis import SingleStageVaporCompressionMachine\n",
    "from hvac.heat_transfer.heat_exchanger.fin_tube.air_evaporator import PlainFinTubeCounterFlowEvaporator\n",
    "from hvac.heat_transfer.heat_exchanger.fin_tube.air_condenser import PlainFinTubeCounterFlowCondenser"
   ]
  },
  {
   "cell_type": "code",
   "execution_count": 2,
   "id": "fc4a36b0-ed19-4d1d-8021-8272d8625905",
   "metadata": {
    "tags": []
   },
   "outputs": [],
   "source": [
    "from hvac.logging import ModuleLogger\n",
    "logger = ModuleLogger.get_logger('hvac.fluids.fluid')\n",
    "logger.setLevel(ModuleLogger.ERROR)"
   ]
  },
  {
   "cell_type": "code",
   "execution_count": 3,
   "id": "91ec07aa-b0b8-4f66-851a-80a5ea36c335",
   "metadata": {
    "tags": []
   },
   "outputs": [],
   "source": [
    "Q_ = Quantity"
   ]
  },
  {
   "cell_type": "markdown",
   "id": "c7533997-f351-4d78-87ea-7dd7cbe5fc62",
   "metadata": {},
   "source": [
    "# Rating of a Single-Stage Vapor Compression Machine"
   ]
  },
  {
   "cell_type": "markdown",
   "id": "bfde4e46-0da8-470d-b163-98936fd3a4de",
   "metadata": {},
   "source": [
    "A single-stage vapor compression machine is composed of a compressor, an evaporator, a condenser, and an expansion device. Air at a given state and mass flow rate enters the evaporator. Refrigerant in the evaporator absorbs heat from the air stream. At the condenser, air also enters at a given state and mass flow rate. Refrigerant in the condenser rejects heat to this air stream. The expansion device regulates the mass flow rate of refrigerant in order to maintain the set degree of superheat. The compressor (either with fixed or variable speed drive) runs at a given compressor speed. The question is what operating point the vapor compression machine will have under the given operating conditions."
   ]
  },
  {
   "cell_type": "markdown",
   "id": "33d011f5-9092-4526-8811-6ad3b67e9e06",
   "metadata": {},
   "source": [
    "## Configuration of the Vapor Compression Machine"
   ]
  },
  {
   "cell_type": "markdown",
   "id": "76a01c44-beb3-431e-8cf7-e034c48f75c5",
   "metadata": {},
   "source": [
    "To configure a single-stage vapor compression machine, we first need to define compressor, evaporator and condenser."
   ]
  },
  {
   "cell_type": "markdown",
   "id": "3c56a471-afd2-4de2-ab63-4e4b84fafbfe",
   "metadata": {},
   "source": [
    "**Compressor**<br>\n",
    "Based on preliminary calculations (see the first notebook of this series), a variable speed compressor with refrigerant R134a has been selected using the selection software of a manufacturer. The polynomial coefficients of the functions describing the compressor performance quantities were saved in a csv-file.   "
   ]
  },
  {
   "cell_type": "markdown",
   "id": "e92f10f9-0586-4e16-8a6d-24587ad590c7",
   "metadata": {
    "tags": []
   },
   "source": [
    "Define the refrigerant:"
   ]
  },
  {
   "cell_type": "code",
   "execution_count": 4,
   "id": "47679278-e45f-40b6-92ae-f7ce59def9c7",
   "metadata": {
    "tags": []
   },
   "outputs": [],
   "source": [
    "R134a = Fluid('R134a')"
   ]
  },
  {
   "cell_type": "code",
   "execution_count": 5,
   "id": "7da3322f-38f6-432f-9f6d-4294939da157",
   "metadata": {
    "tags": []
   },
   "outputs": [],
   "source": [
    "compressor = VariableSpeedCompressor(\n",
    "    coeff_file=Path(\"compressor_data/VTZ038-G_R134a.csv\"),\n",
    "    refrigerant_type=R134a,\n",
    "    units={'m_dot': 'kg / hr', 'speed': '1 / s'}\n",
    ")"
   ]
  },
  {
   "cell_type": "markdown",
   "id": "fb4832a7-997d-4527-9568-bf5089857e6b",
   "metadata": {},
   "source": [
    "**Evaporator**<br>\n",
    "We will use the same air evaporator defined in notebook no. 2 (plain fin-tube counterflow evaporator)."
   ]
  },
  {
   "cell_type": "code",
   "execution_count": 6,
   "id": "23d00c05-877e-4a68-afcd-14333798c5e6",
   "metadata": {
    "tags": []
   },
   "outputs": [],
   "source": [
    "evaporator = PlainFinTubeCounterFlowEvaporator(\n",
    "    L1=Q_(0.844, 'm'),\n",
    "    L3=Q_(0.211, 'm'),\n",
    "    N_r=6,\n",
    "    S_t=Q_(25.4, 'mm'),\n",
    "    S_l=Q_(22.0, 'mm'),\n",
    "    D_i=Q_(8.422, 'mm'),\n",
    "    D_o=Q_(10.2, 'mm'),\n",
    "    t_f=Q_(0.3302, 'mm'),\n",
    "    N_f=1 / Q_(3.175, 'mm')\n",
    ")"
   ]
  },
  {
   "cell_type": "markdown",
   "id": "7f9fa125-b1a7-45e0-98f9-243487131b3c",
   "metadata": {},
   "source": [
    "**Condenser**<br>\n",
    "We will use the same air condenser defined in notebook no. 3 (plain fin-tube counterflow condenser)."
   ]
  },
  {
   "cell_type": "code",
   "execution_count": 7,
   "id": "03902bd0-44c7-4f19-b01d-9e1fb7a3d4d7",
   "metadata": {
    "tags": []
   },
   "outputs": [],
   "source": [
    "condenser = PlainFinTubeCounterFlowCondenser(\n",
    "    L1=Q_(0.550, 'm'),\n",
    "    L3=Q_(0.275, 'm'),\n",
    "    N_r=10,\n",
    "    S_t=Q_(25.4, 'mm'),\n",
    "    S_l=Q_(22.0, 'mm'),\n",
    "    D_i=Q_(8.422, 'mm'),\n",
    "    D_o=Q_(10.2, 'mm'),\n",
    "    t_f=Q_(0.3302, 'mm'),\n",
    "    N_f=1 / Q_(3.175, 'mm')\n",
    ")"
   ]
  },
  {
   "cell_type": "markdown",
   "id": "e0f7b2cb-6ef6-4ed9-b513-9a77b16d2570",
   "metadata": {},
   "source": [
    "**Vapor compression machine**"
   ]
  },
  {
   "cell_type": "code",
   "execution_count": 8,
   "id": "14e8a650-ea10-493f-b19f-a1a8039c4da8",
   "metadata": {
    "tags": []
   },
   "outputs": [],
   "source": [
    "machine = SingleStageVaporCompressionMachine(evaporator, condenser, compressor, R134a)"
   ]
  },
  {
   "cell_type": "markdown",
   "id": "0fc97010-dfbf-48fe-ba11-098534b6bba8",
   "metadata": {},
   "source": [
    "## Specify Known Operating Conditions"
   ]
  },
  {
   "cell_type": "markdown",
   "id": "2f88ad5c-715c-49e3-9cfd-0979ee3a4e5c",
   "metadata": {},
   "source": [
    "- mass flow rate of air through the evaporator\n",
    "- mass flow rate of air through the condenser\n",
    "- air state at evaporator inlet\n",
    "- air state at condenser inlet\n",
    "- degree of superheat set on the expansion device\n",
    "- compressor speed (only in case of a variable speed compressor)"
   ]
  },
  {
   "cell_type": "code",
   "execution_count": 9,
   "id": "cacba4f2-fc83-4aca-b4d2-72d2d6f76b2c",
   "metadata": {
    "tags": []
   },
   "outputs": [],
   "source": [
    "machine.set_operating_conditions(\n",
    "    evp_m_dot_air=Q_(1500, 'kg / hr'),\n",
    "    cnd_m_dot_air=Q_(2454.820, 'kg / hr'),\n",
    "    evp_air_in=HumidAir(Tdb=Q_(24, 'degC'), RH=Q_(50, 'pct')),\n",
    "    cnd_air_in=HumidAir(Tdb=Q_(35.0, 'degC'), RH=Q_(30, 'pct')),\n",
    "    dT_super=Q_(10, 'K'),\n",
    "    n_cmp=Q_(4000, '1 / min')\n",
    ")"
   ]
  },
  {
   "cell_type": "markdown",
   "id": "fd5bd17d-3c6c-488b-99f7-fc5e712640a7",
   "metadata": {},
   "source": [
    "## Steady-State Operation"
   ]
  },
  {
   "cell_type": "markdown",
   "id": "c045d4d5-a561-42ed-a816-3ead08051d3d",
   "metadata": {},
   "source": [
    "To determine the steady-state operating parameters of the machine an iterative solution technique is used as set out in Chapter 14 of *Stoecker, W. F., & Jones, J. W. (1982). Refrigeration and air conditioning. McGraw-Hill International Editions, Mechanical Technology Series.*"
   ]
  },
  {
   "cell_type": "code",
   "execution_count": 11,
   "id": "189a35cf-c7c6-45f8-865a-94ed2198c1ba",
   "metadata": {
    "tags": []
   },
   "outputs": [
    {
     "name": "stderr",
     "output_type": "stream",
     "text": [
      "[hvac.vapor_compression.machine_bis | DEBUG] iteration 1: try T_evp = 4.000 °C; T_cnd = 55.000 °C\n",
      "[hvac.vapor_compression.machine_bis | DEBUG] iteration 2: try T_evp = 13.154 °C; T_cnd = 53.043 °C\n",
      "[hvac.vapor_compression.machine_bis | DEBUG] iteration 3: try T_evp = 9.644 °C; T_cnd = 51.815 °C\n",
      "[hvac.vapor_compression.machine_bis | DEBUG] iteration 4: try T_evp = 11.269 °C; T_cnd = 50.707 °C\n",
      "[hvac.vapor_compression.machine_bis | DEBUG] iteration 5: try T_evp = 10.369 °C; T_cnd = 50.007 °C\n",
      "[hvac.vapor_compression.machine_bis | DEBUG] iteration 6: try T_evp = 10.755 °C; T_cnd = 49.425 °C\n",
      "[hvac.vapor_compression.machine_bis | DEBUG] iteration 7: try T_evp = 10.498 °C; T_cnd = 49.097 °C\n",
      "[hvac.vapor_compression.machine_bis | DEBUG] iteration 8: try T_evp = 10.589 °C; T_cnd = 48.843 °C\n",
      "[hvac.vapor_compression.machine_bis | DEBUG] iteration 9: try T_evp = 10.514 °C; T_cnd = 48.692 °C\n",
      "[hvac.vapor_compression.machine_bis | DEBUG] iteration 10: try T_evp = 10.534 °C; T_cnd = 48.584 °C\n"
     ]
    },
    {
     "name": "stdout",
     "output_type": "stream",
     "text": [
      "CPU times: total: 49.2 s\n",
      "Wall time: 50.2 s\n"
     ]
    }
   ],
   "source": [
    "%%time \n",
    "machine.simulate()"
   ]
  },
  {
   "cell_type": "markdown",
   "id": "c33f86f3-8925-4078-b8d4-4ba05716e8e8",
   "metadata": {},
   "source": [
    "The operating point of the vapor compression machine is defined by the evaporating and condensing temperature:"
   ]
  },
  {
   "cell_type": "code",
   "execution_count": 12,
   "id": "398a9286-99a3-4021-b7a7-2ddecf2d283d",
   "metadata": {
    "tags": []
   },
   "outputs": [
    {
     "name": "stdout",
     "output_type": "stream",
     "text": [
      "evaporation temperature = 10.51 °C\n",
      "condensing temperature = 48.52 °C\n"
     ]
    }
   ],
   "source": [
    "print(\n",
    "    f\"evaporation temperature = {machine.Te.to('degC'):~P.2f}\\n\"\n",
    "    f\"condensing temperature = {machine.Tc.to('degC'):~P.2f}\"\n",
    ")"
   ]
  },
  {
   "cell_type": "markdown",
   "id": "4ce78880-612a-4a58-ac81-d7c6aaeadacf",
   "metadata": {},
   "source": [
    "Other operating characteristics are:"
   ]
  },
  {
   "cell_type": "code",
   "execution_count": 13,
   "id": "bd5a8645-701f-4dcd-9f03-0dca3153025d",
   "metadata": {
    "tags": []
   },
   "outputs": [
    {
     "name": "stdout",
     "output_type": "stream",
     "text": [
      "heat absorption rate = 5.698 kW\n",
      "heat rejection rate = 7.473 kW\n",
      "compressor power = 1.774 kW\n",
      "COP = 3.21 frac\n",
      "refrigerant mass flow rate = 135.213 kg/h\n"
     ]
    }
   ],
   "source": [
    "print(\n",
    "    f\"heat absorption rate = {machine.Qc_dot.to('kW'):~P.3f}\\n\"\n",
    "    f\"heat rejection rate = {machine.Qh_dot.to('kW'):~P.3f}\\n\"\n",
    "    f\"compressor power = {machine.Wc_dot.to('kW'):~P.3f}\\n\"\n",
    "    f\"COP = {machine.COP.to('frac'):~P.2f}\\n\"\n",
    "    f\"refrigerant mass flow rate = {machine.m_dot.to('kg / hr'):~P.3f}\"\n",
    ")"
   ]
  },
  {
   "cell_type": "markdown",
   "id": "7ca91c01-8b60-49fd-b563-a566cee28d1c",
   "metadata": {},
   "source": [
    "The state of air at the outlet of evaporator and condenser:"
   ]
  },
  {
   "cell_type": "code",
   "execution_count": 14,
   "id": "54819cba-4169-410b-a12d-d53a97db2085",
   "metadata": {
    "tags": []
   },
   "outputs": [
    {
     "name": "stdout",
     "output_type": "stream",
     "text": [
      "evaporator air out = 13.23 °C DB, 87.4 % RH\n",
      "condenser air out = 45.80 °C DB, 16.9 % RH\n"
     ]
    }
   ],
   "source": [
    "print(\n",
    "    f\"evaporator air out = {evaporator.air_out.Tdb.to('degC'):~P.2f} DB, \"\n",
    "    f\"{evaporator.air_out.RH.to('pct'):~P.1f} RH\\n\"\n",
    "    f\"condenser air out = {condenser.air_out.Tdb.to('degC'):~P.2f} DB, \"\n",
    "    f\"{condenser.air_out.RH.to('pct'):~P.1f} RH\"\n",
    ")"
   ]
  },
  {
   "cell_type": "markdown",
   "id": "a749c914-0b42-466b-8fb2-439a258e91b3",
   "metadata": {},
   "source": [
    "The different states of refrigerant along the vapor compression cycle:"
   ]
  },
  {
   "cell_type": "code",
   "execution_count": 15,
   "id": "3843a9a2-6cb7-48f4-b16d-d1678fc5466e",
   "metadata": {
    "tags": []
   },
   "outputs": [
    {
     "name": "stdout",
     "output_type": "stream",
     "text": [
      "suction gas temperature = 20.51 °C\n",
      "discharge gas temperature = 82.52 °C\n",
      "liquid temperature = 43.37 °C\n",
      "liquid/vapor mixture temperature = 10.51 °C\n",
      "subcooling degree = 5.15 K\n"
     ]
    }
   ],
   "source": [
    "print(\n",
    "    f\"suction gas temperature = {machine.suction_gas.T.to('degC'):~P.2f}\\n\"\n",
    "    f\"discharge gas temperature = {machine.discharge_gas.T.to('degC'):~P.2f}\\n\"\n",
    "    f\"liquid temperature = {machine.liquid.T.to('degC'):~P.2f}\\n\"\n",
    "    f\"liquid/vapor mixture temperature = {machine.mixture.T.to('degC'):~P.2f}\\n\"\n",
    "    f\"subcooling degree = {machine.sub_cooling.to('K'):~P.2f}\"\n",
    ")"
   ]
  },
  {
   "cell_type": "markdown",
   "id": "98e8ba25-571d-4653-a559-011b75a7258d",
   "metadata": {},
   "source": [
    "Air-side pressure drop across evaporator and condenser:"
   ]
  },
  {
   "cell_type": "code",
   "execution_count": 16,
   "id": "47ed8a5f-ded1-4d25-985e-fa21b830929c",
   "metadata": {
    "tags": []
   },
   "outputs": [
    {
     "name": "stdout",
     "output_type": "stream",
     "text": [
      "evaporator air-side pressure drop = 45.6 Pa\n",
      "condenser air-side pressure drop = 268.7 Pa\n"
     ]
    }
   ],
   "source": [
    "print(\n",
    "    f\"evaporator air-side pressure drop = {evaporator.dP_air.to('Pa'):~P.1f}\\n\"\n",
    "    f\"condenser air-side pressure drop = {condenser.dP_air.to('Pa'):~P.1f}\"\n",
    ")"
   ]
  },
  {
   "cell_type": "code",
   "execution_count": null,
   "id": "cc187216-ef21-4a62-ae6b-adbe81f893f5",
   "metadata": {},
   "outputs": [],
   "source": []
  }
 ],
 "metadata": {
  "kernelspec": {
   "display_name": "Python 3 (ipykernel)",
   "language": "python",
   "name": "python3"
  },
  "language_info": {
   "codemirror_mode": {
    "name": "ipython",
    "version": 3
   },
   "file_extension": ".py",
   "mimetype": "text/x-python",
   "name": "python",
   "nbconvert_exporter": "python",
   "pygments_lexer": "ipython3",
   "version": "3.10.4"
  }
 },
 "nbformat": 4,
 "nbformat_minor": 5
}
