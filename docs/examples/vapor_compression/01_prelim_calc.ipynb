{
 "cells": [
  {
   "cell_type": "markdown",
   "id": "c2160751-2698-412e-94a8-1b3f374f26e5",
   "metadata": {},
   "source": [
    "**Notebook preparation and importing libraries**"
   ]
  },
  {
   "cell_type": "code",
   "execution_count": 1,
   "id": "e618edb3-88e4-4e32-92fa-a9b0aa33d995",
   "metadata": {},
   "outputs": [],
   "source": [
    "from deps import load_local_libraries\n",
    "load_local_libraries()"
   ]
  },
  {
   "cell_type": "code",
   "execution_count": 2,
   "id": "89bed48e-3502-482c-b1e1-2a824921b0c8",
   "metadata": {
    "tags": []
   },
   "outputs": [],
   "source": [
    "from hvac import Quantity\n",
    "from hvac.fluids import HumidAir, Fluid, CP_HUMID_AIR\n",
    "from hvac.logging import ModuleLogger"
   ]
  },
  {
   "cell_type": "code",
   "execution_count": 3,
   "id": "8c0a09d4-0739-4a85-9247-64954e26218a",
   "metadata": {
    "tags": []
   },
   "outputs": [],
   "source": [
    "logger = ModuleLogger.get_logger('hvac.fluids.fluid')\n",
    "logger.setLevel(ModuleLogger.ERROR)"
   ]
  },
  {
   "cell_type": "code",
   "execution_count": 4,
   "id": "bdb7ca97-24f7-40ce-ad78-4277f0a7dffd",
   "metadata": {
    "tags": []
   },
   "outputs": [],
   "source": [
    "Q_ = Quantity"
   ]
  },
  {
   "cell_type": "markdown",
   "id": "2dda86f7-4c43-4581-a0c9-32e9fcf6205f",
   "metadata": {
    "tags": []
   },
   "source": [
    "# Preliminary heat exchanger calculations"
   ]
  },
  {
   "cell_type": "markdown",
   "id": "440f689f-1785-468e-9b38-e9e19f91fc7c",
   "metadata": {},
   "source": [
    "- An air stream must be cooled from 24 °C (RH 50%) to 13 °C. The mass flow rate of air is 1500 kg/hr.\n",
    "- The refrigerant is R134a.\n",
    "- Outdoor air temperature is 35 °C."
   ]
  },
  {
   "cell_type": "markdown",
   "id": "851f9583-bdd5-4f02-a997-112199b3cb26",
   "metadata": {},
   "source": [
    "Define the type of refrigerant:"
   ]
  },
  {
   "cell_type": "code",
   "execution_count": 5,
   "id": "ec2f6dc2-1c61-44e5-b4f9-d41b11a643ae",
   "metadata": {
    "tags": []
   },
   "outputs": [],
   "source": [
    "R134a = Fluid('R134a')"
   ]
  },
  {
   "cell_type": "markdown",
   "id": "cc8a9ccb-9339-49ef-88ba-1cca983249a3",
   "metadata": {},
   "source": [
    "Define the air state at the entrance and exit of the evaporator:"
   ]
  },
  {
   "cell_type": "code",
   "execution_count": 6,
   "id": "ab566886-617f-4db7-b9ce-01d339de5c7a",
   "metadata": {
    "tags": []
   },
   "outputs": [],
   "source": [
    "evp_air_in = HumidAir(Tdb=Q_(24, 'degC'), RH=Q_(50, 'pct'))\n",
    "evp_air_out = HumidAir(Tdb=Q_(13, 'degC'), RH=Q_(90, 'pct'))"
   ]
  },
  {
   "cell_type": "markdown",
   "id": "679946da-7108-45da-a042-d898e3b57511",
   "metadata": {},
   "source": [
    "It is assumed that air is close to saturation at the exit of the evaporator."
   ]
  },
  {
   "cell_type": "markdown",
   "id": "1be22955-6c1e-434b-aa2e-9590d55e583b",
   "metadata": {},
   "source": [
    "Set the mass flow rate of air through the evaporator:"
   ]
  },
  {
   "cell_type": "code",
   "execution_count": 7,
   "id": "02ac1503-da01-4e04-ab8f-c667a73c5384",
   "metadata": {
    "tags": []
   },
   "outputs": [],
   "source": [
    "evp_m_dot_air = Q_(1500, 'kg/hr')"
   ]
  },
  {
   "cell_type": "markdown",
   "id": "62b1006d-e017-4977-8872-278459145dff",
   "metadata": {},
   "source": [
    "## Heat absorption rate"
   ]
  },
  {
   "cell_type": "markdown",
   "id": "b5a6ed3b-0e39-48e6-bca7-e70898b2698f",
   "metadata": {},
   "source": [
    "The heat rate to be extracted from the air stream can now be calculated:"
   ]
  },
  {
   "cell_type": "code",
   "execution_count": 8,
   "id": "bf4ef1cc-161b-44b0-86df-1ef364e18e32",
   "metadata": {
    "tags": []
   },
   "outputs": [
    {
     "name": "stdout",
     "output_type": "stream",
     "text": [
      "5.657 kW\n"
     ]
    }
   ],
   "source": [
    "evp_Q = evp_m_dot_air * (evp_air_in.h - evp_air_out.h)\n",
    "print(f\"{evp_Q.to('kW'):~P.3f}\")"
   ]
  },
  {
   "cell_type": "markdown",
   "id": "49a48fcf-cd20-4337-a958-aa098bae7e2b",
   "metadata": {},
   "source": [
    "## Evaporation temperature and pressure"
   ]
  },
  {
   "cell_type": "markdown",
   "id": "0fc3363d-8790-49ac-abe5-e8c5dd8da376",
   "metadata": {},
   "source": [
    "Based on a certain heat transfer effectiveness of the evaporator, an estimation of the refrigerant evaporating temperature can be made: "
   ]
  },
  {
   "cell_type": "code",
   "execution_count": 9,
   "id": "d0ca3471-f857-4c8b-b602-4ca74d6a4889",
   "metadata": {
    "tags": []
   },
   "outputs": [],
   "source": [
    "evp_eps = 0.8"
   ]
  },
  {
   "cell_type": "markdown",
   "id": "40b4c5aa-c0c1-4be5-b49b-ad4ef18f5481",
   "metadata": {},
   "source": [
    "The theoretically maximum heat transfer in that case would be:"
   ]
  },
  {
   "cell_type": "code",
   "execution_count": 10,
   "id": "06f39b99-5b67-4e0e-ab44-e7fe10a1a8f0",
   "metadata": {
    "tags": []
   },
   "outputs": [
    {
     "name": "stdout",
     "output_type": "stream",
     "text": [
      "7.072 kW\n"
     ]
    }
   ],
   "source": [
    "evp_Q_max = evp_Q / evp_eps\n",
    "print(f\"{evp_Q_max.to('kW'):~P.3f}\")"
   ]
  },
  {
   "cell_type": "markdown",
   "id": "263757aa-75b9-4ced-8be0-924cd3994685",
   "metadata": {},
   "source": [
    "From the definition of maximum possible heat transfer rate in case of a wet surface, the enthalpy of saturated humid air having a temperature equal to this of the entering refrigerant can be determined:"
   ]
  },
  {
   "cell_type": "code",
   "execution_count": 11,
   "id": "862dc32c-4f87-4b86-8621-83b38f486012",
   "metadata": {
    "tags": []
   },
   "outputs": [],
   "source": [
    "evp_h_air_sat_out = evp_air_in.h - evp_Q_max / evp_m_dot_air"
   ]
  },
  {
   "cell_type": "markdown",
   "id": "7400fb55-dad9-4987-ac96-76de30882b5c",
   "metadata": {},
   "source": [
    "The complete state of this saturated air can then be determined with:"
   ]
  },
  {
   "cell_type": "code",
   "execution_count": 12,
   "id": "ff241246-3ab5-4e63-a99d-fac9a7777f7c",
   "metadata": {
    "tags": []
   },
   "outputs": [],
   "source": [
    "evp_air_sat_out = HumidAir(h=evp_h_air_sat_out, RH=Q_(100, 'pct'))"
   ]
  },
  {
   "cell_type": "markdown",
   "id": "34352aa8-3153-4c0b-aa88-c4dca8b37270",
   "metadata": {},
   "source": [
    "The dry-bulb temperature of this state equals the temperature of the entering refrigerant:"
   ]
  },
  {
   "cell_type": "code",
   "execution_count": 13,
   "id": "fb6182d8-c826-4896-aaa7-8ba378111631",
   "metadata": {
    "tags": []
   },
   "outputs": [
    {
     "name": "stdout",
     "output_type": "stream",
     "text": [
      "10.67 °C\n"
     ]
    }
   ],
   "source": [
    "evp_T_rfg_in = evp_air_sat_out.Tdb\n",
    "print(f\"{evp_T_rfg_in.to('degC'):~P.2f}\")"
   ]
  },
  {
   "cell_type": "markdown",
   "id": "1c6fac1f-94cf-4620-a195-7a14ca5077e8",
   "metadata": {},
   "source": [
    "Refrigerant enters the evaporator as a saturated liquid/vapor mixture. During the boiling process the temperature and pressure of the refrigerant remain constant. We define the saturated liquid state of the refrigerant as:"
   ]
  },
  {
   "cell_type": "code",
   "execution_count": 14,
   "id": "1c61f443-1541-4803-960e-dae075b8ade8",
   "metadata": {
    "tags": []
   },
   "outputs": [],
   "source": [
    "evp_rfg_sat_liq = R134a(T=evp_T_rfg_in, x=Q_(0.0, 'pct'))"
   ]
  },
  {
   "cell_type": "markdown",
   "id": "8002bd4f-4b1d-45a6-8729-8189020a9839",
   "metadata": {},
   "source": [
    "The saturation pressure is also called the evaporator or evaporation pressure:"
   ]
  },
  {
   "cell_type": "code",
   "execution_count": 15,
   "id": "89cbedd2-b5ee-42fa-8973-4059fed42020",
   "metadata": {
    "tags": []
   },
   "outputs": [
    {
     "name": "stdout",
     "output_type": "stream",
     "text": [
      "4.2 bar\n"
     ]
    }
   ],
   "source": [
    "print(f\"{evp_rfg_sat_liq.P.to('bar'):~P.1f}\")"
   ]
  },
  {
   "cell_type": "markdown",
   "id": "081bb1b8-fe6a-4ce5-82f2-c21e274ad06b",
   "metadata": {},
   "source": [
    "## Condensation temperature and pressure"
   ]
  },
  {
   "cell_type": "markdown",
   "id": "245ec265-2cc4-4528-9693-ce89403570dd",
   "metadata": {},
   "source": [
    "The outdoor air temperature at the entrance of the condenser is known:"
   ]
  },
  {
   "cell_type": "code",
   "execution_count": 16,
   "id": "1862ca7b-7c19-437f-92b4-941d184688a6",
   "metadata": {
    "tags": []
   },
   "outputs": [],
   "source": [
    "T_outdoor = Q_(35, 'degC')"
   ]
  },
  {
   "cell_type": "markdown",
   "id": "e6ca8b77-0de9-43bd-9f21-03d2b78607c4",
   "metadata": {},
   "source": [
    "We assume a temperature difference between the outdoor air and the condenser saturation temperature: "
   ]
  },
  {
   "cell_type": "code",
   "execution_count": 17,
   "id": "f90314da-4497-4c13-bf93-295762ad23b6",
   "metadata": {
    "tags": []
   },
   "outputs": [],
   "source": [
    "dT_cnd = Q_(20, 'K')"
   ]
  },
  {
   "cell_type": "markdown",
   "id": "33fa8a30-6f9f-4b20-b373-2659631868b6",
   "metadata": {},
   "source": [
    "The condenser saturation temperature is then:"
   ]
  },
  {
   "cell_type": "code",
   "execution_count": 18,
   "id": "02cad92c-84b8-4225-83fb-bca2494b6c08",
   "metadata": {},
   "outputs": [
    {
     "name": "stdout",
     "output_type": "stream",
     "text": [
      "55.00 °C\n"
     ]
    }
   ],
   "source": [
    "cnd_T_rfg_sat = T_outdoor.to('K') + dT_cnd\n",
    "print(f\"{cnd_T_rfg_sat.to('degC'):~P.2f}\")"
   ]
  },
  {
   "cell_type": "markdown",
   "id": "e8c21b9b-99e6-45d6-8b19-10c0b4111900",
   "metadata": {},
   "source": [
    "The state of the saturated refrigerant liquid in the condenser can now be defined:"
   ]
  },
  {
   "cell_type": "code",
   "execution_count": 19,
   "id": "6b395fff-2a14-4146-a9e8-93af0653892f",
   "metadata": {
    "tags": []
   },
   "outputs": [],
   "source": [
    "cnd_rfg_sat_liq = R134a(T=cnd_T_rfg_sat, x=Q_(0.0, 'frac'))"
   ]
  },
  {
   "cell_type": "markdown",
   "id": "f166a7cd-c959-41ae-90ce-524d909fa121",
   "metadata": {
    "tags": []
   },
   "source": [
    "The condenser pressure is: "
   ]
  },
  {
   "cell_type": "code",
   "execution_count": 20,
   "id": "ceac5c79-5bcb-42f1-945c-f8efb21853ee",
   "metadata": {
    "tags": []
   },
   "outputs": [
    {
     "name": "stdout",
     "output_type": "stream",
     "text": [
      "14.9 bar\n"
     ]
    }
   ],
   "source": [
    "print(f\"{cnd_rfg_sat_liq.P.to('bar'):~P.1f}\")"
   ]
  },
  {
   "cell_type": "markdown",
   "id": "3b65d6ce-d4df-4311-b8da-c9e51440f67b",
   "metadata": {},
   "source": [
    "## Mass flow rate of refrigerant"
   ]
  },
  {
   "cell_type": "markdown",
   "id": "4e09ff31-ceb5-4a7e-ab40-dc7e2b6c4051",
   "metadata": {},
   "source": [
    "We want that the refrigerant leaves the condenser as a subcooled liquid (to get a good refrigeration effect) and we want that it leaves the evaporator as a superheated vapor (to avoid liquid droplets in the compressor). We select the degree of subcooling and superheat:"
   ]
  },
  {
   "cell_type": "code",
   "execution_count": 21,
   "id": "26e6e10a-2d93-4247-8139-41400e49e5ca",
   "metadata": {
    "tags": []
   },
   "outputs": [],
   "source": [
    "dT_sc, dT_sh = Q_(10, 'K'), Q_(10, 'K')"
   ]
  },
  {
   "cell_type": "markdown",
   "id": "7480e5cf-f8f5-4dbe-8bac-b530ab991485",
   "metadata": {},
   "source": [
    "With these we can define the state of refrigerant leaving the condenser, entering the evaporator, and leaving the evaporator:"
   ]
  },
  {
   "cell_type": "code",
   "execution_count": 22,
   "id": "7a39a32b-a666-4de0-9a47-9ccef2ea38e8",
   "metadata": {
    "tags": []
   },
   "outputs": [],
   "source": [
    "cnd_rfg_out = R134a(T=cnd_rfg_sat_liq.T - dT_sc, P=cnd_rfg_sat_liq.P)\n",
    "evp_rfg_in = R134a(h=cnd_rfg_out.h, P=evp_rfg_sat_liq.P)\n",
    "evp_rfg_out = R134a(T=evp_rfg_sat_liq.T + dT_sh, P=evp_rfg_sat_liq.P)"
   ]
  },
  {
   "cell_type": "markdown",
   "id": "55ea7b8d-9b13-4f69-bdd7-4d6de142ea11",
   "metadata": {},
   "source": [
    "Notice that the enthalpy of refrigerant entering the evaporator is taken to be equal to the enthalpy of refrigerant leaving the condenser. This is because the expansion process between the outlet of the condenser and the inlet of the evaporator can be considered as an isenthalpic process."
   ]
  },
  {
   "cell_type": "markdown",
   "id": "770db327-2073-4995-860f-452ff938d35e",
   "metadata": {},
   "source": [
    "Knowing the evaporator heat absorption rate and the inlet and outlet states of refrigerant at the evaporator, the mass flow rate of refrigerant can be determined:"
   ]
  },
  {
   "cell_type": "code",
   "execution_count": 23,
   "id": "48a90eb4-9c68-4e69-aa34-cea155455e4c",
   "metadata": {
    "tags": []
   },
   "outputs": [
    {
     "name": "stdout",
     "output_type": "stream",
     "text": [
      "135.570 kg/h\n"
     ]
    }
   ],
   "source": [
    "m_dot_rfg = evp_Q / (evp_rfg_out.h - evp_rfg_in.h)\n",
    "print(f\"{m_dot_rfg.to('kg / hr'):~P.3f}\")"
   ]
  },
  {
   "cell_type": "markdown",
   "id": "80ec7f99-bbb3-4667-9b5d-8b8d99708be6",
   "metadata": {},
   "source": [
    "## State of refrigerant entering the condenser"
   ]
  },
  {
   "cell_type": "markdown",
   "id": "2f18edee-5cae-4607-b72b-4ff9217d0053",
   "metadata": {},
   "source": [
    "If we assume isentropic compression of refrigerant, the state of refrigerant entering the condenser can be determined with:"
   ]
  },
  {
   "cell_type": "code",
   "execution_count": 24,
   "id": "27025017-b4af-449a-bbf6-c82d69855438",
   "metadata": {
    "tags": []
   },
   "outputs": [],
   "source": [
    "cnd_rfg_in = R134a(P=cnd_rfg_sat_liq.P, s=evp_rfg_out.s)"
   ]
  },
  {
   "cell_type": "markdown",
   "id": "2351e86d-4cba-4d76-97fb-946215b27dc5",
   "metadata": {},
   "source": [
    "The temperature of refrigerant entering the condenser in case of isentropic compression would be equal to:"
   ]
  },
  {
   "cell_type": "code",
   "execution_count": 25,
   "id": "29b8053c-27db-4ce7-8289-4e88ed6e7dc2",
   "metadata": {
    "tags": []
   },
   "outputs": [
    {
     "name": "stdout",
     "output_type": "stream",
     "text": [
      "68.39 °C\n"
     ]
    }
   ],
   "source": [
    "print(f\"{cnd_rfg_in.T.to('degC'):~P.2f}\")"
   ]
  },
  {
   "cell_type": "markdown",
   "id": "e0c64b19-7952-48e8-9d63-28c59716a7a2",
   "metadata": {},
   "source": [
    "In reality the compression process is not perfectly efficient. We assume the compression efficiency (i.e. the ratio of isentropic to actual work) to be: "
   ]
  },
  {
   "cell_type": "code",
   "execution_count": 26,
   "id": "fb5909b5-bf0c-48fa-9cf8-3262bb92cf04",
   "metadata": {
    "tags": []
   },
   "outputs": [],
   "source": [
    "eta_cmp = 0.80"
   ]
  },
  {
   "cell_type": "markdown",
   "id": "06eca7e7-0d30-44cf-8595-b4d660e8d1ee",
   "metadata": {},
   "source": [
    "The isentropic compression work rate can be determined with:"
   ]
  },
  {
   "cell_type": "code",
   "execution_count": 27,
   "id": "eabbc924-109c-4389-a0e4-858db50e4f9a",
   "metadata": {
    "tags": []
   },
   "outputs": [
    {
     "name": "stdout",
     "output_type": "stream",
     "text": [
      "1.038 kW\n"
     ]
    }
   ],
   "source": [
    "W_cmp_is = m_dot_rfg * (cnd_rfg_in.h - evp_rfg_out.h)\n",
    "print(f\"{W_cmp_is.to('kW'):~P.3f}\")"
   ]
  },
  {
   "cell_type": "markdown",
   "id": "8e9de147-2077-4526-9b28-3460c53e6796",
   "metadata": {},
   "source": [
    "The actual (irreversible adiabatic) compression work rate then follows from:"
   ]
  },
  {
   "cell_type": "code",
   "execution_count": 28,
   "id": "509a90e4-d2a8-43b7-83e7-ec297663b38c",
   "metadata": {
    "tags": []
   },
   "outputs": [
    {
     "name": "stdout",
     "output_type": "stream",
     "text": [
      "1.298 kW\n"
     ]
    }
   ],
   "source": [
    "W_cmp_act = W_cmp_is / eta_cmp\n",
    "print(f\"{W_cmp_act.to('kW'):~P.3f}\")"
   ]
  },
  {
   "cell_type": "markdown",
   "id": "47aca207-1590-4947-a636-ad7d8590bdd3",
   "metadata": {},
   "source": [
    "The enthalpy of refrigerant at the inlet of the condenser:"
   ]
  },
  {
   "cell_type": "code",
   "execution_count": 29,
   "id": "02d5c7ed-1fbc-4dcc-9766-dc83b0b701c8",
   "metadata": {
    "tags": []
   },
   "outputs": [],
   "source": [
    "cnd_h_rfg_in = evp_rfg_out.h + W_cmp_act / m_dot_rfg"
   ]
  },
  {
   "cell_type": "markdown",
   "id": "22bd51c0-5bdb-476c-931a-f9e0a6a21a9c",
   "metadata": {},
   "source": [
    "Knowing the enthalpy and pressure, the state of refrigerant at the condenser inlet can be determined:"
   ]
  },
  {
   "cell_type": "code",
   "execution_count": 30,
   "id": "c49dfee3-3e01-4a60-be8c-2b703c6fd858",
   "metadata": {
    "tags": []
   },
   "outputs": [],
   "source": [
    "cnd_rfg_in = R134a(P=cnd_rfg_sat_liq.P, h=cnd_h_rfg_in)"
   ]
  },
  {
   "cell_type": "markdown",
   "id": "945a9b33-a797-4655-8e9b-1f79483be85c",
   "metadata": {},
   "source": [
    "The temperature of refrigerant entering the condenser in case of actual compression is equal to:"
   ]
  },
  {
   "cell_type": "code",
   "execution_count": 31,
   "id": "c816f03e-f330-4a45-bf8c-bc0e5d910cab",
   "metadata": {
    "tags": []
   },
   "outputs": [
    {
     "name": "stdout",
     "output_type": "stream",
     "text": [
      "74.32 °C\n"
     ]
    }
   ],
   "source": [
    "print(f\"{cnd_rfg_in.T.to('degC'):~P.2f}\")"
   ]
  },
  {
   "cell_type": "markdown",
   "id": "05d01b32-9260-4262-a766-d3e57864a134",
   "metadata": {},
   "source": [
    "## Mass flow rate of condenser air"
   ]
  },
  {
   "cell_type": "markdown",
   "id": "32c47f1d-bab4-4e82-80ea-e5042c1e70d6",
   "metadata": {},
   "source": [
    "The heat rejection rate of the condenser can be determined:"
   ]
  },
  {
   "cell_type": "code",
   "execution_count": 32,
   "id": "7c8951bd-5f9d-4e14-9b9d-3cba04e6fce2",
   "metadata": {
    "tags": []
   },
   "outputs": [
    {
     "name": "stdout",
     "output_type": "stream",
     "text": [
      "6.955 kW\n"
     ]
    }
   ],
   "source": [
    "cnd_Q = evp_Q + W_cmp_act\n",
    "print(f\"{cnd_Q.to('kW'):~P.3f}\")"
   ]
  },
  {
   "cell_type": "markdown",
   "id": "c791767a-c96d-4f27-8551-17473796d69a",
   "metadata": {},
   "source": [
    "We assume the temperature rise of air between the inlet and outlet of the condenser to be: "
   ]
  },
  {
   "cell_type": "code",
   "execution_count": 33,
   "id": "c198de36-0a32-4266-a1d7-1d443d35b4e3",
   "metadata": {
    "tags": []
   },
   "outputs": [],
   "source": [
    "cnd_dT_air = Q_(10, 'K')"
   ]
  },
  {
   "cell_type": "markdown",
   "id": "39930750-746e-4ee0-ad39-0214e69b73f1",
   "metadata": {},
   "source": [
    "The air inlet temperature is known and the condensation temperature was selected based on this inlet air temperature. We choose the temperature rise of air, such that the air outlet temperature is somewhere halfway between the air inlet and condensation temperature."
   ]
  },
  {
   "cell_type": "code",
   "execution_count": 34,
   "id": "3684e3b9-47f3-4646-b63d-fb69c017de7f",
   "metadata": {
    "tags": []
   },
   "outputs": [],
   "source": [
    "cnd_T_air_out = T_outdoor.to('K') + cnd_dT_air"
   ]
  },
  {
   "cell_type": "markdown",
   "id": "84ce881f-4e6c-4a10-9002-925e3f4d3dac",
   "metadata": {},
   "source": [
    "Now the mass flow rate of condenser air can be determined with:"
   ]
  },
  {
   "cell_type": "code",
   "execution_count": 35,
   "id": "1ccf6337-cc6b-4aaa-bd8b-48ab7d89f4aa",
   "metadata": {
    "tags": []
   },
   "outputs": [
    {
     "name": "stdout",
     "output_type": "stream",
     "text": [
      "2454.819572123505 kilogram / hour\n"
     ]
    }
   ],
   "source": [
    "cnd_m_dot_air = cnd_Q / (CP_HUMID_AIR * cnd_dT_air)\n",
    "print(cnd_m_dot_air.to('kg / hr'))"
   ]
  },
  {
   "cell_type": "markdown",
   "id": "a13cbd98-5300-45f5-b32b-d3164ec5a3d8",
   "metadata": {},
   "source": [
    "## Frontal area of the evaporator"
   ]
  },
  {
   "cell_type": "markdown",
   "id": "6bffee6a-02bf-4a94-a881-f5343ec63699",
   "metadata": {},
   "source": [
    "We select the face velocity of air:"
   ]
  },
  {
   "cell_type": "code",
   "execution_count": 36,
   "id": "2e15359c-7792-405a-a408-0379c94b5438",
   "metadata": {
    "tags": []
   },
   "outputs": [],
   "source": [
    "evp_v_fa = Q_(2, 'm / s')"
   ]
  },
  {
   "cell_type": "markdown",
   "id": "2fe890d4-2b15-448d-b983-5348ccfb74d3",
   "metadata": {},
   "source": [
    "The volume flow rate of air can be determined with:"
   ]
  },
  {
   "cell_type": "code",
   "execution_count": 37,
   "id": "07de3a9c-25e4-437b-b4da-13fc3c3a88ab",
   "metadata": {
    "tags": []
   },
   "outputs": [
    {
     "name": "stdout",
     "output_type": "stream",
     "text": [
      "1281.170 m³/h\n"
     ]
    }
   ],
   "source": [
    "evp_V_dot_air = evp_m_dot_air / evp_air_in.rho\n",
    "print(f\"{evp_V_dot_air.to('m ** 3 / hr'):~P.3f}\")"
   ]
  },
  {
   "cell_type": "markdown",
   "id": "7ee0d3eb-ec22-4239-b03d-e0f30b23a97d",
   "metadata": {},
   "source": [
    "The frontal area of the evaporator follows from:"
   ]
  },
  {
   "cell_type": "code",
   "execution_count": 38,
   "id": "269b6249-b0ed-41ac-acb6-8affdc223fc6",
   "metadata": {
    "tags": []
   },
   "outputs": [
    {
     "name": "stdout",
     "output_type": "stream",
     "text": [
      "0.178 m²\n"
     ]
    }
   ],
   "source": [
    "evp_A_fr = evp_V_dot_air / evp_v_fa\n",
    "print(f\"{evp_A_fr.to('m ** 2'):~P.3f}\")"
   ]
  },
  {
   "cell_type": "markdown",
   "id": "cadc89f6-69fc-431f-9eeb-d635eae66b4f",
   "metadata": {},
   "source": [
    "We choose an aspect ratio for the frontal area (ratio of height L3 to width L1):"
   ]
  },
  {
   "cell_type": "code",
   "execution_count": 39,
   "id": "f1cdf578-2047-40fe-8086-e1e5f204b704",
   "metadata": {
    "tags": []
   },
   "outputs": [],
   "source": [
    "evp_AR_A_fr = 1 / 4"
   ]
  },
  {
   "cell_type": "markdown",
   "id": "25f04565-7ae6-41b9-b0d3-c55c886e0e79",
   "metadata": {},
   "source": [
    "The width of the frontal area can then be derived from `evp_A_fr = L1 * L3 = L1 * L1 * evp_AR_A_fr`:"
   ]
  },
  {
   "cell_type": "code",
   "execution_count": 40,
   "id": "2bba5185-9a6f-44a3-9da4-f55749ad2e8e",
   "metadata": {
    "tags": []
   },
   "outputs": [
    {
     "name": "stdout",
     "output_type": "stream",
     "text": [
      "844 mm\n"
     ]
    }
   ],
   "source": [
    "evp_L1 = (evp_A_fr / evp_AR_A_fr) ** 0.5\n",
    "print(f\"{evp_L1.to('mm'):~P.0f}\")"
   ]
  },
  {
   "cell_type": "markdown",
   "id": "fed96497-97d1-4507-868d-2a0d4d466c68",
   "metadata": {},
   "source": [
    "The height of the frontal area:"
   ]
  },
  {
   "cell_type": "code",
   "execution_count": 41,
   "id": "9633c138-8159-4efc-b5e0-855ab1d73d92",
   "metadata": {
    "tags": []
   },
   "outputs": [
    {
     "name": "stdout",
     "output_type": "stream",
     "text": [
      "211 mm\n"
     ]
    }
   ],
   "source": [
    "evp_L3 = evp_AR_A_fr * evp_L1\n",
    "print(f\"{evp_L3.to('mm'):~P.0f}\")"
   ]
  },
  {
   "cell_type": "markdown",
   "id": "5ead1f7e-145d-4784-9b14-424d819900ae",
   "metadata": {},
   "source": [
    "## Frontal area of the condenser"
   ]
  },
  {
   "cell_type": "markdown",
   "id": "f6e40280-b2d1-49a3-be8e-0f02bc178fcc",
   "metadata": {},
   "source": [
    "In the same way, we can determine the frontal area of the condenser and its dimensions:"
   ]
  },
  {
   "cell_type": "code",
   "execution_count": 42,
   "id": "86a23b6c-17a3-4cae-b070-98210d512e28",
   "metadata": {
    "tags": []
   },
   "outputs": [],
   "source": [
    "cnd_v_fa = Q_(4, 'm / s')"
   ]
  },
  {
   "cell_type": "markdown",
   "id": "b504e67c-4779-414b-88ed-1057c2284235",
   "metadata": {},
   "source": [
    "Assume the outdoor air has a relative humidity of 30 %:"
   ]
  },
  {
   "cell_type": "code",
   "execution_count": 43,
   "id": "aba20c0e-5ba5-4ae1-9a03-921bfe537b20",
   "metadata": {
    "tags": []
   },
   "outputs": [],
   "source": [
    "cnd_air_in = HumidAir(Tdb=T_outdoor, RH=Q_(30, 'pct'))"
   ]
  },
  {
   "cell_type": "markdown",
   "id": "b3ae9658-a0d5-41c9-a183-d8f8cde69473",
   "metadata": {},
   "source": [
    "The volume flow rate of air at the condenser inlet is then:"
   ]
  },
  {
   "cell_type": "code",
   "execution_count": 44,
   "id": "6d06a6f2-2f5c-45ce-a522-cf0000a2e87d",
   "metadata": {
    "tags": []
   },
   "outputs": [
    {
     "name": "stdout",
     "output_type": "stream",
     "text": [
      "2178.817 m³/h\n"
     ]
    }
   ],
   "source": [
    "cnd_V_dot_air = cnd_m_dot_air / cnd_air_in.rho\n",
    "print(f\"{cnd_V_dot_air.to('m ** 3 / hr'):~P.3f}\")"
   ]
  },
  {
   "cell_type": "markdown",
   "id": "8cc50c13-491a-4b41-94e4-1fdeeba04877",
   "metadata": {},
   "source": [
    "From this the frontal area of the condenser is determined as:"
   ]
  },
  {
   "cell_type": "code",
   "execution_count": 45,
   "id": "3fcb9497-e7e5-4f0b-96fe-97760a7bb6d7",
   "metadata": {
    "tags": []
   },
   "outputs": [
    {
     "name": "stdout",
     "output_type": "stream",
     "text": [
      "0.151 m²\n"
     ]
    }
   ],
   "source": [
    "cnd_A_fr = cnd_V_dot_air / cnd_v_fa\n",
    "print(f\"{cnd_A_fr.to('m ** 2'):~P.3f}\")"
   ]
  },
  {
   "cell_type": "markdown",
   "id": "583c0553-fd9a-45d1-9ce3-059dd2eae2bb",
   "metadata": {},
   "source": [
    "We choose an aspect ratio for the frontal area (ratio of height L3 to width L1):"
   ]
  },
  {
   "cell_type": "code",
   "execution_count": 46,
   "id": "ac515d02-c3bd-4110-9107-1dd58e46b34a",
   "metadata": {
    "tags": []
   },
   "outputs": [],
   "source": [
    "cnd_AR_A_fr = 1 / 2"
   ]
  },
  {
   "cell_type": "markdown",
   "id": "8fe8ede6-6ea6-4306-9701-d7b43ab70543",
   "metadata": {},
   "source": [
    "The width of the frontal area can then be derived from:"
   ]
  },
  {
   "cell_type": "code",
   "execution_count": 47,
   "id": "84bcc119-5f13-4a35-9b60-0f460ac96f30",
   "metadata": {
    "tags": []
   },
   "outputs": [
    {
     "name": "stdout",
     "output_type": "stream",
     "text": [
      "550 mm\n"
     ]
    }
   ],
   "source": [
    "cnd_L1 = (cnd_A_fr / cnd_AR_A_fr) ** 0.5\n",
    "print(f\"{cnd_L1.to('mm'):~P.0f}\")"
   ]
  },
  {
   "cell_type": "markdown",
   "id": "8677bcc0-1644-4c6e-a6bd-72a05bffcd6c",
   "metadata": {},
   "source": [
    "The height of the frontal area:"
   ]
  },
  {
   "cell_type": "code",
   "execution_count": 48,
   "id": "0d712c7b-4d55-4674-a1e7-5735ec6b996c",
   "metadata": {
    "tags": []
   },
   "outputs": [
    {
     "name": "stdout",
     "output_type": "stream",
     "text": [
      "275 mm\n"
     ]
    }
   ],
   "source": [
    "cnd_L3 = cnd_AR_A_fr * cnd_L1\n",
    "print(f\"{cnd_L3.to('mm'):~P.0f}\")"
   ]
  },
  {
   "cell_type": "markdown",
   "id": "b9e31a3b-cba2-477a-966e-cd0b18b96a47",
   "metadata": {},
   "source": [
    "## Summary"
   ]
  },
  {
   "cell_type": "markdown",
   "id": "b2bf5c47-c9cd-4ea4-ad40-08ecd6db444a",
   "metadata": {},
   "source": [
    "**Evaporator**"
   ]
  },
  {
   "cell_type": "code",
   "execution_count": 49,
   "id": "91b99bcd-bd4b-4304-b152-506f423da9b9",
   "metadata": {
    "tags": []
   },
   "outputs": [
    {
     "name": "stdout",
     "output_type": "stream",
     "text": [
      "mass flow rate of air = 1500.000 kg/h\n",
      "mass flow rate of refrigerant = 135.570 kg/h\n",
      "inlet air = 24.00 °C DB, 9.340 g/kg\n",
      "outlet air = 13.00 °C DB, 8.422 g/kg\n",
      "inlet refrigerant = 10.67 °C, vapor quality 0.26 frac\n",
      "outlet refrigerant = 20.67 °C\n",
      "evaporation pressure = 4.24 bar\n",
      "frontal area width L1 = 844 mm\n",
      "frontal area height L3 = 211 mm\n"
     ]
    }
   ],
   "source": [
    "print(\n",
    "    f\"mass flow rate of air = {evp_m_dot_air.to('kg / hr'):~P.3f}\\n\"\n",
    "    f\"mass flow rate of refrigerant = {m_dot_rfg.to('kg / hr'):~P.3f}\\n\"\n",
    "    f\"inlet air = {evp_air_in.Tdb.to('degC'):~P.2f} DB, \"\n",
    "    f\"{evp_air_in.W.to('g / kg'):~P.3f}\\n\"\n",
    "    f\"outlet air = {evp_air_out.Tdb.to('degC'):~P.2f} DB, \"\n",
    "    f\"{evp_air_out.W.to('g / kg'):~P.3f}\\n\"\n",
    "    f\"inlet refrigerant = {evp_rfg_in.T.to('degC'):~P.2f}, \"\n",
    "    f\"vapor quality {evp_rfg_in.x.to('frac'):~P.2f}\\n\"\n",
    "    f\"outlet refrigerant = {evp_rfg_out.T.to('degC'):~P.2f}\\n\"\n",
    "    f\"evaporation pressure = {evp_rfg_sat_liq.P.to('bar'):~P.2f}\\n\"\n",
    "    f\"frontal area width L1 = {evp_L1.to('mm'):~P.0f}\\n\"\n",
    "    f\"frontal area height L3 = {evp_L3.to('mm'):~P.0f}\"\n",
    ")"
   ]
  },
  {
   "cell_type": "markdown",
   "id": "751fb93b-ce97-4f41-8fb3-821f50d99699",
   "metadata": {},
   "source": [
    "**Condenser**"
   ]
  },
  {
   "cell_type": "code",
   "execution_count": 50,
   "id": "213526fb-83f2-425b-86c0-c6227e48cb16",
   "metadata": {
    "tags": []
   },
   "outputs": [
    {
     "name": "stdout",
     "output_type": "stream",
     "text": [
      "mass flow rate of air = 2454.820 kg/h\n",
      "mass flow rate of refrigerant = 135.570 kg/h\n",
      "inlet air = 35.00 °C DB\n",
      "outlet air = 45.00 °C\n",
      "inlet refrigerant = 74.32 °C\n",
      "outlet refrigerant = 45.00 °C\n",
      "condensation pressure = 14.92 bar\n",
      "frontal area width L1 = 550 mm\n",
      "frontal area height L3 = 275 mm\n"
     ]
    }
   ],
   "source": [
    "print(\n",
    "    f\"mass flow rate of air = {cnd_m_dot_air.to('kg / hr'):~P.3f}\\n\"\n",
    "    f\"mass flow rate of refrigerant = {m_dot_rfg.to('kg / hr'):~P.3f}\\n\"\n",
    "    f\"inlet air = {T_outdoor.to('degC'):~P.2f} DB\\n\"\n",
    "    f\"outlet air = {cnd_T_air_out.to('degC'):~P.2f}\\n\"\n",
    "    f\"inlet refrigerant = {cnd_rfg_in.T.to('degC'):~P.2f}\\n\"\n",
    "    f\"outlet refrigerant = {cnd_rfg_out.T.to('degC'):~P.2f}\\n\"\n",
    "    f\"condensation pressure = {cnd_rfg_sat_liq.P.to('bar'):~P.2f}\\n\"\n",
    "    f\"frontal area width L1 = {cnd_L1.to('mm'):~P.0f}\\n\"\n",
    "    f\"frontal area height L3 = {cnd_L3.to('mm'):~P.0f}\"\n",
    ")"
   ]
  },
  {
   "cell_type": "code",
   "execution_count": null,
   "id": "86422436-dc26-4c82-9db6-e0303ba12a93",
   "metadata": {},
   "outputs": [],
   "source": []
  }
 ],
 "metadata": {
  "kernelspec": {
   "display_name": "Python 3 (ipykernel)",
   "language": "python",
   "name": "python3"
  },
  "language_info": {
   "codemirror_mode": {
    "name": "ipython",
    "version": 3
   },
   "file_extension": ".py",
   "mimetype": "text/x-python",
   "name": "python",
   "nbconvert_exporter": "python",
   "pygments_lexer": "ipython3",
   "version": "3.10.4"
  }
 },
 "nbformat": 4,
 "nbformat_minor": 5
}
