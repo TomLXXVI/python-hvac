{
 "cells": [
  {
   "cell_type": "markdown",
   "id": "c7533997-f351-4d78-87ea-7dd7cbe5fc62",
   "metadata": {},
   "source": [
    "# Rating of a Single-Stage Vapor Compression Machine\n",
    "---"
   ]
  },
  {
   "cell_type": "markdown",
   "id": "0d21f86b-8797-4493-8d95-313d538fced1",
   "metadata": {},
   "source": [
    "**Importing libraries and notebook preparation**"
   ]
  },
  {
   "cell_type": "code",
   "execution_count": 1,
   "id": "5d970958-302c-4e02-9e9a-8fbea527d5af",
   "metadata": {
    "ExecuteTime": {
     "end_time": "2023-09-25T19:13:07.235899400Z",
     "start_time": "2023-09-25T19:13:07.230702800Z"
    },
    "tags": []
   },
   "outputs": [],
   "source": [
    "from pathlib import Path\n",
    "\n",
    "from hvac import Quantity\n",
    "from hvac.fluids import Fluid, HumidAir, CoolPropWarning\n",
    "from hvac.vapor_compression import VariableSpeedCompressor\n",
    "from hvac.vapor_compression.machine import SingleStageVaporCompressionMachine\n",
    "from hvac.heat_exchanger.fintube.continuous_fin import PlainFinTubeCounterFlowAirEvaporator\n",
    "from hvac.heat_exchanger.fintube.continuous_fin import PlainFinTubeCounterFlowAirCondenser\n",
    "\n",
    "import warnings\n",
    "warnings.filterwarnings('ignore', category=RuntimeWarning)\n",
    "warnings.filterwarnings('ignore', category=CoolPropWarning)\n",
    "\n",
    "Q_ = Quantity"
   ]
  },
  {
   "cell_type": "markdown",
   "id": "33d011f5-9092-4526-8811-6ad3b67e9e06",
   "metadata": {},
   "source": [
    "## Configuration of the Vapor Compression Machine"
   ]
  },
  {
   "cell_type": "markdown",
   "id": "058c4b49-be05-4e8e-8968-f81557ea7a78",
   "metadata": {},
   "source": [
    "A single-stage vapor compression machine is composed of a compressor, an evaporator, a condenser, and an expansion device. Air at a given state and mass flow rate enters the evaporator. Also at the condenser, air enters at a given state and mass flow rate. The expansion device regulates the mass flow rate of refrigerant in order to maintain the set degree of refrigerant superheating. The compressor (either with fixed or variable speed drive) runs at a given compressor speed. The question is what the steady-state performance of the vapor compression machine will be under the given operating conditions."
   ]
  },
  {
   "cell_type": "markdown",
   "id": "76a01c44-beb3-431e-8cf7-e034c48f75c5",
   "metadata": {},
   "source": [
    "To configure a single-stage vapor compression machine, we first need to define compressor, evaporator and condenser."
   ]
  },
  {
   "cell_type": "markdown",
   "id": "3c56a471-afd2-4de2-ab63-4e4b84fafbfe",
   "metadata": {},
   "source": [
    "**Compressor**<br>\n",
    "After rating the evaporator (see notebook *ex02_air_evaporator.ipynb*), we re-selected a variable speed compressor DANFOSS VTZ054-G for refrigerant R134a using the selection software again from the compressor manufacturer (see notebook *ex03_air_condenser.ipynb*). The polynomial coefficients of the functions describing the performance quantities of this compressor were saved in a csv-file.   "
   ]
  },
  {
   "cell_type": "markdown",
   "id": "e92f10f9-0586-4e16-8a6d-24587ad590c7",
   "metadata": {
    "tags": []
   },
   "source": [
    "First, define the refrigerant:"
   ]
  },
  {
   "cell_type": "code",
   "execution_count": 2,
   "id": "47679278-e45f-40b6-92ae-f7ce59def9c7",
   "metadata": {
    "ExecuteTime": {
     "end_time": "2023-09-25T19:13:07.241895400Z",
     "start_time": "2023-09-25T19:13:07.235899400Z"
    },
    "tags": []
   },
   "outputs": [],
   "source": [
    "R134a = Fluid('R134a')"
   ]
  },
  {
   "cell_type": "markdown",
   "id": "c1fbb3db-eedf-445a-93b0-4f1bb4433072",
   "metadata": {},
   "source": [
    "Now we can define the compressor:"
   ]
  },
  {
   "cell_type": "code",
   "execution_count": 3,
   "id": "7da3322f-38f6-432f-9f6d-4294939da157",
   "metadata": {
    "ExecuteTime": {
     "end_time": "2023-09-25T19:13:07.265012400Z",
     "start_time": "2023-09-25T19:13:07.240892Z"
    },
    "tags": []
   },
   "outputs": [],
   "source": [
    "compressor = VariableSpeedCompressor(\n",
    "    coeff_file=Path(\"compressor_data/VTZ054-G_R134a.csv\"),\n",
    "    refrigerant_type=R134a,\n",
    "    units={'m_dot': 'kg / hr', 'speed': '1 / s'}\n",
    ")"
   ]
  },
  {
   "cell_type": "markdown",
   "id": "fb4832a7-997d-4527-9568-bf5089857e6b",
   "metadata": {},
   "source": [
    "**Evaporator**<br>\n",
    "We will use the same air evaporator defined in notebook no. 2 (plain fin-tube counterflow evaporator)."
   ]
  },
  {
   "cell_type": "code",
   "execution_count": 4,
   "id": "23d00c05-877e-4a68-afcd-14333798c5e6",
   "metadata": {
    "ExecuteTime": {
     "end_time": "2023-09-25T19:13:07.266018200Z",
     "start_time": "2023-09-25T19:13:07.255213900Z"
    },
    "tags": []
   },
   "outputs": [],
   "source": [
    "evaporator = PlainFinTubeCounterFlowAirEvaporator(\n",
    "    W_fro=Q_(0.731, 'm'),\n",
    "    H_fro=Q_(0.244, 'm'),\n",
    "    N_rows=3,\n",
    "    S_trv=Q_(25.4, 'mm'),\n",
    "    S_lon=Q_(22.0, 'mm'),\n",
    "    D_int=Q_(8.422, 'mm'),\n",
    "    D_ext=Q_(10.2, 'mm'),\n",
    "    t_fin=Q_(0.3302, 'mm'),\n",
    "    N_fin=1 / Q_(3.175, 'mm')\n",
    ")"
   ]
  },
  {
   "cell_type": "markdown",
   "id": "7f9fa125-b1a7-45e0-98f9-243487131b3c",
   "metadata": {},
   "source": [
    "**Condenser**<br>\n",
    "We will use the same air condenser defined in notebook no. 3 (plain fin-tube counterflow condenser)."
   ]
  },
  {
   "cell_type": "code",
   "execution_count": 5,
   "id": "03902bd0-44c7-4f19-b01d-9e1fb7a3d4d7",
   "metadata": {
    "ExecuteTime": {
     "end_time": "2023-09-25T19:13:07.267018400Z",
     "start_time": "2023-09-25T19:13:07.262150400Z"
    },
    "tags": []
   },
   "outputs": [],
   "source": [
    "condenser = PlainFinTubeCounterFlowAirCondenser(\n",
    "    W_fro=Q_(1.003, 'm'),\n",
    "    H_fro=Q_(0.334, 'm'),\n",
    "    N_rows=5,\n",
    "    S_trv=Q_(25.4, 'mm'),\n",
    "    S_lon=Q_(22.0, 'mm'),\n",
    "    D_int=Q_(8.422, 'mm'),\n",
    "    D_ext=Q_(10.2, 'mm'),\n",
    "    t_fin=Q_(0.3302, 'mm'),\n",
    "    N_fin=1 / Q_(3.175, 'mm')\n",
    ")"
   ]
  },
  {
   "cell_type": "markdown",
   "id": "e0f7b2cb-6ef6-4ed9-b513-9a77b16d2570",
   "metadata": {},
   "source": [
    "**Vapor compression machine**<br>\n",
    "The creation of the vapor compression machine is straightforward. First, you pass the evaporator, condenser, and compressor model to the constructor. Then, you specify the refrigerant and the degree of refrigerant superheating set on the expansion device:"
   ]
  },
  {
   "cell_type": "code",
   "execution_count": 6,
   "id": "14e8a650-ea10-493f-b19f-a1a8039c4da8",
   "metadata": {
    "ExecuteTime": {
     "end_time": "2023-09-25T19:13:07.276247500Z",
     "start_time": "2023-09-25T19:13:07.268030200Z"
    },
    "tags": []
   },
   "outputs": [],
   "source": [
    "machine = SingleStageVaporCompressionMachine(\n",
    "    evaporator, condenser, compressor,\n",
    "    R134a, dT_sh=Q_(10, 'K')\n",
    ")"
   ]
  },
  {
   "cell_type": "markdown",
   "id": "0fc97010-dfbf-48fe-ba11-098534b6bba8",
   "metadata": {},
   "source": [
    "## Specify Known Operating Conditions and Determine Steady-State Machine Operation"
   ]
  },
  {
   "cell_type": "markdown",
   "id": "2f88ad5c-715c-49e3-9cfd-0979ee3a4e5c",
   "metadata": {},
   "source": [
    "The following inputs will unambiguously determine the operation of the vapor compression machine:\n",
    "- the mass flow rate of air through the evaporator\n",
    "- the mass flow rate of air through the condenser\n",
    "- the air state at the evaporator inlet\n",
    "- the air state at the condenser inlet\n",
    "- the compressor speed (only in case of a variable speed compressor)"
   ]
  },
  {
   "cell_type": "markdown",
   "id": "57464ef87e2493be",
   "metadata": {},
   "source": [
    "To determine the steady-state performance of the machine, an iterative solving technique is used inspired by the method explained in Chapter 14 of the book *Stoecker, W. F., & Jones, J. W. (1982). Refrigeration and air conditioning. McGraw-Hill International Editions, Mechanical Technology Series.* \n",
    "The implemented rating routine uses a minimization algorithm from scipy (`scipy.optimize.minimize`) to determine the evaporation and condensation temperature for which the deviation is minimal between the refrigerant mass flow rate according to the compressor model, and the refrigerant mass flow rate according to the evaporator model (i.e., the mass flow rate let through by the expansion device to maintain the set degree of refrigerant superheating at the evaporator's outlet). The routine needs initial guesses for the evaporation and condensing temperature to start. If the user does not provide these initial guesses, the rating routine will guess the initial values by itself. However, it may happen that no solution can be found with one set of initial guesses, but that a solution is found with another set.\n",
    "\n",
    "To determine the steady-state performance of the vapor compression machine in this example, we will use the operating conditions we have used so far. The air mass flow rate through the condenser is taken from notebook no. 3 (*ex03_air_condenser.ipynb*). The compressor speed is the speed taken from the compressor selection program when we rated the air condenser."
   ]
  },
  {
   "cell_type": "code",
   "execution_count": 7,
   "id": "cacba4f2-fc83-4aca-b4d2-72d2d6f76b2c",
   "metadata": {
    "ExecuteTime": {
     "end_time": "2023-09-25T19:31:09.955732700Z",
     "start_time": "2023-09-25T19:13:07.271248800Z"
    },
    "scrolled": true,
    "tags": []
   },
   "outputs": [
    {
     "name": "stderr",
     "output_type": "stream",
     "text": [
      "[23264 | hvac.vapor_compression.machine | INFO] Starting machine operation analysis with...\n",
      "[23264 | hvac.vapor_compression.machine | INFO] n_cmp = 4343 1/min\n",
      "[23264 | hvac.vapor_compression.machine | INFO] evp_air_in: 24.00 °C, 50 %\n",
      "[23264 | hvac.vapor_compression.machine | INFO] evp_air_m_dot: 1500.00 kg/h\n",
      "[23264 | hvac.vapor_compression.machine | INFO] cnd_air_in: 35.00 °C, 30 %\n",
      "[23264 | hvac.vapor_compression.machine | INFO] cnd_air_m_dot: 3216.32 kg/h\n",
      "[23264 | hvac.vapor_compression.machine | INFO] Iteration 1: Try with: T_evp = 5.000 °C, T_cnd = 50.000 °C\n",
      "[23264 | hvac.vapor_compression.machine | INFO] Iteration 1: Refrigerant mass flow rate from compressor = 169.615 kg/h\n",
      "[23264 | hvac.vapor_compression.machine | INFO] Iteration 1: Refrigerant entering condenser with T = 86.440 °C, P = 13.179 bar\n",
      "[23264 | hvac.vapor_compression.machine | INFO] Iteration 1: Refrigerant leaving condenser with T = 45.490 °C, P = 13.179 bar\n",
      "[23264 | hvac.vapor_compression.machine | INFO] Iteration 1: Refrigerant entering evaporator with T = 5.000 °C, P = 3.497 bar, x = 29.728 %\n",
      "[23264 | hvac.vapor_compression.machine | INFO] Iteration 1: Refrigerant leaving evaporator with T = 15.000 °C, P = 3.497 bar\n",
      "[23264 | hvac.vapor_compression.machine | INFO] Iteration 1: Refrigerant mass flow rate through evaporator = 169.529 kg/h\n",
      "[23264 | hvac.vapor_compression.machine | INFO] Iteration 1: Deviation between refrigerant mass flow rates = -0.086 kg/h\n",
      "[23264 | hvac.vapor_compression.machine | INFO] Iteration 2: Try with: T_evp = 5.250 °C, T_cnd = 50.000 °C\n",
      "[23264 | hvac.vapor_compression.machine | INFO] Iteration 2: Refrigerant mass flow rate from compressor = 171.399 kg/h\n",
      "[23264 | hvac.vapor_compression.machine | INFO] Iteration 2: Refrigerant entering condenser with T = 86.276 °C, P = 13.179 bar\n",
      "[23264 | hvac.vapor_compression.machine | INFO] Iteration 2: Refrigerant leaving condenser with T = 45.994 °C, P = 13.179 bar\n",
      "[23264 | hvac.vapor_compression.machine | INFO] Iteration 2: Refrigerant entering evaporator with T = 5.250 °C, P = 3.527 bar, x = 29.981 %\n",
      "[23264 | hvac.vapor_compression.machine | INFO] Iteration 2: Refrigerant leaving evaporator with T = 15.250 °C, P = 3.527 bar\n",
      "[23264 | hvac.vapor_compression.machine | INFO] Iteration 2: Refrigerant mass flow rate through evaporator = 166.866 kg/h\n",
      "[23264 | hvac.vapor_compression.machine | INFO] Iteration 2: Deviation between refrigerant mass flow rates = -4.533 kg/h\n",
      "[23264 | hvac.vapor_compression.machine | INFO] Iteration 3: Try with: T_evp = 5.000 °C, T_cnd = 52.500 °C\n",
      "[23264 | hvac.vapor_compression.machine | INFO] Iteration 3: Refrigerant mass flow rate from compressor = 167.232 kg/h\n",
      "[23264 | hvac.vapor_compression.machine | INFO] Iteration 3: Refrigerant entering condenser with T = 89.346 °C, P = 14.027 bar\n",
      "[23264 | hvac.vapor_compression.machine | INFO] Iteration 3: Refrigerant leaving condenser with T = 41.300 °C, P = 14.027 bar\n",
      "[23264 | hvac.vapor_compression.machine | INFO] Iteration 3: Refrigerant entering evaporator with T = 5.000 °C, P = 3.497 bar, x = 26.461 %\n",
      "[23264 | hvac.vapor_compression.machine | INFO] Iteration 3: Refrigerant leaving evaporator with T = 15.000 °C, P = 3.497 bar\n",
      "[23264 | hvac.vapor_compression.machine | INFO] Iteration 3: Refrigerant mass flow rate through evaporator = 163.092 kg/h\n",
      "[23264 | hvac.vapor_compression.machine | INFO] Iteration 3: Deviation between refrigerant mass flow rates = -4.140 kg/h\n",
      "[23264 | hvac.vapor_compression.machine | INFO] Iteration 4: Try with: T_evp = 4.750 °C, T_cnd = 52.500 °C\n",
      "[23264 | hvac.vapor_compression.machine | INFO] Iteration 4: Refrigerant mass flow rate from compressor = 165.471 kg/h\n",
      "[23264 | hvac.vapor_compression.machine | INFO] Iteration 4: Refrigerant entering condenser with T = 89.517 °C, P = 14.027 bar\n",
      "[23264 | hvac.vapor_compression.machine | INFO] Iteration 4: Refrigerant leaving condenser with T = 41.089 °C, P = 14.027 bar\n",
      "[23264 | hvac.vapor_compression.machine | INFO] Iteration 4: Refrigerant entering evaporator with T = 4.750 °C, P = 3.466 bar, x = 26.446 %\n",
      "[23264 | hvac.vapor_compression.machine | INFO] Iteration 4: Refrigerant leaving evaporator with T = 14.750 °C, P = 3.466 bar\n",
      "[23264 | hvac.vapor_compression.machine | INFO] Iteration 4: Refrigerant mass flow rate through evaporator = 166.075 kg/h\n",
      "[23264 | hvac.vapor_compression.machine | INFO] Iteration 4: Deviation between refrigerant mass flow rates = 0.604 kg/h\n",
      "[23264 | hvac.vapor_compression.machine | INFO] Iteration 5: Try with: T_evp = 4.750 °C, T_cnd = 50.000 °C\n",
      "[23264 | hvac.vapor_compression.machine | INFO] Iteration 5: Refrigerant mass flow rate from compressor = 167.842 kg/h\n",
      "[23264 | hvac.vapor_compression.machine | INFO] Iteration 5: Refrigerant entering condenser with T = 86.606 °C, P = 13.179 bar\n",
      "[23264 | hvac.vapor_compression.machine | INFO] Iteration 5: Refrigerant leaving condenser with T = 45.018 °C, P = 13.179 bar\n",
      "[23264 | hvac.vapor_compression.machine | INFO] Iteration 5: Refrigerant entering evaporator with T = 4.750 °C, P = 3.466 bar, x = 29.502 %\n",
      "[23264 | hvac.vapor_compression.machine | INFO] Iteration 5: Refrigerant leaving evaporator with T = 14.750 °C, P = 3.466 bar\n",
      "[23264 | hvac.vapor_compression.machine | INFO] Iteration 5: Refrigerant mass flow rate through evaporator = 172.199 kg/h\n",
      "[23264 | hvac.vapor_compression.machine | INFO] Iteration 5: Deviation between refrigerant mass flow rates = 4.357 kg/h\n",
      "[23264 | hvac.vapor_compression.machine | INFO] Iteration 6: Try with: T_evp = 4.938 °C, T_cnd = 51.875 °C\n",
      "[23264 | hvac.vapor_compression.machine | INFO] Iteration 6: Refrigerant mass flow rate from compressor = 167.394 kg/h\n",
      "[23264 | hvac.vapor_compression.machine | INFO] Iteration 6: Refrigerant entering condenser with T = 88.657 °C, P = 13.811 bar\n",
      "[23264 | hvac.vapor_compression.machine | INFO] Iteration 6: Refrigerant leaving condenser with T = 41.905 °C, P = 13.811 bar\n",
      "[23264 | hvac.vapor_compression.machine | INFO] Iteration 6: Refrigerant entering evaporator with T = 4.937 °C, P = 3.489 bar, x = 26.966 %\n",
      "[23264 | hvac.vapor_compression.machine | INFO] Iteration 6: Refrigerant leaving evaporator with T = 14.937 °C, P = 3.489 bar\n",
      "[23264 | hvac.vapor_compression.machine | INFO] Iteration 6: Refrigerant mass flow rate through evaporator = 164.816 kg/h\n",
      "[23264 | hvac.vapor_compression.machine | INFO] Iteration 6: Deviation between refrigerant mass flow rates = -2.578 kg/h\n",
      "[23264 | hvac.vapor_compression.machine | INFO] Iteration 7: Try with: T_evp = 4.812 °C, T_cnd = 50.625 °C\n",
      "[23264 | hvac.vapor_compression.machine | INFO] Iteration 7: Refrigerant mass flow rate from compressor = 167.699 kg/h\n",
      "[23264 | hvac.vapor_compression.machine | INFO] Iteration 7: Refrigerant entering condenser with T = 87.288 °C, P = 13.387 bar\n",
      "[23264 | hvac.vapor_compression.machine | INFO] Iteration 7: Refrigerant leaving condenser with T = 43.631 °C, P = 13.387 bar\n",
      "[23264 | hvac.vapor_compression.machine | INFO] Iteration 7: Refrigerant entering evaporator with T = 4.812 °C, P = 3.474 bar, x = 28.382 %\n",
      "[23264 | hvac.vapor_compression.machine | INFO] Iteration 7: Refrigerant leaving evaporator with T = 14.812 °C, P = 3.474 bar\n",
      "[23264 | hvac.vapor_compression.machine | INFO] Iteration 7: Refrigerant mass flow rate through evaporator = 169.132 kg/h\n",
      "[23264 | hvac.vapor_compression.machine | INFO] Iteration 7: Deviation between refrigerant mass flow rates = 1.434 kg/h\n",
      "[23264 | hvac.vapor_compression.machine | INFO] Iteration 8: Try with: T_evp = 4.844 °C, T_cnd = 50.938 °C\n",
      "[23264 | hvac.vapor_compression.machine | INFO] Iteration 8: Refrigerant mass flow rate from compressor = 167.625 kg/h\n",
      "[23264 | hvac.vapor_compression.machine | INFO] Iteration 8: Refrigerant entering condenser with T = 87.629 °C, P = 13.492 bar\n",
      "[23264 | hvac.vapor_compression.machine | INFO] Iteration 8: Refrigerant leaving condenser with T = 43.115 °C, P = 13.492 bar\n",
      "[23264 | hvac.vapor_compression.machine | INFO] Iteration 8: Refrigerant entering evaporator with T = 4.844 °C, P = 3.478 bar, x = 27.961 %\n",
      "[23264 | hvac.vapor_compression.machine | INFO] Iteration 8: Refrigerant leaving evaporator with T = 14.844 °C, P = 3.478 bar\n",
      "[23264 | hvac.vapor_compression.machine | INFO] Iteration 8: Refrigerant mass flow rate through evaporator = 167.907 kg/h\n",
      "[23264 | hvac.vapor_compression.machine | INFO] Iteration 8: Deviation between refrigerant mass flow rates = 0.283 kg/h\n",
      "[23264 | hvac.vapor_compression.machine | INFO] Iteration 9: Try with: T_evp = 5.094 °C, T_cnd = 48.438 °C\n",
      "[23264 | hvac.vapor_compression.machine | INFO] Iteration 9: Refrigerant mass flow rate from compressor = 171.731 kg/h\n",
      "[23264 | hvac.vapor_compression.machine | INFO] Iteration 9: Refrigerant entering condenser with T = 84.585 °C, P = 12.669 bar\n",
      "[23264 | hvac.heat_exchanger.fintube.continuous_fin.air_condenser | ERROR] The refrigerant cannot be subcooled in the condenser under the current operating conditions.\n",
      "[23264 | hvac.vapor_compression.machine | ERROR] Iteration 9: CondenserError: The refrigerant cannot be subcooled in the condenser under the current operating conditions.\n",
      "[23264 | hvac.vapor_compression.machine | INFO] Iteration 10: Try with: T_evp = 4.836 °C, T_cnd = 51.484 °C\n",
      "[23264 | hvac.vapor_compression.machine | INFO] Iteration 10: Refrigerant mass flow rate from compressor = 167.050 kg/h\n",
      "[23264 | hvac.vapor_compression.machine | INFO] Iteration 10: Refrigerant entering condenser with T = 88.271 °C, P = 13.678 bar\n",
      "[23264 | hvac.vapor_compression.machine | INFO] Iteration 10: Refrigerant leaving condenser with T = 42.287 °C, P = 13.678 bar\n",
      "[23264 | hvac.vapor_compression.machine | INFO] Iteration 10: Refrigerant entering evaporator with T = 4.836 °C, P = 3.477 bar, x = 27.323 %\n",
      "[23264 | hvac.vapor_compression.machine | INFO] Iteration 10: Refrigerant leaving evaporator with T = 14.836 °C, P = 3.477 bar\n",
      "[23264 | hvac.vapor_compression.machine | INFO] Iteration 10: Refrigerant mass flow rate through evaporator = 166.742 kg/h\n",
      "[23264 | hvac.vapor_compression.machine | INFO] Iteration 10: Deviation between refrigerant mass flow rates = -0.308 kg/h\n",
      "[23264 | hvac.vapor_compression.machine | INFO] Iteration 11: Try with: T_evp = 5.008 °C, T_cnd = 49.453 °C\n",
      "[23264 | hvac.vapor_compression.machine | INFO] Iteration 11: Refrigerant mass flow rate from compressor = 170.180 kg/h\n",
      "[23264 | hvac.vapor_compression.machine | INFO] Iteration 11: Refrigerant entering condenser with T = 85.805 °C, P = 12.999 bar\n",
      "[23264 | hvac.vapor_compression.machine | INFO] Iteration 11: Refrigerant leaving condenser with T = 47.451 °C, P = 12.999 bar\n",
      "[23264 | hvac.vapor_compression.machine | INFO] Iteration 11: Refrigerant entering evaporator with T = 5.008 °C, P = 3.498 bar, x = 31.275 %\n",
      "[23264 | hvac.vapor_compression.machine | INFO] Iteration 11: Refrigerant leaving evaporator with T = 15.008 °C, P = 3.498 bar\n",
      "[23264 | hvac.vapor_compression.machine | INFO] Iteration 11: Refrigerant mass flow rate through evaporator = 172.657 kg/h\n",
      "[23264 | hvac.vapor_compression.machine | INFO] Iteration 11: Deviation between refrigerant mass flow rates = 2.477 kg/h\n",
      "[23264 | hvac.vapor_compression.machine | INFO] Iteration 12: Try with: T_evp = 4.879 °C, T_cnd = 50.977 °C\n",
      "[23264 | hvac.vapor_compression.machine | INFO] Iteration 12: Refrigerant mass flow rate from compressor = 167.836 kg/h\n",
      "[23264 | hvac.vapor_compression.machine | INFO] Iteration 12: Refrigerant entering condenser with T = 87.651 °C, P = 13.506 bar\n",
      "[23264 | hvac.vapor_compression.machine | INFO] Iteration 12: Refrigerant leaving condenser with T = 43.096 °C, P = 13.506 bar\n",
      "[23264 | hvac.vapor_compression.machine | INFO] Iteration 12: Refrigerant entering evaporator with T = 4.879 °C, P = 3.482 bar, x = 27.926 %\n",
      "[23264 | hvac.vapor_compression.machine | INFO] Iteration 12: Refrigerant leaving evaporator with T = 14.879 °C, P = 3.482 bar\n",
      "[23264 | hvac.vapor_compression.machine | INFO] Iteration 12: Refrigerant mass flow rate through evaporator = 167.405 kg/h\n",
      "[23264 | hvac.vapor_compression.machine | INFO] Iteration 12: Deviation between refrigerant mass flow rates = -0.431 kg/h\n",
      "[23264 | hvac.vapor_compression.machine | INFO] Iteration 13: Try with: T_evp = 4.922 °C, T_cnd = 50.469 °C\n",
      "[23264 | hvac.vapor_compression.machine | INFO] Iteration 13: Refrigerant mass flow rate from compressor = 168.620 kg/h\n",
      "[23264 | hvac.vapor_compression.machine | INFO] Iteration 13: Refrigerant entering condenser with T = 87.033 °C, P = 13.335 bar\n",
      "[23264 | hvac.vapor_compression.machine | INFO] Iteration 13: Refrigerant leaving condenser with T = 44.083 °C, P = 13.335 bar\n",
      "[23264 | hvac.vapor_compression.machine | INFO] Iteration 13: Refrigerant entering evaporator with T = 4.922 °C, P = 3.487 bar, x = 28.670 %\n",
      "[23264 | hvac.vapor_compression.machine | INFO] Iteration 13: Refrigerant leaving evaporator with T = 14.922 °C, P = 3.487 bar\n",
      "[23264 | hvac.vapor_compression.machine | INFO] Iteration 13: Refrigerant mass flow rate through evaporator = 168.361 kg/h\n",
      "[23264 | hvac.vapor_compression.machine | INFO] Iteration 13: Deviation between refrigerant mass flow rates = -0.259 kg/h\n",
      "[23264 | hvac.vapor_compression.machine | INFO] Iteration 14: Try with: T_evp = 4.918 °C, T_cnd = 50.742 °C\n",
      "[23264 | hvac.vapor_compression.machine | INFO] Iteration 14: Refrigerant mass flow rate from compressor = 168.334 kg/h\n",
      "[23264 | hvac.vapor_compression.machine | INFO] Iteration 14: Refrigerant entering condenser with T = 87.353 °C, P = 13.427 bar\n",
      "[23264 | hvac.vapor_compression.machine | INFO] Iteration 14: Refrigerant leaving condenser with T = 43.561 °C, P = 13.427 bar\n",
      "[23264 | hvac.vapor_compression.machine | INFO] Iteration 14: Refrigerant entering evaporator with T = 4.918 °C, P = 3.487 bar, x = 28.265 %\n",
      "[23264 | hvac.vapor_compression.machine | INFO] Iteration 14: Refrigerant leaving evaporator with T = 14.918 °C, P = 3.487 bar\n",
      "[23264 | hvac.vapor_compression.machine | INFO] Iteration 14: Refrigerant mass flow rate through evaporator = 167.598 kg/h\n",
      "[23264 | hvac.vapor_compression.machine | INFO] Iteration 14: Deviation between refrigerant mass flow rates = -0.736 kg/h\n",
      "[23264 | hvac.vapor_compression.machine | INFO] Iteration 15: Try with: T_evp = 5.004 °C, T_cnd = 49.727 °C\n",
      "[23264 | hvac.vapor_compression.machine | INFO] Iteration 15: Refrigerant mass flow rate from compressor = 169.898 kg/h\n",
      "[23264 | hvac.vapor_compression.machine | INFO] Iteration 15: Refrigerant entering condenser with T = 86.122 °C, P = 13.089 bar\n",
      "[23264 | hvac.vapor_compression.machine | INFO] Iteration 15: Refrigerant leaving condenser with T = 46.347 °C, P = 13.089 bar\n",
      "[23264 | hvac.vapor_compression.machine | INFO] Iteration 15: Refrigerant entering evaporator with T = 5.004 °C, P = 3.497 bar, x = 30.402 %\n",
      "[23264 | hvac.vapor_compression.machine | INFO] Iteration 15: Refrigerant leaving evaporator with T = 15.004 °C, P = 3.497 bar\n",
      "[23264 | hvac.vapor_compression.machine | INFO] Iteration 15: Refrigerant mass flow rate through evaporator = 170.871 kg/h\n",
      "[23264 | hvac.vapor_compression.machine | INFO] Iteration 15: Deviation between refrigerant mass flow rates = 0.973 kg/h\n",
      "[23264 | hvac.vapor_compression.machine | INFO] Iteration 16: Try with: T_evp = 4.939 °C, T_cnd = 50.488 °C\n",
      "[23264 | hvac.vapor_compression.machine | INFO] Iteration 16: Refrigerant mass flow rate from compressor = 168.726 kg/h\n",
      "[23264 | hvac.vapor_compression.machine | INFO] Iteration 16: Refrigerant entering condenser with T = 87.044 °C, P = 13.342 bar\n",
      "[23264 | hvac.vapor_compression.machine | INFO] Iteration 16: Refrigerant leaving condenser with T = 44.069 °C, P = 13.342 bar\n",
      "[23264 | hvac.vapor_compression.machine | INFO] Iteration 16: Refrigerant entering evaporator with T = 4.939 °C, P = 3.489 bar, x = 28.649 %\n",
      "[23264 | hvac.vapor_compression.machine | INFO] Iteration 16: Refrigerant leaving evaporator with T = 14.939 °C, P = 3.489 bar\n",
      "[23264 | hvac.vapor_compression.machine | INFO] Iteration 16: Refrigerant mass flow rate through evaporator = 168.100 kg/h\n",
      "[23264 | hvac.vapor_compression.machine | INFO] Iteration 16: Deviation between refrigerant mass flow rates = -0.626 kg/h\n",
      "[23264 | hvac.vapor_compression.machine | INFO] Iteration 17: Try with: T_evp = 4.982 °C, T_cnd = 49.980 °C\n",
      "[23264 | hvac.vapor_compression.machine | INFO] Iteration 17: Refrigerant mass flow rate from compressor = 169.508 kg/h\n",
      "[23264 | hvac.vapor_compression.machine | INFO] Iteration 17: Refrigerant entering condenser with T = 86.429 °C, P = 13.173 bar\n",
      "[23264 | hvac.vapor_compression.machine | INFO] Iteration 17: Refrigerant leaving condenser with T = 45.511 °C, P = 13.173 bar\n",
      "[23264 | hvac.vapor_compression.machine | INFO] Iteration 17: Refrigerant entering evaporator with T = 4.982 °C, P = 3.494 bar, x = 29.755 %\n",
      "[23264 | hvac.vapor_compression.machine | INFO] Iteration 17: Refrigerant leaving evaporator with T = 14.982 °C, P = 3.494 bar\n",
      "[23264 | hvac.vapor_compression.machine | INFO] Iteration 17: Refrigerant mass flow rate through evaporator = 169.806 kg/h\n",
      "[23264 | hvac.vapor_compression.machine | INFO] Iteration 17: Deviation between refrigerant mass flow rates = 0.298 kg/h\n",
      "[23264 | hvac.vapor_compression.machine | INFO] Iteration 18: Try with: T_evp = 4.972 °C, T_cnd = 50.107 °C\n",
      "[23264 | hvac.vapor_compression.machine | INFO] Iteration 18: Refrigerant mass flow rate from compressor = 169.313 kg/h\n",
      "[23264 | hvac.vapor_compression.machine | INFO] Iteration 18: Refrigerant entering condenser with T = 86.583 °C, P = 13.215 bar\n",
      "[23264 | hvac.vapor_compression.machine | INFO] Iteration 18: Refrigerant leaving condenser with T = 45.142 °C, P = 13.215 bar\n",
      "[23264 | hvac.vapor_compression.machine | INFO] Iteration 18: Refrigerant entering evaporator with T = 4.972 °C, P = 3.493 bar, x = 29.472 %\n",
      "[23264 | hvac.vapor_compression.machine | INFO] Iteration 18: Refrigerant leaving evaporator with T = 14.972 °C, P = 3.493 bar\n",
      "[23264 | hvac.vapor_compression.machine | INFO] Iteration 18: Refrigerant mass flow rate through evaporator = 169.361 kg/h\n",
      "[23264 | hvac.vapor_compression.machine | INFO] Iteration 18: Deviation between refrigerant mass flow rates = 0.048 kg/h\n",
      "[23264 | hvac.vapor_compression.machine | INFO] Analysis finished after 18 iterations with message: \"Optimization terminated successfully.\". Updating final machine performance...\n",
      "[23264 | hvac.vapor_compression.machine | INFO] Execution time: 255.05942700000014 seconds\n",
      "[23264 | hvac.vapor_compression.machine | INFO] Error mass balance: absolute error = 0.048 kg/h, relative error = 0.03 %\n",
      "[23264 | hvac.vapor_compression.machine | INFO] Error energy balance: absolute error = 0.002 kW, relative error = 0.03 %\n"
     ]
    }
   ],
   "source": [
    "output = machine.rate(\n",
    "    evp_air_in=HumidAir(Tdb=Q_(24.0, 'degC'), RH=Q_(50, 'pct')),\n",
    "    evp_air_m_dot=Q_(1500, 'kg / hr'),\n",
    "    cnd_air_in=HumidAir(Tdb=Q_(35.0, 'degC'), RH=Q_(30, 'pct')),\n",
    "    cnd_air_m_dot=Q_(3216.315, 'kg / hr'),\n",
    "    n_cmp=Q_(4343, '1 / min'),\n",
    "    T_evp_ini=Q_(5, 'degC'),\n",
    "    T_cnd_ini=Q_(50, 'degC')\n",
    ")"
   ]
  },
  {
   "cell_type": "code",
   "execution_count": 8,
   "id": "2d9ca322388d8bbf",
   "metadata": {
    "ExecuteTime": {
     "end_time": "2023-09-25T19:31:25.957353100Z",
     "start_time": "2023-09-25T19:31:25.940661200Z"
    },
    "collapsed": false,
    "jupyter": {
     "outputs_hidden": false
    }
   },
   "outputs": [
    {
     "name": "stdout",
     "output_type": "stream",
     "text": [
      "evp_air_m_dot = 1500.000 kg/h\n",
      "cnd_air_m_dot = 3216.315 kg/h\n",
      "evp_air_in = 24.000 °C DB, 9.340 g/kg AH (50 % RH)\n",
      "cnd_air_in = 35.000 °C DB, 10.590 g/kg AH (30 % RH)\n",
      "n_cmp = 4343.000 1/min\n",
      "dT_sh = 10.000 K\n",
      "evp_air_out = 13.020 °C DB, 7.239 g/kg AH (77 % RH)\n",
      "cnd_air_out = 45.295 °C DB, 10.590 g/kg AH (17 % RH)\n",
      "evp_Q_dot = 6.891 kW\n",
      "cnd_Q_dot = 9.442 kW\n",
      "cmp_W_dot = 2.553 kW\n",
      "rfg_m_dot = 169.313 kg/h\n",
      "COP = 3.699 frac\n",
      "EER = 2.699 frac\n",
      "evp_eps = 0.5468 frac\n",
      "cnd_eps = 0.5580 frac\n",
      "T_evp = 4.972 °C\n",
      "P_evp = 3.493 bar\n",
      "T_cnd = 50.107 °C\n",
      "P_cnd = 13.215 bar\n",
      "dT_sc = 4.965 K\n",
      "suction_gas = 14.972 °C, 410.599 kJ/kg, 3.493 bar\n",
      "discharge_gas = 86.583 °C, 464.883 kJ/kg, 13.215 bar\n",
      "liquid = 45.142 °C, 264.113 kJ/kg, 13.215 bar\n",
      "mixture = 4.972 °C, 264.113 kJ/kg, 3.493 bar, 29 %\n",
      "evp_air_dP = 22.112 Pa\n",
      "cnd_air_dP = 53.514 Pa\n",
      "\n"
     ]
    }
   ],
   "source": [
    "print(output.to_text())"
   ]
  }
 ],
 "metadata": {
  "kernelspec": {
   "display_name": "Python 3 (ipykernel)",
   "language": "python",
   "name": "python3"
  },
  "language_info": {
   "codemirror_mode": {
    "name": "ipython",
    "version": 3
   },
   "file_extension": ".py",
   "mimetype": "text/x-python",
   "name": "python",
   "nbconvert_exporter": "python",
   "pygments_lexer": "ipython3",
   "version": "3.11.0"
  }
 },
 "nbformat": 4,
 "nbformat_minor": 5
}
