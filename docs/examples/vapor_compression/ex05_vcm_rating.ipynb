{
 "cells": [
  {
   "cell_type": "markdown",
   "id": "0d21f86b-8797-4493-8d95-313d538fced1",
   "metadata": {},
   "source": [
    "**Notebook preparation and importing libraries**"
   ]
  },
  {
   "cell_type": "code",
   "execution_count": 1,
   "id": "859c4719-7b99-4e53-a1f3-be6b6eed4f5e",
   "metadata": {
    "tags": [],
    "ExecuteTime": {
     "end_time": "2023-09-25T19:13:07.220977600Z",
     "start_time": "2023-09-25T19:13:05.994290300Z"
    }
   },
   "outputs": [],
   "source": [
    "from pathlib import Path\n",
    "from hvac import Quantity\n",
    "from hvac.fluids import Fluid, HumidAir, CoolPropWarning\n",
    "from hvac.vapor_compression import VariableSpeedCompressor\n",
    "from hvac.vapor_compression.machine import SingleStageVaporCompressionMachine\n",
    "from hvac.heat_transfer.heat_exchanger.fin_tube import PlainFinTubeCounterFlowAirEvaporator\n",
    "from hvac.heat_transfer.heat_exchanger.fin_tube import PlainFinTubeCounterFlowAirCondenser"
   ]
  },
  {
   "cell_type": "code",
   "execution_count": 2,
   "id": "613e5b5a-6d53-40a9-a378-7bb242d503f7",
   "metadata": {
    "ExecuteTime": {
     "end_time": "2023-09-25T19:13:07.232879100Z",
     "start_time": "2023-09-25T19:13:07.222976800Z"
    }
   },
   "outputs": [],
   "source": [
    "import warnings\n",
    "warnings.filterwarnings('ignore', category=RuntimeWarning)\n",
    "warnings.filterwarnings('ignore', category=CoolPropWarning)"
   ]
  },
  {
   "cell_type": "code",
   "execution_count": 3,
   "id": "91ec07aa-b0b8-4f66-851a-80a5ea36c335",
   "metadata": {
    "tags": [],
    "ExecuteTime": {
     "end_time": "2023-09-25T19:13:07.235899400Z",
     "start_time": "2023-09-25T19:13:07.230702800Z"
    }
   },
   "outputs": [],
   "source": [
    "Q_ = Quantity"
   ]
  },
  {
   "cell_type": "markdown",
   "id": "c7533997-f351-4d78-87ea-7dd7cbe5fc62",
   "metadata": {},
   "source": [
    "# Rating of a Single-Stage Vapor Compression Machine"
   ]
  },
  {
   "cell_type": "markdown",
   "id": "bfde4e46-0da8-470d-b163-98936fd3a4de",
   "metadata": {},
   "source": [
    "A single-stage vapor compression machine is composed of a compressor, an evaporator, a condenser, and an expansion device. Air at a given state and mass flow rate enters the evaporator. Also at the condenser, air enters at a given state and mass flow rate. The expansion device regulates the mass flow rate of refrigerant in order to maintain the set degree of refrigerant superheating. The compressor (either with fixed or variable speed drive) runs at a given compressor speed. The question is what the steady operating state of the vapor compression machine will be under the given operating conditions."
   ]
  },
  {
   "cell_type": "markdown",
   "id": "33d011f5-9092-4526-8811-6ad3b67e9e06",
   "metadata": {},
   "source": [
    "## Configuration of the Vapor Compression Machine"
   ]
  },
  {
   "cell_type": "markdown",
   "id": "76a01c44-beb3-431e-8cf7-e034c48f75c5",
   "metadata": {},
   "source": [
    "To configure a single-stage vapor compression machine, we first need to define compressor, evaporator and condenser."
   ]
  },
  {
   "cell_type": "markdown",
   "id": "3c56a471-afd2-4de2-ab63-4e4b84fafbfe",
   "metadata": {},
   "source": [
    "**Compressor**<br>\n",
    "Based on preliminary calculations (see the first notebook of this series), a variable speed compressor with refrigerant R134a has been selected using selection software of the compressor manufacturer. The polynomial coefficients of the functions describing the performance quantities of this compressor were saved in a csv-file.   "
   ]
  },
  {
   "cell_type": "markdown",
   "id": "e92f10f9-0586-4e16-8a6d-24587ad590c7",
   "metadata": {
    "tags": []
   },
   "source": [
    "First, define the refrigerant:"
   ]
  },
  {
   "cell_type": "code",
   "execution_count": 4,
   "id": "47679278-e45f-40b6-92ae-f7ce59def9c7",
   "metadata": {
    "tags": [],
    "ExecuteTime": {
     "end_time": "2023-09-25T19:13:07.241895400Z",
     "start_time": "2023-09-25T19:13:07.235899400Z"
    }
   },
   "outputs": [],
   "source": [
    "R134a = Fluid('R134a')"
   ]
  },
  {
   "cell_type": "markdown",
   "id": "c1fbb3db-eedf-445a-93b0-4f1bb4433072",
   "metadata": {},
   "source": [
    "Now we can define the compressor:"
   ]
  },
  {
   "cell_type": "code",
   "execution_count": 5,
   "id": "7da3322f-38f6-432f-9f6d-4294939da157",
   "metadata": {
    "tags": [],
    "ExecuteTime": {
     "end_time": "2023-09-25T19:13:07.265012400Z",
     "start_time": "2023-09-25T19:13:07.240892Z"
    }
   },
   "outputs": [],
   "source": [
    "compressor = VariableSpeedCompressor(\n",
    "    coeff_file=Path(\"compressor_data/VTZ038-G_R134a.csv\"),\n",
    "    refrigerant_type=R134a,\n",
    "    units={'m_dot': 'kg / hr', 'speed': '1 / s'}\n",
    ")"
   ]
  },
  {
   "cell_type": "markdown",
   "id": "fb4832a7-997d-4527-9568-bf5089857e6b",
   "metadata": {},
   "source": [
    "**Evaporator**<br>\n",
    "We will use the same air evaporator defined in notebook no. 2 (plain fin-tube counterflow evaporator)."
   ]
  },
  {
   "cell_type": "code",
   "execution_count": 6,
   "id": "23d00c05-877e-4a68-afcd-14333798c5e6",
   "metadata": {
    "tags": [],
    "ExecuteTime": {
     "end_time": "2023-09-25T19:13:07.266018200Z",
     "start_time": "2023-09-25T19:13:07.255213900Z"
    }
   },
   "outputs": [],
   "source": [
    "evaporator = PlainFinTubeCounterFlowAirEvaporator(\n",
    "    W_fro=Q_(0.731, 'm'),\n",
    "    H_fro=Q_(0.244, 'm'),\n",
    "    N_rows=2,\n",
    "    S_trv=Q_(25.4, 'mm'),\n",
    "    S_lon=Q_(22.0, 'mm'),\n",
    "    D_int=Q_(8.422, 'mm'),\n",
    "    D_ext=Q_(10.2, 'mm'),\n",
    "    t_fin=Q_(0.3302, 'mm'),\n",
    "    N_fin=1 / Q_(3.175, 'mm')\n",
    ")"
   ]
  },
  {
   "cell_type": "markdown",
   "id": "7f9fa125-b1a7-45e0-98f9-243487131b3c",
   "metadata": {},
   "source": [
    "**Condenser**<br>\n",
    "We will use the same air condenser defined in notebook no. 3 (plain fin-tube counterflow condenser)."
   ]
  },
  {
   "cell_type": "code",
   "execution_count": 7,
   "id": "03902bd0-44c7-4f19-b01d-9e1fb7a3d4d7",
   "metadata": {
    "tags": [],
    "ExecuteTime": {
     "end_time": "2023-09-25T19:13:07.267018400Z",
     "start_time": "2023-09-25T19:13:07.262150400Z"
    }
   },
   "outputs": [],
   "source": [
    "condenser = PlainFinTubeCounterFlowAirCondenser(\n",
    "    W_fro=Q_(0.909, 'm'),\n",
    "    H_fro=Q_(0.303, 'm'),\n",
    "    N_rows=4,\n",
    "    S_trv=Q_(25.4, 'mm'),         \n",
    "    S_lon=Q_(22.0, 'mm'),         \n",
    "    D_int=Q_(8.422, 'mm'),        \n",
    "    D_ext=Q_(10.2, 'mm'),         \n",
    "    t_fin=Q_(0.3302, 'mm'),       \n",
    "    N_fin=1 / Q_(3.175, 'mm')    \n",
    ")"
   ]
  },
  {
   "cell_type": "markdown",
   "id": "e0f7b2cb-6ef6-4ed9-b513-9a77b16d2570",
   "metadata": {},
   "source": [
    "**Vapor compression machine**<br>\n",
    "The creation of the vapor compression machine is straightforward. First, you pass the evaporator, condenser, and compressor model to the constructor. Then, you specify the refrigerant and the degree of refrigerant superheating set on the expansion device:"
   ]
  },
  {
   "cell_type": "code",
   "execution_count": 8,
   "id": "14e8a650-ea10-493f-b19f-a1a8039c4da8",
   "metadata": {
    "tags": [],
    "ExecuteTime": {
     "end_time": "2023-09-25T19:13:07.276247500Z",
     "start_time": "2023-09-25T19:13:07.268030200Z"
    }
   },
   "outputs": [],
   "source": [
    "machine = SingleStageVaporCompressionMachine(\n",
    "    evaporator, condenser, compressor, \n",
    "    R134a, dT_sh=Q_(10, 'K')\n",
    ")"
   ]
  },
  {
   "cell_type": "markdown",
   "source": [],
   "metadata": {
    "collapsed": false
   },
   "id": "7438f5b9829295b7"
  },
  {
   "cell_type": "markdown",
   "id": "0fc97010-dfbf-48fe-ba11-098534b6bba8",
   "metadata": {},
   "source": [
    "## Specify Known Operating Conditions and Determine Steady-State Machine Operation"
   ]
  },
  {
   "cell_type": "markdown",
   "id": "2f88ad5c-715c-49e3-9cfd-0979ee3a4e5c",
   "metadata": {},
   "source": [
    "The following inputs will unambiguously determine the operation of the vapor compression machine:\n",
    "- the mass flow rate of air through the evaporator\n",
    "- the mass flow rate of air through the condenser\n",
    "- the air state at the evaporator inlet\n",
    "- the air state at the condenser inlet\n",
    "- the compressor speed (only in case of a variable speed compressor)"
   ]
  },
  {
   "cell_type": "markdown",
   "source": [
    "To determine the steady-state operation of the machine, an iterative solving technique is used inspired by the method explained in Chapter 14 of the book *Stoecker, W. F., & Jones, J. W. (1982). Refrigeration and air conditioning. McGraw-Hill International Editions, Mechanical Technology Series.* \n",
    "The implemented rating routine uses a minimization algorithm from scipy (`scipy.optimize.minimize`) to determine the evaporation and condensation temperature for which the deviation is minimal between the refrigerant mass flow rate according to the compressor model, and the refrigerant mass flow rate according to the evaporator model (i.e., the mass flow rate let through by the expansion device to maintain the set degree of refrigerant superheating at the outlet of the evaporator). The routine needs initial guesses for the evaporation and condensing temperature to start. If the user does not provide these initial guesses, the rating routine will guess the initial values by itself. However, it may happen that no solution can be found with one set of initial guesses, but that a solution is found with another set."
   ],
   "metadata": {
    "collapsed": false
   },
   "id": "57464ef87e2493be"
  },
  {
   "cell_type": "code",
   "execution_count": 9,
   "id": "cacba4f2-fc83-4aca-b4d2-72d2d6f76b2c",
   "metadata": {
    "tags": [],
    "ExecuteTime": {
     "end_time": "2023-09-25T19:31:09.955732700Z",
     "start_time": "2023-09-25T19:13:07.271248800Z"
    }
   },
   "outputs": [
    {
     "name": "stderr",
     "output_type": "stream",
     "text": [
      "[24844 | hvac.vapor_compression.machine | INFO] Starting machine operation analysis...\n",
      "[24844 | hvac.vapor_compression.machine | INFO] Iteration 1: Try with: T_evp = 4.000 °C, T_cnd = 55.000 °C\n",
      "[24844 | hvac.vapor_compression.machine | INFO] Iteration 1: Refrigerant mass flow rate from compressor = 95.109 kg/h\n",
      "[24844 | hvac.vapor_compression.machine | INFO] Iteration 1: Refrigerant entering condenser with T = 98.112 °C, P = 14.915 bar\n",
      "[24844 | hvac.vapor_compression.machine | INFO] Iteration 1: Refrigerant leaving condenser with T = 42.899 °C, P = 14.915 bar\n",
      "[24844 | hvac.vapor_compression.machine | INFO] Iteration 1: Refrigerant entering evaporator with T = 4.000 °C, P = 3.377 bar, x = 28.268 %\n",
      "[24844 | hvac.vapor_compression.machine | INFO] Iteration 1: Refrigerant leaving evaporator with T = 14.000 °C, P = 3.377 bar\n",
      "[24844 | hvac.vapor_compression.machine | INFO] Iteration 1: Refrigerant mass flow rate through evaporator = 106.876 kg/h\n",
      "[24844 | hvac.vapor_compression.machine | INFO] Iteration 1: Deviation between refrigerant mass flow rates = 11.767 kg/h\n",
      "[24844 | hvac.vapor_compression.machine | INFO] Iteration 2: Try with: T_evp = 4.200 °C, T_cnd = 55.000 °C\n",
      "[24844 | hvac.vapor_compression.machine | INFO] Iteration 2: Refrigerant mass flow rate from compressor = 96.061 kg/h\n",
      "[24844 | hvac.vapor_compression.machine | INFO] Iteration 2: Refrigerant entering condenser with T = 97.830 °C, P = 14.915 bar\n",
      "[24844 | hvac.vapor_compression.machine | INFO] Iteration 2: Refrigerant leaving condenser with T = 42.944 °C, P = 14.915 bar\n",
      "[24844 | hvac.vapor_compression.machine | INFO] Iteration 2: Refrigerant entering evaporator with T = 4.200 °C, P = 3.400 bar, x = 28.187 %\n",
      "[24844 | hvac.vapor_compression.machine | INFO] Iteration 2: Refrigerant leaving evaporator with T = 14.200 °C, P = 3.400 bar\n",
      "[24844 | hvac.vapor_compression.machine | INFO] Iteration 2: Refrigerant mass flow rate through evaporator = 105.203 kg/h\n",
      "[24844 | hvac.vapor_compression.machine | INFO] Iteration 2: Deviation between refrigerant mass flow rates = 9.142 kg/h\n",
      "[24844 | hvac.vapor_compression.machine | INFO] Iteration 3: Try with: T_evp = 4.000 °C, T_cnd = 57.750 °C\n",
      "[24844 | hvac.vapor_compression.machine | INFO] Iteration 3: Refrigerant mass flow rate from compressor = 92.925 kg/h\n",
      "[24844 | hvac.vapor_compression.machine | INFO] Iteration 3: Refrigerant entering condenser with T = 101.804 °C, P = 15.940 bar\n",
      "[24844 | hvac.vapor_compression.machine | INFO] Iteration 3: Refrigerant leaving condenser with T = 38.233 °C, P = 15.940 bar\n",
      "[24844 | hvac.vapor_compression.machine | INFO] Iteration 3: Refrigerant entering evaporator with T = 4.000 °C, P = 3.377 bar, x = 24.699 %\n",
      "[24844 | hvac.vapor_compression.machine | INFO] Iteration 3: Refrigerant leaving evaporator with T = 14.000 °C, P = 3.377 bar\n",
      "[24844 | hvac.vapor_compression.machine | INFO] Iteration 3: Refrigerant mass flow rate through evaporator = 102.653 kg/h\n",
      "[24844 | hvac.vapor_compression.machine | INFO] Iteration 3: Deviation between refrigerant mass flow rates = 9.728 kg/h\n",
      "[24844 | hvac.vapor_compression.machine | INFO] Iteration 4: Try with: T_evp = 4.200 °C, T_cnd = 57.750 °C\n",
      "[24844 | hvac.vapor_compression.machine | INFO] Iteration 4: Refrigerant mass flow rate from compressor = 93.870 kg/h\n",
      "[24844 | hvac.vapor_compression.machine | INFO] Iteration 4: Refrigerant entering condenser with T = 101.511 °C, P = 15.940 bar\n",
      "[24844 | hvac.vapor_compression.machine | INFO] Iteration 4: Refrigerant leaving condenser with T = 38.331 °C, P = 15.940 bar\n",
      "[24844 | hvac.vapor_compression.machine | INFO] Iteration 4: Refrigerant entering evaporator with T = 4.200 °C, P = 3.400 bar, x = 24.655 %\n",
      "[24844 | hvac.vapor_compression.machine | INFO] Iteration 4: Refrigerant leaving evaporator with T = 14.200 °C, P = 3.400 bar\n",
      "[24844 | hvac.vapor_compression.machine | INFO] Iteration 4: Refrigerant mass flow rate through evaporator = 101.097 kg/h\n",
      "[24844 | hvac.vapor_compression.machine | INFO] Iteration 4: Deviation between refrigerant mass flow rates = 7.227 kg/h\n",
      "[24844 | hvac.vapor_compression.machine | INFO] Iteration 5: Try with: T_evp = 4.300 °C, T_cnd = 59.125 °C\n",
      "[24844 | hvac.vapor_compression.machine | INFO] Iteration 5: Refrigerant mass flow rate from compressor = 93.217 kg/h\n",
      "[24844 | hvac.vapor_compression.machine | INFO] Iteration 5: Refrigerant entering condenser with T = 103.265 °C, P = 16.472 bar\n",
      "[24844 | hvac.vapor_compression.machine | INFO] Iteration 5: Refrigerant leaving condenser with T = 38.144 °C, P = 16.472 bar\n",
      "[24844 | hvac.vapor_compression.machine | INFO] Iteration 5: Refrigerant entering evaporator with T = 4.300 °C, P = 3.412 bar, x = 24.450 %\n",
      "[24844 | hvac.vapor_compression.machine | INFO] Iteration 5: Refrigerant leaving evaporator with T = 14.300 °C, P = 3.412 bar\n",
      "[24844 | hvac.vapor_compression.machine | INFO] Iteration 5: Refrigerant mass flow rate through evaporator = 100.114 kg/h\n",
      "[24844 | hvac.vapor_compression.machine | INFO] Iteration 5: Deviation between refrigerant mass flow rates = 6.897 kg/h\n",
      "[24844 | hvac.vapor_compression.machine | INFO] Iteration 6: Try with: T_evp = 4.500 °C, T_cnd = 56.375 °C\n",
      "[24844 | hvac.vapor_compression.machine | INFO] Iteration 6: Refrigerant mass flow rate from compressor = 96.411 kg/h\n",
      "[24844 | hvac.vapor_compression.machine | INFO] Iteration 6: Refrigerant entering condenser with T = 99.224 °C, P = 15.421 bar\n",
      "[24844 | hvac.vapor_compression.machine | INFO] Iteration 6: Refrigerant leaving condenser with T = 42.528 °C, P = 15.421 bar\n",
      "[24844 | hvac.vapor_compression.machine | INFO] Iteration 6: Refrigerant entering evaporator with T = 4.500 °C, P = 3.436 bar, x = 27.685 %\n",
      "[24844 | hvac.vapor_compression.machine | INFO] Iteration 6: Refrigerant leaving evaporator with T = 14.500 °C, P = 3.436 bar\n",
      "[24844 | hvac.vapor_compression.machine | INFO] Iteration 6: Refrigerant mass flow rate through evaporator = 102.234 kg/h\n",
      "[24844 | hvac.vapor_compression.machine | INFO] Iteration 6: Deviation between refrigerant mass flow rates = 5.822 kg/h\n",
      "[24844 | hvac.vapor_compression.machine | INFO] Iteration 7: Try with: T_evp = 4.750 °C, T_cnd = 55.688 °C\n",
      "[24844 | hvac.vapor_compression.machine | INFO] Iteration 7: Refrigerant mass flow rate from compressor = 98.170 kg/h\n",
      "[24844 | hvac.vapor_compression.machine | INFO] Iteration 7: Refrigerant entering condenser with T = 97.964 °C, P = 15.167 bar\n",
      "[24844 | hvac.vapor_compression.machine | INFO] Iteration 7: Refrigerant leaving condenser with T = 42.921 °C, P = 15.167 bar\n",
      "[24844 | hvac.vapor_compression.machine | INFO] Iteration 7: Refrigerant entering evaporator with T = 4.750 °C, P = 3.466 bar, x = 27.846 %\n",
      "[24844 | hvac.vapor_compression.machine | INFO] Iteration 7: Refrigerant leaving evaporator with T = 14.750 °C, P = 3.466 bar\n",
      "[24844 | hvac.vapor_compression.machine | INFO] Iteration 7: Refrigerant mass flow rate through evaporator = 100.426 kg/h\n",
      "[24844 | hvac.vapor_compression.machine | INFO] Iteration 7: Deviation between refrigerant mass flow rates = 2.256 kg/h\n",
      "[24844 | hvac.vapor_compression.machine | INFO] Iteration 8: Try with: T_evp = 4.850 °C, T_cnd = 59.812 °C\n",
      "[24844 | hvac.vapor_compression.machine | INFO] Iteration 8: Refrigerant mass flow rate from compressor = 95.277 kg/h\n",
      "[24844 | hvac.vapor_compression.machine | INFO] Iteration 8: Refrigerant entering condenser with T = 103.415 °C, P = 16.743 bar\n",
      "[24844 | hvac.vapor_compression.machine | INFO] Iteration 8: Refrigerant leaving condenser with T = 41.829 °C, P = 16.743 bar\n",
      "[24844 | hvac.vapor_compression.machine | INFO] Iteration 8: Refrigerant entering evaporator with T = 4.850 °C, P = 3.478 bar, x = 26.930 %\n",
      "[24844 | hvac.vapor_compression.machine | INFO] Iteration 8: Refrigerant leaving evaporator with T = 14.850 °C, P = 3.478 bar\n",
      "[24844 | hvac.vapor_compression.machine | INFO] Iteration 8: Refrigerant mass flow rate through evaporator = 98.594 kg/h\n",
      "[24844 | hvac.vapor_compression.machine | INFO] Iteration 8: Deviation between refrigerant mass flow rates = 3.317 kg/h\n",
      "[24844 | hvac.vapor_compression.machine | INFO] Iteration 9: Try with: T_evp = 5.300 °C, T_cnd = 56.375 °C\n",
      "[24844 | hvac.vapor_compression.machine | INFO] Iteration 9: Refrigerant mass flow rate from compressor = 100.321 kg/h\n",
      "[24844 | hvac.vapor_compression.machine | INFO] Iteration 9: Refrigerant entering condenser with T = 98.109 °C, P = 15.421 bar\n",
      "[24844 | hvac.vapor_compression.machine | INFO] Iteration 9: Refrigerant leaving condenser with T = 42.916 °C, P = 15.421 bar\n",
      "[24844 | hvac.vapor_compression.machine | INFO] Iteration 9: Refrigerant entering evaporator with T = 5.300 °C, P = 3.533 bar, x = 27.517 %\n",
      "[24844 | hvac.vapor_compression.machine | INFO] Iteration 9: Refrigerant leaving evaporator with T = 15.300 °C, P = 3.533 bar\n",
      "[24844 | hvac.vapor_compression.machine | INFO] Iteration 9: Refrigerant mass flow rate through evaporator = 95.617 kg/h\n",
      "[24844 | hvac.vapor_compression.machine | INFO] Iteration 9: Deviation between refrigerant mass flow rates = 4.703 kg/h\n",
      "[24844 | hvac.vapor_compression.machine | INFO] Iteration 10: Try with: T_evp = 5.050 °C, T_cnd = 57.062 °C\n",
      "[24844 | hvac.vapor_compression.machine | INFO] Iteration 10: Refrigerant mass flow rate from compressor = 98.529 kg/h\n",
      "[24844 | hvac.vapor_compression.machine | INFO] Iteration 10: Refrigerant entering condenser with T = 99.366 °C, P = 15.679 bar\n",
      "[24844 | hvac.vapor_compression.machine | INFO] Iteration 10: Refrigerant leaving condenser with T = 42.566 °C, P = 15.679 bar\n",
      "[24844 | hvac.vapor_compression.machine | INFO] Iteration 10: Refrigerant entering evaporator with T = 5.050 °C, P = 3.503 bar, x = 27.390 %\n",
      "[24844 | hvac.vapor_compression.machine | INFO] Iteration 10: Refrigerant leaving evaporator with T = 15.050 °C, P = 3.503 bar\n",
      "[24844 | hvac.vapor_compression.machine | INFO] Iteration 10: Refrigerant mass flow rate through evaporator = 97.504 kg/h\n",
      "[24844 | hvac.vapor_compression.machine | INFO] Iteration 10: Deviation between refrigerant mass flow rates = 1.025 kg/h\n",
      "[24844 | hvac.vapor_compression.machine | INFO] Iteration 11: Try with: T_evp = 4.950 °C, T_cnd = 52.938 °C\n",
      "[24844 | hvac.vapor_compression.machine | INFO] Iteration 11: Refrigerant mass flow rate from compressor = 101.294 kg/h\n",
      "[24844 | hvac.vapor_compression.machine | INFO] Iteration 11: Refrigerant entering condenser with T = 94.155 °C, P = 14.179 bar\n",
      "[24844 | hvac.vapor_compression.machine | INFO] Iteration 11: Refrigerant leaving condenser with T = 43.546 °C, P = 14.179 bar\n",
      "[24844 | hvac.vapor_compression.machine | INFO] Iteration 11: Refrigerant entering evaporator with T = 4.950 °C, P = 3.491 bar, x = 28.225 %\n",
      "[24844 | hvac.vapor_compression.machine | INFO] Iteration 11: Refrigerant leaving evaporator with T = 14.950 °C, P = 3.491 bar\n",
      "[24844 | hvac.vapor_compression.machine | INFO] Iteration 11: Refrigerant mass flow rate through evaporator = 99.246 kg/h\n",
      "[24844 | hvac.vapor_compression.machine | INFO] Iteration 11: Deviation between refrigerant mass flow rates = 2.048 kg/h\n",
      "[24844 | hvac.vapor_compression.machine | INFO] Iteration 12: Try with: T_evp = 5.250 °C, T_cnd = 54.312 °C\n",
      "[24844 | hvac.vapor_compression.machine | INFO] Iteration 12: Refrigerant mass flow rate from compressor = 101.716 kg/h\n",
      "[24844 | hvac.vapor_compression.machine | INFO] Iteration 12: Refrigerant entering condenser with T = 95.502 °C, P = 14.667 bar\n",
      "[24844 | hvac.vapor_compression.machine | INFO] Iteration 12: Refrigerant leaving condenser with T = 43.580 °C, P = 14.667 bar\n",
      "[24844 | hvac.vapor_compression.machine | INFO] Iteration 12: Refrigerant entering evaporator with T = 5.250 °C, P = 3.527 bar, x = 28.071 %\n",
      "[24844 | hvac.vapor_compression.machine | INFO] Iteration 12: Refrigerant leaving evaporator with T = 15.250 °C, P = 3.527 bar\n",
      "[24844 | hvac.vapor_compression.machine | INFO] Iteration 12: Refrigerant mass flow rate through evaporator = 96.630 kg/h\n",
      "[24844 | hvac.vapor_compression.machine | INFO] Iteration 12: Deviation between refrigerant mass flow rates = 5.087 kg/h\n",
      "[24844 | hvac.vapor_compression.machine | INFO] Iteration 13: Try with: T_evp = 4.875 °C, T_cnd = 55.344 °C\n",
      "[24844 | hvac.vapor_compression.machine | INFO] Iteration 13: Refrigerant mass flow rate from compressor = 99.053 kg/h\n",
      "[24844 | hvac.vapor_compression.machine | INFO] Iteration 13: Refrigerant entering condenser with T = 97.341 °C, P = 15.040 bar\n",
      "[24844 | hvac.vapor_compression.machine | INFO] Iteration 13: Refrigerant leaving condenser with T = 43.204 °C, P = 15.040 bar\n",
      "[24844 | hvac.vapor_compression.machine | INFO] Iteration 13: Refrigerant entering evaporator with T = 4.875 °C, P = 3.481 bar, x = 27.993 %\n",
      "[24844 | hvac.vapor_compression.machine | INFO] Iteration 13: Refrigerant leaving evaporator with T = 14.875 °C, P = 3.481 bar\n",
      "[24844 | hvac.vapor_compression.machine | INFO] Iteration 13: Refrigerant mass flow rate through evaporator = 99.590 kg/h\n",
      "[24844 | hvac.vapor_compression.machine | INFO] Iteration 13: Deviation between refrigerant mass flow rates = 0.537 kg/h\n",
      "[24844 | hvac.vapor_compression.machine | INFO] Iteration 14: Try with: T_evp = 4.975 °C, T_cnd = 59.469 °C\n",
      "[24844 | hvac.vapor_compression.machine | INFO] Iteration 14: Refrigerant mass flow rate from compressor = 96.172 kg/h\n",
      "[24844 | hvac.vapor_compression.machine | INFO] Iteration 14: Refrigerant entering condenser with T = 102.752 °C, P = 16.607 bar\n",
      "[24844 | hvac.vapor_compression.machine | INFO] Iteration 14: Refrigerant leaving condenser with T = 41.924 °C, P = 16.607 bar\n",
      "[24844 | hvac.vapor_compression.machine | INFO] Iteration 14: Refrigerant entering evaporator with T = 4.975 °C, P = 3.494 bar, x = 26.930 %\n",
      "[24844 | hvac.vapor_compression.machine | INFO] Iteration 14: Refrigerant leaving evaporator with T = 14.975 °C, P = 3.494 bar\n",
      "[24844 | hvac.vapor_compression.machine | INFO] Iteration 14: Refrigerant mass flow rate through evaporator = 97.598 kg/h\n",
      "[24844 | hvac.vapor_compression.machine | INFO] Iteration 14: Deviation between refrigerant mass flow rates = 1.427 kg/h\n",
      "[24844 | hvac.vapor_compression.machine | INFO] Iteration 15: Try with: T_evp = 4.969 °C, T_cnd = 57.836 °C\n",
      "[24844 | hvac.vapor_compression.machine | INFO] Iteration 15: Refrigerant mass flow rate from compressor = 97.498 kg/h\n",
      "[24844 | hvac.vapor_compression.machine | INFO] Iteration 15: Refrigerant entering condenser with T = 100.520 °C, P = 15.973 bar\n",
      "[24844 | hvac.vapor_compression.machine | INFO] Iteration 15: Refrigerant leaving condenser with T = 42.288 °C, P = 15.973 bar\n",
      "[24844 | hvac.vapor_compression.machine | INFO] Iteration 15: Refrigerant entering evaporator with T = 4.969 °C, P = 3.493 bar, x = 27.221 %\n",
      "[24844 | hvac.vapor_compression.machine | INFO] Iteration 15: Refrigerant leaving evaporator with T = 14.969 °C, P = 3.493 bar\n",
      "[24844 | hvac.vapor_compression.machine | INFO] Iteration 15: Refrigerant mass flow rate through evaporator = 97.969 kg/h\n",
      "[24844 | hvac.vapor_compression.machine | INFO] Iteration 15: Deviation between refrigerant mass flow rates = 0.471 kg/h\n",
      "[24844 | hvac.vapor_compression.machine | INFO] Iteration 16: Try with: T_evp = 4.794 °C, T_cnd = 56.117 °C\n",
      "[24844 | hvac.vapor_compression.machine | INFO] Iteration 16: Refrigerant mass flow rate from compressor = 98.040 kg/h\n",
      "[24844 | hvac.vapor_compression.machine | INFO] Iteration 16: Refrigerant entering condenser with T = 98.469 °C, P = 15.325 bar\n",
      "[24844 | hvac.vapor_compression.machine | INFO] Iteration 16: Refrigerant leaving condenser with T = 42.762 °C, P = 15.325 bar\n",
      "[24844 | hvac.vapor_compression.machine | INFO] Iteration 16: Refrigerant entering evaporator with T = 4.794 °C, P = 3.472 bar, x = 27.696 %\n",
      "[24844 | hvac.vapor_compression.machine | INFO] Iteration 16: Refrigerant leaving evaporator with T = 14.794 °C, P = 3.472 bar\n",
      "[24844 | hvac.vapor_compression.machine | INFO] Iteration 16: Refrigerant mass flow rate through evaporator = 99.904 kg/h\n",
      "[24844 | hvac.vapor_compression.machine | INFO] Iteration 16: Deviation between refrigerant mass flow rates = 1.864 kg/h\n",
      "[24844 | hvac.vapor_compression.machine | INFO] Iteration 17: Try with: T_evp = 4.986 °C, T_cnd = 56.826 °C\n",
      "[24844 | hvac.vapor_compression.machine | INFO] Iteration 17: Refrigerant mass flow rate from compressor = 98.407 kg/h\n",
      "[24844 | hvac.vapor_compression.machine | INFO] Iteration 17: Refrigerant entering condenser with T = 99.141 °C, P = 15.590 bar\n",
      "[24844 | hvac.vapor_compression.machine | INFO] Iteration 17: Refrigerant leaving condenser with T = 42.589 °C, P = 15.590 bar\n",
      "[24844 | hvac.vapor_compression.machine | INFO] Iteration 17: Refrigerant entering evaporator with T = 4.986 °C, P = 3.495 bar, x = 27.446 %\n",
      "[24844 | hvac.vapor_compression.machine | INFO] Iteration 17: Refrigerant leaving evaporator with T = 14.986 °C, P = 3.495 bar\n",
      "[24844 | hvac.vapor_compression.machine | INFO] Iteration 17: Refrigerant mass flow rate through evaporator = 98.081 kg/h\n",
      "[24844 | hvac.vapor_compression.machine | INFO] Iteration 17: Deviation between refrigerant mass flow rates = 0.326 kg/h\n",
      "[24844 | hvac.vapor_compression.machine | INFO] Iteration 18: Try with: T_evp = 5.080 °C, T_cnd = 59.318 °C\n",
      "[24844 | hvac.vapor_compression.machine | INFO] Iteration 18: Refrigerant mass flow rate from compressor = 96.808 kg/h\n",
      "[24844 | hvac.vapor_compression.machine | INFO] Iteration 18: Refrigerant entering condenser with T = 102.391 °C, P = 16.548 bar\n",
      "[24844 | hvac.vapor_compression.machine | INFO] Iteration 18: Refrigerant leaving condenser with T = 41.984 °C, P = 16.548 bar\n",
      "[24844 | hvac.vapor_compression.machine | INFO] Iteration 18: Refrigerant entering evaporator with T = 5.080 °C, P = 3.506 bar, x = 26.915 %\n",
      "[24844 | hvac.vapor_compression.machine | INFO] Iteration 18: Refrigerant leaving evaporator with T = 15.080 °C, P = 3.506 bar\n",
      "[24844 | hvac.vapor_compression.machine | INFO] Iteration 18: Refrigerant mass flow rate through evaporator = 96.744 kg/h\n",
      "[24844 | hvac.vapor_compression.machine | INFO] Iteration 18: Deviation between refrigerant mass flow rates = 0.064 kg/h\n",
      "[24844 | hvac.vapor_compression.machine | INFO] Iteration 19: Try with: T_evp = 5.182 °C, T_cnd = 61.306 °C\n",
      "[24844 | hvac.vapor_compression.machine | INFO] Iteration 19: Refrigerant mass flow rate from compressor = 95.618 kg/h\n",
      "[24844 | hvac.vapor_compression.machine | INFO] Iteration 19: Refrigerant entering condenser with T = 105.042 °C, P = 17.343 bar\n",
      "[24844 | hvac.vapor_compression.machine | INFO] Iteration 19: Refrigerant leaving condenser with T = 41.724 °C, P = 17.343 bar\n",
      "[24844 | hvac.vapor_compression.machine | INFO] Iteration 19: Refrigerant entering evaporator with T = 5.182 °C, P = 3.519 bar, x = 26.647 %\n",
      "[24844 | hvac.vapor_compression.machine | INFO] Iteration 19: Refrigerant leaving evaporator with T = 15.182 °C, P = 3.519 bar\n",
      "[24844 | hvac.vapor_compression.machine | INFO] Iteration 19: Refrigerant mass flow rate through evaporator = 95.635 kg/h\n",
      "[24844 | hvac.vapor_compression.machine | INFO] Iteration 19: Deviation between refrigerant mass flow rates = 0.017 kg/h\n",
      "[24844 | hvac.vapor_compression.machine | INFO] Iteration 20: Try with: T_evp = 5.199 °C, T_cnd = 60.296 °C\n",
      "[24844 | hvac.vapor_compression.machine | INFO] Iteration 20: Refrigerant mass flow rate from compressor = 96.566 kg/h\n",
      "[24844 | hvac.vapor_compression.machine | INFO] Iteration 20: Refrigerant entering condenser with T = 103.583 °C, P = 16.936 bar\n",
      "[24844 | hvac.vapor_compression.machine | INFO] Iteration 20: Refrigerant leaving condenser with T = 41.850 °C, P = 16.936 bar\n",
      "[24844 | hvac.vapor_compression.machine | INFO] Iteration 20: Refrigerant entering evaporator with T = 5.199 °C, P = 3.521 bar, x = 26.738 %\n",
      "[24844 | hvac.vapor_compression.machine | INFO] Iteration 20: Refrigerant leaving evaporator with T = 15.199 °C, P = 3.521 bar\n",
      "[24844 | hvac.vapor_compression.machine | INFO] Iteration 20: Refrigerant mass flow rate through evaporator = 95.594 kg/h\n",
      "[24844 | hvac.vapor_compression.machine | INFO] Iteration 20: Deviation between refrigerant mass flow rates = 0.972 kg/h\n",
      "[24844 | hvac.vapor_compression.machine | INFO] Iteration 21: Try with: T_evp = 5.026 °C, T_cnd = 58.451 °C\n",
      "[24844 | hvac.vapor_compression.machine | INFO] Iteration 21: Refrigerant mass flow rate from compressor = 97.271 kg/h\n",
      "[24844 | hvac.vapor_compression.machine | INFO] Iteration 21: Refrigerant entering condenser with T = 101.275 °C, P = 16.210 bar\n",
      "[24844 | hvac.vapor_compression.machine | INFO] Iteration 21: Refrigerant leaving condenser with T = 42.152 °C, P = 16.210 bar\n",
      "[24844 | hvac.vapor_compression.machine | INFO] Iteration 21: Refrigerant entering evaporator with T = 5.026 °C, P = 3.500 bar, x = 27.080 %\n",
      "[24844 | hvac.vapor_compression.machine | INFO] Iteration 21: Refrigerant leaving evaporator with T = 15.026 °C, P = 3.500 bar\n",
      "[24844 | hvac.vapor_compression.machine | INFO] Iteration 21: Refrigerant mass flow rate through evaporator = 97.352 kg/h\n",
      "[24844 | hvac.vapor_compression.machine | INFO] Iteration 21: Deviation between refrigerant mass flow rates = 0.080 kg/h\n",
      "[24844 | hvac.vapor_compression.machine | INFO] Iteration 22: Try with: T_evp = 5.222 °C, T_cnd = 62.930 °C\n",
      "[24844 | hvac.vapor_compression.machine | INFO] Iteration 22: Refrigerant mass flow rate from compressor = 94.403 kg/h\n",
      "[24844 | hvac.vapor_compression.machine | INFO] Iteration 22: Refrigerant entering condenser with T = 107.348 °C, P = 18.015 bar\n",
      "[24844 | hvac.vapor_compression.machine | INFO] Iteration 22: Refrigerant leaving condenser with T = 41.271 °C, P = 18.015 bar\n",
      "[24844 | hvac.vapor_compression.machine | INFO] Iteration 22: Refrigerant entering evaporator with T = 5.222 °C, P = 3.524 bar, x = 26.270 %\n",
      "[24844 | hvac.vapor_compression.machine | INFO] Iteration 22: Refrigerant leaving evaporator with T = 15.222 °C, P = 3.524 bar\n",
      "[24844 | hvac.vapor_compression.machine | INFO] Iteration 22: Refrigerant mass flow rate through evaporator = 94.909 kg/h\n",
      "[24844 | hvac.vapor_compression.machine | INFO] Iteration 22: Deviation between refrigerant mass flow rates = 0.505 kg/h\n",
      "[24844 | hvac.vapor_compression.machine | INFO] Iteration 23: Try with: T_evp = 5.045 °C, T_cnd = 58.352 °C\n",
      "[24844 | hvac.vapor_compression.machine | INFO] Iteration 23: Refrigerant mass flow rate from compressor = 97.445 kg/h\n",
      "[24844 | hvac.vapor_compression.machine | INFO] Iteration 23: Refrigerant entering condenser with T = 101.113 °C, P = 16.172 bar\n",
      "[24844 | hvac.vapor_compression.machine | INFO] Iteration 23: Refrigerant leaving condenser with T = 42.183 °C, P = 16.172 bar\n",
      "[24844 | hvac.vapor_compression.machine | INFO] Iteration 23: Refrigerant entering evaporator with T = 5.045 °C, P = 3.502 bar, x = 27.092 %\n",
      "[24844 | hvac.vapor_compression.machine | INFO] Iteration 23: Refrigerant leaving evaporator with T = 15.045 °C, P = 3.502 bar\n",
      "[24844 | hvac.vapor_compression.machine | INFO] Iteration 23: Refrigerant mass flow rate through evaporator = 97.216 kg/h\n",
      "[24844 | hvac.vapor_compression.machine | INFO] Iteration 23: Deviation between refrigerant mass flow rates = 0.229 kg/h\n",
      "[24844 | hvac.vapor_compression.machine | INFO] Iteration 24: Try with: T_evp = 5.163 °C, T_cnd = 61.404 °C\n",
      "[24844 | hvac.vapor_compression.machine | INFO] Iteration 24: Refrigerant mass flow rate from compressor = 95.441 kg/h\n",
      "[24844 | hvac.vapor_compression.machine | INFO] Iteration 24: Refrigerant entering condenser with T = 105.212 °C, P = 17.384 bar\n",
      "[24844 | hvac.vapor_compression.machine | INFO] Iteration 24: Refrigerant leaving condenser with T = 41.709 °C, P = 17.384 bar\n",
      "[24844 | hvac.vapor_compression.machine | INFO] Iteration 24: Refrigerant entering evaporator with T = 5.163 °C, P = 3.516 bar, x = 26.646 %\n",
      "[24844 | hvac.vapor_compression.machine | INFO] Iteration 24: Refrigerant leaving evaporator with T = 15.163 °C, P = 3.516 bar\n",
      "[24844 | hvac.vapor_compression.machine | INFO] Iteration 24: Refrigerant mass flow rate through evaporator = 95.783 kg/h\n",
      "[24844 | hvac.vapor_compression.machine | INFO] Iteration 24: Deviation between refrigerant mass flow rates = 0.342 kg/h\n",
      "[24844 | hvac.vapor_compression.machine | INFO] Iteration 25: Try with: T_evp = 5.075 °C, T_cnd = 59.115 °C\n",
      "[24844 | hvac.vapor_compression.machine | INFO] Iteration 25: Refrigerant mass flow rate from compressor = 96.953 kg/h\n",
      "[24844 | hvac.vapor_compression.machine | INFO] Iteration 25: Refrigerant entering condenser with T = 102.118 °C, P = 16.469 bar\n",
      "[24844 | hvac.vapor_compression.machine | INFO] Iteration 25: Refrigerant leaving condenser with T = 42.023 °C, P = 16.469 bar\n",
      "[24844 | hvac.vapor_compression.machine | INFO] Iteration 25: Refrigerant entering evaporator with T = 5.075 °C, P = 3.506 bar, x = 26.949 %\n",
      "[24844 | hvac.vapor_compression.machine | INFO] Iteration 25: Refrigerant leaving evaporator with T = 15.075 °C, P = 3.506 bar\n",
      "[24844 | hvac.vapor_compression.machine | INFO] Iteration 25: Refrigerant mass flow rate through evaporator = 96.821 kg/h\n",
      "[24844 | hvac.vapor_compression.machine | INFO] Iteration 25: Deviation between refrigerant mass flow rates = 0.132 kg/h\n",
      "[24844 | hvac.vapor_compression.machine | INFO] Iteration 26: Try with: T_evp = 5.134 °C, T_cnd = 60.641 °C\n",
      "[24844 | hvac.vapor_compression.machine | INFO] Iteration 26: Refrigerant mass flow rate from compressor = 95.952 kg/h\n",
      "[24844 | hvac.vapor_compression.machine | INFO] Iteration 26: Refrigerant entering condenser with T = 104.166 °C, P = 17.075 bar\n",
      "[24844 | hvac.vapor_compression.machine | INFO] Iteration 26: Refrigerant leaving condenser with T = 41.782 °C, P = 17.075 bar\n",
      "[24844 | hvac.vapor_compression.machine | INFO] Iteration 26: Refrigerant entering evaporator with T = 5.134 °C, P = 3.513 bar, x = 26.723 %\n",
      "[24844 | hvac.vapor_compression.machine | INFO] Iteration 26: Refrigerant leaving evaporator with T = 15.134 °C, P = 3.513 bar\n",
      "[24844 | hvac.vapor_compression.machine | INFO] Iteration 26: Refrigerant mass flow rate through evaporator = 96.103 kg/h\n",
      "[24844 | hvac.vapor_compression.machine | INFO] Iteration 26: Deviation between refrigerant mass flow rates = 0.151 kg/h\n",
      "[24844 | hvac.vapor_compression.machine | INFO] Iteration 27: Try with: T_evp = 5.089 °C, T_cnd = 59.497 °C\n",
      "[24844 | hvac.vapor_compression.machine | INFO] Iteration 27: Refrigerant mass flow rate from compressor = 96.705 kg/h\n",
      "[24844 | hvac.vapor_compression.machine | INFO] Iteration 27: Refrigerant entering condenser with T = 102.625 °C, P = 16.618 bar\n",
      "[24844 | hvac.vapor_compression.machine | INFO] Iteration 27: Refrigerant leaving condenser with T = 41.953 °C, P = 16.618 bar\n",
      "[24844 | hvac.vapor_compression.machine | INFO] Iteration 27: Refrigerant entering evaporator with T = 5.089 °C, P = 3.507 bar, x = 26.885 %\n",
      "[24844 | hvac.vapor_compression.machine | INFO] Iteration 27: Refrigerant leaving evaporator with T = 15.089 °C, P = 3.507 bar\n",
      "[24844 | hvac.vapor_compression.machine | INFO] Iteration 27: Refrigerant mass flow rate through evaporator = 96.634 kg/h\n",
      "[24844 | hvac.vapor_compression.machine | INFO] Iteration 27: Deviation between refrigerant mass flow rates = 0.072 kg/h\n",
      "[24844 | hvac.vapor_compression.machine | INFO] Iteration 28: Try with: T_evp = 5.245 °C, T_cnd = 62.352 °C\n",
      "[24844 | hvac.vapor_compression.machine | INFO] Iteration 28: Refrigerant mass flow rate from compressor = 95.019 kg/h\n",
      "[24844 | hvac.vapor_compression.machine | INFO] Iteration 28: Refrigerant entering condenser with T = 106.462 °C, P = 17.773 bar\n",
      "[24844 | hvac.vapor_compression.machine | INFO] Iteration 28: Refrigerant leaving condenser with T = 41.312 °C, P = 17.773 bar\n",
      "[24844 | hvac.vapor_compression.machine | INFO] Iteration 28: Refrigerant entering evaporator with T = 5.245 °C, P = 3.526 bar, x = 26.290 %\n",
      "[24844 | hvac.vapor_compression.machine | INFO] Iteration 28: Refrigerant leaving evaporator with T = 15.245 °C, P = 3.526 bar\n",
      "[24844 | hvac.vapor_compression.machine | INFO] Iteration 28: Refrigerant mass flow rate through evaporator = 94.749 kg/h\n",
      "[24844 | hvac.vapor_compression.machine | INFO] Iteration 28: Deviation between refrigerant mass flow rates = 0.270 kg/h\n",
      "[24844 | hvac.vapor_compression.machine | INFO] Iteration 29: Try with: T_evp = 5.081 °C, T_cnd = 59.426 °C\n",
      "[24844 | hvac.vapor_compression.machine | INFO] Iteration 29: Refrigerant mass flow rate from compressor = 96.724 kg/h\n",
      "[24844 | hvac.vapor_compression.machine | INFO] Iteration 29: Refrigerant entering condenser with T = 102.539 °C, P = 16.591 bar\n",
      "[24844 | hvac.vapor_compression.machine | INFO] Iteration 29: Refrigerant leaving condenser with T = 41.964 °C, P = 16.591 bar\n",
      "[24844 | hvac.vapor_compression.machine | INFO] Iteration 29: Refrigerant entering evaporator with T = 5.081 °C, P = 3.506 bar, x = 26.898 %\n",
      "[24844 | hvac.vapor_compression.machine | INFO] Iteration 29: Refrigerant leaving evaporator with T = 15.081 °C, P = 3.506 bar\n",
      "[24844 | hvac.vapor_compression.machine | INFO] Iteration 29: Refrigerant mass flow rate through evaporator = 96.715 kg/h\n",
      "[24844 | hvac.vapor_compression.machine | INFO] Iteration 29: Deviation between refrigerant mass flow rates = 0.009 kg/h\n",
      "[24844 | hvac.vapor_compression.machine | INFO] Iteration 30: Try with: T_evp = 5.174 °C, T_cnd = 61.235 °C\n",
      "[24844 | hvac.vapor_compression.machine | INFO] Iteration 30: Refrigerant mass flow rate from compressor = 95.638 kg/h\n",
      "[24844 | hvac.vapor_compression.machine | INFO] Iteration 30: Refrigerant entering condenser with T = 104.953 °C, P = 17.315 bar\n",
      "[24844 | hvac.vapor_compression.machine | INFO] Iteration 30: Refrigerant leaving condenser with T = 41.730 °C, P = 17.315 bar\n",
      "[24844 | hvac.vapor_compression.machine | INFO] Iteration 30: Refrigerant entering evaporator with T = 5.174 °C, P = 3.518 bar, x = 26.657 %\n",
      "[24844 | hvac.vapor_compression.machine | INFO] Iteration 30: Refrigerant leaving evaporator with T = 15.174 °C, P = 3.518 bar\n",
      "[24844 | hvac.vapor_compression.machine | INFO] Iteration 30: Refrigerant mass flow rate through evaporator = 95.712 kg/h\n",
      "[24844 | hvac.vapor_compression.machine | INFO] Iteration 30: Deviation between refrigerant mass flow rates = 0.075 kg/h\n",
      "[24844 | hvac.vapor_compression.machine | INFO] Iteration 31: Try with: T_evp = 5.110 °C, T_cnd = 59.931 °C\n",
      "[24844 | hvac.vapor_compression.machine | INFO] Iteration 31: Refrigerant mass flow rate from compressor = 96.442 kg/h\n",
      "[24844 | hvac.vapor_compression.machine | INFO] Iteration 31: Refrigerant entering condenser with T = 103.200 °C, P = 16.791 bar\n",
      "[24844 | hvac.vapor_compression.machine | INFO] Iteration 31: Refrigerant leaving condenser with T = 41.883 °C, P = 16.791 bar\n",
      "[24844 | hvac.vapor_compression.machine | INFO] Iteration 31: Refrigerant entering evaporator with T = 5.110 °C, P = 3.510 bar, x = 26.817 %\n",
      "[24844 | hvac.vapor_compression.machine | INFO] Iteration 31: Refrigerant leaving evaporator with T = 15.110 °C, P = 3.510 bar\n",
      "[24844 | hvac.vapor_compression.machine | INFO] Iteration 31: Refrigerant mass flow rate through evaporator = 96.391 kg/h\n",
      "[24844 | hvac.vapor_compression.machine | INFO] Iteration 31: Deviation between refrigerant mass flow rates = 0.050 kg/h\n",
      "[24844 | hvac.vapor_compression.machine | INFO] Iteration 32: Try with: T_evp = 5.153 °C, T_cnd = 60.800 °C\n",
      "[24844 | hvac.vapor_compression.machine | INFO] Iteration 32: Refrigerant mass flow rate from compressor = 95.908 kg/h\n",
      "[24844 | hvac.vapor_compression.machine | INFO] Iteration 32: Refrigerant entering condenser with T = 104.365 °C, P = 17.139 bar\n",
      "[24844 | hvac.vapor_compression.machine | INFO] Iteration 32: Refrigerant leaving condenser with T = 41.765 °C, P = 17.139 bar\n",
      "[24844 | hvac.vapor_compression.machine | INFO] Iteration 32: Refrigerant entering evaporator with T = 5.153 °C, P = 3.515 bar, x = 26.698 %\n",
      "[24844 | hvac.vapor_compression.machine | INFO] Iteration 32: Refrigerant leaving evaporator with T = 15.153 °C, P = 3.515 bar\n",
      "[24844 | hvac.vapor_compression.machine | INFO] Iteration 32: Refrigerant mass flow rate through evaporator = 95.925 kg/h\n",
      "[24844 | hvac.vapor_compression.machine | INFO] Iteration 32: Deviation between refrigerant mass flow rates = 0.017 kg/h\n",
      "[24844 | hvac.vapor_compression.machine | INFO] Iteration 33: Try with: T_evp = 5.142 °C, T_cnd = 60.583 °C\n",
      "[24844 | hvac.vapor_compression.machine | INFO] Iteration 33: Refrigerant mass flow rate from compressor = 96.042 kg/h\n",
      "[24844 | hvac.vapor_compression.machine | INFO] Iteration 33: Refrigerant entering condenser with T = 104.072 °C, P = 17.051 bar\n",
      "[24844 | hvac.vapor_compression.machine | INFO] Iteration 33: Refrigerant leaving condenser with T = 41.792 °C, P = 17.051 bar\n",
      "[24844 | hvac.vapor_compression.machine | INFO] Iteration 33: Refrigerant entering evaporator with T = 5.142 °C, P = 3.514 bar, x = 26.726 %\n",
      "[24844 | hvac.vapor_compression.machine | INFO] Iteration 33: Refrigerant leaving evaporator with T = 15.142 °C, P = 3.514 bar\n",
      "[24844 | hvac.vapor_compression.machine | INFO] Iteration 33: Refrigerant mass flow rate through evaporator = 96.040 kg/h\n",
      "[24844 | hvac.vapor_compression.machine | INFO] Iteration 33: Deviation between refrigerant mass flow rates = 0.002 kg/h\n",
      "[24844 | hvac.vapor_compression.machine | INFO] Iteration 34: Try with: T_evp = 5.041 °C, T_cnd = 58.704 °C\n",
      "[24844 | hvac.vapor_compression.machine | INFO] Iteration 34: Refrigerant mass flow rate from compressor = 97.133 kg/h\n",
      "[24844 | hvac.vapor_compression.machine | INFO] Iteration 34: Refrigerant entering condenser with T = 101.599 °C, P = 16.308 bar\n",
      "[24844 | hvac.vapor_compression.machine | INFO] Iteration 34: Refrigerant leaving condenser with T = 42.099 °C, P = 16.308 bar\n",
      "[24844 | hvac.vapor_compression.machine | INFO] Iteration 34: Refrigerant entering evaporator with T = 5.041 °C, P = 3.502 bar, x = 27.029 %\n",
      "[24844 | hvac.vapor_compression.machine | INFO] Iteration 34: Refrigerant leaving evaporator with T = 15.041 °C, P = 3.502 bar\n",
      "[24844 | hvac.vapor_compression.machine | INFO] Iteration 34: Refrigerant mass flow rate through evaporator = 97.178 kg/h\n",
      "[24844 | hvac.vapor_compression.machine | INFO] Iteration 34: Deviation between refrigerant mass flow rates = 0.045 kg/h\n",
      "[24844 | hvac.vapor_compression.machine | INFO] Iteration 35: Try with: T_evp = 5.147 °C, T_cnd = 60.655 °C\n",
      "[24844 | hvac.vapor_compression.machine | INFO] Iteration 35: Refrigerant mass flow rate from compressor = 96.003 kg/h\n",
      "[24844 | hvac.vapor_compression.machine | INFO] Iteration 35: Refrigerant entering condenser with T = 104.167 °C, P = 17.080 bar\n",
      "[24844 | hvac.vapor_compression.machine | INFO] Iteration 35: Refrigerant leaving condenser with T = 41.783 °C, P = 17.080 bar\n",
      "[24844 | hvac.vapor_compression.machine | INFO] Iteration 35: Refrigerant entering evaporator with T = 5.147 °C, P = 3.514 bar, x = 26.716 %\n",
      "[24844 | hvac.vapor_compression.machine | INFO] Iteration 35: Refrigerant leaving evaporator with T = 15.147 °C, P = 3.514 bar\n",
      "[24844 | hvac.vapor_compression.machine | INFO] Iteration 35: Refrigerant mass flow rate through evaporator = 95.991 kg/h\n",
      "[24844 | hvac.vapor_compression.machine | INFO] Iteration 35: Deviation between refrigerant mass flow rates = 0.012 kg/h\n",
      "[24844 | hvac.vapor_compression.machine | INFO] Iteration 36: Try with: T_evp = 5.076 °C, T_cnd = 59.354 °C\n",
      "[24844 | hvac.vapor_compression.machine | INFO] Iteration 36: Refrigerant mass flow rate from compressor = 96.761 kg/h\n",
      "[24844 | hvac.vapor_compression.machine | INFO] Iteration 36: Refrigerant entering condenser with T = 102.446 °C, P = 16.562 bar\n",
      "[24844 | hvac.vapor_compression.machine | INFO] Iteration 36: Refrigerant leaving condenser with T = 41.976 °C, P = 16.562 bar\n",
      "[24844 | hvac.vapor_compression.machine | INFO] Iteration 36: Refrigerant entering evaporator with T = 5.076 °C, P = 3.506 bar, x = 26.911 %\n",
      "[24844 | hvac.vapor_compression.machine | INFO] Iteration 36: Refrigerant leaving evaporator with T = 15.076 °C, P = 3.506 bar\n",
      "[24844 | hvac.vapor_compression.machine | INFO] Iteration 36: Refrigerant mass flow rate through evaporator = 96.767 kg/h\n",
      "[24844 | hvac.vapor_compression.machine | INFO] Iteration 36: Deviation between refrigerant mass flow rates = 0.005 kg/h\n",
      "[24844 | hvac.vapor_compression.machine | INFO] Iteration 37: Try with: T_evp = 5.137 °C, T_cnd = 60.511 °C\n",
      "[24844 | hvac.vapor_compression.machine | INFO] Iteration 37: Refrigerant mass flow rate from compressor = 96.080 kg/h\n",
      "[24844 | hvac.vapor_compression.machine | INFO] Iteration 37: Refrigerant entering condenser with T = 103.977 °C, P = 17.022 bar\n",
      "[24844 | hvac.vapor_compression.machine | INFO] Iteration 37: Refrigerant leaving condenser with T = 41.801 °C, P = 17.022 bar\n",
      "[24844 | hvac.vapor_compression.machine | INFO] Iteration 37: Refrigerant entering evaporator with T = 5.137 °C, P = 3.513 bar, x = 26.736 %\n",
      "[24844 | hvac.vapor_compression.machine | INFO] Iteration 37: Refrigerant leaving evaporator with T = 15.137 °C, P = 3.513 bar\n",
      "[24844 | hvac.vapor_compression.machine | INFO] Iteration 37: Refrigerant mass flow rate through evaporator = 96.088 kg/h\n",
      "[24844 | hvac.vapor_compression.machine | INFO] Iteration 37: Deviation between refrigerant mass flow rates = 0.008 kg/h\n",
      "[24844 | hvac.vapor_compression.machine | INFO] Iteration 38: Try with: T_evp = 5.123 °C, T_cnd = 60.240 °C\n",
      "[24844 | hvac.vapor_compression.machine | INFO] Iteration 38: Refrigerant mass flow rate from compressor = 96.242 kg/h\n",
      "[24844 | hvac.vapor_compression.machine | INFO] Iteration 38: Refrigerant entering condenser with T = 103.615 °C, P = 16.914 bar\n",
      "[24844 | hvac.vapor_compression.machine | INFO] Iteration 38: Refrigerant leaving condenser with T = 41.838 °C, P = 16.914 bar\n",
      "[24844 | hvac.vapor_compression.machine | INFO] Iteration 38: Refrigerant entering evaporator with T = 5.123 °C, P = 3.512 bar, x = 26.773 %\n",
      "[24844 | hvac.vapor_compression.machine | INFO] Iteration 38: Refrigerant leaving evaporator with T = 15.123 °C, P = 3.512 bar\n",
      "[24844 | hvac.vapor_compression.machine | INFO] Iteration 38: Refrigerant mass flow rate through evaporator = 96.241 kg/h\n",
      "[24844 | hvac.vapor_compression.machine | INFO] Iteration 38: Deviation between refrigerant mass flow rates = 0.001 kg/h\n",
      "[24844 | hvac.vapor_compression.machine | INFO] Analysis finished after 38 iterations with remaining deviation of 0.001 kg/h and message: Optimization terminated successfully.\n",
      "[24844 | hvac.vapor_compression.machine | INFO] Execution time: 1082.7233853000216 seconds\n",
      "[24844 | hvac.vapor_compression.machine | INFO] Error mass balance: absolute error = 0.001 kg/h, relative error = 0.00 %\n",
      "[24844 | hvac.vapor_compression.machine | INFO] Error energy balance: absolute error = 0.000 kW, relative error = 0.00 %\n"
     ]
    }
   ],
   "source": [
    "output = machine.rate(\n",
    "    evp_air_in=HumidAir(Tdb=Q_(24.0, 'degC'), RH=Q_(50, 'pct')),\n",
    "    evp_air_m_dot=Q_(1500, 'kg / hr'),\n",
    "    cnd_air_in=HumidAir(Tdb=Q_(35.0, 'degC'), RH=Q_(30, 'pct')),\n",
    "    cnd_air_m_dot=Q_(2233.861, 'kg / hr'),\n",
    "    n_cmp=Q_(4000, '1 / min')\n",
    ")"
   ]
  },
  {
   "cell_type": "code",
   "execution_count": 11,
   "outputs": [
    {
     "name": "stdout",
     "output_type": "stream",
     "text": [
      "evp_air_m_dot = 1500.000 kg/h\n",
      "cnd_air_m_dot = 2233.861 kg/h\n",
      "evp_air_in = 24.000 °C DB, 9.340 g/kg AH (50 % RH)\n",
      "cnd_air_in = 35.000 °C DB, 10.590 g/kg AH (30 % RH)\n",
      "n_cmp = 4000.000 1/min\n",
      "dT_sh = 10.000 K\n",
      "evp_air_out = 17.484 °C DB, 8.131 g/kg AH (65 % RH)\n",
      "cnd_air_out = 44.229 °C DB, 10.590 g/kg AH (18 % RH)\n",
      "evp_Q_dot = 4.054 kW\n",
      "cnd_Q_dot = 5.875 kW\n",
      "cmp_W_dot = 1.821 kW\n",
      "rfg_m_dot = 96.242 kg/h\n",
      "COP = 3.227 frac\n",
      "EER = 2.227 frac\n",
      "evp_eps = 0.3294 frac\n",
      "cnd_eps = 0.3207 frac\n",
      "T_evp = 5.123 °C\n",
      "P_evp = 3.512 bar\n",
      "T_cnd = 60.240 °C\n",
      "P_cnd = 16.914 bar\n",
      "dT_sc = 18.402 K\n",
      "suction_gas = 15.123 °C, 410.693 kJ/kg, 3.512 bar\n",
      "discharge_gas = 103.615 °C, 478.798 kJ/kg, 16.914 bar\n",
      "liquid = 41.838 °C, 259.032 kJ/kg, 16.914 bar\n",
      "mixture = 5.123 °C, 259.032 kJ/kg, 3.512 bar, 27 %\n"
     ]
    }
   ],
   "source": [
    "print(output.to_text())"
   ],
   "metadata": {
    "collapsed": false,
    "ExecuteTime": {
     "end_time": "2023-09-25T19:31:25.957353100Z",
     "start_time": "2023-09-25T19:31:25.940661200Z"
    }
   },
   "id": "2d9ca322388d8bbf"
  },
  {
   "cell_type": "markdown",
   "id": "c045d4d5-a561-42ed-a816-3ead08051d3d",
   "metadata": {},
   "source": []
  }
 ],
 "metadata": {
  "kernelspec": {
   "display_name": "Python 3 (ipykernel)",
   "language": "python",
   "name": "python3"
  },
  "language_info": {
   "codemirror_mode": {
    "name": "ipython",
    "version": 3
   },
   "file_extension": ".py",
   "mimetype": "text/x-python",
   "name": "python",
   "nbconvert_exporter": "python",
   "pygments_lexer": "ipython3",
   "version": "3.11.0"
  }
 },
 "nbformat": 4,
 "nbformat_minor": 5
}
