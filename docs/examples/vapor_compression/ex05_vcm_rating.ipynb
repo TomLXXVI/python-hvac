{
 "cells": [
  {
   "cell_type": "markdown",
   "id": "0d21f86b-8797-4493-8d95-313d538fced1",
   "metadata": {},
   "source": [
    "**Notebook preparation and importing libraries**"
   ]
  },
  {
   "cell_type": "code",
   "execution_count": 1,
   "id": "859c4719-7b99-4e53-a1f3-be6b6eed4f5e",
   "metadata": {
    "ExecuteTime": {
     "end_time": "2023-09-25T19:13:07.220977600Z",
     "start_time": "2023-09-25T19:13:05.994290300Z"
    },
    "tags": []
   },
   "outputs": [],
   "source": [
    "from pathlib import Path\n",
    "from hvac import Quantity\n",
    "from hvac.fluids import Fluid, HumidAir, CoolPropWarning\n",
    "from hvac.vapor_compression import VariableSpeedCompressor\n",
    "from hvac.vapor_compression.machine import SingleStageVaporCompressionMachine\n",
    "from hvac.heat_exchanger.fintube.continuous_fin import PlainFinTubeCounterFlowAirEvaporator\n",
    "from hvac.heat_exchanger.fintube.continuous_fin import PlainFinTubeCounterFlowAirCondenser"
   ]
  },
  {
   "cell_type": "code",
   "execution_count": 2,
   "id": "613e5b5a-6d53-40a9-a378-7bb242d503f7",
   "metadata": {
    "ExecuteTime": {
     "end_time": "2023-09-25T19:13:07.232879100Z",
     "start_time": "2023-09-25T19:13:07.222976800Z"
    },
    "tags": []
   },
   "outputs": [],
   "source": [
    "import warnings\n",
    "warnings.filterwarnings('ignore', category=RuntimeWarning)\n",
    "warnings.filterwarnings('ignore', category=CoolPropWarning)"
   ]
  },
  {
   "cell_type": "code",
   "execution_count": 3,
   "id": "91ec07aa-b0b8-4f66-851a-80a5ea36c335",
   "metadata": {
    "ExecuteTime": {
     "end_time": "2023-09-25T19:13:07.235899400Z",
     "start_time": "2023-09-25T19:13:07.230702800Z"
    },
    "tags": []
   },
   "outputs": [],
   "source": [
    "Q_ = Quantity"
   ]
  },
  {
   "cell_type": "markdown",
   "id": "c7533997-f351-4d78-87ea-7dd7cbe5fc62",
   "metadata": {},
   "source": [
    "# Rating of a Single-Stage Vapor Compression Machine"
   ]
  },
  {
   "cell_type": "markdown",
   "id": "bfde4e46-0da8-470d-b163-98936fd3a4de",
   "metadata": {},
   "source": [
    "A single-stage vapor compression machine is composed of a compressor, an evaporator, a condenser, and an expansion device. Air at a given state and mass flow rate enters the evaporator. Also at the condenser, air enters at a given state and mass flow rate. The expansion device regulates the mass flow rate of refrigerant in order to maintain the set degree of refrigerant superheating. The compressor (either with fixed or variable speed drive) runs at a given compressor speed. The question is what the steady operating state of the vapor compression machine will be under the given operating conditions."
   ]
  },
  {
   "cell_type": "markdown",
   "id": "33d011f5-9092-4526-8811-6ad3b67e9e06",
   "metadata": {},
   "source": [
    "## Configuration of the Vapor Compression Machine"
   ]
  },
  {
   "cell_type": "markdown",
   "id": "76a01c44-beb3-431e-8cf7-e034c48f75c5",
   "metadata": {},
   "source": [
    "To configure a single-stage vapor compression machine, we first need to define compressor, evaporator and condenser."
   ]
  },
  {
   "cell_type": "markdown",
   "id": "3c56a471-afd2-4de2-ab63-4e4b84fafbfe",
   "metadata": {},
   "source": [
    "**Compressor**<br>\n",
    "Based on preliminary calculations (see the first notebook of this series), a variable speed compressor with refrigerant R134a has been selected using selection software of the compressor manufacturer. The polynomial coefficients of the functions describing the performance quantities of this compressor were saved in a csv-file.   "
   ]
  },
  {
   "cell_type": "markdown",
   "id": "e92f10f9-0586-4e16-8a6d-24587ad590c7",
   "metadata": {
    "tags": []
   },
   "source": [
    "First, define the refrigerant:"
   ]
  },
  {
   "cell_type": "code",
   "execution_count": 4,
   "id": "47679278-e45f-40b6-92ae-f7ce59def9c7",
   "metadata": {
    "ExecuteTime": {
     "end_time": "2023-09-25T19:13:07.241895400Z",
     "start_time": "2023-09-25T19:13:07.235899400Z"
    },
    "tags": []
   },
   "outputs": [],
   "source": [
    "R134a = Fluid('R134a')"
   ]
  },
  {
   "cell_type": "markdown",
   "id": "c1fbb3db-eedf-445a-93b0-4f1bb4433072",
   "metadata": {},
   "source": [
    "Now we can define the compressor:"
   ]
  },
  {
   "cell_type": "code",
   "execution_count": 5,
   "id": "7da3322f-38f6-432f-9f6d-4294939da157",
   "metadata": {
    "ExecuteTime": {
     "end_time": "2023-09-25T19:13:07.265012400Z",
     "start_time": "2023-09-25T19:13:07.240892Z"
    },
    "tags": []
   },
   "outputs": [],
   "source": [
    "compressor = VariableSpeedCompressor(\n",
    "    coeff_file=Path(\"compressor_data/VTZ038-G_R134a.csv\"),\n",
    "    refrigerant_type=R134a,\n",
    "    units={'m_dot': 'kg / hr', 'speed': '1 / s'}\n",
    ")"
   ]
  },
  {
   "cell_type": "markdown",
   "id": "fb4832a7-997d-4527-9568-bf5089857e6b",
   "metadata": {},
   "source": [
    "**Evaporator**<br>\n",
    "We will use the same air evaporator defined in notebook no. 2 (plain fin-tube counterflow evaporator)."
   ]
  },
  {
   "cell_type": "code",
   "execution_count": 6,
   "id": "23d00c05-877e-4a68-afcd-14333798c5e6",
   "metadata": {
    "ExecuteTime": {
     "end_time": "2023-09-25T19:13:07.266018200Z",
     "start_time": "2023-09-25T19:13:07.255213900Z"
    },
    "tags": []
   },
   "outputs": [],
   "source": [
    "evaporator = PlainFinTubeCounterFlowAirEvaporator(\n",
    "    W_fro=Q_(0.731, 'm'),\n",
    "    H_fro=Q_(0.244, 'm'),\n",
    "    N_rows=3,\n",
    "    S_trv=Q_(25.4, 'mm'),\n",
    "    S_lon=Q_(22.0, 'mm'),\n",
    "    D_int=Q_(8.422, 'mm'),\n",
    "    D_ext=Q_(10.2, 'mm'),\n",
    "    t_fin=Q_(0.3302, 'mm'),\n",
    "    N_fin=1 / Q_(3.175, 'mm')\n",
    ")"
   ]
  },
  {
   "cell_type": "markdown",
   "id": "7f9fa125-b1a7-45e0-98f9-243487131b3c",
   "metadata": {},
   "source": [
    "**Condenser**<br>\n",
    "We will use the same air condenser defined in notebook no. 3 (plain fin-tube counterflow condenser)."
   ]
  },
  {
   "cell_type": "code",
   "execution_count": 7,
   "id": "03902bd0-44c7-4f19-b01d-9e1fb7a3d4d7",
   "metadata": {
    "ExecuteTime": {
     "end_time": "2023-09-25T19:13:07.267018400Z",
     "start_time": "2023-09-25T19:13:07.262150400Z"
    },
    "tags": []
   },
   "outputs": [],
   "source": [
    "condenser = PlainFinTubeCounterFlowAirCondenser(\n",
    "    W_fro=Q_(0.909, 'm'),\n",
    "    H_fro=Q_(0.303, 'm'),\n",
    "    N_rows=4,\n",
    "    S_trv=Q_(25.4, 'mm'),\n",
    "    S_lon=Q_(22.0, 'mm'),\n",
    "    D_int=Q_(8.422, 'mm'),\n",
    "    D_ext=Q_(10.2, 'mm'),\n",
    "    t_fin=Q_(0.3302, 'mm'),\n",
    "    N_fin=1 / Q_(3.175, 'mm')\n",
    ")"
   ]
  },
  {
   "cell_type": "markdown",
   "id": "e0f7b2cb-6ef6-4ed9-b513-9a77b16d2570",
   "metadata": {},
   "source": [
    "**Vapor compression machine**<br>\n",
    "The creation of the vapor compression machine is straightforward. First, you pass the evaporator, condenser, and compressor model to the constructor. Then, you specify the refrigerant and the degree of refrigerant superheating set on the expansion device:"
   ]
  },
  {
   "cell_type": "code",
   "execution_count": 8,
   "id": "14e8a650-ea10-493f-b19f-a1a8039c4da8",
   "metadata": {
    "ExecuteTime": {
     "end_time": "2023-09-25T19:13:07.276247500Z",
     "start_time": "2023-09-25T19:13:07.268030200Z"
    },
    "tags": []
   },
   "outputs": [],
   "source": [
    "machine = SingleStageVaporCompressionMachine(\n",
    "    evaporator, condenser, compressor,\n",
    "    R134a, dT_sh=Q_(8, 'K')\n",
    ")"
   ]
  },
  {
   "cell_type": "markdown",
   "id": "0fc97010-dfbf-48fe-ba11-098534b6bba8",
   "metadata": {},
   "source": [
    "## Specify Known Operating Conditions and Determine Steady-State Machine Operation"
   ]
  },
  {
   "cell_type": "markdown",
   "id": "2f88ad5c-715c-49e3-9cfd-0979ee3a4e5c",
   "metadata": {},
   "source": [
    "The following inputs will unambiguously determine the operation of the vapor compression machine:\n",
    "- the mass flow rate of air through the evaporator\n",
    "- the mass flow rate of air through the condenser\n",
    "- the air state at the evaporator inlet\n",
    "- the air state at the condenser inlet\n",
    "- the compressor speed (only in case of a variable speed compressor)"
   ]
  },
  {
   "cell_type": "markdown",
   "id": "57464ef87e2493be",
   "metadata": {},
   "source": [
    "To determine the steady-state operation of the machine, an iterative solving technique is used inspired by the method explained in Chapter 14 of the book *Stoecker, W. F., & Jones, J. W. (1982). Refrigeration and air conditioning. McGraw-Hill International Editions, Mechanical Technology Series.* \n",
    "The implemented rating routine uses a minimization algorithm from scipy (`scipy.optimize.minimize`) to determine the evaporation and condensation temperature for which the deviation is minimal between the refrigerant mass flow rate according to the compressor model, and the refrigerant mass flow rate according to the evaporator model (i.e., the mass flow rate let through by the expansion device to maintain the set degree of refrigerant superheating at the outlet of the evaporator). The routine needs initial guesses for the evaporation and condensing temperature to start. If the user does not provide these initial guesses, the rating routine will guess the initial values by itself. However, it may happen that no solution can be found with one set of initial guesses, but that a solution is found with another set."
   ]
  },
  {
   "cell_type": "code",
   "execution_count": 9,
   "id": "cacba4f2-fc83-4aca-b4d2-72d2d6f76b2c",
   "metadata": {
    "ExecuteTime": {
     "end_time": "2023-09-25T19:31:09.955732700Z",
     "start_time": "2023-09-25T19:13:07.271248800Z"
    },
    "tags": []
   },
   "outputs": [
    {
     "name": "stderr",
     "output_type": "stream",
     "text": [
      "[9396 | hvac.vapor_compression.machine | INFO] Starting machine operation analysis with...\n",
      "[9396 | hvac.vapor_compression.machine | INFO] n_cmp = 4000 1/min\n",
      "[9396 | hvac.vapor_compression.machine | INFO] evp_air_in: 24.00 °C, 50 %\n",
      "[9396 | hvac.vapor_compression.machine | INFO] evp_air_m_dot: 1500.00 kg/h\n",
      "[9396 | hvac.vapor_compression.machine | INFO] cnd_air_in: 35.00 °C, 30 %\n",
      "[9396 | hvac.vapor_compression.machine | INFO] cnd_air_m_dot: 2233.86 kg/h\n",
      "[9396 | hvac.vapor_compression.machine | INFO] Iteration 1: Try with: T_evp = 12.000 °C, T_cnd = 55.000 °C\n",
      "[9396 | hvac.vapor_compression.machine | INFO] Iteration 1: Refrigerant mass flow rate from compressor = 139.217 kg/h\n",
      "[9396 | hvac.vapor_compression.machine | INFO] Iteration 1: Refrigerant entering condenser with T = 86.786 °C, P = 14.915 bar\n",
      "[9396 | hvac.vapor_compression.machine | INFO] Iteration 1: Refrigerant leaving condenser with T = 48.447 °C, P = 14.915 bar\n",
      "[9396 | hvac.vapor_compression.machine | INFO] Iteration 1: Refrigerant entering evaporator with T = 12.000 °C, P = 4.430 bar, x = 27.926 %\n",
      "[9396 | hvac.vapor_compression.machine | INFO] Iteration 1: Refrigerant leaving evaporator with T = 20.000 °C, P = 4.430 bar\n",
      "[9396 | hvac.vapor_compression.machine | INFO] Iteration 1: Refrigerant mass flow rate through evaporator = 78.817 kg/h\n",
      "[9396 | hvac.vapor_compression.machine | INFO] Iteration 1: Deviation between refrigerant mass flow rates = -60.401 kg/h\n",
      "[9396 | hvac.vapor_compression.machine | INFO] Iteration 2: Try with: T_evp = 12.600 °C, T_cnd = 55.000 °C\n",
      "[9396 | hvac.vapor_compression.machine | INFO] Iteration 2: Refrigerant mass flow rate from compressor = 143.063 kg/h\n",
      "[9396 | hvac.vapor_compression.machine | INFO] Iteration 2: Refrigerant entering condenser with T = 86.188 °C, P = 14.915 bar\n",
      "[9396 | hvac.vapor_compression.machine | INFO] Iteration 2: Refrigerant leaving condenser with T = 49.495 °C, P = 14.915 bar\n",
      "[9396 | hvac.vapor_compression.machine | INFO] Iteration 2: Refrigerant entering evaporator with T = 12.600 °C, P = 4.518 bar, x = 28.423 %\n",
      "[9396 | hvac.vapor_compression.machine | INFO] Iteration 2: Refrigerant leaving evaporator with T = 20.600 °C, P = 4.518 bar\n",
      "[9396 | hvac.vapor_compression.machine | INFO] Iteration 2: Refrigerant mass flow rate through evaporator = 69.678 kg/h\n",
      "[9396 | hvac.vapor_compression.machine | INFO] Iteration 2: Deviation between refrigerant mass flow rates = -73.385 kg/h\n",
      "[9396 | hvac.vapor_compression.machine | INFO] Iteration 3: Try with: T_evp = 12.000 °C, T_cnd = 57.750 °C\n",
      "[9396 | hvac.vapor_compression.machine | INFO] Iteration 3: Refrigerant mass flow rate from compressor = 136.772 kg/h\n",
      "[9396 | hvac.vapor_compression.machine | INFO] Iteration 3: Refrigerant entering condenser with T = 90.100 °C, P = 15.940 bar\n",
      "[9396 | hvac.vapor_compression.machine | INFO] Iteration 3: Refrigerant leaving condenser with T = 45.206 °C, P = 15.940 bar\n",
      "[9396 | hvac.vapor_compression.machine | INFO] Iteration 3: Refrigerant entering evaporator with T = 12.000 °C, P = 4.430 bar, x = 25.280 %\n",
      "[9396 | hvac.vapor_compression.machine | INFO] Iteration 3: Refrigerant leaving evaporator with T = 20.000 °C, P = 4.430 bar\n",
      "[9396 | hvac.vapor_compression.machine | INFO] Iteration 3: Refrigerant mass flow rate through evaporator = 76.392 kg/h\n",
      "[9396 | hvac.vapor_compression.machine | INFO] Iteration 3: Deviation between refrigerant mass flow rates = -60.379 kg/h\n",
      "[9396 | hvac.vapor_compression.machine | INFO] Iteration 4: Try with: T_evp = 11.400 °C, T_cnd = 57.750 °C\n",
      "[9396 | hvac.vapor_compression.machine | INFO] Iteration 4: Refrigerant mass flow rate from compressor = 133.025 kg/h\n",
      "[9396 | hvac.vapor_compression.machine | INFO] Iteration 4: Refrigerant entering condenser with T = 90.741 °C, P = 15.940 bar\n",
      "[9396 | hvac.vapor_compression.machine | INFO] Iteration 4: Refrigerant leaving condenser with T = 44.963 °C, P = 15.940 bar\n",
      "[9396 | hvac.vapor_compression.machine | INFO] Iteration 4: Refrigerant entering evaporator with T = 11.400 °C, P = 4.343 bar, x = 25.456 %\n",
      "[9396 | hvac.vapor_compression.machine | INFO] Iteration 4: Refrigerant leaving evaporator with T = 19.400 °C, P = 4.343 bar\n",
      "[9396 | hvac.vapor_compression.machine | INFO] Iteration 4: Refrigerant mass flow rate through evaporator = 85.615 kg/h\n",
      "[9396 | hvac.vapor_compression.machine | INFO] Iteration 4: Deviation between refrigerant mass flow rates = -47.410 kg/h\n",
      "[9396 | hvac.vapor_compression.machine | INFO] Iteration 5: Try with: T_evp = 10.800 °C, T_cnd = 59.125 °C\n",
      "[9396 | hvac.vapor_compression.machine | INFO] Iteration 5: Refrigerant mass flow rate from compressor = 128.114 kg/h\n",
      "[9396 | hvac.vapor_compression.machine | INFO] Iteration 5: Refrigerant entering condenser with T = 93.133 °C, P = 16.472 bar\n",
      "[9396 | hvac.vapor_compression.machine | INFO] Iteration 5: Refrigerant leaving condenser with T = 44.964 °C, P = 16.472 bar\n",
      "[9396 | hvac.vapor_compression.machine | INFO] Iteration 5: Refrigerant entering evaporator with T = 10.800 °C, P = 4.258 bar, x = 25.817 %\n",
      "[9396 | hvac.vapor_compression.machine | INFO] Iteration 5: Refrigerant leaving evaporator with T = 18.800 °C, P = 4.258 bar\n",
      "[9396 | hvac.vapor_compression.machine | INFO] Iteration 5: Refrigerant mass flow rate through evaporator = 94.886 kg/h\n",
      "[9396 | hvac.vapor_compression.machine | INFO] Iteration 5: Deviation between refrigerant mass flow rates = -33.228 kg/h\n",
      "[9396 | hvac.vapor_compression.machine | INFO] Iteration 6: Try with: T_evp = 10.800 °C, T_cnd = 61.875 °C\n",
      "[9396 | hvac.vapor_compression.machine | INFO] Iteration 6: Refrigerant mass flow rate from compressor = 125.557 kg/h\n",
      "[9396 | hvac.vapor_compression.machine | INFO] Iteration 6: Refrigerant entering condenser with T = 96.711 °C, P = 17.577 bar\n",
      "[9396 | hvac.vapor_compression.machine | INFO] Iteration 6: Refrigerant leaving condenser with T = 43.921 °C, P = 17.577 bar\n",
      "[9396 | hvac.vapor_compression.machine | INFO] Iteration 6: Refrigerant entering evaporator with T = 10.800 °C, P = 4.258 bar, x = 24.973 %\n",
      "[9396 | hvac.vapor_compression.machine | INFO] Iteration 6: Refrigerant leaving evaporator with T = 18.800 °C, P = 4.258 bar\n",
      "[9396 | hvac.vapor_compression.machine | INFO] Iteration 6: Refrigerant mass flow rate through evaporator = 93.950 kg/h\n",
      "[9396 | hvac.vapor_compression.machine | INFO] Iteration 6: Deviation between refrigerant mass flow rates = -31.607 kg/h\n",
      "[9396 | hvac.vapor_compression.machine | INFO] Iteration 7: Try with: T_evp = 10.200 °C, T_cnd = 65.312 °C\n",
      "[9396 | hvac.vapor_compression.machine | INFO] Iteration 7: Refrigerant mass flow rate from compressor = 118.709 kg/h\n",
      "[9396 | hvac.vapor_compression.machine | INFO] Iteration 7: Refrigerant entering condenser with T = 102.191 °C, P = 19.034 bar\n",
      "[9396 | hvac.vapor_compression.machine | INFO] Iteration 7: Refrigerant leaving condenser with T = 42.793 °C, P = 19.034 bar\n",
      "[9396 | hvac.vapor_compression.machine | INFO] Iteration 7: Refrigerant entering evaporator with T = 10.200 °C, P = 4.174 bar, x = 24.436 %\n",
      "[9396 | hvac.vapor_compression.machine | INFO] Iteration 7: Refrigerant leaving evaporator with T = 18.200 °C, P = 4.174 bar\n",
      "[9396 | hvac.vapor_compression.machine | INFO] Iteration 7: Refrigerant mass flow rate through evaporator = 101.930 kg/h\n",
      "[9396 | hvac.vapor_compression.machine | INFO] Iteration 7: Deviation between refrigerant mass flow rates = -16.778 kg/h\n",
      "[9396 | hvac.vapor_compression.machine | INFO] Iteration 8: Try with: T_evp = 9.000 °C, T_cnd = 66.688 °C\n",
      "[9396 | hvac.vapor_compression.machine | INFO] Iteration 8: Refrigerant mass flow rate from compressor = 110.560 kg/h\n",
      "[9396 | hvac.vapor_compression.machine | INFO] Iteration 8: Refrigerant entering condenser with T = 105.820 °C, P = 19.643 bar\n",
      "[9396 | hvac.vapor_compression.machine | INFO] Iteration 8: Refrigerant leaving condenser with T = 41.796 °C, P = 19.643 bar\n",
      "[9396 | hvac.vapor_compression.machine | INFO] Iteration 8: Refrigerant entering evaporator with T = 9.000 °C, P = 4.009 bar, x = 24.387 %\n",
      "[9396 | hvac.vapor_compression.machine | INFO] Iteration 8: Refrigerant leaving evaporator with T = 17.000 °C, P = 4.009 bar\n",
      "[9396 | hvac.vapor_compression.machine | INFO] Iteration 8: Refrigerant mass flow rate through evaporator = 118.431 kg/h\n",
      "[9396 | hvac.vapor_compression.machine | INFO] Iteration 8: Deviation between refrigerant mass flow rates = 7.871 kg/h\n",
      "[9396 | hvac.vapor_compression.machine | INFO] Iteration 9: Try with: T_evp = 7.500 °C, T_cnd = 71.156 °C\n",
      "[9396 | hvac.vapor_compression.machine | INFO] Iteration 9: Refrigerant mass flow rate from compressor = 98.183 kg/h\n",
      "[9396 | hvac.vapor_compression.machine | INFO] Iteration 9: Refrigerant entering condenser with T = 115.220 °C, P = 21.722 bar\n",
      "[9396 | hvac.vapor_compression.machine | INFO] Iteration 9: Refrigerant leaving condenser with T = 41.554 °C, P = 21.722 bar\n",
      "[9396 | hvac.vapor_compression.machine | INFO] Iteration 9: Refrigerant entering evaporator with T = 7.500 °C, P = 3.811 bar, x = 25.094 %\n",
      "[9396 | hvac.vapor_compression.machine | INFO] Iteration 9: Refrigerant leaving evaporator with T = 15.500 °C, P = 3.811 bar\n",
      "[9396 | hvac.vapor_compression.machine | INFO] Iteration 9: Refrigerant mass flow rate through evaporator = 139.266 kg/h\n",
      "[9396 | hvac.vapor_compression.machine | INFO] Iteration 9: Deviation between refrigerant mass flow rates = 41.083 kg/h\n",
      "[9396 | hvac.vapor_compression.machine | INFO] Iteration 10: Try with: T_evp = 8.400 °C, T_cnd = 72.875 °C\n",
      "[9396 | hvac.vapor_compression.machine | INFO] Iteration 10: Refrigerant mass flow rate from compressor = 101.190 kg/h\n",
      "[9396 | hvac.vapor_compression.machine | INFO] Iteration 10: Refrigerant entering condenser with T = 116.695 °C, P = 22.564 bar\n",
      "[9396 | hvac.vapor_compression.machine | INFO] Iteration 10: Refrigerant leaving condenser with T = 41.751 °C, P = 22.564 bar\n",
      "[9396 | hvac.vapor_compression.machine | INFO] Iteration 10: Refrigerant entering evaporator with T = 8.400 °C, P = 3.929 bar, x = 24.694 %\n",
      "[9396 | hvac.vapor_compression.machine | INFO] Iteration 10: Refrigerant leaving evaporator with T = 16.400 °C, P = 3.929 bar\n",
      "[9396 | hvac.vapor_compression.machine | INFO] Iteration 10: Refrigerant mass flow rate through evaporator = 126.886 kg/h\n",
      "[9396 | hvac.vapor_compression.machine | INFO] Iteration 10: Deviation between refrigerant mass flow rates = 25.696 kg/h\n",
      "[9396 | hvac.vapor_compression.machine | INFO] Iteration 11: Try with: T_evp = 9.000 °C, T_cnd = 69.438 °C\n",
      "[9396 | hvac.vapor_compression.machine | INFO] Iteration 11: Refrigerant mass flow rate from compressor = 107.863 kg/h\n",
      "[9396 | hvac.vapor_compression.machine | INFO] Iteration 11: Refrigerant entering condenser with T = 110.057 °C, P = 20.903 bar\n",
      "[9396 | hvac.vapor_compression.machine | INFO] Iteration 11: Refrigerant leaving condenser with T = 41.727 °C, P = 20.903 bar\n",
      "[9396 | hvac.vapor_compression.machine | INFO] Iteration 11: Refrigerant entering evaporator with T = 9.000 °C, P = 4.009 bar, x = 24.323 %\n",
      "[9396 | hvac.vapor_compression.machine | INFO] Iteration 11: Refrigerant leaving evaporator with T = 17.000 °C, P = 4.009 bar\n",
      "[9396 | hvac.vapor_compression.machine | INFO] Iteration 11: Refrigerant mass flow rate through evaporator = 118.342 kg/h\n",
      "[9396 | hvac.vapor_compression.machine | INFO] Iteration 11: Deviation between refrigerant mass flow rates = 10.478 kg/h\n",
      "[9396 | hvac.vapor_compression.machine | INFO] Iteration 12: Try with: T_evp = 7.800 °C, T_cnd = 70.812 °C\n",
      "[9396 | hvac.vapor_compression.machine | INFO] Iteration 12: Refrigerant mass flow rate from compressor = 100.077 kg/h\n",
      "[9396 | hvac.vapor_compression.machine | INFO] Iteration 12: Refrigerant entering condenser with T = 114.152 °C, P = 21.556 bar\n",
      "[9396 | hvac.vapor_compression.machine | INFO] Iteration 12: Refrigerant leaving condenser with T = 41.567 °C, P = 21.556 bar\n",
      "[9396 | hvac.vapor_compression.machine | INFO] Iteration 12: Refrigerant entering evaporator with T = 7.800 °C, P = 3.850 bar, x = 24.924 %\n",
      "[9396 | hvac.vapor_compression.machine | INFO] Iteration 12: Refrigerant leaving evaporator with T = 15.800 °C, P = 3.850 bar\n",
      "[9396 | hvac.vapor_compression.machine | INFO] Iteration 12: Refrigerant mass flow rate through evaporator = 135.112 kg/h\n",
      "[9396 | hvac.vapor_compression.machine | INFO] Iteration 12: Deviation between refrigerant mass flow rates = 35.035 kg/h\n",
      "[9396 | hvac.vapor_compression.machine | INFO] Iteration 13: Try with: T_evp = 9.600 °C, T_cnd = 66.688 °C\n",
      "[9396 | hvac.vapor_compression.machine | INFO] Iteration 13: Refrigerant mass flow rate from compressor = 113.922 kg/h\n",
      "[9396 | hvac.vapor_compression.machine | INFO] Iteration 13: Refrigerant entering condenser with T = 104.989 °C, P = 19.643 bar\n",
      "[9396 | hvac.vapor_compression.machine | INFO] Iteration 13: Refrigerant leaving condenser with T = 41.958 °C, P = 19.643 bar\n",
      "[9396 | hvac.vapor_compression.machine | INFO] Iteration 13: Refrigerant entering evaporator with T = 9.600 °C, P = 4.091 bar, x = 24.145 %\n",
      "[9396 | hvac.vapor_compression.machine | INFO] Iteration 13: Refrigerant leaving evaporator with T = 17.600 °C, P = 4.091 bar\n",
      "[9396 | hvac.vapor_compression.machine | INFO] Iteration 13: Refrigerant mass flow rate through evaporator = 109.934 kg/h\n",
      "[9396 | hvac.vapor_compression.machine | INFO] Iteration 13: Deviation between refrigerant mass flow rates = -3.987 kg/h\n",
      "[9396 | hvac.vapor_compression.machine | INFO] Iteration 14: Try with: T_evp = 9.600 °C, T_cnd = 63.938 °C\n",
      "[9396 | hvac.vapor_compression.machine | INFO] Iteration 14: Refrigerant mass flow rate from compressor = 116.577 kg/h\n",
      "[9396 | hvac.vapor_compression.machine | INFO] Iteration 14: Refrigerant entering condenser with T = 101.022 °C, P = 18.441 bar\n",
      "[9396 | hvac.vapor_compression.machine | INFO] Iteration 14: Refrigerant leaving condenser with T = 42.739 °C, P = 18.441 bar\n",
      "[9396 | hvac.vapor_compression.machine | INFO] Iteration 14: Refrigerant entering evaporator with T = 9.600 °C, P = 4.091 bar, x = 24.768 %\n",
      "[9396 | hvac.vapor_compression.machine | INFO] Iteration 14: Refrigerant leaving evaporator with T = 17.600 °C, P = 4.091 bar\n",
      "[9396 | hvac.vapor_compression.machine | INFO] Iteration 14: Refrigerant mass flow rate through evaporator = 110.738 kg/h\n",
      "[9396 | hvac.vapor_compression.machine | INFO] Iteration 14: Deviation between refrigerant mass flow rates = -5.839 kg/h\n",
      "[9396 | hvac.vapor_compression.machine | INFO] Iteration 15: Try with: T_evp = 10.200 °C, T_cnd = 63.938 °C\n",
      "[9396 | hvac.vapor_compression.machine | INFO] Iteration 15: Refrigerant mass flow rate from compressor = 120.040 kg/h\n",
      "[9396 | hvac.vapor_compression.machine | INFO] Iteration 15: Refrigerant entering condenser with T = 100.253 °C, P = 18.441 bar\n",
      "[9396 | hvac.vapor_compression.machine | INFO] Iteration 15: Refrigerant leaving condenser with T = 43.011 °C, P = 18.441 bar\n",
      "[9396 | hvac.vapor_compression.machine | INFO] Iteration 15: Refrigerant entering evaporator with T = 10.200 °C, P = 4.174 bar, x = 24.613 %\n",
      "[9396 | hvac.vapor_compression.machine | INFO] Iteration 15: Refrigerant leaving evaporator with T = 18.200 °C, P = 4.174 bar\n",
      "[9396 | hvac.vapor_compression.machine | INFO] Iteration 15: Refrigerant mass flow rate through evaporator = 102.142 kg/h\n",
      "[9396 | hvac.vapor_compression.machine | INFO] Iteration 15: Deviation between refrigerant mass flow rates = -17.899 kg/h\n",
      "[9396 | hvac.vapor_compression.machine | INFO] Iteration 16: Try with: T_evp = 9.300 °C, T_cnd = 66.000 °C\n",
      "[9396 | hvac.vapor_compression.machine | INFO] Iteration 16: Refrigerant mass flow rate from compressor = 112.899 kg/h\n",
      "[9396 | hvac.vapor_compression.machine | INFO] Iteration 16: Refrigerant entering condenser with T = 104.385 °C, P = 19.337 bar\n",
      "[9396 | hvac.vapor_compression.machine | INFO] Iteration 16: Refrigerant leaving condenser with T = 41.927 °C, P = 19.337 bar\n",
      "[9396 | hvac.vapor_compression.machine | INFO] Iteration 16: Refrigerant entering evaporator with T = 9.300 °C, P = 4.050 bar, x = 24.308 %\n",
      "[9396 | hvac.vapor_compression.machine | INFO] Iteration 16: Refrigerant leaving evaporator with T = 17.300 °C, P = 4.050 bar\n",
      "[9396 | hvac.vapor_compression.machine | INFO] Iteration 16: Refrigerant mass flow rate through evaporator = 114.255 kg/h\n",
      "[9396 | hvac.vapor_compression.machine | INFO] Iteration 16: Deviation between refrigerant mass flow rates = 1.356 kg/h\n",
      "[9396 | hvac.vapor_compression.machine | INFO] Iteration 17: Try with: T_evp = 9.300 °C, T_cnd = 68.750 °C\n",
      "[9396 | hvac.vapor_compression.machine | INFO] Iteration 17: Refrigerant mass flow rate from compressor = 110.204 kg/h\n",
      "[9396 | hvac.vapor_compression.machine | INFO] Iteration 17: Refrigerant entering condenser with T = 108.539 °C, P = 20.582 bar\n",
      "[9396 | hvac.vapor_compression.machine | INFO] Iteration 17: Refrigerant leaving condenser with T = 41.792 °C, P = 20.582 bar\n",
      "[9396 | hvac.vapor_compression.machine | INFO] Iteration 17: Refrigerant entering evaporator with T = 9.300 °C, P = 4.050 bar, x = 24.192 %\n",
      "[9396 | hvac.vapor_compression.machine | INFO] Iteration 17: Refrigerant leaving evaporator with T = 17.300 °C, P = 4.050 bar\n",
      "[9396 | hvac.vapor_compression.machine | INFO] Iteration 17: Refrigerant mass flow rate through evaporator = 114.100 kg/h\n",
      "[9396 | hvac.vapor_compression.machine | INFO] Iteration 17: Deviation between refrigerant mass flow rates = 3.896 kg/h\n",
      "[9396 | hvac.vapor_compression.machine | INFO] Iteration 18: Try with: T_evp = 9.000 °C, T_cnd = 68.062 °C\n",
      "[9396 | hvac.vapor_compression.machine | INFO] Iteration 18: Refrigerant mass flow rate from compressor = 109.220 kg/h\n",
      "[9396 | hvac.vapor_compression.machine | INFO] Iteration 18: Refrigerant entering condenser with T = 107.908 °C, P = 20.265 bar\n",
      "[9396 | hvac.vapor_compression.machine | INFO] Iteration 18: Refrigerant leaving condenser with T = 41.740 °C, P = 20.265 bar\n",
      "[9396 | hvac.vapor_compression.machine | INFO] Iteration 18: Refrigerant entering evaporator with T = 9.000 °C, P = 4.009 bar, x = 24.338 %\n",
      "[9396 | hvac.vapor_compression.machine | INFO] Iteration 18: Refrigerant leaving evaporator with T = 17.000 °C, P = 4.009 bar\n",
      "[9396 | hvac.vapor_compression.machine | INFO] Iteration 18: Refrigerant mass flow rate through evaporator = 118.363 kg/h\n",
      "[9396 | hvac.vapor_compression.machine | INFO] Iteration 18: Deviation between refrigerant mass flow rates = 9.144 kg/h\n",
      "[9396 | hvac.vapor_compression.machine | INFO] Iteration 19: Try with: T_evp = 9.450 °C, T_cnd = 67.031 °C\n",
      "[9396 | hvac.vapor_compression.machine | INFO] Iteration 19: Refrigerant mass flow rate from compressor = 112.738 kg/h\n",
      "[9396 | hvac.vapor_compression.machine | INFO] Iteration 19: Refrigerant entering condenser with T = 105.707 °C, P = 19.797 bar\n",
      "[9396 | hvac.vapor_compression.machine | INFO] Iteration 19: Refrigerant leaving condenser with T = 41.893 °C, P = 19.797 bar\n",
      "[9396 | hvac.vapor_compression.machine | INFO] Iteration 19: Refrigerant entering evaporator with T = 9.450 °C, P = 4.070 bar, x = 24.185 %\n",
      "[9396 | hvac.vapor_compression.machine | INFO] Iteration 19: Refrigerant leaving evaporator with T = 17.450 °C, P = 4.070 bar\n",
      "[9396 | hvac.vapor_compression.machine | INFO] Iteration 19: Refrigerant mass flow rate through evaporator = 112.045 kg/h\n",
      "[9396 | hvac.vapor_compression.machine | INFO] Iteration 19: Deviation between refrigerant mass flow rates = -0.694 kg/h\n",
      "[9396 | hvac.vapor_compression.machine | INFO] Iteration 20: Try with: T_evp = 9.450 °C, T_cnd = 64.281 °C\n",
      "[9396 | hvac.vapor_compression.machine | INFO] Iteration 20: Refrigerant mass flow rate from compressor = 115.396 kg/h\n",
      "[9396 | hvac.vapor_compression.machine | INFO] Iteration 20: Refrigerant entering condenser with T = 101.703 °C, P = 18.588 bar\n",
      "[9396 | hvac.vapor_compression.machine | INFO] Iteration 20: Refrigerant leaving condenser with T = 42.631 °C, P = 18.588 bar\n",
      "[9396 | hvac.vapor_compression.machine | INFO] Iteration 20: Refrigerant entering evaporator with T = 9.450 °C, P = 4.070 bar, x = 24.774 %\n",
      "[9396 | hvac.vapor_compression.machine | INFO] Iteration 20: Refrigerant leaving evaporator with T = 17.450 °C, P = 4.070 bar\n",
      "[9396 | hvac.vapor_compression.machine | INFO] Iteration 20: Refrigerant mass flow rate through evaporator = 112.818 kg/h\n",
      "[9396 | hvac.vapor_compression.machine | INFO] Iteration 20: Deviation between refrigerant mass flow rates = -2.578 kg/h\n",
      "[9396 | hvac.vapor_compression.machine | INFO] Iteration 21: Try with: T_evp = 9.412 °C, T_cnd = 65.398 °C\n",
      "[9396 | hvac.vapor_compression.machine | INFO] Iteration 21: Refrigerant mass flow rate from compressor = 114.113 kg/h\n",
      "[9396 | hvac.vapor_compression.machine | INFO] Iteration 21: Refrigerant entering condenser with T = 103.355 °C, P = 19.072 bar\n",
      "[9396 | hvac.vapor_compression.machine | INFO] Iteration 21: Refrigerant leaving condenser with T = 42.394 °C, P = 19.072 bar\n",
      "[9396 | hvac.vapor_compression.machine | INFO] Iteration 21: Refrigerant entering evaporator with T = 9.412 °C, P = 4.065 bar, x = 24.606 %\n",
      "[9396 | hvac.vapor_compression.machine | INFO] Iteration 21: Refrigerant leaving evaporator with T = 17.412 °C, P = 4.065 bar\n",
      "[9396 | hvac.vapor_compression.machine | INFO] Iteration 21: Refrigerant mass flow rate through evaporator = 113.112 kg/h\n",
      "[9396 | hvac.vapor_compression.machine | INFO] Iteration 21: Deviation between refrigerant mass flow rates = -1.001 kg/h\n",
      "[9396 | hvac.vapor_compression.machine | INFO] Iteration 22: Try with: T_evp = 9.562 °C, T_cnd = 66.430 °C\n",
      "[9396 | hvac.vapor_compression.machine | INFO] Iteration 22: Refrigerant mass flow rate from compressor = 113.961 kg/h\n",
      "[9396 | hvac.vapor_compression.machine | INFO] Iteration 22: Refrigerant entering condenser with T = 104.659 °C, P = 19.527 bar\n",
      "[9396 | hvac.vapor_compression.machine | INFO] Iteration 22: Refrigerant leaving condenser with T = 41.967 °C, P = 19.527 bar\n",
      "[9396 | hvac.vapor_compression.machine | INFO] Iteration 22: Refrigerant entering evaporator with T = 9.563 °C, P = 4.086 bar, x = 24.177 %\n",
      "[9396 | hvac.vapor_compression.machine | INFO] Iteration 22: Refrigerant leaving evaporator with T = 17.563 °C, P = 4.086 bar\n",
      "[9396 | hvac.vapor_compression.machine | INFO] Iteration 22: Refrigerant mass flow rate through evaporator = 110.490 kg/h\n",
      "[9396 | hvac.vapor_compression.machine | INFO] Iteration 22: Deviation between refrigerant mass flow rates = -3.471 kg/h\n",
      "[9396 | hvac.vapor_compression.machine | INFO] Iteration 23: Try with: T_evp = 9.366 °C, T_cnd = 66.107 °C\n",
      "[9396 | hvac.vapor_compression.machine | INFO] Iteration 23: Refrigerant mass flow rate from compressor = 113.164 kg/h\n",
      "[9396 | hvac.vapor_compression.machine | INFO] Iteration 23: Refrigerant entering condenser with T = 104.453 °C, P = 19.384 bar\n",
      "[9396 | hvac.vapor_compression.machine | INFO] Iteration 23: Refrigerant leaving condenser with T = 41.937 °C, P = 19.384 bar\n",
      "[9396 | hvac.vapor_compression.machine | INFO] Iteration 23: Refrigerant entering evaporator with T = 9.366 °C, P = 4.059 bar, x = 24.275 %\n",
      "[9396 | hvac.vapor_compression.machine | INFO] Iteration 23: Refrigerant leaving evaporator with T = 17.366 °C, P = 4.059 bar\n",
      "[9396 | hvac.vapor_compression.machine | INFO] Iteration 23: Refrigerant mass flow rate through evaporator = 113.316 kg/h\n",
      "[9396 | hvac.vapor_compression.machine | INFO] Iteration 23: Deviation between refrigerant mass flow rates = 0.152 kg/h\n",
      "[9396 | hvac.vapor_compression.machine | INFO] Iteration 24: Try with: T_evp = 9.403 °C, T_cnd = 67.740 °C\n",
      "[9396 | hvac.vapor_compression.machine | INFO] Iteration 24: Refrigerant mass flow rate from compressor = 111.778 kg/h\n",
      "[9396 | hvac.vapor_compression.machine | INFO] Iteration 24: Refrigerant entering condenser with T = 106.841 °C, P = 20.118 bar\n",
      "[9396 | hvac.vapor_compression.machine | INFO] Iteration 24: Refrigerant leaving condenser with T = 41.845 °C, P = 20.118 bar\n",
      "[9396 | hvac.vapor_compression.machine | INFO] Iteration 24: Refrigerant entering evaporator with T = 9.403 °C, P = 4.064 bar, x = 24.174 %\n",
      "[9396 | hvac.vapor_compression.machine | INFO] Iteration 24: Refrigerant leaving evaporator with T = 17.403 °C, P = 4.064 bar\n",
      "[9396 | hvac.vapor_compression.machine | INFO] Iteration 24: Refrigerant mass flow rate through evaporator = 112.670 kg/h\n",
      "[9396 | hvac.vapor_compression.machine | INFO] Iteration 24: Deviation between refrigerant mass flow rates = 0.892 kg/h\n",
      "[9396 | hvac.vapor_compression.machine | INFO] Iteration 25: Try with: T_evp = 9.405 °C, T_cnd = 67.155 °C\n",
      "[9396 | hvac.vapor_compression.machine | INFO] Iteration 25: Refrigerant mass flow rate from compressor = 112.367 kg/h\n",
      "[9396 | hvac.vapor_compression.machine | INFO] Iteration 25: Refrigerant entering condenser with T = 105.954 °C, P = 19.853 bar\n",
      "[9396 | hvac.vapor_compression.machine | INFO] Iteration 25: Refrigerant leaving condenser with T = 41.874 °C, P = 19.853 bar\n",
      "[9396 | hvac.vapor_compression.machine | INFO] Iteration 25: Refrigerant entering evaporator with T = 9.405 °C, P = 4.064 bar, x = 24.197 %\n",
      "[9396 | hvac.vapor_compression.machine | INFO] Iteration 25: Refrigerant leaving evaporator with T = 17.405 °C, P = 4.064 bar\n",
      "[9396 | hvac.vapor_compression.machine | INFO] Iteration 25: Refrigerant mass flow rate through evaporator = 112.669 kg/h\n",
      "[9396 | hvac.vapor_compression.machine | INFO] Iteration 25: Deviation between refrigerant mass flow rates = 0.303 kg/h\n",
      "[9396 | hvac.vapor_compression.machine | INFO] Iteration 26: Try with: T_evp = 9.321 °C, T_cnd = 66.231 °C\n",
      "[9396 | hvac.vapor_compression.machine | INFO] Iteration 26: Refrigerant mass flow rate from compressor = 112.794 kg/h\n",
      "[9396 | hvac.vapor_compression.machine | INFO] Iteration 26: Refrigerant entering condenser with T = 104.696 °C, P = 19.439 bar\n",
      "[9396 | hvac.vapor_compression.machine | INFO] Iteration 26: Refrigerant leaving condenser with T = 41.914 °C, P = 19.439 bar\n",
      "[9396 | hvac.vapor_compression.machine | INFO] Iteration 26: Refrigerant entering evaporator with T = 9.321 °C, P = 4.053 bar, x = 24.284 %\n",
      "[9396 | hvac.vapor_compression.machine | INFO] Iteration 26: Refrigerant leaving evaporator with T = 17.321 °C, P = 4.053 bar\n",
      "[9396 | hvac.vapor_compression.machine | INFO] Iteration 26: Refrigerant mass flow rate through evaporator = 113.936 kg/h\n",
      "[9396 | hvac.vapor_compression.machine | INFO] Iteration 26: Deviation between refrigerant mass flow rates = 1.142 kg/h\n",
      "[9396 | hvac.vapor_compression.machine | INFO] Iteration 27: Try with: T_evp = 9.418 °C, T_cnd = 66.831 °C\n",
      "[9396 | hvac.vapor_compression.machine | INFO] Iteration 27: Refrigerant mass flow rate from compressor = 112.753 kg/h\n",
      "[9396 | hvac.vapor_compression.machine | INFO] Iteration 27: Refrigerant entering condenser with T = 105.453 °C, P = 19.707 bar\n",
      "[9396 | hvac.vapor_compression.machine | INFO] Iteration 27: Refrigerant leaving condenser with T = 41.897 °C, P = 19.707 bar\n",
      "[9396 | hvac.vapor_compression.machine | INFO] Iteration 27: Refrigerant entering evaporator with T = 9.418 °C, P = 4.066 bar, x = 24.209 %\n",
      "[9396 | hvac.vapor_compression.machine | INFO] Iteration 27: Refrigerant leaving evaporator with T = 17.418 °C, P = 4.066 bar\n",
      "[9396 | hvac.vapor_compression.machine | INFO] Iteration 27: Refrigerant mass flow rate through evaporator = 112.516 kg/h\n",
      "[9396 | hvac.vapor_compression.machine | INFO] Iteration 27: Deviation between refrigerant mass flow rates = -0.236 kg/h\n",
      "[9396 | hvac.vapor_compression.machine | INFO] Iteration 28: Try with: T_evp = 9.378 °C, T_cnd = 65.784 °C\n",
      "[9396 | hvac.vapor_compression.machine | INFO] Iteration 28: Refrigerant mass flow rate from compressor = 113.546 kg/h\n",
      "[9396 | hvac.vapor_compression.machine | INFO] Iteration 28: Refrigerant entering condenser with T = 103.962 °C, P = 19.241 bar\n",
      "[9396 | hvac.vapor_compression.machine | INFO] Iteration 28: Refrigerant leaving condenser with T = 41.876 °C, P = 19.241 bar\n",
      "[9396 | hvac.vapor_compression.machine | INFO] Iteration 28: Refrigerant entering evaporator with T = 9.378 °C, P = 4.061 bar, x = 24.221 %\n",
      "[9396 | hvac.vapor_compression.machine | INFO] Iteration 28: Refrigerant leaving evaporator with T = 17.378 °C, P = 4.061 bar\n",
      "[9396 | hvac.vapor_compression.machine | INFO] Iteration 28: Refrigerant mass flow rate through evaporator = 113.077 kg/h\n",
      "[9396 | hvac.vapor_compression.machine | INFO] Iteration 28: Deviation between refrigerant mass flow rates = -0.469 kg/h\n",
      "[9396 | hvac.vapor_compression.machine | INFO] Iteration 29: Try with: T_evp = 9.399 °C, T_cnd = 66.812 °C\n",
      "[9396 | hvac.vapor_compression.machine | INFO] Iteration 29: Refrigerant mass flow rate from compressor = 112.663 kg/h\n",
      "[9396 | hvac.vapor_compression.machine | INFO] Iteration 29: Refrigerant entering condenser with T = 105.451 °C, P = 19.698 bar\n",
      "[9396 | hvac.vapor_compression.machine | INFO] Iteration 29: Refrigerant leaving condenser with T = 41.893 °C, P = 19.698 bar\n",
      "[9396 | hvac.vapor_compression.machine | INFO] Iteration 29: Refrigerant entering evaporator with T = 9.399 °C, P = 4.063 bar, x = 24.218 %\n",
      "[9396 | hvac.vapor_compression.machine | INFO] Iteration 29: Refrigerant leaving evaporator with T = 17.399 °C, P = 4.063 bar\n",
      "[9396 | hvac.vapor_compression.machine | INFO] Iteration 29: Refrigerant mass flow rate through evaporator = 112.790 kg/h\n",
      "[9396 | hvac.vapor_compression.machine | INFO] Iteration 29: Deviation between refrigerant mass flow rates = 0.127 kg/h\n",
      "[9396 | hvac.vapor_compression.machine | INFO] Analysis finished after 29 iterations with message: Optimization terminated successfully.\n",
      "[9396 | hvac.vapor_compression.machine | INFO] Execution time: 381.28557289997116 seconds\n",
      "[9396 | hvac.vapor_compression.machine | INFO] Error mass balance: absolute error = 0.127 kg/h, relative error = 0.11 %\n",
      "[9396 | hvac.vapor_compression.machine | INFO] Error energy balance: absolute error = 0.005 kW, relative error = 0.11 %\n"
     ]
    }
   ],
   "source": [
    "output = machine.rate(\n",
    "    evp_air_in=HumidAir(Tdb=Q_(24.0, 'degC'), RH=Q_(50, 'pct')),\n",
    "    evp_air_m_dot=Q_(1500, 'kg / hr'),\n",
    "    cnd_air_in=HumidAir(Tdb=Q_(35.0, 'degC'), RH=Q_(30, 'pct')),\n",
    "    cnd_air_m_dot=Q_(2233.861, 'kg / hr'),\n",
    "    n_cmp=Q_(4000, '1 / min')\n",
    ")"
   ]
  },
  {
   "cell_type": "code",
   "execution_count": 10,
   "id": "2d9ca322388d8bbf",
   "metadata": {
    "ExecuteTime": {
     "end_time": "2023-09-25T19:31:25.957353100Z",
     "start_time": "2023-09-25T19:31:25.940661200Z"
    },
    "collapsed": false,
    "jupyter": {
     "outputs_hidden": false
    }
   },
   "outputs": [
    {
     "name": "stdout",
     "output_type": "stream",
     "text": [
      "evp_air_m_dot = 1500.000 kg/h\n",
      "cnd_air_m_dot = 2233.861 kg/h\n",
      "evp_air_in = 24.000 °C DB, 9.340 g/kg AH (50 % RH)\n",
      "cnd_air_in = 35.000 °C DB, 10.590 g/kg AH (30 % RH)\n",
      "n_cmp = 4000.000 1/min\n",
      "dT_sh = 8.000 K\n",
      "evp_air_out = 15.410 °C DB, 8.285 g/kg AH (76 % RH)\n",
      "cnd_air_out = 45.731 °C DB, 10.590 g/kg AH (17 % RH)\n",
      "evp_Q_dot = 4.774 kW\n",
      "cnd_Q_dot = 6.829 kW\n",
      "cmp_W_dot = 2.060 kW\n",
      "rfg_m_dot = 112.663 kg/h\n",
      "COP = 3.315 frac\n",
      "EER = 2.317 frac\n",
      "evp_eps = 0.5617 frac\n",
      "cnd_eps = 0.2967 frac\n",
      "T_evp = 9.399 °C\n",
      "P_evp = 4.063 bar\n",
      "T_cnd = 66.812 °C\n",
      "P_cnd = 19.698 bar\n",
      "dT_sc = 24.919 K\n",
      "suction_gas = 17.399 °C, 411.452 kJ/kg, 4.063 bar\n",
      "discharge_gas = 105.451 °C, 477.288 kJ/kg, 19.698 bar\n",
      "liquid = 41.893 °C, 259.064 kJ/kg, 19.698 bar\n",
      "mixture = 9.399 °C, 259.064 kJ/kg, 4.063 bar, 24 %\n",
      "evp_air_dP = 22.474 Pa\n",
      "cnd_air_dP = 32.029 Pa\n",
      "\n"
     ]
    }
   ],
   "source": [
    "print(output.to_text())"
   ]
  }
 ],
 "metadata": {
  "kernelspec": {
   "display_name": "Python 3 (ipykernel)",
   "language": "python",
   "name": "python3"
  },
  "language_info": {
   "codemirror_mode": {
    "name": "ipython",
    "version": 3
   },
   "file_extension": ".py",
   "mimetype": "text/x-python",
   "name": "python",
   "nbconvert_exporter": "python",
   "pygments_lexer": "ipython3",
   "version": "3.11.0"
  }
 },
 "nbformat": 4,
 "nbformat_minor": 5
}
