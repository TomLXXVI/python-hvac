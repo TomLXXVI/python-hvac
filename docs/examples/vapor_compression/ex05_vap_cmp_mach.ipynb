{
 "cells": [
  {
   "cell_type": "markdown",
   "id": "0d21f86b-8797-4493-8d95-313d538fced1",
   "metadata": {},
   "source": [
    "**Notebook preparation and importing libraries**"
   ]
  },
  {
   "cell_type": "code",
   "execution_count": 1,
   "id": "859c4719-7b99-4e53-a1f3-be6b6eed4f5e",
   "metadata": {
    "tags": []
   },
   "outputs": [],
   "source": [
    "from pathlib import Path\n",
    "from hvac import Quantity\n",
    "from hvac.fluids import Fluid, HumidAir, CoolPropWarning\n",
    "from hvac.vapor_compression import VariableSpeedCompressor\n",
    "from hvac.vapor_compression.machine_bis import SingleStageVaporCompressionMachine\n",
    "from hvac.heat_transfer.heat_exchanger.fin_tube.air_evaporator import PlainFinTubeCounterFlowEvaporator\n",
    "from hvac.heat_transfer.heat_exchanger.fin_tube.air_condenser import PlainFinTubeCounterFlowCondenser"
   ]
  },
  {
   "cell_type": "code",
   "execution_count": 2,
   "id": "613e5b5a-6d53-40a9-a378-7bb242d503f7",
   "metadata": {},
   "outputs": [],
   "source": [
    "import warnings\n",
    "warnings.filterwarnings('ignore', category=RuntimeWarning)\n",
    "warnings.filterwarnings('ignore', category=CoolPropWarning)"
   ]
  },
  {
   "cell_type": "code",
   "execution_count": 3,
   "id": "0125da76-c58d-4604-96bb-cb957c714f00",
   "metadata": {
    "tags": []
   },
   "outputs": [],
   "source": [
    "from hvac.logging import ModuleLogger\n",
    "logger = ModuleLogger.get_logger(__name__)\n",
    "logger.setLevel(ModuleLogger.INFO)"
   ]
  },
  {
   "cell_type": "code",
   "execution_count": 4,
   "id": "91ec07aa-b0b8-4f66-851a-80a5ea36c335",
   "metadata": {
    "tags": []
   },
   "outputs": [],
   "source": [
    "Q_ = Quantity"
   ]
  },
  {
   "cell_type": "markdown",
   "id": "c7533997-f351-4d78-87ea-7dd7cbe5fc62",
   "metadata": {},
   "source": [
    "# Rating of a Single-Stage Vapor Compression Machine"
   ]
  },
  {
   "cell_type": "markdown",
   "id": "bfde4e46-0da8-470d-b163-98936fd3a4de",
   "metadata": {},
   "source": [
    "A single-stage vapor compression machine is composed of a compressor, an evaporator, a condenser, and an expansion device. Air at a given state and mass flow rate enters the evaporator. At the condenser, air also enters at a given state and mass flow rate. The expansion device regulates the mass flow rate of refrigerant in order to maintain the set degree of superheat. The compressor (either with fixed or variable speed drive) runs at a given compressor speed. The question to answer here is what the operating point of the vapor compression machine will be under the given operating conditions."
   ]
  },
  {
   "cell_type": "markdown",
   "id": "33d011f5-9092-4526-8811-6ad3b67e9e06",
   "metadata": {},
   "source": [
    "## Configuration of the Vapor Compression Machine"
   ]
  },
  {
   "cell_type": "markdown",
   "id": "76a01c44-beb3-431e-8cf7-e034c48f75c5",
   "metadata": {},
   "source": [
    "To configure a single-stage vapor compression machine, we first need to define compressor, evaporator and condenser."
   ]
  },
  {
   "cell_type": "markdown",
   "id": "3c56a471-afd2-4de2-ab63-4e4b84fafbfe",
   "metadata": {},
   "source": [
    "**Compressor**<br>\n",
    "Based on preliminary calculations (see the first notebook of this series), a variable speed compressor with refrigerant R134a has been selected using selection software of the compressor manufacturer. The polynomial coefficients of the functions describing the performance quantities of this compressor were saved in a csv-file.   "
   ]
  },
  {
   "cell_type": "markdown",
   "id": "e92f10f9-0586-4e16-8a6d-24587ad590c7",
   "metadata": {
    "tags": []
   },
   "source": [
    "First, define the refrigerant:"
   ]
  },
  {
   "cell_type": "code",
   "execution_count": 5,
   "id": "47679278-e45f-40b6-92ae-f7ce59def9c7",
   "metadata": {
    "tags": []
   },
   "outputs": [],
   "source": [
    "R134a = Fluid('R134a')"
   ]
  },
  {
   "cell_type": "markdown",
   "id": "c1fbb3db-eedf-445a-93b0-4f1bb4433072",
   "metadata": {},
   "source": [
    "Now we can define the compressor:"
   ]
  },
  {
   "cell_type": "code",
   "execution_count": 6,
   "id": "7da3322f-38f6-432f-9f6d-4294939da157",
   "metadata": {
    "tags": []
   },
   "outputs": [],
   "source": [
    "compressor = VariableSpeedCompressor(\n",
    "    coeff_file=Path(\"compressor_data/VTZ038-G_R134a.csv\"),\n",
    "    refrigerant_type=R134a,\n",
    "    units={'m_dot': 'kg / hr', 'speed': '1 / s'}\n",
    ")"
   ]
  },
  {
   "cell_type": "markdown",
   "id": "fb4832a7-997d-4527-9568-bf5089857e6b",
   "metadata": {},
   "source": [
    "**Evaporator**<br>\n",
    "We will use the same air evaporator defined in notebook no. 2 (plain fin-tube counterflow evaporator)."
   ]
  },
  {
   "cell_type": "code",
   "execution_count": 7,
   "id": "23d00c05-877e-4a68-afcd-14333798c5e6",
   "metadata": {
    "tags": []
   },
   "outputs": [],
   "source": [
    "evaporator = PlainFinTubeCounterFlowEvaporator(\n",
    "    L1=Q_(0.731, 'm'),\n",
    "    L3=Q_(0.244, 'm'),\n",
    "    N_r=2,\n",
    "    S_t=Q_(25.4, 'mm'),\n",
    "    S_l=Q_(22.0, 'mm'),\n",
    "    D_i=Q_(8.422, 'mm'),\n",
    "    D_o=Q_(10.2, 'mm'),\n",
    "    t_f=Q_(0.3302, 'mm'),\n",
    "    N_f=1 / Q_(3.175, 'mm')\n",
    ")"
   ]
  },
  {
   "cell_type": "markdown",
   "id": "7f9fa125-b1a7-45e0-98f9-243487131b3c",
   "metadata": {},
   "source": [
    "**Condenser**<br>\n",
    "We will use the same air condenser defined in notebook no. 3 (plain fin-tube counterflow condenser)."
   ]
  },
  {
   "cell_type": "code",
   "execution_count": 8,
   "id": "03902bd0-44c7-4f19-b01d-9e1fb7a3d4d7",
   "metadata": {
    "tags": []
   },
   "outputs": [],
   "source": [
    "condenser = PlainFinTubeCounterFlowCondenser(\n",
    "    L1=Q_(0.909, 'm'),\n",
    "    L3=Q_(0.303, 'm'),\n",
    "    N_r=4,\n",
    "    S_t=Q_(25.4, 'mm'),         \n",
    "    S_l=Q_(22.0, 'mm'),         \n",
    "    D_i=Q_(8.422, 'mm'),        \n",
    "    D_o=Q_(10.2, 'mm'),         \n",
    "    t_f=Q_(0.3302, 'mm'),       \n",
    "    N_f=1 / Q_(3.175, 'mm')    \n",
    ")"
   ]
  },
  {
   "cell_type": "markdown",
   "id": "e0f7b2cb-6ef6-4ed9-b513-9a77b16d2570",
   "metadata": {},
   "source": [
    "**Vapor compression machine**<br>\n",
    "Configuration of the vapor compression machine is simple. You just need to pass the evaporator, condenser, compressor, and refrigerant to the `SingleStageVaporCompressionMachine` constructor:"
   ]
  },
  {
   "cell_type": "code",
   "execution_count": 9,
   "id": "14e8a650-ea10-493f-b19f-a1a8039c4da8",
   "metadata": {
    "tags": []
   },
   "outputs": [],
   "source": [
    "machine = SingleStageVaporCompressionMachine(\n",
    "    evaporator, condenser, compressor, R134a,\n",
    "    n_cmp_min=Q_(2100, '1 / min'),\n",
    "    n_cmp_max=Q_(5400, '1 / min'),\n",
    "    logger=logger\n",
    ")"
   ]
  },
  {
   "cell_type": "markdown",
   "id": "0fc97010-dfbf-48fe-ba11-098534b6bba8",
   "metadata": {},
   "source": [
    "## Specify Known Operating Conditions"
   ]
  },
  {
   "cell_type": "markdown",
   "id": "2f88ad5c-715c-49e3-9cfd-0979ee3a4e5c",
   "metadata": {},
   "source": [
    "The following inputs will unambiguously determine the operation of the vapor compression machine:\n",
    "- mass flow rate of air through the evaporator\n",
    "- mass flow rate of air through the condenser\n",
    "- air state at evaporator inlet\n",
    "- air state at condenser inlet\n",
    "- degree of superheat set on the expansion device\n",
    "- compressor speed (only in case of a variable speed compressor)"
   ]
  },
  {
   "cell_type": "code",
   "execution_count": 10,
   "id": "cacba4f2-fc83-4aca-b4d2-72d2d6f76b2c",
   "metadata": {
    "tags": []
   },
   "outputs": [],
   "source": [
    "machine.set_operating_conditions(\n",
    "    evp_m_dot_air=Q_(1500, 'kg / hr'),\n",
    "    cnd_m_dot_air=Q_(2233.861, 'kg / hr'),\n",
    "    evp_air_in=HumidAir(Tdb=Q_(24.0, 'degC'), RH=Q_(50, 'pct')),\n",
    "    cnd_air_in=HumidAir(Tdb=Q_(35.0, 'degC'), RH=Q_(30, 'pct')),\n",
    "    dT_sh=Q_(10, 'K'),\n",
    "    n_cmp=Q_(4000, '1 / min')\n",
    ")"
   ]
  },
  {
   "cell_type": "markdown",
   "id": "fd5bd17d-3c6c-488b-99f7-fc5e712640a7",
   "metadata": {},
   "source": [
    "## Steady-State Operation"
   ]
  },
  {
   "cell_type": "markdown",
   "id": "c045d4d5-a561-42ed-a816-3ead08051d3d",
   "metadata": {},
   "source": [
    "To determine the steady-state operation of the machine a similar, iterative solving technique is used as explained in Chapter 14 of the book *Stoecker, W. F., & Jones, J. W. (1982). Refrigeration and air conditioning. McGraw-Hill International Editions, Mechanical Technology Series.* Three rating methods are implemented in the single-stage vapor compression machine model:\n",
    "- Method `rate` uses a for-loop that will break when the the deviation between the refrigerant mass flow rate according to the compressor model and the refrigerant mass flow rate according to the evaporator is smaller than `abs_tol` (absolute tolerance) or `rel_tol` (relative tolerance).  \n",
    "- Method `rate_root` uses a root-finding algorithm from scipy (`scipy.optimize.root`). Normally, method `rate_root` will work better. However, it can fail by guessing values for the evaporation and condensing temperature which are physically impossible. Also, one should always check the mass and energy balance afterwards to see if the result can truly be valid.\n",
    "- Method `rate_min` uses a minimization algorithm from scipy (`scipy.optimize.minimize`). It tries to find the evaporation and condensation temperature for which the deviation between the refrigerant mass flow rate according to the compressor model and the refrigerant mass flow rate according to the evaporator is minimal. As physical bounds can be set with this algorithm, the risk that the algorithm will fail is smaller. However, this algorithm seems to be slower than the root-finding algorithm used in `rate_root`."
   ]
  },
  {
   "cell_type": "code",
   "execution_count": 11,
   "id": "189a35cf-c7c6-45f8-865a-94ed2198c1ba",
   "metadata": {
    "tags": []
   },
   "outputs": [
    {
     "name": "stderr",
     "output_type": "stream",
     "text": [
      "[22016 | __main__ | INFO] Iteration 1: try with T_evp = 5.000 °C and T_cnd = 50.000 °C\n",
      "[22016 | __main__ | INFO] Iteration 1: deviation with (4000 1/min, 5.000 °C, 50.000 °C): 3.221 kg/h\n",
      "[22016 | __main__ | INFO] Iteration 2: try with T_evp = 5.250 °C and T_cnd = 50.000 °C\n",
      "[22016 | __main__ | INFO] Iteration 2: deviation with (4000 1/min, 5.250 °C, 50.000 °C): 6.057 kg/h\n",
      "[22016 | __main__ | INFO] Iteration 3: try with T_evp = 5.000 °C and T_cnd = 52.500 °C\n",
      "[22016 | __main__ | INFO] Iteration 3: deviation with (4000 1/min, 5.000 °C, 52.500 °C): 3.216 kg/h\n",
      "[22016 | __main__ | INFO] Iteration 4: try with T_evp = 4.750 °C and T_cnd = 52.500 °C\n",
      "[22016 | __main__ | INFO] Iteration 4: deviation with (4000 1/min, 4.750 °C, 52.500 °C): 0.029 kg/h\n",
      "[22016 | __main__ | INFO] Iteration 5: try with T_evp = 4.500 °C and T_cnd = 53.750 °C\n",
      "[22016 | __main__ | INFO] Iteration 5: deviation with (4000 1/min, 4.500 °C, 53.750 °C): 0.679 kg/h\n",
      "[22016 | __main__ | INFO] Iteration 6: try with T_evp = 4.750 °C and T_cnd = 55.000 °C\n",
      "[22016 | __main__ | INFO] Iteration 6: deviation with (4000 1/min, 4.750 °C, 55.000 °C): 0.812 kg/h\n",
      "[22016 | __main__ | INFO] Iteration 7: try with T_evp = 4.500 °C and T_cnd = 55.000 °C\n",
      "[22016 | __main__ | INFO] Iteration 7: deviation with (4000 1/min, 4.500 °C, 55.000 °C): 1.184 kg/h\n",
      "[22016 | __main__ | INFO] Iteration 8: try with T_evp = 4.625 °C and T_cnd = 54.375 °C\n",
      "[22016 | __main__ | INFO] Iteration 8: deviation with (4000 1/min, 4.625 °C, 54.375 °C): 2.160 kg/h\n",
      "[22016 | __main__ | INFO] Iteration 9: try with T_evp = 4.750 °C and T_cnd = 53.750 °C\n",
      "[22016 | __main__ | INFO] Iteration 9: deviation with (4000 1/min, 4.750 °C, 53.750 °C): 0.289 kg/h\n",
      "[22016 | __main__ | INFO] Iteration 10: try with T_evp = 4.875 °C and T_cnd = 52.500 °C\n",
      "[22016 | __main__ | INFO] Iteration 10: deviation with (4000 1/min, 4.875 °C, 52.500 °C): 1.588 kg/h\n",
      "[22016 | __main__ | INFO] Iteration 11: try with T_evp = 4.625 °C and T_cnd = 53.750 °C\n",
      "[22016 | __main__ | INFO] Iteration 11: deviation with (4000 1/min, 4.625 °C, 53.750 °C): 0.891 kg/h\n",
      "[22016 | __main__ | INFO] Iteration 12: try with T_evp = 4.688 °C and T_cnd = 53.438 °C\n",
      "[22016 | __main__ | INFO] Iteration 12: deviation with (4000 1/min, 4.688 °C, 53.438 °C): 1.028 kg/h\n",
      "[22016 | __main__ | INFO] Iteration 13: try with T_evp = 4.750 °C and T_cnd = 53.125 °C\n",
      "[22016 | __main__ | INFO] Iteration 13: deviation with (4000 1/min, 4.750 °C, 53.125 °C): 0.118 kg/h\n",
      "[22016 | __main__ | INFO] Iteration 14: try with T_evp = 4.812 °C and T_cnd = 52.500 °C\n",
      "[22016 | __main__ | INFO] Iteration 14: deviation with (4000 1/min, 4.812 °C, 52.500 °C): 0.776 kg/h\n",
      "[22016 | __main__ | INFO] Iteration 15: try with T_evp = 4.688 °C and T_cnd = 53.125 °C\n",
      "[22016 | __main__ | INFO] Iteration 15: deviation with (4000 1/min, 4.688 °C, 53.125 °C): 0.931 kg/h\n",
      "[22016 | __main__ | INFO] Iteration 16: try with T_evp = 4.781 °C and T_cnd = 52.656 °C\n",
      "[22016 | __main__ | INFO] Iteration 16: deviation with (4000 1/min, 4.781 °C, 52.656 °C): 0.354 kg/h\n",
      "[22016 | __main__ | INFO] Iteration 17: try with T_evp = 4.719 °C and T_cnd = 52.969 °C\n",
      "[22016 | __main__ | INFO] Iteration 17: deviation with (4000 1/min, 4.719 °C, 52.969 °C): 0.490 kg/h\n",
      "[22016 | __main__ | INFO] Iteration 18: try with T_evp = 4.766 °C and T_cnd = 52.734 °C\n",
      "[22016 | __main__ | INFO] Iteration 18: deviation with (4000 1/min, 4.766 °C, 52.734 °C): 0.141 kg/h\n",
      "[22016 | __main__ | INFO] Iteration 19: try with T_evp = 4.734 °C and T_cnd = 52.891 °C\n",
      "[22016 | __main__ | INFO] Iteration 19: deviation with (4000 1/min, 4.734 °C, 52.891 °C): 0.271 kg/h\n",
      "[22016 | __main__ | INFO] Iteration 20: try with T_evp = 4.758 °C and T_cnd = 52.773 °C\n",
      "[22016 | __main__ | INFO] Iteration 20: deviation with (4000 1/min, 4.758 °C, 52.773 °C): 0.033 kg/h\n",
      "[22016 | __main__ | INFO] Iteration 21: try with T_evp = 4.758 °C and T_cnd = 52.148 °C\n",
      "[22016 | __main__ | INFO] Iteration 21: deviation with (4000 1/min, 4.758 °C, 52.148 °C): 0.085 kg/h\n",
      "[22016 | __main__ | INFO] Iteration 22: try with T_evp = 4.756 °C and T_cnd = 52.393 °C\n",
      "[22016 | __main__ | INFO] Iteration 22: deviation with (4000 1/min, 4.756 °C, 52.393 °C): 0.054 kg/h\n",
      "[22016 | __main__ | INFO] Iteration 23: try with T_evp = 4.752 °C and T_cnd = 52.881 °C\n",
      "[22016 | __main__ | INFO] Iteration 23: deviation with (4000 1/min, 4.752 °C, 52.881 °C): 0.041 kg/h\n",
      "[22016 | __main__ | INFO] Iteration 24: try with T_evp = 4.753 °C and T_cnd = 52.759 °C\n",
      "[22016 | __main__ | INFO] Iteration 24: deviation with (4000 1/min, 4.753 °C, 52.759 °C): 0.028 kg/h\n",
      "[22016 | __main__ | INFO] Iteration 25: try with T_evp = 4.745 °C and T_cnd = 52.485 °C\n",
      "[22016 | __main__ | INFO] Iteration 25: deviation with (4000 1/min, 4.745 °C, 52.485 °C): 0.092 kg/h\n",
      "[22016 | __main__ | INFO] Iteration 26: try with T_evp = 4.755 °C and T_cnd = 52.701 °C\n",
      "[22016 | __main__ | INFO] Iteration 26: deviation with (4000 1/min, 4.755 °C, 52.701 °C): 0.009 kg/h\n",
      "[22016 | __main__ | INFO] Iteration 27: try with T_evp = 4.758 °C and T_cnd = 52.960 °C\n",
      "[22016 | __main__ | INFO] Iteration 27: deviation with (4000 1/min, 4.758 °C, 52.960 °C): 0.016 kg/h\n",
      "[22016 | __main__ | INFO] Iteration 28: try with T_evp = 4.759 °C and T_cnd = 52.903 °C\n",
      "[22016 | __main__ | INFO] Iteration 28: deviation with (4000 1/min, 4.759 °C, 52.903 °C): 0.050 kg/h\n",
      "[22016 | __main__ | INFO] Iteration 29: try with T_evp = 4.755 °C and T_cnd = 52.795 °C\n",
      "[22016 | __main__ | INFO] Iteration 29: deviation with (4000 1/min, 4.755 °C, 52.795 °C): 0.008 kg/h\n",
      "[22016 | __main__ | INFO] Iteration 30: try with T_evp = 4.752 °C and T_cnd = 52.536 °C\n",
      "[22016 | __main__ | INFO] Iteration 30: deviation with (4000 1/min, 4.752 °C, 52.536 °C): 0.012 kg/h\n",
      "[22016 | __main__ | INFO] Iteration 31: try with T_evp = 4.753 °C and T_cnd = 52.642 °C\n",
      "[22016 | __main__ | INFO] Iteration 31: deviation with (4000 1/min, 4.753 °C, 52.642 °C): 0.004 kg/h\n",
      "[22016 | __main__ | INFO] Iteration 32: try with T_evp = 4.753 °C and T_cnd = 52.735 °C\n",
      "[22016 | __main__ | INFO] Iteration 32: deviation with (4000 1/min, 4.753 °C, 52.735 °C): 0.024 kg/h\n",
      "[22016 | __main__ | INFO] Iteration 33: try with T_evp = 4.754 °C and T_cnd = 52.710 °C\n",
      "[22016 | __main__ | INFO] Iteration 33: deviation with (4000 1/min, 4.754 °C, 52.710 °C): 0.003 kg/h\n",
      "[22016 | __main__ | INFO] Rating finished after 33 iterations: Optimization terminated successfully.\n"
     ]
    },
    {
     "name": "stdout",
     "output_type": "stream",
     "text": [
      "CPU times: total: 4min 15s\n",
      "Wall time: 4min 29s\n"
     ]
    }
   ],
   "source": [
    "%%time \n",
    "# machine.rate(T_evp_ini=Q_(5.0, 'degC'), T_cnd_ini=Q_(50.0, 'degC'), abs_tol=Q_(1, 'kg / hr'))\n",
    "# machine.rate_root(T_evp_ini=Q_(5.0, 'degC'), T_cnd_ini=Q_(50.0, 'degC'))\n",
    "machine.rate_min(T_evp_ini=Q_(5.0, 'degC'), T_cnd_ini=Q_(50.0, 'degC'))"
   ]
  },
  {
   "cell_type": "markdown",
   "id": "b2b403e4-776d-4268-bc88-514641f5c6cf",
   "metadata": {},
   "source": [
    "**Check mass balance**<br>\n",
    "Check the difference of the mass flow rate of refrigerant according to the evaporator model with respect to the mass flow rate of refrigerant according to the compressor model."
   ]
  },
  {
   "cell_type": "code",
   "execution_count": 12,
   "id": "665553c0-ea3c-4a02-94eb-e089245cf28f",
   "metadata": {
    "tags": []
   },
   "outputs": [
    {
     "name": "stdout",
     "output_type": "stream",
     "text": [
      "mass balance: absolute error = 0.003 kg/h, relative error = 0.003 %\n"
     ]
    }
   ],
   "source": [
    "abs_err_mb, rel_err_mb = machine.check_mass_balance()\n",
    "print(\n",
    "    \"mass balance: \"\n",
    "    f\"absolute error = {abs_err_mb.to('kg / hr'):~P.3f}, \"\n",
    "    f\"relative error = {rel_err_mb.to('pct'):~P.3f}\"\n",
    ")"
   ]
  },
  {
   "cell_type": "markdown",
   "id": "186bddfe-4db7-4ae2-85e2-b5db82087a56",
   "metadata": {},
   "source": [
    "**Check energy balance**<br>\n",
    "Check the difference of the refrigeration capacity (heat absorption rate) according to the evaporator model with respect to the refrigeration capacity according to the compressor model (which is calculated as the difference between the heat rejection rate of the condenser and the compressor power)."
   ]
  },
  {
   "cell_type": "code",
   "execution_count": 13,
   "id": "cef5e115-b04a-4e25-a6ca-04e5bce01cce",
   "metadata": {
    "tags": []
   },
   "outputs": [
    {
     "name": "stdout",
     "output_type": "stream",
     "text": [
      "energy balance: absolute error = 0.011 kW, relative error = 0.26 %\n"
     ]
    }
   ],
   "source": [
    "abs_err_eb, rel_err_eb = machine.check_energy_balance()\n",
    "print(\n",
    "    \"energy balance: \"\n",
    "    f\"absolute error = {abs_err_eb.to('kW'):~P.3f}, \"\n",
    "    f\"relative error = {rel_err_eb.to('pct'):~P.2f}\"\n",
    ")"
   ]
  },
  {
   "cell_type": "markdown",
   "id": "f42695ef-0955-4685-89f3-9b3f2f8e2b35",
   "metadata": {},
   "source": [
    "**Results**"
   ]
  },
  {
   "cell_type": "markdown",
   "id": "c33f86f3-8925-4078-b8d4-4ba05716e8e8",
   "metadata": {},
   "source": [
    "The operating point of the vapor compression machine is defined by the evaporating and condensing temperature:"
   ]
  },
  {
   "cell_type": "code",
   "execution_count": 14,
   "id": "398a9286-99a3-4021-b7a7-2ddecf2d283d",
   "metadata": {
    "tags": []
   },
   "outputs": [
    {
     "name": "stdout",
     "output_type": "stream",
     "text": [
      "evaporation temperature = 4.754 °C\n",
      "condensing temperature = 52.710 °C\n"
     ]
    }
   ],
   "source": [
    "print(\n",
    "    f\"evaporation temperature = {machine.Te.to('degC'):~P.3f}\\n\"\n",
    "    f\"condensing temperature = {machine.Tc.to('degC'):~P.3f}\"\n",
    ")"
   ]
  },
  {
   "cell_type": "markdown",
   "id": "4ce78880-612a-4a58-ac81-d7c6aaeadacf",
   "metadata": {},
   "source": [
    "Other operating characteristics are:"
   ]
  },
  {
   "cell_type": "code",
   "execution_count": 15,
   "id": "bd5a8645-701f-4dcd-9f03-0dca3153025d",
   "metadata": {
    "tags": []
   },
   "outputs": [
    {
     "name": "stdout",
     "output_type": "stream",
     "text": [
      "heat absorption rate = 4.166 kW\n",
      "heat rejection rate = 5.892 kW\n",
      "compressor power = 1.715 kW\n",
      "COP = 2.31 frac\n",
      "refrigerant mass flow rate = 100.505 kg/h\n"
     ]
    }
   ],
   "source": [
    "print(\n",
    "    f\"heat absorption rate = {machine.Qc_dot.to('kW'):~P.3f}\\n\"\n",
    "    f\"heat rejection rate = {machine.Qh_dot.to('kW'):~P.3f}\\n\"\n",
    "    f\"compressor power = {machine.Wc_dot.to('kW'):~P.3f}\\n\"\n",
    "    f\"COP = {machine.COP.to('frac'):~P.2f}\\n\"\n",
    "    f\"refrigerant mass flow rate = {machine.m_dot.to('kg / hr'):~P.3f}\"\n",
    ")"
   ]
  },
  {
   "cell_type": "markdown",
   "id": "7ca91c01-8b60-49fd-b563-a566cee28d1c",
   "metadata": {},
   "source": [
    "The state of air at the outlet of evaporator and condenser:"
   ]
  },
  {
   "cell_type": "code",
   "execution_count": 16,
   "id": "54819cba-4169-410b-a12d-d53a97db2085",
   "metadata": {
    "tags": []
   },
   "outputs": [
    {
     "name": "stdout",
     "output_type": "stream",
     "text": [
      "evaporator air out = 13.45 °C DB, 100.0 % RH\n",
      "condenser air out = 44.31 °C DB, 18.2 % RH\n"
     ]
    }
   ],
   "source": [
    "print(\n",
    "    f\"evaporator air out = {evaporator.air_out.Tdb.to('degC'):~P.2f} DB, \"\n",
    "    f\"{evaporator.air_out.RH.to('pct'):~P.1f} RH\\n\"\n",
    "    f\"condenser air out = {condenser.air_out.Tdb.to('degC'):~P.2f} DB, \"\n",
    "    f\"{condenser.air_out.RH.to('pct'):~P.1f} RH\"\n",
    ")"
   ]
  },
  {
   "cell_type": "markdown",
   "id": "a749c914-0b42-466b-8fb2-439a258e91b3",
   "metadata": {},
   "source": [
    "The different states of refrigerant along the vapor compression cycle:"
   ]
  },
  {
   "cell_type": "code",
   "execution_count": 17,
   "id": "3843a9a2-6cb7-48f4-b16d-d1678fc5466e",
   "metadata": {
    "tags": []
   },
   "outputs": [
    {
     "name": "stdout",
     "output_type": "stream",
     "text": [
      "suction gas temperature = 14.75 °C\n",
      "discharge gas temperature = 94.13 °C\n",
      "liquid temperature = 43.27 °C\n",
      "liquid/vapor mixture temperature = 4.75 °C, vapor quality = 0.28 frac\n",
      "subcooling degree = 9.44 K\n"
     ]
    }
   ],
   "source": [
    "print(\n",
    "    f\"suction gas temperature = {machine.suction_gas.T.to('degC'):~P.2f}\\n\"\n",
    "    f\"discharge gas temperature = {machine.discharge_gas.T.to('degC'):~P.2f}\\n\"\n",
    "    f\"liquid temperature = {machine.liquid.T.to('degC'):~P.2f}\\n\"\n",
    "    f\"liquid/vapor mixture temperature = {machine.mixture.T.to('degC'):~P.2f}, \"\n",
    "    f\"vapor quality = {machine.mixture.x.to('frac'):~P.2f}\\n\"\n",
    "    f\"subcooling degree = {machine.sub_cooling.to('K'):~P.2f}\"\n",
    ")"
   ]
  },
  {
   "cell_type": "markdown",
   "id": "98e8ba25-571d-4653-a559-011b75a7258d",
   "metadata": {},
   "source": [
    "Air-side pressure drop across evaporator and condenser:"
   ]
  },
  {
   "cell_type": "code",
   "execution_count": 18,
   "id": "47ed8a5f-ded1-4d25-985e-fa21b830929c",
   "metadata": {
    "tags": []
   },
   "outputs": [
    {
     "name": "stdout",
     "output_type": "stream",
     "text": [
      "evaporator air-side pressure drop = 14.2 Pa\n",
      "condenser air-side pressure drop = 31.9 Pa\n"
     ]
    }
   ],
   "source": [
    "print(\n",
    "    f\"evaporator air-side pressure drop = {evaporator.dP_air.to('Pa'):~P.1f}\\n\"\n",
    "    f\"condenser air-side pressure drop = {condenser.dP_air.to('Pa'):~P.1f}\"\n",
    ")"
   ]
  },
  {
   "cell_type": "code",
   "execution_count": null,
   "id": "bc5ce429-98e1-420f-9988-0ed9a9c71812",
   "metadata": {},
   "outputs": [],
   "source": []
  }
 ],
 "metadata": {
  "kernelspec": {
   "display_name": "Python 3 (ipykernel)",
   "language": "python",
   "name": "python3"
  },
  "language_info": {
   "codemirror_mode": {
    "name": "ipython",
    "version": 3
   },
   "file_extension": ".py",
   "mimetype": "text/x-python",
   "name": "python",
   "nbconvert_exporter": "python",
   "pygments_lexer": "ipython3",
   "version": "3.11.0"
  }
 },
 "nbformat": 4,
 "nbformat_minor": 5
}
