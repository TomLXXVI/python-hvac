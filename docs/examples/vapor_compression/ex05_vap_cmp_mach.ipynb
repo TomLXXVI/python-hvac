{
 "cells": [
  {
   "cell_type": "markdown",
   "id": "0d21f86b-8797-4493-8d95-313d538fced1",
   "metadata": {},
   "source": [
    "**Notebook preparation and importing libraries**"
   ]
  },
  {
   "cell_type": "code",
   "execution_count": 1,
   "id": "859c4719-7b99-4e53-a1f3-be6b6eed4f5e",
   "metadata": {
    "tags": [],
    "ExecuteTime": {
     "end_time": "2023-08-23T11:09:18.506040300Z",
     "start_time": "2023-08-23T11:09:17.268903600Z"
    }
   },
   "outputs": [],
   "source": [
    "from pathlib import Path\n",
    "from hvac import Quantity\n",
    "from hvac.fluids import Fluid, HumidAir, CoolPropWarning\n",
    "from hvac.vapor_compression import VariableSpeedCompressor\n",
    "from hvac.vapor_compression.machine_bis import SingleStageVaporCompressionMachine\n",
    "from hvac.heat_transfer.heat_exchanger.fin_tube.air_evaporator import PlainFinTubeCounterFlowEvaporator\n",
    "from hvac.heat_transfer.heat_exchanger.fin_tube.air_condenser import PlainFinTubeCounterFlowCondenser"
   ]
  },
  {
   "cell_type": "code",
   "execution_count": 2,
   "id": "613e5b5a-6d53-40a9-a378-7bb242d503f7",
   "metadata": {
    "ExecuteTime": {
     "end_time": "2023-08-23T11:09:18.521836200Z",
     "start_time": "2023-08-23T11:09:18.513271400Z"
    }
   },
   "outputs": [],
   "source": [
    "import warnings\n",
    "warnings.filterwarnings('ignore', category=RuntimeWarning)\n",
    "warnings.filterwarnings('ignore', category=CoolPropWarning)"
   ]
  },
  {
   "cell_type": "code",
   "execution_count": 3,
   "id": "0125da76-c58d-4604-96bb-cb957c714f00",
   "metadata": {
    "tags": [],
    "ExecuteTime": {
     "end_time": "2023-08-23T11:09:18.522342100Z",
     "start_time": "2023-08-23T11:09:18.517729600Z"
    }
   },
   "outputs": [],
   "source": [
    "from hvac.logging import ModuleLogger\n",
    "logger = ModuleLogger.get_logger(__name__)\n",
    "logger.setLevel(ModuleLogger.INFO)"
   ]
  },
  {
   "cell_type": "code",
   "execution_count": 4,
   "id": "91ec07aa-b0b8-4f66-851a-80a5ea36c335",
   "metadata": {
    "tags": [],
    "ExecuteTime": {
     "end_time": "2023-08-23T11:09:18.524346900Z",
     "start_time": "2023-08-23T11:09:18.521836200Z"
    }
   },
   "outputs": [],
   "source": [
    "Q_ = Quantity"
   ]
  },
  {
   "cell_type": "markdown",
   "id": "c7533997-f351-4d78-87ea-7dd7cbe5fc62",
   "metadata": {},
   "source": [
    "# Rating of a Single-Stage Vapor Compression Machine"
   ]
  },
  {
   "cell_type": "markdown",
   "id": "bfde4e46-0da8-470d-b163-98936fd3a4de",
   "metadata": {},
   "source": [
    "A single-stage vapor compression machine is composed of a compressor, an evaporator, a condenser, and an expansion device. Air at a given state and mass flow rate enters the evaporator. At the condenser, air also enters at a given state and mass flow rate. The expansion device regulates the mass flow rate of refrigerant in order to maintain the set degree of superheat. The compressor (either with fixed or variable speed drive) runs at a given compressor speed. The question to answer here is what the operating point of the vapor compression machine will be under the given operating conditions."
   ]
  },
  {
   "cell_type": "markdown",
   "id": "33d011f5-9092-4526-8811-6ad3b67e9e06",
   "metadata": {},
   "source": [
    "## Configuration of the Vapor Compression Machine"
   ]
  },
  {
   "cell_type": "markdown",
   "id": "76a01c44-beb3-431e-8cf7-e034c48f75c5",
   "metadata": {},
   "source": [
    "To configure a single-stage vapor compression machine, we first need to define compressor, evaporator and condenser."
   ]
  },
  {
   "cell_type": "markdown",
   "id": "3c56a471-afd2-4de2-ab63-4e4b84fafbfe",
   "metadata": {},
   "source": [
    "**Compressor**<br>\n",
    "Based on preliminary calculations (see the first notebook of this series), a variable speed compressor with refrigerant R134a has been selected using selection software of the compressor manufacturer. The polynomial coefficients of the functions describing the performance quantities of this compressor were saved in a csv-file.   "
   ]
  },
  {
   "cell_type": "markdown",
   "id": "e92f10f9-0586-4e16-8a6d-24587ad590c7",
   "metadata": {
    "tags": []
   },
   "source": [
    "First, define the refrigerant:"
   ]
  },
  {
   "cell_type": "code",
   "execution_count": 5,
   "id": "47679278-e45f-40b6-92ae-f7ce59def9c7",
   "metadata": {
    "tags": [],
    "ExecuteTime": {
     "end_time": "2023-08-23T11:09:18.538131100Z",
     "start_time": "2023-08-23T11:09:18.526621300Z"
    }
   },
   "outputs": [],
   "source": [
    "R134a = Fluid('R134a')"
   ]
  },
  {
   "cell_type": "markdown",
   "id": "c1fbb3db-eedf-445a-93b0-4f1bb4433072",
   "metadata": {},
   "source": [
    "Now we can define the compressor:"
   ]
  },
  {
   "cell_type": "code",
   "execution_count": 6,
   "id": "7da3322f-38f6-432f-9f6d-4294939da157",
   "metadata": {
    "tags": [],
    "ExecuteTime": {
     "end_time": "2023-08-23T11:09:18.544423600Z",
     "start_time": "2023-08-23T11:09:18.531135900Z"
    }
   },
   "outputs": [],
   "source": [
    "compressor = VariableSpeedCompressor(\n",
    "    coeff_file=Path(\"compressor_data/VTZ038-G_R134a.csv\"),\n",
    "    refrigerant_type=R134a,\n",
    "    units={'m_dot': 'kg / hr', 'speed': '1 / s'}\n",
    ")"
   ]
  },
  {
   "cell_type": "markdown",
   "id": "fb4832a7-997d-4527-9568-bf5089857e6b",
   "metadata": {},
   "source": [
    "**Evaporator**<br>\n",
    "We will use the same air evaporator defined in notebook no. 2 (plain fin-tube counterflow evaporator)."
   ]
  },
  {
   "cell_type": "code",
   "execution_count": 7,
   "id": "23d00c05-877e-4a68-afcd-14333798c5e6",
   "metadata": {
    "tags": [],
    "ExecuteTime": {
     "end_time": "2023-08-23T11:09:18.564018Z",
     "start_time": "2023-08-23T11:09:18.546126500Z"
    }
   },
   "outputs": [],
   "source": [
    "evaporator = PlainFinTubeCounterFlowEvaporator(\n",
    "    L1=Q_(0.731, 'm'),\n",
    "    L3=Q_(0.244, 'm'),\n",
    "    N_r=2,\n",
    "    S_t=Q_(25.4, 'mm'),\n",
    "    S_l=Q_(22.0, 'mm'),\n",
    "    D_i=Q_(8.422, 'mm'),\n",
    "    D_o=Q_(10.2, 'mm'),\n",
    "    t_f=Q_(0.3302, 'mm'),\n",
    "    N_f=1 / Q_(3.175, 'mm')\n",
    ")"
   ]
  },
  {
   "cell_type": "markdown",
   "id": "7f9fa125-b1a7-45e0-98f9-243487131b3c",
   "metadata": {},
   "source": [
    "**Condenser**<br>\n",
    "We will use the same air condenser defined in notebook no. 3 (plain fin-tube counterflow condenser)."
   ]
  },
  {
   "cell_type": "code",
   "execution_count": 8,
   "id": "03902bd0-44c7-4f19-b01d-9e1fb7a3d4d7",
   "metadata": {
    "tags": [],
    "ExecuteTime": {
     "end_time": "2023-08-23T11:09:18.564018Z",
     "start_time": "2023-08-23T11:09:18.550635900Z"
    }
   },
   "outputs": [],
   "source": [
    "condenser = PlainFinTubeCounterFlowCondenser(\n",
    "    L1=Q_(0.909, 'm'),\n",
    "    L3=Q_(0.303, 'm'),\n",
    "    N_r=4,\n",
    "    S_t=Q_(25.4, 'mm'),         \n",
    "    S_l=Q_(22.0, 'mm'),         \n",
    "    D_i=Q_(8.422, 'mm'),        \n",
    "    D_o=Q_(10.2, 'mm'),         \n",
    "    t_f=Q_(0.3302, 'mm'),       \n",
    "    N_f=1 / Q_(3.175, 'mm')    \n",
    ")"
   ]
  },
  {
   "cell_type": "markdown",
   "id": "e0f7b2cb-6ef6-4ed9-b513-9a77b16d2570",
   "metadata": {},
   "source": [
    "**Vapor compression machine**<br>\n",
    "Configuration of the vapor compression machine is simple. You just need to pass the evaporator, condenser, compressor, and refrigerant to the `SingleStageVaporCompressionMachine` constructor:"
   ]
  },
  {
   "cell_type": "code",
   "execution_count": 9,
   "id": "14e8a650-ea10-493f-b19f-a1a8039c4da8",
   "metadata": {
    "tags": [],
    "ExecuteTime": {
     "end_time": "2023-08-23T11:09:18.564018Z",
     "start_time": "2023-08-23T11:09:18.556024200Z"
    }
   },
   "outputs": [],
   "source": [
    "machine = SingleStageVaporCompressionMachine(\n",
    "    evaporator, condenser, compressor, R134a,\n",
    "    n_cmp_min=Q_(2100, '1 / min'),\n",
    "    n_cmp_max=Q_(5400, '1 / min'),\n",
    "    logger=logger\n",
    ")"
   ]
  },
  {
   "cell_type": "markdown",
   "id": "0fc97010-dfbf-48fe-ba11-098534b6bba8",
   "metadata": {},
   "source": [
    "## Specify Known Operating Conditions"
   ]
  },
  {
   "cell_type": "markdown",
   "id": "2f88ad5c-715c-49e3-9cfd-0979ee3a4e5c",
   "metadata": {},
   "source": [
    "The following inputs will unambiguously determine the operation of the vapor compression machine:\n",
    "- mass flow rate of air through the evaporator\n",
    "- mass flow rate of air through the condenser\n",
    "- air state at evaporator inlet\n",
    "- air state at condenser inlet\n",
    "- degree of superheat set on the expansion device\n",
    "- compressor speed (only in case of a variable speed compressor)"
   ]
  },
  {
   "cell_type": "code",
   "execution_count": 10,
   "id": "cacba4f2-fc83-4aca-b4d2-72d2d6f76b2c",
   "metadata": {
    "tags": [],
    "ExecuteTime": {
     "end_time": "2023-08-23T11:09:18.564018Z",
     "start_time": "2023-08-23T11:09:18.562508600Z"
    }
   },
   "outputs": [],
   "source": [
    "machine.set_operating_conditions(\n",
    "    evp_m_dot_air=Q_(1500, 'kg / hr'),\n",
    "    cnd_m_dot_air=Q_(2233.861, 'kg / hr'),\n",
    "    evp_air_in=HumidAir(Tdb=Q_(24.0, 'degC'), RH=Q_(50, 'pct')),\n",
    "    cnd_air_in=HumidAir(Tdb=Q_(35.0, 'degC'), RH=Q_(30, 'pct')),\n",
    "    dT_sh=Q_(10, 'K'),\n",
    "    n_cmp=Q_(4000, '1 / min')\n",
    ")"
   ]
  },
  {
   "cell_type": "markdown",
   "id": "fd5bd17d-3c6c-488b-99f7-fc5e712640a7",
   "metadata": {},
   "source": [
    "## Steady-State Operation"
   ]
  },
  {
   "cell_type": "markdown",
   "id": "c045d4d5-a561-42ed-a816-3ead08051d3d",
   "metadata": {},
   "source": [
    "To determine the steady-state operation of the machine a similar, iterative solving technique is used as explained in Chapter 14 of the book *Stoecker, W. F., & Jones, J. W. (1982). Refrigeration and air conditioning. McGraw-Hill International Editions, Mechanical Technology Series.* Three rating methods are implemented in the single-stage vapor compression machine model:\n",
    "- Method `rate` uses a for-loop that will break when the the deviation between the refrigerant mass flow rate according to the compressor model and the refrigerant mass flow rate according to the evaporator is smaller than `abs_tol` (absolute tolerance) or `rel_tol` (relative tolerance).  \n",
    "- Method `rate_by_root_finding` uses a root-finding algorithm from scipy (`scipy.optimize.root`). Normally, method `rate_by_root_finding` will work better. However, it can fail by guessing values for the evaporation and condensing temperature which are physically impossible. Also, one should always check the mass and energy balance afterwards to see if the result can truly be valid.\n",
    "- Method `rate_by_minimization` uses a minimization algorithm from scipy (`scipy.optimize.minimize`). It tries to find the evaporation and condensation temperature for which the deviation between the refrigerant mass flow rate according to the compressor model and the refrigerant mass flow rate according to the evaporator is minimal. As physical bounds can be set with this algorithm, the risk that the algorithm will fail is smaller. However, this algorithm seems to be slower than the root-finding algorithm used in `rate_by_root_finding`."
   ]
  },
  {
   "cell_type": "code",
   "execution_count": 11,
   "id": "189a35cf-c7c6-45f8-865a-94ed2198c1ba",
   "metadata": {
    "tags": [],
    "ExecuteTime": {
     "end_time": "2023-08-23T11:14:51.154780400Z",
     "start_time": "2023-08-23T11:09:18.566018300Z"
    }
   },
   "outputs": [
    {
     "name": "stderr",
     "output_type": "stream",
     "text": [
      "[13288 | __main__ | INFO] Iteration 1: try with T_evp = 5.000 °C and T_cnd = 50.000 °C\n",
      "[13288 | __main__ | INFO] Iteration 1: deviation with 5.000 °C and 50.000 °C: 2.636 kg/h\n",
      "[13288 | __main__ | INFO] Iteration 2: try with T_evp = 5.250 °C and T_cnd = 50.000 °C\n",
      "[13288 | __main__ | INFO] Iteration 2: deviation with 5.250 °C and 50.000 °C: 5.651 kg/h\n",
      "[13288 | __main__ | INFO] Iteration 3: try with T_evp = 5.000 °C and T_cnd = 52.500 °C\n",
      "[13288 | __main__ | INFO] Iteration 3: deviation with 5.000 °C and 52.500 °C: 2.372 kg/h\n",
      "[13288 | __main__ | INFO] Iteration 4: try with T_evp = 4.750 °C and T_cnd = 52.500 °C\n",
      "[13288 | __main__ | INFO] Iteration 4: deviation with 4.750 °C and 52.500 °C: 0.932 kg/h\n",
      "[13288 | __main__ | INFO] Iteration 5: try with T_evp = 4.500 °C and T_cnd = 53.750 °C\n",
      "[13288 | __main__ | INFO] Iteration 5: deviation with 4.500 °C and 53.750 °C: 4.495 kg/h\n",
      "[13288 | __main__ | INFO] Iteration 6: try with T_evp = 4.750 °C and T_cnd = 55.000 °C\n",
      "[13288 | __main__ | INFO] Iteration 6: deviation with 4.750 °C and 55.000 °C: 1.689 kg/h\n",
      "[13288 | __main__ | INFO] Iteration 7: try with T_evp = 4.500 °C and T_cnd = 55.000 °C\n",
      "[13288 | __main__ | INFO] Iteration 7: deviation with 4.500 °C and 55.000 °C: 4.991 kg/h\n",
      "[13288 | __main__ | INFO] Iteration 8: try with T_evp = 4.875 °C and T_cnd = 53.125 °C\n",
      "[13288 | __main__ | INFO] Iteration 8: deviation with 4.875 °C and 53.125 °C: 0.625 kg/h\n",
      "[13288 | __main__ | INFO] Iteration 9: try with T_evp = 4.875 °C and T_cnd = 50.625 °C\n",
      "[13288 | __main__ | INFO] Iteration 9: deviation with 4.875 °C and 50.625 °C: 2.310 kg/h\n",
      "[13288 | __main__ | INFO] Iteration 10: try with T_evp = 4.781 °C and T_cnd = 53.906 °C\n",
      "[13288 | __main__ | INFO] Iteration 10: deviation with 4.781 °C and 53.906 °C: 0.838 kg/h\n",
      "[13288 | __main__ | INFO] Iteration 11: try with T_evp = 4.906 °C and T_cnd = 54.531 °C\n",
      "[13288 | __main__ | INFO] Iteration 11: deviation with 4.906 °C and 54.531 °C: 0.587 kg/h\n",
      "[13288 | __main__ | INFO] Iteration 12: try with T_evp = 4.984 °C and T_cnd = 55.547 °C\n",
      "[13288 | __main__ | INFO] Iteration 12: deviation with 4.984 °C and 55.547 °C: 1.165 kg/h\n",
      "[13288 | __main__ | INFO] Iteration 13: try with T_evp = 5.000 °C and T_cnd = 53.750 °C\n",
      "[13288 | __main__ | INFO] Iteration 13: deviation with 5.000 °C and 53.750 °C: 2.117 kg/h\n",
      "[13288 | __main__ | INFO] Iteration 14: try with T_evp = 4.836 °C and T_cnd = 53.867 °C\n",
      "[13288 | __main__ | INFO] Iteration 14: deviation with 4.836 °C and 53.867 °C: 0.100 kg/h\n",
      "[13288 | __main__ | INFO] Iteration 15: try with T_evp = 4.867 °C and T_cnd = 55.273 °C\n",
      "[13288 | __main__ | INFO] Iteration 15: deviation with 4.867 °C and 55.273 °C: 0.005 kg/h\n",
      "[13288 | __main__ | INFO] Iteration 16: try with T_evp = 4.863 °C and T_cnd = 56.348 °C\n",
      "[13288 | __main__ | INFO] Iteration 16: deviation with 4.863 °C and 56.348 °C: 0.863 kg/h\n",
      "[13288 | __main__ | INFO] Iteration 17: try with T_evp = 4.797 °C and T_cnd = 54.609 °C\n",
      "[13288 | __main__ | INFO] Iteration 17: deviation with 4.797 °C and 54.609 °C: 0.897 kg/h\n",
      "[13288 | __main__ | INFO] Iteration 18: try with T_evp = 4.879 °C and T_cnd = 54.551 °C\n",
      "[13288 | __main__ | INFO] Iteration 18: deviation with 4.879 °C and 54.551 °C: 0.216 kg/h\n",
      "[13288 | __main__ | INFO] Iteration 19: try with T_evp = 4.824 °C and T_cnd = 54.590 °C\n",
      "[13288 | __main__ | INFO] Iteration 19: deviation with 4.824 °C and 54.590 °C: 0.527 kg/h\n",
      "[13288 | __main__ | INFO] Iteration 20: try with T_evp = 4.865 °C and T_cnd = 54.561 °C\n",
      "[13288 | __main__ | INFO] Iteration 20: deviation with 4.865 °C and 54.561 °C: 0.030 kg/h\n",
      "[13288 | __main__ | INFO] Iteration 21: try with T_evp = 4.896 °C and T_cnd = 55.967 °C\n",
      "[13288 | __main__ | INFO] Iteration 21: deviation with 4.896 °C and 55.967 °C: 0.005 kg/h\n",
      "[13288 | __main__ | INFO] Iteration 22: try with T_evp = 4.927 °C and T_cnd = 57.017 °C\n",
      "[13288 | __main__ | INFO] Iteration 22: deviation with 4.927 °C and 57.017 °C: 0.406 kg/h\n",
      "[13288 | __main__ | INFO] Iteration 23: try with T_evp = 4.898 °C and T_cnd = 56.680 °C\n",
      "[13288 | __main__ | INFO] Iteration 23: deviation with 4.898 °C and 56.680 °C: 0.585 kg/h\n",
      "[13288 | __main__ | INFO] Iteration 24: try with T_evp = 4.874 °C and T_cnd = 55.090 °C\n",
      "[13288 | __main__ | INFO] Iteration 24: deviation with 4.874 °C and 55.090 °C: 0.091 kg/h\n",
      "[13288 | __main__ | INFO] Iteration 25: try with T_evp = 4.882 °C and T_cnd = 55.620 °C\n",
      "[13288 | __main__ | INFO] Iteration 25: deviation with 4.882 °C and 55.620 °C: 0.005 kg/h\n",
      "[13288 | __main__ | INFO] Iteration 26: try with T_evp = 4.881 °C and T_cnd = 55.264 °C\n",
      "[13288 | __main__ | INFO] Iteration 26: deviation with 4.881 °C and 55.264 °C: 0.076 kg/h\n",
      "[13288 | __main__ | INFO] Iteration 27: try with T_evp = 4.897 °C and T_cnd = 56.323 °C\n",
      "[13288 | __main__ | INFO] Iteration 27: deviation with 4.897 °C and 56.323 °C: 0.404 kg/h\n",
      "[13288 | __main__ | INFO] Iteration 28: try with T_evp = 4.885 °C and T_cnd = 55.529 °C\n",
      "[13288 | __main__ | INFO] Iteration 28: deviation with 4.885 °C and 55.529 °C: 0.005 kg/h\n",
      "[13288 | __main__ | INFO] Iteration 29: try with T_evp = 4.893 °C and T_cnd = 56.058 °C\n",
      "[13288 | __main__ | INFO] Iteration 29: deviation with 4.893 °C and 56.058 °C: 0.315 kg/h\n",
      "[13288 | __main__ | INFO] Iteration 30: try with T_evp = 4.887 °C and T_cnd = 55.661 °C\n",
      "[13288 | __main__ | INFO] Iteration 30: deviation with 4.887 °C and 55.661 °C: 0.005 kg/h\n",
      "[13288 | __main__ | INFO] Iteration 31: try with T_evp = 4.902 °C and T_cnd = 56.008 °C\n",
      "[13288 | __main__ | INFO] Iteration 31: deviation with 4.902 °C and 56.008 °C: 0.005 kg/h\n",
      "[13288 | __main__ | INFO] Iteration 32: try with T_evp = 4.912 °C and T_cnd = 56.201 °C\n",
      "[13288 | __main__ | INFO] Iteration 32: deviation with 4.912 °C and 56.201 °C: 0.005 kg/h\n",
      "[13288 | __main__ | INFO] Iteration 33: try with T_evp = 4.921 °C and T_cnd = 56.507 °C\n",
      "[13288 | __main__ | INFO] Iteration 33: deviation with 4.921 °C and 56.507 °C: 0.005 kg/h\n",
      "[13288 | __main__ | INFO] Iteration 34: try with T_evp = 4.938 °C and T_cnd = 56.930 °C\n",
      "[13288 | __main__ | INFO] Iteration 34: deviation with 4.938 °C and 56.930 °C: 0.005 kg/h\n",
      "[13288 | __main__ | INFO] Iteration 35: try with T_evp = 4.953 °C and T_cnd = 57.165 °C\n",
      "[13288 | __main__ | INFO] Iteration 35: deviation with 4.953 °C and 57.165 °C: 0.000 kg/h\n",
      "[13288 | __main__ | INFO] Iteration 36: try with T_evp = 4.982 °C and T_cnd = 57.764 °C\n",
      "[13288 | __main__ | INFO] Iteration 36: deviation with 4.982 °C and 57.764 °C: 0.000 kg/h\n",
      "[13288 | __main__ | INFO] Iteration 37: try with T_evp = 4.980 °C and T_cnd = 57.894 °C\n",
      "[13288 | __main__ | INFO] Iteration 37: deviation with 4.980 °C and 57.894 °C: 0.005 kg/h\n",
      "[13288 | __main__ | INFO] Iteration 38: try with T_evp = 4.995 °C and T_cnd = 58.129 °C\n",
      "[13288 | __main__ | INFO] Iteration 38: deviation with 4.995 °C and 58.129 °C: 0.005 kg/h\n",
      "[13288 | __main__ | INFO] Iteration 39: try with T_evp = 4.968 °C and T_cnd = 57.400 °C\n",
      "[13288 | __main__ | INFO] Iteration 39: deviation with 4.968 °C and 57.400 °C: 0.083 kg/h\n",
      "[13288 | __main__ | INFO] Iteration 40: try with T_evp = 4.977 °C and T_cnd = 57.770 °C\n",
      "[13288 | __main__ | INFO] Iteration 40: deviation with 4.977 °C and 57.770 °C: 0.005 kg/h\n",
      "[13288 | __main__ | INFO] Iteration 41: try with T_evp = 4.974 °C and T_cnd = 57.647 °C\n",
      "[13288 | __main__ | INFO] Iteration 41: deviation with 4.974 °C and 57.647 °C: 0.005 kg/h\n",
      "[13288 | __main__ | INFO] Iteration 42: try with T_evp = 4.966 °C and T_cnd = 57.530 °C\n",
      "[13288 | __main__ | INFO] Iteration 42: deviation with 4.966 °C and 57.530 °C: 0.005 kg/h\n",
      "[13288 | __main__ | INFO] Iteration 43: try with T_evp = 4.961 °C and T_cnd = 57.282 °C\n",
      "[13288 | __main__ | INFO] Iteration 43: deviation with 4.961 °C and 57.282 °C: 0.112 kg/h\n",
      "[13288 | __main__ | INFO] Iteration 44: try with T_evp = 4.965 °C and T_cnd = 57.468 °C\n",
      "[13288 | __main__ | INFO] Iteration 44: deviation with 4.965 °C and 57.468 °C: 0.005 kg/h\n",
      "[13288 | __main__ | INFO] Iteration 45: try with T_evp = 4.964 °C and T_cnd = 57.406 °C\n",
      "[13288 | __main__ | INFO] Iteration 45: deviation with 4.964 °C and 57.406 °C: 0.005 kg/h\n",
      "[13288 | __main__ | INFO] Iteration 46: try with T_evp = 4.960 °C and T_cnd = 57.347 °C\n",
      "[13288 | __main__ | INFO] Iteration 46: deviation with 4.960 °C and 57.347 °C: 0.005 kg/h\n",
      "[13288 | __main__ | INFO] Iteration 47: try with T_evp = 4.957 °C and T_cnd = 57.224 °C\n",
      "[13288 | __main__ | INFO] Iteration 47: deviation with 4.957 °C and 57.224 °C: 0.127 kg/h\n",
      "[13288 | __main__ | INFO] Iteration 48: try with T_evp = 4.959 °C and T_cnd = 57.316 °C\n",
      "[13288 | __main__ | INFO] Iteration 48: deviation with 4.959 °C and 57.316 °C: 0.005 kg/h\n",
      "[13288 | __main__ | INFO] Iteration 49: try with T_evp = 4.958 °C and T_cnd = 57.286 °C\n",
      "[13288 | __main__ | INFO] Iteration 49: deviation with 4.958 °C and 57.286 °C: 0.005 kg/h\n",
      "[13288 | __main__ | INFO] Iteration 50: try with T_evp = 4.957 °C and T_cnd = 57.256 °C\n",
      "[13288 | __main__ | INFO] Iteration 50: deviation with 4.957 °C and 57.256 °C: 0.005 kg/h\n",
      "[13288 | __main__ | INFO] Rating finished after 50 iterations: Maximum number of function evaluations has been exceeded.\n",
      "[13288 | __main__ | INFO] Execution time: 332.5826650000017 seconds\n",
      "[13288 | __main__ | INFO] Error mass balance: absolute error = 0.053 kg/h, relative error = 0.05 %\n",
      "[13288 | __main__ | INFO] Error energy balance: absolute error = 0.004 kW, relative error = 0.10 %\n"
     ]
    },
    {
     "name": "stdout",
     "output_type": "stream",
     "text": [
      "CPU times: total: 5min 9s\n",
      "Wall time: 5min 32s\n"
     ]
    }
   ],
   "source": [
    "%%time \n",
    "# machine.rate(\n",
    "#   T_evp_ini=Q_(5.0, 'degC'), \n",
    "#   T_cnd_ini=Q_(50.0, 'degC'), \n",
    "#   abs_tol=Q_(1, 'kg / hr')\n",
    "# )\n",
    "\n",
    "# machine.rate_by_root_finding(\n",
    "#   T_evp_ini=Q_(5.0, 'degC'), \n",
    "#   T_cnd_ini=Q_(50.0, 'degC')\n",
    "# )\n",
    "\n",
    "machine.rate_by_minimization(\n",
    "    T_evp_ini=Q_(5.0, 'degC'), \n",
    "    T_cnd_ini=Q_(50.0, 'degC')\n",
    ")"
   ]
  },
  {
   "cell_type": "markdown",
   "id": "b2b403e4-776d-4268-bc88-514641f5c6cf",
   "metadata": {},
   "source": [
    "**Check mass balance**<br>\n",
    "Check the difference of the mass flow rate of refrigerant according to the evaporator model with respect to the mass flow rate of refrigerant according to the compressor model."
   ]
  },
  {
   "cell_type": "code",
   "execution_count": 12,
   "id": "665553c0-ea3c-4a02-94eb-e089245cf28f",
   "metadata": {
    "tags": [],
    "ExecuteTime": {
     "end_time": "2023-08-23T11:14:51.159694200Z",
     "start_time": "2023-08-23T11:14:51.156851800Z"
    }
   },
   "outputs": [
    {
     "name": "stdout",
     "output_type": "stream",
     "text": [
      "mass balance: absolute error = 0.053 kg/h, relative error = 0.054 %\n"
     ]
    }
   ],
   "source": [
    "abs_err_mb, rel_err_mb = machine.check_mass_balance()\n",
    "print(\n",
    "    \"mass balance: \"\n",
    "    f\"absolute error = {abs_err_mb.to('kg / hr'):~P.3f}, \"\n",
    "    f\"relative error = {rel_err_mb.to('pct'):~P.3f}\"\n",
    ")"
   ]
  },
  {
   "cell_type": "markdown",
   "id": "186bddfe-4db7-4ae2-85e2-b5db82087a56",
   "metadata": {},
   "source": [
    "**Check energy balance**<br>\n",
    "Check the difference of the refrigeration capacity (heat absorption rate) according to the evaporator model with respect to the refrigeration capacity according to the compressor model (which is calculated as the difference between the heat rejection rate of the condenser and the compressor power)."
   ]
  },
  {
   "cell_type": "code",
   "execution_count": 13,
   "id": "cef5e115-b04a-4e25-a6ca-04e5bce01cce",
   "metadata": {
    "tags": [],
    "ExecuteTime": {
     "end_time": "2023-08-23T11:14:51.165840300Z",
     "start_time": "2023-08-23T11:14:51.160696300Z"
    }
   },
   "outputs": [
    {
     "name": "stdout",
     "output_type": "stream",
     "text": [
      "energy balance: absolute error = 0.004 kW, relative error = 0.10 %\n"
     ]
    }
   ],
   "source": [
    "abs_err_eb, rel_err_eb = machine.check_energy_balance()\n",
    "print(\n",
    "    \"energy balance: \"\n",
    "    f\"absolute error = {abs_err_eb.to('kW'):~P.3f}, \"\n",
    "    f\"relative error = {rel_err_eb.to('pct'):~P.2f}\"\n",
    ")"
   ]
  },
  {
   "cell_type": "markdown",
   "id": "f42695ef-0955-4685-89f3-9b3f2f8e2b35",
   "metadata": {},
   "source": [
    "**Results**"
   ]
  },
  {
   "cell_type": "markdown",
   "id": "c33f86f3-8925-4078-b8d4-4ba05716e8e8",
   "metadata": {},
   "source": [
    "The operating point of the vapor compression machine is defined by the evaporating and condensing temperature:"
   ]
  },
  {
   "cell_type": "code",
   "execution_count": 14,
   "id": "398a9286-99a3-4021-b7a7-2ddecf2d283d",
   "metadata": {
    "tags": [],
    "ExecuteTime": {
     "end_time": "2023-08-23T11:14:51.171593500Z",
     "start_time": "2023-08-23T11:14:51.167840400Z"
    }
   },
   "outputs": [
    {
     "name": "stdout",
     "output_type": "stream",
     "text": [
      "evaporation temperature = 4.957 °C\n",
      "condensing temperature = 57.256 °C\n"
     ]
    }
   ],
   "source": [
    "print(\n",
    "    f\"evaporation temperature = {machine.Te.to('degC'):~P.3f}\\n\"\n",
    "    f\"condensing temperature = {machine.Tc.to('degC'):~P.3f}\"\n",
    ")"
   ]
  },
  {
   "cell_type": "markdown",
   "id": "4ce78880-612a-4a58-ac81-d7c6aaeadacf",
   "metadata": {},
   "source": [
    "Other operating characteristics are:"
   ]
  },
  {
   "cell_type": "code",
   "execution_count": 15,
   "id": "bd5a8645-701f-4dcd-9f03-0dca3153025d",
   "metadata": {
    "tags": [],
    "ExecuteTime": {
     "end_time": "2023-08-23T11:14:51.237772900Z",
     "start_time": "2023-08-23T11:14:51.174486800Z"
    }
   },
   "outputs": [
    {
     "name": "stdout",
     "output_type": "stream",
     "text": [
      "heat absorption rate = 4.101 kW\n",
      "heat rejection rate = 5.882 kW\n",
      "compressor power = 1.777 kW\n",
      "COP = 2.06 frac\n",
      "refrigerant mass flow rate = 97.972 kg/h\n"
     ]
    }
   ],
   "source": [
    "print(\n",
    "    f\"heat absorption rate = {machine.Qc_dot.to('kW'):~P.3f}\\n\"\n",
    "    f\"heat rejection rate = {machine.Qh_dot.to('kW'):~P.3f}\\n\"\n",
    "    f\"compressor power = {machine.Wc_dot.to('kW'):~P.3f}\\n\"\n",
    "    f\"COP = {machine.COP.to('frac'):~P.2f}\\n\"\n",
    "    f\"refrigerant mass flow rate = {machine.m_dot.to('kg / hr'):~P.3f}\"\n",
    ")"
   ]
  },
  {
   "cell_type": "markdown",
   "id": "7ca91c01-8b60-49fd-b563-a566cee28d1c",
   "metadata": {},
   "source": [
    "The state of air at the outlet of evaporator and condenser:"
   ]
  },
  {
   "cell_type": "code",
   "execution_count": 16,
   "id": "54819cba-4169-410b-a12d-d53a97db2085",
   "metadata": {
    "tags": [],
    "ExecuteTime": {
     "end_time": "2023-08-23T11:14:51.251743700Z",
     "start_time": "2023-08-23T11:14:51.177997700Z"
    }
   },
   "outputs": [
    {
     "name": "stdout",
     "output_type": "stream",
     "text": [
      "evaporator air out = 17.43 °C DB, 65.2 % RH\n",
      "condenser air out = 44.29 °C DB, 18.3 % RH\n"
     ]
    }
   ],
   "source": [
    "print(\n",
    "    f\"evaporator air out = {evaporator.air_out.Tdb.to('degC'):~P.2f} DB, \"\n",
    "    f\"{evaporator.air_out.RH.to('pct'):~P.1f} RH\\n\"\n",
    "    f\"condenser air out = {condenser.air_out.Tdb.to('degC'):~P.2f} DB, \"\n",
    "    f\"{condenser.air_out.RH.to('pct'):~P.1f} RH\"\n",
    ")"
   ]
  },
  {
   "cell_type": "markdown",
   "id": "a749c914-0b42-466b-8fb2-439a258e91b3",
   "metadata": {},
   "source": [
    "The different states of refrigerant along the vapor compression cycle:"
   ]
  },
  {
   "cell_type": "code",
   "execution_count": 17,
   "id": "3843a9a2-6cb7-48f4-b16d-d1678fc5466e",
   "metadata": {
    "tags": [],
    "ExecuteTime": {
     "end_time": "2023-08-23T11:14:51.252743900Z",
     "start_time": "2023-08-23T11:14:51.183222Z"
    }
   },
   "outputs": [
    {
     "name": "stdout",
     "output_type": "stream",
     "text": [
      "suction gas temperature = 14.96 °C\n",
      "discharge gas temperature = 99.76 °C\n",
      "liquid temperature = 42.27 °C\n",
      "liquid/vapor mixture temperature = 4.96 °C, vapor quality = 0.27 frac\n",
      "subcooling degree = 14.99 K\n"
     ]
    }
   ],
   "source": [
    "print(\n",
    "    f\"suction gas temperature = {machine.suction_gas.T.to('degC'):~P.2f}\\n\"\n",
    "    f\"discharge gas temperature = {machine.discharge_gas.T.to('degC'):~P.2f}\\n\"\n",
    "    f\"liquid temperature = {machine.liquid.T.to('degC'):~P.2f}\\n\"\n",
    "    f\"liquid/vapor mixture temperature = {machine.mixture.T.to('degC'):~P.2f}, \"\n",
    "    f\"vapor quality = {machine.mixture.x.to('frac'):~P.2f}\\n\"\n",
    "    f\"subcooling degree = {machine.sub_cooling.to('K'):~P.2f}\"\n",
    ")"
   ]
  },
  {
   "cell_type": "markdown",
   "id": "98e8ba25-571d-4653-a559-011b75a7258d",
   "metadata": {},
   "source": [
    "Air-side pressure drop across evaporator and condenser:"
   ]
  },
  {
   "cell_type": "code",
   "execution_count": 18,
   "id": "47ed8a5f-ded1-4d25-985e-fa21b830929c",
   "metadata": {
    "tags": [],
    "ExecuteTime": {
     "end_time": "2023-08-23T11:14:51.275543400Z",
     "start_time": "2023-08-23T11:14:51.189231Z"
    }
   },
   "outputs": [
    {
     "name": "stdout",
     "output_type": "stream",
     "text": [
      "evaporator air-side pressure drop = 14.4 Pa\n",
      "condenser air-side pressure drop = 32.1 Pa\n"
     ]
    }
   ],
   "source": [
    "print(\n",
    "    f\"evaporator air-side pressure drop = {evaporator.dP_air.to('Pa'):~P.1f}\\n\"\n",
    "    f\"condenser air-side pressure drop = {condenser.dP_air.to('Pa'):~P.1f}\"\n",
    ")"
   ]
  },
  {
   "cell_type": "code",
   "execution_count": 18,
   "id": "bc5ce429-98e1-420f-9988-0ed9a9c71812",
   "metadata": {
    "ExecuteTime": {
     "end_time": "2023-08-23T11:14:51.276542800Z",
     "start_time": "2023-08-23T11:14:51.257346700Z"
    }
   },
   "outputs": [],
   "source": []
  }
 ],
 "metadata": {
  "kernelspec": {
   "display_name": "Python 3 (ipykernel)",
   "language": "python",
   "name": "python3"
  },
  "language_info": {
   "codemirror_mode": {
    "name": "ipython",
    "version": 3
   },
   "file_extension": ".py",
   "mimetype": "text/x-python",
   "name": "python",
   "nbconvert_exporter": "python",
   "pygments_lexer": "ipython3",
   "version": "3.11.0"
  }
 },
 "nbformat": 4,
 "nbformat_minor": 5
}
