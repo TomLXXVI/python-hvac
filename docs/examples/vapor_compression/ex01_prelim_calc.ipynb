{
 "cells": [
  {
   "cell_type": "markdown",
   "id": "2dda86f7-4c43-4581-a0c9-32e9fcf6205f",
   "metadata": {
    "tags": []
   },
   "source": [
    "# Preliminary Design Calculations\n",
    "---"
   ]
  },
  {
   "cell_type": "markdown",
   "id": "c2160751-2698-412e-94a8-1b3f374f26e5",
   "metadata": {},
   "source": [
    "**Importing libraries and notebook preparation**"
   ]
  },
  {
   "cell_type": "code",
   "id": "89bed48e-3502-482c-b1e1-2a824921b0c8",
   "metadata": {
    "tags": [],
    "ExecuteTime": {
     "end_time": "2025-01-19T08:57:33.427343Z",
     "start_time": "2025-01-19T08:57:32.677819Z"
    }
   },
   "source": [
    "import warnings\n",
    "from hvac import Quantity\n",
    "from hvac.fluids import HumidAir, Fluid, CP_HUMID_AIR, CoolPropWarning"
   ],
   "outputs": [],
   "execution_count": 1
  },
  {
   "cell_type": "markdown",
   "id": "0731a9d8-acfd-4c86-93f4-352b7a7d56fb",
   "metadata": {},
   "source": [
    "Ignore warnings that come from module `hvac.fluids.fluid`:"
   ]
  },
  {
   "cell_type": "code",
   "id": "8c0a09d4-0739-4a85-9247-64954e26218a",
   "metadata": {
    "tags": [],
    "ExecuteTime": {
     "end_time": "2025-01-19T08:57:33.434739Z",
     "start_time": "2025-01-19T08:57:33.431858Z"
    }
   },
   "source": [
    "warnings.filterwarnings('ignore', category=CoolPropWarning)"
   ],
   "outputs": [],
   "execution_count": 2
  },
  {
   "cell_type": "markdown",
   "id": "5024263b-5288-4bea-94a2-4293a19c0392",
   "metadata": {},
   "source": [
    "Define a shortcut alias for instantiating `Quantity` objects:"
   ]
  },
  {
   "cell_type": "code",
   "id": "bdb7ca97-24f7-40ce-ad78-4277f0a7dffd",
   "metadata": {
    "tags": [],
    "ExecuteTime": {
     "end_time": "2025-01-19T08:57:33.656686Z",
     "start_time": "2025-01-19T08:57:33.650183Z"
    }
   },
   "source": [
    "Q_ = Quantity"
   ],
   "outputs": [],
   "execution_count": 3
  },
  {
   "cell_type": "markdown",
   "id": "bf69792a-b59e-44b1-9640-f0bc84f66e16",
   "metadata": {},
   "source": [
    "## Outline"
   ]
  },
  {
   "cell_type": "markdown",
   "id": "440f689f-1785-468e-9b38-e9e19f91fc7c",
   "metadata": {},
   "source": [
    "- Air supplied to a conditioned zone in a building must be cooled from 24 °C (RH 50%) to 13 °C. The mass flow rate of air is 1500 kg/hr.\n",
    "- The refrigerant is R134a.\n",
    "- The design outdoor air temperature is 35 °C, and the relative humidity of the outdoor air is 30 % RH."
   ]
  },
  {
   "cell_type": "markdown",
   "id": "851f9583-bdd5-4f02-a997-112199b3cb26",
   "metadata": {},
   "source": [
    "We define the refrigerant:"
   ]
  },
  {
   "cell_type": "code",
   "id": "ec2f6dc2-1c61-44e5-b4f9-d41b11a643ae",
   "metadata": {
    "tags": [],
    "ExecuteTime": {
     "end_time": "2025-01-19T08:57:33.685662Z",
     "start_time": "2025-01-19T08:57:33.681482Z"
    }
   },
   "source": [
    "R134a = Fluid('R134a')"
   ],
   "outputs": [],
   "execution_count": 4
  },
  {
   "cell_type": "markdown",
   "id": "cc8a9ccb-9339-49ef-88ba-1cca983249a3",
   "metadata": {},
   "source": "We define the known air state at the entrance of the evaporator:"
  },
  {
   "cell_type": "code",
   "id": "6ff99226-0c02-44e9-8f80-0d3b59c02f36",
   "metadata": {
    "tags": [],
    "ExecuteTime": {
     "end_time": "2025-01-19T08:57:33.693875Z",
     "start_time": "2025-01-19T08:57:33.689669Z"
    }
   },
   "source": [
    "evp_air_in = HumidAir(Tdb=Q_(24, 'degC'), RH=Q_(50, 'pct'))"
   ],
   "outputs": [],
   "execution_count": 5
  },
  {
   "cell_type": "markdown",
   "id": "b435596e-ba42-41e2-8983-875da129aefd",
   "metadata": {},
   "source": [
    "The absolute humidity ratio of this air is:"
   ]
  },
  {
   "cell_type": "code",
   "id": "54dfe298-2d0f-4687-923e-4885db571d03",
   "metadata": {
    "ExecuteTime": {
     "end_time": "2025-01-19T08:57:33.717209Z",
     "start_time": "2025-01-19T08:57:33.712353Z"
    }
   },
   "source": [
    "print(f\"{evp_air_in.W.to('g / kg'):~P.3f}\")"
   ],
   "outputs": [
    {
     "name": "stdout",
     "output_type": "stream",
     "text": [
      "9.340 g/kg\n"
     ]
    }
   ],
   "execution_count": 6
  },
  {
   "cell_type": "markdown",
   "id": "3d17028b-d739-4c05-ad14-972b7b0f1918",
   "metadata": {},
   "source": [
    "We define the air state at the exit of the evaporator.\n",
    "\n",
    "The air cooling process is, in general, both a sensible, and a latent air conditioning process. Moisture from the air will condense on the evaporator's cold external surface, which leads to dehumidification of the air. Assuming that the air leaving the evaporator is fully saturated (RH 100 %), we define the state of air leaving the evaporator as:"
   ]
  },
  {
   "cell_type": "code",
   "id": "dd9de72b-52a1-4b25-87c3-9e13acbb4c18",
   "metadata": {
    "tags": [],
    "ExecuteTime": {
     "end_time": "2025-01-19T08:57:33.765444Z",
     "start_time": "2025-01-19T08:57:33.761540Z"
    }
   },
   "source": [
    "evp_air_out = HumidAir(Tdb=Q_(13, 'degC'), RH=Q_(100, 'pct'))"
   ],
   "outputs": [],
   "execution_count": 7
  },
  {
   "cell_type": "markdown",
   "id": "6f9ba184-3b63-4790-973f-06450268eae8",
   "metadata": {},
   "source": [
    "The absolute humidity ratio of this air is then:"
   ]
  },
  {
   "cell_type": "code",
   "id": "ca3afcbc-a94f-4f02-919e-4b0afb816b25",
   "metadata": {
    "ExecuteTime": {
     "end_time": "2025-01-19T08:57:33.778486Z",
     "start_time": "2025-01-19T08:57:33.773450Z"
    }
   },
   "source": [
    "print(f\"{evp_air_out.W.to('g / kg'):~P.3f}\")"
   ],
   "outputs": [
    {
     "name": "stdout",
     "output_type": "stream",
     "text": [
      "9.372 g/kg\n"
     ]
    }
   ],
   "execution_count": 8
  },
  {
   "cell_type": "markdown",
   "id": "c0a63daa-1fcf-424b-ac60-caaaf354a52a",
   "metadata": {},
   "source": "We notice that our assumption leads to air leaving the evaporator that contains more moisture than the air entering the evaporator, which means that the cooling process would add moisture instead of extracting it. As this is impossible, we need to alter our first assumption. If we assume that the relative humidity of the leaving air is 90 %, we get:"
  },
  {
   "cell_type": "code",
   "id": "d414086f-ffbf-4d2a-a8de-4d220b4a268b",
   "metadata": {
    "ExecuteTime": {
     "end_time": "2025-01-19T08:57:33.823339Z",
     "start_time": "2025-01-19T08:57:33.816816Z"
    }
   },
   "source": [
    "evp_air_out = HumidAir(Tdb=Q_(13, 'degC'), RH=Q_(90, 'pct'))\n",
    "print(f\"{evp_air_out.W.to('g / kg'):~P.3f}\")"
   ],
   "outputs": [
    {
     "name": "stdout",
     "output_type": "stream",
     "text": [
      "8.422 g/kg\n"
     ]
    }
   ],
   "execution_count": 9
  },
  {
   "cell_type": "markdown",
   "id": "1be22955-6c1e-434b-aa2e-9590d55e583b",
   "metadata": {},
   "source": [
    "We set the air mass flow rate through the evaporator:"
   ]
  },
  {
   "cell_type": "code",
   "id": "02ac1503-da01-4e04-ab8f-c667a73c5384",
   "metadata": {
    "tags": [],
    "ExecuteTime": {
     "end_time": "2025-01-19T08:57:33.867852Z",
     "start_time": "2025-01-19T08:57:33.863457Z"
    }
   },
   "source": [
    "evp_m_dot_air = Q_(1500, 'kg/hr')"
   ],
   "outputs": [],
   "execution_count": 10
  },
  {
   "cell_type": "markdown",
   "id": "62b1006d-e017-4977-8872-278459145dff",
   "metadata": {},
   "source": [
    "## Heat Absorption Rate of the Refrigerant"
   ]
  },
  {
   "cell_type": "markdown",
   "id": "b5a6ed3b-0e39-48e6-bca7-e70898b2698f",
   "metadata": {},
   "source": [
    "The rate of heat that needs to be extracted from the air stream in the evaporator follows from:"
   ]
  },
  {
   "cell_type": "code",
   "id": "bf4ef1cc-161b-44b0-86df-1ef364e18e32",
   "metadata": {
    "tags": [],
    "ExecuteTime": {
     "end_time": "2025-01-19T08:57:45.831229Z",
     "start_time": "2025-01-19T08:57:45.825980Z"
    }
   },
   "source": [
    "Q_evp = evp_m_dot_air * (evp_air_in.h - evp_air_out.h)\n",
    "print(f\"{Q_evp.to('kW'):~P.3f}\")"
   ],
   "outputs": [
    {
     "name": "stdout",
     "output_type": "stream",
     "text": [
      "5.657 kW\n"
     ]
    }
   ],
   "execution_count": 43
  },
  {
   "cell_type": "markdown",
   "id": "49a48fcf-cd20-4337-a958-aa098bae7e2b",
   "metadata": {},
   "source": [
    "## Selection of the Evaporation Temperature and Pressure"
   ]
  },
  {
   "cell_type": "markdown",
   "id": "c26b8d4a-a00c-4cb6-842a-cfd1eefe9ca9",
   "metadata": {},
   "source": "We select the target evaporation temperature of the refrigerant in the evaporator to be:"
  },
  {
   "cell_type": "code",
   "id": "cfd07c36-4559-4630-b3ba-0d7e2cb7f44e",
   "metadata": {
    "tags": [],
    "ExecuteTime": {
     "end_time": "2025-01-19T08:57:33.929100Z",
     "start_time": "2025-01-19T08:57:33.925699Z"
    }
   },
   "source": "T_evp = Q_(10, 'degC')",
   "outputs": [],
   "execution_count": 12
  },
  {
   "cell_type": "markdown",
   "id": "dfc417e6-14d2-4e41-9bd5-e8f78984780e",
   "metadata": {},
   "source": "We determine the corresponding evaporation pressure:"
  },
  {
   "cell_type": "code",
   "id": "d03e031e-92c8-4e58-a3db-bb5b84a5d8bf",
   "metadata": {
    "tags": [],
    "ExecuteTime": {
     "end_time": "2025-01-19T08:57:33.944460Z",
     "start_time": "2025-01-19T08:57:33.937408Z"
    }
   },
   "source": [
    "evp_rfg_sat_vap = R134a(T=T_evp, x=Q_(1.0, 'frac'))  # saturated vapor\n",
    "P_evp = evp_rfg_sat_vap.P\n",
    "print(f\"evaporation pressure = {P_evp.to('bar'):~P.3f}\")"
   ],
   "outputs": [
    {
     "name": "stdout",
     "output_type": "stream",
     "text": [
      "evaporation pressure = 4.146 bar\n"
     ]
    }
   ],
   "execution_count": 13
  },
  {
   "cell_type": "markdown",
   "id": "80f2ef97-6966-46a3-aeb7-6030a6015367",
   "metadata": {},
   "source": [
    "## Selection of the Condensation Temperature and Pressure"
   ]
  },
  {
   "cell_type": "markdown",
   "id": "e885c0b5-8f4a-4792-9bf4-5bc9b439805a",
   "metadata": {},
   "source": "We select the target condensing temperature of the refrigerant in the condenser to be:"
  },
  {
   "cell_type": "code",
   "id": "011e6a1a-aaff-4563-8e78-ff5bf8d83f2d",
   "metadata": {
    "tags": [],
    "ExecuteTime": {
     "end_time": "2025-01-19T08:57:33.964664Z",
     "start_time": "2025-01-19T08:57:33.960703Z"
    }
   },
   "source": [
    "T_cnd = Q_(50, 'degC')"
   ],
   "outputs": [],
   "execution_count": 14
  },
  {
   "cell_type": "markdown",
   "id": "65031a72-ec5d-4dd9-90fe-d711fcf7cf91",
   "metadata": {},
   "source": "We determine the corresponding condensing pressure:"
  },
  {
   "cell_type": "code",
   "id": "d72a37b5-5ece-4449-8977-5d520e279e39",
   "metadata": {
    "tags": [],
    "ExecuteTime": {
     "end_time": "2025-01-19T08:57:33.996349Z",
     "start_time": "2025-01-19T08:57:33.990491Z"
    }
   },
   "source": [
    "cnd_rfg_sat_liq = R134a(T=T_cnd, x=Q_(0.0, 'frac'))  # saturated liquid\n",
    "P_cnd = cnd_rfg_sat_liq.P\n",
    "print(f\"condensing pressure = {P_cnd.to('bar'):~P.3f}\")"
   ],
   "outputs": [
    {
     "name": "stdout",
     "output_type": "stream",
     "text": [
      "condensing pressure = 13.179 bar\n"
     ]
    }
   ],
   "execution_count": 15
  },
  {
   "cell_type": "markdown",
   "id": "a7d5b4ee-cec6-4594-8034-bc2d04914f12",
   "metadata": {},
   "source": [
    "## Mass flow rate of Refrigerant"
   ]
  },
  {
   "cell_type": "markdown",
   "id": "52436e56-7562-4a10-abc7-e50cbb6264fc",
   "metadata": {},
   "source": "The required mass flow rate of refrigerant can be determined once we've determined the state of refrigerant entering and leaving the evaporator. The refrigerant that leaves the evaporator needs to be superheated to a certain degree, which is a setting of the expansion device. The state of refrigerant entering the evaporator will depend on how much the refrigerant is subcooled when leaving the condenser."
  },
  {
   "cell_type": "markdown",
   "id": "d47eff7d-a925-4c81-95bd-71e8c05c4e28",
   "metadata": {},
   "source": [
    "We select the degree of superheating:"
   ]
  },
  {
   "cell_type": "code",
   "id": "96f21345-a333-420f-998a-0dfcce36174e",
   "metadata": {
    "tags": [],
    "ExecuteTime": {
     "end_time": "2025-01-19T08:57:34.052331Z",
     "start_time": "2025-01-19T08:57:34.048332Z"
    }
   },
   "source": [
    "dT_sh = Q_(10, 'K')"
   ],
   "outputs": [],
   "execution_count": 16
  },
  {
   "cell_type": "markdown",
   "id": "e709afbd-e2c8-4fb9-accf-bd2318bb8aa9",
   "metadata": {},
   "source": "We select the degree of subcooling:"
  },
  {
   "cell_type": "code",
   "id": "92d0f981-300e-4130-b761-bd66cca7327a",
   "metadata": {
    "tags": [],
    "ExecuteTime": {
     "end_time": "2025-01-19T08:57:34.063836Z",
     "start_time": "2025-01-19T08:57:34.060400Z"
    }
   },
   "source": [
    "dT_sc = Q_(5, 'K')"
   ],
   "outputs": [],
   "execution_count": 17
  },
  {
   "cell_type": "markdown",
   "id": "61aa72bc-f655-4f89-91cc-5782bcf47511",
   "metadata": {},
   "source": "Now we can determine the state of refrigerant leaving the evaporator:"
  },
  {
   "cell_type": "code",
   "id": "66733967-2eb3-4f21-86a9-5318ff99c32d",
   "metadata": {
    "tags": [],
    "ExecuteTime": {
     "end_time": "2025-01-19T08:57:34.088673Z",
     "start_time": "2025-01-19T08:57:34.082389Z"
    }
   },
   "source": [
    "evp_rfg_out = R134a(T=T_evp.to('K') + dT_sh, P=P_evp)"
   ],
   "outputs": [],
   "execution_count": 18
  },
  {
   "cell_type": "markdown",
   "id": "f3487ca0-6eba-4df6-ae31-d4b4c0578532",
   "metadata": {},
   "source": "To determine the state of refrigerant entering the evaporator, we can assume that the enthalpy of refrigerant entering the evaporator is about equal to the enthalpy of refrigerant leaving the condenser, as the expansion process can be considered to be isenthalpic. So, we first need to determine the state of refrigerant leaving the condenser:"
  },
  {
   "cell_type": "code",
   "id": "28fa1925-b4da-450c-9336-c67562444286",
   "metadata": {
    "tags": [],
    "ExecuteTime": {
     "end_time": "2025-01-19T08:57:34.099149Z",
     "start_time": "2025-01-19T08:57:34.094683Z"
    }
   },
   "source": [
    "cnd_rfg_out = R134a(T=T_cnd.to('K') - dT_sc, x=Q_(0.0, 'frac'))"
   ],
   "outputs": [],
   "execution_count": 19
  },
  {
   "cell_type": "markdown",
   "id": "766e18f8-29e0-4385-b279-f38f43fe301a",
   "metadata": {},
   "source": "Now we can determine the state of refrigerant entering the evaporator:"
  },
  {
   "cell_type": "code",
   "id": "1843ecac-cdb4-4026-822d-58b2f464dd24",
   "metadata": {
    "tags": [],
    "ExecuteTime": {
     "end_time": "2025-01-19T08:57:34.117016Z",
     "start_time": "2025-01-19T08:57:34.111037Z"
    }
   },
   "source": [
    "evp_rfg_in = R134a(h=cnd_rfg_out.h, P=P_evp)\n",
    "print(f\"vapor quality of entering refrigerant to evaporator = {evp_rfg_in.x.to('frac'):~P.2f}\")"
   ],
   "outputs": [
    {
     "name": "stdout",
     "output_type": "stream",
     "text": [
      "vapor quality of entering refrigerant to evaporator = 0.26 frac\n"
     ]
    }
   ],
   "execution_count": 20
  },
  {
   "cell_type": "markdown",
   "id": "0d461f72-8364-4a19-8cc7-48f592fc4dab",
   "metadata": {},
   "source": "Now that the states of refrigerant are determined on both sides of the evaporator, the mass flow rate of refrigerant, required to get the necessary heat absorption rate of the refrigerant in the evaporator, follows from:"
  },
  {
   "cell_type": "code",
   "id": "81711513-835a-401a-a191-223e2aa7efdd",
   "metadata": {
    "tags": [],
    "ExecuteTime": {
     "end_time": "2025-01-19T08:57:34.144726Z",
     "start_time": "2025-01-19T08:57:34.140714Z"
    }
   },
   "source": [
    "m_dot_rfg = Q_evp / (evp_rfg_out.h - evp_rfg_in.h)\n",
    "print(f\"mass flow rate of refrigerant = {m_dot_rfg.to('kg/hr'):~P.3f}\")"
   ],
   "outputs": [
    {
     "name": "stdout",
     "output_type": "stream",
     "text": [
      "mass flow rate of refrigerant = 136.023 kg/h\n"
     ]
    }
   ],
   "execution_count": 21
  },
  {
   "cell_type": "markdown",
   "id": "4914076a-d573-4b14-8b83-c76a4cdc75f1",
   "metadata": {},
   "source": [
    "## Heat Rejection Rate of the Refrigerant"
   ]
  },
  {
   "cell_type": "markdown",
   "id": "d4ed5a3e-e14e-485e-b710-af76f4585084",
   "metadata": {},
   "source": [
    "The heat rate to be rejected in the condenser is the sum of the heat rate absorbed in the evaporator and the mechanical power delivered by the compressor to the refrigerant.\n",
    "\n",
    "To determine the mechanical power of the compressor, a compressor selection software program is used (e.g. Coolselector2 from Danfoss). In this program, we need to enter:\n",
    "- the required heat absorption rate in the evaporator,\n",
    "- the selected evaporation temperature, \n",
    "- the selected degree of superheat,\n",
    "- the selected condensing temperature, \n",
    "- the selected degree of subcooling, and \n",
    "- the type of refrigerant. \n",
    "\n",
    "The program will return appropriate compressor models to choose from.\n",
    "\n",
    "When one of these compressors is selected, the program will show the performance characteristics of this compressor.\n",
    "\n",
    "For this example, we've selected the compressor DANFOSS VTZ038-G. According to the selection program, the estimated discharge temperature of the refrigerant is about 85.4 °C, and the compressor power delivered to the refrigerant is 2.220 kW. With the indicated refrigerant discharge temperature, we can determine the state of refrigerant entering the condenser. We already know the state of refrigerant leaving the condenser, and we also know the mass flow rate of refrigerant. With this, we can determine the heat rate the refrigerant must reject to the air in the condenser."
   ]
  },
  {
   "cell_type": "markdown",
   "id": "6c21567d-d0ca-4671-881d-c22030de1688",
   "metadata": {},
   "source": "We specify the discharge temperature of refrigerant leaving the compressor and entering the condenser:"
  },
  {
   "cell_type": "code",
   "id": "75eab960-a464-4072-9f2a-0a7ddc0b3d2d",
   "metadata": {
    "ExecuteTime": {
     "end_time": "2025-01-19T08:57:34.186275Z",
     "start_time": "2025-01-19T08:57:34.182258Z"
    }
   },
   "source": [
    "T_dis = Q_(85.4, 'degC')"
   ],
   "outputs": [],
   "execution_count": 22
  },
  {
   "cell_type": "markdown",
   "id": "58c442b1-c15c-4ed0-ae7e-bbe5b3a44369",
   "metadata": {},
   "source": "The state of refrigerant entering the condenser can now be determined:"
  },
  {
   "cell_type": "code",
   "id": "1f01b67b-d5f6-4122-bb92-68f12d00b04a",
   "metadata": {
    "tags": [],
    "ExecuteTime": {
     "end_time": "2025-01-19T08:57:34.214577Z",
     "start_time": "2025-01-19T08:57:34.208728Z"
    }
   },
   "source": [
    "cnd_rfg_in = R134a(T=T_dis, P=P_cnd)"
   ],
   "outputs": [],
   "execution_count": 23
  },
  {
   "cell_type": "markdown",
   "id": "6fcaedb5-5d70-488d-990d-2aadfb49b7b2",
   "metadata": {},
   "source": "The required heat rejection rate follows from:"
  },
  {
   "cell_type": "code",
   "id": "8c416ed6-97e5-4f45-b735-57825562ba68",
   "metadata": {
    "tags": [],
    "ExecuteTime": {
     "end_time": "2025-01-19T08:57:34.242504Z",
     "start_time": "2025-01-19T08:57:34.236615Z"
    }
   },
   "source": [
    "Q_cnd = m_dot_rfg * (cnd_rfg_in.h - cnd_rfg_out.h)\n",
    "print(f\"heat rejection rate (based on discharge temperature) = {Q_cnd.to('kW'):~P.3f}\")"
   ],
   "outputs": [
    {
     "name": "stdout",
     "output_type": "stream",
     "text": [
      "heat rejection rate (based on discharge temperature) = 7.546 kW\n"
     ]
    }
   ],
   "execution_count": 24
  },
  {
   "cell_type": "markdown",
   "id": "55030dc5-2ecd-47c5-9ee0-eea8f1fb01cf",
   "metadata": {},
   "source": [
    "## Mass Flow Rate of Air through the Condenser"
   ]
  },
  {
   "cell_type": "markdown",
   "id": "0792ba33-74b6-448f-b1b6-bcf351963af1",
   "metadata": {},
   "source": "The refrigerant enters the condenser at a temperature of around 85 °C and must leave the condenser at a temperature of around 45 °C, since we've selected a condensing temperature of 50 °C and the degree of subcooling to be 5 K. Air enters the condenser with a temperature of 35 °C. If we allow an air temperature rise of 10 K, we can determine the required mass flow rate of air as follows."
  },
  {
   "cell_type": "markdown",
   "id": "36578842-6085-487e-a5f2-29e6c0910010",
   "metadata": {},
   "source": "State of air entering the condenser:"
  },
  {
   "cell_type": "code",
   "id": "0fa63022-5c35-4237-a0c6-526eb5b1e9c8",
   "metadata": {
    "ExecuteTime": {
     "end_time": "2025-01-19T08:57:34.293590Z",
     "start_time": "2025-01-19T08:57:34.289589Z"
    }
   },
   "source": [
    "cnd_T_air_in = Q_(35, 'degC')\n",
    "cnd_air_in = HumidAir(Tdb=cnd_T_air_in, RH=Q_(30, 'pct'))"
   ],
   "outputs": [],
   "execution_count": 25
  },
  {
   "cell_type": "markdown",
   "id": "50aebe84-115a-4bfc-9b20-c84cdbc7fd4f",
   "metadata": {},
   "source": "Temperature rise of air in the condenser:"
  },
  {
   "cell_type": "code",
   "id": "bc70b6ae-32c0-401c-b9db-704e14085227",
   "metadata": {
    "tags": [],
    "ExecuteTime": {
     "end_time": "2025-01-19T08:57:34.300757Z",
     "start_time": "2025-01-19T08:57:34.297599Z"
    }
   },
   "source": [
    "cnd_dT_air = Q_(10, 'K')"
   ],
   "outputs": [],
   "execution_count": 26
  },
  {
   "cell_type": "markdown",
   "id": "9a83ddec-b539-443f-9dbc-fc89e5c60bf9",
   "metadata": {},
   "source": "State of air leaving the condenser:"
  },
  {
   "cell_type": "code",
   "id": "b19ec061-c118-4aa8-bb6c-05515d1f6f30",
   "metadata": {
    "tags": [],
    "ExecuteTime": {
     "end_time": "2025-01-19T08:57:34.315799Z",
     "start_time": "2025-01-19T08:57:34.311796Z"
    }
   },
   "source": [
    "cnd_T_air_out = cnd_T_air_in.to('K') + cnd_dT_air\n",
    "cnd_air_out = HumidAir(Tdb=cnd_T_air_out, W=cnd_air_in.W)  # sensible heating process"
   ],
   "outputs": [],
   "execution_count": 27
  },
  {
   "cell_type": "markdown",
   "id": "0ae2a0a1-4d58-47b0-9990-4646978180d7",
   "metadata": {},
   "source": "Required mass flow rate of air through the condenser:"
  },
  {
   "cell_type": "code",
   "id": "3c594bf2-2869-47b3-a1b9-66c4fb8e2073",
   "metadata": {
    "tags": [],
    "ExecuteTime": {
     "end_time": "2025-01-19T08:57:34.331853Z",
     "start_time": "2025-01-19T08:57:34.327439Z"
    }
   },
   "source": [
    "cnd_m_dot_air = Q_cnd / (CP_HUMID_AIR * (cnd_T_air_out - cnd_T_air_in))\n",
    "print(f\"mass flow rate of air through condenser = {cnd_m_dot_air.to('kg / hr'):~P.3f}\")"
   ],
   "outputs": [
    {
     "name": "stdout",
     "output_type": "stream",
     "text": [
      "mass flow rate of air through condenser = 2663.193 kg/h\n"
     ]
    }
   ],
   "execution_count": 28
  },
  {
   "cell_type": "markdown",
   "id": "778cafbc-e591-4513-bf03-33287205f956",
   "metadata": {},
   "source": [
    "## Frontal Area of the Evaporator"
   ]
  },
  {
   "cell_type": "markdown",
   "id": "015e37e6-d8e3-4cc1-9435-2d0018c5688c",
   "metadata": {},
   "source": "We select the air face velocity at the evaporator entrance:"
  },
  {
   "cell_type": "code",
   "id": "2e44599c-f273-4fac-aa8a-5a0d329f6006",
   "metadata": {
    "tags": [],
    "ExecuteTime": {
     "end_time": "2025-01-19T08:57:34.363381Z",
     "start_time": "2025-01-19T08:57:34.358914Z"
    }
   },
   "source": [
    "evp_v_fa = Q_(2, 'm/s')"
   ],
   "outputs": [],
   "execution_count": 29
  },
  {
   "cell_type": "markdown",
   "id": "291b5b5b-8e72-4e4e-a6fb-4f19e3506d75",
   "metadata": {},
   "source": "The air volume flow rate through the evaporator can now be determined as:"
  },
  {
   "cell_type": "code",
   "id": "8be0f0eb-0c64-4a87-8ca2-7497b92a3715",
   "metadata": {
    "tags": [],
    "ExecuteTime": {
     "end_time": "2025-01-19T08:57:34.390991Z",
     "start_time": "2025-01-19T08:57:34.385700Z"
    }
   },
   "source": [
    "evp_V_dot_air = evp_m_dot_air / evp_air_in.rho\n",
    "print(f\"volume flow rate of air through evaporator = {evp_V_dot_air.to('m ** 3 / hr'):~P.3f}\")"
   ],
   "outputs": [
    {
     "name": "stdout",
     "output_type": "stream",
     "text": [
      "volume flow rate of air through evaporator = 1281.170 m³/h\n"
     ]
    }
   ],
   "execution_count": 30
  },
  {
   "cell_type": "markdown",
   "id": "9aae9280-beeb-4ada-803c-e8e8602d53f8",
   "metadata": {},
   "source": "The frontal area of the evaporator can now be determined as:"
  },
  {
   "cell_type": "code",
   "id": "4aa036f5-414a-4af9-a808-25c50a0192e9",
   "metadata": {
    "tags": [],
    "ExecuteTime": {
     "end_time": "2025-01-19T08:57:34.426343Z",
     "start_time": "2025-01-19T08:57:34.420945Z"
    }
   },
   "source": [
    "evp_A_fr = evp_V_dot_air / evp_v_fa\n",
    "print(f\"frontal area of evaporator = {evp_A_fr.to('m ** 2'):~P.4f}\")"
   ],
   "outputs": [
    {
     "name": "stdout",
     "output_type": "stream",
     "text": [
      "frontal area of evaporator = 0.1779 m²\n"
     ]
    }
   ],
   "execution_count": 31
  },
  {
   "cell_type": "markdown",
   "id": "2c4d66d6-a070-4f1b-b1e7-30311747b6c2",
   "metadata": {},
   "source": "To determine the width and the height of the frontal area, we select an aspect ratio (i.e., the ratio of height to width):"
  },
  {
   "cell_type": "code",
   "id": "5ebb1e83-5908-4fb1-9227-c557b8fc9b74",
   "metadata": {
    "tags": [],
    "ExecuteTime": {
     "end_time": "2025-01-19T08:57:34.459421Z",
     "start_time": "2025-01-19T08:57:34.456332Z"
    }
   },
   "source": [
    "evp_AR = 1 / 3"
   ],
   "outputs": [],
   "execution_count": 32
  },
  {
   "cell_type": "markdown",
   "id": "ddc2372a-6f38-4320-ba8e-ccd15ec36810",
   "metadata": {},
   "source": "The width of the frontal area then follows from:"
  },
  {
   "cell_type": "code",
   "id": "9e0730f8-cf09-47a2-964b-0df60ac2a84c",
   "metadata": {
    "tags": [],
    "ExecuteTime": {
     "end_time": "2025-01-19T08:57:34.493487Z",
     "start_time": "2025-01-19T08:57:34.487299Z"
    }
   },
   "source": [
    "evp_L1 = (evp_A_fr / evp_AR) ** 0.5\n",
    "print(f\"width of evaporator's frontal area = {evp_L1.to('mm'):~P.0f}\")"
   ],
   "outputs": [
    {
     "name": "stdout",
     "output_type": "stream",
     "text": [
      "width of evaporator's frontal area = 731 mm\n"
     ]
    }
   ],
   "execution_count": 33
  },
  {
   "cell_type": "markdown",
   "id": "6bc234d8-13e3-4b9c-8978-93775412e815",
   "metadata": {},
   "source": "The height of the frontal area:"
  },
  {
   "cell_type": "code",
   "id": "7a6ffeea-f5c8-4428-89d8-6bca8d73d1d3",
   "metadata": {
    "tags": [],
    "ExecuteTime": {
     "end_time": "2025-01-19T08:57:34.527638Z",
     "start_time": "2025-01-19T08:57:34.522915Z"
    }
   },
   "source": [
    "evp_L3 = evp_A_fr / evp_L1\n",
    "print(f\"height of evaporator's frontal area = {evp_L3.to('mm'):~P.0f}\")"
   ],
   "outputs": [
    {
     "name": "stdout",
     "output_type": "stream",
     "text": [
      "height of evaporator's frontal area = 244 mm\n"
     ]
    }
   ],
   "execution_count": 34
  },
  {
   "cell_type": "markdown",
   "id": "f172fd1f-b7a3-4951-83d3-0464bf924b31",
   "metadata": {},
   "source": [
    "## Frontal Area of the Condenser"
   ]
  },
  {
   "cell_type": "markdown",
   "id": "9f96f72b-d0bc-4d51-a7ce-3ad6939ba3ea",
   "metadata": {},
   "source": "We select the air face velocity at the condenser entrance:"
  },
  {
   "cell_type": "code",
   "id": "65e95496-495a-4ae3-94a3-6c621caf5890",
   "metadata": {
    "tags": [],
    "ExecuteTime": {
     "end_time": "2025-01-19T08:57:34.554900Z",
     "start_time": "2025-01-19T08:57:34.551643Z"
    }
   },
   "source": [
    "cnd_v_fa = Q_(2, 'm/s')"
   ],
   "outputs": [],
   "execution_count": 35
  },
  {
   "cell_type": "markdown",
   "id": "067dde10-d668-4f6b-a82b-64b685990e80",
   "metadata": {},
   "source": "The air volume flow rate through the condenser:"
  },
  {
   "cell_type": "code",
   "id": "e1a39b10-f935-4619-8aa7-c40a8a47ea98",
   "metadata": {
    "tags": [],
    "ExecuteTime": {
     "end_time": "2025-01-19T08:57:34.588762Z",
     "start_time": "2025-01-19T08:57:34.582743Z"
    }
   },
   "source": [
    "cnd_V_dot_air = cnd_m_dot_air / cnd_air_in.rho\n",
    "print(f\"volume flow rate of air through condenser = {cnd_V_dot_air.to('m ** 3 / hr'):~P.3f}\")"
   ],
   "outputs": [
    {
     "name": "stdout",
     "output_type": "stream",
     "text": [
      "volume flow rate of air through condenser = 2363.763 m³/h\n"
     ]
    }
   ],
   "execution_count": 36
  },
  {
   "cell_type": "markdown",
   "id": "4ea5c8f3-19aa-4b42-91d2-2086b487b186",
   "metadata": {},
   "source": "The frontal area of the condenser:"
  },
  {
   "cell_type": "code",
   "id": "b94753f5-b2b6-451b-b6a9-92495e0d8c08",
   "metadata": {
    "tags": [],
    "ExecuteTime": {
     "end_time": "2025-01-19T08:57:34.627751Z",
     "start_time": "2025-01-19T08:57:34.623299Z"
    }
   },
   "source": [
    "cnd_A_fr = cnd_V_dot_air / cnd_v_fa\n",
    "print(f\"frontal area of condenser = {cnd_A_fr.to('m ** 2'):~P.4f}\")"
   ],
   "outputs": [
    {
     "name": "stdout",
     "output_type": "stream",
     "text": [
      "frontal area of condenser = 0.3283 m²\n"
     ]
    }
   ],
   "execution_count": 37
  },
  {
   "cell_type": "markdown",
   "id": "4d5e885d-aa93-41fb-a288-fb9bb0509557",
   "metadata": {},
   "source": "Aspect ratio of frontal area:"
  },
  {
   "cell_type": "code",
   "id": "89867b13-fad8-4083-9afe-ce5cc0fe09fc",
   "metadata": {
    "tags": [],
    "ExecuteTime": {
     "end_time": "2025-01-19T08:57:34.662246Z",
     "start_time": "2025-01-19T08:57:34.659103Z"
    }
   },
   "source": [
    "cnd_AR = 1 / 3"
   ],
   "outputs": [],
   "execution_count": 38
  },
  {
   "cell_type": "markdown",
   "id": "37a633e8-b47d-4779-8d63-fce0333b46f4",
   "metadata": {},
   "source": "Width of the frontal area:"
  },
  {
   "cell_type": "code",
   "id": "6dc98a44-9c42-4f5b-a7ff-8abdd5cf8a44",
   "metadata": {
    "tags": [],
    "ExecuteTime": {
     "end_time": "2025-01-19T08:57:34.689281Z",
     "start_time": "2025-01-19T08:57:34.684253Z"
    }
   },
   "source": [
    "cnd_L1 = (cnd_A_fr / cnd_AR) ** 0.5\n",
    "print(f\"width of condenser's frontal area = {cnd_L1.to('mm'):~P.0f}\")"
   ],
   "outputs": [
    {
     "name": "stdout",
     "output_type": "stream",
     "text": [
      "width of condenser's frontal area = 992 mm\n"
     ]
    }
   ],
   "execution_count": 39
  },
  {
   "cell_type": "markdown",
   "id": "9df288ec-849b-4900-9e04-fb3396c7bd09",
   "metadata": {},
   "source": "Height of the frontal area:"
  },
  {
   "cell_type": "code",
   "id": "cecce7de-bd0e-4d4f-b241-1df19ffd3fca",
   "metadata": {
    "tags": [],
    "ExecuteTime": {
     "end_time": "2025-01-19T08:57:34.727498Z",
     "start_time": "2025-01-19T08:57:34.723514Z"
    }
   },
   "source": [
    "cnd_L3 = cnd_A_fr / cnd_L1\n",
    "print(f\"height of condenser's frontal area = {cnd_L3.to('mm'):~P.0f}\")"
   ],
   "outputs": [
    {
     "name": "stdout",
     "output_type": "stream",
     "text": [
      "height of condenser's frontal area = 331 mm\n"
     ]
    }
   ],
   "execution_count": 40
  },
  {
   "cell_type": "markdown",
   "id": "b1cf7984-0a48-4d35-8f1c-62c65446f53f",
   "metadata": {},
   "source": [
    "## Summary"
   ]
  },
  {
   "cell_type": "markdown",
   "id": "4962b4a3-0f52-4269-ba15-6ad68265a301",
   "metadata": {},
   "source": [
    "**Evaporator**"
   ]
  },
  {
   "cell_type": "code",
   "id": "f82abf0e-f740-4712-903a-c38b68e559c6",
   "metadata": {
    "tags": [],
    "ExecuteTime": {
     "end_time": "2025-01-19T08:57:34.767733Z",
     "start_time": "2025-01-19T08:57:34.761703Z"
    }
   },
   "source": [
    "print(\n",
    "    f\"entering refrigerant state: {evp_rfg_in.T.to('degC'):~P.2f}, {evp_rfg_in.x.to('frac'):~P.2f}\",\n",
    "    f\"entering air state: {evp_air_in.Tdb.to('degC'):~P.2f}, RH {evp_air_in.RH.to('pct'):~P.2f}\",\n",
    "    f\"air mass flow rate: {evp_m_dot_air.to('kg / hr'):~P.3f}\",\n",
    "    f\"refrigerant mass flow rate: {m_dot_rfg.to('kg / hr'):~P.3f}\",\n",
    "    f\"frontal area width = {evp_L1.to('mm'):~P.0f}\",\n",
    "    f\"frontal area height = {evp_L3.to('mm'):~P.0f}\",\n",
    "    sep='\\n'\n",
    ")"
   ],
   "outputs": [
    {
     "name": "stdout",
     "output_type": "stream",
     "text": [
      "entering refrigerant state: 10.00 °C, 0.26 frac\n",
      "entering air state: 24.00 °C, RH 50.00 %\n",
      "air mass flow rate: 1500.000 kg/h\n",
      "refrigerant mass flow rate: 136.023 kg/h\n",
      "frontal area width = 731 mm\n",
      "frontal area height = 244 mm\n"
     ]
    }
   ],
   "execution_count": 41
  },
  {
   "cell_type": "markdown",
   "id": "325b6d22-1f68-43d9-b0ac-c8493fa9a476",
   "metadata": {},
   "source": [
    "**Condenser**"
   ]
  },
  {
   "cell_type": "code",
   "id": "d8a634b6-5cd4-424f-9f9d-f6c8781d6da7",
   "metadata": {
    "tags": [],
    "ExecuteTime": {
     "end_time": "2025-01-19T08:57:34.814982Z",
     "start_time": "2025-01-19T08:57:34.809704Z"
    }
   },
   "source": [
    "print(\n",
    "    f\"entering refrigerant state: {cnd_rfg_in.T.to('degC'):~P.2f}, {cnd_rfg_in.P.to('bar'):~P.3f}\",\n",
    "    f\"entering air state: {cnd_air_in.Tdb.to('degC'):~P.2f}, {cnd_air_in.RH.to('pct'):~P.2f}\",\n",
    "    f\"air mass flow rate: {cnd_m_dot_air.to('kg / hr'):~P.3f}\",\n",
    "    f\"heat rejection rate: {Q_cnd.to('kW'):~P.3f}\",\n",
    "    f\"frontal area width: {cnd_L1.to('mm'):~P.0f}\",\n",
    "    f\"frontal area height: {cnd_L3.to('mm'):~P.0f}\",\n",
    "    sep='\\n'\n",
    ")"
   ],
   "outputs": [
    {
     "name": "stdout",
     "output_type": "stream",
     "text": [
      "entering refrigerant state: 85.40 °C, 13.179 bar\n",
      "entering air state: 35.00 °C, 30.00 %\n",
      "air mass flow rate: 2663.193 kg/h\n",
      "heat rejection rate: 7.546 kW\n",
      "frontal area width: 992 mm\n",
      "frontal area height: 331 mm\n"
     ]
    }
   ],
   "execution_count": 42
  }
 ],
 "metadata": {
  "kernelspec": {
   "display_name": "Python 3 (ipykernel)",
   "language": "python",
   "name": "python3"
  },
  "language_info": {
   "codemirror_mode": {
    "name": "ipython",
    "version": 3
   },
   "file_extension": ".py",
   "mimetype": "text/x-python",
   "name": "python",
   "nbconvert_exporter": "python",
   "pygments_lexer": "ipython3",
   "version": "3.11.0"
  }
 },
 "nbformat": 4,
 "nbformat_minor": 5
}
