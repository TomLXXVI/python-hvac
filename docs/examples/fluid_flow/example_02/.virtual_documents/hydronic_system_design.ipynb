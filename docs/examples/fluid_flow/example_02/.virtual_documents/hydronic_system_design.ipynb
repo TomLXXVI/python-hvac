import warnings
from hvac.fluids import CoolPropWarning

warnings.filterwarnings('ignore', category=CoolPropWarning)


import pandas as pd
from IPython.display import display, HTML


from hvac import Quantity
from hvac.fluid_flow import PipeNetwork, PipeScheduleFactory
from hvac.fluids import Fluid


Q_ = Quantity


Water = Fluid('Water')
heating_water = Water(T=Q_(50, 'degC'), P=Q_(2, 'bar'))


table = pd.read_csv('network_config.csv')
display(HTML(table.to_html()))


schedule_table = pd.read_excel(
    io="./pipe_schedules/copper_tube.ods",
    sheet_name=0,
    header=0
)
display(HTML(schedule_table.head().to_html()))


copper_schedule = PipeScheduleFactory.get(
    name='copper',
    file_path='./pipe_schedules/copper_tube.ods',
    unit='mm'
)


pex_schedule = PipeScheduleFactory.get(
    name='pex',
    file_path='./pipe_schedules/henco_standard_pex.ods',
)


pipe_network = PipeNetwork.create(
    ID='heating_system',
    fluid=heating_water,
    wall_roughness=Q_(0.0015, 'mm'),
    schedule=None,
    start_node_ID='S0',
    end_node_ID='R0'
)


pipe_network.units['volume_flow_rate'] = 'L / s'
pipe_network.units['pressure'] = 'kPa'
pipe_network.units['specific_pressure'] = 'kPa / m'


pipe_network.load_from_csv('network_config.csv')


display(HTML(pipe_network.get_pipe_table().to_html()))


from hvac.fluid_flow.fittings import pipe as pipe_fittings


tee_S1 = pipe_fittings.Tee(
    flow_pattern='diverging',
    combined_pipe=pipe_network.conduits['P1'],
    branch_pipe=pipe_network.conduits['P5'],
    ID='TEE-S1'
)


pipe_network.conduits['P1'].add_fitting(tee_S1.zeta_c, tee_S1.ID)
pipe_network.conduits['P5'].add_fitting(tee_S1.zeta_b, tee_S1.ID)


tee_S2 = pipe_fittings.Tee(
    flow_pattern='diverging',
    combined_pipe=pipe_network.conduits['P2'],
    branch_pipe=pipe_network.conduits['P6'],
    ID='TEE-S2'
)
pipe_network.conduits['P2'].add_fitting(tee_S2.zeta_c, tee_S2.ID)
pipe_network.conduits['P6'].add_fitting(tee_S2.zeta_b, tee_S2.ID)

tee_S3 = pipe_fittings.Tee(
    flow_pattern='diverging',
    combined_pipe=pipe_network.conduits['P3'],
    branch_pipe=pipe_network.conduits['P7'],
    ID='TEE-S3'
)
pipe_network.conduits['P3'].add_fitting(tee_S3.zeta_c, tee_S3.ID)
pipe_network.conduits['P7'].add_fitting(tee_S3.zeta_b, tee_S3.ID)

tee_R1 = pipe_fittings.Tee(
    flow_pattern='converging',
    combined_pipe=pipe_network.conduits['P12'],
    branch_pipe=pipe_network.conduits['P5'],
    ID='TEE-R1'
)
pipe_network.conduits['P12'].add_fitting(tee_R1.zeta_c, tee_R1.ID)
pipe_network.conduits['P5'].add_fitting(tee_R1.zeta_b, tee_R1.ID)

tee_R2 = pipe_fittings.Tee(
    flow_pattern='converging',
    combined_pipe=pipe_network.conduits['P11'],
    branch_pipe=pipe_network.conduits['P6'],
    ID='TEE-R2'
)
pipe_network.conduits['P11'].add_fitting(tee_R2.zeta_c, tee_R2.ID)
pipe_network.conduits['P6'].add_fitting(tee_R2.zeta_b, tee_R2.ID)

tee_R3 = pipe_fittings.Tee(
    flow_pattern='converging',
    combined_pipe=pipe_network.conduits['P10'],
    branch_pipe=pipe_network.conduits['P7'],
    ID='TEE-R3'
)
pipe_network.conduits['P10'].add_fitting(tee_R3.zeta_c, tee_R3.ID)
pipe_network.conduits['P7'].add_fitting(tee_R3.zeta_b, tee_R3.ID)


reducer_S1 = pipe_fittings.Reducer(
    large_pipe=pipe_network.conduits['P1'],
    small_pipe=pipe_network.conduits['P2'],
    L=Q_(5.0, 'cm'),
    ID='RED-S1'
)
pipe_network.conduits['P2'].add_fitting(reducer_S1.zeta_small, reducer_S1.ID)

reducer_S2 = pipe_fittings.Reducer(
    large_pipe=pipe_network.conduits['P2'],
    small_pipe=pipe_network.conduits['P3'],
    L=Q_(5.0, 'cm'),
    ID='RED-S2'
)
pipe_network.conduits['P3'].add_fitting(reducer_S2.zeta_small, reducer_S2.ID)

reducer_S3 = pipe_fittings.Reducer(
    large_pipe=pipe_network.conduits['P3'],
    small_pipe=pipe_network.conduits['P4'],
    L=Q_(5.0, 'cm'),
    ID='RED-S3'
)
pipe_network.conduits['P4'].add_fitting(reducer_S3.zeta_small, reducer_S3.ID)

enlarger_R1 = pipe_fittings.Enlarger(
    large_pipe=pipe_network.conduits['P12'],
    small_pipe=pipe_network.conduits['P11'],
    L=Q_(5.0, 'cm'),
    ID='ENL-R1'
)
pipe_network.conduits['P12'].add_fitting(enlarger_R1.zeta_large, enlarger_R1.ID)

enlarger_R2 = pipe_fittings.Enlarger(
    large_pipe=pipe_network.conduits['P11'],
    small_pipe=pipe_network.conduits['P10'],
    L=Q_(5.0, 'cm'),
    ID='ENL-R2'
)
pipe_network.conduits['P11'].add_fitting(enlarger_R2.zeta_large, enlarger_R2.ID)

enlarger_R3 = pipe_fittings.Enlarger(
    large_pipe=pipe_network.conduits['P10'],
    small_pipe=pipe_network.conduits['P9'],
    L=Q_(5.0, 'cm'),
    ID='ENL-R3'
)
pipe_network.conduits['P10'].add_fitting(enlarger_R3.zeta_large, enlarger_R3.ID)


elbow_S4 = pipe_fittings.PipeFitting(
    pipe=pipe_network.conduits['P4'],
    ID='ELBOW-S4',
    ELR=30
)
pipe_network.conduits['P4'].add_fitting(elbow_S4.zeta, elbow_S4.ID)

elbow_R4 = pipe_fittings.PipeFitting(
    pipe=pipe_network.conduits['P9'],
    ID='ELBOW-R4',
    ELR=30
)
pipe_network.conduits['P9'].add_fitting(elbow_R4.zeta, elbow_R4.ID)


display(HTML(pipe_network.get_pipe_table().to_html()))


display(HTML(pipe_network.get_fitting_table().to_html()))


display(HTML(pipe_network.get_flow_path_table().to_html()))


cross_over_IDs = ['P5', 'P6', 'P7', 'P8']

Kvs_pre_list = [
    pipe_network.add_balancing_valve(
        cross_over_ID=cross_over_ID, 
        pressure_drop_full_open=Q_(3, 'kPa')
    )
    for cross_over_ID in cross_over_IDs
]

for item in [
    f"- preliminary Kvs of balancing valve in {cross_over_ID} = {Kvs_pre}"
    for cross_over_ID, Kvs_pre in zip(cross_over_IDs, Kvs_pre_list)
]:
    print(item)


Kvs_list = [1.33, 5.35, 2.32, 2.32]

for cross_over_ID, Kvs in zip(cross_over_IDs, Kvs_list):
    pipe_network.set_balancing_valve_Kvs(cross_over_ID, Kvs)


Kvs_pre_list = [
    pipe_network.add_control_valve(
        cross_over_ID=cross_over_ID, 
        target_authority=0.5
    )
    for cross_over_ID in cross_over_IDs
]

for item in [
    f"preliminary Kvs of control valve in {cross_over_ID} = {Kvs_pre}"
    for cross_over_ID, Kvs_pre in zip(cross_over_IDs, Kvs_pre_list)
]:
    print(item)


Kvs_list = [0.4, 1.6, 0.63, 1.0]

for cross_over_ID, Kvs in zip(cross_over_IDs, Kvs_list):
    pipe_network.set_control_valve_Kvs(cross_over_ID, Kvs)


display(HTML(pipe_network.get_pipe_table().to_html()))


display(HTML(pipe_network.get_fitting_table().to_html()))


display(HTML(pipe_network.get_flow_path_table().to_html()))


pipe_network.balance_network_at_design()


display(HTML(pipe_network.get_balancing_valve_table().to_html()))


display(HTML(pipe_network.get_pipe_table().to_html()))


display(HTML(pipe_network.get_fitting_table().to_html()))


display(pipe_network.get_flow_path_table())


display(HTML(pipe_network.get_control_valve_table().to_html()))


from hvac.fluid_flow.utils import SystemCurve


system_curve = SystemCurve.create(pipe_network.hydraulic_resistance)


diagram = system_curve.diagram(
    V_ini=Q_(0.0, 'L / s'),
    V_fin=Q_(0.5, 'L / s'),
    V_design=pipe_network.volume_flow_rate,
    no_points=50,
    fig_size=(8, 6),
    dpi=96,
    V_step=Q_(0.05, 'L / s'),
    V_max=Q_(0.65, 'L / s'),
    dP_step=Q_(5.0, 'kPa'),
    dP_max=Q_(50.0, 'kPa'),
    V_unit='L / s',
    dP_unit='kPa'
)
diagram.show()


from hvac.fluid_flow.network import save_network

save_network(pipe_network, "hydronic_network.pickle")



