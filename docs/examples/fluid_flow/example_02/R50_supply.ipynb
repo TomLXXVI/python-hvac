{
 "cells": [
  {
   "cell_type": "markdown",
   "id": "28e607dd-a8db-47e8-bef5-d73886d5799a",
   "metadata": {
    "pycharm": {
     "name": "#%% md\n"
    }
   },
   "source": [
    "# AIR HANDLING UNIT 1 (AHU R50): SUPPLY-SIDE"
   ]
  },
  {
   "cell_type": "markdown",
   "id": "e497986be7b20dae",
   "metadata": {},
   "source": [
    "In this example, an air supply duct system is analyzed. The configuration of the duct network is entirely done by coding, without making use of a network configuration file. The duct sections with fittings are created before the `DuctNetwork` object is created. Afterward, pseudo-conduits are added to close the loops and analyze the network.  "
   ]
  },
  {
   "cell_type": "code",
   "execution_count": 1,
   "id": "c000f4fae1a369d5",
   "metadata": {
    "collapsed": false,
    "is_executing": true,
    "jupyter": {
     "outputs_hidden": false
    },
    "tags": []
   },
   "outputs": [],
   "source": [
    "import warnings\n",
    "from hvac.fluids import CoolPropWarning\n",
    "\n",
    "warnings.filterwarnings('ignore', category=CoolPropWarning)"
   ]
  },
  {
   "cell_type": "code",
   "execution_count": 2,
   "id": "c7c21bed-d63d-4d41-809a-e97cf29e10c5",
   "metadata": {
    "ExecuteTime": {
     "end_time": "2023-08-08T10:43:35.038246100Z",
     "start_time": "2023-08-08T10:43:35.036733500Z"
    },
    "tags": []
   },
   "outputs": [],
   "source": [
    "from IPython.display import display, HTML"
   ]
  },
  {
   "cell_type": "code",
   "execution_count": 3,
   "id": "0fb46ff4-fadb-466c-a8e5-c66472311888",
   "metadata": {
    "ExecuteTime": {
     "end_time": "2023-08-08T10:43:35.704007500Z",
     "start_time": "2023-08-08T10:43:35.039247200Z"
    },
    "pycharm": {
     "name": "#%%\n"
    },
    "tags": []
   },
   "outputs": [],
   "source": [
    "from hvac import Quantity\n",
    "from hvac.fluid_flow import (\n",
    "    DuctNetwork,\n",
    "    Duct,\n",
    "    Circular,\n",
    "    Rectangular,\n",
    "    rectangular_duct_schedule,\n",
    "    PseudoConduit\n",
    ")\n",
    "import hvac.fluid_flow.fittings.duct as duct_fittings\n",
    "from hvac.fluids import Fluid"
   ]
  },
  {
   "cell_type": "code",
   "execution_count": 4,
   "id": "67015ca985da8e04",
   "metadata": {
    "ExecuteTime": {
     "end_time": "2023-08-08T10:43:35.704007500Z",
     "start_time": "2023-08-08T10:43:35.703592900Z"
    },
    "collapsed": false,
    "jupyter": {
     "outputs_hidden": false
    },
    "tags": []
   },
   "outputs": [],
   "source": [
    "Q_ = Quantity"
   ]
  },
  {
   "cell_type": "code",
   "execution_count": 5,
   "id": "6502121a-5eb2-4f70-8435-96c9ae18edfe",
   "metadata": {
    "ExecuteTime": {
     "end_time": "2023-08-08T10:43:35.704512600Z",
     "start_time": "2023-08-08T10:43:35.704007500Z"
    },
    "tags": []
   },
   "outputs": [],
   "source": [
    "Air = Fluid('Air')\n",
    "standard_air = Air(\n",
    "    T=Q_(20, 'degC'),\n",
    "    P=Q_(101_325, 'Pa')\n",
    ")"
   ]
  },
  {
   "cell_type": "markdown",
   "id": "a614d12d",
   "metadata": {
    "pycharm": {
     "name": "#%% md\n"
    }
   },
   "source": [
    "<img src=\"R50_supply.png\" alt=\"duct layout\">"
   ]
  },
  {
   "cell_type": "markdown",
   "id": "b0d75315-48ec-4aed-9a82-e3a98723a092",
   "metadata": {
    "pycharm": {
     "name": "#%% md\n"
    },
    "tags": []
   },
   "source": [
    "# Duct Sections and Fittings"
   ]
  },
  {
   "cell_type": "code",
   "execution_count": 6,
   "id": "c68376db-1447-4168-a127-24007957d46e",
   "metadata": {
    "ExecuteTime": {
     "end_time": "2023-08-08T10:43:35.709626Z",
     "start_time": "2023-08-08T10:43:35.704007500Z"
    },
    "pycharm": {
     "name": "#%%\n"
    },
    "tags": []
   },
   "outputs": [],
   "source": [
    "dps = Q_(1.0, 'Pa/m')  # specific pressure drop\n",
    "wr = Q_(0.09, 'mm')    # wall roughness of medium smooth ductwork"
   ]
  },
  {
   "cell_type": "code",
   "execution_count": 7,
   "id": "b8fa2868-f861-4f65-9bdb-c88b964cdb9b",
   "metadata": {
    "ExecuteTime": {
     "end_time": "2023-08-08T10:43:35.731605600Z",
     "start_time": "2023-08-08T10:43:35.704007500Z"
    },
    "pycharm": {
     "name": "#%%\n"
    },
    "tags": []
   },
   "outputs": [],
   "source": [
    "supply_ducts = []"
   ]
  },
  {
   "cell_type": "code",
   "execution_count": 8,
   "id": "0c02ac38-2902-4d6b-b2a7-563a65165b7a",
   "metadata": {
    "ExecuteTime": {
     "end_time": "2023-08-08T10:43:35.737196700Z",
     "start_time": "2023-08-08T10:43:35.707517200Z"
    },
    "pycharm": {
     "name": "#%%\n"
    },
    "tags": []
   },
   "outputs": [],
   "source": [
    "def add_duct(node_IDs, loop_ID, duct):\n",
    "    supply_ducts.append({\n",
    "        'conduit': duct,\n",
    "        'start_node_ID': node_IDs[0],\n",
    "        'end_node_ID': node_IDs[1],\n",
    "        'conduit_ID': f'{node_IDs[0]}-{node_IDs[1]}',\n",
    "        'loop_ID': loop_ID\n",
    "    })"
   ]
  },
  {
   "cell_type": "markdown",
   "id": "5391cfff-fdcb-4155-be0e-ce77f74441e5",
   "metadata": {
    "pycharm": {
     "name": "#%% md\n"
    }
   },
   "source": [
    "## Section 0/1"
   ]
  },
  {
   "cell_type": "code",
   "execution_count": 9,
   "id": "1a52f91d-bdaf-4a26-9db5-483a3ffe3131",
   "metadata": {
    "ExecuteTime": {
     "end_time": "2023-08-08T10:43:35.737196700Z",
     "start_time": "2023-08-08T10:43:35.711626600Z"
    },
    "pycharm": {
     "name": "#%%\n"
    },
    "tags": []
   },
   "outputs": [],
   "source": [
    "duct_0_1 = Duct.create(\n",
    "    length=Q_(0.1, 'm'),\n",
    "    wall_roughness=wr,\n",
    "    fluid=standard_air,\n",
    "    cross_section=Rectangular.create(\n",
    "        height=Q_(700, 'mm'),\n",
    "        width=Q_(1400, 'mm')\n",
    "    ),\n",
    "    volume_flow_rate=Q_(7500.0, 'm ** 3 / hr')\n",
    ")"
   ]
  },
  {
   "cell_type": "code",
   "execution_count": 10,
   "id": "a350f9f5-ef83-43fb-a87f-83ace548f94f",
   "metadata": {
    "ExecuteTime": {
     "end_time": "2023-08-08T10:43:35.738237100Z",
     "start_time": "2023-08-08T10:43:35.718614700Z"
    },
    "pycharm": {
     "name": "#%%\n"
    },
    "tags": []
   },
   "outputs": [
    {
     "name": "stdout",
     "output_type": "stream",
     "text": [
      "air velocity: 2.13 m/s\n",
      "pressure loss: 0.005 Pa\n"
     ]
    }
   ],
   "source": [
    "print(\n",
    "    f\"air velocity: {duct_0_1.velocity.to('m / s'):~P.2f}\\n\"\n",
    "    f\"pressure loss: {duct_0_1.pressure_drop.to('Pa'):~P.3f}\"\n",
    ")"
   ]
  },
  {
   "cell_type": "markdown",
   "id": "d60f3a5b-e285-4840-8b53-f88ccff91f74",
   "metadata": {
    "pycharm": {
     "name": "#%% md\n"
    },
    "tags": []
   },
   "source": [
    "## Section 1/2"
   ]
  },
  {
   "cell_type": "code",
   "execution_count": 11,
   "id": "f6851532-813a-47b8-b34d-cff6549afbbb",
   "metadata": {
    "ExecuteTime": {
     "end_time": "2023-08-08T10:43:35.809491600Z",
     "start_time": "2023-08-08T10:43:35.725773300Z"
    },
    "pycharm": {
     "name": "#%%\n"
    },
    "tags": []
   },
   "outputs": [],
   "source": [
    "duct_1_2 = Duct.create(\n",
    "    length=Q_(2.0, 'm'),\n",
    "    wall_roughness=wr,\n",
    "    fluid=standard_air,\n",
    "    cross_section=Rectangular.create(\n",
    "        height=Q_(300, 'mm'),\n",
    "        width=Q_(1200, 'mm')\n",
    "    ),\n",
    "    volume_flow_rate=Q_(-7500.0, 'm ** 3 / hr')\n",
    ")\n",
    "\n",
    "add_duct(\n",
    "    node_IDs=(1, 2),\n",
    "    loop_ID='L1',\n",
    "    duct=duct_1_2\n",
    ")"
   ]
  },
  {
   "cell_type": "code",
   "execution_count": 12,
   "id": "a540aade-9be6-414c-b73b-cd8bc8a9a386",
   "metadata": {
    "ExecuteTime": {
     "end_time": "2023-08-08T10:43:35.827418700Z",
     "start_time": "2023-08-08T10:43:35.732607100Z"
    },
    "pycharm": {
     "name": "#%%\n"
    },
    "tags": []
   },
   "outputs": [
    {
     "name": "stdout",
     "output_type": "stream",
     "text": [
      "duct width: 1200 mm\n",
      "air velocity: 5.79 m/s\n",
      "pressure loss: 1.447 Pa\n"
     ]
    }
   ],
   "source": [
    "print(\n",
    "    f\"duct width: {duct_1_2.cross_section.width.to('mm'):~P.0f}\\n\"\n",
    "    f\"air velocity: {duct_1_2.velocity.to('m / s'):~P.2f}\\n\"\n",
    "    f\"pressure loss: {duct_1_2.pressure_drop.to('Pa'):~P.3f}\"\n",
    ")"
   ]
  },
  {
   "cell_type": "markdown",
   "id": "3cef6515-be77-43e5-b9aa-95822e250aa8",
   "metadata": {
    "pycharm": {
     "name": "#%% md\n"
    }
   },
   "source": [
    "### Reducer"
   ]
  },
  {
   "cell_type": "code",
   "execution_count": 13,
   "id": "9580492e-d384-4ce2-a1bb-180b28e0810f",
   "metadata": {
    "ExecuteTime": {
     "end_time": "2023-08-08T10:43:35.864129500Z",
     "start_time": "2023-08-08T10:43:35.738237100Z"
    },
    "pycharm": {
     "name": "#%%\n"
    },
    "tags": []
   },
   "outputs": [],
   "source": [
    "# 1400 x 700 --> 1200 x 300\n",
    "reducer_1_2 = duct_fittings.ConvergingTransitionA9B(\n",
    "    duct_small=duct_1_2,\n",
    "    duct_large=duct_0_1,\n",
    "    theta=Q_(60.0, 'deg'),\n",
    "    length=Q_(0.3, 'm')\n",
    ")\n",
    "\n",
    "duct_1_2.add_fitting(\n",
    "    zeta=reducer_1_2.zeta_small,\n",
    "    ID='RED-1/2'\n",
    ")"
   ]
  },
  {
   "cell_type": "code",
   "execution_count": 14,
   "id": "4ed2a9fb-0deb-41be-918a-99726659d195",
   "metadata": {
    "ExecuteTime": {
     "end_time": "2023-08-08T10:43:35.864129500Z",
     "start_time": "2023-08-08T10:43:35.745489Z"
    },
    "pycharm": {
     "name": "#%%\n"
    },
    "tags": []
   },
   "outputs": [
    {
     "name": "stdout",
     "output_type": "stream",
     "text": [
      "pressure loss: 1.713 Pa\n"
     ]
    }
   ],
   "source": [
    "print(\n",
    "    f\"pressure loss: {reducer_1_2.pressure_drop.to('Pa'):~P.3f}\"\n",
    ")"
   ]
  },
  {
   "cell_type": "markdown",
   "id": "9903d705-a807-4d2f-b285-01fbf58fc793",
   "metadata": {
    "pycharm": {
     "name": "#%% md\n"
    }
   },
   "source": [
    "### Elbow 90°"
   ]
  },
  {
   "cell_type": "code",
   "execution_count": 15,
   "id": "f5acf9a8-9487-4ad4-b11b-b4f6c06ffe2a",
   "metadata": {
    "ExecuteTime": {
     "end_time": "2023-08-08T10:43:35.864129500Z",
     "start_time": "2023-08-08T10:43:35.750921700Z"
    },
    "pycharm": {
     "name": "#%%\n"
    },
    "tags": []
   },
   "outputs": [],
   "source": [
    "elbow_1_2 = duct_fittings.ElbowA7F(\n",
    "    duct=duct_1_2,\n",
    "    radius=Q_(0.5 * duct_1_2.cross_section.width.to('mm').m, 'mm')\n",
    ")\n",
    "\n",
    "duct_1_2.add_fitting(\n",
    "    zeta=elbow_1_2.zeta,\n",
    "    ID='ELB90-1/2'\n",
    ")"
   ]
  },
  {
   "cell_type": "code",
   "execution_count": 16,
   "id": "42302cae-a11b-49c8-bbf9-4a1e5d28803b",
   "metadata": {
    "ExecuteTime": {
     "end_time": "2023-08-08T10:43:35.865126700Z",
     "start_time": "2023-08-08T10:43:35.756715400Z"
    },
    "pycharm": {
     "name": "#%%\n"
    },
    "tags": []
   },
   "outputs": [
    {
     "name": "stdout",
     "output_type": "stream",
     "text": [
      "pressure loss: 30.256 Pa\n"
     ]
    }
   ],
   "source": [
    "print(\n",
    "    f\"pressure loss: {elbow_1_2.pressure_drop.to('Pa'):~P.3f}\"\n",
    ")"
   ]
  },
  {
   "cell_type": "markdown",
   "id": "20fe4ece-2a47-432a-b762-14b0b84f1aad",
   "metadata": {
    "pycharm": {
     "name": "#%% md\n"
    }
   },
   "source": [
    "## Section 2/3"
   ]
  },
  {
   "cell_type": "code",
   "execution_count": 17,
   "id": "73853b43-b737-47cf-9e7a-405fb6b39ae8",
   "metadata": {
    "ExecuteTime": {
     "end_time": "2023-08-08T10:43:35.865126700Z",
     "start_time": "2023-08-08T10:43:35.765406200Z"
    },
    "pycharm": {
     "name": "#%%\n"
    },
    "tags": []
   },
   "outputs": [],
   "source": [
    "duct_2_3 = Duct.create(\n",
    "    length=Q_(4.738, 'm'),\n",
    "    wall_roughness=wr,\n",
    "    fluid=standard_air,\n",
    "    cross_section=Rectangular.create(\n",
    "        height=Q_(300, 'mm'),\n",
    "        width=Q_(1200, 'mm')\n",
    "    ),\n",
    "    volume_flow_rate=Q_(-7500.0, 'm ** 3 / hr'),\n",
    ")\n",
    "\n",
    "add_duct(\n",
    "    node_IDs=(2, 3),\n",
    "    loop_ID='L1',\n",
    "    duct=duct_2_3\n",
    ")"
   ]
  },
  {
   "cell_type": "code",
   "execution_count": 18,
   "id": "3384e507-3edb-44c5-8a43-081ce935b6de",
   "metadata": {
    "ExecuteTime": {
     "end_time": "2023-08-08T10:43:35.865126700Z",
     "start_time": "2023-08-08T10:43:35.767916700Z"
    },
    "pycharm": {
     "name": "#%%\n"
    },
    "tags": []
   },
   "outputs": [
    {
     "name": "stdout",
     "output_type": "stream",
     "text": [
      "duct width: 1200 mm\n",
      "air velocity: 5.79 m/s\n",
      "pressure drop: 3.428 Pa\n"
     ]
    }
   ],
   "source": [
    "print(\n",
    "    f\"duct width: {duct_2_3.cross_section.width.to('mm'):~P.0f}\\n\"\n",
    "    f\"air velocity: {duct_2_3.velocity.to('m / s'):~P.2f}\\n\"\n",
    "    f\"pressure drop: {duct_2_3.pressure_drop.to('Pa'):~P.3f}\"\n",
    ")"
   ]
  },
  {
   "cell_type": "markdown",
   "id": "842a5cd0-2750-48d4-8ce1-a7b183fcda5f",
   "metadata": {
    "pycharm": {
     "name": "#%% md\n"
    }
   },
   "source": [
    "## Section 3/4"
   ]
  },
  {
   "cell_type": "code",
   "execution_count": 19,
   "id": "bc32e157-1055-4138-993b-dfebf1d840a7",
   "metadata": {
    "ExecuteTime": {
     "end_time": "2023-08-08T10:43:35.866133Z",
     "start_time": "2023-08-08T10:43:35.778376300Z"
    },
    "pycharm": {
     "name": "#%%\n"
    },
    "tags": []
   },
   "outputs": [],
   "source": [
    "duct_3_4 = Duct.create(\n",
    "    length=Q_(0.1, 'm'),\n",
    "    wall_roughness=wr,\n",
    "    fluid=standard_air,\n",
    "    cross_section=Rectangular.create(\n",
    "        height=Q_(300.0, 'mm'),\n",
    "        schedule=rectangular_duct_schedule\n",
    "    ),\n",
    "    volume_flow_rate=Q_(-1875.0, 'm ** 3 / hr'),\n",
    "    specific_pressure_drop=dps\n",
    ")\n",
    "\n",
    "add_duct(\n",
    "    node_IDs=(3, 4),\n",
    "    loop_ID=('L1', 'L2'),\n",
    "    duct=duct_3_4\n",
    ")"
   ]
  },
  {
   "cell_type": "code",
   "execution_count": 20,
   "id": "f54f9e20-85ea-498b-92f4-43af1ffa39a7",
   "metadata": {
    "ExecuteTime": {
     "end_time": "2023-08-08T10:43:35.866133Z",
     "start_time": "2023-08-08T10:43:35.781383400Z"
    },
    "pycharm": {
     "name": "#%%\n"
    },
    "tags": []
   },
   "outputs": [
    {
     "name": "stdout",
     "output_type": "stream",
     "text": [
      "duct width: 350 mm\n",
      "air velocity: 4.96 m/s\n",
      "pressure loss: 0.088 Pa\n"
     ]
    }
   ],
   "source": [
    "print(\n",
    "    f\"duct width: {duct_3_4.cross_section.width.to('mm'):~P.0f}\\n\"\n",
    "    f\"air velocity: {duct_3_4.velocity.to('m / s'):~P.2f}\\n\"\n",
    "    f\"pressure loss: {duct_3_4.pressure_drop.to('Pa'):~P.3f}\"\n",
    ")"
   ]
  },
  {
   "cell_type": "markdown",
   "id": "1d5ecc8e-e09b-4a0f-9705-60fc23d7597e",
   "metadata": {
    "pycharm": {
     "name": "#%% md\n"
    }
   },
   "source": [
    "## Section 3/5"
   ]
  },
  {
   "cell_type": "code",
   "execution_count": 21,
   "id": "ba25abc1-808d-4fa4-8e6e-206ff7e36d51",
   "metadata": {
    "ExecuteTime": {
     "end_time": "2023-08-08T10:43:35.866133Z",
     "start_time": "2023-08-08T10:43:35.786465200Z"
    },
    "pycharm": {
     "name": "#%%\n"
    },
    "tags": []
   },
   "outputs": [],
   "source": [
    "duct_3_5 = Duct.create(\n",
    "    length=Q_(1.755, 'm'),\n",
    "    wall_roughness=wr,\n",
    "    fluid=standard_air,\n",
    "    cross_section=Rectangular.create(\n",
    "        height=Q_(300, 'mm'),\n",
    "        width=duct_2_3.cross_section.width\n",
    "    ),\n",
    "    volume_flow_rate=Q_(-(7500 - 1875), 'm ** 3 / hr')\n",
    ")\n",
    "\n",
    "add_duct(\n",
    "    node_IDs=(3, 5),\n",
    "    loop_ID='L2',\n",
    "    duct=duct_3_5\n",
    ")"
   ]
  },
  {
   "cell_type": "code",
   "execution_count": 22,
   "id": "fad0ae0f-5f44-477f-8340-59013ff6bc22",
   "metadata": {
    "ExecuteTime": {
     "end_time": "2023-08-08T10:43:35.866773Z",
     "start_time": "2023-08-08T10:43:35.791876200Z"
    },
    "pycharm": {
     "name": "#%%\n"
    },
    "tags": []
   },
   "outputs": [
    {
     "name": "stdout",
     "output_type": "stream",
     "text": [
      "duct width: 1200 mm\n",
      "air velocity: 4.34 m/s\n",
      "pressure loss: 0.746 Pa\n"
     ]
    }
   ],
   "source": [
    "print(\n",
    "    f\"duct width: {duct_3_5.cross_section.width.to('mm'):~P.0f}\\n\"\n",
    "    f\"air velocity: {duct_3_5.velocity.to('m / s'):~P.2f}\\n\"\n",
    "    f\"pressure loss: {duct_3_5.pressure_drop.to('Pa'):~P.3f}\"\n",
    ")"
   ]
  },
  {
   "cell_type": "markdown",
   "id": "cc5f955f-75e2-4bf3-acf5-af31593a7fe7",
   "metadata": {
    "pycharm": {
     "name": "#%% md\n"
    }
   },
   "source": [
    "## Main Section 2/3 to Branch Section 3/4"
   ]
  },
  {
   "cell_type": "code",
   "execution_count": 23,
   "id": "b45a8271-d24f-4ef6-b8bb-73c14c52515c",
   "metadata": {
    "ExecuteTime": {
     "end_time": "2023-08-08T10:43:35.866773Z",
     "start_time": "2023-08-08T10:43:35.797407Z"
    },
    "pycharm": {
     "name": "#%%\n"
    },
    "tags": []
   },
   "outputs": [],
   "source": [
    "tee_2_3 = duct_fittings.DivergingJunctionA11P(\n",
    "    duct_b=duct_3_4,\n",
    "    duct_c=duct_2_3,\n",
    "    duct_s=duct_3_5\n",
    ")"
   ]
  },
  {
   "cell_type": "code",
   "execution_count": 24,
   "id": "b9cdd047-413b-407c-906c-cfe27da9c653",
   "metadata": {
    "ExecuteTime": {
     "end_time": "2023-08-08T10:43:35.866773Z",
     "start_time": "2023-08-08T10:43:35.802625300Z"
    },
    "pycharm": {
     "name": "#%%\n"
    },
    "tags": []
   },
   "outputs": [
    {
     "name": "stdout",
     "output_type": "stream",
     "text": [
      "pressure drop straight: 0.605 Pa\n",
      "pressure drop branch: 24.910 Pa\n"
     ]
    }
   ],
   "source": [
    "print(\n",
    "    f\"pressure drop straight: {tee_2_3.pressure_drop_main.to('Pa'):~P.3f}\\n\"\n",
    "    f\"pressure drop branch: {tee_2_3.pressure_drop_branch.to('Pa'):~P.3f}\"\n",
    ")"
   ]
  },
  {
   "cell_type": "code",
   "execution_count": 25,
   "id": "4c88bca0-9c8e-4aa3-b3e6-7c875add1bce",
   "metadata": {
    "ExecuteTime": {
     "end_time": "2023-08-08T10:43:35.886781300Z",
     "start_time": "2023-08-08T10:43:35.807492100Z"
    },
    "pycharm": {
     "name": "#%%\n"
    },
    "tags": []
   },
   "outputs": [],
   "source": [
    "duct_2_3.add_fitting(\n",
    "    zeta=tee_2_3.zeta_c,\n",
    "    ID='TEE-C-2/3'\n",
    ")\n",
    "\n",
    "duct_3_4.add_fitting(\n",
    "    zeta=tee_2_3.zeta_b,\n",
    "    ID='TEE-B-2/3'\n",
    ")"
   ]
  },
  {
   "cell_type": "markdown",
   "id": "a3b204d1-50d9-41eb-af7f-a3f843019726",
   "metadata": {
    "pycharm": {
     "name": "#%% md\n"
    }
   },
   "source": [
    "## Section 4/6"
   ]
  },
  {
   "cell_type": "code",
   "execution_count": 26,
   "id": "f817c56d-7602-48bc-8675-8bce0f25e685",
   "metadata": {
    "ExecuteTime": {
     "end_time": "2023-08-08T10:43:35.886781300Z",
     "start_time": "2023-08-08T10:43:35.814017500Z"
    },
    "pycharm": {
     "name": "#%%\n"
    },
    "tags": []
   },
   "outputs": [],
   "source": [
    "duct_4_6 = Duct.create(\n",
    "    length=Q_(1.106, 'm'),\n",
    "    wall_roughness=wr,\n",
    "    fluid=standard_air,\n",
    "    cross_section=Circular.create(\n",
    "        nominal_diameter=Q_(250, 'mm')\n",
    "    ),\n",
    "    volume_flow_rate=Q_(-1875, 'm ** 3 / hr'),\n",
    ")\n",
    "\n",
    "add_duct(\n",
    "    node_IDs=(4, 6),\n",
    "    loop_ID=('L1', 'L2'),\n",
    "    duct=duct_4_6\n",
    ")"
   ]
  },
  {
   "cell_type": "code",
   "execution_count": 27,
   "id": "77facd29-19cd-4746-ae83-b97ae54b7e0e",
   "metadata": {
    "ExecuteTime": {
     "end_time": "2023-08-08T10:43:35.886781300Z",
     "start_time": "2023-08-08T10:43:35.820349300Z"
    },
    "pycharm": {
     "name": "#%%\n"
    },
    "tags": []
   },
   "outputs": [
    {
     "name": "stdout",
     "output_type": "stream",
     "text": [
      "diameter: 250 mm\n",
      "air velocity: 10.61 m/s\n",
      "pressure loss: 5.500 Pa\n"
     ]
    }
   ],
   "source": [
    "print(\n",
    "    f\"diameter: {duct_4_6.cross_section.equivalent_diameter.to('mm'):~P.0f}\\n\"\n",
    "    f\"air velocity: {duct_4_6.velocity.to('m / s'):~P.2f}\\n\"\n",
    "    f\"pressure loss: {duct_4_6.pressure_drop.to('Pa'):~P.3f}\"\n",
    ")"
   ]
  },
  {
   "cell_type": "markdown",
   "id": "3bc0450d-1c08-419a-bccf-a07b0c876539",
   "metadata": {
    "pycharm": {
     "name": "#%% md\n"
    }
   },
   "source": [
    "### Reducer"
   ]
  },
  {
   "cell_type": "code",
   "execution_count": 28,
   "id": "78483194-7e11-4708-9fd2-3260987ca71c",
   "metadata": {
    "ExecuteTime": {
     "end_time": "2023-08-08T10:43:35.902365Z",
     "start_time": "2023-08-08T10:43:35.825280500Z"
    },
    "pycharm": {
     "name": "#%%\n"
    },
    "tags": []
   },
   "outputs": [],
   "source": [
    "# 1200 x 300 --> 250\n",
    "reducer_4_6 = duct_fittings.ConvergingTransitionA9C(\n",
    "    duct_small=duct_4_6\n",
    ")\n",
    "\n",
    "duct_4_6.add_fitting(\n",
    "    zeta=reducer_4_6.zeta_small,\n",
    "    ID='RED-4/6'\n",
    ")"
   ]
  },
  {
   "cell_type": "code",
   "execution_count": 29,
   "id": "0e3bb24a-0790-42c4-91cd-bda39c22f6c4",
   "metadata": {
    "ExecuteTime": {
     "end_time": "2023-08-08T10:43:35.902365Z",
     "start_time": "2023-08-08T10:43:35.830428300Z"
    },
    "pycharm": {
     "name": "#%%\n"
    },
    "tags": []
   },
   "outputs": [
    {
     "name": "stdout",
     "output_type": "stream",
     "text": [
      "pressure loss: 3.875 Pa\n"
     ]
    }
   ],
   "source": [
    "print(\n",
    "    f\"pressure loss: {reducer_4_6.pressure_drop.to('Pa'):~P.3f}\"\n",
    ")"
   ]
  },
  {
   "cell_type": "markdown",
   "id": "9c04d058-005f-43ed-a231-47b75fd24ecc",
   "metadata": {
    "pycharm": {
     "name": "#%% md\n"
    }
   },
   "source": [
    "### Exit"
   ]
  },
  {
   "cell_type": "code",
   "execution_count": 30,
   "id": "bcefede9-df69-4705-aea7-45a5a678a347",
   "metadata": {
    "ExecuteTime": {
     "end_time": "2023-08-08T10:43:35.902365Z",
     "start_time": "2023-08-08T10:43:35.834698400Z"
    },
    "pycharm": {
     "name": "#%%\n"
    },
    "tags": []
   },
   "outputs": [],
   "source": [
    "exit_4_6 = duct_fittings.ExitA13J(\n",
    "    duct=duct_4_6\n",
    ")\n",
    "\n",
    "duct_4_6.add_fitting(\n",
    "    zeta=exit_4_6.zeta,\n",
    "    ID='EXIT-4/6'\n",
    ")"
   ]
  },
  {
   "cell_type": "code",
   "execution_count": 31,
   "id": "3900713d-a7be-4b48-949d-306db4392c2a",
   "metadata": {
    "ExecuteTime": {
     "end_time": "2023-08-08T10:43:36.117919800Z",
     "start_time": "2023-08-08T10:43:35.839037900Z"
    },
    "pycharm": {
     "name": "#%%\n"
    },
    "tags": []
   },
   "outputs": [
    {
     "name": "stdout",
     "output_type": "stream",
     "text": [
      "pressure drop: 67.805 Pa\n"
     ]
    }
   ],
   "source": [
    "print(\n",
    "    f\"pressure drop: {exit_4_6.pressure_drop.to('Pa'):~P.3f}\"\n",
    ")"
   ]
  },
  {
   "cell_type": "markdown",
   "id": "22084ab6-5c66-4609-9e23-25fd43ff4b72",
   "metadata": {
    "pycharm": {
     "name": "#%% md\n"
    }
   },
   "source": [
    "## Section 5/7"
   ]
  },
  {
   "cell_type": "code",
   "execution_count": 32,
   "id": "24ad6d1a-483f-499d-8253-96ad88c15d55",
   "metadata": {
    "ExecuteTime": {
     "end_time": "2023-08-08T10:43:36.118946700Z",
     "start_time": "2023-08-08T10:43:35.848707700Z"
    },
    "pycharm": {
     "name": "#%%\n"
    },
    "tags": []
   },
   "outputs": [],
   "source": [
    "duct_5_7 = Duct.create(\n",
    "    length=Q_(0.1, 'm'),\n",
    "    wall_roughness=wr,\n",
    "    fluid=standard_air,\n",
    "    cross_section=Rectangular.create(\n",
    "        height=Q_(300.0, 'mm'),\n",
    "        schedule=rectangular_duct_schedule\n",
    "    ),\n",
    "    volume_flow_rate=Q_(-1875.0, 'm ** 3 / hr'),\n",
    "    specific_pressure_drop=dps\n",
    ")\n",
    "\n",
    "add_duct(\n",
    "    node_IDs=(5, 7),\n",
    "    loop_ID=('L2', 'L3'),\n",
    "    duct=duct_5_7\n",
    ")"
   ]
  },
  {
   "cell_type": "code",
   "execution_count": 33,
   "id": "6f8d6e14-db7a-4b0f-be97-371b0da7d3b3",
   "metadata": {
    "ExecuteTime": {
     "end_time": "2023-08-08T10:43:36.118946700Z",
     "start_time": "2023-08-08T10:43:35.851939700Z"
    },
    "pycharm": {
     "name": "#%%\n"
    },
    "tags": []
   },
   "outputs": [
    {
     "name": "stdout",
     "output_type": "stream",
     "text": [
      "duct width: 350 mm\n",
      "air velocity: 4.96 m/s\n",
      "pressure drop: 0.088 Pa\n"
     ]
    }
   ],
   "source": [
    "print(\n",
    "    f\"duct width: {duct_5_7.cross_section.width.to('mm'):~P.0f}\\n\"\n",
    "    f\"air velocity: {duct_5_7.velocity.to('m / s'):~P.2f}\\n\"\n",
    "    f\"pressure drop: {duct_5_7.pressure_drop.to('Pa'):~P.3f}\"\n",
    ")"
   ]
  },
  {
   "cell_type": "markdown",
   "id": "8d7dbc2b-a40f-418e-9b63-2569488f2be5",
   "metadata": {
    "pycharm": {
     "name": "#%% md\n"
    }
   },
   "source": [
    "## Section 5/8"
   ]
  },
  {
   "cell_type": "code",
   "execution_count": 34,
   "id": "2602b9a3-9324-4312-898d-13d6874b4477",
   "metadata": {
    "ExecuteTime": {
     "end_time": "2023-08-08T10:43:36.118946700Z",
     "start_time": "2023-08-08T10:43:35.857543600Z"
    },
    "pycharm": {
     "name": "#%%\n"
    },
    "tags": []
   },
   "outputs": [],
   "source": [
    "duct_5_8 = Duct.create(\n",
    "    length=Q_(0.877, 'm'),\n",
    "    wall_roughness=wr,\n",
    "    fluid=standard_air,\n",
    "    cross_section=Rectangular.create(\n",
    "        height=Q_(300, 'mm'),\n",
    "        width=duct_3_5.cross_section.width\n",
    "    ),\n",
    "    volume_flow_rate=Q_(-(7500 - 2 * 1875), 'm ** 3 / hr'),\n",
    ")\n",
    "\n",
    "add_duct(\n",
    "    node_IDs=(5, 8),\n",
    "    loop_ID='L3',\n",
    "    duct=duct_5_8\n",
    ")"
   ]
  },
  {
   "cell_type": "code",
   "execution_count": 35,
   "id": "cfef72cb-d51b-4d56-9fd9-ff54e9ecc50c",
   "metadata": {
    "ExecuteTime": {
     "end_time": "2023-08-08T10:43:36.188490800Z",
     "start_time": "2023-08-08T10:43:35.865126700Z"
    },
    "pycharm": {
     "name": "#%%\n"
    },
    "tags": []
   },
   "outputs": [
    {
     "name": "stdout",
     "output_type": "stream",
     "text": [
      "duct width: 1200 mm\n",
      "air velocity: 2.89 m/s\n",
      "pressure drop: 0.177 Pa\n"
     ]
    }
   ],
   "source": [
    "print(\n",
    "    f\"duct width: {duct_5_8.cross_section.width.to('mm'):~P.0f}\\n\"\n",
    "    f\"air velocity: {duct_5_8.velocity.to('m / s'):~P.2f}\\n\"\n",
    "    f\"pressure drop: {duct_5_8.pressure_drop.to('Pa'):~P.3f}\"\n",
    ")"
   ]
  },
  {
   "cell_type": "markdown",
   "id": "0d759a80-2848-4eaa-ab8d-cdf165096c6f",
   "metadata": {
    "pycharm": {
     "name": "#%% md\n"
    }
   },
   "source": [
    "## Main Section 3/5 to Branch Section 5/7"
   ]
  },
  {
   "cell_type": "code",
   "execution_count": 36,
   "id": "dfa43e75-ca98-4cca-8d91-f1337b506348",
   "metadata": {
    "ExecuteTime": {
     "end_time": "2023-08-08T10:43:36.194494100Z",
     "start_time": "2023-08-08T10:43:35.870284900Z"
    },
    "pycharm": {
     "name": "#%%\n"
    },
    "tags": []
   },
   "outputs": [],
   "source": [
    "tee_3_5 = duct_fittings.DivergingJunctionA11P(\n",
    "    duct_b=duct_5_7,\n",
    "    duct_c=duct_3_5,\n",
    "    duct_s=duct_5_8\n",
    ")\n",
    "\n",
    "duct_3_5.add_fitting(\n",
    "    zeta=tee_3_5.zeta_c,\n",
    "    ID='TEE-C-3/5'\n",
    ")\n",
    "\n",
    "duct_5_7.add_fitting(\n",
    "    zeta=tee_3_5.zeta_b,\n",
    "    ID='TEE-B-5/7'\n",
    ")"
   ]
  },
  {
   "cell_type": "code",
   "execution_count": 37,
   "id": "8a33cc12-4fcd-4b41-bc62-07a253c305a0",
   "metadata": {
    "ExecuteTime": {
     "end_time": "2023-08-08T10:43:36.195491Z",
     "start_time": "2023-08-08T10:43:35.875692700Z"
    },
    "pycharm": {
     "name": "#%%\n"
    },
    "tags": []
   },
   "outputs": [
    {
     "name": "stdout",
     "output_type": "stream",
     "text": [
      "pressure drop straight: 0.529 Pa\n",
      "pressure drop branch: 18.514 Pa\n"
     ]
    }
   ],
   "source": [
    "print(\n",
    "    f\"pressure drop straight: {tee_3_5.pressure_drop_main.to('Pa'):~P.3f}\\n\"\n",
    "    f\"pressure drop branch: {tee_3_5.pressure_drop_branch.to('Pa'):~P.3f}\"\n",
    ")"
   ]
  },
  {
   "cell_type": "markdown",
   "id": "e91de78e-98db-4580-b99c-9a16744cdc51",
   "metadata": {
    "pycharm": {
     "name": "#%% md\n"
    }
   },
   "source": [
    "## Section 7/9"
   ]
  },
  {
   "cell_type": "code",
   "execution_count": 38,
   "id": "3275edca-2125-4d7b-93ca-fd0b6d09b5ad",
   "metadata": {
    "ExecuteTime": {
     "end_time": "2023-08-08T10:43:36.205493400Z",
     "start_time": "2023-08-08T10:43:35.881424300Z"
    },
    "pycharm": {
     "name": "#%%\n"
    },
    "tags": []
   },
   "outputs": [],
   "source": [
    "duct_7_9 = Duct.create(\n",
    "    length=Q_(1.106, 'm'),\n",
    "    wall_roughness=wr,\n",
    "    fluid=standard_air,\n",
    "    cross_section=Circular.create(\n",
    "        nominal_diameter=Q_(250, 'mm')\n",
    "    ),\n",
    "    volume_flow_rate=Q_(-1875, 'm ** 3 / hr')\n",
    ")\n",
    "\n",
    "add_duct(\n",
    "    node_IDs=(7, 9),\n",
    "    loop_ID=('L2', 'L3'),\n",
    "    duct=duct_7_9\n",
    ")"
   ]
  },
  {
   "cell_type": "code",
   "execution_count": 39,
   "id": "ebb829db-42e2-483c-99dd-15b0a44637e0",
   "metadata": {
    "ExecuteTime": {
     "end_time": "2023-08-08T10:43:36.206496Z",
     "start_time": "2023-08-08T10:43:35.887781200Z"
    },
    "pycharm": {
     "name": "#%%\n"
    },
    "tags": []
   },
   "outputs": [
    {
     "name": "stdout",
     "output_type": "stream",
     "text": [
      "diameter: 250 mm\n",
      "air velocity: 10.61 m/s\n",
      "pressure loss: 5.500 Pa\n"
     ]
    }
   ],
   "source": [
    "print(\n",
    "    f\"diameter: {duct_7_9.cross_section.equivalent_diameter.to('mm'):~P.0f}\\n\"\n",
    "    f\"air velocity: {duct_7_9.velocity.to('m / s'):~P.2f}\\n\"\n",
    "    f\"pressure loss: {duct_7_9.pressure_drop.to('Pa'):~P.3f}\"\n",
    ")"
   ]
  },
  {
   "cell_type": "markdown",
   "id": "df7b1baa-9df0-48d7-92b4-21d228f1f261",
   "metadata": {
    "pycharm": {
     "name": "#%% md\n"
    }
   },
   "source": [
    "### Reducer"
   ]
  },
  {
   "cell_type": "code",
   "execution_count": 40,
   "id": "b967d9ca-0cca-4e41-9b7d-be5a1e2eab2b",
   "metadata": {
    "ExecuteTime": {
     "end_time": "2023-08-08T10:43:36.216479Z",
     "start_time": "2023-08-08T10:43:35.896360500Z"
    },
    "pycharm": {
     "name": "#%%\n"
    },
    "tags": []
   },
   "outputs": [],
   "source": [
    "# 1200 x 300 --> 250\n",
    "reducer_7_9 = duct_fittings.ConvergingTransitionA9C(\n",
    "    duct_small=duct_7_9\n",
    ")\n",
    "\n",
    "duct_7_9.add_fitting(\n",
    "    zeta=reducer_7_9.zeta_small,\n",
    "    ID='RED-7/9'\n",
    ")"
   ]
  },
  {
   "cell_type": "code",
   "execution_count": 41,
   "id": "8f9147ca-ba34-49ec-a2bc-711ed6cd2286",
   "metadata": {
    "ExecuteTime": {
     "end_time": "2023-08-08T10:43:36.233460700Z",
     "start_time": "2023-08-08T10:43:35.904366200Z"
    },
    "pycharm": {
     "name": "#%%\n"
    },
    "tags": []
   },
   "outputs": [
    {
     "name": "stdout",
     "output_type": "stream",
     "text": [
      "pressure loss: 3.875 Pa\n"
     ]
    }
   ],
   "source": [
    "print(\n",
    "    f\"pressure loss: {reducer_7_9.pressure_drop.to('Pa'):~P.3f}\"\n",
    ")"
   ]
  },
  {
   "cell_type": "markdown",
   "id": "3e67e1a1-192f-4af7-a628-740248fc1fae",
   "metadata": {
    "pycharm": {
     "name": "#%% md\n"
    }
   },
   "source": [
    "### Exit"
   ]
  },
  {
   "cell_type": "code",
   "execution_count": 42,
   "id": "deffe0ca-8f63-47ca-90a4-ba5653478d72",
   "metadata": {
    "ExecuteTime": {
     "end_time": "2023-08-08T10:43:36.234462600Z",
     "start_time": "2023-08-08T10:43:35.907994200Z"
    },
    "pycharm": {
     "name": "#%%\n"
    },
    "tags": []
   },
   "outputs": [],
   "source": [
    "exit_7_9 = duct_fittings.ExitA13J(\n",
    "    duct=duct_7_9\n",
    ")\n",
    "\n",
    "duct_7_9.add_fitting(\n",
    "    zeta=exit_7_9.zeta,\n",
    "    ID='EXIT-7/9'\n",
    ")"
   ]
  },
  {
   "cell_type": "code",
   "execution_count": 43,
   "id": "e223f2c4-4604-4938-8a91-a31063e1251c",
   "metadata": {
    "ExecuteTime": {
     "end_time": "2023-08-08T10:43:36.234462600Z",
     "start_time": "2023-08-08T10:43:35.913424100Z"
    },
    "pycharm": {
     "name": "#%%\n"
    },
    "tags": []
   },
   "outputs": [
    {
     "name": "stdout",
     "output_type": "stream",
     "text": [
      "pressure drop: 67.805 Pa\n"
     ]
    }
   ],
   "source": [
    "print(\n",
    "    f\"pressure drop: {exit_7_9.pressure_drop.to('Pa'):~P.3f}\"\n",
    ")"
   ]
  },
  {
   "cell_type": "markdown",
   "id": "4d80f3ca-5934-4625-97b4-90eb9d7a579a",
   "metadata": {
    "pycharm": {
     "name": "#%% md\n"
    },
    "tags": []
   },
   "source": [
    "## Section 8/10"
   ]
  },
  {
   "cell_type": "code",
   "execution_count": 44,
   "id": "5a826f68-dbb5-486f-8ebb-bf79f72f6840",
   "metadata": {
    "ExecuteTime": {
     "end_time": "2023-08-08T10:43:36.234462600Z",
     "start_time": "2023-08-08T10:43:35.919980600Z"
    },
    "pycharm": {
     "name": "#%%\n"
    },
    "tags": []
   },
   "outputs": [],
   "source": [
    "duct_8_10 = Duct.create(\n",
    "    length=Q_(8.414, 'm'),\n",
    "    wall_roughness=wr,\n",
    "    fluid=standard_air,\n",
    "    cross_section=Rectangular.create(\n",
    "        height=Q_(300, 'mm'),\n",
    "        width=Q_(1000, 'mm')),\n",
    "    volume_flow_rate=Q_(-(7500 - 2 * 1875), 'm ** 3 / hr')\n",
    ")\n",
    "\n",
    "add_duct(\n",
    "    node_IDs=(8, 10),\n",
    "    loop_ID='L3',\n",
    "    duct=duct_8_10\n",
    ")"
   ]
  },
  {
   "cell_type": "code",
   "execution_count": 45,
   "id": "c0b2c2a8-cd98-4dc9-ade7-b1d49dedc299",
   "metadata": {
    "ExecuteTime": {
     "end_time": "2023-08-08T10:43:36.234462600Z",
     "start_time": "2023-08-08T10:43:35.922967700Z"
    },
    "pycharm": {
     "name": "#%%\n"
    },
    "tags": []
   },
   "outputs": [
    {
     "name": "stdout",
     "output_type": "stream",
     "text": [
      "duct width: 1000 mm\n",
      "air velocity: 3.47 m/s\n",
      "pressure loss: 2.488 Pa\n"
     ]
    }
   ],
   "source": [
    "print(\n",
    "    f\"duct width: {duct_8_10.cross_section.width.to('mm'):~P.0f}\\n\"\n",
    "    f\"air velocity: {duct_8_10.velocity.to('m / s'):~P.2f}\\n\"\n",
    "    f\"pressure loss: {duct_8_10.pressure_drop.to('Pa'):~P.3f}\"\n",
    ")"
   ]
  },
  {
   "cell_type": "markdown",
   "id": "5fe28cb3-4c8b-455b-a9bb-ca1711258247",
   "metadata": {
    "pycharm": {
     "name": "#%% md\n"
    }
   },
   "source": [
    "### Reducer"
   ]
  },
  {
   "cell_type": "code",
   "execution_count": 46,
   "id": "aee155e2-005f-4f39-8dc8-7803f7b602e0",
   "metadata": {
    "ExecuteTime": {
     "end_time": "2023-08-08T10:43:36.234462600Z",
     "start_time": "2023-08-08T10:43:35.935608600Z"
    },
    "pycharm": {
     "name": "#%%\n"
    },
    "tags": []
   },
   "outputs": [],
   "source": [
    "# 1200 x 300 --> 1000 x 300\n",
    "reducer_8_10 = duct_fittings.ConvergingTransitionA9B(\n",
    "    duct_small=duct_8_10,\n",
    "    duct_large=duct_5_8,\n",
    "    theta=Q_(60.0, 'deg'),\n",
    "    length=Q_(0.3, 'm')\n",
    ")\n",
    "\n",
    "duct_8_10.add_fitting(\n",
    "    zeta=reducer_8_10.zeta_small,\n",
    "    ID='RED-8/10'\n",
    ")"
   ]
  },
  {
   "cell_type": "code",
   "execution_count": 47,
   "id": "85cb9934-c464-427b-83a6-f354aa9263e4",
   "metadata": {
    "ExecuteTime": {
     "end_time": "2023-08-08T10:43:36.235465800Z",
     "start_time": "2023-08-08T10:43:35.940710800Z"
    },
    "pycharm": {
     "name": "#%%\n"
    },
    "tags": []
   },
   "outputs": [
    {
     "name": "stdout",
     "output_type": "stream",
     "text": [
      "pressure loss: 0.227 Pa\n"
     ]
    }
   ],
   "source": [
    "print(\n",
    "    f\"pressure loss: {reducer_8_10.pressure_drop.to('Pa'):~P.3f}\"\n",
    ")"
   ]
  },
  {
   "cell_type": "markdown",
   "id": "ec1b6244-25fc-46b6-9e89-f1e94ec3687e",
   "metadata": {
    "pycharm": {
     "name": "#%% md\n"
    }
   },
   "source": [
    "## Section 10/11"
   ]
  },
  {
   "cell_type": "code",
   "execution_count": 48,
   "id": "dccb6438-30f9-4495-8e6f-e7dd7911c5ec",
   "metadata": {
    "ExecuteTime": {
     "end_time": "2023-08-08T10:43:36.235465800Z",
     "start_time": "2023-08-08T10:43:35.945563200Z"
    },
    "pycharm": {
     "name": "#%%\n"
    },
    "tags": []
   },
   "outputs": [],
   "source": [
    "duct_10_11 = Duct.create(\n",
    "    length=Q_(0.1, 'm'),\n",
    "    wall_roughness=wr,\n",
    "    fluid=standard_air,\n",
    "    cross_section=Rectangular.create(\n",
    "        height=Q_(300.0, 'mm'),\n",
    "        width=Q_(300, 'mm')\n",
    "    ),\n",
    "    volume_flow_rate=Q_(-1875.0, 'm ** 3 / hr')\n",
    ")\n",
    "\n",
    "add_duct(\n",
    "    node_IDs=(10, 11),\n",
    "    loop_ID=('L3', 'L4'),\n",
    "    duct=duct_10_11\n",
    ")"
   ]
  },
  {
   "cell_type": "code",
   "execution_count": 49,
   "id": "ef465519-97ea-47e6-80ed-74373a35ee0c",
   "metadata": {
    "ExecuteTime": {
     "end_time": "2023-08-08T10:43:36.235465800Z",
     "start_time": "2023-08-08T10:43:35.952906300Z"
    },
    "pycharm": {
     "name": "#%%\n"
    },
    "tags": []
   },
   "outputs": [
    {
     "name": "stdout",
     "output_type": "stream",
     "text": [
      "duct width: 300 mm\n",
      "air velocity: 5.79 m/s\n",
      "pressure loss: 0.128 Pa\n"
     ]
    }
   ],
   "source": [
    "print(\n",
    "    f\"duct width: {duct_10_11.cross_section.width.to('mm'):~P.0f}\\n\"\n",
    "    f\"air velocity: {duct_10_11.velocity.to('m / s'):~P.2f}\\n\"\n",
    "    f\"pressure loss: {duct_10_11.pressure_drop.to('Pa'):~P.3f}\"\n",
    ")"
   ]
  },
  {
   "cell_type": "markdown",
   "id": "75e4e45f-bdc7-42aa-b103-4183710ee3ff",
   "metadata": {
    "pycharm": {
     "name": "#%% md\n"
    },
    "tags": []
   },
   "source": [
    "## Section 10/13"
   ]
  },
  {
   "cell_type": "code",
   "execution_count": 50,
   "id": "ca321d51-ff1f-4513-ad10-22929390d8cc",
   "metadata": {
    "ExecuteTime": {
     "end_time": "2023-08-08T10:43:36.235465800Z",
     "start_time": "2023-08-08T10:43:35.956361700Z"
    },
    "pycharm": {
     "name": "#%%\n"
    },
    "tags": []
   },
   "outputs": [],
   "source": [
    "duct_10_13 = Duct.create(\n",
    "    length=Q_(1.085, 'm'),\n",
    "    wall_roughness=wr,\n",
    "    fluid=standard_air,\n",
    "    cross_section=Rectangular.create(\n",
    "        height=Q_(300, 'mm'),\n",
    "        width=duct_8_10.cross_section.width\n",
    "    ),\n",
    "    volume_flow_rate=Q_(-1875, 'm ** 3 / hr')\n",
    ")\n",
    "\n",
    "add_duct(\n",
    "    node_IDs=(10, 13),\n",
    "    loop_ID='L4',\n",
    "    duct=duct_10_13\n",
    ")"
   ]
  },
  {
   "cell_type": "code",
   "execution_count": 51,
   "id": "9de77387-7959-4162-a989-abef7dea55d9",
   "metadata": {
    "ExecuteTime": {
     "end_time": "2023-08-08T10:43:36.235465800Z",
     "start_time": "2023-08-08T10:43:35.962615700Z"
    },
    "pycharm": {
     "name": "#%%\n"
    },
    "tags": []
   },
   "outputs": [
    {
     "name": "stdout",
     "output_type": "stream",
     "text": [
      "duct width: 1000 mm\n",
      "air velocity: 1.74 m/s\n",
      "pressure loss: 0.091 Pa\n"
     ]
    }
   ],
   "source": [
    "print(\n",
    "    f\"duct width: {duct_10_13.cross_section.width.to('mm'):~P.0f}\\n\"\n",
    "    f\"air velocity: {duct_10_13.velocity.to('m / s'):~P.2f}\\n\"\n",
    "    f\"pressure loss: {duct_10_13.pressure_drop.to('Pa'):~P.3f}\"\n",
    ")"
   ]
  },
  {
   "cell_type": "markdown",
   "id": "34d6f605-4ab4-49d1-8aa6-a2ab4b910688",
   "metadata": {
    "pycharm": {
     "name": "#%% md\n"
    }
   },
   "source": [
    "### Elbow 90°"
   ]
  },
  {
   "cell_type": "code",
   "execution_count": 52,
   "id": "f5ced1bb-3930-4ee4-97d0-58a4a5e387b1",
   "metadata": {
    "ExecuteTime": {
     "end_time": "2023-08-08T10:43:36.235465800Z",
     "start_time": "2023-08-08T10:43:35.967277200Z"
    },
    "pycharm": {
     "name": "#%%\n"
    },
    "tags": []
   },
   "outputs": [],
   "source": [
    "elbow_10_13 = duct_fittings.ElbowA7F(\n",
    "    duct=duct_10_13,\n",
    "    radius=Q_(0.5 * duct_10_13.cross_section.width.to('mm').m, 'mm')\n",
    ")\n",
    "\n",
    "duct_10_13.add_fitting(\n",
    "    zeta=elbow_10_13.zeta,\n",
    "    ID='ELB90-10/13'\n",
    ")"
   ]
  },
  {
   "cell_type": "code",
   "execution_count": 53,
   "id": "9e2a2be2-39f6-48dc-bc0a-127724b94c65",
   "metadata": {
    "ExecuteTime": {
     "end_time": "2023-08-08T10:43:36.236463300Z",
     "start_time": "2023-08-08T10:43:35.972732700Z"
    },
    "pycharm": {
     "name": "#%%\n"
    },
    "tags": []
   },
   "outputs": [
    {
     "name": "stdout",
     "output_type": "stream",
     "text": [
      "pressure loss: 2.975 Pa\n"
     ]
    }
   ],
   "source": [
    "print(\n",
    "    f\"pressure loss: {elbow_10_13.pressure_drop.to('Pa'):~P.3f}\"\n",
    ")"
   ]
  },
  {
   "cell_type": "markdown",
   "id": "b5bc4281-305e-4c99-a693-0d4f96fa67ef",
   "metadata": {
    "pycharm": {
     "name": "#%% md\n"
    }
   },
   "source": [
    "## Main Section 8/10 to Branch Section 10/11"
   ]
  },
  {
   "cell_type": "code",
   "execution_count": 54,
   "id": "21dd4038-e58b-4654-9e69-8f58ea8bfefc",
   "metadata": {
    "ExecuteTime": {
     "end_time": "2023-08-08T10:43:36.236463300Z",
     "start_time": "2023-08-08T10:43:35.976293100Z"
    },
    "pycharm": {
     "name": "#%%\n"
    },
    "tags": []
   },
   "outputs": [],
   "source": [
    "tee_8_10 = duct_fittings.DivergingJunctionA11P(\n",
    "    duct_b=duct_10_11,\n",
    "    duct_c=duct_8_10,\n",
    "    duct_s=duct_10_13\n",
    ")\n",
    "\n",
    "duct_8_10.add_fitting(\n",
    "    zeta=tee_8_10.zeta_c,\n",
    "    ID='TEE-C-8/10'\n",
    ")\n",
    "\n",
    "duct_10_11.add_fitting(\n",
    "    zeta=tee_8_10.zeta_b,\n",
    "    ID='TEE-B-8/10'\n",
    ")"
   ]
  },
  {
   "cell_type": "code",
   "execution_count": 55,
   "id": "3826c067-33b3-4a9e-989f-6e949b2c70e9",
   "metadata": {
    "ExecuteTime": {
     "end_time": "2023-08-08T10:43:36.236463300Z",
     "start_time": "2023-08-08T10:43:35.982179900Z"
    },
    "pycharm": {
     "name": "#%%\n"
    },
    "tags": []
   },
   "outputs": [
    {
     "name": "stdout",
     "output_type": "stream",
     "text": [
      "pressure loss straight: 0.653 Pa\n",
      "pressure loss branch: 23.477 Pa\n"
     ]
    }
   ],
   "source": [
    "print(\n",
    "    f\"pressure loss straight: {tee_8_10.pressure_drop_main.to('Pa'):~P.3f}\\n\"\n",
    "    f\"pressure loss branch: {tee_8_10.pressure_drop_branch.to('Pa'):~P.3f}\"\n",
    ")"
   ]
  },
  {
   "cell_type": "markdown",
   "id": "70bbca97-5e4c-459a-b09f-a9ff0e54de52",
   "metadata": {
    "pycharm": {
     "name": "#%% md\n"
    }
   },
   "source": [
    "## Section 11/12"
   ]
  },
  {
   "cell_type": "code",
   "execution_count": 56,
   "id": "15de380a-32bc-46e9-b21c-0a2bf5d22903",
   "metadata": {
    "ExecuteTime": {
     "end_time": "2023-08-08T10:43:36.236463300Z",
     "start_time": "2023-08-08T10:43:35.987391700Z"
    },
    "pycharm": {
     "name": "#%%\n"
    },
    "tags": []
   },
   "outputs": [],
   "source": [
    "duct_11_12 = Duct.create(\n",
    "    length=Q_(1.106, 'm'),\n",
    "    wall_roughness=wr,\n",
    "    fluid=standard_air,\n",
    "    cross_section=Circular.create(\n",
    "        nominal_diameter=Q_(250, 'mm')\n",
    "    ),\n",
    "    volume_flow_rate=Q_(-1875, 'm ** 3 / hr'),\n",
    ")\n",
    "\n",
    "add_duct(\n",
    "    node_IDs=(11, 12),\n",
    "    loop_ID=('L3', 'L4'),\n",
    "    duct=duct_11_12\n",
    ")"
   ]
  },
  {
   "cell_type": "code",
   "execution_count": 57,
   "id": "5fa72965-cad6-43b0-a045-6e56a38f7959",
   "metadata": {
    "ExecuteTime": {
     "end_time": "2023-08-08T10:43:36.236463300Z",
     "start_time": "2023-08-08T10:43:35.993122600Z"
    },
    "pycharm": {
     "name": "#%%\n"
    },
    "tags": []
   },
   "outputs": [
    {
     "name": "stdout",
     "output_type": "stream",
     "text": [
      "duct diameter: 250 mm\n",
      "air velocity: 10.61 m/s\n",
      "pressure loss: 5.500 Pa\n"
     ]
    }
   ],
   "source": [
    "print(\n",
    "    f\"duct diameter: {duct_11_12.cross_section.equivalent_diameter.to('mm'):~P.0f}\\n\"\n",
    "    f\"air velocity: {duct_11_12.velocity.to('m / s'):~P.2f}\\n\"\n",
    "    f\"pressure loss: {duct_11_12.pressure_drop.to('Pa'):~P.3f}\"\n",
    ")"
   ]
  },
  {
   "cell_type": "markdown",
   "id": "33435caf-9ee8-424f-961b-e819abd9dac5",
   "metadata": {
    "pycharm": {
     "name": "#%% md\n"
    }
   },
   "source": [
    "### Reducer"
   ]
  },
  {
   "cell_type": "code",
   "execution_count": 58,
   "id": "5b544866-59d1-45b6-b4fa-67c1440bb62d",
   "metadata": {
    "ExecuteTime": {
     "end_time": "2023-08-08T10:43:36.237461500Z",
     "start_time": "2023-08-08T10:43:35.997171300Z"
    },
    "pycharm": {
     "name": "#%%\n"
    },
    "tags": []
   },
   "outputs": [],
   "source": [
    "#  (600 x 300) --> 250\n",
    "reducer_11_12 = duct_fittings.ConvergingTransitionA9C(\n",
    "    duct_small=duct_11_12\n",
    ")\n",
    "\n",
    "duct_11_12.add_fitting(\n",
    "    zeta=reducer_11_12.zeta_small,\n",
    "    ID='RED-11/12'\n",
    ")"
   ]
  },
  {
   "cell_type": "code",
   "execution_count": 59,
   "id": "f007750e-223f-4271-8687-c56a2ce515c8",
   "metadata": {
    "ExecuteTime": {
     "end_time": "2023-08-08T10:43:36.237661500Z",
     "start_time": "2023-08-08T10:43:36.001945400Z"
    },
    "pycharm": {
     "name": "#%%\n"
    },
    "tags": []
   },
   "outputs": [
    {
     "name": "stdout",
     "output_type": "stream",
     "text": [
      "pressure loss: 3.875 Pa\n"
     ]
    }
   ],
   "source": [
    "print(f\"pressure loss: {reducer_11_12.pressure_drop.to('Pa'):~P.3f}\")"
   ]
  },
  {
   "cell_type": "markdown",
   "id": "79ee118a-1621-46f5-a169-ffce398e86e6",
   "metadata": {
    "pycharm": {
     "name": "#%% md\n"
    }
   },
   "source": [
    "### Exit"
   ]
  },
  {
   "cell_type": "code",
   "execution_count": 60,
   "id": "b24e68cf-7355-4739-87ad-c82fe3ea27eb",
   "metadata": {
    "ExecuteTime": {
     "end_time": "2023-08-08T10:43:36.237661500Z",
     "start_time": "2023-08-08T10:43:36.006468400Z"
    },
    "pycharm": {
     "name": "#%%\n"
    },
    "tags": []
   },
   "outputs": [],
   "source": [
    "exit_11_12 = duct_fittings.ExitA13J(\n",
    "    duct=duct_11_12\n",
    ")\n",
    "\n",
    "duct_11_12.add_fitting(\n",
    "    zeta=exit_11_12.zeta,\n",
    "    ID='EXIT-11/12'\n",
    ")"
   ]
  },
  {
   "cell_type": "code",
   "execution_count": 61,
   "id": "bc7161dc-3a1e-4ddf-99be-d0d0a7ec892c",
   "metadata": {
    "ExecuteTime": {
     "end_time": "2023-08-08T10:43:36.237661500Z",
     "start_time": "2023-08-08T10:43:36.010572700Z"
    },
    "pycharm": {
     "name": "#%%\n"
    },
    "tags": []
   },
   "outputs": [
    {
     "name": "stdout",
     "output_type": "stream",
     "text": [
      "pressure loss: 67.805 Pa\n"
     ]
    }
   ],
   "source": [
    "print(\n",
    "    f\"pressure loss: {exit_11_12.pressure_drop.to('Pa'):~P.3f}\"\n",
    ")"
   ]
  },
  {
   "cell_type": "markdown",
   "id": "56ef4935-5ddb-4805-a255-2dd6bdfa416f",
   "metadata": {
    "pycharm": {
     "name": "#%% md\n"
    }
   },
   "source": [
    "## Section 13/14"
   ]
  },
  {
   "cell_type": "code",
   "execution_count": 62,
   "id": "b6273a24-e9c5-415c-a06a-b9c338896b2b",
   "metadata": {
    "ExecuteTime": {
     "end_time": "2023-08-08T10:43:36.237661500Z",
     "start_time": "2023-08-08T10:43:36.014396300Z"
    },
    "pycharm": {
     "name": "#%%\n"
    },
    "tags": []
   },
   "outputs": [],
   "source": [
    "duct_13_14 = Duct.create(\n",
    "    length=Q_(1.106, 'm'),\n",
    "    wall_roughness=wr,\n",
    "    fluid=standard_air,\n",
    "    cross_section=Circular.create(\n",
    "        nominal_diameter=Q_(250, 'mm')\n",
    "    ),\n",
    "    volume_flow_rate=Q_(-1875, 'm ** 3 / hr'),\n",
    ")\n",
    "\n",
    "add_duct(\n",
    "    node_IDs=(13, 14),\n",
    "    loop_ID='L4',\n",
    "    duct=duct_13_14\n",
    ")"
   ]
  },
  {
   "cell_type": "code",
   "execution_count": 63,
   "id": "c68b2403-6a23-442e-8712-e7ce70c20b8a",
   "metadata": {
    "ExecuteTime": {
     "end_time": "2023-08-08T10:43:36.237661500Z",
     "start_time": "2023-08-08T10:43:36.019994200Z"
    },
    "pycharm": {
     "name": "#%%\n"
    },
    "tags": []
   },
   "outputs": [
    {
     "name": "stdout",
     "output_type": "stream",
     "text": [
      "diameter: 250 mm\n",
      "air velocity: 10.61 m/s\n",
      "pressure loss: 5.500 Pa\n"
     ]
    }
   ],
   "source": [
    "print(\n",
    "    f\"diameter: {duct_13_14.cross_section.equivalent_diameter.to('mm'):~P.0f}\\n\"\n",
    "    f\"air velocity: {duct_13_14.velocity.to('m / s'):~P.2f}\\n\"\n",
    "    f\"pressure loss: {duct_13_14.pressure_drop.to('Pa'):~P.3f}\"\n",
    ")"
   ]
  },
  {
   "cell_type": "markdown",
   "id": "fe78eb0e-9b4a-4cc9-bf92-eaee07e6a673",
   "metadata": {
    "pycharm": {
     "name": "#%% md\n"
    }
   },
   "source": [
    "### Reducer"
   ]
  },
  {
   "cell_type": "code",
   "execution_count": 64,
   "id": "c6d5b37b-9293-42cd-a072-55de9e2d126d",
   "metadata": {
    "ExecuteTime": {
     "end_time": "2023-08-08T10:43:36.237661500Z",
     "start_time": "2023-08-08T10:43:36.024724300Z"
    },
    "pycharm": {
     "name": "#%%\n"
    },
    "tags": []
   },
   "outputs": [],
   "source": [
    "#  (600 x 300) --> 250\n",
    "reducer_13_14 = duct_fittings.ConvergingTransitionA9C(\n",
    "    duct_small=duct_13_14\n",
    ")\n",
    "\n",
    "duct_13_14.add_fitting(\n",
    "    zeta=reducer_13_14.zeta_small,\n",
    "    ID='RED-13/14'\n",
    ")"
   ]
  },
  {
   "cell_type": "code",
   "execution_count": 65,
   "id": "3b397450-e8dc-4e95-963f-25b54858fc1c",
   "metadata": {
    "ExecuteTime": {
     "end_time": "2023-08-08T10:43:36.237661500Z",
     "start_time": "2023-08-08T10:43:36.029059800Z"
    },
    "pycharm": {
     "name": "#%%\n"
    },
    "tags": []
   },
   "outputs": [
    {
     "name": "stdout",
     "output_type": "stream",
     "text": [
      "pressure loss: 3.875 Pa\n"
     ]
    }
   ],
   "source": [
    "print(\n",
    "    f\"pressure loss: {reducer_13_14.pressure_drop.to('Pa'):~P.3f}\"\n",
    ")"
   ]
  },
  {
   "cell_type": "markdown",
   "id": "8d6144aa-0448-4260-8ae7-2ac8be6560a6",
   "metadata": {
    "pycharm": {
     "name": "#%% md\n"
    }
   },
   "source": [
    "### Exit"
   ]
  },
  {
   "cell_type": "code",
   "execution_count": 66,
   "id": "313d913e-7b35-4b51-bdaa-c0c241fa8631",
   "metadata": {
    "ExecuteTime": {
     "end_time": "2023-08-08T10:43:36.238692500Z",
     "start_time": "2023-08-08T10:43:36.033467800Z"
    },
    "pycharm": {
     "name": "#%%\n"
    },
    "tags": []
   },
   "outputs": [],
   "source": [
    "exit_13_14 = duct_fittings.ExitA13J(\n",
    "    duct=duct_13_14\n",
    ")\n",
    "\n",
    "duct_13_14.add_fitting(\n",
    "    zeta=exit_13_14.zeta,\n",
    "    ID='EXIT-13/14'\n",
    ")"
   ]
  },
  {
   "cell_type": "code",
   "execution_count": 67,
   "id": "c85ad8f8-9985-45f2-b366-4cb52be0a003",
   "metadata": {
    "ExecuteTime": {
     "end_time": "2023-08-08T10:43:36.238692500Z",
     "start_time": "2023-08-08T10:43:36.037632100Z"
    },
    "pycharm": {
     "name": "#%%\n"
    },
    "tags": []
   },
   "outputs": [
    {
     "name": "stdout",
     "output_type": "stream",
     "text": [
      "pressure loss: 67.805 Pa\n"
     ]
    }
   ],
   "source": [
    "print(\n",
    "    f\"pressure loss: {exit_13_14.pressure_drop.to('Pa'):~P.3f}\"\n",
    ")"
   ]
  },
  {
   "cell_type": "markdown",
   "id": "4041b0e3-46c8-4844-b25c-52cab4f4b46b",
   "metadata": {
    "pycharm": {
     "name": "#%% md\n"
    }
   },
   "source": [
    "# Duct Network"
   ]
  },
  {
   "cell_type": "code",
   "execution_count": 68,
   "id": "6d76d8df-a94a-4f91-87f4-25d40d7b0ed8",
   "metadata": {
    "ExecuteTime": {
     "end_time": "2023-08-08T10:43:36.238692500Z",
     "start_time": "2023-08-08T10:43:36.042002300Z"
    },
    "pycharm": {
     "name": "#%%\n"
    },
    "tags": []
   },
   "outputs": [],
   "source": [
    "supply_network = DuctNetwork.create(\n",
    "    ID='supply_unit1',\n",
    "    fluid=standard_air,\n",
    "    ambient_air=standard_air,\n",
    "    wall_roughness=wr,\n",
    "    start_node_ID=1,\n",
    "    units={'volume_flow_rate': 'm ** 3 / hr'}\n",
    ")\n",
    "\n",
    "for duct in supply_ducts:\n",
    "    supply_network.add_conduit(**duct)"
   ]
  },
  {
   "cell_type": "markdown",
   "id": "839a5a1a-d764-4853-9dbb-40c1d7ce39cc",
   "metadata": {
    "pycharm": {
     "name": "#%% md\n"
    }
   },
   "source": [
    "## Duct Table"
   ]
  },
  {
   "cell_type": "code",
   "execution_count": 69,
   "id": "95011359-5820-4a19-b1bc-f482d6ad5cfe",
   "metadata": {
    "ExecuteTime": {
     "end_time": "2023-08-08T10:43:36.239691800Z",
     "start_time": "2023-08-08T10:43:36.045457700Z"
    },
    "pycharm": {
     "name": "#%%\n"
    },
    "tags": []
   },
   "outputs": [
    {
     "data": {
      "text/html": [
       "<table border=\"1\" class=\"dataframe\">\n",
       "  <thead>\n",
       "    <tr style=\"text-align: right;\">\n",
       "      <th></th>\n",
       "      <th>duct ID</th>\n",
       "      <th>L [m]</th>\n",
       "      <th>Deq [mm]</th>\n",
       "      <th>width [mm]</th>\n",
       "      <th>height [mm]</th>\n",
       "      <th>V [m³/h]</th>\n",
       "      <th>v [m/s]</th>\n",
       "      <th>Re</th>\n",
       "      <th>Δp-dyn. [Pa]</th>\n",
       "    </tr>\n",
       "  </thead>\n",
       "  <tbody>\n",
       "    <tr>\n",
       "      <th>0</th>\n",
       "      <td>1-2</td>\n",
       "      <td>2.000</td>\n",
       "      <td>620.311168</td>\n",
       "      <td>1200.0</td>\n",
       "      <td>300.0</td>\n",
       "      <td>-7499.995341</td>\n",
       "      <td>5.787033</td>\n",
       "      <td>183791.046592</td>\n",
       "      <td>33.415964</td>\n",
       "    </tr>\n",
       "    <tr>\n",
       "      <th>1</th>\n",
       "      <td>2-3</td>\n",
       "      <td>4.738</td>\n",
       "      <td>620.311168</td>\n",
       "      <td>1200.0</td>\n",
       "      <td>300.0</td>\n",
       "      <td>-7496.588520</td>\n",
       "      <td>5.784405</td>\n",
       "      <td>183707.560781</td>\n",
       "      <td>4.031174</td>\n",
       "    </tr>\n",
       "    <tr>\n",
       "      <th>2</th>\n",
       "      <td>3-4</td>\n",
       "      <td>0.100</td>\n",
       "      <td>353.963373</td>\n",
       "      <td>350.0</td>\n",
       "      <td>300.0</td>\n",
       "      <td>-1874.947868</td>\n",
       "      <td>4.960180</td>\n",
       "      <td>106030.413859</td>\n",
       "      <td>24.997717</td>\n",
       "    </tr>\n",
       "    <tr>\n",
       "      <th>3</th>\n",
       "      <td>3-5</td>\n",
       "      <td>1.755</td>\n",
       "      <td>620.311168</td>\n",
       "      <td>1200.0</td>\n",
       "      <td>300.0</td>\n",
       "      <td>-5624.539588</td>\n",
       "      <td>4.339923</td>\n",
       "      <td>137832.087960</td>\n",
       "      <td>1.275078</td>\n",
       "    </tr>\n",
       "    <tr>\n",
       "      <th>4</th>\n",
       "      <td>4-6</td>\n",
       "      <td>1.106</td>\n",
       "      <td>250.000000</td>\n",
       "      <td>NaN</td>\n",
       "      <td>NaN</td>\n",
       "      <td>-1874.996365</td>\n",
       "      <td>10.610309</td>\n",
       "      <td>175507.290179</td>\n",
       "      <td>77.179310</td>\n",
       "    </tr>\n",
       "    <tr>\n",
       "      <th>5</th>\n",
       "      <td>5-7</td>\n",
       "      <td>0.100</td>\n",
       "      <td>353.963373</td>\n",
       "      <td>350.0</td>\n",
       "      <td>300.0</td>\n",
       "      <td>-1874.947867</td>\n",
       "      <td>4.960180</td>\n",
       "      <td>106030.413799</td>\n",
       "      <td>18.602416</td>\n",
       "    </tr>\n",
       "    <tr>\n",
       "      <th>6</th>\n",
       "      <td>5-8</td>\n",
       "      <td>0.877</td>\n",
       "      <td>620.311168</td>\n",
       "      <td>1200.0</td>\n",
       "      <td>300.0</td>\n",
       "      <td>-3749.843013</td>\n",
       "      <td>2.893397</td>\n",
       "      <td>91891.733345</td>\n",
       "      <td>0.177120</td>\n",
       "    </tr>\n",
       "    <tr>\n",
       "      <th>7</th>\n",
       "      <td>7-9</td>\n",
       "      <td>1.106</td>\n",
       "      <td>250.000000</td>\n",
       "      <td>NaN</td>\n",
       "      <td>NaN</td>\n",
       "      <td>-1874.996365</td>\n",
       "      <td>10.610309</td>\n",
       "      <td>175507.290179</td>\n",
       "      <td>77.179310</td>\n",
       "    </tr>\n",
       "    <tr>\n",
       "      <th>8</th>\n",
       "      <td>8-10</td>\n",
       "      <td>8.414</td>\n",
       "      <td>573.664927</td>\n",
       "      <td>1000.0</td>\n",
       "      <td>300.0</td>\n",
       "      <td>-3749.360447</td>\n",
       "      <td>3.471630</td>\n",
       "      <td>106015.278247</td>\n",
       "      <td>3.367945</td>\n",
       "    </tr>\n",
       "    <tr>\n",
       "      <th>9</th>\n",
       "      <td>10-11</td>\n",
       "      <td>0.100</td>\n",
       "      <td>327.949602</td>\n",
       "      <td>300.0</td>\n",
       "      <td>300.0</td>\n",
       "      <td>-1874.955808</td>\n",
       "      <td>5.786901</td>\n",
       "      <td>114866.768091</td>\n",
       "      <td>23.605493</td>\n",
       "    </tr>\n",
       "    <tr>\n",
       "      <th>10</th>\n",
       "      <td>10-13</td>\n",
       "      <td>1.085</td>\n",
       "      <td>573.664927</td>\n",
       "      <td>1000.0</td>\n",
       "      <td>300.0</td>\n",
       "      <td>-1874.999448</td>\n",
       "      <td>1.736111</td>\n",
       "      <td>53016.665370</td>\n",
       "      <td>3.066431</td>\n",
       "    </tr>\n",
       "    <tr>\n",
       "      <th>11</th>\n",
       "      <td>11-12</td>\n",
       "      <td>1.106</td>\n",
       "      <td>250.000000</td>\n",
       "      <td>NaN</td>\n",
       "      <td>NaN</td>\n",
       "      <td>-1874.996365</td>\n",
       "      <td>10.610309</td>\n",
       "      <td>175507.290179</td>\n",
       "      <td>77.179310</td>\n",
       "    </tr>\n",
       "    <tr>\n",
       "      <th>12</th>\n",
       "      <td>13-14</td>\n",
       "      <td>1.106</td>\n",
       "      <td>250.000000</td>\n",
       "      <td>NaN</td>\n",
       "      <td>NaN</td>\n",
       "      <td>-1874.996365</td>\n",
       "      <td>10.610309</td>\n",
       "      <td>175507.290179</td>\n",
       "      <td>77.179310</td>\n",
       "    </tr>\n",
       "  </tbody>\n",
       "</table>"
      ],
      "text/plain": [
       "<IPython.core.display.HTML object>"
      ]
     },
     "metadata": {},
     "output_type": "display_data"
    }
   ],
   "source": [
    "duct_table = supply_network.get_duct_table()\n",
    "display(HTML(duct_table.to_html()))"
   ]
  },
  {
   "cell_type": "markdown",
   "id": "815f2949-1dd5-49cf-bc30-0d9b4f63a11e",
   "metadata": {
    "pycharm": {
     "name": "#%% md\n"
    }
   },
   "source": [
    "## Fitting Table"
   ]
  },
  {
   "cell_type": "code",
   "execution_count": 70,
   "id": "8608c2a4-a050-48a1-aefa-f2d6aa12d6bc",
   "metadata": {
    "ExecuteTime": {
     "end_time": "2023-08-08T10:43:36.239691800Z",
     "start_time": "2023-08-08T10:43:36.064909200Z"
    },
    "pycharm": {
     "name": "#%%\n"
    },
    "tags": []
   },
   "outputs": [
    {
     "data": {
      "text/html": [
       "<table border=\"1\" class=\"dataframe\">\n",
       "  <thead>\n",
       "    <tr style=\"text-align: right;\">\n",
       "      <th></th>\n",
       "      <th>conduit ID</th>\n",
       "      <th>fitting ID</th>\n",
       "      <th>zeta</th>\n",
       "      <th>pressure drop [Pa]</th>\n",
       "    </tr>\n",
       "  </thead>\n",
       "  <tbody>\n",
       "    <tr>\n",
       "      <th>0</th>\n",
       "      <td>1-2</td>\n",
       "      <td>RED-1/2</td>\n",
       "      <td>0.084931</td>\n",
       "      <td>1.713090</td>\n",
       "    </tr>\n",
       "    <tr>\n",
       "      <th>1</th>\n",
       "      <td>1-2</td>\n",
       "      <td>ELB90-1/2</td>\n",
       "      <td>1.5</td>\n",
       "      <td>30.255697</td>\n",
       "    </tr>\n",
       "    <tr>\n",
       "      <th>2</th>\n",
       "      <td>2-3</td>\n",
       "      <td>TEE-C-2/3</td>\n",
       "      <td>0.029999999999999985</td>\n",
       "      <td>0.604564</td>\n",
       "    </tr>\n",
       "    <tr>\n",
       "      <th>3</th>\n",
       "      <td>3-4</td>\n",
       "      <td>TEE-B-2/3</td>\n",
       "      <td>1.681006</td>\n",
       "      <td>24.909672</td>\n",
       "    </tr>\n",
       "    <tr>\n",
       "      <th>4</th>\n",
       "      <td>3-5</td>\n",
       "      <td>TEE-C-3/5</td>\n",
       "      <td>0.046666666666666676</td>\n",
       "      <td>0.529389</td>\n",
       "    </tr>\n",
       "    <tr>\n",
       "      <th>5</th>\n",
       "      <td>4-6</td>\n",
       "      <td>RED-4/6</td>\n",
       "      <td>0.05714465872332772</td>\n",
       "      <td>3.874678</td>\n",
       "    </tr>\n",
       "    <tr>\n",
       "      <th>6</th>\n",
       "      <td>4-6</td>\n",
       "      <td>EXIT-4/6</td>\n",
       "      <td>1.0</td>\n",
       "      <td>67.804728</td>\n",
       "    </tr>\n",
       "    <tr>\n",
       "      <th>7</th>\n",
       "      <td>5-7</td>\n",
       "      <td>TEE-B-5/7</td>\n",
       "      <td>1.249425</td>\n",
       "      <td>18.514371</td>\n",
       "    </tr>\n",
       "    <tr>\n",
       "      <th>8</th>\n",
       "      <td>7-9</td>\n",
       "      <td>RED-7/9</td>\n",
       "      <td>0.05714465872332772</td>\n",
       "      <td>3.874678</td>\n",
       "    </tr>\n",
       "    <tr>\n",
       "      <th>9</th>\n",
       "      <td>7-9</td>\n",
       "      <td>EXIT-7/9</td>\n",
       "      <td>1.0</td>\n",
       "      <td>67.804728</td>\n",
       "    </tr>\n",
       "    <tr>\n",
       "      <th>10</th>\n",
       "      <td>8-10</td>\n",
       "      <td>RED-8/10</td>\n",
       "      <td>0.0312</td>\n",
       "      <td>0.226478</td>\n",
       "    </tr>\n",
       "    <tr>\n",
       "      <th>11</th>\n",
       "      <td>8-10</td>\n",
       "      <td>TEE-C-8/10</td>\n",
       "      <td>0.09</td>\n",
       "      <td>0.653301</td>\n",
       "    </tr>\n",
       "    <tr>\n",
       "      <th>12</th>\n",
       "      <td>10-11</td>\n",
       "      <td>TEE-B-8/10</td>\n",
       "      <td>1.163998</td>\n",
       "      <td>23.477303</td>\n",
       "    </tr>\n",
       "    <tr>\n",
       "      <th>13</th>\n",
       "      <td>10-13</td>\n",
       "      <td>ELB90-10/13</td>\n",
       "      <td>1.639038</td>\n",
       "      <td>2.975417</td>\n",
       "    </tr>\n",
       "    <tr>\n",
       "      <th>14</th>\n",
       "      <td>11-12</td>\n",
       "      <td>RED-11/12</td>\n",
       "      <td>0.05714465872332772</td>\n",
       "      <td>3.874678</td>\n",
       "    </tr>\n",
       "    <tr>\n",
       "      <th>15</th>\n",
       "      <td>11-12</td>\n",
       "      <td>EXIT-11/12</td>\n",
       "      <td>1.0</td>\n",
       "      <td>67.804728</td>\n",
       "    </tr>\n",
       "    <tr>\n",
       "      <th>16</th>\n",
       "      <td>13-14</td>\n",
       "      <td>RED-13/14</td>\n",
       "      <td>0.05714465872332772</td>\n",
       "      <td>3.874678</td>\n",
       "    </tr>\n",
       "    <tr>\n",
       "      <th>17</th>\n",
       "      <td>13-14</td>\n",
       "      <td>EXIT-13/14</td>\n",
       "      <td>1.0</td>\n",
       "      <td>67.804728</td>\n",
       "    </tr>\n",
       "  </tbody>\n",
       "</table>"
      ],
      "text/plain": [
       "<IPython.core.display.HTML object>"
      ]
     },
     "metadata": {},
     "output_type": "display_data"
    }
   ],
   "source": [
    "fitting_table = supply_network.get_fitting_table()\n",
    "display(HTML(fitting_table.to_html()))"
   ]
  },
  {
   "cell_type": "markdown",
   "id": "1177e907-c9a4-47ab-ab65-8d36e1b522c6",
   "metadata": {
    "pycharm": {
     "name": "#%% md\n"
    }
   },
   "source": [
    "## Flow Paths"
   ]
  },
  {
   "cell_type": "code",
   "execution_count": 71,
   "id": "cad0eb52-14c2-43db-9260-1d05d878b145",
   "metadata": {
    "ExecuteTime": {
     "end_time": "2023-08-08T10:43:36.239691800Z",
     "start_time": "2023-08-08T10:43:36.079387200Z"
    },
    "pycharm": {
     "name": "#%%\n"
    },
    "tags": []
   },
   "outputs": [
    {
     "data": {
      "text/html": [
       "<table border=\"1\" class=\"dataframe\">\n",
       "  <thead>\n",
       "    <tr style=\"text-align: right;\">\n",
       "      <th></th>\n",
       "      <th>path</th>\n",
       "      <th>Δp-elev. [Pa]</th>\n",
       "      <th>Δp-dyn. [Pa]</th>\n",
       "      <th>Δp-tot. [Pa]</th>\n",
       "      <th>Δp-deficit [Pa]</th>\n",
       "    </tr>\n",
       "  </thead>\n",
       "  <tbody>\n",
       "    <tr>\n",
       "      <th>0</th>\n",
       "      <td>1-2|2-3|3-4|4-6</td>\n",
       "      <td>0.0</td>\n",
       "      <td>139.624164</td>\n",
       "      <td>139.624164</td>\n",
       "      <td>3.427919</td>\n",
       "    </tr>\n",
       "    <tr>\n",
       "      <th>1</th>\n",
       "      <td>1-2|2-3|3-5|5-7|7-9</td>\n",
       "      <td>0.0</td>\n",
       "      <td>134.503941</td>\n",
       "      <td>134.503941</td>\n",
       "      <td>8.548142</td>\n",
       "    </tr>\n",
       "    <tr>\n",
       "      <th>2</th>\n",
       "      <td>1-2|2-3|3-5|5-8|8-10|10-11|11-12</td>\n",
       "      <td>0.0</td>\n",
       "      <td>143.052083</td>\n",
       "      <td>143.052083</td>\n",
       "      <td>0.000000</td>\n",
       "    </tr>\n",
       "    <tr>\n",
       "      <th>3</th>\n",
       "      <td>1-2|2-3|3-5|5-8|8-10|10-13|13-14</td>\n",
       "      <td>0.0</td>\n",
       "      <td>122.513022</td>\n",
       "      <td>122.513022</td>\n",
       "      <td>20.539062</td>\n",
       "    </tr>\n",
       "  </tbody>\n",
       "</table>"
      ],
      "text/plain": [
       "<IPython.core.display.HTML object>"
      ]
     },
     "metadata": {},
     "output_type": "display_data"
    }
   ],
   "source": [
    "flow_path_table = supply_network.get_flow_path_table()\n",
    "display(HTML(flow_path_table.to_html()))"
   ]
  },
  {
   "cell_type": "markdown",
   "id": "14968366-0691-4c20-8b2d-a958ab0792f5",
   "metadata": {
    "pycharm": {
     "name": "#%%\n"
    }
   },
   "source": [
    "# Analysis"
   ]
  },
  {
   "cell_type": "markdown",
   "id": "9eae5e6459f9281e",
   "metadata": {},
   "source": [
    "## Pseudo-Conduits"
   ]
  },
  {
   "cell_type": "markdown",
   "id": "a5d68397fd1ee8aa",
   "metadata": {},
   "source": [
    "Before we can run an analysis on the duct network, we have to close the loops of the network with pseudo-conduits. Pseudo-conduits connect the exits of the network at nodes 14, 12, 9 and 6. These pseudo-conduits close the loops L4 (between node 14 and node 12), L3 (between node 12 and node 9), and L2 (between node 9 and node 6). If we consider that all exits of the network have the same pressure (atmospheric pressure), the pressure difference across a pseudo-conduit connecting two exits is zero. Loop L1 is not being closed yet. Node 1 is the start node of the network where air enters the duct system. We can consider exit node 6 (connected to the other exit nodes by pseudo-conduits and all exit nodes having the same pressure) to be the end node of our duct network. For air to flow from network entry node 1 to the exit nodes of the network (or to end node 6 of the network), entry node 1 must be at higher pressure than the exit nodes (or end node 6 of the network). From the flow table above it follows that for the design volume flow rates, the critical path of the duct network has a total pressure loss of around 143 Pa. So, we can say that the pressure at entry node 1 must be around 143 Pa (gage pressure) with respect to the exit nodes of the network (or end node 6) which are at 0 Pa (gage pressure). This means there is a fixed pressure difference of 143 Pa across the pseudo-conduit of loop L1 that connects start node 1 with end node 6. This value must be assigned a positive sign because air would flow through the pseudo-conduit from node 1 to node 6 which corresponds with the positive loop sense (i.e., the clock-wise sense). "
   ]
  },
  {
   "cell_type": "code",
   "execution_count": 72,
   "id": "f7514a14e185888",
   "metadata": {
    "ExecuteTime": {
     "end_time": "2023-08-08T10:43:36.239691800Z",
     "start_time": "2023-08-08T10:43:36.098988400Z"
    },
    "collapsed": false,
    "jupyter": {
     "outputs_hidden": false
    }
   },
   "outputs": [],
   "source": [
    "supply_network.add_conduit(\n",
    "    conduit=PseudoConduit.create(fixed_pressure_drop=Q_(143, 'Pa')),\n",
    "    conduit_ID='1-6',\n",
    "    start_node_ID=1,\n",
    "    end_node_ID=6,\n",
    "    loop_ID='L1'\n",
    ")\n",
    "\n",
    "supply_network.add_conduit(\n",
    "    conduit=PseudoConduit.create(fixed_pressure_drop=Q_(0, 'Pa')),\n",
    "    conduit_ID='9-6',\n",
    "    start_node_ID=9,\n",
    "    end_node_ID=6,\n",
    "    loop_ID='L2'\n",
    ")\n",
    "\n",
    "supply_network.add_conduit(\n",
    "    conduit=PseudoConduit.create(fixed_pressure_drop=Q_(0, 'Pa')),\n",
    "    conduit_ID='12-9',\n",
    "    start_node_ID=12,\n",
    "    end_node_ID=9,\n",
    "    loop_ID='L3'\n",
    ")\n",
    "\n",
    "supply_network.add_conduit(\n",
    "    conduit=PseudoConduit.create(fixed_pressure_drop=Q_(0, 'Pa')),\n",
    "    conduit_ID='14-12',\n",
    "    start_node_ID=14,\n",
    "    end_node_ID=12,\n",
    "    loop_ID='L3'\n",
    ")"
   ]
  },
  {
   "cell_type": "markdown",
   "id": "fc98b2e66b86d26c",
   "metadata": {},
   "source": [
    "## Run Analysis"
   ]
  },
  {
   "cell_type": "code",
   "execution_count": 73,
   "id": "ec26491e-1edc-40e5-b695-ad7e6efb5453",
   "metadata": {
    "ExecuteTime": {
     "end_time": "2023-08-08T10:43:37.037667400Z",
     "start_time": "2023-08-08T10:43:36.102915400Z"
    },
    "tags": []
   },
   "outputs": [
    {
     "data": {
      "text/plain": [
       "55"
      ]
     },
     "execution_count": 73,
     "metadata": {},
     "output_type": "execute_result"
    }
   ],
   "source": [
    "supply_network.analyze(tolerance=Q_(0.05, 'Pa'))"
   ]
  },
  {
   "cell_type": "markdown",
   "id": "852543241ef4ed29",
   "metadata": {},
   "source": [
    "## Results"
   ]
  },
  {
   "cell_type": "markdown",
   "id": "8834b121f311657c",
   "metadata": {},
   "source": [
    "By looking at the flow paths, we can check the exactness of the results. Each flow path in the duct network should have (approximately) the same total pressure difference, and the pressure difference deficit of each flow path should (approximately) be zero. By taking the tolerance smaller (and possibly increasing the maximum number of iterations), a better precision can be achieved.   "
   ]
  },
  {
   "cell_type": "code",
   "execution_count": 74,
   "id": "665f235a-402c-4872-ad43-493a2b5b62af",
   "metadata": {
    "ExecuteTime": {
     "end_time": "2023-08-08T10:43:37.037667400Z",
     "start_time": "2023-08-08T10:43:36.872013200Z"
    },
    "tags": []
   },
   "outputs": [
    {
     "data": {
      "text/html": [
       "<table border=\"1\" class=\"dataframe\">\n",
       "  <thead>\n",
       "    <tr style=\"text-align: right;\">\n",
       "      <th></th>\n",
       "      <th>path</th>\n",
       "      <th>Δp-elev. [Pa]</th>\n",
       "      <th>Δp-dyn. [Pa]</th>\n",
       "      <th>Δp-tot. [Pa]</th>\n",
       "      <th>Δp-deficit [Pa]</th>\n",
       "    </tr>\n",
       "  </thead>\n",
       "  <tbody>\n",
       "    <tr>\n",
       "      <th>0</th>\n",
       "      <td>1-2|2-3|3-4|4-6</td>\n",
       "      <td>0.0</td>\n",
       "      <td>142.967247</td>\n",
       "      <td>142.967247</td>\n",
       "      <td>0.000000</td>\n",
       "    </tr>\n",
       "    <tr>\n",
       "      <th>1</th>\n",
       "      <td>1-2|2-3|3-5|5-7|7-9</td>\n",
       "      <td>0.0</td>\n",
       "      <td>142.958019</td>\n",
       "      <td>142.958019</td>\n",
       "      <td>0.009228</td>\n",
       "    </tr>\n",
       "    <tr>\n",
       "      <th>2</th>\n",
       "      <td>1-2|2-3|3-5|5-8|8-10|10-11|11-12</td>\n",
       "      <td>0.0</td>\n",
       "      <td>142.913259</td>\n",
       "      <td>142.913259</td>\n",
       "      <td>0.053988</td>\n",
       "    </tr>\n",
       "    <tr>\n",
       "      <th>3</th>\n",
       "      <td>1-2|2-3|3-5|5-8|8-10|10-13|13-14</td>\n",
       "      <td>0.0</td>\n",
       "      <td>142.909694</td>\n",
       "      <td>142.909694</td>\n",
       "      <td>0.057553</td>\n",
       "    </tr>\n",
       "  </tbody>\n",
       "</table>"
      ],
      "text/plain": [
       "<IPython.core.display.HTML object>"
      ]
     },
     "metadata": {},
     "output_type": "display_data"
    }
   ],
   "source": [
    "flow_path_table = supply_network.get_flow_path_table()\n",
    "display(HTML(flow_path_table.to_html()))"
   ]
  },
  {
   "cell_type": "markdown",
   "id": "d9f53045a6a185e4",
   "metadata": {},
   "source": [
    "In the duct table, we can look at the volume flow rates through the exit sections of the duct network to check the flow balance of the duct network. "
   ]
  },
  {
   "cell_type": "code",
   "execution_count": 75,
   "id": "0eacf731-8ff1-4c26-9f6c-12be7d6a945d",
   "metadata": {
    "ExecuteTime": {
     "end_time": "2023-08-08T10:43:37.038665900Z",
     "start_time": "2023-08-08T10:43:36.877484900Z"
    },
    "tags": []
   },
   "outputs": [
    {
     "data": {
      "text/html": [
       "<table border=\"1\" class=\"dataframe\">\n",
       "  <thead>\n",
       "    <tr style=\"text-align: right;\">\n",
       "      <th></th>\n",
       "      <th>duct ID</th>\n",
       "      <th>L [m]</th>\n",
       "      <th>Deq [mm]</th>\n",
       "      <th>width [mm]</th>\n",
       "      <th>height [mm]</th>\n",
       "      <th>V [m³/h]</th>\n",
       "      <th>v [m/s]</th>\n",
       "      <th>Re</th>\n",
       "      <th>Δp-dyn. [Pa]</th>\n",
       "    </tr>\n",
       "  </thead>\n",
       "  <tbody>\n",
       "    <tr>\n",
       "      <th>0</th>\n",
       "      <td>1-2</td>\n",
       "      <td>2.000</td>\n",
       "      <td>620.311168</td>\n",
       "      <td>1200.0</td>\n",
       "      <td>300.0</td>\n",
       "      <td>-7738.948287</td>\n",
       "      <td>5.971411</td>\n",
       "      <td>189646.705158</td>\n",
       "      <td>35.572347</td>\n",
       "    </tr>\n",
       "    <tr>\n",
       "      <th>1</th>\n",
       "      <td>2-3</td>\n",
       "      <td>4.738</td>\n",
       "      <td>620.311168</td>\n",
       "      <td>1200.0</td>\n",
       "      <td>300.0</td>\n",
       "      <td>-7668.367230</td>\n",
       "      <td>5.916950</td>\n",
       "      <td>187917.081916</td>\n",
       "      <td>4.206503</td>\n",
       "    </tr>\n",
       "    <tr>\n",
       "      <th>2</th>\n",
       "      <td>3-4</td>\n",
       "      <td>0.100</td>\n",
       "      <td>353.963373</td>\n",
       "      <td>350.0</td>\n",
       "      <td>300.0</td>\n",
       "      <td>-1884.384740</td>\n",
       "      <td>4.985145</td>\n",
       "      <td>106564.079577</td>\n",
       "      <td>25.249915</td>\n",
       "    </tr>\n",
       "    <tr>\n",
       "      <th>3</th>\n",
       "      <td>3-5</td>\n",
       "      <td>1.755</td>\n",
       "      <td>620.311168</td>\n",
       "      <td>1200.0</td>\n",
       "      <td>300.0</td>\n",
       "      <td>-5837.871701</td>\n",
       "      <td>4.504531</td>\n",
       "      <td>143059.895509</td>\n",
       "      <td>1.368996</td>\n",
       "    </tr>\n",
       "    <tr>\n",
       "      <th>4</th>\n",
       "      <td>4-6</td>\n",
       "      <td>1.106</td>\n",
       "      <td>250.000000</td>\n",
       "      <td>NaN</td>\n",
       "      <td>NaN</td>\n",
       "      <td>-1884.233497</td>\n",
       "      <td>10.662580</td>\n",
       "      <td>176371.923251</td>\n",
       "      <td>77.938482</td>\n",
       "    </tr>\n",
       "    <tr>\n",
       "      <th>5</th>\n",
       "      <td>5-7</td>\n",
       "      <td>0.100</td>\n",
       "      <td>353.963373</td>\n",
       "      <td>350.0</td>\n",
       "      <td>300.0</td>\n",
       "      <td>-1933.411733</td>\n",
       "      <td>5.114846</td>\n",
       "      <td>109336.611258</td>\n",
       "      <td>19.780169</td>\n",
       "    </tr>\n",
       "    <tr>\n",
       "      <th>6</th>\n",
       "      <td>5-8</td>\n",
       "      <td>0.877</td>\n",
       "      <td>620.311168</td>\n",
       "      <td>1200.0</td>\n",
       "      <td>300.0</td>\n",
       "      <td>-3912.467352</td>\n",
       "      <td>3.018879</td>\n",
       "      <td>95876.922133</td>\n",
       "      <td>0.191397</td>\n",
       "    </tr>\n",
       "    <tr>\n",
       "      <th>7</th>\n",
       "      <td>7-9</td>\n",
       "      <td>1.106</td>\n",
       "      <td>250.000000</td>\n",
       "      <td>NaN</td>\n",
       "      <td>NaN</td>\n",
       "      <td>-1933.261128</td>\n",
       "      <td>10.940020</td>\n",
       "      <td>180961.109057</td>\n",
       "      <td>82.030004</td>\n",
       "    </tr>\n",
       "    <tr>\n",
       "      <th>8</th>\n",
       "      <td>8-10</td>\n",
       "      <td>8.414</td>\n",
       "      <td>573.664927</td>\n",
       "      <td>1000.0</td>\n",
       "      <td>300.0</td>\n",
       "      <td>-3890.323319</td>\n",
       "      <td>3.602151</td>\n",
       "      <td>110001.082865</td>\n",
       "      <td>3.609528</td>\n",
       "    </tr>\n",
       "    <tr>\n",
       "      <th>9</th>\n",
       "      <td>10-11</td>\n",
       "      <td>0.100</td>\n",
       "      <td>327.949602</td>\n",
       "      <td>300.0</td>\n",
       "      <td>300.0</td>\n",
       "      <td>-1848.602839</td>\n",
       "      <td>5.705564</td>\n",
       "      <td>113252.287172</td>\n",
       "      <td>22.946854</td>\n",
       "    </tr>\n",
       "    <tr>\n",
       "      <th>10</th>\n",
       "      <td>10-13</td>\n",
       "      <td>1.085</td>\n",
       "      <td>573.664927</td>\n",
       "      <td>1000.0</td>\n",
       "      <td>300.0</td>\n",
       "      <td>-2072.629920</td>\n",
       "      <td>1.919102</td>\n",
       "      <td>58604.778270</td>\n",
       "      <td>3.744771</td>\n",
       "    </tr>\n",
       "    <tr>\n",
       "      <th>11</th>\n",
       "      <td>11-12</td>\n",
       "      <td>1.106</td>\n",
       "      <td>250.000000</td>\n",
       "      <td>NaN</td>\n",
       "      <td>NaN</td>\n",
       "      <td>-1848.443084</td>\n",
       "      <td>10.460048</td>\n",
       "      <td>173021.795029</td>\n",
       "      <td>75.017633</td>\n",
       "    </tr>\n",
       "    <tr>\n",
       "      <th>12</th>\n",
       "      <td>13-14</td>\n",
       "      <td>1.106</td>\n",
       "      <td>250.000000</td>\n",
       "      <td>NaN</td>\n",
       "      <td>NaN</td>\n",
       "      <td>-2072.460706</td>\n",
       "      <td>11.727729</td>\n",
       "      <td>193990.756090</td>\n",
       "      <td>94.216152</td>\n",
       "    </tr>\n",
       "  </tbody>\n",
       "</table>"
      ],
      "text/plain": [
       "<IPython.core.display.HTML object>"
      ]
     },
     "metadata": {},
     "output_type": "display_data"
    }
   ],
   "source": [
    "duct_table = supply_network.get_duct_table()\n",
    "display(HTML(duct_table.to_html()))"
   ]
  }
 ],
 "metadata": {
  "kernelspec": {
   "display_name": "Python 3 (ipykernel)",
   "language": "python",
   "name": "python3"
  },
  "language_info": {
   "codemirror_mode": {
    "name": "ipython",
    "version": 3
   },
   "file_extension": ".py",
   "mimetype": "text/x-python",
   "name": "python",
   "nbconvert_exporter": "python",
   "pygments_lexer": "ipython3",
   "version": "3.11.0"
  },
  "toc-autonumbering": false,
  "toc-showcode": false,
  "toc-showmarkdowntxt": false
 },
 "nbformat": 4,
 "nbformat_minor": 5
}
