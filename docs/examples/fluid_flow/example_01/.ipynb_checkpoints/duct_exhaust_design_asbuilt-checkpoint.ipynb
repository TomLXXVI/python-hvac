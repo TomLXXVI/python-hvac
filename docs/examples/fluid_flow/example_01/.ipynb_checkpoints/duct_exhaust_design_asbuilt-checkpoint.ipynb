{
 "cells": [
  {
   "cell_type": "markdown",
   "id": "2faa63af-0304-45fb-96b0-4266f731b2ec",
   "metadata": {},
   "source": [
    "# Design of an Exhaust Air Duct Network (As Built)\n",
    "---"
   ]
  },
  {
   "cell_type": "code",
   "execution_count": 1,
   "id": "9824ddd3-d043-4232-a01e-ba18ef59b670",
   "metadata": {},
   "outputs": [],
   "source": [
    "from deps import load_packages\n",
    "load_packages()"
   ]
  },
  {
   "cell_type": "code",
   "execution_count": 2,
   "id": "227fb2db-2b86-4dba-bb01-5538963ba302",
   "metadata": {},
   "outputs": [
    {
     "data": {
      "text/html": [
       "<style>.my_table {\n",
       "    display: flex;\n",
       "    justify-content: center;\n",
       "}\n",
       "\n",
       ".my_table table {\n",
       "    border: 1px solid #ddd;\n",
       "}\n",
       "\n",
       ".my_table th, .my_table td {\n",
       "    padding: 8px;\n",
       "    border: 1px solid #ddd;\n",
       "    font-size: 1.25em;\n",
       "}\n",
       "\n",
       ".my_table td {\n",
       "    text-align: left;\n",
       "}\n",
       "\n",
       ".my_table th {\n",
       "    text-align: center;\n",
       "}\n",
       "\n",
       ".jp-Cell-outputArea {\n",
       "    box-shadow: none !important;\n",
       "}\n",
       "</style><p>Loaded <code>my_styles.css</code></p>"
      ],
      "text/plain": [
       "<IPython.core.display.HTML object>"
      ]
     },
     "execution_count": 2,
     "metadata": {},
     "output_type": "execute_result"
    }
   ],
   "source": [
    "import jupyter_addons as ja\n",
    "ja.set_css()"
   ]
  },
  {
   "cell_type": "markdown",
   "id": "63facc1c-2541-43a9-81a4-904c0260df37",
   "metadata": {},
   "source": [
    "## Let's Import What We'll Need"
   ]
  },
  {
   "cell_type": "code",
   "execution_count": 3,
   "id": "519d84f1-423a-4d46-8e50-f8e42bb26ff9",
   "metadata": {},
   "outputs": [],
   "source": [
    "from hvac import Quantity\n",
    "from hvac.fluids import Fluid\n",
    "from hvac.fluid_flow import DuctNetwork, circular_duct_schedule, Duct, Circular\n",
    "import hvac.fluid_flow.fittings.duct as duct_fittings"
   ]
  },
  {
   "cell_type": "code",
   "execution_count": 4,
   "id": "2e65fe2a-859a-4c86-b7da-f99cbe08c70a",
   "metadata": {},
   "outputs": [],
   "source": [
    "Q_ = Quantity"
   ]
  },
  {
   "cell_type": "markdown",
   "id": "b8a5a8ec-c9c0-46c2-bde3-cb8ed341165e",
   "metadata": {},
   "source": [
    "## Create and Configure the Duct Network"
   ]
  },
  {
   "cell_type": "markdown",
   "id": "b0fb7318-0861-4646-955a-b81c82b4dfd0",
   "metadata": {},
   "source": [
    "### Create Standard Air"
   ]
  },
  {
   "cell_type": "code",
   "execution_count": 5,
   "id": "9982e016-a6cf-4653-b6e9-d6c0fc1795c4",
   "metadata": {},
   "outputs": [],
   "source": [
    "Air = Fluid('Air')\n",
    "air = Air(T=Q_(20, 'degC'), P=Q_(101_325, 'Pa'))"
   ]
  },
  {
   "cell_type": "markdown",
   "id": "f0fa08a4-a73a-4430-829c-a938b2a2f890",
   "metadata": {},
   "source": [
    "### Create Duct Network"
   ]
  },
  {
   "cell_type": "code",
   "execution_count": 6,
   "id": "3017b9f7-5697-4e3a-be23-5837f0868512",
   "metadata": {},
   "outputs": [],
   "source": [
    "duct_network = DuctNetwork.create(\n",
    "    ID='exhaust_system',\n",
    "    fluid=air,\n",
    "    wall_roughness=Q_(0.09, 'mm'),\n",
    "    schedule=circular_duct_schedule,\n",
    "    start_node_ID='N1',\n",
    "    units={'volume_flow_rate': 'm ** 3 / hr'}\n",
    ")"
   ]
  },
  {
   "cell_type": "markdown",
   "id": "c0e652ea-31e2-4bfe-afc2-ac7d6a1b6e09",
   "metadata": {},
   "source": [
    "### Load Network Configuration File"
   ]
  },
  {
   "cell_type": "code",
   "execution_count": 7,
   "id": "c1b58a91-7251-4d27-8fee-e58574cc142c",
   "metadata": {},
   "outputs": [],
   "source": [
    "duct_network.load_from_csv('./networks/ex5_duct-exhaust-design_asbuilt.csv')"
   ]
  },
  {
   "cell_type": "markdown",
   "id": "08e1ca5b-ea25-4943-9282-3a16b2f135ec",
   "metadata": {},
   "source": [
    "### Duct Table"
   ]
  },
  {
   "cell_type": "code",
   "execution_count": 8,
   "id": "a7e9b396-b195-43c3-afd6-cb5da042304e",
   "metadata": {},
   "outputs": [
    {
     "data": {
      "text/html": [
       "<div class=\"my_table\"><table border=\"1\" class=\"dataframe\">\n",
       "  <thead>\n",
       "    <tr style=\"text-align: right;\">\n",
       "      <th></th>\n",
       "      <th>duct ID</th>\n",
       "      <th>L [m]</th>\n",
       "      <th>Deq [mm]</th>\n",
       "      <th>width [mm]</th>\n",
       "      <th>height [mm]</th>\n",
       "      <th>V [m³/h]</th>\n",
       "      <th>v [m/s]</th>\n",
       "      <th>Re</th>\n",
       "      <th>Δp-dyn. [Pa]</th>\n",
       "    </tr>\n",
       "  </thead>\n",
       "  <tbody>\n",
       "    <tr>\n",
       "      <th>0</th>\n",
       "      <td>D3</td>\n",
       "      <td>25.5</td>\n",
       "      <td>160.0</td>\n",
       "      <td>NaN</td>\n",
       "      <td>NaN</td>\n",
       "      <td>-222.0</td>\n",
       "      <td>3.067048</td>\n",
       "      <td>32468.911623</td>\n",
       "      <td>22.179468</td>\n",
       "    </tr>\n",
       "    <tr>\n",
       "      <th>1</th>\n",
       "      <td>D4</td>\n",
       "      <td>2.2</td>\n",
       "      <td>125.0</td>\n",
       "      <td>NaN</td>\n",
       "      <td>NaN</td>\n",
       "      <td>-61.0</td>\n",
       "      <td>1.380758</td>\n",
       "      <td>11419.696484</td>\n",
       "      <td>0.626118</td>\n",
       "    </tr>\n",
       "    <tr>\n",
       "      <th>2</th>\n",
       "      <td>D5</td>\n",
       "      <td>4.5</td>\n",
       "      <td>125.0</td>\n",
       "      <td>NaN</td>\n",
       "      <td>NaN</td>\n",
       "      <td>-61.0</td>\n",
       "      <td>1.380758</td>\n",
       "      <td>11419.696484</td>\n",
       "      <td>1.280697</td>\n",
       "    </tr>\n",
       "    <tr>\n",
       "      <th>3</th>\n",
       "      <td>D6</td>\n",
       "      <td>5.9</td>\n",
       "      <td>125.0</td>\n",
       "      <td>NaN</td>\n",
       "      <td>NaN</td>\n",
       "      <td>-50.0</td>\n",
       "      <td>1.131768</td>\n",
       "      <td>9360.406954</td>\n",
       "      <td>1.182929</td>\n",
       "    </tr>\n",
       "    <tr>\n",
       "      <th>4</th>\n",
       "      <td>D7</td>\n",
       "      <td>25.4</td>\n",
       "      <td>125.0</td>\n",
       "      <td>NaN</td>\n",
       "      <td>NaN</td>\n",
       "      <td>-50.0</td>\n",
       "      <td>1.131768</td>\n",
       "      <td>9360.406954</td>\n",
       "      <td>5.092609</td>\n",
       "    </tr>\n",
       "    <tr>\n",
       "      <th>5</th>\n",
       "      <td>D2</td>\n",
       "      <td>3.5</td>\n",
       "      <td>125.0</td>\n",
       "      <td>NaN</td>\n",
       "      <td>NaN</td>\n",
       "      <td>-50.0</td>\n",
       "      <td>1.131768</td>\n",
       "      <td>9360.406954</td>\n",
       "      <td>0.701737</td>\n",
       "    </tr>\n",
       "    <tr>\n",
       "      <th>6</th>\n",
       "      <td>D8</td>\n",
       "      <td>20.9</td>\n",
       "      <td>125.0</td>\n",
       "      <td>NaN</td>\n",
       "      <td>NaN</td>\n",
       "      <td>150.0</td>\n",
       "      <td>3.395305</td>\n",
       "      <td>28081.220863</td>\n",
       "      <td>29.752488</td>\n",
       "    </tr>\n",
       "    <tr>\n",
       "      <th>7</th>\n",
       "      <td>D9</td>\n",
       "      <td>10.7</td>\n",
       "      <td>125.0</td>\n",
       "      <td>NaN</td>\n",
       "      <td>NaN</td>\n",
       "      <td>-100.0</td>\n",
       "      <td>2.263537</td>\n",
       "      <td>18720.813909</td>\n",
       "      <td>7.335677</td>\n",
       "    </tr>\n",
       "    <tr>\n",
       "      <th>8</th>\n",
       "      <td>D10</td>\n",
       "      <td>5.5</td>\n",
       "      <td>125.0</td>\n",
       "      <td>NaN</td>\n",
       "      <td>NaN</td>\n",
       "      <td>50.0</td>\n",
       "      <td>1.131768</td>\n",
       "      <td>9360.406954</td>\n",
       "      <td>1.102730</td>\n",
       "    </tr>\n",
       "  </tbody>\n",
       "</table></div>"
      ],
      "text/plain": [
       "<IPython.core.display.HTML object>"
      ]
     },
     "metadata": {},
     "output_type": "display_data"
    }
   ],
   "source": [
    "ja.display_table(duct_network.get_duct_table())"
   ]
  },
  {
   "cell_type": "markdown",
   "id": "f98d4ca6-dbd7-4861-9cce-fd2c96ce2447",
   "metadata": {
    "toc-hr-collapsed": true
   },
   "source": [
    "## Add Duct Fittings"
   ]
  },
  {
   "cell_type": "markdown",
   "id": "7d125fd0-cf23-4640-abb1-bd64c38c5f24",
   "metadata": {},
   "source": [
    "### Node N1"
   ]
  },
  {
   "cell_type": "code",
   "execution_count": 9,
   "id": "3552051b-661d-485c-80aa-6d21a5559d47",
   "metadata": {},
   "outputs": [],
   "source": [
    "common_duct = Duct.create(\n",
    "    length=Q_(1, 'm'),\n",
    "    wall_roughness=Q_(0.09, 'mm'),\n",
    "    fluid=air,\n",
    "    cross_section=Circular.create(schedule=circular_duct_schedule),\n",
    "    volume_flow_rate=Q_(422, 'm ** 3 / hr'),\n",
    "    specific_pressure_drop=Q_(0.7, 'Pa / m')\n",
    ")"
   ]
  },
  {
   "cell_type": "code",
   "execution_count": 10,
   "id": "0fc1e223-75c6-4d77-bc26-2035571429e0",
   "metadata": {},
   "outputs": [],
   "source": [
    "tee_N1a = duct_fittings.ConvergingJunctionA10B(\n",
    "    duct_b=duct_network.conduits['D3'],\n",
    "    duct_c=common_duct,\n",
    "    duct_s=duct_network.conduits['D2'],\n",
    "    ID='tee-N1a'\n",
    ")\n",
    "duct_network.conduits['D3'].add_fitting(zeta=tee_N1a.zeta_b, ID=tee_N1a.ID)\n",
    "duct_network.conduits['D2'].add_fitting(zeta=tee_N1a.zeta_s, ID=tee_N1a.ID)"
   ]
  },
  {
   "cell_type": "code",
   "execution_count": 11,
   "id": "2c42e468-034b-4f37-926f-7f1bdb62ef86",
   "metadata": {},
   "outputs": [],
   "source": [
    "tee_N1b = duct_fittings.ConvergingJunctionA10B(\n",
    "    duct_b=duct_network.conduits['D8'],\n",
    "    duct_c=common_duct,\n",
    "    duct_s=duct_network.conduits['D2'],\n",
    "    ID='tee-N1b'\n",
    ")\n",
    "duct_network.conduits['D8'].add_fitting(zeta=tee_N1b.zeta_b, ID=tee_N1b.ID)"
   ]
  },
  {
   "cell_type": "markdown",
   "id": "db7af631-f889-4447-aace-14958f625199",
   "metadata": {},
   "source": [
    "### Duct D2"
   ]
  },
  {
   "cell_type": "code",
   "execution_count": 12,
   "id": "8a02006e-4165-445d-89a5-17ce288e4a91",
   "metadata": {},
   "outputs": [],
   "source": [
    "for n in [1, 2]:\n",
    "    elbow90 = duct_fittings.ElbowA7A(\n",
    "        duct=duct_network.conduits['D2'],\n",
    "        R_on_D=Q_(1, 'frac'),\n",
    "        theta=Q_(90, 'deg'),\n",
    "        ID=f\"ELB90-D2-{n}\"\n",
    "    )\n",
    "    duct_network.conduits['D2'].add_fitting(zeta=elbow90.zeta, ID=elbow90.ID)"
   ]
  },
  {
   "cell_type": "code",
   "execution_count": 13,
   "id": "615a6efa-0ea5-49c2-b19f-76a46868aee9",
   "metadata": {},
   "outputs": [],
   "source": [
    "exh_valve_D2 = duct_fittings.DuctFitting(\n",
    "    duct=duct_network.conduits['D2'],\n",
    "    Av=duct_fittings.FlowCoefficient.get_Av(\n",
    "        volume_flow_rate=Q_(50, 'm ** 3 / hr'),\n",
    "        pressure_drop=Q_(12, 'Pa')  # from catalog\n",
    "    ),\n",
    "    ID=\"EXH-VLV-D2\"\n",
    ")\n",
    "duct_network.conduits['D2'].add_fitting(zeta=exh_valve_D2.zeta, ID=exh_valve_D2.ID)"
   ]
  },
  {
   "cell_type": "markdown",
   "id": "c6610bae-5d2d-46e8-a9ca-f85d3932ce45",
   "metadata": {},
   "source": [
    "### Duct D3"
   ]
  },
  {
   "cell_type": "code",
   "execution_count": 14,
   "id": "c3c92fd3-043c-44a6-a490-0c23a798ac19",
   "metadata": {},
   "outputs": [],
   "source": [
    "for n in [1, 2, 3, 4]:\n",
    "    elbow90 = duct_fittings.ElbowA7A(\n",
    "        duct=duct_network.conduits['D3'],\n",
    "        R_on_D=Q_(1, 'frac'),\n",
    "        theta=Q_(90, 'deg'),\n",
    "        ID=f\"ELB90-D3-{n}\"\n",
    "    )\n",
    "    duct_network.conduits['D3'].add_fitting(zeta=elbow90.zeta, ID=elbow90.ID)"
   ]
  },
  {
   "cell_type": "code",
   "execution_count": 15,
   "id": "16e7927d-78d7-424d-9632-ec03c3ba329f",
   "metadata": {},
   "outputs": [],
   "source": [
    "for n in [1]:\n",
    "    elbow45 = duct_fittings.ElbowA7A(\n",
    "        duct=duct_network.conduits['D3'],\n",
    "        R_on_D=Q_(1, 'frac'),\n",
    "        theta=Q_(45, 'deg'),\n",
    "        ID=f\"ELB45-D3-{n}\"\n",
    "    )\n",
    "    duct_network.conduits['D3'].add_fitting(zeta=elbow45.zeta, ID=elbow45.ID)"
   ]
  },
  {
   "cell_type": "markdown",
   "id": "5e2e2b10-297a-47ac-b676-b3fdec20a7dc",
   "metadata": {},
   "source": [
    "### Node N2"
   ]
  },
  {
   "cell_type": "code",
   "execution_count": 16,
   "id": "6873a56d-7527-4b05-ab00-47068370836a",
   "metadata": {},
   "outputs": [],
   "source": [
    "tee_N2a = duct_fittings.ConvergingJunctionA10B(\n",
    "    duct_b=duct_network.conduits['D4'],\n",
    "    duct_c=duct_network.conduits['D3'],\n",
    "    duct_s=duct_network.conduits['D7'],\n",
    "    ID='tee-N2a'\n",
    ")\n",
    "duct_network.conduits['D4'].add_fitting(zeta=tee_N2a.zeta_b, ID=tee_N2a.ID)\n",
    "duct_network.conduits['D3'].add_fitting(zeta=tee_N2a.zeta_c, ID=tee_N2a.ID)"
   ]
  },
  {
   "cell_type": "code",
   "execution_count": 17,
   "id": "36e1c62a-1ecf-42d5-aa8e-71654b414619",
   "metadata": {},
   "outputs": [],
   "source": [
    "tee_N2b = duct_fittings.ConvergingJunctionA10B(\n",
    "    duct_b=duct_network.conduits['D5'],\n",
    "    duct_c=duct_network.conduits['D3'],\n",
    "    duct_s=duct_network.conduits['D7'],\n",
    "    ID='tee-N2b'\n",
    ")\n",
    "duct_network.conduits['D5'].add_fitting(zeta=tee_N2b.zeta_b, ID=tee_N2b.ID)"
   ]
  },
  {
   "cell_type": "code",
   "execution_count": 18,
   "id": "a61462d8-03a7-4485-8723-8a8a539480cc",
   "metadata": {},
   "outputs": [],
   "source": [
    "tee_N2c = duct_fittings.ConvergingJunctionA10B(\n",
    "    duct_b=duct_network.conduits['D6'],\n",
    "    duct_c=duct_network.conduits['D3'],\n",
    "    duct_s=duct_network.conduits['D7'],\n",
    "    ID='tee-N2c'\n",
    ")\n",
    "duct_network.conduits['D6'].add_fitting(zeta=tee_N2c.zeta_b, ID=tee_N2c.ID)"
   ]
  },
  {
   "cell_type": "markdown",
   "id": "e621df5a-0c5a-4021-ab72-9af97f9e61b3",
   "metadata": {},
   "source": [
    "### Duct D4"
   ]
  },
  {
   "cell_type": "code",
   "execution_count": 19,
   "id": "10d06adc-f185-43db-8d0a-3cba8bd37cde",
   "metadata": {},
   "outputs": [],
   "source": [
    "exh_valve_D4 = duct_fittings.DuctFitting(\n",
    "    duct=duct_network.conduits['D4'],\n",
    "    Av=duct_fittings.FlowCoefficient.get_Av(\n",
    "        volume_flow_rate=Q_(50, 'm ** 3 / hr'),\n",
    "        pressure_drop=Q_(12, 'Pa')  # from catalog\n",
    "    ),\n",
    "    ID=\"EXH-VLV-D4\"\n",
    ")\n",
    "duct_network.conduits['D4'].add_fitting(zeta=exh_valve_D4.zeta, ID=exh_valve_D4.ID)"
   ]
  },
  {
   "cell_type": "markdown",
   "id": "fe46f372-1535-444e-95f5-0fe699d3213f",
   "metadata": {},
   "source": [
    "### Duct D5"
   ]
  },
  {
   "cell_type": "code",
   "execution_count": 20,
   "id": "ae92e78b-b1d8-477d-998c-4e6a1e2cf67c",
   "metadata": {},
   "outputs": [],
   "source": [
    "for n in [1, 2]:\n",
    "    elbow90 = duct_fittings.ElbowA7A(\n",
    "        duct=duct_network.conduits['D5'],\n",
    "        R_on_D=Q_(1, 'frac'),\n",
    "        theta=Q_(90, 'deg'),\n",
    "        ID=f\"ELB90-D5-{n}\"\n",
    "    )\n",
    "    duct_network.conduits['D5'].add_fitting(zeta=elbow90.zeta, ID=elbow90.ID)"
   ]
  },
  {
   "cell_type": "code",
   "execution_count": 21,
   "id": "e9d418b2-1e8e-4453-9e4f-f7288c5a102c",
   "metadata": {},
   "outputs": [],
   "source": [
    "exh_valve_D5 = duct_fittings.DuctFitting(\n",
    "    duct=duct_network.conduits['D5'],\n",
    "    Av=duct_fittings.FlowCoefficient.get_Av(\n",
    "        volume_flow_rate=Q_(50, 'm ** 3 / hr'),\n",
    "        pressure_drop=Q_(12, 'Pa')  # from catalog\n",
    "    ),\n",
    "    ID=\"EXH-VLV-D5\"\n",
    ")\n",
    "duct_network.conduits['D5'].add_fitting(zeta=exh_valve_D5.zeta, ID=exh_valve_D5.ID)"
   ]
  },
  {
   "cell_type": "markdown",
   "id": "fd57e90d-bb4d-475f-8a2a-9d29980d205c",
   "metadata": {},
   "source": [
    "### Duct D6"
   ]
  },
  {
   "cell_type": "code",
   "execution_count": 22,
   "id": "553ee855-dc65-4006-8765-265daed45932",
   "metadata": {},
   "outputs": [],
   "source": [
    "for n in [1, 2]:\n",
    "    elbow90 = duct_fittings.ElbowA7A(\n",
    "        duct=duct_network.conduits['D6'],\n",
    "        R_on_D=Q_(1, 'frac'),\n",
    "        theta=Q_(90, 'deg'),\n",
    "        ID=f\"ELB90-D6-{n}\"\n",
    "    )\n",
    "    duct_network.conduits['D6'].add_fitting(zeta=elbow90.zeta, ID=elbow90.ID)"
   ]
  },
  {
   "cell_type": "code",
   "execution_count": 23,
   "id": "c6a800c7-d433-424b-a88c-68a26947a406",
   "metadata": {},
   "outputs": [],
   "source": [
    "exh_valve_D6 = duct_fittings.DuctFitting(\n",
    "    duct=duct_network.conduits['D6'],\n",
    "    Av=duct_fittings.FlowCoefficient.get_Av(\n",
    "        volume_flow_rate=Q_(50, 'm ** 3 / hr'),\n",
    "        pressure_drop=Q_(12, 'Pa')  # from catalog\n",
    "    ),\n",
    "    ID=\"EXH-VLV-D6\"\n",
    ")\n",
    "duct_network.conduits['D6'].add_fitting(zeta=exh_valve_D6.zeta, ID=exh_valve_D6.ID)"
   ]
  },
  {
   "cell_type": "markdown",
   "id": "91a53b55-e2bf-4d0d-bb00-e42d41eb0745",
   "metadata": {},
   "source": [
    "### Duct D7"
   ]
  },
  {
   "cell_type": "code",
   "execution_count": 24,
   "id": "d87c7e08-0303-403e-ac07-38c8bbdd8ec0",
   "metadata": {},
   "outputs": [],
   "source": [
    "for n in [1, 2]:\n",
    "    elbow90 = duct_fittings.ElbowA7A(\n",
    "        duct=duct_network.conduits['D7'],\n",
    "        R_on_D=Q_(1, 'frac'),\n",
    "        theta=Q_(90, 'deg'),\n",
    "        ID=f\"ELB90-D7-{n}\"\n",
    "    )\n",
    "    duct_network.conduits['D7'].add_fitting(zeta=elbow90.zeta, ID=elbow90.ID)"
   ]
  },
  {
   "cell_type": "code",
   "execution_count": 25,
   "id": "da722cb4-6366-40a8-9d50-49d865a4a9bf",
   "metadata": {},
   "outputs": [],
   "source": [
    "exh_valve_D7 = duct_fittings.DuctFitting(\n",
    "    duct=duct_network.conduits['D7'],\n",
    "    Av=duct_fittings.FlowCoefficient.get_Av(\n",
    "        volume_flow_rate=Q_(50, 'm ** 3 / hr'),\n",
    "        pressure_drop=Q_(12, 'Pa')  # from catalog\n",
    "    ),\n",
    "    ID=\"EXH-VLV-D7\"\n",
    ")\n",
    "duct_network.conduits['D7'].add_fitting(zeta=exh_valve_D7.zeta, ID=exh_valve_D7.ID)"
   ]
  },
  {
   "cell_type": "markdown",
   "id": "1f0dcfb0-5136-43fe-9d12-3b2fc4ea2704",
   "metadata": {},
   "source": [
    "### Duct D8"
   ]
  },
  {
   "cell_type": "code",
   "execution_count": 26,
   "id": "e4e4b537-fbd4-4e8c-8f78-f92121de55a8",
   "metadata": {},
   "outputs": [],
   "source": [
    "for n in [1, 2, 3, 4, 5]:\n",
    "    elbow90 = duct_fittings.ElbowA7A(\n",
    "        duct=duct_network.conduits['D8'],\n",
    "        R_on_D=Q_(1, 'frac'),\n",
    "        theta=Q_(90, 'deg'),\n",
    "        ID=f\"ELB90-D8-{n}\"\n",
    "    )\n",
    "    duct_network.conduits['D8'].add_fitting(zeta=elbow90.zeta, ID=elbow90.ID)"
   ]
  },
  {
   "cell_type": "markdown",
   "id": "786f6f9d-cfb3-4763-b4cb-05cbcd208b73",
   "metadata": {},
   "source": [
    "### Node N3"
   ]
  },
  {
   "cell_type": "code",
   "execution_count": 27,
   "id": "475583ec-c7c4-4f74-b97f-0e6d24c4fa09",
   "metadata": {},
   "outputs": [],
   "source": [
    "tee_N3 = duct_fittings.ConvergingJunctionA10B(\n",
    "    duct_b=duct_network.conduits['D9'],\n",
    "    duct_c=duct_network.conduits['D8'],\n",
    "    duct_s=duct_network.conduits['D10'],\n",
    "    ID='tee-N3'\n",
    ")\n",
    "duct_network.conduits['D9'].add_fitting(zeta=tee_N3.zeta_b, ID=tee_N3.ID)\n",
    "duct_network.conduits['D8'].add_fitting(zeta=tee_N3.zeta_c, ID=tee_N3.ID)"
   ]
  },
  {
   "cell_type": "markdown",
   "id": "c6d73369-5827-4a2f-9300-0ea9e300d945",
   "metadata": {},
   "source": [
    "### Duct D9"
   ]
  },
  {
   "cell_type": "code",
   "execution_count": 28,
   "id": "1b7d8ea5-d61a-46c6-8ce4-22f4600f9461",
   "metadata": {},
   "outputs": [],
   "source": [
    "for n in [1]:\n",
    "    elbow90 = duct_fittings.ElbowA7A(\n",
    "        duct=duct_network.conduits['D9'],\n",
    "        R_on_D=Q_(1, 'frac'),\n",
    "        theta=Q_(90, 'deg'),\n",
    "        ID=f\"ELB90-D9-{n}\"\n",
    "    )\n",
    "    duct_network.conduits['D9'].add_fitting(zeta=elbow90.zeta, ID=elbow90.ID)"
   ]
  },
  {
   "cell_type": "code",
   "execution_count": 29,
   "id": "b3453ae7-6146-4d41-91e4-d05aa0cdd9cc",
   "metadata": {},
   "outputs": [],
   "source": [
    "for n in [1]:\n",
    "    elbow45 = duct_fittings.ElbowA7A(\n",
    "        duct=duct_network.conduits['D9'],\n",
    "        R_on_D=Q_(1, 'frac'),\n",
    "        theta=Q_(45, 'deg'),\n",
    "        ID=f\"ELB45-D9-{n}\"\n",
    "    )\n",
    "    duct_network.conduits['D9'].add_fitting(zeta=elbow45.zeta, ID=elbow45.ID)"
   ]
  },
  {
   "cell_type": "code",
   "execution_count": 30,
   "id": "66cde6c1-9c5e-4d05-811f-10fd3dfade3f",
   "metadata": {},
   "outputs": [],
   "source": [
    "exh_valve_D9 = duct_fittings.DuctFitting(\n",
    "    duct=duct_network.conduits['D7'],\n",
    "    Av=duct_fittings.FlowCoefficient.get_Av(\n",
    "        volume_flow_rate=Q_(100, 'm ** 3 / hr'),\n",
    "        pressure_drop=Q_(18, 'Pa')  # from catalog\n",
    "    ),\n",
    "    ID=\"EXH-VLV-D9\"\n",
    ")\n",
    "duct_network.conduits['D9'].add_fitting(zeta=exh_valve_D9.zeta, ID=exh_valve_D9.ID)"
   ]
  },
  {
   "cell_type": "markdown",
   "id": "fb51640f-6e5b-4375-9076-ad994b8650aa",
   "metadata": {},
   "source": [
    "### Duct D10"
   ]
  },
  {
   "cell_type": "code",
   "execution_count": 31,
   "id": "f065b2e7-97d7-4119-b551-277edfd93a39",
   "metadata": {},
   "outputs": [],
   "source": [
    "for n in [1, 2]:\n",
    "    elbow90 = duct_fittings.ElbowA7A(\n",
    "        duct=duct_network.conduits['D10'],\n",
    "        R_on_D=Q_(1, 'frac'),\n",
    "        theta=Q_(90, 'deg'),\n",
    "        ID=f\"ELB90-D10-{n}\"\n",
    "    )\n",
    "    duct_network.conduits['D10'].add_fitting(zeta=elbow90.zeta, ID=elbow90.ID)"
   ]
  },
  {
   "cell_type": "code",
   "execution_count": 32,
   "id": "e994463e-386a-41b4-9ec8-98c6c58ec8f5",
   "metadata": {
    "tags": []
   },
   "outputs": [],
   "source": [
    "exh_valve_D10 = duct_fittings.DuctFitting(\n",
    "    duct=duct_network.conduits['D10'],\n",
    "    Av=duct_fittings.FlowCoefficient.get_Av(\n",
    "        volume_flow_rate=Q_(50, 'm ** 3 / hr'),\n",
    "        pressure_drop=Q_(12, 'Pa')  # from catalog\n",
    "    ),\n",
    "    ID=\"EXH-VLV-D10\"\n",
    ")\n",
    "duct_network.conduits['D10'].add_fitting(zeta=exh_valve_D10.zeta, ID=exh_valve_D10.ID)"
   ]
  },
  {
   "cell_type": "markdown",
   "id": "ee673f40-2578-4d3c-80a3-0a95e634646f",
   "metadata": {
    "tags": []
   },
   "source": [
    "## Duct Network Overview"
   ]
  },
  {
   "cell_type": "markdown",
   "id": "1eb75148-ecad-415e-9f93-deb7fbd79958",
   "metadata": {},
   "source": [
    "### Duct Table"
   ]
  },
  {
   "cell_type": "code",
   "execution_count": 33,
   "id": "53c49aad-f64e-41b3-9a99-209b6de433e6",
   "metadata": {
    "tags": []
   },
   "outputs": [
    {
     "data": {
      "text/html": [
       "<div class=\"my_table\"><table border=\"1\" class=\"dataframe\">\n",
       "  <thead>\n",
       "    <tr style=\"text-align: right;\">\n",
       "      <th></th>\n",
       "      <th>duct ID</th>\n",
       "      <th>L [m]</th>\n",
       "      <th>Deq [mm]</th>\n",
       "      <th>width [mm]</th>\n",
       "      <th>height [mm]</th>\n",
       "      <th>V [m³/h]</th>\n",
       "      <th>v [m/s]</th>\n",
       "      <th>Re</th>\n",
       "      <th>Δp-dyn. [Pa]</th>\n",
       "    </tr>\n",
       "  </thead>\n",
       "  <tbody>\n",
       "    <tr>\n",
       "      <th>0</th>\n",
       "      <td>D3</td>\n",
       "      <td>25.5</td>\n",
       "      <td>160.0</td>\n",
       "      <td>NaN</td>\n",
       "      <td>NaN</td>\n",
       "      <td>-222.0</td>\n",
       "      <td>3.067048</td>\n",
       "      <td>32468.911623</td>\n",
       "      <td>39.015870</td>\n",
       "    </tr>\n",
       "    <tr>\n",
       "      <th>1</th>\n",
       "      <td>D4</td>\n",
       "      <td>2.2</td>\n",
       "      <td>125.0</td>\n",
       "      <td>NaN</td>\n",
       "      <td>NaN</td>\n",
       "      <td>-61.0</td>\n",
       "      <td>1.380758</td>\n",
       "      <td>11419.696484</td>\n",
       "      <td>19.151601</td>\n",
       "    </tr>\n",
       "    <tr>\n",
       "      <th>2</th>\n",
       "      <td>D5</td>\n",
       "      <td>4.5</td>\n",
       "      <td>125.0</td>\n",
       "      <td>NaN</td>\n",
       "      <td>NaN</td>\n",
       "      <td>-61.0</td>\n",
       "      <td>1.380758</td>\n",
       "      <td>11419.696484</td>\n",
       "      <td>20.311413</td>\n",
       "    </tr>\n",
       "    <tr>\n",
       "      <th>3</th>\n",
       "      <td>D6</td>\n",
       "      <td>5.9</td>\n",
       "      <td>125.0</td>\n",
       "      <td>NaN</td>\n",
       "      <td>NaN</td>\n",
       "      <td>-50.0</td>\n",
       "      <td>1.131768</td>\n",
       "      <td>9360.406954</td>\n",
       "      <td>13.213231</td>\n",
       "    </tr>\n",
       "    <tr>\n",
       "      <th>4</th>\n",
       "      <td>D7</td>\n",
       "      <td>25.4</td>\n",
       "      <td>125.0</td>\n",
       "      <td>NaN</td>\n",
       "      <td>NaN</td>\n",
       "      <td>-50.0</td>\n",
       "      <td>1.131768</td>\n",
       "      <td>9360.406954</td>\n",
       "      <td>17.432056</td>\n",
       "    </tr>\n",
       "    <tr>\n",
       "      <th>5</th>\n",
       "      <td>D2</td>\n",
       "      <td>3.5</td>\n",
       "      <td>125.0</td>\n",
       "      <td>NaN</td>\n",
       "      <td>NaN</td>\n",
       "      <td>-50.0</td>\n",
       "      <td>1.131768</td>\n",
       "      <td>9360.406954</td>\n",
       "      <td>14.455576</td>\n",
       "    </tr>\n",
       "    <tr>\n",
       "      <th>6</th>\n",
       "      <td>D8</td>\n",
       "      <td>20.9</td>\n",
       "      <td>125.0</td>\n",
       "      <td>NaN</td>\n",
       "      <td>NaN</td>\n",
       "      <td>150.0</td>\n",
       "      <td>3.395305</td>\n",
       "      <td>28081.220863</td>\n",
       "      <td>53.795072</td>\n",
       "    </tr>\n",
       "    <tr>\n",
       "      <th>7</th>\n",
       "      <td>D9</td>\n",
       "      <td>10.7</td>\n",
       "      <td>125.0</td>\n",
       "      <td>NaN</td>\n",
       "      <td>NaN</td>\n",
       "      <td>-100.0</td>\n",
       "      <td>2.263537</td>\n",
       "      <td>18720.813909</td>\n",
       "      <td>31.073871</td>\n",
       "    </tr>\n",
       "    <tr>\n",
       "      <th>8</th>\n",
       "      <td>D10</td>\n",
       "      <td>5.5</td>\n",
       "      <td>125.0</td>\n",
       "      <td>NaN</td>\n",
       "      <td>NaN</td>\n",
       "      <td>50.0</td>\n",
       "      <td>1.131768</td>\n",
       "      <td>9360.406954</td>\n",
       "      <td>13.442177</td>\n",
       "    </tr>\n",
       "  </tbody>\n",
       "</table></div>"
      ],
      "text/plain": [
       "<IPython.core.display.HTML object>"
      ]
     },
     "metadata": {},
     "output_type": "display_data"
    }
   ],
   "source": [
    "ja.display_table(duct_network.get_duct_table())"
   ]
  },
  {
   "cell_type": "markdown",
   "id": "01be835b-0291-4ef8-a78e-9e815618c8be",
   "metadata": {},
   "source": [
    "### Fitting Table"
   ]
  },
  {
   "cell_type": "code",
   "execution_count": 34,
   "id": "cbd8d0e4-eef4-4a32-b28f-134984d05fc9",
   "metadata": {
    "tags": []
   },
   "outputs": [
    {
     "data": {
      "text/html": [
       "<div class=\"my_table\"><table border=\"1\" class=\"dataframe\">\n",
       "  <thead>\n",
       "    <tr style=\"text-align: right;\">\n",
       "      <th></th>\n",
       "      <th>conduit ID</th>\n",
       "      <th>fitting ID</th>\n",
       "      <th>zeta</th>\n",
       "      <th>pressure drop [Pa]</th>\n",
       "    </tr>\n",
       "  </thead>\n",
       "  <tbody>\n",
       "    <tr>\n",
       "      <th>0</th>\n",
       "      <td>D3</td>\n",
       "      <td>tee-N1a</td>\n",
       "      <td>1.607442</td>\n",
       "      <td>9.107107</td>\n",
       "    </tr>\n",
       "    <tr>\n",
       "      <th>1</th>\n",
       "      <td>D3</td>\n",
       "      <td>ELB90-D3-1</td>\n",
       "      <td>0.22</td>\n",
       "      <td>1.246430</td>\n",
       "    </tr>\n",
       "    <tr>\n",
       "      <th>2</th>\n",
       "      <td>D3</td>\n",
       "      <td>ELB90-D3-2</td>\n",
       "      <td>0.22</td>\n",
       "      <td>1.246430</td>\n",
       "    </tr>\n",
       "    <tr>\n",
       "      <th>3</th>\n",
       "      <td>D3</td>\n",
       "      <td>ELB90-D3-3</td>\n",
       "      <td>0.22</td>\n",
       "      <td>1.246430</td>\n",
       "    </tr>\n",
       "    <tr>\n",
       "      <th>4</th>\n",
       "      <td>D3</td>\n",
       "      <td>ELB90-D3-4</td>\n",
       "      <td>0.22</td>\n",
       "      <td>1.246430</td>\n",
       "    </tr>\n",
       "    <tr>\n",
       "      <th>5</th>\n",
       "      <td>D3</td>\n",
       "      <td>ELB45-D3-1</td>\n",
       "      <td>0.132</td>\n",
       "      <td>0.747858</td>\n",
       "    </tr>\n",
       "    <tr>\n",
       "      <th>6</th>\n",
       "      <td>D3</td>\n",
       "      <td>tee-N2a</td>\n",
       "      <td>0.3522522522522523</td>\n",
       "      <td>1.995717</td>\n",
       "    </tr>\n",
       "    <tr>\n",
       "      <th>7</th>\n",
       "      <td>D4</td>\n",
       "      <td>tee-N2a</td>\n",
       "      <td>0.578863</td>\n",
       "      <td>0.664683</td>\n",
       "    </tr>\n",
       "    <tr>\n",
       "      <th>8</th>\n",
       "      <td>D4</td>\n",
       "      <td>EXH-VLV-D4</td>\n",
       "      <td>15.554718</td>\n",
       "      <td>17.860800</td>\n",
       "    </tr>\n",
       "    <tr>\n",
       "      <th>9</th>\n",
       "      <td>D5</td>\n",
       "      <td>tee-N2b</td>\n",
       "      <td>0.578863</td>\n",
       "      <td>0.664683</td>\n",
       "    </tr>\n",
       "    <tr>\n",
       "      <th>10</th>\n",
       "      <td>D5</td>\n",
       "      <td>ELB90-D5-1</td>\n",
       "      <td>0.22</td>\n",
       "      <td>0.252616</td>\n",
       "    </tr>\n",
       "    <tr>\n",
       "      <th>11</th>\n",
       "      <td>D5</td>\n",
       "      <td>ELB90-D5-2</td>\n",
       "      <td>0.22</td>\n",
       "      <td>0.252616</td>\n",
       "    </tr>\n",
       "    <tr>\n",
       "      <th>12</th>\n",
       "      <td>D5</td>\n",
       "      <td>EXH-VLV-D5</td>\n",
       "      <td>15.554718</td>\n",
       "      <td>17.860800</td>\n",
       "    </tr>\n",
       "    <tr>\n",
       "      <th>13</th>\n",
       "      <td>D6</td>\n",
       "      <td>tee-N2c</td>\n",
       "      <td>-0.400722</td>\n",
       "      <td>-0.309145</td>\n",
       "    </tr>\n",
       "    <tr>\n",
       "      <th>14</th>\n",
       "      <td>D6</td>\n",
       "      <td>ELB90-D6-1</td>\n",
       "      <td>0.22</td>\n",
       "      <td>0.169723</td>\n",
       "    </tr>\n",
       "    <tr>\n",
       "      <th>15</th>\n",
       "      <td>D6</td>\n",
       "      <td>ELB90-D6-2</td>\n",
       "      <td>0.22</td>\n",
       "      <td>0.169723</td>\n",
       "    </tr>\n",
       "    <tr>\n",
       "      <th>16</th>\n",
       "      <td>D6</td>\n",
       "      <td>EXH-VLV-D6</td>\n",
       "      <td>15.554718</td>\n",
       "      <td>12.000000</td>\n",
       "    </tr>\n",
       "    <tr>\n",
       "      <th>17</th>\n",
       "      <td>D7</td>\n",
       "      <td>ELB90-D7-1</td>\n",
       "      <td>0.22</td>\n",
       "      <td>0.169723</td>\n",
       "    </tr>\n",
       "    <tr>\n",
       "      <th>18</th>\n",
       "      <td>D7</td>\n",
       "      <td>ELB90-D7-2</td>\n",
       "      <td>0.22</td>\n",
       "      <td>0.169723</td>\n",
       "    </tr>\n",
       "    <tr>\n",
       "      <th>19</th>\n",
       "      <td>D7</td>\n",
       "      <td>EXH-VLV-D7</td>\n",
       "      <td>15.554718</td>\n",
       "      <td>12.000000</td>\n",
       "    </tr>\n",
       "    <tr>\n",
       "      <th>20</th>\n",
       "      <td>D2</td>\n",
       "      <td>tee-N1a</td>\n",
       "      <td>1.833372</td>\n",
       "      <td>1.414391</td>\n",
       "    </tr>\n",
       "    <tr>\n",
       "      <th>21</th>\n",
       "      <td>D2</td>\n",
       "      <td>ELB90-D2-1</td>\n",
       "      <td>0.22</td>\n",
       "      <td>0.169723</td>\n",
       "    </tr>\n",
       "    <tr>\n",
       "      <th>22</th>\n",
       "      <td>D2</td>\n",
       "      <td>ELB90-D2-2</td>\n",
       "      <td>0.22</td>\n",
       "      <td>0.169723</td>\n",
       "    </tr>\n",
       "    <tr>\n",
       "      <th>23</th>\n",
       "      <td>D2</td>\n",
       "      <td>EXH-VLV-D2</td>\n",
       "      <td>15.554718</td>\n",
       "      <td>12.000000</td>\n",
       "    </tr>\n",
       "    <tr>\n",
       "      <th>24</th>\n",
       "      <td>D8</td>\n",
       "      <td>tee-N1b</td>\n",
       "      <td>1.779404</td>\n",
       "      <td>12.354812</td>\n",
       "    </tr>\n",
       "    <tr>\n",
       "      <th>25</th>\n",
       "      <td>D8</td>\n",
       "      <td>ELB90-D8-1</td>\n",
       "      <td>0.22</td>\n",
       "      <td>1.527511</td>\n",
       "    </tr>\n",
       "    <tr>\n",
       "      <th>26</th>\n",
       "      <td>D8</td>\n",
       "      <td>ELB90-D8-2</td>\n",
       "      <td>0.22</td>\n",
       "      <td>1.527511</td>\n",
       "    </tr>\n",
       "    <tr>\n",
       "      <th>27</th>\n",
       "      <td>D8</td>\n",
       "      <td>ELB90-D8-3</td>\n",
       "      <td>0.22</td>\n",
       "      <td>1.527511</td>\n",
       "    </tr>\n",
       "    <tr>\n",
       "      <th>28</th>\n",
       "      <td>D8</td>\n",
       "      <td>ELB90-D8-4</td>\n",
       "      <td>0.22</td>\n",
       "      <td>1.527511</td>\n",
       "    </tr>\n",
       "    <tr>\n",
       "      <th>29</th>\n",
       "      <td>D8</td>\n",
       "      <td>ELB90-D8-5</td>\n",
       "      <td>0.22</td>\n",
       "      <td>1.527511</td>\n",
       "    </tr>\n",
       "    <tr>\n",
       "      <th>30</th>\n",
       "      <td>D8</td>\n",
       "      <td>tee-N3</td>\n",
       "      <td>0.5833333333333333</td>\n",
       "      <td>4.050218</td>\n",
       "    </tr>\n",
       "    <tr>\n",
       "      <th>31</th>\n",
       "      <td>D9</td>\n",
       "      <td>tee-N3</td>\n",
       "      <td>1.5075</td>\n",
       "      <td>4.651965</td>\n",
       "    </tr>\n",
       "    <tr>\n",
       "      <th>32</th>\n",
       "      <td>D9</td>\n",
       "      <td>ELB90-D9-1</td>\n",
       "      <td>0.22</td>\n",
       "      <td>0.678894</td>\n",
       "    </tr>\n",
       "    <tr>\n",
       "      <th>33</th>\n",
       "      <td>D9</td>\n",
       "      <td>ELB45-D9-1</td>\n",
       "      <td>0.132</td>\n",
       "      <td>0.407336</td>\n",
       "    </tr>\n",
       "    <tr>\n",
       "      <th>34</th>\n",
       "      <td>D9</td>\n",
       "      <td>EXH-VLV-D9</td>\n",
       "      <td>5.833019</td>\n",
       "      <td>18.000000</td>\n",
       "    </tr>\n",
       "    <tr>\n",
       "      <th>35</th>\n",
       "      <td>D10</td>\n",
       "      <td>ELB90-D10-1</td>\n",
       "      <td>0.22</td>\n",
       "      <td>0.169723</td>\n",
       "    </tr>\n",
       "    <tr>\n",
       "      <th>36</th>\n",
       "      <td>D10</td>\n",
       "      <td>ELB90-D10-2</td>\n",
       "      <td>0.22</td>\n",
       "      <td>0.169723</td>\n",
       "    </tr>\n",
       "    <tr>\n",
       "      <th>37</th>\n",
       "      <td>D10</td>\n",
       "      <td>EXH-VLV-D10</td>\n",
       "      <td>15.554718</td>\n",
       "      <td>12.000000</td>\n",
       "    </tr>\n",
       "  </tbody>\n",
       "</table></div>"
      ],
      "text/plain": [
       "<IPython.core.display.HTML object>"
      ]
     },
     "metadata": {},
     "output_type": "display_data"
    }
   ],
   "source": [
    "ja.display_table(duct_network.get_fitting_table())"
   ]
  },
  {
   "cell_type": "markdown",
   "id": "8188e42e-31db-45f0-8915-5bf2db6e2a68",
   "metadata": {},
   "source": [
    "### Flow Paths"
   ]
  },
  {
   "cell_type": "code",
   "execution_count": 35,
   "id": "c9d49ca7-5f4d-4fa3-853f-5354e3306659",
   "metadata": {},
   "outputs": [
    {
     "data": {
      "text/html": [
       "<div class=\"my_table\"><table border=\"1\" class=\"dataframe\">\n",
       "  <thead>\n",
       "    <tr style=\"text-align: right;\">\n",
       "      <th></th>\n",
       "      <th>path</th>\n",
       "      <th>Δp-elev. [Pa]</th>\n",
       "      <th>Δp-dyn. [Pa]</th>\n",
       "      <th>Δp-tot. [Pa]</th>\n",
       "      <th>Δp-deficit [Pa]</th>\n",
       "    </tr>\n",
       "  </thead>\n",
       "  <tbody>\n",
       "    <tr>\n",
       "      <th>0</th>\n",
       "      <td>D3|D4</td>\n",
       "      <td>0.0</td>\n",
       "      <td>58.167471</td>\n",
       "      <td>58.167471</td>\n",
       "      <td>26.701473</td>\n",
       "    </tr>\n",
       "    <tr>\n",
       "      <th>1</th>\n",
       "      <td>D2</td>\n",
       "      <td>0.0</td>\n",
       "      <td>14.455576</td>\n",
       "      <td>14.455576</td>\n",
       "      <td>70.413368</td>\n",
       "    </tr>\n",
       "    <tr>\n",
       "      <th>2</th>\n",
       "      <td>D8|D9</td>\n",
       "      <td>0.0</td>\n",
       "      <td>84.868944</td>\n",
       "      <td>84.868944</td>\n",
       "      <td>0.000000</td>\n",
       "    </tr>\n",
       "    <tr>\n",
       "      <th>3</th>\n",
       "      <td>D8|D10</td>\n",
       "      <td>0.0</td>\n",
       "      <td>67.237249</td>\n",
       "      <td>67.237249</td>\n",
       "      <td>17.631694</td>\n",
       "    </tr>\n",
       "    <tr>\n",
       "      <th>4</th>\n",
       "      <td>D3|D5</td>\n",
       "      <td>0.0</td>\n",
       "      <td>59.327282</td>\n",
       "      <td>59.327282</td>\n",
       "      <td>25.541662</td>\n",
       "    </tr>\n",
       "    <tr>\n",
       "      <th>5</th>\n",
       "      <td>D3|D6</td>\n",
       "      <td>0.0</td>\n",
       "      <td>52.229100</td>\n",
       "      <td>52.229100</td>\n",
       "      <td>32.639843</td>\n",
       "    </tr>\n",
       "    <tr>\n",
       "      <th>6</th>\n",
       "      <td>D3|D7</td>\n",
       "      <td>0.0</td>\n",
       "      <td>56.447925</td>\n",
       "      <td>56.447925</td>\n",
       "      <td>28.421018</td>\n",
       "    </tr>\n",
       "  </tbody>\n",
       "</table></div>"
      ],
      "text/plain": [
       "<IPython.core.display.HTML object>"
      ]
     },
     "metadata": {},
     "output_type": "display_data"
    }
   ],
   "source": [
    "ja.display_table(duct_network.get_flow_path_table())"
   ]
  },
  {
   "cell_type": "markdown",
   "id": "b06ede8e-fd8e-40b6-92cb-91cc4536ac30",
   "metadata": {},
   "source": [
    "## Analyze Unbalanced Duct Network"
   ]
  },
  {
   "cell_type": "code",
   "execution_count": 36,
   "id": "c2c14c7c-96d2-465c-8053-9df769af0ba3",
   "metadata": {},
   "outputs": [],
   "source": [
    "i = duct_network.analyze()"
   ]
  },
  {
   "cell_type": "markdown",
   "id": "a626033c-07ce-4529-a603-09d6cf6aed88",
   "metadata": {},
   "source": [
    "### Duct Table"
   ]
  },
  {
   "cell_type": "code",
   "execution_count": 37,
   "id": "42c14e91-9da1-4da3-badf-a6f996048bed",
   "metadata": {},
   "outputs": [
    {
     "data": {
      "text/html": [
       "<div class=\"my_table\"><table border=\"1\" class=\"dataframe\">\n",
       "  <thead>\n",
       "    <tr style=\"text-align: right;\">\n",
       "      <th></th>\n",
       "      <th>duct ID</th>\n",
       "      <th>L [m]</th>\n",
       "      <th>Deq [mm]</th>\n",
       "      <th>width [mm]</th>\n",
       "      <th>height [mm]</th>\n",
       "      <th>V [m³/h]</th>\n",
       "      <th>v [m/s]</th>\n",
       "      <th>Re</th>\n",
       "      <th>Δp-dyn. [Pa]</th>\n",
       "    </tr>\n",
       "  </thead>\n",
       "  <tbody>\n",
       "    <tr>\n",
       "      <th>0</th>\n",
       "      <td>D3</td>\n",
       "      <td>25.5</td>\n",
       "      <td>160.0</td>\n",
       "      <td>NaN</td>\n",
       "      <td>NaN</td>\n",
       "      <td>-208.724236</td>\n",
       "      <td>2.883637</td>\n",
       "      <td>30527.246748</td>\n",
       "      <td>34.720232</td>\n",
       "    </tr>\n",
       "    <tr>\n",
       "      <th>1</th>\n",
       "      <td>D4</td>\n",
       "      <td>2.2</td>\n",
       "      <td>125.0</td>\n",
       "      <td>NaN</td>\n",
       "      <td>NaN</td>\n",
       "      <td>-55.334486</td>\n",
       "      <td>1.252517</td>\n",
       "      <td>10359.066072</td>\n",
       "      <td>15.771299</td>\n",
       "    </tr>\n",
       "    <tr>\n",
       "      <th>2</th>\n",
       "      <td>D5</td>\n",
       "      <td>4.5</td>\n",
       "      <td>125.0</td>\n",
       "      <td>NaN</td>\n",
       "      <td>NaN</td>\n",
       "      <td>-52.227147</td>\n",
       "      <td>1.182181</td>\n",
       "      <td>9777.347013</td>\n",
       "      <td>14.924510</td>\n",
       "    </tr>\n",
       "    <tr>\n",
       "      <th>3</th>\n",
       "      <td>D6</td>\n",
       "      <td>5.9</td>\n",
       "      <td>125.0</td>\n",
       "      <td>NaN</td>\n",
       "      <td>NaN</td>\n",
       "      <td>-54.553078</td>\n",
       "      <td>1.234829</td>\n",
       "      <td>10212.780134</td>\n",
       "      <td>15.699947</td>\n",
       "    </tr>\n",
       "    <tr>\n",
       "      <th>4</th>\n",
       "      <td>D7</td>\n",
       "      <td>25.4</td>\n",
       "      <td>125.0</td>\n",
       "      <td>NaN</td>\n",
       "      <td>NaN</td>\n",
       "      <td>-46.609526</td>\n",
       "      <td>1.055024</td>\n",
       "      <td>8725.682618</td>\n",
       "      <td>15.224850</td>\n",
       "    </tr>\n",
       "    <tr>\n",
       "      <th>5</th>\n",
       "      <td>D2</td>\n",
       "      <td>3.5</td>\n",
       "      <td>125.0</td>\n",
       "      <td>NaN</td>\n",
       "      <td>NaN</td>\n",
       "      <td>-92.852754</td>\n",
       "      <td>2.101756</td>\n",
       "      <td>17382.791376</td>\n",
       "      <td>49.533580</td>\n",
       "    </tr>\n",
       "    <tr>\n",
       "      <th>6</th>\n",
       "      <td>D8</td>\n",
       "      <td>20.9</td>\n",
       "      <td>125.0</td>\n",
       "      <td>NaN</td>\n",
       "      <td>NaN</td>\n",
       "      <td>120.423009</td>\n",
       "      <td>2.725819</td>\n",
       "      <td>22544.167481</td>\n",
       "      <td>35.502209</td>\n",
       "    </tr>\n",
       "    <tr>\n",
       "      <th>7</th>\n",
       "      <td>D9</td>\n",
       "      <td>10.7</td>\n",
       "      <td>125.0</td>\n",
       "      <td>NaN</td>\n",
       "      <td>NaN</td>\n",
       "      <td>-68.281246</td>\n",
       "      <td>1.545571</td>\n",
       "      <td>12782.804962</td>\n",
       "      <td>14.785051</td>\n",
       "    </tr>\n",
       "    <tr>\n",
       "      <th>8</th>\n",
       "      <td>D10</td>\n",
       "      <td>5.5</td>\n",
       "      <td>125.0</td>\n",
       "      <td>NaN</td>\n",
       "      <td>NaN</td>\n",
       "      <td>52.141764</td>\n",
       "      <td>1.180248</td>\n",
       "      <td>9761.362520</td>\n",
       "      <td>14.606318</td>\n",
       "    </tr>\n",
       "  </tbody>\n",
       "</table></div>"
      ],
      "text/plain": [
       "<IPython.core.display.HTML object>"
      ]
     },
     "metadata": {},
     "output_type": "display_data"
    }
   ],
   "source": [
    "ja.display_table(duct_network.get_duct_table())"
   ]
  },
  {
   "cell_type": "markdown",
   "id": "46086c2e-3d05-441a-a1c8-65e4d8b556d2",
   "metadata": {},
   "source": [
    "### Flow Path Table"
   ]
  },
  {
   "cell_type": "code",
   "execution_count": 38,
   "id": "a69e1573-0503-49b8-9e32-4d23c1f7da22",
   "metadata": {},
   "outputs": [
    {
     "data": {
      "text/html": [
       "<div class=\"my_table\"><table border=\"1\" class=\"dataframe\">\n",
       "  <thead>\n",
       "    <tr style=\"text-align: right;\">\n",
       "      <th></th>\n",
       "      <th>path</th>\n",
       "      <th>Δp-elev. [Pa]</th>\n",
       "      <th>Δp-dyn. [Pa]</th>\n",
       "      <th>Δp-tot. [Pa]</th>\n",
       "      <th>Δp-deficit [Pa]</th>\n",
       "    </tr>\n",
       "  </thead>\n",
       "  <tbody>\n",
       "    <tr>\n",
       "      <th>0</th>\n",
       "      <td>D3|D4</td>\n",
       "      <td>0.0</td>\n",
       "      <td>50.491532</td>\n",
       "      <td>50.491532</td>\n",
       "      <td>0.000000</td>\n",
       "    </tr>\n",
       "    <tr>\n",
       "      <th>1</th>\n",
       "      <td>D2</td>\n",
       "      <td>0.0</td>\n",
       "      <td>49.533580</td>\n",
       "      <td>49.533580</td>\n",
       "      <td>0.957952</td>\n",
       "    </tr>\n",
       "    <tr>\n",
       "      <th>2</th>\n",
       "      <td>D8|D9</td>\n",
       "      <td>0.0</td>\n",
       "      <td>50.287261</td>\n",
       "      <td>50.287261</td>\n",
       "      <td>0.204271</td>\n",
       "    </tr>\n",
       "    <tr>\n",
       "      <th>3</th>\n",
       "      <td>D8|D10</td>\n",
       "      <td>0.0</td>\n",
       "      <td>50.108528</td>\n",
       "      <td>50.108528</td>\n",
       "      <td>0.383004</td>\n",
       "    </tr>\n",
       "    <tr>\n",
       "      <th>4</th>\n",
       "      <td>D3|D5</td>\n",
       "      <td>0.0</td>\n",
       "      <td>49.644743</td>\n",
       "      <td>49.644743</td>\n",
       "      <td>0.846789</td>\n",
       "    </tr>\n",
       "    <tr>\n",
       "      <th>5</th>\n",
       "      <td>D3|D6</td>\n",
       "      <td>0.0</td>\n",
       "      <td>50.420180</td>\n",
       "      <td>50.420180</td>\n",
       "      <td>0.071352</td>\n",
       "    </tr>\n",
       "    <tr>\n",
       "      <th>6</th>\n",
       "      <td>D3|D7</td>\n",
       "      <td>0.0</td>\n",
       "      <td>49.945082</td>\n",
       "      <td>49.945082</td>\n",
       "      <td>0.546450</td>\n",
       "    </tr>\n",
       "  </tbody>\n",
       "</table></div>"
      ],
      "text/plain": [
       "<IPython.core.display.HTML object>"
      ]
     },
     "metadata": {},
     "output_type": "display_data"
    }
   ],
   "source": [
    "ja.display_table(duct_network.get_flow_path_table())"
   ]
  },
  {
   "cell_type": "code",
   "execution_count": null,
   "id": "25c2f98b-d89a-4e2b-a7b8-e4188854f240",
   "metadata": {},
   "outputs": [],
   "source": []
  }
 ],
 "metadata": {
  "kernelspec": {
   "display_name": "Python 3 (ipykernel)",
   "language": "python",
   "name": "python3"
  },
  "language_info": {
   "codemirror_mode": {
    "name": "ipython",
    "version": 3
   },
   "file_extension": ".py",
   "mimetype": "text/x-python",
   "name": "python",
   "nbconvert_exporter": "python",
   "pygments_lexer": "ipython3",
   "version": "3.10.4"
  }
 },
 "nbformat": 4,
 "nbformat_minor": 5
}
