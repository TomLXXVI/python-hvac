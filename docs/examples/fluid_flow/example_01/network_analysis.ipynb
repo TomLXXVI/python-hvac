{
 "cells": [
  {
   "cell_type": "markdown",
   "id": "86d3d582-4184-4b2f-a2dc-c555e1551e30",
   "metadata": {},
   "source": [
    "# Analysis of an Air Exhaust System  "
   ]
  },
  {
   "cell_type": "markdown",
   "id": "10b23a09-88d3-4d84-9cd0-5716e0fe4253",
   "metadata": {},
   "source": [
    "**Imports**"
   ]
  },
  {
   "cell_type": "markdown",
   "id": "233355ea-5d13-4d3d-ba56-a3922328bdba",
   "metadata": {},
   "source": [
    "Module `hvac.fluids.fluid` will raise a `CoolPropWarning` each time one of the properties of a fluid cannot be determined. Especially, the surface tension property, which is only defined for a two-phase mixture, can be the reason why this warning is given frequently. But, as we don't need this property in fluid flow calculations, it is preferable to ignore this warning here to avoid unnecessary warning messages."
   ]
  },
  {
   "cell_type": "code",
   "execution_count": 1,
   "id": "d5b82d9e-cf7b-460d-83b7-82941b1478ce",
   "metadata": {
    "tags": []
   },
   "outputs": [],
   "source": [
    "import warnings\n",
    "from hvac.fluids import CoolPropWarning\n",
    "warnings.filterwarnings('ignore', category=CoolPropWarning)"
   ]
  },
  {
   "cell_type": "code",
   "execution_count": 2,
   "id": "c8624b45-e5d8-43bd-84eb-267c1ac88aa6",
   "metadata": {
    "tags": []
   },
   "outputs": [],
   "source": [
    "import pandas as pd"
   ]
  },
  {
   "cell_type": "code",
   "execution_count": 3,
   "id": "5dd764d0-bbe0-4921-8436-19c1bdea97a7",
   "metadata": {
    "tags": []
   },
   "outputs": [],
   "source": [
    "from hvac import Quantity\n",
    "from hvac.fluids import Fluid\n",
    "from hvac.fluid_flow import (\n",
    "    DuctNetwork,\n",
    "    circular_duct_schedule,\n",
    "    Duct,\n",
    "    Circular\n",
    ")\n",
    "import hvac.fluid_flow.fittings.duct as duct_fittings"
   ]
  },
  {
   "cell_type": "code",
   "execution_count": 4,
   "id": "62a3ba08-366e-4d7d-b309-8ed80e3adf09",
   "metadata": {
    "tags": []
   },
   "outputs": [],
   "source": [
    "Q_ = Quantity"
   ]
  },
  {
   "cell_type": "code",
   "execution_count": 5,
   "id": "ef0e0d40-ca27-4234-be00-fcbd8e7d5410",
   "metadata": {
    "tags": []
   },
   "outputs": [],
   "source": [
    "from IPython.display import display, HTML"
   ]
  },
  {
   "cell_type": "markdown",
   "id": "ec021ea6-3aa9-44b6-bf51-6b2bcaca9122",
   "metadata": {},
   "source": [
    "## Configuration of the Air Exhaust System"
   ]
  },
  {
   "cell_type": "markdown",
   "id": "d68ac920-b25c-438b-a0a2-4ebd95ed2e60",
   "metadata": {},
   "source": [
    "File `network_scheme.pdf`, in the same folder as this notebook, shows a scheme that was prepared for analyzing the duct network. With this scheme at hand, we can create a network configuration table in a spreadsheet program, and then save this spreadsheet with the .csv extension (i.e. a comma-separated-values file). In the code cell below, the network configuration file is loaded into a Pandas DataFrame object for displaying on screen: "
   ]
  },
  {
   "cell_type": "code",
   "execution_count": 6,
   "id": "36456a1a-61a1-413c-b711-7727165fc84b",
   "metadata": {
    "tags": []
   },
   "outputs": [
    {
     "data": {
      "text/html": [
       "<table border=\"1\" class=\"dataframe\">\n",
       "  <thead>\n",
       "    <tr style=\"text-align: right;\">\n",
       "      <th></th>\n",
       "      <th>conduit_ID</th>\n",
       "      <th>start_node_ID</th>\n",
       "      <th>end_node_ID</th>\n",
       "      <th>loop_ID</th>\n",
       "      <th>length</th>\n",
       "      <th>volume_flow_rate</th>\n",
       "      <th>nominal_diameter</th>\n",
       "      <th>fixed_pressure_difference</th>\n",
       "    </tr>\n",
       "  </thead>\n",
       "  <tbody>\n",
       "    <tr>\n",
       "      <th>0</th>\n",
       "      <td>D3</td>\n",
       "      <td>N1</td>\n",
       "      <td>N2</td>\n",
       "      <td>L3</td>\n",
       "      <td>25.5</td>\n",
       "      <td>-222.0</td>\n",
       "      <td>160.0</td>\n",
       "      <td>NaN</td>\n",
       "    </tr>\n",
       "    <tr>\n",
       "      <th>1</th>\n",
       "      <td>D4</td>\n",
       "      <td>N2</td>\n",
       "      <td>N7</td>\n",
       "      <td>(L3, L4)</td>\n",
       "      <td>2.2</td>\n",
       "      <td>-61.0</td>\n",
       "      <td>125.0</td>\n",
       "      <td>NaN</td>\n",
       "    </tr>\n",
       "    <tr>\n",
       "      <th>2</th>\n",
       "      <td>D5</td>\n",
       "      <td>N2</td>\n",
       "      <td>N8</td>\n",
       "      <td>(L4, L5)</td>\n",
       "      <td>4.5</td>\n",
       "      <td>-61.0</td>\n",
       "      <td>125.0</td>\n",
       "      <td>NaN</td>\n",
       "    </tr>\n",
       "    <tr>\n",
       "      <th>3</th>\n",
       "      <td>D6</td>\n",
       "      <td>N2</td>\n",
       "      <td>N9</td>\n",
       "      <td>(L5, L6)</td>\n",
       "      <td>5.9</td>\n",
       "      <td>-50.0</td>\n",
       "      <td>125.0</td>\n",
       "      <td>NaN</td>\n",
       "    </tr>\n",
       "    <tr>\n",
       "      <th>4</th>\n",
       "      <td>D7</td>\n",
       "      <td>N2</td>\n",
       "      <td>N10</td>\n",
       "      <td>L6</td>\n",
       "      <td>25.4</td>\n",
       "      <td>-50.0</td>\n",
       "      <td>125.0</td>\n",
       "      <td>NaN</td>\n",
       "    </tr>\n",
       "    <tr>\n",
       "      <th>5</th>\n",
       "      <td>D2</td>\n",
       "      <td>N1</td>\n",
       "      <td>N6</td>\n",
       "      <td>(L2, L3)</td>\n",
       "      <td>3.5</td>\n",
       "      <td>-50.0</td>\n",
       "      <td>125.0</td>\n",
       "      <td>NaN</td>\n",
       "    </tr>\n",
       "    <tr>\n",
       "      <th>6</th>\n",
       "      <td>D8</td>\n",
       "      <td>N1</td>\n",
       "      <td>N3</td>\n",
       "      <td>L2</td>\n",
       "      <td>20.9</td>\n",
       "      <td>150.0</td>\n",
       "      <td>125.0</td>\n",
       "      <td>NaN</td>\n",
       "    </tr>\n",
       "    <tr>\n",
       "      <th>7</th>\n",
       "      <td>D9</td>\n",
       "      <td>N3</td>\n",
       "      <td>N5</td>\n",
       "      <td>(L1, L2)</td>\n",
       "      <td>10.7</td>\n",
       "      <td>-100.0</td>\n",
       "      <td>125.0</td>\n",
       "      <td>NaN</td>\n",
       "    </tr>\n",
       "    <tr>\n",
       "      <th>8</th>\n",
       "      <td>D10</td>\n",
       "      <td>N3</td>\n",
       "      <td>N4</td>\n",
       "      <td>L1</td>\n",
       "      <td>5.5</td>\n",
       "      <td>50.0</td>\n",
       "      <td>125.0</td>\n",
       "      <td>NaN</td>\n",
       "    </tr>\n",
       "    <tr>\n",
       "      <th>9</th>\n",
       "      <td>D11</td>\n",
       "      <td>N4</td>\n",
       "      <td>N5</td>\n",
       "      <td>L1</td>\n",
       "      <td>NaN</td>\n",
       "      <td>NaN</td>\n",
       "      <td>NaN</td>\n",
       "      <td>0.0</td>\n",
       "    </tr>\n",
       "    <tr>\n",
       "      <th>10</th>\n",
       "      <td>D12</td>\n",
       "      <td>N5</td>\n",
       "      <td>N6</td>\n",
       "      <td>L2</td>\n",
       "      <td>NaN</td>\n",
       "      <td>NaN</td>\n",
       "      <td>NaN</td>\n",
       "      <td>0.0</td>\n",
       "    </tr>\n",
       "    <tr>\n",
       "      <th>11</th>\n",
       "      <td>D13</td>\n",
       "      <td>N10</td>\n",
       "      <td>N9</td>\n",
       "      <td>L6</td>\n",
       "      <td>NaN</td>\n",
       "      <td>NaN</td>\n",
       "      <td>NaN</td>\n",
       "      <td>0.0</td>\n",
       "    </tr>\n",
       "    <tr>\n",
       "      <th>12</th>\n",
       "      <td>D14</td>\n",
       "      <td>N9</td>\n",
       "      <td>N8</td>\n",
       "      <td>L5</td>\n",
       "      <td>NaN</td>\n",
       "      <td>NaN</td>\n",
       "      <td>NaN</td>\n",
       "      <td>0.0</td>\n",
       "    </tr>\n",
       "    <tr>\n",
       "      <th>13</th>\n",
       "      <td>D15</td>\n",
       "      <td>N8</td>\n",
       "      <td>N7</td>\n",
       "      <td>L4</td>\n",
       "      <td>NaN</td>\n",
       "      <td>NaN</td>\n",
       "      <td>NaN</td>\n",
       "      <td>0.0</td>\n",
       "    </tr>\n",
       "    <tr>\n",
       "      <th>14</th>\n",
       "      <td>D16</td>\n",
       "      <td>N7</td>\n",
       "      <td>N6</td>\n",
       "      <td>L3</td>\n",
       "      <td>NaN</td>\n",
       "      <td>NaN</td>\n",
       "      <td>NaN</td>\n",
       "      <td>0.0</td>\n",
       "    </tr>\n",
       "  </tbody>\n",
       "</table>"
      ],
      "text/plain": [
       "<IPython.core.display.HTML object>"
      ]
     },
     "metadata": {},
     "output_type": "display_data"
    }
   ],
   "source": [
    "network_config_table = pd.read_csv('network_config.csv')\n",
    "display(HTML(network_config_table.to_html()))"
   ]
  },
  {
   "cell_type": "markdown",
   "id": "5a62fa44-4e95-4629-ab27-97ee083404c9",
   "metadata": {},
   "source": [
    "The network configuration table has been prepared for analyzing the duct network using the Hardy Cross method. Fact that we are analyzing an existing duct system, implies that we know the length and diameter of each duct in the network. The volume flow rates through the ducts are in fact initial guessed values, which could be e.g. design values demanded by a certain ventilation standard. When volume flow rates are assigned to ducts, care must be taken to respect the physical law of conservation of mass in the nodes of the network.\n",
    "\n",
    "From the scheme it can be seen that the network contains 6 loops. With each loop a positive loop sense is associated, which is conventionally chosen to be the clock-wise sense. In the duct network all air is exhausted through node N1 and air enters the duct system through exhaust valves at nodes N4 to N10. With this information, the sense of direction of air flow in each duct can be determined. In the Hardy Cross method the sense of direction of the air flow in a duct is coupled to the sense of direction of the loop to which the duct belongs. E.g. in duct D10 the sense of direction of the air flow matches with the sense of its loop L1. As such, we've entered the volume flow rate through duct D10 with a positive sign in the network configuration file. On the other hand, the sense of direction of the air flow in duct D7 is opposite to the sense of its loop L6, and therefore we've entered the volume flow rate through duct D7 with a minus sign in the network configuration file. \n",
    "\n",
    "A duct can belong to 2 loops. E.g. duct D4 belongs to loop L3 and to loop L4. In the network configuration file we've entered the loops L3 and L4 between parentheses and separated by a comma (note: the parentheses should not be forgotten!). The sign of the volume flow rate is referred to the sense of the first entered loop. In this example, this is loop L3. As the sense of direction of air flow in duct D4 is opposite to the sense of loop L3, we've entered the volume flow rate through duct D4 with a minus sign.\n",
    "\n",
    "The column names cannot be chosen freely, but the order of the columns is less important, as the csv-file is read using the `csv.DictReader` class. Note that each duct must have a start node and an end node. The program needs this information to find out how ducts are interconnected in the network.\n",
    "\n",
    "Note that all loops in this example of an air exhaust system are actually open loops. E.g. in loop L1 there is in reality no duct present between nodes N4 and N5. However, in the network configuration file we've entered a duct D11 between nodes N4 and N5. Such a fictitious duct, used to close a loop, is also called a \"pseudo duct\". It has no length, no diameter, and there is no air flow through it. In the network configuration file, we leave these cells empty, which is the reason why NaN (\"Not a Number\") was filled in by Pandas, when it read the csv-file from disk into the `DataFrame` object `network_config_table`. On the other hand, there can be a fixed pressure difference between the start and end node of a pseudo duct. In this example nodes N4 to N10 are all at the same pressure (atmospheric pressure), so we've entered 0 in column *fixed_pressure_difference* for each of the pseudo ducts present in the network. For real ducts, column *fixed_pressure_difference* has no meaning and we should leave the cells empty under this column. Should there be a fixed pressure difference between the start and end node of a pseudo duct that isn't zero, we must take care to also add the appropriate sign to this fixed pressure difference. E.g. suppose that node N4 is at a higher pressure than node N5. In that case air would flow from node N4 to node N5, and the sense of direction of this fictitious air flow would be opposite to the sense of loop L1, which is why a minus sign should be added to the value of the fixed pressure difference between node N4 and node N5.  "
   ]
  },
  {
   "cell_type": "markdown",
   "id": "fcf44e12-e59b-4b08-98eb-89de1effca4d",
   "metadata": {},
   "source": [
    "The configuration of the duct network has already been made with a spreadsheet program and the spreadsheet table has been saved in csv-format to the file `network_config.csv`. Now, we need to create a `DuctNetwork` object. Then, the configuration file can be passed to this object. However, before the `DuctNetwork` object can be created, we first need to define the fluid that will flow in this duct system. Obviously, in this case the fluid will be air. We will use dry air at standard conditions:"
   ]
  },
  {
   "cell_type": "code",
   "execution_count": 7,
   "id": "9f28d5b8-4ef3-42e8-878d-8e48437fdbd1",
   "metadata": {
    "tags": []
   },
   "outputs": [],
   "source": [
    "Air = Fluid('Air')\n",
    "standard_air = Air(T=Q_(20, 'degC'), P=Q_(101_325, 'Pa'))"
   ]
  },
  {
   "cell_type": "markdown",
   "id": "1689355a-75ef-408b-b858-984eda1c28e6",
   "metadata": {},
   "source": [
    "Now, we can create the `DuctNetwork` object:"
   ]
  },
  {
   "cell_type": "code",
   "execution_count": 8,
   "id": "7f1feb78-e01a-47c3-9090-e1c790f39d37",
   "metadata": {
    "tags": []
   },
   "outputs": [],
   "source": [
    "duct_network = DuctNetwork.create(\n",
    "    ID='air_exhaust_system',\n",
    "    fluid=standard_air,\n",
    "    wall_roughness=Q_(0.09, 'mm'),\n",
    "    schedule=circular_duct_schedule,\n",
    "    start_node_ID='N1',\n",
    "    units={'volume_flow_rate': 'm ** 3 / hr'}\n",
    ")"
   ]
  },
  {
   "cell_type": "markdown",
   "id": "2434d73e-8ec7-4629-93a6-31c4b9734372",
   "metadata": {},
   "source": [
    "To configure the duct network with ducts, we now load our configuration file into this object:"
   ]
  },
  {
   "cell_type": "code",
   "execution_count": 9,
   "id": "342fa30b-cb25-4c0c-a81f-f2f32fe59234",
   "metadata": {
    "tags": []
   },
   "outputs": [],
   "source": [
    "duct_network.load_from_csv('network_config.csv')"
   ]
  },
  {
   "cell_type": "markdown",
   "id": "4a982eb0-50f2-4b9f-aff9-7aef1ff6545d",
   "metadata": {},
   "source": [
    "We can take a look at the duct network configuration by getting the duct table (which is actually a Pandas DataFrame object):"
   ]
  },
  {
   "cell_type": "code",
   "execution_count": 10,
   "id": "2b222418-061b-401a-8995-bc864a8cb78f",
   "metadata": {
    "tags": []
   },
   "outputs": [
    {
     "data": {
      "text/html": [
       "<table border=\"1\" class=\"dataframe\">\n",
       "  <thead>\n",
       "    <tr style=\"text-align: right;\">\n",
       "      <th></th>\n",
       "      <th>duct ID</th>\n",
       "      <th>L [m]</th>\n",
       "      <th>Deq [mm]</th>\n",
       "      <th>width [mm]</th>\n",
       "      <th>height [mm]</th>\n",
       "      <th>V [m³/h]</th>\n",
       "      <th>v [m/s]</th>\n",
       "      <th>Re</th>\n",
       "      <th>Δp-dyn. [Pa]</th>\n",
       "    </tr>\n",
       "  </thead>\n",
       "  <tbody>\n",
       "    <tr>\n",
       "      <th>0</th>\n",
       "      <td>D3</td>\n",
       "      <td>25.5</td>\n",
       "      <td>160.0</td>\n",
       "      <td>NaN</td>\n",
       "      <td>NaN</td>\n",
       "      <td>-222.0</td>\n",
       "      <td>3.067048</td>\n",
       "      <td>32468.911623</td>\n",
       "      <td>22.179468</td>\n",
       "    </tr>\n",
       "    <tr>\n",
       "      <th>1</th>\n",
       "      <td>D4</td>\n",
       "      <td>2.2</td>\n",
       "      <td>125.0</td>\n",
       "      <td>NaN</td>\n",
       "      <td>NaN</td>\n",
       "      <td>-61.0</td>\n",
       "      <td>1.380758</td>\n",
       "      <td>11419.696484</td>\n",
       "      <td>0.626118</td>\n",
       "    </tr>\n",
       "    <tr>\n",
       "      <th>2</th>\n",
       "      <td>D5</td>\n",
       "      <td>4.5</td>\n",
       "      <td>125.0</td>\n",
       "      <td>NaN</td>\n",
       "      <td>NaN</td>\n",
       "      <td>-61.0</td>\n",
       "      <td>1.380758</td>\n",
       "      <td>11419.696484</td>\n",
       "      <td>1.280697</td>\n",
       "    </tr>\n",
       "    <tr>\n",
       "      <th>3</th>\n",
       "      <td>D6</td>\n",
       "      <td>5.9</td>\n",
       "      <td>125.0</td>\n",
       "      <td>NaN</td>\n",
       "      <td>NaN</td>\n",
       "      <td>-50.0</td>\n",
       "      <td>1.131768</td>\n",
       "      <td>9360.406954</td>\n",
       "      <td>1.182929</td>\n",
       "    </tr>\n",
       "    <tr>\n",
       "      <th>4</th>\n",
       "      <td>D7</td>\n",
       "      <td>25.4</td>\n",
       "      <td>125.0</td>\n",
       "      <td>NaN</td>\n",
       "      <td>NaN</td>\n",
       "      <td>-50.0</td>\n",
       "      <td>1.131768</td>\n",
       "      <td>9360.406954</td>\n",
       "      <td>5.092609</td>\n",
       "    </tr>\n",
       "    <tr>\n",
       "      <th>5</th>\n",
       "      <td>D2</td>\n",
       "      <td>3.5</td>\n",
       "      <td>125.0</td>\n",
       "      <td>NaN</td>\n",
       "      <td>NaN</td>\n",
       "      <td>-50.0</td>\n",
       "      <td>1.131768</td>\n",
       "      <td>9360.406954</td>\n",
       "      <td>0.701737</td>\n",
       "    </tr>\n",
       "    <tr>\n",
       "      <th>6</th>\n",
       "      <td>D8</td>\n",
       "      <td>20.9</td>\n",
       "      <td>125.0</td>\n",
       "      <td>NaN</td>\n",
       "      <td>NaN</td>\n",
       "      <td>150.0</td>\n",
       "      <td>3.395305</td>\n",
       "      <td>28081.220863</td>\n",
       "      <td>29.752488</td>\n",
       "    </tr>\n",
       "    <tr>\n",
       "      <th>7</th>\n",
       "      <td>D9</td>\n",
       "      <td>10.7</td>\n",
       "      <td>125.0</td>\n",
       "      <td>NaN</td>\n",
       "      <td>NaN</td>\n",
       "      <td>-100.0</td>\n",
       "      <td>2.263537</td>\n",
       "      <td>18720.813909</td>\n",
       "      <td>7.335677</td>\n",
       "    </tr>\n",
       "    <tr>\n",
       "      <th>8</th>\n",
       "      <td>D10</td>\n",
       "      <td>5.5</td>\n",
       "      <td>125.0</td>\n",
       "      <td>NaN</td>\n",
       "      <td>NaN</td>\n",
       "      <td>50.0</td>\n",
       "      <td>1.131768</td>\n",
       "      <td>9360.406954</td>\n",
       "      <td>1.102730</td>\n",
       "    </tr>\n",
       "  </tbody>\n",
       "</table>"
      ],
      "text/plain": [
       "<IPython.core.display.HTML object>"
      ]
     },
     "metadata": {},
     "output_type": "display_data"
    }
   ],
   "source": [
    "duct_table = duct_network.get_duct_table()\n",
    "display(HTML(duct_table.to_html()))"
   ]
  },
  {
   "cell_type": "markdown",
   "id": "01f03031-679c-48a3-a0a3-81a8452f16d3",
   "metadata": {},
   "source": [
    "At this point, the duct network is configured, but the ducts don't contain any fittings. The following step is to add the fittings to each duct of the network."
   ]
  },
  {
   "cell_type": "markdown",
   "id": "0e686fdf-ea19-4daa-b544-faca55d5366c",
   "metadata": {},
   "source": [
    "## Adding Fittings to Ducts"
   ]
  },
  {
   "cell_type": "markdown",
   "id": "bff9cf97-7fda-43e6-94f5-86d0d937de88",
   "metadata": {},
   "source": [
    "### Node N1"
   ]
  },
  {
   "cell_type": "markdown",
   "id": "a220ee2f-5166-45a1-9a69-3f2b6115e12a",
   "metadata": {},
   "source": [
    "As shown on the scheme, at node N1 we have a four-legged fitting, where air from duct D8, duct D2, and duct D3 joins and is exhausted through a common duct D1. Note that this common duct D1 was not added to the network configuration file; it is considered to be external to the duct system we want to analyze. In this system all air is exhausted through node N1, which lies on the boundary of our system. To represent the four-legged fitting, we will use 2 tees. One tee connects duct D2 and duct D3 with common duct D1, while the other tee connects duct D2 and duct D8 with the common duct D1. First, we create and configure the common duct:   "
   ]
  },
  {
   "cell_type": "code",
   "execution_count": 11,
   "id": "a61f7962-529b-4d9f-a0c9-b2b723c84d75",
   "metadata": {
    "tags": []
   },
   "outputs": [],
   "source": [
    "duct_D1 = Duct.create(\n",
    "    length=Q_(1, 'm'),\n",
    "    wall_roughness=Q_(0.09, 'mm'),\n",
    "    fluid=standard_air,\n",
    "    cross_section=Circular.create(schedule=circular_duct_schedule),\n",
    "    volume_flow_rate=Q_(422, 'm ** 3 / hr'),\n",
    "    specific_pressure_drop=Q_(0.7, 'Pa / m')\n",
    ")"
   ]
  },
  {
   "cell_type": "markdown",
   "id": "2938bbdb-4a0d-4fb6-a7d2-671a4c7fcc2d",
   "metadata": {},
   "source": [
    "We created the common duct D1 without specifying any diameter, but we specified the volume flow rate through the duct and the specific pressure drop, also indicating that the cross-section of the duct must be circular and that its diameter must be selected from a commercially available duct schedule, in this case `circular_duct_schedule`, which is already included in the `fluid_flow` package, and that we imported at the beginning of this notebook. From this, the diameter of the common duct can be determined:  "
   ]
  },
  {
   "cell_type": "code",
   "execution_count": 12,
   "id": "14ae0f68-3976-4163-95f8-f950e963a389",
   "metadata": {
    "tags": []
   },
   "outputs": [
    {
     "name": "stdout",
     "output_type": "stream",
     "text": [
      "200.0 millimeter\n"
     ]
    }
   ],
   "source": [
    "print(duct_D1.cross_section.internal_diameter)"
   ]
  },
  {
   "cell_type": "markdown",
   "id": "70e1f212-2e33-47d3-9794-d606aea8d3f6",
   "metadata": {},
   "source": [
    "Now we will add the 2 tees at node N1. The first tee will connect duct D2 and duct D3 with common duct D1. Duct D2 will be connected to the straight leg of the tee and duct D3 to the branch leg of the tee:"
   ]
  },
  {
   "cell_type": "code",
   "execution_count": 13,
   "id": "e5bf26c2-8cd2-40ae-b2f5-ef24ac3a7183",
   "metadata": {
    "tags": []
   },
   "outputs": [],
   "source": [
    "tee_N1a = duct_fittings.ConvergingJunctionA10B(\n",
    "    duct_b=duct_network.conduits['D3'],\n",
    "    duct_s=duct_network.conduits['D2'],\n",
    "    duct_c=duct_D1,\n",
    "    ID='TEE-N1-1'\n",
    ")"
   ]
  },
  {
   "cell_type": "markdown",
   "id": "27e101a8-a232-4c65-92e7-0f0849946f8e",
   "metadata": {},
   "source": [
    "As the air from the branch leg and the air from the straight leg joins at the common leg of the tee, the tee is a converging junction. 'A10B' refers to the specific tee fitting. The letter 'A' refers to appendix A of SMACNA *HVAC Systems Duct Design Manual*, and '10B' refers to the fitting loss coefficient table in this appendix.\n",
    "\n",
    "The fitting has now been created, but must still be added to the right ducts. We add the pressure loss across the straight and common leg to straight duct D2 and the pressure loss across the branch leg and common leg to branch duct D3. Therefore, the pressure loss coefficient of the tee must be referred on one hand to the straight leg (`zeta_s`), and on the other hand to the branch leg (`zeta_b`). To add the tee to branch duct D3, we write:  "
   ]
  },
  {
   "cell_type": "code",
   "execution_count": 14,
   "id": "76e7b345-9fb6-4aab-b16e-6a7d98f2b3d4",
   "metadata": {
    "tags": []
   },
   "outputs": [],
   "source": [
    "duct_network.conduits['D3'].add_fitting(\n",
    "    zeta=tee_N1a.zeta_b, \n",
    "    ID=tee_N1a.ID\n",
    ")"
   ]
  },
  {
   "cell_type": "markdown",
   "id": "87dc277c-0440-451b-b19e-8eeca4c69778",
   "metadata": {},
   "source": [
    "And to add the tee to straight duct D2, we write:"
   ]
  },
  {
   "cell_type": "code",
   "execution_count": 15,
   "id": "e01ae96b-0ce1-43df-a83e-7f834ce125e6",
   "metadata": {
    "tags": []
   },
   "outputs": [],
   "source": [
    "duct_network.conduits['D2'].add_fitting(\n",
    "    zeta=tee_N1a.zeta_s, \n",
    "    ID=tee_N1a.ID\n",
    ")"
   ]
  },
  {
   "cell_type": "markdown",
   "id": "15e7960d-f47e-442f-bdd6-a17f27475070",
   "metadata": {},
   "source": [
    "The same must now be done to connect duct D8 and duct D2 with common duct D1. Again, duct D2 is the straight duct, and duct D8 can be considered as the branch duct."
   ]
  },
  {
   "cell_type": "code",
   "execution_count": 16,
   "id": "66ccc2f3-7174-4aa3-90c9-6af289e03d31",
   "metadata": {
    "tags": []
   },
   "outputs": [],
   "source": [
    "tee_N1b = duct_fittings.ConvergingJunctionA10B(\n",
    "    duct_b=duct_network.conduits['D8'],\n",
    "    duct_s=duct_network.conduits['D2'],\n",
    "    duct_c=duct_D1,\n",
    "    ID='TEE-N1-2'\n",
    ")\n",
    "\n",
    "duct_network.conduits['D8'].add_fitting(\n",
    "    zeta=tee_N1b.zeta_b,\n",
    "    ID=tee_N1b.ID\n",
    ")\n",
    "\n",
    "# duct_network.conduits['D2'].add_fitting(\n",
    "#     zeta=tee_N1b.zeta_s,\n",
    "#     ID=tee_N1b.ID\n",
    "# )"
   ]
  },
  {
   "cell_type": "markdown",
   "id": "508e2d3d-b005-491c-ae38-39a0333e58bf",
   "metadata": {},
   "source": [
    "As we already associated a pressure loss with straight duct D2, when connecting it using `tee_N1a`, we commented out the addition of `tee_N1b` to this same duct."
   ]
  },
  {
   "cell_type": "markdown",
   "id": "00811f4b-4079-4c82-b058-289f5c9d46fa",
   "metadata": {},
   "source": [
    "### Duct D2"
   ]
  },
  {
   "cell_type": "markdown",
   "id": "aa66ae68-d048-42eb-a662-42cc6079cea3",
   "metadata": {},
   "source": [
    "Duct D2 contains 2 elbows and 1 exhaust valve."
   ]
  },
  {
   "cell_type": "markdown",
   "id": "563c981c-cdf2-423e-be4b-8f2906b77ee9",
   "metadata": {},
   "source": [
    "To add the 2 elbows, we can use a for-loop:"
   ]
  },
  {
   "cell_type": "code",
   "execution_count": 17,
   "id": "65bc9e45-5a77-4d82-b1fd-d0b238bf24e9",
   "metadata": {
    "tags": []
   },
   "outputs": [],
   "source": [
    "for n in [1, 2]:\n",
    "    elbow = duct_fittings.ElbowA7A(\n",
    "        duct=duct_network.conduits['D2'],\n",
    "        R_on_D=Q_(1, 'frac'),\n",
    "        theta=Q_(90, 'deg'),\n",
    "        ID=f'ELB90-D2-{n}'\n",
    "    )\n",
    "\n",
    "    duct_network.conduits['D2'].add_fitting(\n",
    "        zeta=elbow.zeta,\n",
    "        ID=elbow.ID\n",
    "    )"
   ]
  },
  {
   "cell_type": "markdown",
   "id": "5b02121c-70c7-437b-ac1a-3b6494494e33",
   "metadata": {},
   "source": [
    "The exhaust valve is not included in the duct fittings module. We selected an exhaust valve from a catalog, in which the pressure drop as a function of volume flow rate is specified. For a volume flow rate of 50 m³/h the corresponding pressure drop would be 12 Pa according to the catalog. To create the exhaust valve, we can use the general `DuctFitting` class. Knowing the volume flow rate and pressure drop, the flow coefficient of the exhaust valve can be calculated, and for this we can use the `FlowCoefficient` class. So, to add the exhaust valve to duct D2, we should write the following code:"
   ]
  },
  {
   "cell_type": "code",
   "execution_count": 18,
   "id": "0518012f-a732-4135-89fb-ea6c4af64795",
   "metadata": {
    "tags": []
   },
   "outputs": [],
   "source": [
    "exh_valve_D2 = duct_fittings.DuctFitting(\n",
    "    duct=duct_network.conduits['D2'],\n",
    "    Av=duct_fittings.FlowCoefficient.get_Av(\n",
    "        volume_flow_rate=Q_(50, 'm ** 3 / hr'),\n",
    "        pressure_drop=Q_(12, 'Pa')  # from catalog\n",
    "    ),\n",
    "    ID=\"EXH-VLV-D2\"\n",
    ")\n",
    "\n",
    "duct_network.conduits['D2'].add_fitting(\n",
    "    zeta=exh_valve_D2.zeta,\n",
    "    ID=exh_valve_D2.ID\n",
    ")"
   ]
  },
  {
   "cell_type": "markdown",
   "id": "b4047335-3d8b-48bb-b46b-8b570f11a611",
   "metadata": {},
   "source": [
    "Now we must continue with adding fittings to all of the other ducts in the duct system...To ease this pain a little, we could write a few functions to add frequently used fittings more quickly to a duct."
   ]
  },
  {
   "cell_type": "markdown",
   "id": "fa436558-4cfd-4b3f-a0e8-1cbd2f0a04ff",
   "metadata": {},
   "source": [
    "**Function for adding one or more elbows to a duct:**"
   ]
  },
  {
   "cell_type": "code",
   "execution_count": 19,
   "id": "fb3d03e5-988e-467c-9e3f-977abe77247f",
   "metadata": {
    "tags": []
   },
   "outputs": [],
   "source": [
    "def add_elbow(\n",
    "    conduit_ID: str,\n",
    "    num: int = 1,\n",
    "    angle: int = 90\n",
    ") -> None:\n",
    "    for n in range(1, num + 1):\n",
    "        elbow = duct_fittings.ElbowA7A(\n",
    "            duct=duct_network.conduits[conduit_ID],\n",
    "            R_on_D=Q_(1, 'frac'),\n",
    "            theta=Q_(angle, 'deg'),\n",
    "            ID=f\"ELB{angle}-{conduit_ID}-{n}\"\n",
    "        )\n",
    "\n",
    "        duct_network.conduits[conduit_ID].add_fitting(\n",
    "            zeta=elbow.zeta, \n",
    "            ID=elbow.ID\n",
    "        )"
   ]
  },
  {
   "cell_type": "markdown",
   "id": "1cdd1e49-130e-4fc6-9932-710aa3141345",
   "metadata": {},
   "source": [
    "**Function for adding an exhaust valve to a duct:**"
   ]
  },
  {
   "cell_type": "code",
   "execution_count": 20,
   "id": "e98569f8-38b3-4cba-822f-5a0e108b29dc",
   "metadata": {
    "tags": []
   },
   "outputs": [],
   "source": [
    "def add_exhaust_valve(\n",
    "    conduit_ID: str,\n",
    "    V: float,\n",
    "    dP: float\n",
    ") -> None:\n",
    "    exh_valve = duct_fittings.DuctFitting(\n",
    "        duct=duct_network.conduits[conduit_ID],\n",
    "        Av=duct_fittings.FlowCoefficient.get_Av(\n",
    "            volume_flow_rate=Q_(V, 'm ** 3 / hr'),\n",
    "            pressure_drop=Q_(dP, 'Pa')  # from catalog\n",
    "        ),\n",
    "        ID=f\"EXH-VLV-{conduit_ID}\"\n",
    "    )\n",
    "\n",
    "    duct_network.conduits[conduit_ID].add_fitting(\n",
    "        zeta=exh_valve.zeta, \n",
    "        ID=exh_valve.ID\n",
    "    )"
   ]
  },
  {
   "cell_type": "markdown",
   "id": "3cbf82b6-8c0f-484d-85bd-29c95b16c74a",
   "metadata": {},
   "source": [
    "**Function for adding a multi-junction to a node:**"
   ]
  },
  {
   "cell_type": "code",
   "execution_count": 21,
   "id": "b5a31bc7-0239-49c2-b8d6-7882891ccfde",
   "metadata": {
    "tags": []
   },
   "outputs": [],
   "source": [
    "def add_multi_junction(\n",
    "    node_ID: str,\n",
    "    common_conduit_ID: str,\n",
    "    straight_conduit_ID: str,\n",
    "    branch_conduit_IDs: list[str]\n",
    ") -> None:\n",
    "    for i, branch_conduit_ID in enumerate(branch_conduit_IDs):\n",
    "        tee = duct_fittings.ConvergingJunctionA10B(\n",
    "            duct_c=duct_network.conduits[common_conduit_ID],\n",
    "            duct_b=duct_network.conduits[branch_conduit_ID],\n",
    "            duct_s=duct_network.conduits[straight_conduit_ID],\n",
    "            ID=f'TEE-{node_ID}-{i+1}'\n",
    "        )\n",
    "\n",
    "        duct_network.conduits[branch_conduit_ID].add_fitting(\n",
    "            zeta=tee.zeta_b, \n",
    "            ID=tee.ID\n",
    "        )\n",
    "\n",
    "        if i == 0:\n",
    "            duct_network.conduits[common_conduit_ID].add_fitting(\n",
    "                zeta=tee.zeta_c, \n",
    "                ID=tee.ID\n",
    "            )"
   ]
  },
  {
   "cell_type": "markdown",
   "id": "a18c1eb6-7555-471b-bed4-c15094084969",
   "metadata": {},
   "source": [
    "### Duct D3"
   ]
  },
  {
   "cell_type": "code",
   "execution_count": 22,
   "id": "2b59478c-7d56-4232-8223-5dca019a5dd1",
   "metadata": {},
   "outputs": [],
   "source": [
    "add_elbow(conduit_ID='D3', num=4)"
   ]
  },
  {
   "cell_type": "code",
   "execution_count": 23,
   "id": "41fc9803-75bf-40d7-8551-ece2d39cff1d",
   "metadata": {},
   "outputs": [],
   "source": [
    "add_elbow(conduit_ID='D3', angle=45)"
   ]
  },
  {
   "cell_type": "markdown",
   "id": "d519c9d5-e8ff-4063-a55a-8d1c7488b9a5",
   "metadata": {},
   "source": [
    "### Node N2"
   ]
  },
  {
   "cell_type": "code",
   "execution_count": 24,
   "id": "363bccf4-01a4-44e1-9a07-fa6aad2ee373",
   "metadata": {},
   "outputs": [],
   "source": [
    "add_multi_junction(\n",
    "    node_ID='N2',\n",
    "    common_conduit_ID='D3',\n",
    "    straight_conduit_ID='D7',\n",
    "    branch_conduit_IDs=['D4', 'D5', 'D6']\n",
    ")"
   ]
  },
  {
   "cell_type": "markdown",
   "id": "4a33ccb9-fa58-49e7-a3eb-971def21ef46",
   "metadata": {},
   "source": [
    "### Duct D4"
   ]
  },
  {
   "cell_type": "code",
   "execution_count": 25,
   "id": "f9127ae8-aa37-4bb1-b4fc-d26efb5dd803",
   "metadata": {},
   "outputs": [],
   "source": [
    "add_exhaust_valve(conduit_ID='D4', V=50, dP=12)"
   ]
  },
  {
   "cell_type": "markdown",
   "id": "cb0baa7f-0586-4c8e-8b64-1ad8ecc26538",
   "metadata": {},
   "source": [
    "### Duct D5"
   ]
  },
  {
   "cell_type": "code",
   "execution_count": 26,
   "id": "725c2f49-36a5-4706-92e4-0cf5f1a83994",
   "metadata": {},
   "outputs": [],
   "source": [
    "add_elbow(conduit_ID='D5', num=2)"
   ]
  },
  {
   "cell_type": "code",
   "execution_count": 27,
   "id": "ebd55b4b-2f26-425f-a4ed-021a2e2fa18a",
   "metadata": {},
   "outputs": [],
   "source": [
    "add_exhaust_valve(conduit_ID='D5', V=50, dP=12)"
   ]
  },
  {
   "cell_type": "markdown",
   "id": "2b3639e0-838c-431a-94fd-8f328a989f53",
   "metadata": {},
   "source": [
    "### Duct D6"
   ]
  },
  {
   "cell_type": "code",
   "execution_count": 28,
   "id": "a901ab2d-e849-4fce-a2a1-653666cd031c",
   "metadata": {},
   "outputs": [],
   "source": [
    "add_elbow(conduit_ID='D6', num=2)"
   ]
  },
  {
   "cell_type": "code",
   "execution_count": 29,
   "id": "b982cc38-4567-4bca-a261-7dbf73a915b4",
   "metadata": {},
   "outputs": [],
   "source": [
    "add_exhaust_valve(conduit_ID='D6', V=50, dP=12)"
   ]
  },
  {
   "cell_type": "markdown",
   "id": "f6c566bc-19e9-4edd-90a4-3f7e749023bc",
   "metadata": {},
   "source": [
    "### Duct D7"
   ]
  },
  {
   "cell_type": "code",
   "execution_count": 30,
   "id": "e517ba18-d78d-401c-86c2-ae6c6d801241",
   "metadata": {},
   "outputs": [],
   "source": [
    "add_elbow(conduit_ID='D7', num=2)"
   ]
  },
  {
   "cell_type": "code",
   "execution_count": 31,
   "id": "b30adc4f-66e4-4d79-877e-d0d40335e303",
   "metadata": {},
   "outputs": [],
   "source": [
    "add_exhaust_valve(conduit_ID='D7', V=50, dP=12)"
   ]
  },
  {
   "cell_type": "markdown",
   "id": "bfa0e088-e87e-495e-a997-b7aad9063f32",
   "metadata": {},
   "source": [
    "### Duct D8"
   ]
  },
  {
   "cell_type": "code",
   "execution_count": 32,
   "id": "56a5b6bb-6af8-49ab-a8be-ba707efd518e",
   "metadata": {},
   "outputs": [],
   "source": [
    "add_elbow(conduit_ID='D8', num=5)"
   ]
  },
  {
   "cell_type": "markdown",
   "id": "93822ee9-485e-4667-9bac-2a6f03fe5887",
   "metadata": {},
   "source": [
    "### Node N3"
   ]
  },
  {
   "cell_type": "code",
   "execution_count": 33,
   "id": "d03da9be-5e0f-45aa-ab2a-c212f80d2dd3",
   "metadata": {},
   "outputs": [],
   "source": [
    "add_multi_junction(\n",
    "    node_ID='N3',\n",
    "    common_conduit_ID='D8',\n",
    "    straight_conduit_ID='D10',\n",
    "    branch_conduit_IDs=['D9']\n",
    ")"
   ]
  },
  {
   "cell_type": "markdown",
   "id": "09884187-4a96-4310-83ee-a5f2395036a5",
   "metadata": {},
   "source": [
    "### Duct D9"
   ]
  },
  {
   "cell_type": "code",
   "execution_count": 34,
   "id": "be20c40a-df1b-468b-9125-acf1ea07cbcf",
   "metadata": {},
   "outputs": [],
   "source": [
    "add_elbow(conduit_ID='D9')"
   ]
  },
  {
   "cell_type": "code",
   "execution_count": 35,
   "id": "1201f848-687a-444d-8a04-7caccf363440",
   "metadata": {},
   "outputs": [],
   "source": [
    "add_elbow(conduit_ID='D9', angle=45)"
   ]
  },
  {
   "cell_type": "code",
   "execution_count": 36,
   "id": "d4a8663a-034e-4824-8a07-44da73f860f5",
   "metadata": {},
   "outputs": [],
   "source": [
    "add_exhaust_valve(conduit_ID='D9', V=100, dP=18)"
   ]
  },
  {
   "cell_type": "markdown",
   "id": "e0cfaa83-8bc5-450e-8cd6-b7f03df55010",
   "metadata": {},
   "source": [
    "### Duct D10"
   ]
  },
  {
   "cell_type": "code",
   "execution_count": 37,
   "id": "346ff42e-16ad-4edf-862b-3d485d41759b",
   "metadata": {},
   "outputs": [],
   "source": [
    "add_elbow(conduit_ID='D10', num=2)"
   ]
  },
  {
   "cell_type": "code",
   "execution_count": 38,
   "id": "9c331c5a-bfc7-4244-927f-32f2cf2beb96",
   "metadata": {
    "tags": []
   },
   "outputs": [],
   "source": [
    "add_exhaust_valve(conduit_ID='D10', V=50, dP=12)"
   ]
  },
  {
   "cell_type": "markdown",
   "id": "49e29c97-e26f-441c-857c-33497411eecf",
   "metadata": {},
   "source": [
    "## Duct Network Overview"
   ]
  },
  {
   "cell_type": "markdown",
   "id": "c0d77f0c-c21b-4da4-8593-e30f926272b5",
   "metadata": {},
   "source": [
    "Once all fittings have been added to the ducts, the configuration of the duct network is finished. We can take a look again to the duct table to see that by adding the fittings to the ducts, the pressure losses across the ducts have been changed. It is also possible to get a table with an overview of all the fittings present in the network, together with there pressure loss coefficient (zeta) and associated pressure drop. Finally, we can also get a table showing the different flow paths in the duct system."
   ]
  },
  {
   "cell_type": "markdown",
   "id": "fd151ded-19f4-4f2b-b492-0cd4325eb820",
   "metadata": {},
   "source": [
    "### Duct Table"
   ]
  },
  {
   "cell_type": "code",
   "execution_count": 39,
   "id": "1c367c52-c263-45f9-96aa-d68c0317c057",
   "metadata": {
    "tags": []
   },
   "outputs": [
    {
     "data": {
      "text/html": [
       "<table border=\"1\" class=\"dataframe\">\n",
       "  <thead>\n",
       "    <tr style=\"text-align: right;\">\n",
       "      <th></th>\n",
       "      <th>duct ID</th>\n",
       "      <th>L [m]</th>\n",
       "      <th>Deq [mm]</th>\n",
       "      <th>width [mm]</th>\n",
       "      <th>height [mm]</th>\n",
       "      <th>V [m³/h]</th>\n",
       "      <th>v [m/s]</th>\n",
       "      <th>Re</th>\n",
       "      <th>Δp-dyn. [Pa]</th>\n",
       "    </tr>\n",
       "  </thead>\n",
       "  <tbody>\n",
       "    <tr>\n",
       "      <th>0</th>\n",
       "      <td>D3</td>\n",
       "      <td>25.5</td>\n",
       "      <td>160.0</td>\n",
       "      <td>NaN</td>\n",
       "      <td>NaN</td>\n",
       "      <td>-222.0</td>\n",
       "      <td>3.067048</td>\n",
       "      <td>32468.911623</td>\n",
       "      <td>35.700097</td>\n",
       "    </tr>\n",
       "    <tr>\n",
       "      <th>1</th>\n",
       "      <td>D4</td>\n",
       "      <td>2.2</td>\n",
       "      <td>125.0</td>\n",
       "      <td>NaN</td>\n",
       "      <td>NaN</td>\n",
       "      <td>-61.0</td>\n",
       "      <td>1.380758</td>\n",
       "      <td>11419.696484</td>\n",
       "      <td>19.151601</td>\n",
       "    </tr>\n",
       "    <tr>\n",
       "      <th>2</th>\n",
       "      <td>D5</td>\n",
       "      <td>4.5</td>\n",
       "      <td>125.0</td>\n",
       "      <td>NaN</td>\n",
       "      <td>NaN</td>\n",
       "      <td>-61.0</td>\n",
       "      <td>1.380758</td>\n",
       "      <td>11419.696484</td>\n",
       "      <td>20.311413</td>\n",
       "    </tr>\n",
       "    <tr>\n",
       "      <th>3</th>\n",
       "      <td>D6</td>\n",
       "      <td>5.9</td>\n",
       "      <td>125.0</td>\n",
       "      <td>NaN</td>\n",
       "      <td>NaN</td>\n",
       "      <td>-50.0</td>\n",
       "      <td>1.131768</td>\n",
       "      <td>9360.406954</td>\n",
       "      <td>13.213231</td>\n",
       "    </tr>\n",
       "    <tr>\n",
       "      <th>4</th>\n",
       "      <td>D7</td>\n",
       "      <td>25.4</td>\n",
       "      <td>125.0</td>\n",
       "      <td>NaN</td>\n",
       "      <td>NaN</td>\n",
       "      <td>-50.0</td>\n",
       "      <td>1.131768</td>\n",
       "      <td>9360.406954</td>\n",
       "      <td>17.432056</td>\n",
       "    </tr>\n",
       "    <tr>\n",
       "      <th>5</th>\n",
       "      <td>D2</td>\n",
       "      <td>3.5</td>\n",
       "      <td>125.0</td>\n",
       "      <td>NaN</td>\n",
       "      <td>NaN</td>\n",
       "      <td>-50.0</td>\n",
       "      <td>1.131768</td>\n",
       "      <td>9360.406954</td>\n",
       "      <td>17.572880</td>\n",
       "    </tr>\n",
       "    <tr>\n",
       "      <th>6</th>\n",
       "      <td>D8</td>\n",
       "      <td>20.9</td>\n",
       "      <td>125.0</td>\n",
       "      <td>NaN</td>\n",
       "      <td>NaN</td>\n",
       "      <td>150.0</td>\n",
       "      <td>3.395305</td>\n",
       "      <td>28081.220863</td>\n",
       "      <td>48.156483</td>\n",
       "    </tr>\n",
       "    <tr>\n",
       "      <th>7</th>\n",
       "      <td>D9</td>\n",
       "      <td>10.7</td>\n",
       "      <td>125.0</td>\n",
       "      <td>NaN</td>\n",
       "      <td>NaN</td>\n",
       "      <td>-100.0</td>\n",
       "      <td>2.263537</td>\n",
       "      <td>18720.813909</td>\n",
       "      <td>31.073871</td>\n",
       "    </tr>\n",
       "    <tr>\n",
       "      <th>8</th>\n",
       "      <td>D10</td>\n",
       "      <td>5.5</td>\n",
       "      <td>125.0</td>\n",
       "      <td>NaN</td>\n",
       "      <td>NaN</td>\n",
       "      <td>50.0</td>\n",
       "      <td>1.131768</td>\n",
       "      <td>9360.406954</td>\n",
       "      <td>13.442177</td>\n",
       "    </tr>\n",
       "  </tbody>\n",
       "</table>"
      ],
      "text/plain": [
       "<IPython.core.display.HTML object>"
      ]
     },
     "metadata": {},
     "output_type": "display_data"
    }
   ],
   "source": [
    "duct_table = duct_network.get_duct_table()\n",
    "display(HTML(duct_table.to_html()))"
   ]
  },
  {
   "cell_type": "markdown",
   "id": "d1ab5bc6-feae-4911-819f-058d665849f6",
   "metadata": {},
   "source": [
    "### Fitting Table"
   ]
  },
  {
   "cell_type": "code",
   "execution_count": 40,
   "id": "41e13b41-aebf-47a0-9451-3ae4e1e1c72b",
   "metadata": {
    "tags": []
   },
   "outputs": [
    {
     "data": {
      "text/html": [
       "<table border=\"1\" class=\"dataframe\">\n",
       "  <thead>\n",
       "    <tr style=\"text-align: right;\">\n",
       "      <th></th>\n",
       "      <th>conduit ID</th>\n",
       "      <th>fitting ID</th>\n",
       "      <th>zeta</th>\n",
       "      <th>pressure drop [Pa]</th>\n",
       "    </tr>\n",
       "  </thead>\n",
       "  <tbody>\n",
       "    <tr>\n",
       "      <th>0</th>\n",
       "      <td>D3</td>\n",
       "      <td>TEE-N1-1</td>\n",
       "      <td>1.022194</td>\n",
       "      <td>5.791335</td>\n",
       "    </tr>\n",
       "    <tr>\n",
       "      <th>1</th>\n",
       "      <td>D3</td>\n",
       "      <td>ELB90-D3-1</td>\n",
       "      <td>0.22</td>\n",
       "      <td>1.246430</td>\n",
       "    </tr>\n",
       "    <tr>\n",
       "      <th>2</th>\n",
       "      <td>D3</td>\n",
       "      <td>ELB90-D3-2</td>\n",
       "      <td>0.22</td>\n",
       "      <td>1.246430</td>\n",
       "    </tr>\n",
       "    <tr>\n",
       "      <th>3</th>\n",
       "      <td>D3</td>\n",
       "      <td>ELB90-D3-3</td>\n",
       "      <td>0.22</td>\n",
       "      <td>1.246430</td>\n",
       "    </tr>\n",
       "    <tr>\n",
       "      <th>4</th>\n",
       "      <td>D3</td>\n",
       "      <td>ELB90-D3-4</td>\n",
       "      <td>0.22</td>\n",
       "      <td>1.246430</td>\n",
       "    </tr>\n",
       "    <tr>\n",
       "      <th>5</th>\n",
       "      <td>D3</td>\n",
       "      <td>ELB45-D3-1</td>\n",
       "      <td>0.132</td>\n",
       "      <td>0.747858</td>\n",
       "    </tr>\n",
       "    <tr>\n",
       "      <th>6</th>\n",
       "      <td>D3</td>\n",
       "      <td>TEE-N2-1</td>\n",
       "      <td>0.3522522522522523</td>\n",
       "      <td>1.995717</td>\n",
       "    </tr>\n",
       "    <tr>\n",
       "      <th>7</th>\n",
       "      <td>D4</td>\n",
       "      <td>TEE-N2-1</td>\n",
       "      <td>0.578863</td>\n",
       "      <td>0.664683</td>\n",
       "    </tr>\n",
       "    <tr>\n",
       "      <th>8</th>\n",
       "      <td>D4</td>\n",
       "      <td>EXH-VLV-D4</td>\n",
       "      <td>15.554718</td>\n",
       "      <td>17.860800</td>\n",
       "    </tr>\n",
       "    <tr>\n",
       "      <th>9</th>\n",
       "      <td>D5</td>\n",
       "      <td>TEE-N2-2</td>\n",
       "      <td>0.578863</td>\n",
       "      <td>0.664683</td>\n",
       "    </tr>\n",
       "    <tr>\n",
       "      <th>10</th>\n",
       "      <td>D5</td>\n",
       "      <td>ELB90-D5-1</td>\n",
       "      <td>0.22</td>\n",
       "      <td>0.252616</td>\n",
       "    </tr>\n",
       "    <tr>\n",
       "      <th>11</th>\n",
       "      <td>D5</td>\n",
       "      <td>ELB90-D5-2</td>\n",
       "      <td>0.22</td>\n",
       "      <td>0.252616</td>\n",
       "    </tr>\n",
       "    <tr>\n",
       "      <th>12</th>\n",
       "      <td>D5</td>\n",
       "      <td>EXH-VLV-D5</td>\n",
       "      <td>15.554718</td>\n",
       "      <td>17.860800</td>\n",
       "    </tr>\n",
       "    <tr>\n",
       "      <th>13</th>\n",
       "      <td>D6</td>\n",
       "      <td>TEE-N2-3</td>\n",
       "      <td>-0.400722</td>\n",
       "      <td>-0.309145</td>\n",
       "    </tr>\n",
       "    <tr>\n",
       "      <th>14</th>\n",
       "      <td>D6</td>\n",
       "      <td>ELB90-D6-1</td>\n",
       "      <td>0.22</td>\n",
       "      <td>0.169723</td>\n",
       "    </tr>\n",
       "    <tr>\n",
       "      <th>15</th>\n",
       "      <td>D6</td>\n",
       "      <td>ELB90-D6-2</td>\n",
       "      <td>0.22</td>\n",
       "      <td>0.169723</td>\n",
       "    </tr>\n",
       "    <tr>\n",
       "      <th>16</th>\n",
       "      <td>D6</td>\n",
       "      <td>EXH-VLV-D6</td>\n",
       "      <td>15.554718</td>\n",
       "      <td>12.000000</td>\n",
       "    </tr>\n",
       "    <tr>\n",
       "      <th>17</th>\n",
       "      <td>D7</td>\n",
       "      <td>ELB90-D7-1</td>\n",
       "      <td>0.22</td>\n",
       "      <td>0.169723</td>\n",
       "    </tr>\n",
       "    <tr>\n",
       "      <th>18</th>\n",
       "      <td>D7</td>\n",
       "      <td>ELB90-D7-2</td>\n",
       "      <td>0.22</td>\n",
       "      <td>0.169723</td>\n",
       "    </tr>\n",
       "    <tr>\n",
       "      <th>19</th>\n",
       "      <td>D7</td>\n",
       "      <td>EXH-VLV-D7</td>\n",
       "      <td>15.554718</td>\n",
       "      <td>12.000000</td>\n",
       "    </tr>\n",
       "    <tr>\n",
       "      <th>20</th>\n",
       "      <td>D2</td>\n",
       "      <td>TEE-N1-1</td>\n",
       "      <td>5.874104</td>\n",
       "      <td>4.531696</td>\n",
       "    </tr>\n",
       "    <tr>\n",
       "      <th>21</th>\n",
       "      <td>D2</td>\n",
       "      <td>ELB90-D2-1</td>\n",
       "      <td>0.22</td>\n",
       "      <td>0.169723</td>\n",
       "    </tr>\n",
       "    <tr>\n",
       "      <th>22</th>\n",
       "      <td>D2</td>\n",
       "      <td>ELB90-D2-2</td>\n",
       "      <td>0.22</td>\n",
       "      <td>0.169723</td>\n",
       "    </tr>\n",
       "    <tr>\n",
       "      <th>23</th>\n",
       "      <td>D2</td>\n",
       "      <td>EXH-VLV-D2</td>\n",
       "      <td>15.554718</td>\n",
       "      <td>12.000000</td>\n",
       "    </tr>\n",
       "    <tr>\n",
       "      <th>24</th>\n",
       "      <td>D8</td>\n",
       "      <td>TEE-N1-2</td>\n",
       "      <td>0.967305</td>\n",
       "      <td>6.716223</td>\n",
       "    </tr>\n",
       "    <tr>\n",
       "      <th>25</th>\n",
       "      <td>D8</td>\n",
       "      <td>ELB90-D8-1</td>\n",
       "      <td>0.22</td>\n",
       "      <td>1.527511</td>\n",
       "    </tr>\n",
       "    <tr>\n",
       "      <th>26</th>\n",
       "      <td>D8</td>\n",
       "      <td>ELB90-D8-2</td>\n",
       "      <td>0.22</td>\n",
       "      <td>1.527511</td>\n",
       "    </tr>\n",
       "    <tr>\n",
       "      <th>27</th>\n",
       "      <td>D8</td>\n",
       "      <td>ELB90-D8-3</td>\n",
       "      <td>0.22</td>\n",
       "      <td>1.527511</td>\n",
       "    </tr>\n",
       "    <tr>\n",
       "      <th>28</th>\n",
       "      <td>D8</td>\n",
       "      <td>ELB90-D8-4</td>\n",
       "      <td>0.22</td>\n",
       "      <td>1.527511</td>\n",
       "    </tr>\n",
       "    <tr>\n",
       "      <th>29</th>\n",
       "      <td>D8</td>\n",
       "      <td>ELB90-D8-5</td>\n",
       "      <td>0.22</td>\n",
       "      <td>1.527511</td>\n",
       "    </tr>\n",
       "    <tr>\n",
       "      <th>30</th>\n",
       "      <td>D8</td>\n",
       "      <td>TEE-N3-1</td>\n",
       "      <td>0.5833333333333333</td>\n",
       "      <td>4.050218</td>\n",
       "    </tr>\n",
       "    <tr>\n",
       "      <th>31</th>\n",
       "      <td>D9</td>\n",
       "      <td>TEE-N3-1</td>\n",
       "      <td>1.5075</td>\n",
       "      <td>4.651965</td>\n",
       "    </tr>\n",
       "    <tr>\n",
       "      <th>32</th>\n",
       "      <td>D9</td>\n",
       "      <td>ELB90-D9-1</td>\n",
       "      <td>0.22</td>\n",
       "      <td>0.678894</td>\n",
       "    </tr>\n",
       "    <tr>\n",
       "      <th>33</th>\n",
       "      <td>D9</td>\n",
       "      <td>ELB45-D9-1</td>\n",
       "      <td>0.132</td>\n",
       "      <td>0.407336</td>\n",
       "    </tr>\n",
       "    <tr>\n",
       "      <th>34</th>\n",
       "      <td>D9</td>\n",
       "      <td>EXH-VLV-D9</td>\n",
       "      <td>5.833019</td>\n",
       "      <td>18.000000</td>\n",
       "    </tr>\n",
       "    <tr>\n",
       "      <th>35</th>\n",
       "      <td>D10</td>\n",
       "      <td>ELB90-D10-1</td>\n",
       "      <td>0.22</td>\n",
       "      <td>0.169723</td>\n",
       "    </tr>\n",
       "    <tr>\n",
       "      <th>36</th>\n",
       "      <td>D10</td>\n",
       "      <td>ELB90-D10-2</td>\n",
       "      <td>0.22</td>\n",
       "      <td>0.169723</td>\n",
       "    </tr>\n",
       "    <tr>\n",
       "      <th>37</th>\n",
       "      <td>D10</td>\n",
       "      <td>EXH-VLV-D10</td>\n",
       "      <td>15.554718</td>\n",
       "      <td>12.000000</td>\n",
       "    </tr>\n",
       "  </tbody>\n",
       "</table>"
      ],
      "text/plain": [
       "<IPython.core.display.HTML object>"
      ]
     },
     "metadata": {},
     "output_type": "display_data"
    }
   ],
   "source": [
    "fitting_table = duct_network.get_fitting_table()\n",
    "display(HTML(fitting_table.to_html()))"
   ]
  },
  {
   "cell_type": "markdown",
   "id": "cbcd1b27-5edd-4245-899e-2e6da160b284",
   "metadata": {},
   "source": [
    "### Flow Paths"
   ]
  },
  {
   "cell_type": "code",
   "execution_count": 41,
   "id": "62d52b23-2255-46e5-bbc0-e21d94cb0f0f",
   "metadata": {
    "tags": []
   },
   "outputs": [
    {
     "data": {
      "text/html": [
       "<table border=\"1\" class=\"dataframe\">\n",
       "  <thead>\n",
       "    <tr style=\"text-align: right;\">\n",
       "      <th></th>\n",
       "      <th>path</th>\n",
       "      <th>Δp-elev. [Pa]</th>\n",
       "      <th>Δp-dyn. [Pa]</th>\n",
       "      <th>Δp-tot. [Pa]</th>\n",
       "      <th>Δp-deficit [Pa]</th>\n",
       "    </tr>\n",
       "  </thead>\n",
       "  <tbody>\n",
       "    <tr>\n",
       "      <th>0</th>\n",
       "      <td>D3|D4</td>\n",
       "      <td>0.0</td>\n",
       "      <td>54.851699</td>\n",
       "      <td>54.851699</td>\n",
       "      <td>24.378656</td>\n",
       "    </tr>\n",
       "    <tr>\n",
       "      <th>1</th>\n",
       "      <td>D2</td>\n",
       "      <td>0.0</td>\n",
       "      <td>17.572880</td>\n",
       "      <td>17.572880</td>\n",
       "      <td>61.657474</td>\n",
       "    </tr>\n",
       "    <tr>\n",
       "      <th>2</th>\n",
       "      <td>D8|D9</td>\n",
       "      <td>0.0</td>\n",
       "      <td>79.230355</td>\n",
       "      <td>79.230355</td>\n",
       "      <td>0.000000</td>\n",
       "    </tr>\n",
       "    <tr>\n",
       "      <th>3</th>\n",
       "      <td>D8|D10</td>\n",
       "      <td>0.0</td>\n",
       "      <td>61.598660</td>\n",
       "      <td>61.598660</td>\n",
       "      <td>17.631694</td>\n",
       "    </tr>\n",
       "    <tr>\n",
       "      <th>4</th>\n",
       "      <td>D3|D5</td>\n",
       "      <td>0.0</td>\n",
       "      <td>56.011510</td>\n",
       "      <td>56.011510</td>\n",
       "      <td>23.218845</td>\n",
       "    </tr>\n",
       "    <tr>\n",
       "      <th>5</th>\n",
       "      <td>D3|D6</td>\n",
       "      <td>0.0</td>\n",
       "      <td>48.913328</td>\n",
       "      <td>48.913328</td>\n",
       "      <td>30.317027</td>\n",
       "    </tr>\n",
       "    <tr>\n",
       "      <th>6</th>\n",
       "      <td>D3|D7</td>\n",
       "      <td>0.0</td>\n",
       "      <td>53.132153</td>\n",
       "      <td>53.132153</td>\n",
       "      <td>26.098201</td>\n",
       "    </tr>\n",
       "  </tbody>\n",
       "</table>"
      ],
      "text/plain": [
       "<IPython.core.display.HTML object>"
      ]
     },
     "metadata": {},
     "output_type": "display_data"
    }
   ],
   "source": [
    "flow_path_table = duct_network.get_flow_path_table()\n",
    "display(HTML(flow_path_table.to_html()))"
   ]
  },
  {
   "cell_type": "markdown",
   "id": "3962d4bf-5bf1-4c33-9e39-262cf2ce8c6b",
   "metadata": {},
   "source": [
    "The flow path table identifies a flow path by listing the duct ID's that belong to this path. Next to each path 4 different pressure differences are listed:\n",
    "- 'Δp-elev.' refers to the pressure difference between the start and end node of a path due to elevation, i.e. due to the height difference between the end and start node of the path (aka as gravity or chimney effect).\n",
    "- 'Δp-dyn.' refers to the pressure loss between the start and end node of a path due to fluid flow and fitting losses, i.e. the dynamic pressure difference between the start and end node of the path.\n",
    "- 'Δp-tot.' is the sum of the elevation pressure difference and the dynamic pressure difference. It is also the difference between the total pressure at the start node and the total pressure at the end node of the path, plus any pressure difference added by pumps or fans in the flow path.\n",
    "- 'Δp-deficit.' is the difference between the total pressure difference of the critical flow path and the total pressure difference of the path under consideration. The critical flow path is the flow path with the greatest total pressure difference and for which the pressure difference deficit is evidently zero. \n",
    "\n",
    "The physical law of conservation of energy requires that the pressure difference deficit along each flow path must be zero, as air is taken up by the exhaust air system from the indoor environment (nodes N4 to N10 are all at the same pressure of the indoor environment) and each flow path ends in the same outdoor environment, which is at atmospheric pressure. So, the same pressure difference must exist across each flow path. It is obvious here, that with the initial volume flow rates that we've entered in the network configuration table, the law of conservation of energy is not been obeyed. Consequently, the purpose of analyzing this air exhaust system, is to find the real volume flow rates that will pass through each duct of the network."
   ]
  },
  {
   "cell_type": "markdown",
   "id": "81467f39-096c-40af-8b62-2c922741e6a2",
   "metadata": {},
   "source": [
    "## Analysis of the Unbalanced Duct Network"
   ]
  },
  {
   "cell_type": "markdown",
   "id": "9916d7f7-b12e-47ae-a651-32d2b65f2284",
   "metadata": {},
   "source": [
    "To analyze the fully configured duct network, we just need to call method `analyze` on our `DuctNetwork` instance. As already mentioned, the analysis is done with the method of Hardy Cross. This method uses an iterative solving technique. We can change the default maximum number of iterations and the default tolerance (stop criterion) through parameters `i_max` and `tolerance`, but here we'll accept the default settings:"
   ]
  },
  {
   "cell_type": "code",
   "execution_count": 42,
   "id": "185ebcc7-ad31-4b66-8f52-61724ccc9690",
   "metadata": {
    "tags": []
   },
   "outputs": [
    {
     "data": {
      "text/plain": [
       "15"
      ]
     },
     "execution_count": 42,
     "metadata": {},
     "output_type": "execute_result"
    }
   ],
   "source": [
    "duct_network.analyze()"
   ]
  },
  {
   "cell_type": "markdown",
   "id": "e0827084-2f03-4313-a962-bc2ea615ce46",
   "metadata": {},
   "source": [
    "The output displayed above is the number of iterations that were needed to meet the stop criterion. The default value for the tolerance is 1 Pa, which means that the analyzing routine will terminate when the pressure difference across each loop of the network becomes less than 1 Pa. In fact, the law of conservation of energy requires the pressure difference across each loop to be zero (any point along any loop in the network can have only one pressure or energy value). By making the tolerance smaller, the results will become more exact, but the number of iterations to meet the stop criterion will evidently increase. "
   ]
  },
  {
   "cell_type": "markdown",
   "id": "2c77b1c2-55f3-403f-94e4-974cd541bd9c",
   "metadata": {},
   "source": [
    "**Duct table**<br>\n",
    "From the duct table we can now read the actual volume flow rates in the air exhaust system: "
   ]
  },
  {
   "cell_type": "code",
   "execution_count": 43,
   "id": "e4c8712e-c1f0-46e6-82dc-a25667f93ad1",
   "metadata": {
    "tags": []
   },
   "outputs": [
    {
     "data": {
      "text/html": [
       "<table border=\"1\" class=\"dataframe\">\n",
       "  <thead>\n",
       "    <tr style=\"text-align: right;\">\n",
       "      <th></th>\n",
       "      <th>duct ID</th>\n",
       "      <th>L [m]</th>\n",
       "      <th>Deq [mm]</th>\n",
       "      <th>width [mm]</th>\n",
       "      <th>height [mm]</th>\n",
       "      <th>V [m³/h]</th>\n",
       "      <th>v [m/s]</th>\n",
       "      <th>Re</th>\n",
       "      <th>Δp-dyn. [Pa]</th>\n",
       "    </tr>\n",
       "  </thead>\n",
       "  <tbody>\n",
       "    <tr>\n",
       "      <th>0</th>\n",
       "      <td>D3</td>\n",
       "      <td>25.5</td>\n",
       "      <td>160.0</td>\n",
       "      <td>NaN</td>\n",
       "      <td>NaN</td>\n",
       "      <td>-213.360277</td>\n",
       "      <td>2.947686</td>\n",
       "      <td>31205.297250</td>\n",
       "      <td>33.130157</td>\n",
       "    </tr>\n",
       "    <tr>\n",
       "      <th>1</th>\n",
       "      <td>D4</td>\n",
       "      <td>2.2</td>\n",
       "      <td>125.0</td>\n",
       "      <td>NaN</td>\n",
       "      <td>NaN</td>\n",
       "      <td>-55.499634</td>\n",
       "      <td>1.256255</td>\n",
       "      <td>10389.983139</td>\n",
       "      <td>15.865204</td>\n",
       "    </tr>\n",
       "    <tr>\n",
       "      <th>2</th>\n",
       "      <td>D5</td>\n",
       "      <td>4.5</td>\n",
       "      <td>125.0</td>\n",
       "      <td>NaN</td>\n",
       "      <td>NaN</td>\n",
       "      <td>-54.965770</td>\n",
       "      <td>1.244171</td>\n",
       "      <td>10290.039454</td>\n",
       "      <td>16.517585</td>\n",
       "    </tr>\n",
       "    <tr>\n",
       "      <th>3</th>\n",
       "      <td>D6</td>\n",
       "      <td>5.9</td>\n",
       "      <td>125.0</td>\n",
       "      <td>NaN</td>\n",
       "      <td>NaN</td>\n",
       "      <td>-54.783031</td>\n",
       "      <td>1.240034</td>\n",
       "      <td>10255.829369</td>\n",
       "      <td>15.831187</td>\n",
       "    </tr>\n",
       "    <tr>\n",
       "      <th>4</th>\n",
       "      <td>D7</td>\n",
       "      <td>25.4</td>\n",
       "      <td>125.0</td>\n",
       "      <td>NaN</td>\n",
       "      <td>NaN</td>\n",
       "      <td>-48.111843</td>\n",
       "      <td>1.089029</td>\n",
       "      <td>9006.928519</td>\n",
       "      <td>16.184859</td>\n",
       "    </tr>\n",
       "    <tr>\n",
       "      <th>5</th>\n",
       "      <td>D2</td>\n",
       "      <td>3.5</td>\n",
       "      <td>125.0</td>\n",
       "      <td>NaN</td>\n",
       "      <td>NaN</td>\n",
       "      <td>-84.472422</td>\n",
       "      <td>1.912064</td>\n",
       "      <td>15813.924855</td>\n",
       "      <td>49.929123</td>\n",
       "    </tr>\n",
       "    <tr>\n",
       "      <th>6</th>\n",
       "      <td>D8</td>\n",
       "      <td>20.9</td>\n",
       "      <td>125.0</td>\n",
       "      <td>NaN</td>\n",
       "      <td>NaN</td>\n",
       "      <td>124.167301</td>\n",
       "      <td>2.810573</td>\n",
       "      <td>23245.129360</td>\n",
       "      <td>33.751931</td>\n",
       "    </tr>\n",
       "    <tr>\n",
       "      <th>7</th>\n",
       "      <td>D9</td>\n",
       "      <td>10.7</td>\n",
       "      <td>125.0</td>\n",
       "      <td>NaN</td>\n",
       "      <td>NaN</td>\n",
       "      <td>-70.055318</td>\n",
       "      <td>1.585728</td>\n",
       "      <td>13114.925675</td>\n",
       "      <td>15.540551</td>\n",
       "    </tr>\n",
       "    <tr>\n",
       "      <th>8</th>\n",
       "      <td>D10</td>\n",
       "      <td>5.5</td>\n",
       "      <td>125.0</td>\n",
       "      <td>NaN</td>\n",
       "      <td>NaN</td>\n",
       "      <td>54.111983</td>\n",
       "      <td>1.224845</td>\n",
       "      <td>10130.203685</td>\n",
       "      <td>15.719651</td>\n",
       "    </tr>\n",
       "  </tbody>\n",
       "</table>"
      ],
      "text/plain": [
       "<IPython.core.display.HTML object>"
      ]
     },
     "metadata": {},
     "output_type": "display_data"
    }
   ],
   "source": [
    "duct_table = duct_network.get_duct_table()\n",
    "display(HTML(duct_table.to_html()))"
   ]
  },
  {
   "cell_type": "markdown",
   "id": "b1ffb230-fe64-493c-9742-5c446354844c",
   "metadata": {},
   "source": [
    "**Flow path table**<br>\n",
    "From the flow path table we can verify that the duct network is now balanced. Each flow path has almost the same total pressure difference and the pressure difference deficit of each flow path is nearing to zero. "
   ]
  },
  {
   "cell_type": "code",
   "execution_count": 44,
   "id": "a36db702-0a10-4bba-bd08-1cf64ac9cc6f",
   "metadata": {
    "tags": []
   },
   "outputs": [
    {
     "data": {
      "text/html": [
       "<table border=\"1\" class=\"dataframe\">\n",
       "  <thead>\n",
       "    <tr style=\"text-align: right;\">\n",
       "      <th></th>\n",
       "      <th>path</th>\n",
       "      <th>Δp-elev. [Pa]</th>\n",
       "      <th>Δp-dyn. [Pa]</th>\n",
       "      <th>Δp-tot. [Pa]</th>\n",
       "      <th>Δp-deficit [Pa]</th>\n",
       "    </tr>\n",
       "  </thead>\n",
       "  <tbody>\n",
       "    <tr>\n",
       "      <th>0</th>\n",
       "      <td>D3|D4</td>\n",
       "      <td>0.0</td>\n",
       "      <td>48.995360</td>\n",
       "      <td>48.995360</td>\n",
       "      <td>0.933763</td>\n",
       "    </tr>\n",
       "    <tr>\n",
       "      <th>1</th>\n",
       "      <td>D2</td>\n",
       "      <td>0.0</td>\n",
       "      <td>49.929123</td>\n",
       "      <td>49.929123</td>\n",
       "      <td>0.000000</td>\n",
       "    </tr>\n",
       "    <tr>\n",
       "      <th>2</th>\n",
       "      <td>D8|D9</td>\n",
       "      <td>0.0</td>\n",
       "      <td>49.292482</td>\n",
       "      <td>49.292482</td>\n",
       "      <td>0.636641</td>\n",
       "    </tr>\n",
       "    <tr>\n",
       "      <th>3</th>\n",
       "      <td>D8|D10</td>\n",
       "      <td>0.0</td>\n",
       "      <td>49.471582</td>\n",
       "      <td>49.471582</td>\n",
       "      <td>0.457541</td>\n",
       "    </tr>\n",
       "    <tr>\n",
       "      <th>4</th>\n",
       "      <td>D3|D5</td>\n",
       "      <td>0.0</td>\n",
       "      <td>49.647741</td>\n",
       "      <td>49.647741</td>\n",
       "      <td>0.281382</td>\n",
       "    </tr>\n",
       "    <tr>\n",
       "      <th>5</th>\n",
       "      <td>D3|D6</td>\n",
       "      <td>0.0</td>\n",
       "      <td>48.961344</td>\n",
       "      <td>48.961344</td>\n",
       "      <td>0.967780</td>\n",
       "    </tr>\n",
       "    <tr>\n",
       "      <th>6</th>\n",
       "      <td>D3|D7</td>\n",
       "      <td>0.0</td>\n",
       "      <td>49.315016</td>\n",
       "      <td>49.315016</td>\n",
       "      <td>0.614107</td>\n",
       "    </tr>\n",
       "  </tbody>\n",
       "</table>"
      ],
      "text/plain": [
       "<IPython.core.display.HTML object>"
      ]
     },
     "metadata": {},
     "output_type": "display_data"
    }
   ],
   "source": [
    "flow_path_table = duct_network.get_flow_path_table()\n",
    "display(HTML(flow_path_table.to_html()))"
   ]
  },
  {
   "cell_type": "code",
   "execution_count": null,
   "id": "f7741037-b067-447f-9571-aad4fc9e210b",
   "metadata": {},
   "outputs": [],
   "source": []
  }
 ],
 "metadata": {
  "kernelspec": {
   "display_name": "Python 3 (ipykernel)",
   "language": "python",
   "name": "python3"
  },
  "language_info": {
   "codemirror_mode": {
    "name": "ipython",
    "version": 3
   },
   "file_extension": ".py",
   "mimetype": "text/x-python",
   "name": "python",
   "nbconvert_exporter": "python",
   "pygments_lexer": "ipython3",
   "version": "3.11.0"
  }
 },
 "nbformat": 4,
 "nbformat_minor": 5
}
