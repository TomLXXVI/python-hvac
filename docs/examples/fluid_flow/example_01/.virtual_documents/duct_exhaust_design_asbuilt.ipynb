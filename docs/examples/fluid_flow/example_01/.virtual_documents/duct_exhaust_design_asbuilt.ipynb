from deps import load_packages
load_packages()


import jupyter_addons as ja
ja.set_css()


from hvac import Quantity
from hvac.fluids import Fluid
from hvac.fluid_flow import DuctNetwork, circular_duct_schedule, Duct, Circular
import hvac.fluid_flow.fittings.duct as duct_fittings


Q_ = Quantity


Air = Fluid('Air')
air = Air(T=Q_(20, 'degC'), P=Q_(101_325, 'Pa'))


duct_network = DuctNetwork.create(
    ID='exhaust_system',
    fluid=air,
    wall_roughness=Q_(0.09, 'mm'),
    schedule=circular_duct_schedule,
    start_node_ID='N1',
    units={'volume_flow_rate': 'm ** 3 / hr'}
)


duct_network.load_from_csv('./networks/ex5_duct-exhaust-design_asbuilt.csv')


ja.display_table(duct_network.get_duct_table())


common_duct = Duct.create(
    length=Q_(1, 'm'),
    wall_roughness=Q_(0.09, 'mm'),
    fluid=air,
    cross_section=Circular.create(schedule=circular_duct_schedule),
    volume_flow_rate=Q_(422, 'm ** 3 / hr'),
    specific_pressure_drop=Q_(0.7, 'Pa / m')
)


tee_N1a = duct_fittings.ConvergingJunctionA10B(
    duct_b=duct_network.conduits['D3'],
    duct_c=common_duct,
    duct_s=duct_network.conduits['D2'],
    ID='tee-N1a'
)
duct_network.conduits['D3'].add_fitting(zeta=tee_N1a.zeta_b, ID=tee_N1a.ID)
duct_network.conduits['D2'].add_fitting(zeta=tee_N1a.zeta_s, ID=tee_N1a.ID)


tee_N1b = duct_fittings.ConvergingJunctionA10B(
    duct_b=duct_network.conduits['D8'],
    duct_c=common_duct,
    duct_s=duct_network.conduits['D2'],
    ID='tee-N1b'
)
duct_network.conduits['D8'].add_fitting(zeta=tee_N1b.zeta_b, ID=tee_N1b.ID)


for n in [1, 2]:
    elbow90 = duct_fittings.ElbowA7A(
        duct=duct_network.conduits['D2'],
        R_on_D=Q_(1, 'frac'),
        theta=Q_(90, 'deg'),
        ID=f"ELB90-D2-{n}"
    )
    duct_network.conduits['D2'].add_fitting(zeta=elbow90.zeta, ID=elbow90.ID)


exh_valve_D2 = duct_fittings.DuctFitting(
    duct=duct_network.conduits['D2'],
    Av=duct_fittings.FlowCoefficient.get_Av(
        volume_flow_rate=Q_(50, 'm ** 3 / hr'),
        pressure_drop=Q_(12, 'Pa')  # from catalog
    ),
    ID="EXH-VLV-D2"
)
duct_network.conduits['D2'].add_fitting(zeta=exh_valve_D2.zeta, ID=exh_valve_D2.ID)


for n in [1, 2, 3, 4]:
    elbow90 = duct_fittings.ElbowA7A(
        duct=duct_network.conduits['D3'],
        R_on_D=Q_(1, 'frac'),
        theta=Q_(90, 'deg'),
        ID=f"ELB90-D3-{n}"
    )
    duct_network.conduits['D3'].add_fitting(zeta=elbow90.zeta, ID=elbow90.ID)


for n in [1]:
    elbow45 = duct_fittings.ElbowA7A(
        duct=duct_network.conduits['D3'],
        R_on_D=Q_(1, 'frac'),
        theta=Q_(45, 'deg'),
        ID=f"ELB45-D3-{n}"
    )
    duct_network.conduits['D3'].add_fitting(zeta=elbow45.zeta, ID=elbow45.ID)


tee_N2a = duct_fittings.ConvergingJunctionA10B(
    duct_b=duct_network.conduits['D4'],
    duct_c=duct_network.conduits['D3'],
    duct_s=duct_network.conduits['D7'],
    ID='tee-N2a'
)
duct_network.conduits['D4'].add_fitting(zeta=tee_N2a.zeta_b, ID=tee_N2a.ID)
duct_network.conduits['D3'].add_fitting(zeta=tee_N2a.zeta_c, ID=tee_N2a.ID)


tee_N2b = duct_fittings.ConvergingJunctionA10B(
    duct_b=duct_network.conduits['D5'],
    duct_c=duct_network.conduits['D3'],
    duct_s=duct_network.conduits['D7'],
    ID='tee-N2b'
)
duct_network.conduits['D5'].add_fitting(zeta=tee_N2b.zeta_b, ID=tee_N2b.ID)


tee_N2c = duct_fittings.ConvergingJunctionA10B(
    duct_b=duct_network.conduits['D6'],
    duct_c=duct_network.conduits['D3'],
    duct_s=duct_network.conduits['D7'],
    ID='tee-N2c'
)
duct_network.conduits['D6'].add_fitting(zeta=tee_N2c.zeta_b, ID=tee_N2c.ID)


exh_valve_D4 = duct_fittings.DuctFitting(
    duct=duct_network.conduits['D4'],
    Av=duct_fittings.FlowCoefficient.get_Av(
        volume_flow_rate=Q_(50, 'm ** 3 / hr'),
        pressure_drop=Q_(12, 'Pa')  # from catalog
    ),
    ID="EXH-VLV-D4"
)
duct_network.conduits['D4'].add_fitting(zeta=exh_valve_D4.zeta, ID=exh_valve_D4.ID)


for n in [1, 2]:
    elbow90 = duct_fittings.ElbowA7A(
        duct=duct_network.conduits['D5'],
        R_on_D=Q_(1, 'frac'),
        theta=Q_(90, 'deg'),
        ID=f"ELB90-D5-{n}"
    )
    duct_network.conduits['D5'].add_fitting(zeta=elbow90.zeta, ID=elbow90.ID)


exh_valve_D5 = duct_fittings.DuctFitting(
    duct=duct_network.conduits['D5'],
    Av=duct_fittings.FlowCoefficient.get_Av(
        volume_flow_rate=Q_(50, 'm ** 3 / hr'),
        pressure_drop=Q_(12, 'Pa')  # from catalog
    ),
    ID="EXH-VLV-D5"
)
duct_network.conduits['D5'].add_fitting(zeta=exh_valve_D5.zeta, ID=exh_valve_D5.ID)


for n in [1, 2]:
    elbow90 = duct_fittings.ElbowA7A(
        duct=duct_network.conduits['D6'],
        R_on_D=Q_(1, 'frac'),
        theta=Q_(90, 'deg'),
        ID=f"ELB90-D6-{n}"
    )
    duct_network.conduits['D6'].add_fitting(zeta=elbow90.zeta, ID=elbow90.ID)


exh_valve_D6 = duct_fittings.DuctFitting(
    duct=duct_network.conduits['D6'],
    Av=duct_fittings.FlowCoefficient.get_Av(
        volume_flow_rate=Q_(50, 'm ** 3 / hr'),
        pressure_drop=Q_(12, 'Pa')  # from catalog
    ),
    ID="EXH-VLV-D6"
)
duct_network.conduits['D6'].add_fitting(zeta=exh_valve_D6.zeta, ID=exh_valve_D6.ID)


for n in [1, 2]:
    elbow90 = duct_fittings.ElbowA7A(
        duct=duct_network.conduits['D7'],
        R_on_D=Q_(1, 'frac'),
        theta=Q_(90, 'deg'),
        ID=f"ELB90-D7-{n}"
    )
    duct_network.conduits['D7'].add_fitting(zeta=elbow90.zeta, ID=elbow90.ID)


exh_valve_D7 = duct_fittings.DuctFitting(
    duct=duct_network.conduits['D7'],
    Av=duct_fittings.FlowCoefficient.get_Av(
        volume_flow_rate=Q_(50, 'm ** 3 / hr'),
        pressure_drop=Q_(12, 'Pa')  # from catalog
    ),
    ID="EXH-VLV-D7"
)
duct_network.conduits['D7'].add_fitting(zeta=exh_valve_D7.zeta, ID=exh_valve_D7.ID)


for n in [1, 2, 3, 4, 5]:
    elbow90 = duct_fittings.ElbowA7A(
        duct=duct_network.conduits['D8'],
        R_on_D=Q_(1, 'frac'),
        theta=Q_(90, 'deg'),
        ID=f"ELB90-D8-{n}"
    )
    duct_network.conduits['D8'].add_fitting(zeta=elbow90.zeta, ID=elbow90.ID)


tee_N3 = duct_fittings.ConvergingJunctionA10B(
    duct_b=duct_network.conduits['D9'],
    duct_c=duct_network.conduits['D8'],
    duct_s=duct_network.conduits['D10'],
    ID='tee-N3'
)
duct_network.conduits['D9'].add_fitting(zeta=tee_N3.zeta_b, ID=tee_N3.ID)
duct_network.conduits['D8'].add_fitting(zeta=tee_N3.zeta_c, ID=tee_N3.ID)


for n in [1]:
    elbow90 = duct_fittings.ElbowA7A(
        duct=duct_network.conduits['D9'],
        R_on_D=Q_(1, 'frac'),
        theta=Q_(90, 'deg'),
        ID=f"ELB90-D9-{n}"
    )
    duct_network.conduits['D9'].add_fitting(zeta=elbow90.zeta, ID=elbow90.ID)


for n in [1]:
    elbow45 = duct_fittings.ElbowA7A(
        duct=duct_network.conduits['D9'],
        R_on_D=Q_(1, 'frac'),
        theta=Q_(45, 'deg'),
        ID=f"ELB45-D9-{n}"
    )
    duct_network.conduits['D9'].add_fitting(zeta=elbow45.zeta, ID=elbow45.ID)


exh_valve_D9 = duct_fittings.DuctFitting(
    duct=duct_network.conduits['D7'],
    Av=duct_fittings.FlowCoefficient.get_Av(
        volume_flow_rate=Q_(100, 'm ** 3 / hr'),
        pressure_drop=Q_(18, 'Pa')  # from catalog
    ),
    ID="EXH-VLV-D9"
)
duct_network.conduits['D9'].add_fitting(zeta=exh_valve_D9.zeta, ID=exh_valve_D9.ID)


for n in [1, 2]:
    elbow90 = duct_fittings.ElbowA7A(
        duct=duct_network.conduits['D10'],
        R_on_D=Q_(1, 'frac'),
        theta=Q_(90, 'deg'),
        ID=f"ELB90-D10-{n}"
    )
    duct_network.conduits['D10'].add_fitting(zeta=elbow90.zeta, ID=elbow90.ID)


exh_valve_D10 = duct_fittings.DuctFitting(
    duct=duct_network.conduits['D10'],
    Av=duct_fittings.FlowCoefficient.get_Av(
        volume_flow_rate=Q_(50, 'm ** 3 / hr'),
        pressure_drop=Q_(12, 'Pa')  # from catalog
    ),
    ID="EXH-VLV-D10"
)
duct_network.conduits['D10'].add_fitting(zeta=exh_valve_D10.zeta, ID=exh_valve_D10.ID)


ja.display_table(duct_network.get_duct_table())


ja.display_table(duct_network.get_fitting_table())


ja.display_table(duct_network.get_flow_path_table())


i = duct_network.analyze()


ja.display_table(duct_network.get_duct_table())


ja.display_table(duct_network.get_flow_path_table())



