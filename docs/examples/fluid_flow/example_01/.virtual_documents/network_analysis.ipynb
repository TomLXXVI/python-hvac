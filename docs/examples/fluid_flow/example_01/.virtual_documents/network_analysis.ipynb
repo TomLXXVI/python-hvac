import warnings
from hvac.fluids import CoolPropWarning
warnings.filterwarnings('ignore', category=CoolPropWarning)


import pandas as pd


from hvac import Quantity
from hvac.fluids import Fluid
from hvac.fluid_flow import (
    DuctNetwork,
    circular_duct_schedule,
    Duct,
    Circular
)
import hvac.fluid_flow.fittings.duct as duct_fittings


Q_ = Quantity


from IPython.display import display, HTML


network_config_table = pd.read_csv('network_config.csv')
display(HTML(network_config_table.to_html()))


Air = Fluid('Air')
standard_air = Air(T=Q_(20, 'degC'), P=Q_(101_325, 'Pa'))


duct_network = DuctNetwork.create(
    ID='air_exhaust_system',
    fluid=standard_air,
    wall_roughness=Q_(0.09, 'mm'),
    schedule=circular_duct_schedule,
    start_node_ID='N1',
    units={'volume_flow_rate': 'm ** 3 / hr'}
)


duct_network.load_from_csv('network_config.csv')


duct_table = duct_network.get_duct_table()
display(HTML(duct_table.to_html()))


duct_D1 = Duct.create(
    length=Q_(1, 'm'),
    wall_roughness=Q_(0.09, 'mm'),
    fluid=standard_air,
    cross_section=Circular.create(schedule=circular_duct_schedule),
    volume_flow_rate=Q_(422, 'm ** 3 / hr'),
    specific_pressure_drop=Q_(0.7, 'Pa / m')
)    


print(duct_D1.cross_section.internal_diameter)


tee_N1a = duct_fittings.ConvergingJunctionA10B(
    duct_b=duct_network.conduits['D3'],
    duct_s=duct_network.conduits['D2'],
    duct_c=duct_D1,
    ID='TEE-N1-1'
)


duct_network.conduits['D3'].add_fitting(
    zeta=tee_N1a.zeta_b, 
    ID=tee_N1a.ID
)


duct_network.conduits['D2'].add_fitting(
    zeta=tee_N1a.zeta_s, 
    ID=tee_N1a.ID
)


tee_N1b = duct_fittings.ConvergingJunctionA10B(
    duct_b=duct_network.conduits['D8'],
    duct_s=duct_network.conduits['D2'],
    duct_c=duct_D1,
    ID='TEE-N1-2'
)

duct_network.conduits['D8'].add_fitting(
    zeta=tee_N1b.zeta_b,
    ID=tee_N1b.ID
)

# duct_network.conduits['D2'].add_fitting(
#     zeta=tee_N1b.zeta_s,
#     ID=tee_N1b.ID
# )


for n in [1, 2]:
    elbow = duct_fittings.ElbowA7A(
        duct=duct_network.conduits['D2'],
        R_on_D=Q_(1, 'frac'),
        theta=Q_(90, 'deg'),
        ID=f'ELB90-D2-{n}'
    )
    
    duct_network.conduits['D2'].add_fitting(
        zeta=elbow.zeta,
        ID=elbow.ID
    )


exh_valve_D2 = duct_fittings.DuctFitting(
    duct=duct_network.conduits['D2'],
    Av=duct_fittings.FlowCoefficient.get_Av(
        volume_flow_rate=Q_(50, 'm ** 3 / hr'),
        pressure_drop=Q_(12, 'Pa')  # from catalog
    ),
    ID="EXH-VLV-D2"
)

duct_network.conduits['D2'].add_fitting(
    zeta=exh_valve_D2.zeta, 
    ID=exh_valve_D2.ID
)


def add_elbow(
    conduit_ID: str, 
    num: int = 1, 
    angle: int = 90
) -> None:
    for n in range(1, num + 1):
        elbow = duct_fittings.ElbowA7A(
            duct=duct_network.conduits[conduit_ID],
            R_on_D=Q_(1, 'frac'),
            theta=Q_(angle, 'deg'),
            ID=f"ELB{angle}-{conduit_ID}-{n}"
        )

        duct_network.conduits[conduit_ID].add_fitting(
            zeta=elbow.zeta, 
            ID=elbow.ID
        )


def add_exhaust_valve(
    conduit_ID: str, 
    V: float, 
    dP: float
) -> None:
    exh_valve = duct_fittings.DuctFitting(
    duct=duct_network.conduits[conduit_ID],
    Av=duct_fittings.FlowCoefficient.get_Av(
        volume_flow_rate=Q_(V, 'm ** 3 / hr'),
        pressure_drop=Q_(dP, 'Pa')  # from catalog
        ),
        ID=f"EXH-VLV-{conduit_ID}"
    )

    duct_network.conduits[conduit_ID].add_fitting(
        zeta=exh_valve.zeta, 
        ID=exh_valve.ID
    )


def add_multi_junction(
    node_ID: str,
    common_conduit_ID: str,
    straight_conduit_ID: str,
    branch_conduit_IDs: list[str]
) -> None:
    for i, branch_conduit_ID in enumerate(branch_conduit_IDs):
        tee = duct_fittings.ConvergingJunctionA10B(
            duct_c=duct_network.conduits[common_conduit_ID],
            duct_b=duct_network.conduits[branch_conduit_ID],
            duct_s=duct_network.conduits[straight_conduit_ID],
            ID=f'TEE-{node_ID}-{i+1}'
        )

        duct_network.conduits[branch_conduit_ID].add_fitting(
            zeta=tee.zeta_b, 
            ID=tee.ID
        )
        
        if i == 0:
            duct_network.conduits[common_conduit_ID].add_fitting(
                zeta=tee.zeta_c, 
                ID=tee.ID
            )


add_elbow(conduit_ID='D3', num=4)


add_elbow(conduit_ID='D3', angle=45)


add_multi_junction(
    node_ID='N2',
    common_conduit_ID='D3',
    straight_conduit_ID='D7',
    branch_conduit_IDs=['D4', 'D5', 'D6']
)


add_exhaust_valve(conduit_ID='D4', V=50, dP=12)


add_elbow(conduit_ID='D5', num=2)


add_exhaust_valve(conduit_ID='D5', V=50, dP=12)


add_elbow(conduit_ID='D6', num=2)


add_exhaust_valve(conduit_ID='D6', V=50, dP=12)


add_elbow(conduit_ID='D7', num=2)


add_exhaust_valve(conduit_ID='D7', V=50, dP=12)


add_elbow(conduit_ID='D8', num=5)


add_multi_junction(
    node_ID='N3',
    common_conduit_ID='D8',
    straight_conduit_ID='D10',
    branch_conduit_IDs=['D9']
)


add_elbow(conduit_ID='D9')


add_elbow(conduit_ID='D9', angle=45)


add_exhaust_valve(conduit_ID='D9', V=100, dP=18)


add_elbow(conduit_ID='D10', num=2)


add_exhaust_valve(conduit_ID='D10', V=50, dP=12)


duct_table = duct_network.get_duct_table()
display(HTML(duct_table.to_html()))


fitting_table = duct_network.get_fitting_table()
display(HTML(fitting_table.to_html()))


flow_path_table = duct_network.get_flow_path_table()
display(HTML(flow_path_table.to_html()))


duct_network.analyze()


duct_table = duct_network.get_duct_table()
display(HTML(duct_table.to_html()))


flow_path_table = duct_network.get_flow_path_table()
display(HTML(flow_path_table.to_html()))



